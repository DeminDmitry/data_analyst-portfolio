{
 "cells": [
  {
   "cell_type": "markdown",
   "metadata": {},
   "source": [
    "<div style=\"border:solid green 2px; padding: 20px\"> <h1 style=\"color:green; margin-bottom:20px\">Комментарий ревьюера</h1>\n",
    "\n",
    "Привет! Меня зовут - Сысоева Вера.\n",
    "    \n",
    "Далее в файле мои комментарии ты сможешь найти в ячейках, аналогичных данной ( если рамки комментария зелёные - всё сделано правильно; жёлтые - есть замечания, но не критично; красные - нужно переделать). Не удаляй эти комментарии и постарайся учесть их в ходе выполнения проекта.\n",
    "    \n",
    "Я буду поддерживать версионность комментариев, и при следующих итерациях комментарии будут выделены, как \"Комментраии ревьюера - 2 (3 и.т.д.)\"\n",
    "    \n",
    "Если у тебя есть замечания, возражения и вопросы, ты можшь писать свои комментарии, по возможности выделяй их также цветом (например, синим), чтоб их можно было легко отделить от текста проекта. \n",
    "    \n",
    "Кстати, предлагаю сразу общаться на \"ты\".\n",
    "</div>"
   ]
  },
  {
   "cell_type": "markdown",
   "metadata": {},
   "source": [
    "# Ответ\n",
    "Привет, Вера! Меня зовут Дмитрий! Давай на \"ты\")\n",
    "Для меня это первый проект, в аналитике я новичок. Стараюсь разобраться в материалах и заданиях, но теоретического курса мало для каких-либо выводов. Пока непонятно, насколько детально надо описывать ход мыслей и действий. Я постарался все исправить и дать более подробные комментарии по ходу своих решений. \n",
    "Из проблем - блокнот. Как смог внес изменения, но по выделениям и цветам не получается. Как по мне, он не очень удобен для оформления.\n",
    "И не удалось в цикле почситать число значений по словам для вероятности невозврата кредита. Как итог методом count() пробегал по столбцу и получились громоздкие вычисления. Но зато результат получен)\n"
   ]
  },
  {
   "cell_type": "markdown",
   "metadata": {},
   "source": [
    "<div style=\"border:solid green 2px; padding: 20px\"> <h1 style=\"color:green; margin-bottom:20px\">Комментарий ревьюера - 2</h1>\n",
    "\n",
    "Оформлять текст можно языком Markdown http://ilfire.ru/kompyutery/shpargalka-po-sintaksisu-markdown-markdaun-so-vsemi-samymi-populyarnymi-tegami/\n",
    "    \n",
    "А можно в тех же ячейках с использованием HTML тегов, выделение цветом - это сюда    \n",
    "</div>"
   ]
  },
  {
   "cell_type": "markdown",
   "metadata": {},
   "source": [
    "## Исследование надёжности заёмщиков\n",
    "\n",
    "Заказчик — кредитный отдел банка. Нужно разобраться, влияет ли семейное положение и количество детей клиента на факт погашения кредита в срок. Входные данные от банка — статистика о платёжеспособности клиентов.\n",
    "\n",
    "Результаты исследования будут учтены при построении модели **кредитного скоринга** — специальной системы, которая оценивает способность потенциального заёмщика вернуть кредит банку."
   ]
  },
  {
   "cell_type": "markdown",
   "metadata": {},
   "source": [
    "<div style=\"border:solid green 2px; padding: 20px\"> <h1 style=\"color:green; margin-bottom:20px\">Комментарий ревьюера</h1>\n",
    "\n",
    "Описание целей и задач проекта очень важно, не забудь про эту часть в следующих проектах, когда не будет такого подробного шаблона.\n",
    "    \n",
    "Также удобно вначале следать интерактивное оглавление.\n",
    "    \n",
    "Само оглавление делаешь по такому типу:  \n",
    "1. [Шаг 1. Откроем файл с данными и изучим общую информацию](#step1)  \n",
    "2. [Шаг 2](#step2)  \n",
    "\n",
    "А в заголовках оставляешь метки вот так:  \n",
    "### Шаг 1. Откроем файл с данными и изучим общую информацию <a id=\"step1\"></a>   \n",
    "    \n",
    "    \n",
    "    \n",
    "Это сильно повышает привлекательность проекта.\n",
    "</div>"
   ]
  },
  {
   "cell_type": "markdown",
   "metadata": {},
   "source": [
    "### Шаг 1. Откроем файл с данными и изучим общую информацию. "
   ]
  },
  {
   "cell_type": "code",
   "execution_count": 6,
   "metadata": {},
   "outputs": [
    {
     "name": "stdout",
     "output_type": "stream",
     "text": [
      "<class 'pandas.core.frame.DataFrame'>\n",
      "RangeIndex: 21525 entries, 0 to 21524\n",
      "Data columns (total 12 columns):\n",
      "children            21525 non-null int64\n",
      "days_employed       19351 non-null float64\n",
      "dob_years           21525 non-null int64\n",
      "education           21525 non-null object\n",
      "education_id        21525 non-null int64\n",
      "family_status       21525 non-null object\n",
      "family_status_id    21525 non-null int64\n",
      "gender              21525 non-null object\n",
      "income_type         21525 non-null object\n",
      "debt                21525 non-null int64\n",
      "total_income        19351 non-null float64\n",
      "purpose             21525 non-null object\n",
      "dtypes: float64(2), int64(5), object(5)\n",
      "memory usage: 2.0+ MB\n",
      "Данные по количеству детей в семье: [ 1  0  3  2 -1  4 20  5]\n",
      "Cемейное положение: ['женат / замужем' 'гражданский брак' 'вдовец / вдова' 'в разводе'\n",
      " 'Не женат / не замужем']\n",
      "Задолженности по возврату кредита: [0 1]\n"
     ]
    }
   ],
   "source": [
    "# <импорт библиотеки pandas>\n",
    "import pandas as pd \n",
    "# <чтение файла с данными с сохранением в df>\n",
    "df = pd.read_csv('/datasets/data.csv') \n",
    "#print(df.head(10))\n",
    "df.info()\n",
    "\n",
    "#уникальные данные по количеству детей в семье\n",
    "unique_children = df['children'].unique()\n",
    "print('Данные по количеству детей в семье:',unique_children)\n",
    "\n",
    "#уникальные семейное положение\n",
    "unique_family_status = df['family_status'].unique()\n",
    "print('Cемейное положение:',unique_family_status)\n",
    "\n",
    "#уникальные данные по задолженности по возврату кредита\n",
    "unique_debt = df['debt'].unique()\n",
    "print('Задолженности по возврату кредита:',unique_debt)\n",
    "\n",
    "#уникальные цели получения кредита\n",
    "#unique_purpose = df['purpose'].unique()\n",
    "#print(unique_purpose)\n",
    "\n",
    "#уникальный тип занятости\n",
    "#unique_income_type = df['income_type'].unique()\n",
    "#print(unique_income_type)\n",
    "\n",
    "#df.shape\n",
    "#df.style.format(\"{:.2%}\") 'debt': '{:+.2f}'\n",
    "#df.style.format({'debt': '{:.2%}'})"
   ]
  },
  {
   "cell_type": "code",
   "execution_count": 10,
   "metadata": {},
   "outputs": [
    {
     "data": {
      "text/plain": [
       "12      NaN\n",
       "26      NaN\n",
       "29      NaN\n",
       "41      NaN\n",
       "55      NaN\n",
       "         ..\n",
       "21489   NaN\n",
       "21495   NaN\n",
       "21497   NaN\n",
       "21502   NaN\n",
       "21510   NaN\n",
       "Name: total_income, Length: 2174, dtype: float64"
      ]
     },
     "execution_count": 10,
     "metadata": {},
     "output_type": "execute_result"
    }
   ],
   "source": [
    "df.loc[df['total_income'].isna(),'total_income']"
   ]
  },
  {
   "cell_type": "markdown",
   "metadata": {},
   "source": [
    "### Вывод"
   ]
  },
  {
   "cell_type": "markdown",
   "metadata": {},
   "source": [
    "В данных по количеству детей в семье присутствуют значения '-1' и '20', что является неправдоподомным.\n",
    "days_employed — общий трудовой стаж в днях данные в столбце как положительные, так и отрицательные. На анализ данных не влияют. Данный столбец не трогаем.\n",
    "total_income — ежемесячный доход отсутствуют значения (около 10%)\n",
    "\n",
    "\n",
    "<div style=\"border:solid green 2px; padding: 20px\"> <h1 style=\"color:green; margin-bottom:20px\">Комментарий ревьюера</h1>\n",
    "\n",
    "Отлично, ты все верно отметил. Правильно использованы info() и unique, можно переходить к предобработке\n",
    "    \n",
    "Для просмотра содержимого всех столбцов можно было unique пройти в цикле\n",
    "    \n",
    "Отлично, что ты посчитал процент пропусков\n",
    "</div>"
   ]
  },
  {
   "cell_type": "markdown",
   "metadata": {},
   "source": [
    "Шаг 2. Предобработка данных"
   ]
  },
  {
   "cell_type": "markdown",
   "metadata": {},
   "source": [
    "### Шаг 2. Обработываем пропуски"
   ]
  },
  {
   "cell_type": "code",
   "execution_count": 3,
   "metadata": {},
   "outputs": [
    {
     "name": "stdout",
     "output_type": "stream",
     "text": [
      "Медианное значение трудового стажа в днях -1203.369528770489\n",
      "    children  days_employed  dob_years education  education_id  \\\n",
      "0          1   -8437.673028         42    высшее             0   \n",
      "1          1   -4024.803754         36   среднее             1   \n",
      "2          0   -5623.422610         33   Среднее             1   \n",
      "3          3   -4124.747207         32   среднее             1   \n",
      "4          0  340266.072047         53   среднее             1   \n",
      "..       ...            ...        ...       ...           ...   \n",
      "95         0    -541.832241         51    высшее             0   \n",
      "96         0       0.000000         44   СРЕДНЕЕ             1   \n",
      "97         0       0.000000         47    высшее             0   \n",
      "98         0  364906.205736         54    высшее             0   \n",
      "99         0  346541.618895          0   Среднее             1   \n",
      "\n",
      "       family_status  family_status_id gender income_type  debt  \\\n",
      "0    женат / замужем                 0      F   сотрудник     0   \n",
      "1    женат / замужем                 0      F   сотрудник     0   \n",
      "2    женат / замужем                 0      M   сотрудник     0   \n",
      "3    женат / замужем                 0      M   сотрудник     0   \n",
      "4   гражданский брак                 1      F   пенсионер     0   \n",
      "..               ...               ...    ...         ...   ...   \n",
      "95   женат / замужем                 0      F   сотрудник     0   \n",
      "96   женат / замужем                 0      F   сотрудник     0   \n",
      "97   женат / замужем                 0      F   сотрудник     0   \n",
      "98   женат / замужем                 0      F   пенсионер     0   \n",
      "99   женат / замужем                 0      F   пенсионер     0   \n",
      "\n",
      "     total_income                     purpose  \n",
      "0   253875.639453               покупка жилья  \n",
      "1   112080.014102     приобретение автомобиля  \n",
      "2   145885.952297               покупка жилья  \n",
      "3   267628.550329  дополнительное образование  \n",
      "4   158616.077870             сыграть свадьбу  \n",
      "..            ...                         ...  \n",
      "95   94187.878082                  автомобиль  \n",
      "96            NaN  покупка жилой недвижимости  \n",
      "97            NaN      профильное образование  \n",
      "98  199707.298524     покупка жилья для сдачи  \n",
      "99   71291.522491                  автомобиль  \n",
      "\n",
      "[100 rows x 12 columns]\n",
      "Медианное значение ежемесячного дохода 145017.93753253992\n",
      "<class 'pandas.core.frame.DataFrame'>\n",
      "RangeIndex: 21525 entries, 0 to 21524\n",
      "Data columns (total 12 columns):\n",
      "children            21525 non-null int64\n",
      "days_employed       21525 non-null float64\n",
      "dob_years           21525 non-null int64\n",
      "education           21525 non-null object\n",
      "education_id        21525 non-null int64\n",
      "family_status       21525 non-null object\n",
      "family_status_id    21525 non-null int64\n",
      "gender              21525 non-null object\n",
      "income_type         21525 non-null object\n",
      "debt                21525 non-null int64\n",
      "total_income        21525 non-null float64\n",
      "purpose             21525 non-null object\n",
      "dtypes: float64(2), int64(5), object(5)\n",
      "memory usage: 2.0+ MB\n"
     ]
    }
   ],
   "source": [
    "#общий трудовой стаж в днях\n",
    "#пропуски будем заменять на среднее значение\n",
    "days_employed_avg = df['days_employed'].median()\n",
    "print('Медианное значение трудового стажа в днях',days_employed_avg)\n",
    "#df['days_employed'] = df['days_employed'].fillna(value=days_employed_avg)\n",
    "df['days_employed'] = df['days_employed'].fillna(0)\n",
    "print(df.head(100))\n",
    "#df.info()\n",
    "\n",
    "#ежемесячный доход\n",
    "#пропуски будем заменять на среднее значение\n",
    "total_income_avg = df['total_income'].median()\n",
    "print('Медианное значение ежемесячного дохода',total_income_avg)\n",
    "df['total_income'] = df['total_income'].fillna(0)\n",
    "#print(df.head(10))\n",
    "df.info()"
   ]
  },
  {
   "cell_type": "code",
   "execution_count": null,
   "metadata": {},
   "outputs": [],
   "source": []
  },
  {
   "cell_type": "markdown",
   "metadata": {},
   "source": [
    "### Вывод"
   ]
  },
  {
   "cell_type": "markdown",
   "metadata": {},
   "source": [
    "Таблица полностью заполнена. Приступаем к обработке данных по количеству детей в семье\n",
    "\n",
    "\n",
    "<div style=\"border:solid gold 2px; padding: 20px\"> <h1 style=\"color:gold; margin-bottom:20px\">Комментарий ревьюера</h1>\n",
    "\n",
    "пропусков нет - это хорошо, плохо, что ты это никак не прокомментировал. Да и заполнение средним - не самый лучший вариант. А вот если бы ты сам для себя обосновал выбор среднего как способа заполнения, то возможно пришел бы к тому же выводу. \n",
    "    \n",
    "Стаж и доход подвержены выбросам, а значит лучше для восстановления данных выбрать медиану\n",
    "</div>"
   ]
  },
  {
   "cell_type": "markdown",
   "metadata": {},
   "source": [
    "# Ответ \n",
    "Применяем медианное значение. \n",
    "В теории применение этих значений упоминается вскользь, поэтому мне непонятно, в каких ситуациях надо применять среднее, а в каких медианное. Теперь буду знать.\n",
    "Для значений трудового стажа не влияет, какие значения мы будем использовать, т.к. в ответах на вопросы столбец days_employed не учавствует. \n",
    "\n",
    "<div style=\"border:solid green 2px; padding: 20px\"> <h1 style=\"color:green; margin-bottom:20px\">Комментарий ревьюера - 2</h1>\n",
    "\n",
    "Хорошо, так правильнее\n",
    "</div>"
   ]
  },
  {
   "cell_type": "markdown",
   "metadata": {},
   "source": [
    "### Шаг 3. Заменяем тип данных"
   ]
  },
  {
   "cell_type": "code",
   "execution_count": 3,
   "metadata": {},
   "outputs": [
    {
     "name": "stdout",
     "output_type": "stream",
     "text": [
      "<class 'pandas.core.frame.DataFrame'>\n",
      "Int64Index: 21393 entries, 0 to 21524\n",
      "Data columns (total 12 columns):\n",
      "children            21393 non-null int64\n",
      "days_employed       21393 non-null int64\n",
      "dob_years           21393 non-null int64\n",
      "education           21393 non-null object\n",
      "education_id        21393 non-null int64\n",
      "family_status       21393 non-null object\n",
      "family_status_id    21393 non-null int64\n",
      "gender              21393 non-null object\n",
      "income_type         21393 non-null object\n",
      "debt                21393 non-null int64\n",
      "total_income        21393 non-null int64\n",
      "purpose             21393 non-null object\n",
      "dtypes: int64(7), object(5)\n",
      "memory usage: 2.1+ MB\n"
     ]
    }
   ],
   "source": [
    "# определим уникалые значения столбца - количество детей в семье\n",
    "#print(df['children'].value_counts())\n",
    "# значение -1 относится к ошибочному вводу данных.  Удалим строки содержащие данные числа. 47 строк из 21525 не повлияют на анализ наших данны\n",
    "# значение 20 - относится к ошибочному вводу данных. Удалим строки содержащие данные числа. 76 строк из 214785 не повлияют на анализ наших данных\n",
    "\n",
    "df['days_employed'] = df['days_employed'].astype('int')\n",
    "#df.dtypes\n",
    "df['total_income'] = df['total_income'].astype('int')\n",
    "df.dtypes\n",
    "#print(df)\n",
    "df_c = df[df['children'] >= 0]\n",
    "#df_c.info()\n",
    "df = df_c[df_c['children'] <= 4]\n",
    "df.info()\n"
   ]
  },
  {
   "cell_type": "code",
   "execution_count": null,
   "metadata": {},
   "outputs": [],
   "source": []
  },
  {
   "cell_type": "markdown",
   "metadata": {},
   "source": [
    "### Вывод"
   ]
  },
  {
   "cell_type": "markdown",
   "metadata": {},
   "source": [
    "Значения в таблице соответствуют своим строковым и числовым значениям\n",
    "\n",
    "\n",
    "<div style=\"border:solid gold 2px; padding: 20px\"> <h1 style=\"color:gold; margin-bottom:20px\">Комментарий ревьюера</h1>\n",
    "\n",
    "Типы данных заменены верно\n",
    "    \n",
    "Также аномалии хорошо обработаны, хотя это и не относится к замене типов данных и стоило сделать в другом разделе, например, в предадущем. Подобные аномалии можно считать неявными пропусками.\n",
    "    \n",
    "И опять же недостаточно пояснений и обоснований твоих действий. Старайся не писать пояснения комментариями в коде - это не верно и не соответствует требованиям к оформлению. Комментарии в коде - это твои заметки. Все значимые пояснения нужно делать в отдельных текстовых Markdown-ячейках\n",
    "</div>"
   ]
  },
  {
   "cell_type": "markdown",
   "metadata": {},
   "source": [
    "# Ответ\n",
    "\n",
    "После обработки нашей таблицы на пропуски приступаем к ее дальнейшему изучению:\n",
    "Рассмотрим столбец children:\n",
    "в нем присутствуют значения \"-1\". Скорее всего, они относятся к ошибочному вводу данных.  Удалим строки, содержащие данные числа. 47 строк из 21525 не повлияют на анализ наших данных.\n",
    "Далее в нашем столбце есть значения \"20\". Они относится к ошибочному вводу данных. Удалим строки, содержащие данные числа. 76 строк не повлияют на анализ наших данных\n",
    "Рассмотрим столбец days_employed:\n",
    "Данный столбец относится к float64. Данные с общим трудовым стажем в днях выглядят подозрительно). Присвоим этому столбцу тип int64.\n",
    "Аналогичная ситуация со столбцом total_income — ежемесячный доход. Присвоим этому столбцу тип int64."
   ]
  },
  {
   "cell_type": "markdown",
   "metadata": {},
   "source": [
    "# Ответ_3\n",
    "Уберем аномальные данные с 100% возвратом кредита для заемщиков с 5-ю детьми"
   ]
  },
  {
   "cell_type": "markdown",
   "metadata": {},
   "source": [
    "### Шаг 4. Обработываем дубликаты"
   ]
  },
  {
   "cell_type": "code",
   "execution_count": 4,
   "metadata": {},
   "outputs": [
    {
     "name": "stdout",
     "output_type": "stream",
     "text": [
      "Количество дубликатов:\n",
      "54\n",
      "Сумма по значениям столбца education\n",
      "среднее                13614\n",
      "высшее                  4690\n",
      "СРЕДНЕЕ                  766\n",
      "Среднее                  703\n",
      "неоконченное высшее      665\n",
      "ВЫСШЕЕ                   270\n",
      "Высшее                   268\n",
      "начальное                250\n",
      "Неоконченное высшее       47\n",
      "НЕОКОНЧЕННОЕ ВЫСШЕЕ       29\n",
      "НАЧАЛЬНОЕ                 16\n",
      "Начальное                 15\n",
      "ученая степень             4\n",
      "Ученая степень             1\n",
      "УЧЕНАЯ СТЕПЕНЬ             1\n",
      "Name: education, dtype: int64\n",
      "среднее                15083\n",
      "высшее                  5228\n",
      "неоконченное высшее      741\n",
      "начальное                281\n",
      "ученая степень             6\n",
      "Name: education, dtype: int64\n",
      "Количество дубликатов после обработки столбца education:\n",
      "17\n",
      "Количество дубликатов после обработки дубликатов столбца education:\n",
      "0\n"
     ]
    }
   ],
   "source": [
    "#Проверим на наличие дубликатов столбец purpose\n",
    "\n",
    "#df_new.info()\n",
    "#print ('Дубликатов в таблице:', df.duplicated('purpose').sum())\n",
    "#print(df['purpose'].value_counts())\n",
    "print('Количество дубликатов:')\n",
    "print(df.duplicated().sum())\n",
    "df = df.drop_duplicates().reset_index(drop=True) \n",
    "\n",
    "print('Сумма по значениям столбца education')\n",
    "print(df['education'].value_counts())\n",
    "df['education'] = df['education'].replace('Ученая степень', 'ученая степень')\n",
    "df['education'] = df['education'].replace('УЧЕНАЯ СТЕПЕНЬ', 'ученая степень')\n",
    "df['education'] = df['education'].replace('НАЧАЛЬНОЕ', 'начальное')\n",
    "df['education'] = df['education'].replace('Начальное', 'начальное')\n",
    "df['education'] = df['education'].replace('ВЫСШЕЕ', 'высшее')\n",
    "df['education'] = df['education'].replace('Высшее', 'высшее')\n",
    "df['education'] = df['education'].replace('НЕОКОНЧЕННОЕ ВЫСШЕЕ', 'неоконченное высшее')\n",
    "df['education'] = df['education'].replace('Неоконченное высшее', 'неоконченное высшее')\n",
    "df['education'] = df['education'].replace('СРЕДНЕЕ', 'среднее')\n",
    "df['education'] = df['education'].replace('Среднее', 'среднее')\n",
    "print(df['education'].value_counts())\n",
    "\n",
    "print('Количество дубликатов после обработки столбца education:')\n",
    "print(df.duplicated().sum())\n",
    "\n",
    "df = df.drop_duplicates().reset_index(drop=True) \n",
    "print('Количество дубликатов после обработки дубликатов столбца education:')\n",
    "print(df.duplicated().sum())"
   ]
  },
  {
   "cell_type": "markdown",
   "metadata": {},
   "source": [
    "### Вывод"
   ]
  },
  {
   "cell_type": "markdown",
   "metadata": {},
   "source": [
    "Дубликатов в таблице: 21364\n",
    "Возможно данные заемщиками записываются самостоятельно, для упрощения можно ввести таблицу с целями.\n",
    "\n",
    "\n",
    "<div style=\"border:solid red 2px; padding: 20px\"> <h1 style=\"color:red; margin-bottom:20px\">Комментарий ревьюера</h1>\n",
    "\n",
    "Не верно обработаны дубликаты. Ты посотрел дубли только в одном столбце, а не во всей таблице. Естественно в одном столбце далеко не все значения уникальны. А что можно сказать про всю таблицу? Сколько всего дублей? Каковы источники дбликатов? Что мы сними будем делать?\n",
    "</div>"
   ]
  },
  {
   "cell_type": "markdown",
   "metadata": {},
   "source": [
    "# Ответ\n",
    "Определим одинаковые строки с идентичной информацией методом duplicated(). Поскольку это грубые дубликаты, то есть повторы, полученные скорее всего, при копировании информации, избавимся от них с изменением индексов и удалением старых строк. Новая таблица с данными стала на 54 строки (дубликата) короче.\n",
    "\n",
    "\n",
    "<div style=\"border:solid red 2px; padding: 20px\"> <h1 style=\"color:red; margin-bottom:20px\">Комментарий ревьюера - 2</h1>\n",
    "    \n",
    "Посмотри на столбец education там нужно выполнить определенные преобразования после этих преобразований дублей станет больше.\n",
    "\n",
    "Не стоит выводить голые числа. Делай print и  лучше делать подпись, чтоб было сразу понятно, что означают выводимые числа:\n",
    "    \n",
    "\"Количество дубликатов до удаления: 54\"\n",
    "    \n",
    "\"Количество дубликатов псоле удаления: 0\"\n",
    "\n",
    "</div>"
   ]
  },
  {
   "cell_type": "markdown",
   "metadata": {},
   "source": [
    "### Ответ_2\n",
    "Мы в ручную привели значения уровня образования к следующим записям: среднее / высшее / неоконченное высшее / начальное / ученая степень.\n",
    "У нас появилось 17 строк с идентичной информацией методом. иИзбавимся от них с изменением индексов и удалением старых строк."
   ]
  },
  {
   "cell_type": "markdown",
   "metadata": {},
   "source": [
    "### Шаг 5. Проводим лемматизацию"
   ]
  },
  {
   "cell_type": "code",
   "execution_count": 5,
   "metadata": {},
   "outputs": [
    {
     "name": "stdout",
     "output_type": "stream",
     "text": [
      "Counter({'автомобиль \\n': 967, 'свадьба \\n': 790, 'на   проведение   свадьба \\n': 762, 'сыграть   свадьба \\n': 760, 'операция   с   недвижимость \\n': 671, 'покупка   коммерческий   недвижимость \\n': 658, 'покупка   жилье   для   сдача \\n': 649, 'операция   с   жилье \\n': 646, 'операция   с   коммерческий   недвижимость \\n': 645, 'покупка   жилье \\n': 640, 'жилье \\n': 640, 'покупка   жилье   для   семья \\n': 637, 'недвижимость \\n': 631, 'строительство   собственный   недвижимость \\n': 628, 'операция   со   свой   недвижимость \\n': 622, 'строительство   жилой   недвижимость \\n': 620, 'строительство   недвижимость \\n': 619, 'покупка   свой   жилье \\n': 619, 'покупка   недвижимость \\n': 615, 'ремонт   жилье \\n': 604, 'покупка   жилой   недвижимость \\n': 602, 'на   покупка   свой   автомобиль \\n': 503, 'заниматься   высокий   образование \\n': 495, 'сделка   с   подержанный   автомобиль \\n': 480, 'свой   автомобиль \\n': 473, 'на   покупка   подержать   автомобиль \\n': 471, 'на   покупка   автомобиль \\n': 469, 'приобретение   автомобиль \\n': 459, 'дополнительный   образование \\n': 455, 'сделка   с   автомобиль \\n': 455, 'высокий   образование \\n': 446, 'получение   дополнительный   образование \\n': 444, 'образование \\n': 442, 'получение   образование \\n': 440, 'профильный   образование \\n': 432, 'получение   высокий   образование \\n': 425, 'заниматься   образование \\n': 408})\n"
     ]
    }
   ],
   "source": [
    "from pymystem3 import Mystem\n",
    "m = Mystem() \n",
    "purpose_lem = df['purpose']\n",
    "lemmas = []\n",
    "for row in purpose_lem:\n",
    "    row = ' '.join(m.lemmatize(row))\n",
    "\n",
    "    lemmas.append(row)\n",
    "\n",
    "from collections import Counter\n",
    "print(Counter(lemmas))"
   ]
  },
  {
   "cell_type": "markdown",
   "metadata": {},
   "source": [
    "### Вывод"
   ]
  },
  {
   "cell_type": "markdown",
   "metadata": {},
   "source": [
    "Обработав 21 тысячу дубликатов мы получили 6 основных целей кредитов заемщиков:\n",
    "недвижимость    \n",
    "автомобиль       \n",
    "образование     \n",
    "жилье            \n",
    "строительство    \n",
    "свадьба\n",
    "\n",
    "<div style=\"border:solid green 2px; padding: 20px\"> <h1 style=\"color:green; margin-bottom:20px\">Комментарий ревьюера</h1>\n",
    "\n",
    "Лемматизация выполнена отлично, правильно, что ты рассмотрел частоту полученных лемм и обосновано выбрал категории для целей кредита. Хотя недвижимость, жилье и строительство можно и объединить\n",
    "</div>"
   ]
  },
  {
   "cell_type": "markdown",
   "metadata": {},
   "source": [
    "### Шаг 6. Делаем категоризацию данных"
   ]
  },
  {
   "cell_type": "code",
   "execution_count": 6,
   "metadata": {},
   "outputs": [
    {
     "name": "stdout",
     "output_type": "stream",
     "text": [
      "цели кредита:\n",
      "недвижимость     4444\n",
      "автомобиль       4277\n",
      "образование      3987\n",
      "жилье            3831\n",
      "строительство    2471\n",
      "свадьба          2312\n",
      "Name: purpose_lemm, dtype: int64\n"
     ]
    }
   ],
   "source": [
    "#Выделим самые используемые леммы и систематизируем столбец\n",
    "\n",
    "def get_purpose(row):\n",
    "    lem_purpose = m.lemmatize(row['purpose'])\n",
    "    if 'строительство' in lem_purpose or 'ремонт' in lem_purpose:\n",
    "        return 'строительство'\n",
    "    elif 'недвижимость' in lem_purpose:\n",
    "        return 'недвижимость'    \n",
    "    elif 'образование' in lem_purpose:\n",
    "        return 'образование'\n",
    "    elif 'автомобиль' in lem_purpose:\n",
    "        return 'автомобиль'\n",
    "    elif 'свадьба' in lem_purpose:\n",
    "        return 'свадьба'\n",
    "    elif 'жилье' in lem_purpose:\n",
    "        return 'жилье'\n",
    "    \n",
    "df['purpose_lemm'] = df.apply(get_purpose, axis = 1)\n",
    "print('цели кредита:')\n",
    "print(df['purpose_lemm'].value_counts())\n",
    "#df.info()"
   ]
  },
  {
   "cell_type": "markdown",
   "metadata": {},
   "source": [
    "<div style=\"border:solid green 2px; padding: 20px\"> <h1 style=\"color:green; margin-bottom:20px\">Комментарий ревьюера</h1>\n",
    "\n",
    "Хорошо, категории выделены правильно. Но все же в этом разделе стоило выделить все категории, а не только цели. Какие категории нам еще нужны для ответы на вопросы? Не нужно откладывать это на следующий раздел, нужно сделать это здесь\n",
    "</div>"
   ]
  },
  {
   "cell_type": "markdown",
   "metadata": {},
   "source": [
    "### Вывод"
   ]
  },
  {
   "cell_type": "markdown",
   "metadata": {},
   "source": [
    "Выделив 6 основных целей кредитов заемщиков:\n",
    "[недвижимость    \n",
    "автомобиль       \n",
    "образование     \n",
    "жилье            \n",
    "строительство    \n",
    "свадьба]\n",
    "Теперь мы можем определить факт погашения кредита в срок."
   ]
  },
  {
   "cell_type": "markdown",
   "metadata": {},
   "source": [
    "### Шаг 7. Отвечаем на вопросы"
   ]
  },
  {
   "cell_type": "markdown",
   "metadata": {},
   "source": [
    "- Есть ли зависимость между наличием детей и возвратом кредита в срок?"
   ]
  },
  {
   "cell_type": "code",
   "execution_count": 20,
   "metadata": {},
   "outputs": [
    {
     "data": {
      "text/html": [
       "<style  type=\"text/css\" >\n",
       "</style><table id=\"T_9753643a_3f7c_11eb_849c_02420a390490\" ><thead>    <tr>        <th class=\"blank level0\" ></th>        <th class=\"col_heading level0 col0\" >debts</th>        <th class=\"col_heading level0 col1\" >total</th>        <th class=\"col_heading level0 col2\" >perc</th>    </tr>    <tr>        <th class=\"index_name level0\" >children</th>        <th class=\"blank\" ></th>        <th class=\"blank\" ></th>        <th class=\"blank\" ></th>    </tr></thead><tbody>\n",
       "                <tr>\n",
       "                        <th id=\"T_9753643a_3f7c_11eb_849c_02420a390490level0_row0\" class=\"row_heading level0 row0\" >0</th>\n",
       "                        <td id=\"T_9753643a_3f7c_11eb_849c_02420a390490row0_col0\" class=\"data row0 col0\" >1063</td>\n",
       "                        <td id=\"T_9753643a_3f7c_11eb_849c_02420a390490row0_col1\" class=\"data row0 col1\" >14091</td>\n",
       "                        <td id=\"T_9753643a_3f7c_11eb_849c_02420a390490row0_col2\" class=\"data row0 col2\" >7.5%</td>\n",
       "            </tr>\n",
       "            <tr>\n",
       "                        <th id=\"T_9753643a_3f7c_11eb_849c_02420a390490level0_row1\" class=\"row_heading level0 row1\" >1</th>\n",
       "                        <td id=\"T_9753643a_3f7c_11eb_849c_02420a390490row1_col0\" class=\"data row1 col0\" >444</td>\n",
       "                        <td id=\"T_9753643a_3f7c_11eb_849c_02420a390490row1_col1\" class=\"data row1 col1\" >4808</td>\n",
       "                        <td id=\"T_9753643a_3f7c_11eb_849c_02420a390490row1_col2\" class=\"data row1 col2\" >9.2%</td>\n",
       "            </tr>\n",
       "            <tr>\n",
       "                        <th id=\"T_9753643a_3f7c_11eb_849c_02420a390490level0_row2\" class=\"row_heading level0 row2\" >2</th>\n",
       "                        <td id=\"T_9753643a_3f7c_11eb_849c_02420a390490row2_col0\" class=\"data row2 col0\" >194</td>\n",
       "                        <td id=\"T_9753643a_3f7c_11eb_849c_02420a390490row2_col1\" class=\"data row2 col1\" >2052</td>\n",
       "                        <td id=\"T_9753643a_3f7c_11eb_849c_02420a390490row2_col2\" class=\"data row2 col2\" >9.5%</td>\n",
       "            </tr>\n",
       "            <tr>\n",
       "                        <th id=\"T_9753643a_3f7c_11eb_849c_02420a390490level0_row3\" class=\"row_heading level0 row3\" >3</th>\n",
       "                        <td id=\"T_9753643a_3f7c_11eb_849c_02420a390490row3_col0\" class=\"data row3 col0\" >27</td>\n",
       "                        <td id=\"T_9753643a_3f7c_11eb_849c_02420a390490row3_col1\" class=\"data row3 col1\" >330</td>\n",
       "                        <td id=\"T_9753643a_3f7c_11eb_849c_02420a390490row3_col2\" class=\"data row3 col2\" >8.2%</td>\n",
       "            </tr>\n",
       "            <tr>\n",
       "                        <th id=\"T_9753643a_3f7c_11eb_849c_02420a390490level0_row4\" class=\"row_heading level0 row4\" >4</th>\n",
       "                        <td id=\"T_9753643a_3f7c_11eb_849c_02420a390490row4_col0\" class=\"data row4 col0\" >4</td>\n",
       "                        <td id=\"T_9753643a_3f7c_11eb_849c_02420a390490row4_col1\" class=\"data row4 col1\" >41</td>\n",
       "                        <td id=\"T_9753643a_3f7c_11eb_849c_02420a390490row4_col2\" class=\"data row4 col2\" >9.8%</td>\n",
       "            </tr>\n",
       "    </tbody></table>"
      ],
      "text/plain": [
       "<pandas.io.formats.style.Styler at 0x7f45bc221ad0>"
      ]
     },
     "execution_count": 20,
     "metadata": {},
     "output_type": "execute_result"
    }
   ],
   "source": [
    "#df.style.format({'debt': '{:.1%}'})\n",
    "#rest_children = df[['children','debt']]\n",
    "#rest_children.style.format({'debt': '{:.1%}'})\n",
    "#df.style.format(\"{:.2%}\")\n",
    "#rest_children.style.format({'debt': '{:.2%}'})\n",
    "\n",
    "#rest_children.style.format({'debt':'{:,.1%}'})\n",
    "#print(rest_children.groupby('children').mean().sort_values('debt',ascending=False))\n",
    "\n",
    "\n",
    "#print(rest_children)\n",
    "\n",
    "new_children = df.groupby('children').debt.agg(debts  = 'sum', total='count')\n",
    "new_children['perc'] = new_children['debts']/new_children['total']\n",
    "new_children.style.format({'perc':'{:,.1%}'.format})\n",
    "\n",
    "#print('Вероятность невозврата кредита, если в семье 4 ребенка: 9.8%')\n",
    "#print('Вероятность невозврата кредита, если в семье 2 ребенка: 9.5%')\n",
    "#print('Вероятность невозврата кредита, если в семье 1 ребенка: 9.2%')\n",
    "#print('Вероятность невозврата кредита, если в семье 3 ребенка: 8.2%')\n",
    "#print('Вероятность невозврата кредита, если в семье нет детей: 7.5%')\n",
    "#print('Вероятность невозврата кредита, если в семье 5 детей: 0.0%')"
   ]
  },
  {
   "cell_type": "markdown",
   "metadata": {},
   "source": [
    "### Вывод"
   ]
  },
  {
   "cell_type": "markdown",
   "metadata": {},
   "source": [
    "Наличие детей влияет на вероятность невозврата кредита в срок.\n",
    "Лучше всего отдают кредит у заемщики без детей: вероятность невозврата кредита 7.5%:\n",
    "Самая большая просрочка по кредитам у заемщиков с 4-мя детьми: вероятность невозврата кредита 9.8%"
   ]
  },
  {
   "cell_type": "markdown",
   "metadata": {},
   "source": [
    "- Есть ли зависимость между семейным положением и возвратом кредита в срок?"
   ]
  },
  {
   "cell_type": "code",
   "execution_count": 24,
   "metadata": {},
   "outputs": [
    {
     "data": {
      "text/html": [
       "<style  type=\"text/css\" >\n",
       "</style><table id=\"T_e08622d2_3f7c_11eb_849c_02420a390490\" ><thead>    <tr>        <th class=\"blank level0\" ></th>        <th class=\"col_heading level0 col0\" >debts</th>        <th class=\"col_heading level0 col1\" >total</th>        <th class=\"col_heading level0 col2\" >famil</th>    </tr>    <tr>        <th class=\"index_name level0\" >family_status</th>        <th class=\"blank\" ></th>        <th class=\"blank\" ></th>        <th class=\"blank\" ></th>    </tr></thead><tbody>\n",
       "                <tr>\n",
       "                        <th id=\"T_e08622d2_3f7c_11eb_849c_02420a390490level0_row0\" class=\"row_heading level0 row0\" >Не женат / не замужем</th>\n",
       "                        <td id=\"T_e08622d2_3f7c_11eb_849c_02420a390490row0_col0\" class=\"data row0 col0\" >273</td>\n",
       "                        <td id=\"T_e08622d2_3f7c_11eb_849c_02420a390490row0_col1\" class=\"data row0 col1\" >2796</td>\n",
       "                        <td id=\"T_e08622d2_3f7c_11eb_849c_02420a390490row0_col2\" class=\"data row0 col2\" >9.8%</td>\n",
       "            </tr>\n",
       "            <tr>\n",
       "                        <th id=\"T_e08622d2_3f7c_11eb_849c_02420a390490level0_row1\" class=\"row_heading level0 row1\" >в разводе</th>\n",
       "                        <td id=\"T_e08622d2_3f7c_11eb_849c_02420a390490row1_col0\" class=\"data row1 col0\" >84</td>\n",
       "                        <td id=\"T_e08622d2_3f7c_11eb_849c_02420a390490row1_col1\" class=\"data row1 col1\" >1189</td>\n",
       "                        <td id=\"T_e08622d2_3f7c_11eb_849c_02420a390490row1_col2\" class=\"data row1 col2\" >7.1%</td>\n",
       "            </tr>\n",
       "            <tr>\n",
       "                        <th id=\"T_e08622d2_3f7c_11eb_849c_02420a390490level0_row2\" class=\"row_heading level0 row2\" >вдовец / вдова</th>\n",
       "                        <td id=\"T_e08622d2_3f7c_11eb_849c_02420a390490row2_col0\" class=\"data row2 col0\" >63</td>\n",
       "                        <td id=\"T_e08622d2_3f7c_11eb_849c_02420a390490row2_col1\" class=\"data row2 col1\" >951</td>\n",
       "                        <td id=\"T_e08622d2_3f7c_11eb_849c_02420a390490row2_col2\" class=\"data row2 col2\" >6.6%</td>\n",
       "            </tr>\n",
       "            <tr>\n",
       "                        <th id=\"T_e08622d2_3f7c_11eb_849c_02420a390490level0_row3\" class=\"row_heading level0 row3\" >гражданский брак</th>\n",
       "                        <td id=\"T_e08622d2_3f7c_11eb_849c_02420a390490row3_col0\" class=\"data row3 col0\" >385</td>\n",
       "                        <td id=\"T_e08622d2_3f7c_11eb_849c_02420a390490row3_col1\" class=\"data row3 col1\" >4132</td>\n",
       "                        <td id=\"T_e08622d2_3f7c_11eb_849c_02420a390490row3_col2\" class=\"data row3 col2\" >9.3%</td>\n",
       "            </tr>\n",
       "            <tr>\n",
       "                        <th id=\"T_e08622d2_3f7c_11eb_849c_02420a390490level0_row4\" class=\"row_heading level0 row4\" >женат / замужем</th>\n",
       "                        <td id=\"T_e08622d2_3f7c_11eb_849c_02420a390490row4_col0\" class=\"data row4 col0\" >927</td>\n",
       "                        <td id=\"T_e08622d2_3f7c_11eb_849c_02420a390490row4_col1\" class=\"data row4 col1\" >12254</td>\n",
       "                        <td id=\"T_e08622d2_3f7c_11eb_849c_02420a390490row4_col2\" class=\"data row4 col2\" >7.6%</td>\n",
       "            </tr>\n",
       "    </tbody></table>"
      ],
      "text/plain": [
       "<pandas.io.formats.style.Styler at 0x7f45b7f78f50>"
      ]
     },
     "execution_count": 24,
     "metadata": {},
     "output_type": "execute_result"
    }
   ],
   "source": [
    "#rest_family_status = df[['family_status','debt']]\n",
    "#print(rest_family_status.groupby('family_status').mean().sort_values('debt',ascending=False))\n",
    " \n",
    "#print('Вероятность невозврата кредита, если заемщик не женат / не замужем: 9.8%')\n",
    "#print('Вероятность невозврата кредита, если заемщик состоит в гражданском браке: 9.3%')\n",
    "#print('Вероятность невозврата кредита, если заемщик женат / замужем: 7.6%')\n",
    "#print('Вероятность невозврата кредита, если заемщик в разводе: 7.1%')\n",
    "#print('Вероятность невозврата кредита, если заемщик вдовец / вдова: 6.6%')\n",
    "\n",
    "new_family = df.groupby('family_status').debt.agg(debts  = 'sum', total='count')\n",
    "new_family['famil'] = new_family['debts']/new_family['total']\n",
    "new_family.style.format({'famil':'{:,.1%}'.format})\n"
   ]
  },
  {
   "cell_type": "markdown",
   "metadata": {},
   "source": [
    "### Вывод"
   ]
  },
  {
   "cell_type": "markdown",
   "metadata": {},
   "source": [
    "Семейное положение влияет на вероятность невозврата кредита в срок. \n",
    "Вероятность невозврата кредита в срок находится в пределах 6.6 - 9.8%:\n",
    "Самые ответственные заемщики - если заемщик вдовец / вдова (вероятность невозврата кредита 6.6%).\n",
    "Самые безответственные заемщики - заемщики, которые не женаты / не замужем (вероятность невозврата кредита 9.8%)."
   ]
  },
  {
   "cell_type": "markdown",
   "metadata": {},
   "source": [
    "- Есть ли зависимость между уровнем дохода и возвратом кредита в срок?"
   ]
  },
  {
   "cell_type": "code",
   "execution_count": 26,
   "metadata": {},
   "outputs": [
    {
     "name": "stdout",
     "output_type": "stream",
     "text": [
      "Вероятность невозврата кредита, если доход до 120 тыс.: 8.1%\n",
      "Вероятность невозврата кредита, если доход в пределах от 120 тыс. до 180 тыс.: 8.9%\n",
      "Вероятность невозврата кредита, если доход от 180 тыс.: 7.5%\n"
     ]
    }
   ],
   "source": [
    "income_debt_group = df.loc[:, ['total_income', 'debt']]\n",
    "\n",
    "def group_income(row):\n",
    "    alert_group_ti = row['total_income']\n",
    "    im_income = row['debt']\n",
    "\n",
    "    if alert_group_ti <= 120000:\n",
    "        if im_income == 0:\n",
    "            return 'низкий доход, НЕТ задолженности'\n",
    "\n",
    "    if alert_group_ti <= 120000:\n",
    "        if im_income == 1:\n",
    "            return 'низкий доход, ЕСТЬ задолженность'\n",
    "\n",
    "    if 120000 <= alert_group_ti <= 180000:\n",
    "        if im_income == 0:\n",
    "            return 'средний доход, НЕТ задолженности'\n",
    " \n",
    "    if 120000 <= alert_group_ti <= 180000:\n",
    "        if im_income == 1:\n",
    "            return 'средний доход, ЕСТЬ задолженность'\n",
    "\n",
    "    if alert_group_ti >= 180000:\n",
    "        if im_income == 0:\n",
    "            return 'высокий доход, НЕТ задолженности'\n",
    " \n",
    "         \n",
    "    return 'высокий доход, ЕСТЬ задолженность'\n",
    "\n",
    "\n",
    "row_columns_ti = ['total_income', 'debt']\n",
    "row = pd.Series(index=row_columns_ti)\n",
    "income_debt_group['total_income'] = income_debt_group.apply(group_income, axis=1)\n",
    "#print(income_debt_group['total_income'].value_counts()) \n",
    "\n",
    "\n",
    "dohod_niz_net = income_debt_group[income_debt_group['total_income'] == 'низкий доход, НЕТ задолженности']['total_income'].count()\n",
    "#print(dohod_niz_net)\n",
    "dohod_niz_est = income_debt_group[income_debt_group['total_income'] == 'низкий доход, ЕСТЬ задолженность']['total_income'].count()\n",
    "#print(dohod_niz_est)\n",
    "dohod_sr_net = income_debt_group[income_debt_group['total_income'] == 'средний доход, НЕТ задолженности']['total_income'].count()\n",
    "#print(dohod_sr_net)\n",
    "dohod_sr_est = income_debt_group[income_debt_group['total_income'] == 'средний доход, ЕСТЬ задолженность']['total_income'].count()\n",
    "#print(dohod_sr_est)\n",
    "dohod_vys_net = income_debt_group[income_debt_group['total_income'] == 'высокий доход, НЕТ задолженности']['total_income'].count()\n",
    "#print(dohod_vys_net)\n",
    "dohod_vys_est = income_debt_group[income_debt_group['total_income'] == 'высокий доход, ЕСТЬ задолженность']['total_income'].count()\n",
    "#print(dohod_vys_est)\n",
    "\n",
    "per_niz_dohod = dohod_niz_est / (dohod_niz_net + dohod_niz_est)\n",
    "print('Вероятность невозврата кредита, если доход до 120 тыс.: {:.1%}'.format(per_niz_dohod))\n",
    "per_sr_dohod = dohod_sr_est / (dohod_sr_net + dohod_sr_est)\n",
    "print('Вероятность невозврата кредита, если доход в пределах от 120 тыс. до 180 тыс.: {:.1%}'.format(per_sr_dohod))\n",
    "per_vys_dohod = dohod_vys_est / (dohod_vys_net + dohod_vys_est)\n",
    "print('Вероятность невозврата кредита, если доход от 180 тыс.: {:.1%}'.format(per_vys_dohod))\n",
    "\n"
   ]
  },
  {
   "cell_type": "markdown",
   "metadata": {},
   "source": [
    "### Вывод"
   ]
  },
  {
   "cell_type": "markdown",
   "metadata": {},
   "source": [
    "Уровень дохода влияет на вероятность невозврата кредита в срок. \n",
    "Вероятность невозврата кредита в срок находится в пределах 7.4 - 8.9%:\n",
    "Самые ответственные заемщики с уровнем дохода от 180 тыс. с вероятностью невозврата кредита в 7.4%, далее идут заемщики, которые имеют доход до 120 тыс. с вероятностью невозврата кредита в 8.1%.\n",
    "Самые безответственные заемщики с доходом от 120 до 180 тыс. с вероятностью невозврата кредита в 8.9%"
   ]
  },
  {
   "cell_type": "markdown",
   "metadata": {},
   "source": [
    "- Как разные цели кредита влияют на его возврат в срок?"
   ]
  },
  {
   "cell_type": "code",
   "execution_count": 25,
   "metadata": {},
   "outputs": [
    {
     "data": {
      "text/html": [
       "<style  type=\"text/css\" >\n",
       "</style><table id=\"T_d0e6bfd4_3f7d_11eb_849c_02420a390490\" ><thead>    <tr>        <th class=\"blank level0\" ></th>        <th class=\"col_heading level0 col0\" >debts</th>        <th class=\"col_heading level0 col1\" >total</th>        <th class=\"col_heading level0 col2\" >famil</th>    </tr>    <tr>        <th class=\"index_name level0\" >purpose_lemm</th>        <th class=\"blank\" ></th>        <th class=\"blank\" ></th>        <th class=\"blank\" ></th>    </tr></thead><tbody>\n",
       "                <tr>\n",
       "                        <th id=\"T_d0e6bfd4_3f7d_11eb_849c_02420a390490level0_row0\" class=\"row_heading level0 row0\" >автомобиль</th>\n",
       "                        <td id=\"T_d0e6bfd4_3f7d_11eb_849c_02420a390490row0_col0\" class=\"data row0 col0\" >400</td>\n",
       "                        <td id=\"T_d0e6bfd4_3f7d_11eb_849c_02420a390490row0_col1\" class=\"data row0 col1\" >4277</td>\n",
       "                        <td id=\"T_d0e6bfd4_3f7d_11eb_849c_02420a390490row0_col2\" class=\"data row0 col2\" >9.4%</td>\n",
       "            </tr>\n",
       "            <tr>\n",
       "                        <th id=\"T_d0e6bfd4_3f7d_11eb_849c_02420a390490level0_row1\" class=\"row_heading level0 row1\" >жилье</th>\n",
       "                        <td id=\"T_d0e6bfd4_3f7d_11eb_849c_02420a390490row1_col0\" class=\"data row1 col0\" >273</td>\n",
       "                        <td id=\"T_d0e6bfd4_3f7d_11eb_849c_02420a390490row1_col1\" class=\"data row1 col1\" >3831</td>\n",
       "                        <td id=\"T_d0e6bfd4_3f7d_11eb_849c_02420a390490row1_col2\" class=\"data row1 col2\" >7.1%</td>\n",
       "            </tr>\n",
       "            <tr>\n",
       "                        <th id=\"T_d0e6bfd4_3f7d_11eb_849c_02420a390490level0_row2\" class=\"row_heading level0 row2\" >недвижимость</th>\n",
       "                        <td id=\"T_d0e6bfd4_3f7d_11eb_849c_02420a390490row2_col0\" class=\"data row2 col0\" >329</td>\n",
       "                        <td id=\"T_d0e6bfd4_3f7d_11eb_849c_02420a390490row2_col1\" class=\"data row2 col1\" >4444</td>\n",
       "                        <td id=\"T_d0e6bfd4_3f7d_11eb_849c_02420a390490row2_col2\" class=\"data row2 col2\" >7.4%</td>\n",
       "            </tr>\n",
       "            <tr>\n",
       "                        <th id=\"T_d0e6bfd4_3f7d_11eb_849c_02420a390490level0_row3\" class=\"row_heading level0 row3\" >образование</th>\n",
       "                        <td id=\"T_d0e6bfd4_3f7d_11eb_849c_02420a390490row3_col0\" class=\"data row3 col0\" >369</td>\n",
       "                        <td id=\"T_d0e6bfd4_3f7d_11eb_849c_02420a390490row3_col1\" class=\"data row3 col1\" >3987</td>\n",
       "                        <td id=\"T_d0e6bfd4_3f7d_11eb_849c_02420a390490row3_col2\" class=\"data row3 col2\" >9.3%</td>\n",
       "            </tr>\n",
       "            <tr>\n",
       "                        <th id=\"T_d0e6bfd4_3f7d_11eb_849c_02420a390490level0_row4\" class=\"row_heading level0 row4\" >свадьба</th>\n",
       "                        <td id=\"T_d0e6bfd4_3f7d_11eb_849c_02420a390490row4_col0\" class=\"data row4 col0\" >183</td>\n",
       "                        <td id=\"T_d0e6bfd4_3f7d_11eb_849c_02420a390490row4_col1\" class=\"data row4 col1\" >2312</td>\n",
       "                        <td id=\"T_d0e6bfd4_3f7d_11eb_849c_02420a390490row4_col2\" class=\"data row4 col2\" >7.9%</td>\n",
       "            </tr>\n",
       "            <tr>\n",
       "                        <th id=\"T_d0e6bfd4_3f7d_11eb_849c_02420a390490level0_row5\" class=\"row_heading level0 row5\" >строительство</th>\n",
       "                        <td id=\"T_d0e6bfd4_3f7d_11eb_849c_02420a390490row5_col0\" class=\"data row5 col0\" >178</td>\n",
       "                        <td id=\"T_d0e6bfd4_3f7d_11eb_849c_02420a390490row5_col1\" class=\"data row5 col1\" >2471</td>\n",
       "                        <td id=\"T_d0e6bfd4_3f7d_11eb_849c_02420a390490row5_col2\" class=\"data row5 col2\" >7.2%</td>\n",
       "            </tr>\n",
       "    </tbody></table>"
      ],
      "text/plain": [
       "<pandas.io.formats.style.Styler at 0x7f45bc21a750>"
      ]
     },
     "execution_count": 25,
     "metadata": {},
     "output_type": "execute_result"
    }
   ],
   "source": [
    "#rest_purpose = df[['purpose_lemm','debt']]\n",
    "#abcd = rest_purpose.groupby('purpose_lemm').mean().sort_values('debt',ascending=False)\n",
    "\n",
    "\n",
    "#print(rest_purpose.groupby('purpose_lemm').mean().sort_values('debt',ascending=False))\n",
    "\n",
    "#print('Вероятность невозврата кредита, если кредит на автомобиль: 9.3%')\n",
    "#print('Вероятность невозврата кредита, если кредит на образование: 9.3%')\n",
    "#print('Вероятность невозврата кредита, если кредит на свадьбу: 7.9%')\n",
    "#print('Вероятность невозврата кредита, если кредит на недвижимость: 7.4%')\n",
    "#print('Вероятность невозврата кредита, если кредит на строительство: 7.2%')\n",
    "#print('Вероятность невозврата кредита, если кредит на жилье: 7.1%')\n",
    "new_p_l = df.groupby('purpose_lemm').debt.agg(debts  = 'sum', total='count')\n",
    "new_p_l['famil'] = new_p_l['debts']/new_p_l['total']\n",
    "new_p_l.style.format({'famil':'{:,.1%}'.format})"
   ]
  },
  {
   "cell_type": "markdown",
   "metadata": {},
   "source": [
    "<div style=\"border:solid red 2px; padding: 20px\"> <h1 style=\"color:red; margin-bottom:20px\">Комментарий ревьюера - 3</h1>\n",
    "\n",
    "Да, так уже лучше. Но не нужно делать print  в конце, так весь смысл теряется.\n",
    "    \n",
    "    \n",
    "Отформатируй, пожалуйста полученные результаты в таблице в виде процентов с 1 знаком после запятой.\n",
    "    \n",
    "В таблице с детьми нужно отбросить аномальные данные\n",
    "    \n",
    "Также нужно доделать вопрос про доход\n",
    "</div>"
   ]
  },
  {
   "cell_type": "markdown",
   "metadata": {},
   "source": [
    "### Ответ_3\n",
    "Аномальные данные отброшены, результаты в процентах, выводы поправлены, по доходу слетел код, тоже поправлен"
   ]
  },
  {
   "cell_type": "markdown",
   "metadata": {},
   "source": [
    "### Вывод\n",
    "\n",
    "Цели кредита влияют на вероятность невозврата кредита в срок. \n",
    "Вероятность невозврата кредита в срок находится в пределах 7.1 - 9.3%.\n",
    "Можно выделить 2 группы с одинаковой вероятностью невозврата кредита в срок:\n",
    "- самые ответственные заемщики с целями на жилье, строительство, недвижимость и свадьбу с вероятностью невозврата кредита в срок соответственно 7.1, 7.2%, 7.4% и 7.9%.\n",
    "- самые безответственные заемщики с целями на автомобиль, образование с вероятностью невозврата кредита в срок соответственно 9.3%."
   ]
  },
  {
   "cell_type": "markdown",
   "metadata": {},
   "source": [
    "Цели кредита не влияют на возврат кредита в срок. Число кредитов с задолженностью составляет около 10%.\n",
    "\n",
    "<div style=\"border:solid red 2px; padding: 20px\"> <h1 style=\"color:red; margin-bottom:20px\">Комментарий ревьюера</h1>\n",
    "\n",
    "Ответы на вопросы сделаны не правильно.\n",
    "    \n",
    "Здесь нужно рассчитать вероятность невозврата кредита для каждой категории. Т.е. отношение просрочек к общему числу группы. \n",
    "    \n",
    "В итоге должны получится таблицы с категориями и веротностями просрочки и уже из этого нужно делать выводы\n",
    "</div>"
   ]
  },
  {
   "cell_type": "markdown",
   "metadata": {},
   "source": [
    "<div style=\"border:solid red 2px; padding: 20px\"> <h1 style=\"color:red; margin-bottom:20px\">Комментарий ревьюера - 2</h1>\n",
    "\n",
    "Ты используешь не верный подход для получения результата. Твой спомоб может сработать для небольшого числа категорий. А если их больше, если их 100, 500, 100500? Так не пойдет\n",
    "    \n",
    "Здесь нужно использовать сводную таблицу pivot_table или groupby. В этой таблице для каждой группы нужно получить количество 0 и 1 в столбце debt. Пот ом надо в этой же таблице рассчитать вероятность.\n",
    "</div>"
   ]
  },
  {
   "cell_type": "markdown",
   "metadata": {},
   "source": [
    "<div style=\"border:solid green 2px; padding: 20px\"> <h1 style=\"color:green; margin-bottom:20px\">Комментарий ревьюера - 3</h1>\n",
    "\n",
    "Да, вот теперь это автоматизированный рассчет\n",
    "</div>"
   ]
  },
  {
   "cell_type": "markdown",
   "metadata": {},
   "source": [
    "### Ответ_2\n",
    "Да, согласен, что немного усложнил этот процесс, т.к. в первой версии не знал что необходимо выводить вероятность возврата кредита. Ну а потом что средее значение через debt методом groupby и будет эта вероятность.\n",
    "При опаределении заемщиков по уровню доходов оставил прошлый вариант, тк разбиваем всего на 3 группы. "
   ]
  },
  {
   "cell_type": "markdown",
   "metadata": {},
   "source": [
    "### Шаг 8. Делаем общий вывод"
   ]
  },
  {
   "cell_type": "markdown",
   "metadata": {},
   "source": [
    "Проанализировав исходные данные от отдела банка, делаем вывод, что цели кредита, Уровень дохода, семейное положение и к оличество детейне влияют на возврат кредита в срок. Число кредитов с задолженностью во всех случаях составляет около 10%.\n",
    "\n",
    "<div style=\"border:solid green 2px; padding: 20px\"> <h1 style=\"color:green; margin-bottom:20px\">Комментарий ревьюера</h1>\n",
    "\n",
    "Хорошо, портрет надежного заемщика - это важно (с поправкой на неверный рассчет в предыдущем пункте). Но в итоговых выводах стоит описать все аспекты проекта. Например, наличие пропусков и дубликатов в данных также может быть важно для клиента. Это может означать не верный сбор данных или даже мошенничество...\n",
    "</div> "
   ]
  },
  {
   "cell_type": "markdown",
   "metadata": {},
   "source": [
    "# Ответ\n",
    "В исходных данных от отдела банка мы получили данные по 21525 заемщикам. 2175 в столбцах \"общий трудовой стаж в днях\" и \"ежемесячный доход\" оказались пропущены, а это составляет 10% от общего числа. Данные значения были заменены на медианные. 123 значения в столбце \"количество детей в семье\" были ошибочные и содержали отрицательные значения или неправдоподобно большие и были удалены (0,6% от общего числа данных). Также были выявлены дубликаты в 54-х строках и также были удалены. После обработки столбца education были выявлены еще 17 дубликатов, которые были удалены. Суммарно число удаленых строк составляет менее 1% и не влияет на результаты анализа.\n",
    "По результатам анализа данных банка было определено, что наличие детей, семейное положение, уровень доходов и цели кредита влияют на вероятность невозврата кредита в срок (она находится в пределах 6.6-9.8%).\n",
    "самыми надежными заемщиками оказались заемщики без детей, вдовец / вдова, с доходом от 180 тыс. и целью кредита недвижимость/жилье/строительство/свадьба.\n",
    "Самыми ненадежными заемщиками оказались заемщики с 4-мя детьми, не женаты / не замужем, с доходом от 120 до 180 тыс. и целью кредита автомобиль/образование."
   ]
  },
  {
   "cell_type": "markdown",
   "metadata": {},
   "source": [
    "<div style=\"border:solid green 2px; padding: 20px\"> <h1 style=\"color:green; margin-bottom:20px\">Общий комментарий по проекту</h1>\n",
    "\n",
    "В целом проет выполнен хорошо, отлично сделана предобработка, но в рассчетах немного запутался. Ты  недоработал ответы на вопросы, постарайся поправить. Также постарайся, пожалуйста учесть не только красные, но и желтые комментарии, это улучшит проект. Удачи\n",
    "</div>"
   ]
  },
  {
   "cell_type": "markdown",
   "metadata": {},
   "source": [
    "### Чек-лист готовности проекта\n",
    "\n",
    "Поставьте 'x' в выполненных пунктах. Далее нажмите Shift+Enter."
   ]
  },
  {
   "cell_type": "markdown",
   "metadata": {},
   "source": [
    "- [x]  открыт файл;\n",
    "- [x]  файл изучен;\n",
    "- [x]  определены пропущенные значения;\n",
    "- [x]  заполнены пропущенные значения;\n",
    "- [x]  есть пояснение, какие пропущенные значения обнаружены;\n",
    "- [x]  описаны возможные причины появления пропусков в данных;\n",
    "- [x]  объяснено, по какому принципу заполнены пропуски;\n",
    "- [x]  заменен вещественный тип данных на целочисленный;\n",
    "- [x]  есть пояснение, какой метод используется для изменения типа данных и почему;\n",
    "- [x]  удалены дубликаты;\n",
    "- [x]  есть пояснение, какой метод используется для поиска и удаления дубликатов;\n",
    "- [x]  описаны возможные причины появления дубликатов в данных;\n",
    "- [x]  выделены леммы в значениях столбца с целями получения кредита;\n",
    "- [x]  описан процесс лемматизации;\n",
    "- [x]  данные категоризированы;\n",
    "- [x]  есть объяснение принципа категоризации данных;\n",
    "- [x]  есть ответ на вопрос: \"Есть ли зависимость между наличием детей и возвратом кредита в срок?\";\n",
    "- [x]  есть ответ на вопрос: \"Есть ли зависимость между семейным положением и возвратом кредита в срок?\";\n",
    "- [x]  есть ответ на вопрос: \"Есть ли зависимость между уровнем дохода и возвратом кредита в срок?\";\n",
    "- [x]  есть ответ на вопрос: \"Как разные цели кредита влияют на его возврат в срок?\";\n",
    "- [x]  в каждом этапе есть выводы;\n",
    "- [x]  есть общий вывод."
   ]
  },
  {
   "cell_type": "code",
   "execution_count": null,
   "metadata": {},
   "outputs": [],
   "source": []
  }
 ],
 "metadata": {
  "kernelspec": {
   "display_name": "Python 3 (ipykernel)",
   "language": "python",
   "name": "python3"
  },
  "language_info": {
   "codemirror_mode": {
    "name": "ipython",
    "version": 3
   },
   "file_extension": ".py",
   "mimetype": "text/x-python",
   "name": "python",
   "nbconvert_exporter": "python",
   "pygments_lexer": "ipython3",
   "version": "3.9.5"
  },
  "toc": {
   "base_numbering": 1,
   "nav_menu": {},
   "number_sections": true,
   "sideBar": true,
   "skip_h1_title": true,
   "title_cell": "Table of Contents",
   "title_sidebar": "Contents",
   "toc_cell": false,
   "toc_position": {},
   "toc_section_display": true,
   "toc_window_display": false
  }
 },
 "nbformat": 4,
 "nbformat_minor": 2
}
