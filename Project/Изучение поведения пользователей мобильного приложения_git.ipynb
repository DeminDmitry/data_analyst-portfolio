{
 "cells": [
  {
   "cell_type": "markdown",
   "metadata": {},
   "source": [
    "# Изучение поведения пользователей мобильного приложения"
   ]
  },
  {
   "cell_type": "markdown",
   "metadata": {},
   "source": [
    "<div class=\"alert alert-info\" role=\"alert\">\n",
    "     \n",
    "Наша задача разобраться, как ведут себя пользователи мобильного приложения в стартапе, который продаёт продукты питания.\n",
    "Для этого требуется изучить воронку продаж и узнать, как пользователи доходят до покупки, сколько пользователей доходит до покупки, а сколько — «застревает» на предыдущих шагах.\n",
    "<b>Описание данных:</b>\n",
    "    \n",
    "Каждая запись в логе — это действие пользователя, или событие.\n",
    "    \n",
    "EventName — название события;\n",
    "\n",
    "DeviceIDHash — уникальный идентификатор пользователя;\n",
    "    \n",
    "EventTimestamp — время события;\n",
    "    \n",
    "ExpId — номер эксперимента: 246 и 247 — контрольные группы, а 248 — экспериментальная.\n",
    "\n",
    "<b>Шаг 1.  Откроем файл с данными и изучим общую информацию</b>\n",
    "\n",
    "<b>Шаг 2. Подготовим данные</b>\n",
    "    \n",
    "Заменим названия столбцов;\n",
    "    \n",
    "Проверим пропуски и типы данных. Откорректируем, если нужно;\n",
    "    \n",
    "Добавим столбец даты и времени, а также отдельный столбец дат;    \n",
    "\n",
    "<b>Шаг 3. Изучим и проверим данные</b>    \n",
    "\n",
    "Постараемся ответить на следующие вопросы:\n",
    "    \n",
    "Сколько всего событий в логе\n",
    "    \n",
    "Сколько всего пользователей в логе\n",
    "    \n",
    "Сколько в среднем событий приходится на пользователя\n",
    "    \n",
    "Определим за какой период мы располагаем данными. Найдем максимальную и минимальную дату. Построим гистограмму по дате и времени. \n",
    "Определим, с какого момента данные полные и отбросим более старые.\n",
    "    \n",
    "Определим много ли событий и пользователей мы потеряли, отбросив старые данные.\n",
    "Проверим, что у нас есть пользователи из всех трёх экспериментальных групп.    \n",
    "    \n",
    "<b>Шаг 4. Изучим воронку событий</b>    \n",
    "    \n",
    "Посмотрим, какие события есть в логах, как часто они встречаются. Отсортируем события по частоте.\n",
    "    \n",
    "Посчитаем, сколько пользователей совершали каждое из этих событий. Отсортируем события по числу пользователей. Посчитаем долю пользователей, которые хоть раз совершали событие.\n",
    "    \n",
    "Предположим, в каком порядке происходят события. Определим, все ли они выстраиваются в последовательную цепочку.\n",
    "    \n",
    "По воронке событий посчитаем, какая доля пользователей проходит на следующий шаг воронки.\n",
    "    \n",
    "Определим на каком шаге теряется больше всего пользователей.\n",
    "    \n",
    "Определим какая доля пользователей доходит от первого события до оплаты.\n",
    "        \n",
    "<b>Шаг 5. Изучим результаты эксперимента</b>   \n",
    "       \n",
    "Определим сколько пользователей в каждой экспериментальной группе.\n",
    "    \n",
    "Проверим, находят ли статистические критерии разницу между выборками 246 и 247.\n",
    "    \n",
    "Выберем самое популярное событие. Посчитаем число пользователей, совершивших это событие в каждой из контрольных групп. \n",
    "    \n",
    "Посчитаем долю пользователей, совершивших это событие. Проверим, будет ли отличие между группами статистически достоверным. \n",
    "    \n",
    "Проверим, будет ли отличие между группами статистически достоверным с группой с изменённым шрифтом.\n",
    "Сравним результаты с каждой из контрольных групп в отдельности по каждому событию. Сравним результаты с объединённой контрольной группой.\n",
    "    \n",
    "Посчитаем, сколько проверок статистических гипотез мы сделали..    \n",
    "     \n",
    "<b>Шаг 6. Сформулируем выводы и рекомендации</b>   \n",
    "\n",
    "</div>"
   ]
  },
  {
   "cell_type": "markdown",
   "metadata": {},
   "source": [
    "# Шаг 1. Откроем файл с данными и изучим общую информацию"
   ]
  },
  {
   "cell_type": "code",
   "execution_count": 167,
   "metadata": {},
   "outputs": [],
   "source": [
    "import pandas as pd\n",
    "\n",
    "import numpy as np\n",
    "from matplotlib import pyplot as plt\n",
    "\n",
    "import math\n",
    "from scipy import stats\n",
    "\n",
    "from datetime import datetime, timedelta\n",
    "\n",
    "from statsmodels.stats.proportion import proportions_ztest\n",
    "import warnings\n",
    "\n",
    "warnings.filterwarnings('ignore')"
   ]
  },
  {
   "cell_type": "code",
   "execution_count": 168,
   "metadata": {},
   "outputs": [
    {
     "data": {
      "text/html": [
       "<div>\n",
       "<style scoped>\n",
       "    .dataframe tbody tr th:only-of-type {\n",
       "        vertical-align: middle;\n",
       "    }\n",
       "\n",
       "    .dataframe tbody tr th {\n",
       "        vertical-align: top;\n",
       "    }\n",
       "\n",
       "    .dataframe thead th {\n",
       "        text-align: right;\n",
       "    }\n",
       "</style>\n",
       "<table border=\"1\" class=\"dataframe\">\n",
       "  <thead>\n",
       "    <tr style=\"text-align: right;\">\n",
       "      <th></th>\n",
       "      <th>EventName</th>\n",
       "      <th>DeviceIDHash</th>\n",
       "      <th>EventTimestamp</th>\n",
       "      <th>ExpId</th>\n",
       "    </tr>\n",
       "  </thead>\n",
       "  <tbody>\n",
       "    <tr>\n",
       "      <td>158597</td>\n",
       "      <td>MainScreenAppear</td>\n",
       "      <td>7716966784740554487</td>\n",
       "      <td>1565010687</td>\n",
       "      <td>247</td>\n",
       "    </tr>\n",
       "    <tr>\n",
       "      <td>144753</td>\n",
       "      <td>MainScreenAppear</td>\n",
       "      <td>907516373885804773</td>\n",
       "      <td>1564985526</td>\n",
       "      <td>246</td>\n",
       "    </tr>\n",
       "    <tr>\n",
       "      <td>129545</td>\n",
       "      <td>PaymentScreenSuccessful</td>\n",
       "      <td>7980064927529100411</td>\n",
       "      <td>1564931613</td>\n",
       "      <td>247</td>\n",
       "    </tr>\n",
       "    <tr>\n",
       "      <td>173865</td>\n",
       "      <td>CartScreenAppear</td>\n",
       "      <td>2305766456715991733</td>\n",
       "      <td>1565032805</td>\n",
       "      <td>248</td>\n",
       "    </tr>\n",
       "    <tr>\n",
       "      <td>241069</td>\n",
       "      <td>PaymentScreenSuccessful</td>\n",
       "      <td>2438520924615884865</td>\n",
       "      <td>1565203620</td>\n",
       "      <td>246</td>\n",
       "    </tr>\n",
       "    <tr>\n",
       "      <td>51109</td>\n",
       "      <td>MainScreenAppear</td>\n",
       "      <td>2772044537339378962</td>\n",
       "      <td>1564740058</td>\n",
       "      <td>248</td>\n",
       "    </tr>\n",
       "    <tr>\n",
       "      <td>177731</td>\n",
       "      <td>PaymentScreenSuccessful</td>\n",
       "      <td>2808383095708030942</td>\n",
       "      <td>1565059344</td>\n",
       "      <td>246</td>\n",
       "    </tr>\n",
       "    <tr>\n",
       "      <td>146014</td>\n",
       "      <td>MainScreenAppear</td>\n",
       "      <td>4639223369107552273</td>\n",
       "      <td>1564988584</td>\n",
       "      <td>247</td>\n",
       "    </tr>\n",
       "    <tr>\n",
       "      <td>197517</td>\n",
       "      <td>CartScreenAppear</td>\n",
       "      <td>3337471580007169353</td>\n",
       "      <td>1565100641</td>\n",
       "      <td>246</td>\n",
       "    </tr>\n",
       "    <tr>\n",
       "      <td>63927</td>\n",
       "      <td>CartScreenAppear</td>\n",
       "      <td>4835794310804404208</td>\n",
       "      <td>1564760639</td>\n",
       "      <td>246</td>\n",
       "    </tr>\n",
       "  </tbody>\n",
       "</table>\n",
       "</div>"
      ],
      "text/plain": [
       "                      EventName         DeviceIDHash  EventTimestamp  ExpId\n",
       "158597         MainScreenAppear  7716966784740554487      1565010687    247\n",
       "144753         MainScreenAppear   907516373885804773      1564985526    246\n",
       "129545  PaymentScreenSuccessful  7980064927529100411      1564931613    247\n",
       "173865         CartScreenAppear  2305766456715991733      1565032805    248\n",
       "241069  PaymentScreenSuccessful  2438520924615884865      1565203620    246\n",
       "51109          MainScreenAppear  2772044537339378962      1564740058    248\n",
       "177731  PaymentScreenSuccessful  2808383095708030942      1565059344    246\n",
       "146014         MainScreenAppear  4639223369107552273      1564988584    247\n",
       "197517         CartScreenAppear  3337471580007169353      1565100641    246\n",
       "63927          CartScreenAppear  4835794310804404208      1564760639    246"
      ]
     },
     "execution_count": 168,
     "metadata": {},
     "output_type": "execute_result"
    }
   ],
   "source": [
    "data= pd.read_csv(\"/datasets/logs_exp.csv\", sep=\"\\t\")\n",
    "data.sample(10)"
   ]
  },
  {
   "cell_type": "markdown",
   "metadata": {},
   "source": [
    "### Проверим пропуски и типы данных и т.д."
   ]
  },
  {
   "cell_type": "code",
   "execution_count": 169,
   "metadata": {},
   "outputs": [
    {
     "data": {
      "text/plain": [
       "413"
      ]
     },
     "execution_count": 169,
     "metadata": {},
     "output_type": "execute_result"
    }
   ],
   "source": [
    "data.duplicated().sum()"
   ]
  },
  {
   "cell_type": "code",
   "execution_count": 170,
   "metadata": {},
   "outputs": [
    {
     "name": "stdout",
     "output_type": "stream",
     "text": [
      "Процент дубликатов в датасете: 0.17%\n"
     ]
    }
   ],
   "source": [
    "print('Процент дубликатов в датасете: {:.2%}'.format(data.duplicated().sum() / data['DeviceIDHash'].count()))"
   ]
  },
  {
   "cell_type": "markdown",
   "metadata": {},
   "source": [
    "В датасете 413 дубликатов или 0.17%. Удалим их."
   ]
  },
  {
   "cell_type": "code",
   "execution_count": 171,
   "metadata": {},
   "outputs": [
    {
     "name": "stdout",
     "output_type": "stream",
     "text": [
      "<class 'pandas.core.frame.DataFrame'>\n",
      "RangeIndex: 243713 entries, 0 to 243712\n",
      "Data columns (total 4 columns):\n",
      "EventName         243713 non-null object\n",
      "DeviceIDHash      243713 non-null int64\n",
      "EventTimestamp    243713 non-null int64\n",
      "ExpId             243713 non-null int64\n",
      "dtypes: int64(3), object(1)\n",
      "memory usage: 7.4+ MB\n"
     ]
    }
   ],
   "source": [
    "data = data.drop_duplicates().reset_index(drop=True) \n",
    "data.info()"
   ]
  },
  {
   "cell_type": "markdown",
   "metadata": {},
   "source": [
    "Таблица заполненна полностью. Все столбцы соответствуют своему типу. "
   ]
  },
  {
   "cell_type": "code",
   "execution_count": 172,
   "metadata": {},
   "outputs": [
    {
     "data": {
      "text/plain": [
       "array([246, 248, 247])"
      ]
     },
     "execution_count": 172,
     "metadata": {},
     "output_type": "execute_result"
    }
   ],
   "source": [
    "data['ExpId'].unique()"
   ]
  },
  {
   "cell_type": "code",
   "execution_count": 173,
   "metadata": {},
   "outputs": [
    {
     "data": {
      "text/plain": [
       "array(['MainScreenAppear', 'PaymentScreenSuccessful', 'CartScreenAppear',\n",
       "       'OffersScreenAppear', 'Tutorial'], dtype=object)"
      ]
     },
     "execution_count": 173,
     "metadata": {},
     "output_type": "execute_result"
    }
   ],
   "source": [
    "data['EventName'].unique()"
   ]
  },
  {
   "cell_type": "markdown",
   "metadata": {},
   "source": [
    "<b>Шаг 1. Вывод:</b>\n",
    "\n",
    "Данные представляют собой около 244 тысячи строк.\n",
    "\n",
    "Столбец ExpId состоит из 3-х значений экспериментов: 246 и 247 — контрольные группы, а 248 — экспериментальная.\n",
    "\n",
    "Столбец EventName (название события) включает в себя следующие данные:\n",
    "\n",
    "CartScreenAppear - Переход на экран корзины;\n",
    "\n",
    "MainScreenAppear - Переход на главный экран;\n",
    "\n",
    "OffersScreenAppear - Переход на экран предложений;\n",
    "\n",
    "PaymentScreenSuccessful - Успешное совершение платежа;\n",
    "\n",
    "Tutorial - Руководство."
   ]
  },
  {
   "cell_type": "markdown",
   "metadata": {},
   "source": [
    "# Шаг 2. Подготовим данные"
   ]
  },
  {
   "cell_type": "markdown",
   "metadata": {},
   "source": [
    "### Заменим названия столбцов"
   ]
  },
  {
   "cell_type": "code",
   "execution_count": 174,
   "metadata": {},
   "outputs": [
    {
     "data": {
      "text/html": [
       "<div>\n",
       "<style scoped>\n",
       "    .dataframe tbody tr th:only-of-type {\n",
       "        vertical-align: middle;\n",
       "    }\n",
       "\n",
       "    .dataframe tbody tr th {\n",
       "        vertical-align: top;\n",
       "    }\n",
       "\n",
       "    .dataframe thead th {\n",
       "        text-align: right;\n",
       "    }\n",
       "</style>\n",
       "<table border=\"1\" class=\"dataframe\">\n",
       "  <thead>\n",
       "    <tr style=\"text-align: right;\">\n",
       "      <th></th>\n",
       "      <th>event_name</th>\n",
       "      <th>device_id_hash</th>\n",
       "      <th>event_timestamp</th>\n",
       "      <th>exp_id</th>\n",
       "    </tr>\n",
       "  </thead>\n",
       "  <tbody>\n",
       "    <tr>\n",
       "      <td>0</td>\n",
       "      <td>MainScreenAppear</td>\n",
       "      <td>4575588528974610257</td>\n",
       "      <td>1564029816</td>\n",
       "      <td>246</td>\n",
       "    </tr>\n",
       "    <tr>\n",
       "      <td>1</td>\n",
       "      <td>MainScreenAppear</td>\n",
       "      <td>7416695313311560658</td>\n",
       "      <td>1564053102</td>\n",
       "      <td>246</td>\n",
       "    </tr>\n",
       "    <tr>\n",
       "      <td>2</td>\n",
       "      <td>PaymentScreenSuccessful</td>\n",
       "      <td>3518123091307005509</td>\n",
       "      <td>1564054127</td>\n",
       "      <td>248</td>\n",
       "    </tr>\n",
       "    <tr>\n",
       "      <td>3</td>\n",
       "      <td>CartScreenAppear</td>\n",
       "      <td>3518123091307005509</td>\n",
       "      <td>1564054127</td>\n",
       "      <td>248</td>\n",
       "    </tr>\n",
       "    <tr>\n",
       "      <td>4</td>\n",
       "      <td>PaymentScreenSuccessful</td>\n",
       "      <td>6217807653094995999</td>\n",
       "      <td>1564055322</td>\n",
       "      <td>248</td>\n",
       "    </tr>\n",
       "    <tr>\n",
       "      <td>...</td>\n",
       "      <td>...</td>\n",
       "      <td>...</td>\n",
       "      <td>...</td>\n",
       "      <td>...</td>\n",
       "    </tr>\n",
       "    <tr>\n",
       "      <td>243708</td>\n",
       "      <td>MainScreenAppear</td>\n",
       "      <td>4599628364049201812</td>\n",
       "      <td>1565212345</td>\n",
       "      <td>247</td>\n",
       "    </tr>\n",
       "    <tr>\n",
       "      <td>243709</td>\n",
       "      <td>MainScreenAppear</td>\n",
       "      <td>5849806612437486590</td>\n",
       "      <td>1565212439</td>\n",
       "      <td>246</td>\n",
       "    </tr>\n",
       "    <tr>\n",
       "      <td>243710</td>\n",
       "      <td>MainScreenAppear</td>\n",
       "      <td>5746969938801999050</td>\n",
       "      <td>1565212483</td>\n",
       "      <td>246</td>\n",
       "    </tr>\n",
       "    <tr>\n",
       "      <td>243711</td>\n",
       "      <td>MainScreenAppear</td>\n",
       "      <td>5746969938801999050</td>\n",
       "      <td>1565212498</td>\n",
       "      <td>246</td>\n",
       "    </tr>\n",
       "    <tr>\n",
       "      <td>243712</td>\n",
       "      <td>OffersScreenAppear</td>\n",
       "      <td>5746969938801999050</td>\n",
       "      <td>1565212517</td>\n",
       "      <td>246</td>\n",
       "    </tr>\n",
       "  </tbody>\n",
       "</table>\n",
       "<p>243713 rows × 4 columns</p>\n",
       "</div>"
      ],
      "text/plain": [
       "                     event_name       device_id_hash  event_timestamp  exp_id\n",
       "0              MainScreenAppear  4575588528974610257       1564029816     246\n",
       "1              MainScreenAppear  7416695313311560658       1564053102     246\n",
       "2       PaymentScreenSuccessful  3518123091307005509       1564054127     248\n",
       "3              CartScreenAppear  3518123091307005509       1564054127     248\n",
       "4       PaymentScreenSuccessful  6217807653094995999       1564055322     248\n",
       "...                         ...                  ...              ...     ...\n",
       "243708         MainScreenAppear  4599628364049201812       1565212345     247\n",
       "243709         MainScreenAppear  5849806612437486590       1565212439     246\n",
       "243710         MainScreenAppear  5746969938801999050       1565212483     246\n",
       "243711         MainScreenAppear  5746969938801999050       1565212498     246\n",
       "243712       OffersScreenAppear  5746969938801999050       1565212517     246\n",
       "\n",
       "[243713 rows x 4 columns]"
      ]
     },
     "execution_count": 174,
     "metadata": {},
     "output_type": "execute_result"
    }
   ],
   "source": [
    "data.columns = ['event_name', 'device_id_hash', 'event_timestamp', 'exp_id']\n",
    "data"
   ]
  },
  {
   "cell_type": "markdown",
   "metadata": {},
   "source": [
    "### Добавим столбец даты и времени, а также отдельный столбец дат"
   ]
  },
  {
   "cell_type": "code",
   "execution_count": 175,
   "metadata": {},
   "outputs": [
    {
     "data": {
      "text/html": [
       "<div>\n",
       "<style scoped>\n",
       "    .dataframe tbody tr th:only-of-type {\n",
       "        vertical-align: middle;\n",
       "    }\n",
       "\n",
       "    .dataframe tbody tr th {\n",
       "        vertical-align: top;\n",
       "    }\n",
       "\n",
       "    .dataframe thead th {\n",
       "        text-align: right;\n",
       "    }\n",
       "</style>\n",
       "<table border=\"1\" class=\"dataframe\">\n",
       "  <thead>\n",
       "    <tr style=\"text-align: right;\">\n",
       "      <th></th>\n",
       "      <th>event_name</th>\n",
       "      <th>device_id_hash</th>\n",
       "      <th>event_timestamp</th>\n",
       "      <th>exp_id</th>\n",
       "      <th>event_time_sec</th>\n",
       "    </tr>\n",
       "  </thead>\n",
       "  <tbody>\n",
       "    <tr>\n",
       "      <td>0</td>\n",
       "      <td>MainScreenAppear</td>\n",
       "      <td>4575588528974610257</td>\n",
       "      <td>1564029816</td>\n",
       "      <td>246</td>\n",
       "      <td>2019-07-25 04:43:36</td>\n",
       "    </tr>\n",
       "    <tr>\n",
       "      <td>1</td>\n",
       "      <td>MainScreenAppear</td>\n",
       "      <td>7416695313311560658</td>\n",
       "      <td>1564053102</td>\n",
       "      <td>246</td>\n",
       "      <td>2019-07-25 11:11:42</td>\n",
       "    </tr>\n",
       "    <tr>\n",
       "      <td>2</td>\n",
       "      <td>PaymentScreenSuccessful</td>\n",
       "      <td>3518123091307005509</td>\n",
       "      <td>1564054127</td>\n",
       "      <td>248</td>\n",
       "      <td>2019-07-25 11:28:47</td>\n",
       "    </tr>\n",
       "    <tr>\n",
       "      <td>3</td>\n",
       "      <td>CartScreenAppear</td>\n",
       "      <td>3518123091307005509</td>\n",
       "      <td>1564054127</td>\n",
       "      <td>248</td>\n",
       "      <td>2019-07-25 11:28:47</td>\n",
       "    </tr>\n",
       "    <tr>\n",
       "      <td>4</td>\n",
       "      <td>PaymentScreenSuccessful</td>\n",
       "      <td>6217807653094995999</td>\n",
       "      <td>1564055322</td>\n",
       "      <td>248</td>\n",
       "      <td>2019-07-25 11:48:42</td>\n",
       "    </tr>\n",
       "    <tr>\n",
       "      <td>...</td>\n",
       "      <td>...</td>\n",
       "      <td>...</td>\n",
       "      <td>...</td>\n",
       "      <td>...</td>\n",
       "      <td>...</td>\n",
       "    </tr>\n",
       "    <tr>\n",
       "      <td>243708</td>\n",
       "      <td>MainScreenAppear</td>\n",
       "      <td>4599628364049201812</td>\n",
       "      <td>1565212345</td>\n",
       "      <td>247</td>\n",
       "      <td>2019-08-07 21:12:25</td>\n",
       "    </tr>\n",
       "    <tr>\n",
       "      <td>243709</td>\n",
       "      <td>MainScreenAppear</td>\n",
       "      <td>5849806612437486590</td>\n",
       "      <td>1565212439</td>\n",
       "      <td>246</td>\n",
       "      <td>2019-08-07 21:13:59</td>\n",
       "    </tr>\n",
       "    <tr>\n",
       "      <td>243710</td>\n",
       "      <td>MainScreenAppear</td>\n",
       "      <td>5746969938801999050</td>\n",
       "      <td>1565212483</td>\n",
       "      <td>246</td>\n",
       "      <td>2019-08-07 21:14:43</td>\n",
       "    </tr>\n",
       "    <tr>\n",
       "      <td>243711</td>\n",
       "      <td>MainScreenAppear</td>\n",
       "      <td>5746969938801999050</td>\n",
       "      <td>1565212498</td>\n",
       "      <td>246</td>\n",
       "      <td>2019-08-07 21:14:58</td>\n",
       "    </tr>\n",
       "    <tr>\n",
       "      <td>243712</td>\n",
       "      <td>OffersScreenAppear</td>\n",
       "      <td>5746969938801999050</td>\n",
       "      <td>1565212517</td>\n",
       "      <td>246</td>\n",
       "      <td>2019-08-07 21:15:17</td>\n",
       "    </tr>\n",
       "  </tbody>\n",
       "</table>\n",
       "<p>243713 rows × 5 columns</p>\n",
       "</div>"
      ],
      "text/plain": [
       "                     event_name       device_id_hash  event_timestamp  exp_id  \\\n",
       "0              MainScreenAppear  4575588528974610257       1564029816     246   \n",
       "1              MainScreenAppear  7416695313311560658       1564053102     246   \n",
       "2       PaymentScreenSuccessful  3518123091307005509       1564054127     248   \n",
       "3              CartScreenAppear  3518123091307005509       1564054127     248   \n",
       "4       PaymentScreenSuccessful  6217807653094995999       1564055322     248   \n",
       "...                         ...                  ...              ...     ...   \n",
       "243708         MainScreenAppear  4599628364049201812       1565212345     247   \n",
       "243709         MainScreenAppear  5849806612437486590       1565212439     246   \n",
       "243710         MainScreenAppear  5746969938801999050       1565212483     246   \n",
       "243711         MainScreenAppear  5746969938801999050       1565212498     246   \n",
       "243712       OffersScreenAppear  5746969938801999050       1565212517     246   \n",
       "\n",
       "            event_time_sec  \n",
       "0      2019-07-25 04:43:36  \n",
       "1      2019-07-25 11:11:42  \n",
       "2      2019-07-25 11:28:47  \n",
       "3      2019-07-25 11:28:47  \n",
       "4      2019-07-25 11:48:42  \n",
       "...                    ...  \n",
       "243708 2019-08-07 21:12:25  \n",
       "243709 2019-08-07 21:13:59  \n",
       "243710 2019-08-07 21:14:43  \n",
       "243711 2019-08-07 21:14:58  \n",
       "243712 2019-08-07 21:15:17  \n",
       "\n",
       "[243713 rows x 5 columns]"
      ]
     },
     "execution_count": 175,
     "metadata": {},
     "output_type": "execute_result"
    }
   ],
   "source": [
    "data['event_time_sec'] = pd.to_datetime(data['event_timestamp'], unit='s', origin='unix') \n",
    "data"
   ]
  },
  {
   "cell_type": "code",
   "execution_count": 176,
   "metadata": {},
   "outputs": [
    {
     "data": {
      "text/html": [
       "<div>\n",
       "<style scoped>\n",
       "    .dataframe tbody tr th:only-of-type {\n",
       "        vertical-align: middle;\n",
       "    }\n",
       "\n",
       "    .dataframe tbody tr th {\n",
       "        vertical-align: top;\n",
       "    }\n",
       "\n",
       "    .dataframe thead th {\n",
       "        text-align: right;\n",
       "    }\n",
       "</style>\n",
       "<table border=\"1\" class=\"dataframe\">\n",
       "  <thead>\n",
       "    <tr style=\"text-align: right;\">\n",
       "      <th></th>\n",
       "      <th>event_name</th>\n",
       "      <th>device_id_hash</th>\n",
       "      <th>event_timestamp</th>\n",
       "      <th>exp_id</th>\n",
       "      <th>event_time_sec</th>\n",
       "      <th>event_time_day</th>\n",
       "    </tr>\n",
       "  </thead>\n",
       "  <tbody>\n",
       "    <tr>\n",
       "      <td>0</td>\n",
       "      <td>MainScreenAppear</td>\n",
       "      <td>4575588528974610257</td>\n",
       "      <td>1564029816</td>\n",
       "      <td>246</td>\n",
       "      <td>2019-07-25 04:43:36</td>\n",
       "      <td>25</td>\n",
       "    </tr>\n",
       "    <tr>\n",
       "      <td>1</td>\n",
       "      <td>MainScreenAppear</td>\n",
       "      <td>7416695313311560658</td>\n",
       "      <td>1564053102</td>\n",
       "      <td>246</td>\n",
       "      <td>2019-07-25 11:11:42</td>\n",
       "      <td>25</td>\n",
       "    </tr>\n",
       "    <tr>\n",
       "      <td>2</td>\n",
       "      <td>PaymentScreenSuccessful</td>\n",
       "      <td>3518123091307005509</td>\n",
       "      <td>1564054127</td>\n",
       "      <td>248</td>\n",
       "      <td>2019-07-25 11:28:47</td>\n",
       "      <td>25</td>\n",
       "    </tr>\n",
       "    <tr>\n",
       "      <td>3</td>\n",
       "      <td>CartScreenAppear</td>\n",
       "      <td>3518123091307005509</td>\n",
       "      <td>1564054127</td>\n",
       "      <td>248</td>\n",
       "      <td>2019-07-25 11:28:47</td>\n",
       "      <td>25</td>\n",
       "    </tr>\n",
       "    <tr>\n",
       "      <td>4</td>\n",
       "      <td>PaymentScreenSuccessful</td>\n",
       "      <td>6217807653094995999</td>\n",
       "      <td>1564055322</td>\n",
       "      <td>248</td>\n",
       "      <td>2019-07-25 11:48:42</td>\n",
       "      <td>25</td>\n",
       "    </tr>\n",
       "    <tr>\n",
       "      <td>...</td>\n",
       "      <td>...</td>\n",
       "      <td>...</td>\n",
       "      <td>...</td>\n",
       "      <td>...</td>\n",
       "      <td>...</td>\n",
       "      <td>...</td>\n",
       "    </tr>\n",
       "    <tr>\n",
       "      <td>243708</td>\n",
       "      <td>MainScreenAppear</td>\n",
       "      <td>4599628364049201812</td>\n",
       "      <td>1565212345</td>\n",
       "      <td>247</td>\n",
       "      <td>2019-08-07 21:12:25</td>\n",
       "      <td>7</td>\n",
       "    </tr>\n",
       "    <tr>\n",
       "      <td>243709</td>\n",
       "      <td>MainScreenAppear</td>\n",
       "      <td>5849806612437486590</td>\n",
       "      <td>1565212439</td>\n",
       "      <td>246</td>\n",
       "      <td>2019-08-07 21:13:59</td>\n",
       "      <td>7</td>\n",
       "    </tr>\n",
       "    <tr>\n",
       "      <td>243710</td>\n",
       "      <td>MainScreenAppear</td>\n",
       "      <td>5746969938801999050</td>\n",
       "      <td>1565212483</td>\n",
       "      <td>246</td>\n",
       "      <td>2019-08-07 21:14:43</td>\n",
       "      <td>7</td>\n",
       "    </tr>\n",
       "    <tr>\n",
       "      <td>243711</td>\n",
       "      <td>MainScreenAppear</td>\n",
       "      <td>5746969938801999050</td>\n",
       "      <td>1565212498</td>\n",
       "      <td>246</td>\n",
       "      <td>2019-08-07 21:14:58</td>\n",
       "      <td>7</td>\n",
       "    </tr>\n",
       "    <tr>\n",
       "      <td>243712</td>\n",
       "      <td>OffersScreenAppear</td>\n",
       "      <td>5746969938801999050</td>\n",
       "      <td>1565212517</td>\n",
       "      <td>246</td>\n",
       "      <td>2019-08-07 21:15:17</td>\n",
       "      <td>7</td>\n",
       "    </tr>\n",
       "  </tbody>\n",
       "</table>\n",
       "<p>243713 rows × 6 columns</p>\n",
       "</div>"
      ],
      "text/plain": [
       "                     event_name       device_id_hash  event_timestamp  exp_id  \\\n",
       "0              MainScreenAppear  4575588528974610257       1564029816     246   \n",
       "1              MainScreenAppear  7416695313311560658       1564053102     246   \n",
       "2       PaymentScreenSuccessful  3518123091307005509       1564054127     248   \n",
       "3              CartScreenAppear  3518123091307005509       1564054127     248   \n",
       "4       PaymentScreenSuccessful  6217807653094995999       1564055322     248   \n",
       "...                         ...                  ...              ...     ...   \n",
       "243708         MainScreenAppear  4599628364049201812       1565212345     247   \n",
       "243709         MainScreenAppear  5849806612437486590       1565212439     246   \n",
       "243710         MainScreenAppear  5746969938801999050       1565212483     246   \n",
       "243711         MainScreenAppear  5746969938801999050       1565212498     246   \n",
       "243712       OffersScreenAppear  5746969938801999050       1565212517     246   \n",
       "\n",
       "            event_time_sec  event_time_day  \n",
       "0      2019-07-25 04:43:36              25  \n",
       "1      2019-07-25 11:11:42              25  \n",
       "2      2019-07-25 11:28:47              25  \n",
       "3      2019-07-25 11:28:47              25  \n",
       "4      2019-07-25 11:48:42              25  \n",
       "...                    ...             ...  \n",
       "243708 2019-08-07 21:12:25               7  \n",
       "243709 2019-08-07 21:13:59               7  \n",
       "243710 2019-08-07 21:14:43               7  \n",
       "243711 2019-08-07 21:14:58               7  \n",
       "243712 2019-08-07 21:15:17               7  \n",
       "\n",
       "[243713 rows x 6 columns]"
      ]
     },
     "execution_count": 176,
     "metadata": {},
     "output_type": "execute_result"
    }
   ],
   "source": [
    "data['event_time_day'] = data['event_time_sec'].dt.day\n",
    "data"
   ]
  },
  {
   "cell_type": "markdown",
   "metadata": {},
   "source": [
    "<b>Шаг 2. Вывод:</b>\n",
    "\n",
    "Для удобства мы привели названия столбцов датасета к ниднему регистру и разделили названия через \"_\". Определили время для каждого события и записали его в столбец event_time_sec. Выделили дату каждого события в столбец event_time_day."
   ]
  },
  {
   "cell_type": "markdown",
   "metadata": {},
   "source": [
    "# Шаг 3. Изучим и проверим данные"
   ]
  },
  {
   "cell_type": "markdown",
   "metadata": {},
   "source": [
    "### Определим сколько всего событий в логе"
   ]
  },
  {
   "cell_type": "code",
   "execution_count": 177,
   "metadata": {},
   "outputs": [
    {
     "name": "stdout",
     "output_type": "stream",
     "text": [
      "<class 'pandas.core.frame.DataFrame'>\n",
      "RangeIndex: 243713 entries, 0 to 243712\n",
      "Data columns (total 6 columns):\n",
      "event_name         243713 non-null object\n",
      "device_id_hash     243713 non-null int64\n",
      "event_timestamp    243713 non-null int64\n",
      "exp_id             243713 non-null int64\n",
      "event_time_sec     243713 non-null datetime64[ns]\n",
      "event_time_day     243713 non-null int64\n",
      "dtypes: datetime64[ns](1), int64(4), object(1)\n",
      "memory usage: 11.2+ MB\n"
     ]
    }
   ],
   "source": [
    "data.info()"
   ]
  },
  {
   "cell_type": "code",
   "execution_count": 178,
   "metadata": {},
   "outputs": [
    {
     "data": {
      "text/html": [
       "<div>\n",
       "<style scoped>\n",
       "    .dataframe tbody tr th:only-of-type {\n",
       "        vertical-align: middle;\n",
       "    }\n",
       "\n",
       "    .dataframe tbody tr th {\n",
       "        vertical-align: top;\n",
       "    }\n",
       "\n",
       "    .dataframe thead th {\n",
       "        text-align: right;\n",
       "    }\n",
       "</style>\n",
       "<table border=\"1\" class=\"dataframe\">\n",
       "  <thead>\n",
       "    <tr style=\"text-align: right;\">\n",
       "      <th></th>\n",
       "      <th>exp_id</th>\n",
       "    </tr>\n",
       "    <tr>\n",
       "      <th>event_name</th>\n",
       "      <th></th>\n",
       "    </tr>\n",
       "  </thead>\n",
       "  <tbody>\n",
       "    <tr>\n",
       "      <td>CartScreenAppear</td>\n",
       "      <td>42668</td>\n",
       "    </tr>\n",
       "    <tr>\n",
       "      <td>MainScreenAppear</td>\n",
       "      <td>119101</td>\n",
       "    </tr>\n",
       "    <tr>\n",
       "      <td>OffersScreenAppear</td>\n",
       "      <td>46808</td>\n",
       "    </tr>\n",
       "    <tr>\n",
       "      <td>PaymentScreenSuccessful</td>\n",
       "      <td>34118</td>\n",
       "    </tr>\n",
       "    <tr>\n",
       "      <td>Tutorial</td>\n",
       "      <td>1018</td>\n",
       "    </tr>\n",
       "  </tbody>\n",
       "</table>\n",
       "</div>"
      ],
      "text/plain": [
       "                         exp_id\n",
       "event_name                     \n",
       "CartScreenAppear          42668\n",
       "MainScreenAppear         119101\n",
       "OffersScreenAppear        46808\n",
       "PaymentScreenSuccessful   34118\n",
       "Tutorial                   1018"
      ]
     },
     "execution_count": 178,
     "metadata": {},
     "output_type": "execute_result"
    }
   ],
   "source": [
    "stat_event = data.pivot_table(index=\"event_name\", values=\"exp_id\", aggfunc = 'count')\n",
    "stat_event"
   ]
  },
  {
   "cell_type": "markdown",
   "metadata": {},
   "source": [
    "В нашем датасете всего 243713 события.\n",
    "Из них:\n",
    "\n",
    "Переход на экран корзины - 42668 события;\n",
    "\n",
    "Переход на главный экран - 119101 события;\n",
    "\n",
    "Переход на экран предложений - 46808 события;\n",
    "\n",
    "Успешное совершение платежа - 34118 события;\n",
    "\n",
    "Изучение руководства - 1018 событий."
   ]
  },
  {
   "cell_type": "code",
   "execution_count": 179,
   "metadata": {},
   "outputs": [
    {
     "data": {
      "text/html": [
       "<div>\n",
       "<style scoped>\n",
       "    .dataframe tbody tr th:only-of-type {\n",
       "        vertical-align: middle;\n",
       "    }\n",
       "\n",
       "    .dataframe tbody tr th {\n",
       "        vertical-align: top;\n",
       "    }\n",
       "\n",
       "    .dataframe thead th {\n",
       "        text-align: right;\n",
       "    }\n",
       "</style>\n",
       "<table border=\"1\" class=\"dataframe\">\n",
       "  <thead>\n",
       "    <tr style=\"text-align: right;\">\n",
       "      <th></th>\n",
       "      <th>event_name</th>\n",
       "    </tr>\n",
       "    <tr>\n",
       "      <th>exp_id</th>\n",
       "      <th></th>\n",
       "    </tr>\n",
       "  </thead>\n",
       "  <tbody>\n",
       "    <tr>\n",
       "      <td>246</td>\n",
       "      <td>80181</td>\n",
       "    </tr>\n",
       "    <tr>\n",
       "      <td>247</td>\n",
       "      <td>77950</td>\n",
       "    </tr>\n",
       "    <tr>\n",
       "      <td>248</td>\n",
       "      <td>85582</td>\n",
       "    </tr>\n",
       "  </tbody>\n",
       "</table>\n",
       "</div>"
      ],
      "text/plain": [
       "        event_name\n",
       "exp_id            \n",
       "246          80181\n",
       "247          77950\n",
       "248          85582"
      ]
     },
     "execution_count": 179,
     "metadata": {},
     "output_type": "execute_result"
    }
   ],
   "source": [
    "stat_exp_id = data.pivot_table(index=\"exp_id\", values=\"event_name\", aggfunc = 'count')\n",
    "stat_exp_id"
   ]
  },
  {
   "cell_type": "markdown",
   "metadata": {},
   "source": [
    "Разделенные на 3 группы пользователи совершают примерно равное число событий: Группа А - 80181 событий, контрольная группа А - 77950 событий и группа В - 85582 событий."
   ]
  },
  {
   "cell_type": "markdown",
   "metadata": {},
   "source": [
    "### Сколько всего пользователей в логе"
   ]
  },
  {
   "cell_type": "code",
   "execution_count": 180,
   "metadata": {},
   "outputs": [
    {
     "data": {
      "text/plain": [
       "6304868067479728361    2307\n",
       "197027893265565660     1998\n",
       "4623191541214045580    1768\n",
       "6932517045703054087    1439\n",
       "1754140665440434215    1221\n",
       "                       ... \n",
       "3336727186673646149       1\n",
       "1657967711232741323       1\n",
       "425817683219936619        1\n",
       "4089770943116790924       1\n",
       "1083512226259476085       1\n",
       "Name: device_id_hash, Length: 7551, dtype: int64"
      ]
     },
     "execution_count": 180,
     "metadata": {},
     "output_type": "execute_result"
    }
   ],
   "source": [
    "data['device_id_hash'].value_counts()"
   ]
  },
  {
   "cell_type": "markdown",
   "metadata": {},
   "source": [
    "Всего у нас 7551 пользователь с числом событий от 1 до 2307. "
   ]
  },
  {
   "cell_type": "markdown",
   "metadata": {},
   "source": [
    "### Сколько в среднем событий приходится на пользователя"
   ]
  },
  {
   "cell_type": "code",
   "execution_count": 181,
   "metadata": {},
   "outputs": [
    {
     "data": {
      "text/plain": [
       "6304868067479728361    2307\n",
       "197027893265565660     1998\n",
       "4623191541214045580    1768\n",
       "6932517045703054087    1439\n",
       "1754140665440434215    1221\n",
       "3337471580007169353    1186\n",
       "7738058666231999878     888\n",
       "1055544042902443290     854\n",
       "4713748699910253089     824\n",
       "8118046800480174342     755\n",
       "Name: device_id_hash, dtype: int64"
      ]
     },
     "execution_count": 181,
     "metadata": {},
     "output_type": "execute_result"
    }
   ],
   "source": [
    "data['device_id_hash'].value_counts().head(10)"
   ]
  },
  {
   "cell_type": "code",
   "execution_count": 182,
   "metadata": {},
   "outputs": [
    {
     "data": {
      "text/plain": [
       "32.0"
      ]
     },
     "execution_count": 182,
     "metadata": {},
     "output_type": "execute_result"
    }
   ],
   "source": [
    "data['device_id_hash'].value_counts().mean().round(0)"
   ]
  },
  {
   "cell_type": "code",
   "execution_count": 183,
   "metadata": {},
   "outputs": [
    {
     "data": {
      "text/plain": [
       "20.0"
      ]
     },
     "execution_count": 183,
     "metadata": {},
     "output_type": "execute_result"
    }
   ],
   "source": [
    "data['device_id_hash'].value_counts().median()"
   ]
  },
  {
   "cell_type": "markdown",
   "metadata": {},
   "source": [
    "В среднем на одного пользователя приходится 20 событий, медианное значение сотавляет 32 события. Скорее всего в данных есть выбросы. Изучим поведение пользователя в дальнейший действиях."
   ]
  },
  {
   "cell_type": "markdown",
   "metadata": {},
   "source": [
    "### Определим за какой период мы располагаем данными. Найдем максимальную и минимальную дату. Построим гистограмму по дате и времени. "
   ]
  },
  {
   "cell_type": "code",
   "execution_count": 184,
   "metadata": {},
   "outputs": [
    {
     "data": {
      "text/plain": [
       "Timestamp('2019-07-25 04:43:36')"
      ]
     },
     "execution_count": 184,
     "metadata": {},
     "output_type": "execute_result"
    }
   ],
   "source": [
    "data['event_time_sec'].min()"
   ]
  },
  {
   "cell_type": "code",
   "execution_count": 185,
   "metadata": {},
   "outputs": [
    {
     "data": {
      "text/plain": [
       "Timestamp('2019-08-07 21:15:17')"
      ]
     },
     "execution_count": 185,
     "metadata": {},
     "output_type": "execute_result"
    }
   ],
   "source": [
    "data['event_time_sec'].max()"
   ]
  },
  {
   "cell_type": "markdown",
   "metadata": {},
   "source": [
    "Начало данных с 25 июля 2019 года, окончание 07 августа 2019 года, что составляет 2 недели."
   ]
  },
  {
   "cell_type": "markdown",
   "metadata": {},
   "source": [
    "Посмотрим как распределены данные за этот период. остроим гистограммы"
   ]
  },
  {
   "cell_type": "code",
   "execution_count": 186,
   "metadata": {},
   "outputs": [
    {
     "data": {
      "image/png": "[encoded data removed]",
      "text/plain": [
       "<Figure size 432x288 with 1 Axes>"
      ]
     },
     "metadata": {
      "needs_background": "light"
     },
     "output_type": "display_data"
    }
   ],
   "source": [
    "data.hist('event_timestamp', bins=100)\n",
    "plt.title('Гистограмма распределения событий за исследуемый период')\n",
    "plt.xlabel('Время записи в логе')\n",
    "plt.ylabel('Число событий');"
   ]
  },
  {
   "cell_type": "markdown",
   "metadata": {},
   "source": [
    "В начале исследуевого периода идет низкая активность пользователей."
   ]
  },
  {
   "cell_type": "markdown",
   "metadata": {},
   "source": [
    "Посмотрим на пользователей и их активность до 1 августа"
   ]
  },
  {
   "cell_type": "code",
   "execution_count": 187,
   "metadata": {},
   "outputs": [
    {
     "data": {
      "text/html": [
       "<div>\n",
       "<style scoped>\n",
       "    .dataframe tbody tr th:only-of-type {\n",
       "        vertical-align: middle;\n",
       "    }\n",
       "\n",
       "    .dataframe tbody tr th {\n",
       "        vertical-align: top;\n",
       "    }\n",
       "\n",
       "    .dataframe thead th {\n",
       "        text-align: right;\n",
       "    }\n",
       "</style>\n",
       "<table border=\"1\" class=\"dataframe\">\n",
       "  <thead>\n",
       "    <tr style=\"text-align: right;\">\n",
       "      <th></th>\n",
       "      <th>event_name</th>\n",
       "      <th>device_id_hash</th>\n",
       "      <th>event_timestamp</th>\n",
       "      <th>exp_id</th>\n",
       "      <th>event_time_sec</th>\n",
       "      <th>event_time_day</th>\n",
       "    </tr>\n",
       "  </thead>\n",
       "  <tbody>\n",
       "    <tr>\n",
       "      <td>0</td>\n",
       "      <td>MainScreenAppear</td>\n",
       "      <td>4575588528974610257</td>\n",
       "      <td>1564029816</td>\n",
       "      <td>246</td>\n",
       "      <td>2019-07-25 04:43:36</td>\n",
       "      <td>25</td>\n",
       "    </tr>\n",
       "    <tr>\n",
       "      <td>1</td>\n",
       "      <td>MainScreenAppear</td>\n",
       "      <td>7416695313311560658</td>\n",
       "      <td>1564053102</td>\n",
       "      <td>246</td>\n",
       "      <td>2019-07-25 11:11:42</td>\n",
       "      <td>25</td>\n",
       "    </tr>\n",
       "    <tr>\n",
       "      <td>2</td>\n",
       "      <td>PaymentScreenSuccessful</td>\n",
       "      <td>3518123091307005509</td>\n",
       "      <td>1564054127</td>\n",
       "      <td>248</td>\n",
       "      <td>2019-07-25 11:28:47</td>\n",
       "      <td>25</td>\n",
       "    </tr>\n",
       "    <tr>\n",
       "      <td>3</td>\n",
       "      <td>CartScreenAppear</td>\n",
       "      <td>3518123091307005509</td>\n",
       "      <td>1564054127</td>\n",
       "      <td>248</td>\n",
       "      <td>2019-07-25 11:28:47</td>\n",
       "      <td>25</td>\n",
       "    </tr>\n",
       "    <tr>\n",
       "      <td>4</td>\n",
       "      <td>PaymentScreenSuccessful</td>\n",
       "      <td>6217807653094995999</td>\n",
       "      <td>1564055322</td>\n",
       "      <td>248</td>\n",
       "      <td>2019-07-25 11:48:42</td>\n",
       "      <td>25</td>\n",
       "    </tr>\n",
       "    <tr>\n",
       "      <td>...</td>\n",
       "      <td>...</td>\n",
       "      <td>...</td>\n",
       "      <td>...</td>\n",
       "      <td>...</td>\n",
       "      <td>...</td>\n",
       "      <td>...</td>\n",
       "    </tr>\n",
       "    <tr>\n",
       "      <td>2821</td>\n",
       "      <td>OffersScreenAppear</td>\n",
       "      <td>2413191300976302222</td>\n",
       "      <td>1564617295</td>\n",
       "      <td>247</td>\n",
       "      <td>2019-07-31 23:54:55</td>\n",
       "      <td>31</td>\n",
       "    </tr>\n",
       "    <tr>\n",
       "      <td>2822</td>\n",
       "      <td>MainScreenAppear</td>\n",
       "      <td>5505110279185484837</td>\n",
       "      <td>1564617450</td>\n",
       "      <td>247</td>\n",
       "      <td>2019-07-31 23:57:30</td>\n",
       "      <td>31</td>\n",
       "    </tr>\n",
       "    <tr>\n",
       "      <td>2823</td>\n",
       "      <td>MainScreenAppear</td>\n",
       "      <td>5505110279185484837</td>\n",
       "      <td>1564617462</td>\n",
       "      <td>247</td>\n",
       "      <td>2019-07-31 23:57:42</td>\n",
       "      <td>31</td>\n",
       "    </tr>\n",
       "    <tr>\n",
       "      <td>2824</td>\n",
       "      <td>MainScreenAppear</td>\n",
       "      <td>5505110279185484837</td>\n",
       "      <td>1564617472</td>\n",
       "      <td>247</td>\n",
       "      <td>2019-07-31 23:57:52</td>\n",
       "      <td>31</td>\n",
       "    </tr>\n",
       "    <tr>\n",
       "      <td>2825</td>\n",
       "      <td>MainScreenAppear</td>\n",
       "      <td>2413191300976302222</td>\n",
       "      <td>1564617599</td>\n",
       "      <td>247</td>\n",
       "      <td>2019-07-31 23:59:59</td>\n",
       "      <td>31</td>\n",
       "    </tr>\n",
       "  </tbody>\n",
       "</table>\n",
       "<p>2826 rows × 6 columns</p>\n",
       "</div>"
      ],
      "text/plain": [
       "                   event_name       device_id_hash  event_timestamp  exp_id  \\\n",
       "0            MainScreenAppear  4575588528974610257       1564029816     246   \n",
       "1            MainScreenAppear  7416695313311560658       1564053102     246   \n",
       "2     PaymentScreenSuccessful  3518123091307005509       1564054127     248   \n",
       "3            CartScreenAppear  3518123091307005509       1564054127     248   \n",
       "4     PaymentScreenSuccessful  6217807653094995999       1564055322     248   \n",
       "...                       ...                  ...              ...     ...   \n",
       "2821       OffersScreenAppear  2413191300976302222       1564617295     247   \n",
       "2822         MainScreenAppear  5505110279185484837       1564617450     247   \n",
       "2823         MainScreenAppear  5505110279185484837       1564617462     247   \n",
       "2824         MainScreenAppear  5505110279185484837       1564617472     247   \n",
       "2825         MainScreenAppear  2413191300976302222       1564617599     247   \n",
       "\n",
       "          event_time_sec  event_time_day  \n",
       "0    2019-07-25 04:43:36              25  \n",
       "1    2019-07-25 11:11:42              25  \n",
       "2    2019-07-25 11:28:47              25  \n",
       "3    2019-07-25 11:28:47              25  \n",
       "4    2019-07-25 11:48:42              25  \n",
       "...                  ...             ...  \n",
       "2821 2019-07-31 23:54:55              31  \n",
       "2822 2019-07-31 23:57:30              31  \n",
       "2823 2019-07-31 23:57:42              31  \n",
       "2824 2019-07-31 23:57:52              31  \n",
       "2825 2019-07-31 23:59:59              31  \n",
       "\n",
       "[2826 rows x 6 columns]"
      ]
     },
     "execution_count": 187,
     "metadata": {},
     "output_type": "execute_result"
    }
   ],
   "source": [
    "anomaly = data.query('event_time_day > 7')\n",
    "anomaly"
   ]
  },
  {
   "cell_type": "code",
   "execution_count": 188,
   "metadata": {},
   "outputs": [
    {
     "data": {
      "text/html": [
       "<div>\n",
       "<style scoped>\n",
       "    .dataframe tbody tr th:only-of-type {\n",
       "        vertical-align: middle;\n",
       "    }\n",
       "\n",
       "    .dataframe tbody tr th {\n",
       "        vertical-align: top;\n",
       "    }\n",
       "\n",
       "    .dataframe thead th {\n",
       "        text-align: right;\n",
       "    }\n",
       "</style>\n",
       "<table border=\"1\" class=\"dataframe\">\n",
       "  <thead>\n",
       "    <tr style=\"text-align: right;\">\n",
       "      <th></th>\n",
       "      <th>index</th>\n",
       "      <th>device_id_hash</th>\n",
       "    </tr>\n",
       "  </thead>\n",
       "  <tbody>\n",
       "    <tr>\n",
       "      <td>0</td>\n",
       "      <td>1076256040994094004</td>\n",
       "      <td>39</td>\n",
       "    </tr>\n",
       "    <tr>\n",
       "      <td>1</td>\n",
       "      <td>3807928414254040303</td>\n",
       "      <td>32</td>\n",
       "    </tr>\n",
       "    <tr>\n",
       "      <td>2</td>\n",
       "      <td>5505110279185484837</td>\n",
       "      <td>29</td>\n",
       "    </tr>\n",
       "    <tr>\n",
       "      <td>3</td>\n",
       "      <td>3732189810952196067</td>\n",
       "      <td>22</td>\n",
       "    </tr>\n",
       "    <tr>\n",
       "      <td>4</td>\n",
       "      <td>5224056977998049474</td>\n",
       "      <td>22</td>\n",
       "    </tr>\n",
       "    <tr>\n",
       "      <td>...</td>\n",
       "      <td>...</td>\n",
       "      <td>...</td>\n",
       "    </tr>\n",
       "    <tr>\n",
       "      <td>1446</td>\n",
       "      <td>789235048114585398</td>\n",
       "      <td>1</td>\n",
       "    </tr>\n",
       "    <tr>\n",
       "      <td>1447</td>\n",
       "      <td>3978977709753461804</td>\n",
       "      <td>1</td>\n",
       "    </tr>\n",
       "    <tr>\n",
       "      <td>1448</td>\n",
       "      <td>1535501606752467083</td>\n",
       "      <td>1</td>\n",
       "    </tr>\n",
       "    <tr>\n",
       "      <td>1449</td>\n",
       "      <td>7244344893422246761</td>\n",
       "      <td>1</td>\n",
       "    </tr>\n",
       "    <tr>\n",
       "      <td>1450</td>\n",
       "      <td>5148222703557502114</td>\n",
       "      <td>1</td>\n",
       "    </tr>\n",
       "  </tbody>\n",
       "</table>\n",
       "<p>1451 rows × 2 columns</p>\n",
       "</div>"
      ],
      "text/plain": [
       "                    index  device_id_hash\n",
       "0     1076256040994094004              39\n",
       "1     3807928414254040303              32\n",
       "2     5505110279185484837              29\n",
       "3     3732189810952196067              22\n",
       "4     5224056977998049474              22\n",
       "...                   ...             ...\n",
       "1446   789235048114585398               1\n",
       "1447  3978977709753461804               1\n",
       "1448  1535501606752467083               1\n",
       "1449  7244344893422246761               1\n",
       "1450  5148222703557502114               1\n",
       "\n",
       "[1451 rows x 2 columns]"
      ]
     },
     "execution_count": 188,
     "metadata": {},
     "output_type": "execute_result"
    }
   ],
   "source": [
    "anomaly_id_hash = anomaly['device_id_hash'].value_counts().reset_index()\n",
    "anomaly_id_hash"
   ]
  },
  {
   "cell_type": "markdown",
   "metadata": {},
   "source": [
    "Посмотрим на случайных пользователей из данной выборки"
   ]
  },
  {
   "cell_type": "code",
   "execution_count": 189,
   "metadata": {},
   "outputs": [
    {
     "data": {
      "text/html": [
       "<div>\n",
       "<style scoped>\n",
       "    .dataframe tbody tr th:only-of-type {\n",
       "        vertical-align: middle;\n",
       "    }\n",
       "\n",
       "    .dataframe tbody tr th {\n",
       "        vertical-align: top;\n",
       "    }\n",
       "\n",
       "    .dataframe thead th {\n",
       "        text-align: right;\n",
       "    }\n",
       "</style>\n",
       "<table border=\"1\" class=\"dataframe\">\n",
       "  <thead>\n",
       "    <tr style=\"text-align: right;\">\n",
       "      <th></th>\n",
       "      <th>event_name</th>\n",
       "      <th>device_id_hash</th>\n",
       "      <th>event_timestamp</th>\n",
       "      <th>exp_id</th>\n",
       "      <th>event_time_sec</th>\n",
       "      <th>event_time_day</th>\n",
       "    </tr>\n",
       "  </thead>\n",
       "  <tbody>\n",
       "    <tr>\n",
       "      <td>1018</td>\n",
       "      <td>MainScreenAppear</td>\n",
       "      <td>1076256040994094004</td>\n",
       "      <td>1564567226</td>\n",
       "      <td>248</td>\n",
       "      <td>2019-07-31 10:00:26</td>\n",
       "      <td>31</td>\n",
       "    </tr>\n",
       "    <tr>\n",
       "      <td>1020</td>\n",
       "      <td>MainScreenAppear</td>\n",
       "      <td>1076256040994094004</td>\n",
       "      <td>1564567654</td>\n",
       "      <td>248</td>\n",
       "      <td>2019-07-31 10:07:34</td>\n",
       "      <td>31</td>\n",
       "    </tr>\n",
       "    <tr>\n",
       "      <td>1021</td>\n",
       "      <td>MainScreenAppear</td>\n",
       "      <td>1076256040994094004</td>\n",
       "      <td>1564567712</td>\n",
       "      <td>248</td>\n",
       "      <td>2019-07-31 10:08:32</td>\n",
       "      <td>31</td>\n",
       "    </tr>\n",
       "    <tr>\n",
       "      <td>1024</td>\n",
       "      <td>MainScreenAppear</td>\n",
       "      <td>1076256040994094004</td>\n",
       "      <td>1564567753</td>\n",
       "      <td>248</td>\n",
       "      <td>2019-07-31 10:09:13</td>\n",
       "      <td>31</td>\n",
       "    </tr>\n",
       "    <tr>\n",
       "      <td>1025</td>\n",
       "      <td>MainScreenAppear</td>\n",
       "      <td>1076256040994094004</td>\n",
       "      <td>1564567769</td>\n",
       "      <td>248</td>\n",
       "      <td>2019-07-31 10:09:29</td>\n",
       "      <td>31</td>\n",
       "    </tr>\n",
       "    <tr>\n",
       "      <td>...</td>\n",
       "      <td>...</td>\n",
       "      <td>...</td>\n",
       "      <td>...</td>\n",
       "      <td>...</td>\n",
       "      <td>...</td>\n",
       "      <td>...</td>\n",
       "    </tr>\n",
       "    <tr>\n",
       "      <td>241584</td>\n",
       "      <td>MainScreenAppear</td>\n",
       "      <td>1076256040994094004</td>\n",
       "      <td>1565205338</td>\n",
       "      <td>248</td>\n",
       "      <td>2019-08-07 19:15:38</td>\n",
       "      <td>7</td>\n",
       "    </tr>\n",
       "    <tr>\n",
       "      <td>241601</td>\n",
       "      <td>MainScreenAppear</td>\n",
       "      <td>1076256040994094004</td>\n",
       "      <td>1565205372</td>\n",
       "      <td>248</td>\n",
       "      <td>2019-08-07 19:16:12</td>\n",
       "      <td>7</td>\n",
       "    </tr>\n",
       "    <tr>\n",
       "      <td>241618</td>\n",
       "      <td>MainScreenAppear</td>\n",
       "      <td>1076256040994094004</td>\n",
       "      <td>1565205412</td>\n",
       "      <td>248</td>\n",
       "      <td>2019-08-07 19:16:52</td>\n",
       "      <td>7</td>\n",
       "    </tr>\n",
       "    <tr>\n",
       "      <td>241805</td>\n",
       "      <td>MainScreenAppear</td>\n",
       "      <td>1076256040994094004</td>\n",
       "      <td>1565205722</td>\n",
       "      <td>248</td>\n",
       "      <td>2019-08-07 19:22:02</td>\n",
       "      <td>7</td>\n",
       "    </tr>\n",
       "    <tr>\n",
       "      <td>241819</td>\n",
       "      <td>MainScreenAppear</td>\n",
       "      <td>1076256040994094004</td>\n",
       "      <td>1565205764</td>\n",
       "      <td>248</td>\n",
       "      <td>2019-08-07 19:22:44</td>\n",
       "      <td>7</td>\n",
       "    </tr>\n",
       "  </tbody>\n",
       "</table>\n",
       "<p>84 rows × 6 columns</p>\n",
       "</div>"
      ],
      "text/plain": [
       "              event_name       device_id_hash  event_timestamp  exp_id  \\\n",
       "1018    MainScreenAppear  1076256040994094004       1564567226     248   \n",
       "1020    MainScreenAppear  1076256040994094004       1564567654     248   \n",
       "1021    MainScreenAppear  1076256040994094004       1564567712     248   \n",
       "1024    MainScreenAppear  1076256040994094004       1564567753     248   \n",
       "1025    MainScreenAppear  1076256040994094004       1564567769     248   \n",
       "...                  ...                  ...              ...     ...   \n",
       "241584  MainScreenAppear  1076256040994094004       1565205338     248   \n",
       "241601  MainScreenAppear  1076256040994094004       1565205372     248   \n",
       "241618  MainScreenAppear  1076256040994094004       1565205412     248   \n",
       "241805  MainScreenAppear  1076256040994094004       1565205722     248   \n",
       "241819  MainScreenAppear  1076256040994094004       1565205764     248   \n",
       "\n",
       "            event_time_sec  event_time_day  \n",
       "1018   2019-07-31 10:00:26              31  \n",
       "1020   2019-07-31 10:07:34              31  \n",
       "1021   2019-07-31 10:08:32              31  \n",
       "1024   2019-07-31 10:09:13              31  \n",
       "1025   2019-07-31 10:09:29              31  \n",
       "...                    ...             ...  \n",
       "241584 2019-08-07 19:15:38               7  \n",
       "241601 2019-08-07 19:16:12               7  \n",
       "241618 2019-08-07 19:16:52               7  \n",
       "241805 2019-08-07 19:22:02               7  \n",
       "241819 2019-08-07 19:22:44               7  \n",
       "\n",
       "[84 rows x 6 columns]"
      ]
     },
     "execution_count": 189,
     "metadata": {},
     "output_type": "execute_result"
    }
   ],
   "source": [
    "anomaly_1 = data.query('device_id_hash == 1076256040994094004')\n",
    "anomaly_1"
   ]
  },
  {
   "cell_type": "code",
   "execution_count": 190,
   "metadata": {},
   "outputs": [
    {
     "data": {
      "text/html": [
       "<div>\n",
       "<style scoped>\n",
       "    .dataframe tbody tr th:only-of-type {\n",
       "        vertical-align: middle;\n",
       "    }\n",
       "\n",
       "    .dataframe tbody tr th {\n",
       "        vertical-align: top;\n",
       "    }\n",
       "\n",
       "    .dataframe thead th {\n",
       "        text-align: right;\n",
       "    }\n",
       "</style>\n",
       "<table border=\"1\" class=\"dataframe\">\n",
       "  <thead>\n",
       "    <tr style=\"text-align: right;\">\n",
       "      <th></th>\n",
       "      <th>event_name</th>\n",
       "      <th>device_id_hash</th>\n",
       "      <th>event_timestamp</th>\n",
       "      <th>exp_id</th>\n",
       "      <th>event_time_sec</th>\n",
       "      <th>event_time_day</th>\n",
       "    </tr>\n",
       "  </thead>\n",
       "  <tbody>\n",
       "    <tr>\n",
       "      <td>597</td>\n",
       "      <td>MainScreenAppear</td>\n",
       "      <td>5148222703557502114</td>\n",
       "      <td>1564495874</td>\n",
       "      <td>246</td>\n",
       "      <td>2019-07-30 14:11:14</td>\n",
       "      <td>30</td>\n",
       "    </tr>\n",
       "    <tr>\n",
       "      <td>23385</td>\n",
       "      <td>OffersScreenAppear</td>\n",
       "      <td>5148222703557502114</td>\n",
       "      <td>1564668933</td>\n",
       "      <td>246</td>\n",
       "      <td>2019-08-01 14:15:33</td>\n",
       "      <td>1</td>\n",
       "    </tr>\n",
       "    <tr>\n",
       "      <td>23399</td>\n",
       "      <td>OffersScreenAppear</td>\n",
       "      <td>5148222703557502114</td>\n",
       "      <td>1564668951</td>\n",
       "      <td>246</td>\n",
       "      <td>2019-08-01 14:15:51</td>\n",
       "      <td>1</td>\n",
       "    </tr>\n",
       "    <tr>\n",
       "      <td>23788</td>\n",
       "      <td>MainScreenAppear</td>\n",
       "      <td>5148222703557502114</td>\n",
       "      <td>1564669458</td>\n",
       "      <td>246</td>\n",
       "      <td>2019-08-01 14:24:18</td>\n",
       "      <td>1</td>\n",
       "    </tr>\n",
       "    <tr>\n",
       "      <td>25176</td>\n",
       "      <td>OffersScreenAppear</td>\n",
       "      <td>5148222703557502114</td>\n",
       "      <td>1564671301</td>\n",
       "      <td>246</td>\n",
       "      <td>2019-08-01 14:55:01</td>\n",
       "      <td>1</td>\n",
       "    </tr>\n",
       "    <tr>\n",
       "      <td>25194</td>\n",
       "      <td>PaymentScreenSuccessful</td>\n",
       "      <td>5148222703557502114</td>\n",
       "      <td>1564671312</td>\n",
       "      <td>246</td>\n",
       "      <td>2019-08-01 14:55:12</td>\n",
       "      <td>1</td>\n",
       "    </tr>\n",
       "    <tr>\n",
       "      <td>25196</td>\n",
       "      <td>CartScreenAppear</td>\n",
       "      <td>5148222703557502114</td>\n",
       "      <td>1564671313</td>\n",
       "      <td>246</td>\n",
       "      <td>2019-08-01 14:55:13</td>\n",
       "      <td>1</td>\n",
       "    </tr>\n",
       "    <tr>\n",
       "      <td>68911</td>\n",
       "      <td>MainScreenAppear</td>\n",
       "      <td>5148222703557502114</td>\n",
       "      <td>1564769463</td>\n",
       "      <td>246</td>\n",
       "      <td>2019-08-02 18:11:03</td>\n",
       "      <td>2</td>\n",
       "    </tr>\n",
       "    <tr>\n",
       "      <td>68916</td>\n",
       "      <td>OffersScreenAppear</td>\n",
       "      <td>5148222703557502114</td>\n",
       "      <td>1564769471</td>\n",
       "      <td>246</td>\n",
       "      <td>2019-08-02 18:11:11</td>\n",
       "      <td>2</td>\n",
       "    </tr>\n",
       "    <tr>\n",
       "      <td>68940</td>\n",
       "      <td>OffersScreenAppear</td>\n",
       "      <td>5148222703557502114</td>\n",
       "      <td>1564769523</td>\n",
       "      <td>246</td>\n",
       "      <td>2019-08-02 18:12:03</td>\n",
       "      <td>2</td>\n",
       "    </tr>\n",
       "    <tr>\n",
       "      <td>68944</td>\n",
       "      <td>OffersScreenAppear</td>\n",
       "      <td>5148222703557502114</td>\n",
       "      <td>1564769529</td>\n",
       "      <td>246</td>\n",
       "      <td>2019-08-02 18:12:09</td>\n",
       "      <td>2</td>\n",
       "    </tr>\n",
       "    <tr>\n",
       "      <td>198728</td>\n",
       "      <td>MainScreenAppear</td>\n",
       "      <td>5148222703557502114</td>\n",
       "      <td>1565102911</td>\n",
       "      <td>246</td>\n",
       "      <td>2019-08-06 14:48:31</td>\n",
       "      <td>6</td>\n",
       "    </tr>\n",
       "    <tr>\n",
       "      <td>198741</td>\n",
       "      <td>OffersScreenAppear</td>\n",
       "      <td>5148222703557502114</td>\n",
       "      <td>1565102935</td>\n",
       "      <td>246</td>\n",
       "      <td>2019-08-06 14:48:55</td>\n",
       "      <td>6</td>\n",
       "    </tr>\n",
       "    <tr>\n",
       "      <td>198761</td>\n",
       "      <td>MainScreenAppear</td>\n",
       "      <td>5148222703557502114</td>\n",
       "      <td>1565102968</td>\n",
       "      <td>246</td>\n",
       "      <td>2019-08-06 14:49:28</td>\n",
       "      <td>6</td>\n",
       "    </tr>\n",
       "    <tr>\n",
       "      <td>198765</td>\n",
       "      <td>OffersScreenAppear</td>\n",
       "      <td>5148222703557502114</td>\n",
       "      <td>1565102972</td>\n",
       "      <td>246</td>\n",
       "      <td>2019-08-06 14:49:32</td>\n",
       "      <td>6</td>\n",
       "    </tr>\n",
       "    <tr>\n",
       "      <td>203754</td>\n",
       "      <td>PaymentScreenSuccessful</td>\n",
       "      <td>5148222703557502114</td>\n",
       "      <td>1565109866</td>\n",
       "      <td>246</td>\n",
       "      <td>2019-08-06 16:44:26</td>\n",
       "      <td>6</td>\n",
       "    </tr>\n",
       "    <tr>\n",
       "      <td>203755</td>\n",
       "      <td>CartScreenAppear</td>\n",
       "      <td>5148222703557502114</td>\n",
       "      <td>1565109866</td>\n",
       "      <td>246</td>\n",
       "      <td>2019-08-06 16:44:26</td>\n",
       "      <td>6</td>\n",
       "    </tr>\n",
       "    <tr>\n",
       "      <td>203758</td>\n",
       "      <td>OffersScreenAppear</td>\n",
       "      <td>5148222703557502114</td>\n",
       "      <td>1565109870</td>\n",
       "      <td>246</td>\n",
       "      <td>2019-08-06 16:44:30</td>\n",
       "      <td>6</td>\n",
       "    </tr>\n",
       "    <tr>\n",
       "      <td>228033</td>\n",
       "      <td>OffersScreenAppear</td>\n",
       "      <td>5148222703557502114</td>\n",
       "      <td>1565182752</td>\n",
       "      <td>246</td>\n",
       "      <td>2019-08-07 12:59:12</td>\n",
       "      <td>7</td>\n",
       "    </tr>\n",
       "    <tr>\n",
       "      <td>228041</td>\n",
       "      <td>MainScreenAppear</td>\n",
       "      <td>5148222703557502114</td>\n",
       "      <td>1565182769</td>\n",
       "      <td>246</td>\n",
       "      <td>2019-08-07 12:59:29</td>\n",
       "      <td>7</td>\n",
       "    </tr>\n",
       "  </tbody>\n",
       "</table>\n",
       "</div>"
      ],
      "text/plain": [
       "                     event_name       device_id_hash  event_timestamp  exp_id  \\\n",
       "597            MainScreenAppear  5148222703557502114       1564495874     246   \n",
       "23385        OffersScreenAppear  5148222703557502114       1564668933     246   \n",
       "23399        OffersScreenAppear  5148222703557502114       1564668951     246   \n",
       "23788          MainScreenAppear  5148222703557502114       1564669458     246   \n",
       "25176        OffersScreenAppear  5148222703557502114       1564671301     246   \n",
       "25194   PaymentScreenSuccessful  5148222703557502114       1564671312     246   \n",
       "25196          CartScreenAppear  5148222703557502114       1564671313     246   \n",
       "68911          MainScreenAppear  5148222703557502114       1564769463     246   \n",
       "68916        OffersScreenAppear  5148222703557502114       1564769471     246   \n",
       "68940        OffersScreenAppear  5148222703557502114       1564769523     246   \n",
       "68944        OffersScreenAppear  5148222703557502114       1564769529     246   \n",
       "198728         MainScreenAppear  5148222703557502114       1565102911     246   \n",
       "198741       OffersScreenAppear  5148222703557502114       1565102935     246   \n",
       "198761         MainScreenAppear  5148222703557502114       1565102968     246   \n",
       "198765       OffersScreenAppear  5148222703557502114       1565102972     246   \n",
       "203754  PaymentScreenSuccessful  5148222703557502114       1565109866     246   \n",
       "203755         CartScreenAppear  5148222703557502114       1565109866     246   \n",
       "203758       OffersScreenAppear  5148222703557502114       1565109870     246   \n",
       "228033       OffersScreenAppear  5148222703557502114       1565182752     246   \n",
       "228041         MainScreenAppear  5148222703557502114       1565182769     246   \n",
       "\n",
       "            event_time_sec  event_time_day  \n",
       "597    2019-07-30 14:11:14              30  \n",
       "23385  2019-08-01 14:15:33               1  \n",
       "23399  2019-08-01 14:15:51               1  \n",
       "23788  2019-08-01 14:24:18               1  \n",
       "25176  2019-08-01 14:55:01               1  \n",
       "25194  2019-08-01 14:55:12               1  \n",
       "25196  2019-08-01 14:55:13               1  \n",
       "68911  2019-08-02 18:11:03               2  \n",
       "68916  2019-08-02 18:11:11               2  \n",
       "68940  2019-08-02 18:12:03               2  \n",
       "68944  2019-08-02 18:12:09               2  \n",
       "198728 2019-08-06 14:48:31               6  \n",
       "198741 2019-08-06 14:48:55               6  \n",
       "198761 2019-08-06 14:49:28               6  \n",
       "198765 2019-08-06 14:49:32               6  \n",
       "203754 2019-08-06 16:44:26               6  \n",
       "203755 2019-08-06 16:44:26               6  \n",
       "203758 2019-08-06 16:44:30               6  \n",
       "228033 2019-08-07 12:59:12               7  \n",
       "228041 2019-08-07 12:59:29               7  "
      ]
     },
     "execution_count": 190,
     "metadata": {},
     "output_type": "execute_result"
    }
   ],
   "source": [
    "anomaly_2 = data.query('device_id_hash == 5148222703557502114')\n",
    "anomaly_2"
   ]
  },
  {
   "cell_type": "code",
   "execution_count": 191,
   "metadata": {},
   "outputs": [
    {
     "data": {
      "text/html": [
       "<div>\n",
       "<style scoped>\n",
       "    .dataframe tbody tr th:only-of-type {\n",
       "        vertical-align: middle;\n",
       "    }\n",
       "\n",
       "    .dataframe tbody tr th {\n",
       "        vertical-align: top;\n",
       "    }\n",
       "\n",
       "    .dataframe thead th {\n",
       "        text-align: right;\n",
       "    }\n",
       "</style>\n",
       "<table border=\"1\" class=\"dataframe\">\n",
       "  <thead>\n",
       "    <tr style=\"text-align: right;\">\n",
       "      <th></th>\n",
       "      <th>event_name</th>\n",
       "      <th>device_id_hash</th>\n",
       "      <th>event_timestamp</th>\n",
       "      <th>exp_id</th>\n",
       "      <th>event_time_sec</th>\n",
       "      <th>event_time_day</th>\n",
       "    </tr>\n",
       "  </thead>\n",
       "  <tbody>\n",
       "    <tr>\n",
       "      <td>17</td>\n",
       "      <td>MainScreenAppear</td>\n",
       "      <td>7540130374989658208</td>\n",
       "      <td>1564144283</td>\n",
       "      <td>248</td>\n",
       "      <td>2019-07-26 12:31:23</td>\n",
       "      <td>26</td>\n",
       "    </tr>\n",
       "    <tr>\n",
       "      <td>55050</td>\n",
       "      <td>MainScreenAppear</td>\n",
       "      <td>7540130374989658208</td>\n",
       "      <td>1564746729</td>\n",
       "      <td>248</td>\n",
       "      <td>2019-08-02 11:52:09</td>\n",
       "      <td>2</td>\n",
       "    </tr>\n",
       "    <tr>\n",
       "      <td>55158</td>\n",
       "      <td>MainScreenAppear</td>\n",
       "      <td>7540130374989658208</td>\n",
       "      <td>1564746875</td>\n",
       "      <td>248</td>\n",
       "      <td>2019-08-02 11:54:35</td>\n",
       "      <td>2</td>\n",
       "    </tr>\n",
       "    <tr>\n",
       "      <td>55227</td>\n",
       "      <td>MainScreenAppear</td>\n",
       "      <td>7540130374989658208</td>\n",
       "      <td>1564747028</td>\n",
       "      <td>248</td>\n",
       "      <td>2019-08-02 11:57:08</td>\n",
       "      <td>2</td>\n",
       "    </tr>\n",
       "    <tr>\n",
       "      <td>55598</td>\n",
       "      <td>MainScreenAppear</td>\n",
       "      <td>7540130374989658208</td>\n",
       "      <td>1564747771</td>\n",
       "      <td>248</td>\n",
       "      <td>2019-08-02 12:09:31</td>\n",
       "      <td>2</td>\n",
       "    </tr>\n",
       "    <tr>\n",
       "      <td>223487</td>\n",
       "      <td>MainScreenAppear</td>\n",
       "      <td>7540130374989658208</td>\n",
       "      <td>1565173900</td>\n",
       "      <td>248</td>\n",
       "      <td>2019-08-07 10:31:40</td>\n",
       "      <td>7</td>\n",
       "    </tr>\n",
       "    <tr>\n",
       "      <td>223548</td>\n",
       "      <td>MainScreenAppear</td>\n",
       "      <td>7540130374989658208</td>\n",
       "      <td>1565173997</td>\n",
       "      <td>248</td>\n",
       "      <td>2019-08-07 10:33:17</td>\n",
       "      <td>7</td>\n",
       "    </tr>\n",
       "    <tr>\n",
       "      <td>223551</td>\n",
       "      <td>MainScreenAppear</td>\n",
       "      <td>7540130374989658208</td>\n",
       "      <td>1565173999</td>\n",
       "      <td>248</td>\n",
       "      <td>2019-08-07 10:33:19</td>\n",
       "      <td>7</td>\n",
       "    </tr>\n",
       "    <tr>\n",
       "      <td>223557</td>\n",
       "      <td>MainScreenAppear</td>\n",
       "      <td>7540130374989658208</td>\n",
       "      <td>1565174009</td>\n",
       "      <td>248</td>\n",
       "      <td>2019-08-07 10:33:29</td>\n",
       "      <td>7</td>\n",
       "    </tr>\n",
       "  </tbody>\n",
       "</table>\n",
       "</div>"
      ],
      "text/plain": [
       "              event_name       device_id_hash  event_timestamp  exp_id  \\\n",
       "17      MainScreenAppear  7540130374989658208       1564144283     248   \n",
       "55050   MainScreenAppear  7540130374989658208       1564746729     248   \n",
       "55158   MainScreenAppear  7540130374989658208       1564746875     248   \n",
       "55227   MainScreenAppear  7540130374989658208       1564747028     248   \n",
       "55598   MainScreenAppear  7540130374989658208       1564747771     248   \n",
       "223487  MainScreenAppear  7540130374989658208       1565173900     248   \n",
       "223548  MainScreenAppear  7540130374989658208       1565173997     248   \n",
       "223551  MainScreenAppear  7540130374989658208       1565173999     248   \n",
       "223557  MainScreenAppear  7540130374989658208       1565174009     248   \n",
       "\n",
       "            event_time_sec  event_time_day  \n",
       "17     2019-07-26 12:31:23              26  \n",
       "55050  2019-08-02 11:52:09               2  \n",
       "55158  2019-08-02 11:54:35               2  \n",
       "55227  2019-08-02 11:57:08               2  \n",
       "55598  2019-08-02 12:09:31               2  \n",
       "223487 2019-08-07 10:31:40               7  \n",
       "223548 2019-08-07 10:33:17               7  \n",
       "223551 2019-08-07 10:33:19               7  \n",
       "223557 2019-08-07 10:33:29               7  "
      ]
     },
     "execution_count": 191,
     "metadata": {},
     "output_type": "execute_result"
    }
   ],
   "source": [
    "anomaly_3 = data.query('device_id_hash == 7540130374989658208')\n",
    "anomaly_3"
   ]
  },
  {
   "cell_type": "code",
   "execution_count": 192,
   "metadata": {},
   "outputs": [
    {
     "data": {
      "text/html": [
       "<div>\n",
       "<style scoped>\n",
       "    .dataframe tbody tr th:only-of-type {\n",
       "        vertical-align: middle;\n",
       "    }\n",
       "\n",
       "    .dataframe tbody tr th {\n",
       "        vertical-align: top;\n",
       "    }\n",
       "\n",
       "    .dataframe thead th {\n",
       "        text-align: right;\n",
       "    }\n",
       "</style>\n",
       "<table border=\"1\" class=\"dataframe\">\n",
       "  <thead>\n",
       "    <tr style=\"text-align: right;\">\n",
       "      <th></th>\n",
       "      <th>event_name</th>\n",
       "      <th>device_id_hash</th>\n",
       "      <th>event_timestamp</th>\n",
       "      <th>exp_id</th>\n",
       "      <th>event_time_sec</th>\n",
       "      <th>event_time_day</th>\n",
       "    </tr>\n",
       "  </thead>\n",
       "  <tbody>\n",
       "    <tr>\n",
       "      <td>0</td>\n",
       "      <td>MainScreenAppear</td>\n",
       "      <td>4575588528974610257</td>\n",
       "      <td>1564029816</td>\n",
       "      <td>246</td>\n",
       "      <td>2019-07-25 04:43:36</td>\n",
       "      <td>25</td>\n",
       "    </tr>\n",
       "    <tr>\n",
       "      <td>4579</td>\n",
       "      <td>MainScreenAppear</td>\n",
       "      <td>4575588528974610257</td>\n",
       "      <td>1564633800</td>\n",
       "      <td>246</td>\n",
       "      <td>2019-08-01 04:30:00</td>\n",
       "      <td>1</td>\n",
       "    </tr>\n",
       "    <tr>\n",
       "      <td>108403</td>\n",
       "      <td>MainScreenAppear</td>\n",
       "      <td>4575588528974610257</td>\n",
       "      <td>1564888031</td>\n",
       "      <td>246</td>\n",
       "      <td>2019-08-04 03:07:11</td>\n",
       "      <td>4</td>\n",
       "    </tr>\n",
       "    <tr>\n",
       "      <td>108405</td>\n",
       "      <td>OffersScreenAppear</td>\n",
       "      <td>4575588528974610257</td>\n",
       "      <td>1564888070</td>\n",
       "      <td>246</td>\n",
       "      <td>2019-08-04 03:07:50</td>\n",
       "      <td>4</td>\n",
       "    </tr>\n",
       "    <tr>\n",
       "      <td>108408</td>\n",
       "      <td>MainScreenAppear</td>\n",
       "      <td>4575588528974610257</td>\n",
       "      <td>1564888143</td>\n",
       "      <td>246</td>\n",
       "      <td>2019-08-04 03:09:03</td>\n",
       "      <td>4</td>\n",
       "    </tr>\n",
       "    <tr>\n",
       "      <td>108410</td>\n",
       "      <td>MainScreenAppear</td>\n",
       "      <td>4575588528974610257</td>\n",
       "      <td>1564888203</td>\n",
       "      <td>246</td>\n",
       "      <td>2019-08-04 03:10:03</td>\n",
       "      <td>4</td>\n",
       "    </tr>\n",
       "    <tr>\n",
       "      <td>108414</td>\n",
       "      <td>MainScreenAppear</td>\n",
       "      <td>4575588528974610257</td>\n",
       "      <td>1564888262</td>\n",
       "      <td>246</td>\n",
       "      <td>2019-08-04 03:11:02</td>\n",
       "      <td>4</td>\n",
       "    </tr>\n",
       "    <tr>\n",
       "      <td>108415</td>\n",
       "      <td>MainScreenAppear</td>\n",
       "      <td>4575588528974610257</td>\n",
       "      <td>1564888306</td>\n",
       "      <td>246</td>\n",
       "      <td>2019-08-04 03:11:46</td>\n",
       "      <td>4</td>\n",
       "    </tr>\n",
       "    <tr>\n",
       "      <td>111075</td>\n",
       "      <td>MainScreenAppear</td>\n",
       "      <td>4575588528974610257</td>\n",
       "      <td>1564899761</td>\n",
       "      <td>246</td>\n",
       "      <td>2019-08-04 06:22:41</td>\n",
       "      <td>4</td>\n",
       "    </tr>\n",
       "    <tr>\n",
       "      <td>111732</td>\n",
       "      <td>MainScreenAppear</td>\n",
       "      <td>4575588528974610257</td>\n",
       "      <td>1564901643</td>\n",
       "      <td>246</td>\n",
       "      <td>2019-08-04 06:54:03</td>\n",
       "      <td>4</td>\n",
       "    </tr>\n",
       "    <tr>\n",
       "      <td>111964</td>\n",
       "      <td>MainScreenAppear</td>\n",
       "      <td>4575588528974610257</td>\n",
       "      <td>1564902066</td>\n",
       "      <td>246</td>\n",
       "      <td>2019-08-04 07:01:06</td>\n",
       "      <td>4</td>\n",
       "    </tr>\n",
       "    <tr>\n",
       "      <td>111965</td>\n",
       "      <td>CartScreenAppear</td>\n",
       "      <td>4575588528974610257</td>\n",
       "      <td>1564902068</td>\n",
       "      <td>246</td>\n",
       "      <td>2019-08-04 07:01:08</td>\n",
       "      <td>4</td>\n",
       "    </tr>\n",
       "    <tr>\n",
       "      <td>111966</td>\n",
       "      <td>PaymentScreenSuccessful</td>\n",
       "      <td>4575588528974610257</td>\n",
       "      <td>1564902068</td>\n",
       "      <td>246</td>\n",
       "      <td>2019-08-04 07:01:08</td>\n",
       "      <td>4</td>\n",
       "    </tr>\n",
       "    <tr>\n",
       "      <td>111967</td>\n",
       "      <td>MainScreenAppear</td>\n",
       "      <td>4575588528974610257</td>\n",
       "      <td>1564902068</td>\n",
       "      <td>246</td>\n",
       "      <td>2019-08-04 07:01:08</td>\n",
       "      <td>4</td>\n",
       "    </tr>\n",
       "    <tr>\n",
       "      <td>111970</td>\n",
       "      <td>OffersScreenAppear</td>\n",
       "      <td>4575588528974610257</td>\n",
       "      <td>1564902071</td>\n",
       "      <td>246</td>\n",
       "      <td>2019-08-04 07:01:11</td>\n",
       "      <td>4</td>\n",
       "    </tr>\n",
       "    <tr>\n",
       "      <td>112001</td>\n",
       "      <td>CartScreenAppear</td>\n",
       "      <td>4575588528974610257</td>\n",
       "      <td>1564902111</td>\n",
       "      <td>246</td>\n",
       "      <td>2019-08-04 07:01:51</td>\n",
       "      <td>4</td>\n",
       "    </tr>\n",
       "    <tr>\n",
       "      <td>112002</td>\n",
       "      <td>PaymentScreenSuccessful</td>\n",
       "      <td>4575588528974610257</td>\n",
       "      <td>1564902111</td>\n",
       "      <td>246</td>\n",
       "      <td>2019-08-04 07:01:51</td>\n",
       "      <td>4</td>\n",
       "    </tr>\n",
       "    <tr>\n",
       "      <td>115087</td>\n",
       "      <td>MainScreenAppear</td>\n",
       "      <td>4575588528974610257</td>\n",
       "      <td>1564908674</td>\n",
       "      <td>246</td>\n",
       "      <td>2019-08-04 08:51:14</td>\n",
       "      <td>4</td>\n",
       "    </tr>\n",
       "    <tr>\n",
       "      <td>127361</td>\n",
       "      <td>MainScreenAppear</td>\n",
       "      <td>4575588528974610257</td>\n",
       "      <td>1564928232</td>\n",
       "      <td>246</td>\n",
       "      <td>2019-08-04 14:17:12</td>\n",
       "      <td>4</td>\n",
       "    </tr>\n",
       "    <tr>\n",
       "      <td>127362</td>\n",
       "      <td>OffersScreenAppear</td>\n",
       "      <td>4575588528974610257</td>\n",
       "      <td>1564928236</td>\n",
       "      <td>246</td>\n",
       "      <td>2019-08-04 14:17:16</td>\n",
       "      <td>4</td>\n",
       "    </tr>\n",
       "    <tr>\n",
       "      <td>127389</td>\n",
       "      <td>OffersScreenAppear</td>\n",
       "      <td>4575588528974610257</td>\n",
       "      <td>1564928304</td>\n",
       "      <td>246</td>\n",
       "      <td>2019-08-04 14:18:24</td>\n",
       "      <td>4</td>\n",
       "    </tr>\n",
       "    <tr>\n",
       "      <td>155755</td>\n",
       "      <td>MainScreenAppear</td>\n",
       "      <td>4575588528974610257</td>\n",
       "      <td>1565006622</td>\n",
       "      <td>246</td>\n",
       "      <td>2019-08-05 12:03:42</td>\n",
       "      <td>5</td>\n",
       "    </tr>\n",
       "    <tr>\n",
       "      <td>155882</td>\n",
       "      <td>OffersScreenAppear</td>\n",
       "      <td>4575588528974610257</td>\n",
       "      <td>1565006784</td>\n",
       "      <td>246</td>\n",
       "      <td>2019-08-05 12:06:24</td>\n",
       "      <td>5</td>\n",
       "    </tr>\n",
       "  </tbody>\n",
       "</table>\n",
       "</div>"
      ],
      "text/plain": [
       "                     event_name       device_id_hash  event_timestamp  exp_id  \\\n",
       "0              MainScreenAppear  4575588528974610257       1564029816     246   \n",
       "4579           MainScreenAppear  4575588528974610257       1564633800     246   \n",
       "108403         MainScreenAppear  4575588528974610257       1564888031     246   \n",
       "108405       OffersScreenAppear  4575588528974610257       1564888070     246   \n",
       "108408         MainScreenAppear  4575588528974610257       1564888143     246   \n",
       "108410         MainScreenAppear  4575588528974610257       1564888203     246   \n",
       "108414         MainScreenAppear  4575588528974610257       1564888262     246   \n",
       "108415         MainScreenAppear  4575588528974610257       1564888306     246   \n",
       "111075         MainScreenAppear  4575588528974610257       1564899761     246   \n",
       "111732         MainScreenAppear  4575588528974610257       1564901643     246   \n",
       "111964         MainScreenAppear  4575588528974610257       1564902066     246   \n",
       "111965         CartScreenAppear  4575588528974610257       1564902068     246   \n",
       "111966  PaymentScreenSuccessful  4575588528974610257       1564902068     246   \n",
       "111967         MainScreenAppear  4575588528974610257       1564902068     246   \n",
       "111970       OffersScreenAppear  4575588528974610257       1564902071     246   \n",
       "112001         CartScreenAppear  4575588528974610257       1564902111     246   \n",
       "112002  PaymentScreenSuccessful  4575588528974610257       1564902111     246   \n",
       "115087         MainScreenAppear  4575588528974610257       1564908674     246   \n",
       "127361         MainScreenAppear  4575588528974610257       1564928232     246   \n",
       "127362       OffersScreenAppear  4575588528974610257       1564928236     246   \n",
       "127389       OffersScreenAppear  4575588528974610257       1564928304     246   \n",
       "155755         MainScreenAppear  4575588528974610257       1565006622     246   \n",
       "155882       OffersScreenAppear  4575588528974610257       1565006784     246   \n",
       "\n",
       "            event_time_sec  event_time_day  \n",
       "0      2019-07-25 04:43:36              25  \n",
       "4579   2019-08-01 04:30:00               1  \n",
       "108403 2019-08-04 03:07:11               4  \n",
       "108405 2019-08-04 03:07:50               4  \n",
       "108408 2019-08-04 03:09:03               4  \n",
       "108410 2019-08-04 03:10:03               4  \n",
       "108414 2019-08-04 03:11:02               4  \n",
       "108415 2019-08-04 03:11:46               4  \n",
       "111075 2019-08-04 06:22:41               4  \n",
       "111732 2019-08-04 06:54:03               4  \n",
       "111964 2019-08-04 07:01:06               4  \n",
       "111965 2019-08-04 07:01:08               4  \n",
       "111966 2019-08-04 07:01:08               4  \n",
       "111967 2019-08-04 07:01:08               4  \n",
       "111970 2019-08-04 07:01:11               4  \n",
       "112001 2019-08-04 07:01:51               4  \n",
       "112002 2019-08-04 07:01:51               4  \n",
       "115087 2019-08-04 08:51:14               4  \n",
       "127361 2019-08-04 14:17:12               4  \n",
       "127362 2019-08-04 14:17:16               4  \n",
       "127389 2019-08-04 14:18:24               4  \n",
       "155755 2019-08-05 12:03:42               5  \n",
       "155882 2019-08-05 12:06:24               5  "
      ]
     },
     "execution_count": 192,
     "metadata": {},
     "output_type": "execute_result"
    }
   ],
   "source": [
    "anomaly_4 = data.query('device_id_hash == 4575588528974610257')\n",
    "anomaly_4"
   ]
  },
  {
   "cell_type": "markdown",
   "metadata": {},
   "source": [
    "Скорее всего малоактивный период до 1 августа связан с тем, что в выборки попали пользователи, которые раньше начали пользоваться нашим приложение. Поскольку их доля оказалась невелика, то и активность на общем фоне выглядит малой."
   ]
  },
  {
   "cell_type": "markdown",
   "metadata": {},
   "source": [
    "Исследуем активный период данных."
   ]
  },
  {
   "cell_type": "code",
   "execution_count": 193,
   "metadata": {},
   "outputs": [
    {
     "data": {
      "image/png": "[encoded data removed]",
      "text/plain": [
       "<Figure size 1080x648 with 1 Axes>"
      ]
     },
     "metadata": {
      "needs_background": "light"
     },
     "output_type": "display_data"
    }
   ],
   "source": [
    "data.hist('event_timestamp', bins=200, range=(1564600000, 1565200000), figsize=(15, 9))\n",
    "plt.title('Гистограмма распределения событий за исследуемый период')\n",
    "plt.xlabel('Время записи в логе')\n",
    "plt.ylabel('Число событий');"
   ]
  },
  {
   "cell_type": "markdown",
   "metadata": {},
   "source": [
    "Данные несут периодический характер, прослеживаются циклическая активность связанная с суточной периодичностью (день/ночь). За последний день данные немного урезаны. Посмотрим на дневном графике распределения событий, на сколько у нас меняются эти данные в сутки"
   ]
  },
  {
   "cell_type": "code",
   "execution_count": 194,
   "metadata": {},
   "outputs": [
    {
     "data": {
      "image/png": "[encoded data removed]",
      "text/plain": [
       "<Figure size 1080x648 with 1 Axes>"
      ]
     },
     "metadata": {
      "needs_background": "light"
     },
     "output_type": "display_data"
    }
   ],
   "source": [
    "data.hist('event_time_day', bins=200, figsize=(15, 9))\n",
    "plt.title('Гистограмма распределения событий по дням')\n",
    "plt.xlabel('День в логе')\n",
    "plt.ylabel('Число событий');"
   ]
  },
  {
   "cell_type": "markdown",
   "metadata": {},
   "source": [
    "У нас представленны данные в основном за 7 дней. За последный день данные немного обрезаны, но это не сильно влияет на суточные показатели активности. "
   ]
  },
  {
   "cell_type": "markdown",
   "metadata": {},
   "source": [
    "### Определим много ли событий и пользователей мы потеряли, отбросив старые данные"
   ]
  },
  {
   "cell_type": "markdown",
   "metadata": {},
   "source": [
    "Отбросим данные которые не попали в наш активный период с 1 по 7 день августа 2019 года"
   ]
  },
  {
   "cell_type": "code",
   "execution_count": 195,
   "metadata": {},
   "outputs": [
    {
     "data": {
      "text/html": [
       "<div>\n",
       "<style scoped>\n",
       "    .dataframe tbody tr th:only-of-type {\n",
       "        vertical-align: middle;\n",
       "    }\n",
       "\n",
       "    .dataframe tbody tr th {\n",
       "        vertical-align: top;\n",
       "    }\n",
       "\n",
       "    .dataframe thead th {\n",
       "        text-align: right;\n",
       "    }\n",
       "</style>\n",
       "<table border=\"1\" class=\"dataframe\">\n",
       "  <thead>\n",
       "    <tr style=\"text-align: right;\">\n",
       "      <th></th>\n",
       "      <th>event_name</th>\n",
       "      <th>device_id_hash</th>\n",
       "      <th>event_timestamp</th>\n",
       "      <th>exp_id</th>\n",
       "      <th>event_time_sec</th>\n",
       "      <th>event_time_day</th>\n",
       "    </tr>\n",
       "  </thead>\n",
       "  <tbody>\n",
       "    <tr>\n",
       "      <td>2826</td>\n",
       "      <td>Tutorial</td>\n",
       "      <td>3737462046622621720</td>\n",
       "      <td>1564618048</td>\n",
       "      <td>246</td>\n",
       "      <td>2019-08-01 00:07:28</td>\n",
       "      <td>1</td>\n",
       "    </tr>\n",
       "    <tr>\n",
       "      <td>2827</td>\n",
       "      <td>MainScreenAppear</td>\n",
       "      <td>3737462046622621720</td>\n",
       "      <td>1564618080</td>\n",
       "      <td>246</td>\n",
       "      <td>2019-08-01 00:08:00</td>\n",
       "      <td>1</td>\n",
       "    </tr>\n",
       "    <tr>\n",
       "      <td>2828</td>\n",
       "      <td>MainScreenAppear</td>\n",
       "      <td>3737462046622621720</td>\n",
       "      <td>1564618135</td>\n",
       "      <td>246</td>\n",
       "      <td>2019-08-01 00:08:55</td>\n",
       "      <td>1</td>\n",
       "    </tr>\n",
       "    <tr>\n",
       "      <td>2829</td>\n",
       "      <td>OffersScreenAppear</td>\n",
       "      <td>3737462046622621720</td>\n",
       "      <td>1564618138</td>\n",
       "      <td>246</td>\n",
       "      <td>2019-08-01 00:08:58</td>\n",
       "      <td>1</td>\n",
       "    </tr>\n",
       "    <tr>\n",
       "      <td>2830</td>\n",
       "      <td>MainScreenAppear</td>\n",
       "      <td>1433840883824088890</td>\n",
       "      <td>1564618139</td>\n",
       "      <td>247</td>\n",
       "      <td>2019-08-01 00:08:59</td>\n",
       "      <td>1</td>\n",
       "    </tr>\n",
       "    <tr>\n",
       "      <td>...</td>\n",
       "      <td>...</td>\n",
       "      <td>...</td>\n",
       "      <td>...</td>\n",
       "      <td>...</td>\n",
       "      <td>...</td>\n",
       "      <td>...</td>\n",
       "    </tr>\n",
       "    <tr>\n",
       "      <td>243708</td>\n",
       "      <td>MainScreenAppear</td>\n",
       "      <td>4599628364049201812</td>\n",
       "      <td>1565212345</td>\n",
       "      <td>247</td>\n",
       "      <td>2019-08-07 21:12:25</td>\n",
       "      <td>7</td>\n",
       "    </tr>\n",
       "    <tr>\n",
       "      <td>243709</td>\n",
       "      <td>MainScreenAppear</td>\n",
       "      <td>5849806612437486590</td>\n",
       "      <td>1565212439</td>\n",
       "      <td>246</td>\n",
       "      <td>2019-08-07 21:13:59</td>\n",
       "      <td>7</td>\n",
       "    </tr>\n",
       "    <tr>\n",
       "      <td>243710</td>\n",
       "      <td>MainScreenAppear</td>\n",
       "      <td>5746969938801999050</td>\n",
       "      <td>1565212483</td>\n",
       "      <td>246</td>\n",
       "      <td>2019-08-07 21:14:43</td>\n",
       "      <td>7</td>\n",
       "    </tr>\n",
       "    <tr>\n",
       "      <td>243711</td>\n",
       "      <td>MainScreenAppear</td>\n",
       "      <td>5746969938801999050</td>\n",
       "      <td>1565212498</td>\n",
       "      <td>246</td>\n",
       "      <td>2019-08-07 21:14:58</td>\n",
       "      <td>7</td>\n",
       "    </tr>\n",
       "    <tr>\n",
       "      <td>243712</td>\n",
       "      <td>OffersScreenAppear</td>\n",
       "      <td>5746969938801999050</td>\n",
       "      <td>1565212517</td>\n",
       "      <td>246</td>\n",
       "      <td>2019-08-07 21:15:17</td>\n",
       "      <td>7</td>\n",
       "    </tr>\n",
       "  </tbody>\n",
       "</table>\n",
       "<p>240887 rows × 6 columns</p>\n",
       "</div>"
      ],
      "text/plain": [
       "                event_name       device_id_hash  event_timestamp  exp_id  \\\n",
       "2826              Tutorial  3737462046622621720       1564618048     246   \n",
       "2827      MainScreenAppear  3737462046622621720       1564618080     246   \n",
       "2828      MainScreenAppear  3737462046622621720       1564618135     246   \n",
       "2829    OffersScreenAppear  3737462046622621720       1564618138     246   \n",
       "2830      MainScreenAppear  1433840883824088890       1564618139     247   \n",
       "...                    ...                  ...              ...     ...   \n",
       "243708    MainScreenAppear  4599628364049201812       1565212345     247   \n",
       "243709    MainScreenAppear  5849806612437486590       1565212439     246   \n",
       "243710    MainScreenAppear  5746969938801999050       1565212483     246   \n",
       "243711    MainScreenAppear  5746969938801999050       1565212498     246   \n",
       "243712  OffersScreenAppear  5746969938801999050       1565212517     246   \n",
       "\n",
       "            event_time_sec  event_time_day  \n",
       "2826   2019-08-01 00:07:28               1  \n",
       "2827   2019-08-01 00:08:00               1  \n",
       "2828   2019-08-01 00:08:55               1  \n",
       "2829   2019-08-01 00:08:58               1  \n",
       "2830   2019-08-01 00:08:59               1  \n",
       "...                    ...             ...  \n",
       "243708 2019-08-07 21:12:25               7  \n",
       "243709 2019-08-07 21:13:59               7  \n",
       "243710 2019-08-07 21:14:43               7  \n",
       "243711 2019-08-07 21:14:58               7  \n",
       "243712 2019-08-07 21:15:17               7  \n",
       "\n",
       "[240887 rows x 6 columns]"
      ]
     },
     "execution_count": 195,
     "metadata": {},
     "output_type": "execute_result"
    }
   ],
   "source": [
    "df = data.query('event_time_day >= 1' and 'event_time_day <= 7')\n",
    "df"
   ]
  },
  {
   "cell_type": "markdown",
   "metadata": {},
   "source": [
    "В общей сложности мы отбросили около 3-х тысяч событий, который не попали в наш активный исследуемый период, что составляет 1.2%"
   ]
  },
  {
   "cell_type": "code",
   "execution_count": 196,
   "metadata": {},
   "outputs": [
    {
     "data": {
      "text/html": [
       "<div>\n",
       "<style scoped>\n",
       "    .dataframe tbody tr th:only-of-type {\n",
       "        vertical-align: middle;\n",
       "    }\n",
       "\n",
       "    .dataframe tbody tr th {\n",
       "        vertical-align: top;\n",
       "    }\n",
       "\n",
       "    .dataframe thead th {\n",
       "        text-align: right;\n",
       "    }\n",
       "</style>\n",
       "<table border=\"1\" class=\"dataframe\">\n",
       "  <thead>\n",
       "    <tr style=\"text-align: right;\">\n",
       "      <th></th>\n",
       "      <th>index</th>\n",
       "      <th>device_id_hash</th>\n",
       "    </tr>\n",
       "  </thead>\n",
       "  <tbody>\n",
       "    <tr>\n",
       "      <td>0</td>\n",
       "      <td>6304868067479728361</td>\n",
       "      <td>2307</td>\n",
       "    </tr>\n",
       "    <tr>\n",
       "      <td>1</td>\n",
       "      <td>197027893265565660</td>\n",
       "      <td>1996</td>\n",
       "    </tr>\n",
       "    <tr>\n",
       "      <td>2</td>\n",
       "      <td>4623191541214045580</td>\n",
       "      <td>1768</td>\n",
       "    </tr>\n",
       "    <tr>\n",
       "      <td>3</td>\n",
       "      <td>6932517045703054087</td>\n",
       "      <td>1439</td>\n",
       "    </tr>\n",
       "    <tr>\n",
       "      <td>4</td>\n",
       "      <td>1754140665440434215</td>\n",
       "      <td>1221</td>\n",
       "    </tr>\n",
       "    <tr>\n",
       "      <td>...</td>\n",
       "      <td>...</td>\n",
       "      <td>...</td>\n",
       "    </tr>\n",
       "    <tr>\n",
       "      <td>7529</td>\n",
       "      <td>1763731551371407379</td>\n",
       "      <td>1</td>\n",
       "    </tr>\n",
       "    <tr>\n",
       "      <td>7530</td>\n",
       "      <td>2321042190695746627</td>\n",
       "      <td>1</td>\n",
       "    </tr>\n",
       "    <tr>\n",
       "      <td>7531</td>\n",
       "      <td>8295497290010115455</td>\n",
       "      <td>1</td>\n",
       "    </tr>\n",
       "    <tr>\n",
       "      <td>7532</td>\n",
       "      <td>9119948481585900272</td>\n",
       "      <td>1</td>\n",
       "    </tr>\n",
       "    <tr>\n",
       "      <td>7533</td>\n",
       "      <td>5636483232310293218</td>\n",
       "      <td>1</td>\n",
       "    </tr>\n",
       "  </tbody>\n",
       "</table>\n",
       "<p>7534 rows × 2 columns</p>\n",
       "</div>"
      ],
      "text/plain": [
       "                    index  device_id_hash\n",
       "0     6304868067479728361            2307\n",
       "1      197027893265565660            1996\n",
       "2     4623191541214045580            1768\n",
       "3     6932517045703054087            1439\n",
       "4     1754140665440434215            1221\n",
       "...                   ...             ...\n",
       "7529  1763731551371407379               1\n",
       "7530  2321042190695746627               1\n",
       "7531  8295497290010115455               1\n",
       "7532  9119948481585900272               1\n",
       "7533  5636483232310293218               1\n",
       "\n",
       "[7534 rows x 2 columns]"
      ]
     },
     "execution_count": 196,
     "metadata": {},
     "output_type": "execute_result"
    }
   ],
   "source": [
    "df_id_hash = df['device_id_hash'].value_counts().reset_index()\n",
    "df_id_hash"
   ]
  },
  {
   "cell_type": "markdown",
   "metadata": {},
   "source": [
    "### Проверим, что у нас есть пользователи из всех трёх экспериментальных групп."
   ]
  },
  {
   "cell_type": "code",
   "execution_count": 197,
   "metadata": {},
   "outputs": [
    {
     "data": {
      "text/html": [
       "<div>\n",
       "<style scoped>\n",
       "    .dataframe tbody tr th:only-of-type {\n",
       "        vertical-align: middle;\n",
       "    }\n",
       "\n",
       "    .dataframe tbody tr th {\n",
       "        vertical-align: top;\n",
       "    }\n",
       "\n",
       "    .dataframe thead th {\n",
       "        text-align: right;\n",
       "    }\n",
       "</style>\n",
       "<table border=\"1\" class=\"dataframe\">\n",
       "  <thead>\n",
       "    <tr style=\"text-align: right;\">\n",
       "      <th></th>\n",
       "      <th>device_id_hash</th>\n",
       "    </tr>\n",
       "    <tr>\n",
       "      <th>exp_id</th>\n",
       "      <th></th>\n",
       "    </tr>\n",
       "  </thead>\n",
       "  <tbody>\n",
       "    <tr>\n",
       "      <td>246</td>\n",
       "      <td>79302</td>\n",
       "    </tr>\n",
       "    <tr>\n",
       "      <td>247</td>\n",
       "      <td>77022</td>\n",
       "    </tr>\n",
       "    <tr>\n",
       "      <td>248</td>\n",
       "      <td>84563</td>\n",
       "    </tr>\n",
       "  </tbody>\n",
       "</table>\n",
       "</div>"
      ],
      "text/plain": [
       "        device_id_hash\n",
       "exp_id                \n",
       "246              79302\n",
       "247              77022\n",
       "248              84563"
      ]
     },
     "execution_count": 197,
     "metadata": {},
     "output_type": "execute_result"
    }
   ],
   "source": [
    "df_exp = df.pivot_table(index=\"exp_id\", values=\"device_id_hash\", aggfunc = 'count')\n",
    "df_exp"
   ]
  },
  {
   "cell_type": "markdown",
   "metadata": {},
   "source": [
    "Данные по группам на первый взгляд сбалансированы, пользователи присутствуют во всех группах"
   ]
  },
  {
   "cell_type": "markdown",
   "metadata": {},
   "source": [
    "<b>Шаг 3. Вывод:</b>\n",
    "\n",
    "Данные в датасете можно разделить на 2 периода: слабоактивный и исследуемый. \n",
    "\n",
    "Слабоактивный период:\n",
    "Слабоактивный период до 1-го августа в общей сложности представляют около 3-х тысяч событий, что составляет 1.2% от общего числа событий. Скорее всего малоактивный период до 1 августа связан с тем, что в выборки попали пользователи, которые раньше начали пользоваться нашим приложение. Поскольку их доля оказалась невелика, то и активность на общем фоне выглядит малой.\n",
    "Так же это может быть из за того, что мобильное приложение за неделю открывали для пользователей постепенно, выявляя различные баги.\n",
    "\n",
    "Исследуемый период:\n",
    "У нас представленны данные в основном за 7 дней. За последный день данные немного обрезаны, но это не сильно влияет на суточные показатели активности. Данные представляют с 1-го по 7-е августа и включают 240887 событий от 7534 пользователей."
   ]
  },
  {
   "cell_type": "markdown",
   "metadata": {},
   "source": [
    "# Шаг 4. Изучим воронку событий"
   ]
  },
  {
   "cell_type": "markdown",
   "metadata": {},
   "source": [
    "### Посмотрим, какие события есть в логах, как часто они встречаются. Отсортируем события по частоте"
   ]
  },
  {
   "cell_type": "code",
   "execution_count": 198,
   "metadata": {},
   "outputs": [
    {
     "data": {
      "text/html": [
       "<div>\n",
       "<style scoped>\n",
       "    .dataframe tbody tr th:only-of-type {\n",
       "        vertical-align: middle;\n",
       "    }\n",
       "\n",
       "    .dataframe tbody tr th {\n",
       "        vertical-align: top;\n",
       "    }\n",
       "\n",
       "    .dataframe thead th {\n",
       "        text-align: right;\n",
       "    }\n",
       "</style>\n",
       "<table border=\"1\" class=\"dataframe\">\n",
       "  <thead>\n",
       "    <tr style=\"text-align: right;\">\n",
       "      <th></th>\n",
       "      <th>exp_id</th>\n",
       "    </tr>\n",
       "    <tr>\n",
       "      <th>event_name</th>\n",
       "      <th></th>\n",
       "    </tr>\n",
       "  </thead>\n",
       "  <tbody>\n",
       "    <tr>\n",
       "      <td>MainScreenAppear</td>\n",
       "      <td>117328</td>\n",
       "    </tr>\n",
       "    <tr>\n",
       "      <td>OffersScreenAppear</td>\n",
       "      <td>46333</td>\n",
       "    </tr>\n",
       "    <tr>\n",
       "      <td>CartScreenAppear</td>\n",
       "      <td>42303</td>\n",
       "    </tr>\n",
       "    <tr>\n",
       "      <td>PaymentScreenSuccessful</td>\n",
       "      <td>33918</td>\n",
       "    </tr>\n",
       "    <tr>\n",
       "      <td>Tutorial</td>\n",
       "      <td>1005</td>\n",
       "    </tr>\n",
       "  </tbody>\n",
       "</table>\n",
       "</div>"
      ],
      "text/plain": [
       "                         exp_id\n",
       "event_name                     \n",
       "MainScreenAppear         117328\n",
       "OffersScreenAppear        46333\n",
       "CartScreenAppear          42303\n",
       "PaymentScreenSuccessful   33918\n",
       "Tutorial                   1005"
      ]
     },
     "execution_count": 198,
     "metadata": {},
     "output_type": "execute_result"
    }
   ],
   "source": [
    "df_stat_event = df.pivot_table(index=\"event_name\", values=\"exp_id\", aggfunc = 'count').sort_values(\n",
    "    'exp_id', ascending=False)\n",
    "df_stat_event"
   ]
  },
  {
   "cell_type": "markdown",
   "metadata": {},
   "source": [
    "Столбец EventName (название события) включает в себя следующие данные:\n",
    "\n",
    "MainScreenAppear (Переход на главный экран) - 117328 событий;\n",
    "\n",
    "OffersScreenAppear (Переход на экран предложений) - 46333 событий;\n",
    "\n",
    "CartScreenAppear (Переход на экран корзины) - 42303 событий;\n",
    "\n",
    "PaymentScreenSuccessful (Успешное совершение платежа) - 33918 событий;\n",
    "\n",
    "Tutorial (Руководство) - 1005 событий."
   ]
  },
  {
   "cell_type": "markdown",
   "metadata": {},
   "source": [
    "### Посчитаем, сколько пользователей совершали каждое из этих событий. Отсортируем события по числу пользователей. Посчитаем долю пользователей, которые хоть раз совершали событие"
   ]
  },
  {
   "cell_type": "code",
   "execution_count": 199,
   "metadata": {},
   "outputs": [],
   "source": [
    "df_device_id = df.groupby(['event_name']).agg({'device_id_hash': ['nunique']}).reset_index()\n",
    "df_device_id.columns = ['event_name', 'device_id_nunique']\n",
    "device_id_nunique = df_device_id.sort_values('device_id_nunique', ascending=False).reset_index()"
   ]
  },
  {
   "cell_type": "code",
   "execution_count": 200,
   "metadata": {},
   "outputs": [
    {
     "data": {
      "text/html": [
       "<div>\n",
       "<style scoped>\n",
       "    .dataframe tbody tr th:only-of-type {\n",
       "        vertical-align: middle;\n",
       "    }\n",
       "\n",
       "    .dataframe tbody tr th {\n",
       "        vertical-align: top;\n",
       "    }\n",
       "\n",
       "    .dataframe thead th {\n",
       "        text-align: right;\n",
       "    }\n",
       "</style>\n",
       "<table border=\"1\" class=\"dataframe\">\n",
       "  <thead>\n",
       "    <tr style=\"text-align: right;\">\n",
       "      <th></th>\n",
       "      <th>index</th>\n",
       "      <th>event_name</th>\n",
       "      <th>device_id_nunique</th>\n",
       "    </tr>\n",
       "  </thead>\n",
       "  <tbody>\n",
       "    <tr>\n",
       "      <td>0</td>\n",
       "      <td>1</td>\n",
       "      <td>MainScreenAppear</td>\n",
       "      <td>7419</td>\n",
       "    </tr>\n",
       "    <tr>\n",
       "      <td>1</td>\n",
       "      <td>2</td>\n",
       "      <td>OffersScreenAppear</td>\n",
       "      <td>4593</td>\n",
       "    </tr>\n",
       "    <tr>\n",
       "      <td>2</td>\n",
       "      <td>0</td>\n",
       "      <td>CartScreenAppear</td>\n",
       "      <td>3734</td>\n",
       "    </tr>\n",
       "    <tr>\n",
       "      <td>3</td>\n",
       "      <td>3</td>\n",
       "      <td>PaymentScreenSuccessful</td>\n",
       "      <td>3539</td>\n",
       "    </tr>\n",
       "    <tr>\n",
       "      <td>4</td>\n",
       "      <td>4</td>\n",
       "      <td>Tutorial</td>\n",
       "      <td>840</td>\n",
       "    </tr>\n",
       "  </tbody>\n",
       "</table>\n",
       "</div>"
      ],
      "text/plain": [
       "   index               event_name  device_id_nunique\n",
       "0      1         MainScreenAppear               7419\n",
       "1      2       OffersScreenAppear               4593\n",
       "2      0         CartScreenAppear               3734\n",
       "3      3  PaymentScreenSuccessful               3539\n",
       "4      4                 Tutorial                840"
      ]
     },
     "execution_count": 200,
     "metadata": {},
     "output_type": "execute_result"
    }
   ],
   "source": [
    "device_id_nunique"
   ]
  },
  {
   "cell_type": "markdown",
   "metadata": {},
   "source": [
    "Столбец device_id_nunique включает в себя следующие данные по числу пользователей, которые совершали каждое из этих событий:\n",
    "\n",
    "MainScreenAppear (Переход на главный экран) - 7419 пользователей;\n",
    "\n",
    "OffersScreenAppear (Переход на экран предложений) - 4593 пользователей;\n",
    "\n",
    "CartScreenAppear (Переход на экран корзины) - 3734 пользователей;\n",
    "\n",
    "PaymentScreenSuccessful (Успешное совершение платежа) - 3539 пользователей;\n",
    "\n",
    "Tutorial (Руководство) - 840 пользователей."
   ]
  },
  {
   "cell_type": "code",
   "execution_count": 201,
   "metadata": {},
   "outputs": [
    {
     "name": "stdout",
     "output_type": "stream",
     "text": [
      "Доля пользователей, которая хоть раз совершали событие MainScreenAppear: 100.0%\n"
     ]
    }
   ],
   "source": [
    "MainScreenAppear_share = device_id_nunique['device_id_nunique'].loc[0] / device_id_nunique['device_id_nunique'].loc[0]\n",
    "print('Доля пользователей, которая хоть раз совершали событие MainScreenAppear: {:.1%}'.format(MainScreenAppear_share))"
   ]
  },
  {
   "cell_type": "code",
   "execution_count": 202,
   "metadata": {},
   "outputs": [
    {
     "name": "stdout",
     "output_type": "stream",
     "text": [
      "Доля пользователей, которая хоть раз совершали событие OffersScreenAppear: 61.9%\n"
     ]
    }
   ],
   "source": [
    "OffersScreenAppear_share = device_id_nunique['device_id_nunique'].loc[1]/device_id_nunique['device_id_nunique'].loc[0]\n",
    "print('Доля пользователей, которая хоть раз совершали событие OffersScreenAppear: {:.1%}'.format(OffersScreenAppear_share))"
   ]
  },
  {
   "cell_type": "code",
   "execution_count": 203,
   "metadata": {},
   "outputs": [
    {
     "name": "stdout",
     "output_type": "stream",
     "text": [
      "Доля пользователей, которая хоть раз совершали событие CartScreenAppear: 50.3%\n"
     ]
    }
   ],
   "source": [
    "CartScreenAppear_share = device_id_nunique['device_id_nunique'].loc[2]/device_id_nunique['device_id_nunique'].loc[0]\n",
    "print('Доля пользователей, которая хоть раз совершали событие CartScreenAppear: {:.1%}'.format(CartScreenAppear_share))"
   ]
  },
  {
   "cell_type": "code",
   "execution_count": 204,
   "metadata": {},
   "outputs": [
    {
     "name": "stdout",
     "output_type": "stream",
     "text": [
      "Доля пользователей, которая хоть раз совершали событие PaymentScreenSuccessfulr: 47.7%\n"
     ]
    }
   ],
   "source": [
    "PaymentScreenSuccessful_share = device_id_nunique['device_id_nunique'].loc[3]/device_id_nunique['device_id_nunique'].loc[0]\n",
    "print('Доля пользователей, которая хоть раз совершали событие PaymentScreenSuccessfulr: {:.1%}'.format(\n",
    "    PaymentScreenSuccessful_share))"
   ]
  },
  {
   "cell_type": "code",
   "execution_count": 205,
   "metadata": {},
   "outputs": [
    {
     "name": "stdout",
     "output_type": "stream",
     "text": [
      "Доля пользователей, которая хоть раз совершали событие Tutorial: 11.3%\n"
     ]
    }
   ],
   "source": [
    "Tutorial_share = device_id_nunique['device_id_nunique'].loc[4]/device_id_nunique['device_id_nunique'].loc[0]\n",
    "print('Доля пользователей, которая хоть раз совершали событие Tutorial: {:.1%}'.format(Tutorial_share))"
   ]
  },
  {
   "cell_type": "markdown",
   "metadata": {},
   "source": [
    "Доля пользователей, которая хоть раз совершали событие MainScreenAppear: 100.0%\n",
    "Доля пользователей, которая хоть раз совершали событие OffersScreenAppear: 61.9%\n",
    "Доля пользователей, которая хоть раз совершали событие CartScreenAppear: 50.3%\n",
    "Доля пользователей, которая хоть раз совершали событие PaymentScreenSuccessfulr: 47.7%\n",
    "Доля пользователей, которая хоть раз совершали событие Tutorial: 11.3%"
   ]
  },
  {
   "cell_type": "markdown",
   "metadata": {},
   "source": [
    "### Предположим, в каком порядке происходят события. Определим, все ли они выстраиваются в последовательную цепочку"
   ]
  },
  {
   "cell_type": "markdown",
   "metadata": {},
   "source": [
    "Последоватльность действий для покупки в нашем интернет магазине следующая: Переход на главный экран - Переход на экран предложений - Переход на экран корзины - Успешное совершение платежа.\n",
    "\n",
    "Событие Tutorial (Руководство) является необязательным для совершения покупки, это те пользователи, которые не смогли интуитивно совершить покупку и прибегли к разъяснениям. мы смело можем исключить из анализа воронки событий."
   ]
  },
  {
   "cell_type": "code",
   "execution_count": 206,
   "metadata": {},
   "outputs": [
    {
     "data": {
      "text/html": [
       "<div>\n",
       "<style scoped>\n",
       "    .dataframe tbody tr th:only-of-type {\n",
       "        vertical-align: middle;\n",
       "    }\n",
       "\n",
       "    .dataframe tbody tr th {\n",
       "        vertical-align: top;\n",
       "    }\n",
       "\n",
       "    .dataframe thead th {\n",
       "        text-align: right;\n",
       "    }\n",
       "</style>\n",
       "<table border=\"1\" class=\"dataframe\">\n",
       "  <thead>\n",
       "    <tr style=\"text-align: right;\">\n",
       "      <th></th>\n",
       "      <th>event_name</th>\n",
       "      <th>device_id_hash</th>\n",
       "      <th>event_timestamp</th>\n",
       "      <th>exp_id</th>\n",
       "      <th>event_time_sec</th>\n",
       "      <th>event_time_day</th>\n",
       "    </tr>\n",
       "  </thead>\n",
       "  <tbody>\n",
       "    <tr>\n",
       "      <td>2827</td>\n",
       "      <td>MainScreenAppear</td>\n",
       "      <td>3737462046622621720</td>\n",
       "      <td>1564618080</td>\n",
       "      <td>246</td>\n",
       "      <td>2019-08-01 00:08:00</td>\n",
       "      <td>1</td>\n",
       "    </tr>\n",
       "    <tr>\n",
       "      <td>2828</td>\n",
       "      <td>MainScreenAppear</td>\n",
       "      <td>3737462046622621720</td>\n",
       "      <td>1564618135</td>\n",
       "      <td>246</td>\n",
       "      <td>2019-08-01 00:08:55</td>\n",
       "      <td>1</td>\n",
       "    </tr>\n",
       "    <tr>\n",
       "      <td>2829</td>\n",
       "      <td>OffersScreenAppear</td>\n",
       "      <td>3737462046622621720</td>\n",
       "      <td>1564618138</td>\n",
       "      <td>246</td>\n",
       "      <td>2019-08-01 00:08:58</td>\n",
       "      <td>1</td>\n",
       "    </tr>\n",
       "    <tr>\n",
       "      <td>2830</td>\n",
       "      <td>MainScreenAppear</td>\n",
       "      <td>1433840883824088890</td>\n",
       "      <td>1564618139</td>\n",
       "      <td>247</td>\n",
       "      <td>2019-08-01 00:08:59</td>\n",
       "      <td>1</td>\n",
       "    </tr>\n",
       "    <tr>\n",
       "      <td>2831</td>\n",
       "      <td>MainScreenAppear</td>\n",
       "      <td>4899590676214355127</td>\n",
       "      <td>1564618215</td>\n",
       "      <td>247</td>\n",
       "      <td>2019-08-01 00:10:15</td>\n",
       "      <td>1</td>\n",
       "    </tr>\n",
       "    <tr>\n",
       "      <td>...</td>\n",
       "      <td>...</td>\n",
       "      <td>...</td>\n",
       "      <td>...</td>\n",
       "      <td>...</td>\n",
       "      <td>...</td>\n",
       "      <td>...</td>\n",
       "    </tr>\n",
       "    <tr>\n",
       "      <td>243708</td>\n",
       "      <td>MainScreenAppear</td>\n",
       "      <td>4599628364049201812</td>\n",
       "      <td>1565212345</td>\n",
       "      <td>247</td>\n",
       "      <td>2019-08-07 21:12:25</td>\n",
       "      <td>7</td>\n",
       "    </tr>\n",
       "    <tr>\n",
       "      <td>243709</td>\n",
       "      <td>MainScreenAppear</td>\n",
       "      <td>5849806612437486590</td>\n",
       "      <td>1565212439</td>\n",
       "      <td>246</td>\n",
       "      <td>2019-08-07 21:13:59</td>\n",
       "      <td>7</td>\n",
       "    </tr>\n",
       "    <tr>\n",
       "      <td>243710</td>\n",
       "      <td>MainScreenAppear</td>\n",
       "      <td>5746969938801999050</td>\n",
       "      <td>1565212483</td>\n",
       "      <td>246</td>\n",
       "      <td>2019-08-07 21:14:43</td>\n",
       "      <td>7</td>\n",
       "    </tr>\n",
       "    <tr>\n",
       "      <td>243711</td>\n",
       "      <td>MainScreenAppear</td>\n",
       "      <td>5746969938801999050</td>\n",
       "      <td>1565212498</td>\n",
       "      <td>246</td>\n",
       "      <td>2019-08-07 21:14:58</td>\n",
       "      <td>7</td>\n",
       "    </tr>\n",
       "    <tr>\n",
       "      <td>243712</td>\n",
       "      <td>OffersScreenAppear</td>\n",
       "      <td>5746969938801999050</td>\n",
       "      <td>1565212517</td>\n",
       "      <td>246</td>\n",
       "      <td>2019-08-07 21:15:17</td>\n",
       "      <td>7</td>\n",
       "    </tr>\n",
       "  </tbody>\n",
       "</table>\n",
       "<p>239882 rows × 6 columns</p>\n",
       "</div>"
      ],
      "text/plain": [
       "                event_name       device_id_hash  event_timestamp  exp_id  \\\n",
       "2827      MainScreenAppear  3737462046622621720       1564618080     246   \n",
       "2828      MainScreenAppear  3737462046622621720       1564618135     246   \n",
       "2829    OffersScreenAppear  3737462046622621720       1564618138     246   \n",
       "2830      MainScreenAppear  1433840883824088890       1564618139     247   \n",
       "2831      MainScreenAppear  4899590676214355127       1564618215     247   \n",
       "...                    ...                  ...              ...     ...   \n",
       "243708    MainScreenAppear  4599628364049201812       1565212345     247   \n",
       "243709    MainScreenAppear  5849806612437486590       1565212439     246   \n",
       "243710    MainScreenAppear  5746969938801999050       1565212483     246   \n",
       "243711    MainScreenAppear  5746969938801999050       1565212498     246   \n",
       "243712  OffersScreenAppear  5746969938801999050       1565212517     246   \n",
       "\n",
       "            event_time_sec  event_time_day  \n",
       "2827   2019-08-01 00:08:00               1  \n",
       "2828   2019-08-01 00:08:55               1  \n",
       "2829   2019-08-01 00:08:58               1  \n",
       "2830   2019-08-01 00:08:59               1  \n",
       "2831   2019-08-01 00:10:15               1  \n",
       "...                    ...             ...  \n",
       "243708 2019-08-07 21:12:25               7  \n",
       "243709 2019-08-07 21:13:59               7  \n",
       "243710 2019-08-07 21:14:43               7  \n",
       "243711 2019-08-07 21:14:58               7  \n",
       "243712 2019-08-07 21:15:17               7  \n",
       "\n",
       "[239882 rows x 6 columns]"
      ]
     },
     "execution_count": 206,
     "metadata": {},
     "output_type": "execute_result"
    }
   ],
   "source": [
    "data_AB = df.query('event_name != \"Tutorial\"')\n",
    "data_AB"
   ]
  },
  {
   "cell_type": "markdown",
   "metadata": {},
   "source": [
    "По уточненным данным для изучения воронки событий мы имеем: датасет data_AB с числом совершенных событий 239882 и числом исследуемых дней -7."
   ]
  },
  {
   "cell_type": "markdown",
   "metadata": {},
   "source": [
    "### По воронке событий посчитаем, какая доля пользователей проходит на следующий шаг воронки."
   ]
  },
  {
   "cell_type": "code",
   "execution_count": 207,
   "metadata": {},
   "outputs": [
    {
     "name": "stdout",
     "output_type": "stream",
     "text": [
      "Доля пользователей, которая переходит на MainScreenAppear: 100.0%\n"
     ]
    }
   ],
   "source": [
    "MainScreenAppear_share_id = (device_id_nunique['device_id_nunique'].loc[0] \n",
    "                             / device_id_nunique['device_id_nunique'].loc[0])\n",
    "print('Доля пользователей, которая переходит на MainScreenAppear: {:.1%}'.format(MainScreenAppear_share_id))"
   ]
  },
  {
   "cell_type": "code",
   "execution_count": 208,
   "metadata": {},
   "outputs": [
    {
     "name": "stdout",
     "output_type": "stream",
     "text": [
      "Доля пользователей, которая переходит на OffersScreenApeapr: 61.9%\n"
     ]
    }
   ],
   "source": [
    "OffersScreenAppear_share_id = (device_id_nunique['device_id_nunique'].loc[1] \n",
    "                               / device_id_nunique['device_id_nunique'].loc[0])\n",
    "print('Доля пользователей, которая переходит на OffersScreenApeapr: {:.1%}'\n",
    "      .format(OffersScreenAppear_share_id))"
   ]
  },
  {
   "cell_type": "code",
   "execution_count": 209,
   "metadata": {},
   "outputs": [
    {
     "name": "stdout",
     "output_type": "stream",
     "text": [
      "Доля пользователей, которая переходит на CartScreenAppear: 81.3%\n"
     ]
    }
   ],
   "source": [
    "CartScreenAppear_share_id = (device_id_nunique['device_id_nunique'].loc[2] \n",
    "                             / device_id_nunique['device_id_nunique'].loc[1])\n",
    "print('Доля пользователей, которая переходит на CartScreenAppear: {:.1%}'.format(CartScreenAppear_share_id))"
   ]
  },
  {
   "cell_type": "code",
   "execution_count": 210,
   "metadata": {},
   "outputs": [
    {
     "name": "stdout",
     "output_type": "stream",
     "text": [
      "Доля пользователей, которая переходит на PaymentScreenSuccessfulr: 94.8%\n"
     ]
    }
   ],
   "source": [
    "PaymentScreenSuccessfulr_share_id = (device_id_nunique['device_id_nunique'].loc[3] \n",
    "                                     / device_id_nunique['device_id_nunique'].loc[2])\n",
    "print('Доля пользователей, которая переходит на PaymentScreenSuccessfulr: {:.1%}'.format(PaymentScreenSuccessfulr_share_id))"
   ]
  },
  {
   "cell_type": "markdown",
   "metadata": {},
   "source": [
    "Доля пользователей, которая переходит на MainScreenAppear: 100.0%\n",
    "Доля пользователей, которая переходит на OffersScreenApeapr: 61.9%\n",
    "Доля пользователей, которая переходит на CartScreenAppear: 81.3%\n",
    "Доля пользователей, которая переходит на PaymentScreenSuccessfulr: 94.8%"
   ]
  },
  {
   "cell_type": "markdown",
   "metadata": {},
   "source": [
    "### Определим на каком шаге теряется больше всего пользователей"
   ]
  },
  {
   "cell_type": "markdown",
   "metadata": {},
   "source": [
    "Больше всего пользователей теряется на первом шаге, то есть при заходе на главную страницу только 61.9% пользователей переходят к выбору товаров. После выбора товаров 81.3% пользователей переходят в корзину оплаты товаров. И из корзины оплаты товаров 94.8% производят ее оплату."
   ]
  },
  {
   "cell_type": "markdown",
   "metadata": {},
   "source": [
    "### Определим какая доля пользователей доходит от первого события до оплаты"
   ]
  },
  {
   "cell_type": "code",
   "execution_count": 211,
   "metadata": {},
   "outputs": [
    {
     "name": "stdout",
     "output_type": "stream",
     "text": [
      "Доля пользователей, которая доходит от первого события до оплаты: 47.7%\n"
     ]
    }
   ],
   "source": [
    "MainScreenAppear_PaymentScreenSuccessfulr = (device_id_nunique['device_id_nunique'].loc[3] \n",
    "                             / device_id_nunique['device_id_nunique'].loc[0])\n",
    "print('Доля пользователей, которая доходит от первого события до оплаты: {:.1%}'\n",
    "      .format(MainScreenAppear_PaymentScreenSuccessfulr))"
   ]
  },
  {
   "cell_type": "markdown",
   "metadata": {},
   "source": [
    "Думаю надо будет посмотреть на то, как пользователи ведут себя на сайте: \n",
    "\n",
    "Переход на <b> экран предложений </b> - по каким ссылкам переходят пользователи; на каких продуктах они отваливаются; изучить тепловую карту кликов и сделать выводы какие страницы с продуктами нужно изменить; вывести наиболее интерсное предложение на главную страницу; посмотреть, как влияет дизайт страниц приложения (может отталкивать); Упростить доступ к каталогу или сделать его интуитивно понятным.\n",
    "\n",
    "Переход на <b> экран корзины </b> - расположить значок корзины в доступном месте или там где его всегда видно.\n",
    "\n",
    "Успешное <b>совершение платежа </b> - Упростить форму корзины, возможно многим  она не нравится; минимизировать количество полей для заполнения; упростить информацию по условию и стоимости доставки; добавить способы оплаты, как пример эпл или гугл пэй ее очень сильно упрощают; возможно добавить напоминание об забытой оплате товаров. \n"
   ]
  },
  {
   "cell_type": "markdown",
   "metadata": {},
   "source": [
    "# Шаг 5. Изучим результаты эксперимента"
   ]
  },
  {
   "cell_type": "markdown",
   "metadata": {},
   "source": [
    "### Определим сколько пользователей в каждой экспериментальной группе"
   ]
  },
  {
   "cell_type": "code",
   "execution_count": 212,
   "metadata": {},
   "outputs": [
    {
     "data": {
      "text/html": [
       "<div>\n",
       "<style scoped>\n",
       "    .dataframe tbody tr th:only-of-type {\n",
       "        vertical-align: middle;\n",
       "    }\n",
       "\n",
       "    .dataframe tbody tr th {\n",
       "        vertical-align: top;\n",
       "    }\n",
       "\n",
       "    .dataframe thead th {\n",
       "        text-align: right;\n",
       "    }\n",
       "</style>\n",
       "<table border=\"1\" class=\"dataframe\">\n",
       "  <thead>\n",
       "    <tr style=\"text-align: right;\">\n",
       "      <th></th>\n",
       "      <th>event_name</th>\n",
       "    </tr>\n",
       "    <tr>\n",
       "      <th>exp_id</th>\n",
       "      <th></th>\n",
       "    </tr>\n",
       "  </thead>\n",
       "  <tbody>\n",
       "    <tr>\n",
       "      <td>246</td>\n",
       "      <td>78985</td>\n",
       "    </tr>\n",
       "    <tr>\n",
       "      <td>247</td>\n",
       "      <td>76684</td>\n",
       "    </tr>\n",
       "    <tr>\n",
       "      <td>248</td>\n",
       "      <td>84213</td>\n",
       "    </tr>\n",
       "  </tbody>\n",
       "</table>\n",
       "</div>"
      ],
      "text/plain": [
       "        event_name\n",
       "exp_id            \n",
       "246          78985\n",
       "247          76684\n",
       "248          84213"
      ]
     },
     "execution_count": 212,
     "metadata": {},
     "output_type": "execute_result"
    }
   ],
   "source": [
    "data_AB_group = data_AB.pivot_table(index=\"exp_id\", values=\"event_name\", aggfunc = 'count')\n",
    "data_AB_group"
   ]
  },
  {
   "cell_type": "markdown",
   "metadata": {},
   "source": [
    "Данные по группам на первый взгляд сбалансированы:\n",
    "Число пользователей из группы А  - 78985 человек;\n",
    "Число пользователей из контрольной группы А  - 76684 человек;\n",
    "Число пользователей из группы В  - 84213 человек."
   ]
  },
  {
   "cell_type": "markdown",
   "metadata": {},
   "source": [
    "### Проверим, находят ли статистические критерии разницу между выборками 246 и 247"
   ]
  },
  {
   "cell_type": "code",
   "execution_count": 213,
   "metadata": {},
   "outputs": [],
   "source": [
    "group_A1 = data_AB.query('exp_id == 246')\n",
    "test_A_246 = group_A1['device_id_hash'].nunique()"
   ]
  },
  {
   "cell_type": "code",
   "execution_count": 214,
   "metadata": {},
   "outputs": [],
   "source": [
    "group_A2 = data_AB.query('exp_id == 247')\n",
    "test_A_247 = group_A2['device_id_hash'].nunique()"
   ]
  },
  {
   "cell_type": "code",
   "execution_count": 215,
   "metadata": {},
   "outputs": [],
   "source": [
    "all_test_A = test_A_246 + test_A_247"
   ]
  },
  {
   "cell_type": "code",
   "execution_count": 216,
   "metadata": {},
   "outputs": [
    {
     "data": {
      "text/plain": [
       "0.4970970970970971"
      ]
     },
     "execution_count": 216,
     "metadata": {},
     "output_type": "execute_result"
    }
   ],
   "source": [
    "test_A_246 / all_test_A"
   ]
  },
  {
   "cell_type": "markdown",
   "metadata": {},
   "source": [
    "<b>Нулевая гипотеза:</b>  Среднее генеральной совокупности числа пользователей выборки 246 и выборки 247 равны между собой."
   ]
  },
  {
   "cell_type": "markdown",
   "metadata": {},
   "source": [
    "<b>Альтернативная гипотеза:</b>  Среднее генеральной совокупности числа пользователей выборки 246 и выборки 247 <b>не</b> равны между собой."
   ]
  },
  {
   "cell_type": "markdown",
   "metadata": {},
   "source": [
    "Зададим критический уровень статистической значимости в 5% для нашей нулевой гипотезы. Сопоставим две генеральные совокупности по числу пользователей выборки 246 от суммарной выборки числа пользователей. Если эта вероятность низка — по наблюдаемым данным можно сделать вывод, что, скорее всего, наше предположение всё-таки неверно"
   ]
  },
  {
   "cell_type": "code",
   "execution_count": 217,
   "metadata": {},
   "outputs": [
    {
     "name": "stdout",
     "output_type": "stream",
     "text": [
      "p-value: 0.6815609074666074\n",
      "Нулевая гипотеза не отвергается: вероятность попасть в группу А составляет 50%\n"
     ]
    }
   ],
   "source": [
    "alpha = 0.01\n",
    "alpha = alpha / 2\n",
    "pvalue = proportions_ztest(test_A_246, all_test_A, value = 0.5)[1]\n",
    "print('p-value: {}'.format(pvalue))\n",
    "if pvalue >= alpha: \n",
    "    print('Нулевая гипотеза не отвергается: вероятность попасть в группу А составляет 50%')\n",
    "else:\n",
    "    print('Нулевая гипотеза отвергается: вероятность попасть в группу А отличается от 50%')"
   ]
  },
  {
   "cell_type": "markdown",
   "metadata": {},
   "source": [
    "#### Проверим, находят ли статистические критерии разницу между выборками для события MainScreenAppear\t"
   ]
  },
  {
   "cell_type": "code",
   "execution_count": 218,
   "metadata": {},
   "outputs": [
    {
     "name": "stdout",
     "output_type": "stream",
     "text": [
      "Общее число пользователей групп А совершивших событие MainScreenAppear: 4926\n"
     ]
    }
   ],
   "source": [
    "MainScreenAppear_AA = data_AB.query('exp_id != 248 and event_name == \"MainScreenAppear\"')\n",
    "MainScreenAppear_AA_all = MainScreenAppear_AA['device_id_hash'].nunique()\n",
    "print('Общее число пользователей групп А совершивших событие MainScreenAppear:'\n",
    "      , MainScreenAppear_AA_all)"
   ]
  },
  {
   "cell_type": "code",
   "execution_count": 219,
   "metadata": {},
   "outputs": [
    {
     "name": "stdout",
     "output_type": "stream",
     "text": [
      "Число пользователей группы А совершивших событие MainScreenAppear: 2450\n"
     ]
    }
   ],
   "source": [
    "MainScreenAppear_A1 = MainScreenAppear_AA.query('exp_id == 246')\n",
    "MainScreenAppear_A1_nunique = MainScreenAppear_A1['device_id_hash'].nunique()\n",
    "print('Число пользователей группы А совершивших событие MainScreenAppear:'\n",
    "      , MainScreenAppear_A1_nunique)"
   ]
  },
  {
   "cell_type": "markdown",
   "metadata": {},
   "source": [
    "<b>Нулевая гипотеза:</b>  Среднее генеральной совокупности числа пользователей выборки 246 и выборки 247 для события MainScreenAppear равны между собой.\n",
    "\n",
    "<b>Альтернативная гипотеза:</b>  Среднее генеральной совокупности числа пользователей выборки 246 и выборки 247 для события MainScreenAppear <b>не</b> равны между собой."
   ]
  },
  {
   "cell_type": "code",
   "execution_count": 220,
   "metadata": {},
   "outputs": [
    {
     "name": "stdout",
     "output_type": "stream",
     "text": [
      "p-value: 0.7110455760862493\n",
      "Нулевая гипотеза не отвергается: вероятность попасть в группу А составляет 50%\n"
     ]
    }
   ],
   "source": [
    "alpha = 0.01\n",
    "alpha = alpha / 2\n",
    "pvalue = proportions_ztest(MainScreenAppear_A1_nunique, MainScreenAppear_AA_all, value = 0.5)[1]\n",
    "print('p-value: {}'.format(pvalue))\n",
    "if pvalue >= alpha: \n",
    "    print('Нулевая гипотеза не отвергается: вероятность попасть в группу А составляет 50%')\n",
    "else:\n",
    "    print('Нулевая гипотеза отвергается: вероятность попасть в группу А отличается от 50%')"
   ]
  },
  {
   "cell_type": "markdown",
   "metadata": {},
   "source": [
    "#### Проверим, находят ли статистические критерии разницу между выборками для события OffersScreenAppear"
   ]
  },
  {
   "cell_type": "code",
   "execution_count": 221,
   "metadata": {},
   "outputs": [
    {
     "name": "stdout",
     "output_type": "stream",
     "text": [
      "Общее число пользователей групп А совершивших событие OffersScreenAppear: 3062\n"
     ]
    }
   ],
   "source": [
    "OffersScreenAppear_AA = data_AB.query('exp_id != 248 and event_name == \"OffersScreenAppear\"')\n",
    "OffersScreenAppear_AA_all = OffersScreenAppear_AA['device_id_hash'].nunique()\n",
    "print('Общее число пользователей групп А совершивших событие OffersScreenAppear:'\n",
    "      , OffersScreenAppear_AA_all)"
   ]
  },
  {
   "cell_type": "code",
   "execution_count": 222,
   "metadata": {},
   "outputs": [
    {
     "name": "stdout",
     "output_type": "stream",
     "text": [
      "Число пользователей группы А совершивших событие OffersScreenAppear: 1542\n"
     ]
    }
   ],
   "source": [
    "OffersScreenAppear_A1 = OffersScreenAppear_AA.query('exp_id == 246')\n",
    "OffersScreenAppear_A1_nunique = OffersScreenAppear_A1['device_id_hash'].nunique()\n",
    "print('Число пользователей группы А совершивших событие OffersScreenAppear:'\n",
    "      , OffersScreenAppear_A1_nunique)"
   ]
  },
  {
   "cell_type": "markdown",
   "metadata": {},
   "source": [
    "<b>Нулевая гипотеза:</b>  Среднее генеральной совокупности числа пользователей выборки 246 и выборки 247 для события OffersScreenAppear равны между собой.\n",
    "\n",
    "<b>Альтернативная гипотеза:</b>  Среднее генеральной совокупности числа пользователей выборки 246 и выборки 247 для события OffersScreenAppear <b>не</b> равны между собой."
   ]
  },
  {
   "cell_type": "code",
   "execution_count": 223,
   "metadata": {},
   "outputs": [
    {
     "name": "stdout",
     "output_type": "stream",
     "text": [
      "p-value: 0.690935237475397\n",
      "Нулевая гипотеза не отвергается: вероятность попасть в группу А составляет 50%\n"
     ]
    }
   ],
   "source": [
    "alpha = 0.01\n",
    "alpha = alpha / 2\n",
    "pvalue = proportions_ztest(OffersScreenAppear_A1_nunique, OffersScreenAppear_AA_all, value = 0.5)[1]\n",
    "print('p-value: {}'.format(pvalue))\n",
    "if pvalue >= alpha: \n",
    "    print('Нулевая гипотеза не отвергается: вероятность попасть в группу А составляет 50%')\n",
    "else:\n",
    "    print('Нулевая гипотеза отвергается: вероятность попасть в группу А отличается от 50%')"
   ]
  },
  {
   "cell_type": "markdown",
   "metadata": {},
   "source": [
    "#### Проверим, находят ли статистические критерии разницу между выборками для события CartScreenAppear"
   ]
  },
  {
   "cell_type": "code",
   "execution_count": 224,
   "metadata": {},
   "outputs": [
    {
     "name": "stdout",
     "output_type": "stream",
     "text": [
      "Общее число пользователей групп А совершивших событие CartScreenAppear: 2504\n"
     ]
    }
   ],
   "source": [
    "CartScreenAppear_AA = data_AB.query('exp_id != 248 and event_name == \"CartScreenAppear\"')\n",
    "CartScreenAppear_AA_all = CartScreenAppear_AA['device_id_hash'].nunique()\n",
    "print('Общее число пользователей групп А совершивших событие CartScreenAppear:'\n",
    "      , CartScreenAppear_AA_all)"
   ]
  },
  {
   "cell_type": "code",
   "execution_count": 225,
   "metadata": {},
   "outputs": [
    {
     "name": "stdout",
     "output_type": "stream",
     "text": [
      "Число пользователей группы А совершивших событие CartScreenAppear: 1266\n"
     ]
    }
   ],
   "source": [
    "CartScreenAppear_A1 = CartScreenAppear_AA.query('exp_id == 246')\n",
    "CartScreenAppear_A1_nunique = CartScreenAppear_A1['device_id_hash'].nunique()\n",
    "print('Число пользователей группы А совершивших событие CartScreenAppear:'\n",
    "      , CartScreenAppear_A1_nunique)"
   ]
  },
  {
   "cell_type": "markdown",
   "metadata": {},
   "source": [
    "<b>Нулевая гипотеза:</b>  Среднее генеральной совокупности числа пользователей выборки 246 и выборки 247 для события CartScreenAppear равны между собой.\n",
    "\n",
    "<b>Альтернативная гипотеза:</b>  Среднее генеральной совокупности числа пользователей выборки 246 и выборки 247 для события CartScreenAppear <b>не</b> равны между собой."
   ]
  },
  {
   "cell_type": "code",
   "execution_count": 226,
   "metadata": {},
   "outputs": [
    {
     "name": "stdout",
     "output_type": "stream",
     "text": [
      "p-value: 0.5757608170931504\n",
      "Нулевая гипотеза не отвергается: вероятность попасть в группу А составляет 50%\n"
     ]
    }
   ],
   "source": [
    "alpha = 0.01\n",
    "alpha = alpha / 2\n",
    "pvalue = proportions_ztest(CartScreenAppear_A1_nunique, CartScreenAppear_AA_all, value = 0.5)[1]\n",
    "print('p-value: {}'.format(pvalue))\n",
    "if pvalue >= alpha: \n",
    "    print('Нулевая гипотеза не отвергается: вероятность попасть в группу А составляет 50%')\n",
    "else:\n",
    "    print('Нулевая гипотеза отвергается: вероятность попасть в группу А отличается от 50%')"
   ]
  },
  {
   "cell_type": "markdown",
   "metadata": {},
   "source": [
    "#### Проверим, находят ли статистические критерии разницу между выборками для события PaymentScreenSuccessful"
   ]
  },
  {
   "cell_type": "code",
   "execution_count": 227,
   "metadata": {},
   "outputs": [
    {
     "name": "stdout",
     "output_type": "stream",
     "text": [
      "Общее число пользователей групп А совершивших событие PaymentScreenSuccessful: 2358\n"
     ]
    }
   ],
   "source": [
    "PaymentScreenSuccessful_AA = data_AB.query('exp_id != 248 and event_name == \"PaymentScreenSuccessful\"')\n",
    "PaymentScreenSuccessful_AA_all = PaymentScreenSuccessful_AA['device_id_hash'].nunique()\n",
    "print('Общее число пользователей групп А совершивших событие PaymentScreenSuccessful:'\n",
    "      , PaymentScreenSuccessful_AA_all)"
   ]
  },
  {
   "cell_type": "code",
   "execution_count": 228,
   "metadata": {},
   "outputs": [
    {
     "name": "stdout",
     "output_type": "stream",
     "text": [
      "Число пользователей группы А совершивших событие PaymentScreenSuccessful: 1200\n"
     ]
    }
   ],
   "source": [
    "PaymentScreenSuccessful_A1 = PaymentScreenSuccessful_AA.query('exp_id == 246')\n",
    "PaymentScreenSuccessful_A1_nunique = PaymentScreenSuccessful_A1['device_id_hash'].nunique()\n",
    "print('Число пользователей группы А совершивших событие PaymentScreenSuccessful:'\n",
    "      , PaymentScreenSuccessful_A1_nunique)"
   ]
  },
  {
   "cell_type": "markdown",
   "metadata": {},
   "source": [
    "<b>Нулевая гипотеза:</b>  Среднее генеральной совокупности числа пользователей выборки 246 и выборки 247 для события PaymentScreenSuccessful равны между собой.\n",
    "\n",
    "<b>Альтернативная гипотеза:</b>  Среднее генеральной совокупности числа пользователей выборки 246 и выборки 247 для события PaymentScreenSuccessful <b>не</b> равны между собой."
   ]
  },
  {
   "cell_type": "code",
   "execution_count": 229,
   "metadata": {},
   "outputs": [
    {
     "name": "stdout",
     "output_type": "stream",
     "text": [
      "p-value: 0.3870057905434542\n",
      "Нулевая гипотеза не отвергается: вероятность попасть в группу А составляет 50%\n"
     ]
    }
   ],
   "source": [
    "alpha = 0.01\n",
    "alpha = alpha / 2\n",
    "pvalue = proportions_ztest(PaymentScreenSuccessful_A1_nunique, PaymentScreenSuccessful_AA_all, value = 0.5)[1]\n",
    "print('p-value: {}'.format(pvalue))\n",
    "if pvalue >= alpha: \n",
    "    print('Нулевая гипотеза не отвергается: вероятность попасть в группу А составляет 50%')\n",
    "else:\n",
    "    print('Нулевая гипотеза отвергается: вероятность попасть в группу А отличается от 50%')"
   ]
  },
  {
   "cell_type": "markdown",
   "metadata": {},
   "source": [
    "### Выберем самое популярное событие. Посчитаем число пользователей, совершивших это событие в каждой из контрольных групп"
   ]
  },
  {
   "cell_type": "code",
   "execution_count": 230,
   "metadata": {},
   "outputs": [
    {
     "data": {
      "text/html": [
       "<div>\n",
       "<style scoped>\n",
       "    .dataframe tbody tr th:only-of-type {\n",
       "        vertical-align: middle;\n",
       "    }\n",
       "\n",
       "    .dataframe tbody tr th {\n",
       "        vertical-align: top;\n",
       "    }\n",
       "\n",
       "    .dataframe thead th {\n",
       "        text-align: right;\n",
       "    }\n",
       "</style>\n",
       "<table border=\"1\" class=\"dataframe\">\n",
       "  <thead>\n",
       "    <tr style=\"text-align: right;\">\n",
       "      <th></th>\n",
       "      <th>exp_id</th>\n",
       "    </tr>\n",
       "    <tr>\n",
       "      <th>event_name</th>\n",
       "      <th></th>\n",
       "    </tr>\n",
       "  </thead>\n",
       "  <tbody>\n",
       "    <tr>\n",
       "      <td>MainScreenAppear</td>\n",
       "      <td>117328</td>\n",
       "    </tr>\n",
       "    <tr>\n",
       "      <td>OffersScreenAppear</td>\n",
       "      <td>46333</td>\n",
       "    </tr>\n",
       "    <tr>\n",
       "      <td>CartScreenAppear</td>\n",
       "      <td>42303</td>\n",
       "    </tr>\n",
       "    <tr>\n",
       "      <td>PaymentScreenSuccessful</td>\n",
       "      <td>33918</td>\n",
       "    </tr>\n",
       "  </tbody>\n",
       "</table>\n",
       "</div>"
      ],
      "text/plain": [
       "                         exp_id\n",
       "event_name                     \n",
       "MainScreenAppear         117328\n",
       "OffersScreenAppear        46333\n",
       "CartScreenAppear          42303\n",
       "PaymentScreenSuccessful   33918"
      ]
     },
     "execution_count": 230,
     "metadata": {},
     "output_type": "execute_result"
    }
   ],
   "source": [
    "data_AB_AA = data_AB.pivot_table(index=\"event_name\", values=\"exp_id\", aggfunc = 'count').sort_values(\n",
    "    'exp_id', ascending=False)\n",
    "data_AB_AA"
   ]
  },
  {
   "cell_type": "markdown",
   "metadata": {},
   "source": [
    "Самое популярное событие - MainScreenAppear (Переход на главный экран) с числом событий 117328"
   ]
  },
  {
   "cell_type": "code",
   "execution_count": 231,
   "metadata": {},
   "outputs": [
    {
     "name": "stdout",
     "output_type": "stream",
     "text": [
      "Число пользователей группы А совершивших событие MainScreenAppear: 2483\n"
     ]
    }
   ],
   "source": [
    "data_AA_246 = data_AB.query('exp_id == 246')\n",
    "test_AA_246 = data_AA_246['device_id_hash'].nunique()\n",
    "print('Число пользователей группы А совершивших событие MainScreenAppear:'\n",
    "      , test_AA_246)"
   ]
  },
  {
   "cell_type": "code",
   "execution_count": 232,
   "metadata": {},
   "outputs": [
    {
     "name": "stdout",
     "output_type": "stream",
     "text": [
      "Число пользователей контрольной группы А совершивших событие MainScreenAppear: 2512\n"
     ]
    }
   ],
   "source": [
    "data_AA_247 = data_AB.query('exp_id == 247')\n",
    "test_AA_247 = data_AA_247['device_id_hash'].nunique()\n",
    "print('Число пользователей контрольной группы А совершивших событие MainScreenAppear:'\n",
    "      , test_AA_247)"
   ]
  },
  {
   "cell_type": "code",
   "execution_count": 233,
   "metadata": {},
   "outputs": [
    {
     "name": "stdout",
     "output_type": "stream",
     "text": [
      "Общее число пользователей групп А совершивших событие MainScreenAppear: 4995\n"
     ]
    }
   ],
   "source": [
    "data_AA_all = data_AB.query('exp_id != 248')\n",
    "test_AA_all = data_AA_all['device_id_hash'].nunique()\n",
    "print('Общее число пользователей групп А совершивших событие MainScreenAppear:'\n",
    "      , test_AA_all)"
   ]
  },
  {
   "cell_type": "code",
   "execution_count": 234,
   "metadata": {},
   "outputs": [
    {
     "name": "stdout",
     "output_type": "stream",
     "text": [
      "Доля пользователей, совершивших событие MainScreenAppear из группы А: 49.7%\n"
     ]
    }
   ],
   "source": [
    "MainScreenAppear_share_id_А = test_AA_246 / test_AA_all\n",
    "print('Доля пользователей, совершивших событие MainScreenAppear из группы А: {:.1%}'.format(MainScreenAppear_share_id_А))"
   ]
  },
  {
   "cell_type": "code",
   "execution_count": 235,
   "metadata": {},
   "outputs": [
    {
     "name": "stdout",
     "output_type": "stream",
     "text": [
      "Доля пользователей, совершивших событие MainScreenAppear из контрольной группы А: 50.3%\n"
     ]
    }
   ],
   "source": [
    "MainScreenAppear_share_id_А = test_AA_247 / test_AA_all\n",
    "print('Доля пользователей, совершивших событие MainScreenAppear из контрольной группы А: {:.1%}'\n",
    "      .format(MainScreenAppear_share_id_А))"
   ]
  },
  {
   "cell_type": "markdown",
   "metadata": {},
   "source": [
    "### Проверим, будет ли отличие между группами статистически достоверным"
   ]
  },
  {
   "cell_type": "markdown",
   "metadata": {},
   "source": [
    "Сделаем выборку по группе А (246) и MainScreenAppear, добавим кумулятивные метрики"
   ]
  },
  {
   "cell_type": "code",
   "execution_count": 236,
   "metadata": {},
   "outputs": [],
   "source": [
    "main_A = data_AB.query('exp_id == 246 and event_name == \"MainScreenAppear\"')"
   ]
  },
  {
   "cell_type": "code",
   "execution_count": 237,
   "metadata": {},
   "outputs": [],
   "source": [
    "mainADaily = main_A.pivot_table(index=\"event_time_day\", values=\"device_id_hash\", aggfunc = 'count').reset_index()\n",
    "mainADaily.columns = ['date', 'mainPerDateA']"
   ]
  },
  {
   "cell_type": "code",
   "execution_count": 238,
   "metadata": {},
   "outputs": [],
   "source": [
    "mainACummulative = mainADaily.apply(\n",
    "    lambda x: mainADaily[mainADaily['date'] <= x['date']].agg(\n",
    "        {'date': 'max', 'mainPerDateA': 'sum'}\n",
    "    ),\n",
    "    axis=1,\n",
    ")\n",
    "mainACummulative.columns = ['date', 'mainCummulativeA']"
   ]
  },
  {
   "cell_type": "markdown",
   "metadata": {},
   "source": [
    "Сделаем выборку по группе А (246) и OffersScreenAppear, добавим кумулятивные метрики"
   ]
  },
  {
   "cell_type": "code",
   "execution_count": 239,
   "metadata": {},
   "outputs": [],
   "source": [
    "offers_A = data_AB.query('exp_id == 246 and event_name == \"OffersScreenAppear\"')"
   ]
  },
  {
   "cell_type": "code",
   "execution_count": 240,
   "metadata": {},
   "outputs": [],
   "source": [
    "offersADaily = offers_A.pivot_table(index=\"event_time_day\", values=\"device_id_hash\", aggfunc = 'count').reset_index()\n",
    "offersADaily.columns = ['date', 'offersPerDateA']"
   ]
  },
  {
   "cell_type": "code",
   "execution_count": 241,
   "metadata": {},
   "outputs": [],
   "source": [
    "offersACummulative = offersADaily.apply(\n",
    "    lambda x: offersADaily[offersADaily['date'] <= x['date']].agg(\n",
    "        {'date': 'max', 'offersPerDateA': 'sum'}\n",
    "    ),\n",
    "    axis=1,\n",
    ")\n",
    "offersACummulative.columns = ['date', 'offersCummulativeA']"
   ]
  },
  {
   "cell_type": "markdown",
   "metadata": {},
   "source": [
    "Сделаем выборку по группе А (246) и CartScreenAppear, добавим кумулятивные метрики"
   ]
  },
  {
   "cell_type": "code",
   "execution_count": 242,
   "metadata": {},
   "outputs": [],
   "source": [
    "cart_A = data_AB.query('exp_id == 246 and event_name == \"CartScreenAppear\"')"
   ]
  },
  {
   "cell_type": "code",
   "execution_count": 243,
   "metadata": {},
   "outputs": [],
   "source": [
    "cartADaily = cart_A.pivot_table(index=\"event_time_day\", values=\"device_id_hash\", aggfunc = 'count').reset_index()\n",
    "cartADaily.columns = ['date', 'cartPerDateA']"
   ]
  },
  {
   "cell_type": "code",
   "execution_count": 244,
   "metadata": {},
   "outputs": [],
   "source": [
    "cartACummulative = cartADaily.apply(\n",
    "    lambda x: cartADaily[cartADaily['date'] <= x['date']].agg(\n",
    "        {'date': 'max', 'cartPerDateA': 'sum'}\n",
    "    ),\n",
    "    axis=1,\n",
    ")\n",
    "cartACummulative.columns = ['date', 'cartCummulativeA']"
   ]
  },
  {
   "cell_type": "markdown",
   "metadata": {},
   "source": [
    "Сделаем выборку по группе А (246) и PaymentScreenSuccessful, добавим кумулятивные метрики"
   ]
  },
  {
   "cell_type": "code",
   "execution_count": 245,
   "metadata": {},
   "outputs": [],
   "source": [
    "payment_A = data_AB.query('exp_id == 246 and event_name == \"PaymentScreenSuccessful\"')"
   ]
  },
  {
   "cell_type": "code",
   "execution_count": 246,
   "metadata": {},
   "outputs": [],
   "source": [
    "paymentADaily = payment_A.pivot_table(index=\"event_time_day\", values=\"device_id_hash\", aggfunc = 'count').reset_index()\n",
    "paymentADaily.columns = ['date', 'paymentPerDateA']"
   ]
  },
  {
   "cell_type": "code",
   "execution_count": 247,
   "metadata": {},
   "outputs": [],
   "source": [
    "paymentACummulative = paymentADaily.apply(\n",
    "    lambda x: paymentADaily[paymentADaily['date'] <= x['date']].agg(\n",
    "        {'date': 'max', 'paymentPerDateA': 'sum'}\n",
    "    ),\n",
    "    axis=1,\n",
    ")\n",
    "paymentACummulative.columns = ['date', 'paymentCummulativeA']"
   ]
  },
  {
   "cell_type": "markdown",
   "metadata": {},
   "source": [
    "Сделаем выборку по группе А (247) и MainScreenAppear, добавим кумулятивные метрики (C)"
   ]
  },
  {
   "cell_type": "code",
   "execution_count": 248,
   "metadata": {},
   "outputs": [],
   "source": [
    "main_C = data_AB.query('exp_id == 247 and event_name == \"MainScreenAppear\"')"
   ]
  },
  {
   "cell_type": "code",
   "execution_count": 249,
   "metadata": {},
   "outputs": [],
   "source": [
    "mainCDaily = main_C.pivot_table(index=\"event_time_day\", values=\"device_id_hash\", aggfunc = 'count').reset_index()\n",
    "mainCDaily.columns = ['date', 'mainPerDateC']"
   ]
  },
  {
   "cell_type": "code",
   "execution_count": 250,
   "metadata": {},
   "outputs": [],
   "source": [
    "mainCCummulative = mainCDaily.apply(\n",
    "    lambda x: mainCDaily[mainCDaily['date'] <= x['date']].agg(\n",
    "        {'date': 'max', 'mainPerDateC': 'sum'}\n",
    "    ),\n",
    "    axis=1,\n",
    ")\n",
    "mainCCummulative.columns = ['date', 'mainCummulativeC']"
   ]
  },
  {
   "cell_type": "markdown",
   "metadata": {},
   "source": [
    "Сделаем выборку по группе А (247) и OffersScreenAppear, добавим кумулятивные метрики (C)"
   ]
  },
  {
   "cell_type": "code",
   "execution_count": 251,
   "metadata": {},
   "outputs": [],
   "source": [
    "offers_C = data_AB.query('exp_id == 247 and event_name == \"OffersScreenAppear\"')"
   ]
  },
  {
   "cell_type": "code",
   "execution_count": 252,
   "metadata": {},
   "outputs": [],
   "source": [
    "offersCDaily = offers_C.pivot_table(index=\"event_time_day\", values=\"device_id_hash\", aggfunc = 'count').reset_index()\n",
    "offersCDaily.columns = ['date', 'offersPerDateC']"
   ]
  },
  {
   "cell_type": "code",
   "execution_count": 253,
   "metadata": {},
   "outputs": [],
   "source": [
    "offersCCummulative = offersCDaily.apply(\n",
    "    lambda x: offersCDaily[offersCDaily['date'] <= x['date']].agg(\n",
    "        {'date': 'max', 'offersPerDateC': 'sum'}\n",
    "    ),\n",
    "    axis=1,\n",
    ")\n",
    "offersCCummulative.columns = ['date', 'offersCummulativeC']"
   ]
  },
  {
   "cell_type": "markdown",
   "metadata": {},
   "source": [
    "Сделаем выборку по группе А (247) и CartScreenAppear, добавим кумулятивные метрики (C)"
   ]
  },
  {
   "cell_type": "code",
   "execution_count": 254,
   "metadata": {},
   "outputs": [],
   "source": [
    "cart_C = data_AB.query('exp_id == 247 and event_name == \"CartScreenAppear\"')"
   ]
  },
  {
   "cell_type": "code",
   "execution_count": 255,
   "metadata": {},
   "outputs": [],
   "source": [
    "cartCDaily = cart_C.pivot_table(index=\"event_time_day\", values=\"device_id_hash\", aggfunc = 'count').reset_index()\n",
    "cartCDaily.columns = ['date', 'cartPerDateC']"
   ]
  },
  {
   "cell_type": "code",
   "execution_count": 256,
   "metadata": {},
   "outputs": [],
   "source": [
    "cartCCummulative = cartCDaily.apply(\n",
    "    lambda x: cartCDaily[cartCDaily['date'] <= x['date']].agg(\n",
    "        {'date': 'max', 'cartPerDateC': 'sum'}\n",
    "    ),\n",
    "    axis=1,\n",
    ")\n",
    "cartCCummulative.columns = ['date', 'cartCummulativeC']"
   ]
  },
  {
   "cell_type": "markdown",
   "metadata": {},
   "source": [
    "Сделаем выборку по группе А (247) и PaymentScreenSuccessful, добавим кумулятивные метрики (C)"
   ]
  },
  {
   "cell_type": "code",
   "execution_count": 257,
   "metadata": {},
   "outputs": [],
   "source": [
    "payment_C = data_AB.query('exp_id == 247 and event_name == \"PaymentScreenSuccessful\"')"
   ]
  },
  {
   "cell_type": "code",
   "execution_count": 258,
   "metadata": {},
   "outputs": [],
   "source": [
    "paymentCDaily = payment_C.pivot_table(index=\"event_time_day\", values=\"device_id_hash\", aggfunc = 'count').reset_index()\n",
    "paymentCDaily.columns = ['date', 'paymentPerDateC']"
   ]
  },
  {
   "cell_type": "code",
   "execution_count": 259,
   "metadata": {},
   "outputs": [],
   "source": [
    "paymentCCummulative = paymentCDaily.apply(\n",
    "    lambda x: paymentCDaily[paymentCDaily['date'] <= x['date']].agg(\n",
    "        {'date': 'max', 'paymentPerDateC': 'sum'}\n",
    "    ),\n",
    "    axis=1,\n",
    ")\n",
    "paymentCCummulative.columns = ['date', 'paymentCummulativeC']"
   ]
  },
  {
   "cell_type": "markdown",
   "metadata": {},
   "source": [
    "Объединим данные в один датасет"
   ]
  },
  {
   "cell_type": "code",
   "execution_count": 260,
   "metadata": {},
   "outputs": [],
   "source": [
    "data_AA_test = (mainADaily\n",
    "    .merge(mainCDaily, left_on='date', right_on='date', how='left')\n",
    "    .merge(mainACummulative, left_on='date', right_on='date', how='left')\n",
    "    .merge(mainCCummulative, left_on='date', right_on='date', how='left')\n",
    "                \n",
    "    .merge(offersADaily, left_on='date', right_on='date', how='left')\n",
    "    .merge(offersCDaily, left_on='date', right_on='date', how='left')\n",
    "    .merge(offersACummulative, left_on='date', right_on='date', how='left')\n",
    "    .merge(offersCCummulative, left_on='date', right_on='date', how='left')                \n",
    "                                       \n",
    "    .merge(cartADaily, left_on='date', right_on='date', how='left')\n",
    "    .merge(cartCDaily, left_on='date', right_on='date', how='left')\n",
    "    .merge(cartACummulative, left_on='date', right_on='date', how='left')\n",
    "    .merge(cartCCummulative, left_on='date', right_on='date', how='left')\n",
    "                \n",
    "    .merge(paymentADaily, left_on='date', right_on='date', how='left')\n",
    "    .merge(paymentCDaily, left_on='date', right_on='date', how='left')\n",
    "    .merge(paymentACummulative, left_on='date', right_on='date', how='left')\n",
    "    .merge(paymentCCummulative, left_on='date', right_on='date', how='left')\n",
    ")"
   ]
  },
  {
   "cell_type": "code",
   "execution_count": 261,
   "metadata": {},
   "outputs": [
    {
     "data": {
      "text/html": [
       "<div>\n",
       "<style scoped>\n",
       "    .dataframe tbody tr th:only-of-type {\n",
       "        vertical-align: middle;\n",
       "    }\n",
       "\n",
       "    .dataframe tbody tr th {\n",
       "        vertical-align: top;\n",
       "    }\n",
       "\n",
       "    .dataframe thead th {\n",
       "        text-align: right;\n",
       "    }\n",
       "</style>\n",
       "<table border=\"1\" class=\"dataframe\">\n",
       "  <thead>\n",
       "    <tr style=\"text-align: right;\">\n",
       "      <th></th>\n",
       "      <th>date</th>\n",
       "      <th>mainPerDateA</th>\n",
       "      <th>mainPerDateC</th>\n",
       "      <th>mainCummulativeA</th>\n",
       "      <th>mainCummulativeC</th>\n",
       "      <th>offersPerDateA</th>\n",
       "      <th>offersPerDateC</th>\n",
       "      <th>offersCummulativeA</th>\n",
       "      <th>offersCummulativeC</th>\n",
       "      <th>cartPerDateA</th>\n",
       "      <th>cartPerDateC</th>\n",
       "      <th>cartCummulativeA</th>\n",
       "      <th>cartCummulativeC</th>\n",
       "      <th>paymentPerDateA</th>\n",
       "      <th>paymentPerDateC</th>\n",
       "      <th>paymentCummulativeA</th>\n",
       "      <th>paymentCummulativeC</th>\n",
       "    </tr>\n",
       "  </thead>\n",
       "  <tbody>\n",
       "    <tr>\n",
       "      <td>0</td>\n",
       "      <td>1</td>\n",
       "      <td>5370</td>\n",
       "      <td>6256</td>\n",
       "      <td>5370</td>\n",
       "      <td>6256</td>\n",
       "      <td>2062</td>\n",
       "      <td>2376</td>\n",
       "      <td>2062</td>\n",
       "      <td>2376</td>\n",
       "      <td>2287</td>\n",
       "      <td>2009</td>\n",
       "      <td>2287</td>\n",
       "      <td>2009</td>\n",
       "      <td>1785</td>\n",
       "      <td>1585</td>\n",
       "      <td>1785</td>\n",
       "      <td>1585</td>\n",
       "    </tr>\n",
       "    <tr>\n",
       "      <td>1</td>\n",
       "      <td>2</td>\n",
       "      <td>5620</td>\n",
       "      <td>5292</td>\n",
       "      <td>10990</td>\n",
       "      <td>11548</td>\n",
       "      <td>2241</td>\n",
       "      <td>2208</td>\n",
       "      <td>4303</td>\n",
       "      <td>4584</td>\n",
       "      <td>1764</td>\n",
       "      <td>1915</td>\n",
       "      <td>4051</td>\n",
       "      <td>3924</td>\n",
       "      <td>1255</td>\n",
       "      <td>1531</td>\n",
       "      <td>3040</td>\n",
       "      <td>3116</td>\n",
       "    </tr>\n",
       "    <tr>\n",
       "      <td>2</td>\n",
       "      <td>3</td>\n",
       "      <td>4671</td>\n",
       "      <td>4942</td>\n",
       "      <td>15661</td>\n",
       "      <td>16490</td>\n",
       "      <td>2088</td>\n",
       "      <td>2194</td>\n",
       "      <td>6391</td>\n",
       "      <td>6778</td>\n",
       "      <td>2082</td>\n",
       "      <td>2107</td>\n",
       "      <td>6133</td>\n",
       "      <td>6031</td>\n",
       "      <td>1685</td>\n",
       "      <td>1725</td>\n",
       "      <td>4725</td>\n",
       "      <td>4841</td>\n",
       "    </tr>\n",
       "    <tr>\n",
       "      <td>3</td>\n",
       "      <td>4</td>\n",
       "      <td>5178</td>\n",
       "      <td>4958</td>\n",
       "      <td>20839</td>\n",
       "      <td>21448</td>\n",
       "      <td>2191</td>\n",
       "      <td>2095</td>\n",
       "      <td>8582</td>\n",
       "      <td>8873</td>\n",
       "      <td>2238</td>\n",
       "      <td>1603</td>\n",
       "      <td>8371</td>\n",
       "      <td>7634</td>\n",
       "      <td>1865</td>\n",
       "      <td>1242</td>\n",
       "      <td>6590</td>\n",
       "      <td>6083</td>\n",
       "    </tr>\n",
       "    <tr>\n",
       "      <td>4</td>\n",
       "      <td>5</td>\n",
       "      <td>6010</td>\n",
       "      <td>6062</td>\n",
       "      <td>26849</td>\n",
       "      <td>27510</td>\n",
       "      <td>2120</td>\n",
       "      <td>2230</td>\n",
       "      <td>10702</td>\n",
       "      <td>11103</td>\n",
       "      <td>2327</td>\n",
       "      <td>1448</td>\n",
       "      <td>10698</td>\n",
       "      <td>9082</td>\n",
       "      <td>1880</td>\n",
       "      <td>1152</td>\n",
       "      <td>8470</td>\n",
       "      <td>7235</td>\n",
       "    </tr>\n",
       "    <tr>\n",
       "      <td>5</td>\n",
       "      <td>6</td>\n",
       "      <td>5795</td>\n",
       "      <td>6389</td>\n",
       "      <td>32644</td>\n",
       "      <td>33899</td>\n",
       "      <td>2090</td>\n",
       "      <td>2103</td>\n",
       "      <td>12792</td>\n",
       "      <td>13206</td>\n",
       "      <td>2068</td>\n",
       "      <td>1768</td>\n",
       "      <td>12766</td>\n",
       "      <td>10850</td>\n",
       "      <td>1727</td>\n",
       "      <td>1422</td>\n",
       "      <td>10197</td>\n",
       "      <td>8657</td>\n",
       "    </tr>\n",
       "    <tr>\n",
       "      <td>6</td>\n",
       "      <td>7</td>\n",
       "      <td>5032</td>\n",
       "      <td>5191</td>\n",
       "      <td>37676</td>\n",
       "      <td>39090</td>\n",
       "      <td>1975</td>\n",
       "      <td>1973</td>\n",
       "      <td>14767</td>\n",
       "      <td>15179</td>\n",
       "      <td>1924</td>\n",
       "      <td>1584</td>\n",
       "      <td>14690</td>\n",
       "      <td>12434</td>\n",
       "      <td>1655</td>\n",
       "      <td>1324</td>\n",
       "      <td>11852</td>\n",
       "      <td>9981</td>\n",
       "    </tr>\n",
       "  </tbody>\n",
       "</table>\n",
       "</div>"
      ],
      "text/plain": [
       "   date  mainPerDateA  mainPerDateC  mainCummulativeA  mainCummulativeC  \\\n",
       "0     1          5370          6256              5370              6256   \n",
       "1     2          5620          5292             10990             11548   \n",
       "2     3          4671          4942             15661             16490   \n",
       "3     4          5178          4958             20839             21448   \n",
       "4     5          6010          6062             26849             27510   \n",
       "5     6          5795          6389             32644             33899   \n",
       "6     7          5032          5191             37676             39090   \n",
       "\n",
       "   offersPerDateA  offersPerDateC  offersCummulativeA  offersCummulativeC  \\\n",
       "0            2062            2376                2062                2376   \n",
       "1            2241            2208                4303                4584   \n",
       "2            2088            2194                6391                6778   \n",
       "3            2191            2095                8582                8873   \n",
       "4            2120            2230               10702               11103   \n",
       "5            2090            2103               12792               13206   \n",
       "6            1975            1973               14767               15179   \n",
       "\n",
       "   cartPerDateA  cartPerDateC  cartCummulativeA  cartCummulativeC  \\\n",
       "0          2287          2009              2287              2009   \n",
       "1          1764          1915              4051              3924   \n",
       "2          2082          2107              6133              6031   \n",
       "3          2238          1603              8371              7634   \n",
       "4          2327          1448             10698              9082   \n",
       "5          2068          1768             12766             10850   \n",
       "6          1924          1584             14690             12434   \n",
       "\n",
       "   paymentPerDateA  paymentPerDateC  paymentCummulativeA  paymentCummulativeC  \n",
       "0             1785             1585                 1785                 1585  \n",
       "1             1255             1531                 3040                 3116  \n",
       "2             1685             1725                 4725                 4841  \n",
       "3             1865             1242                 6590                 6083  \n",
       "4             1880             1152                 8470                 7235  \n",
       "5             1727             1422                10197                 8657  \n",
       "6             1655             1324                11852                 9981  "
      ]
     },
     "execution_count": 261,
     "metadata": {},
     "output_type": "execute_result"
    }
   ],
   "source": [
    "data_AA_test"
   ]
  },
  {
   "cell_type": "markdown",
   "metadata": {},
   "source": [
    "Построим кумулятивные графики"
   ]
  },
  {
   "cell_type": "code",
   "execution_count": 262,
   "metadata": {},
   "outputs": [
    {
     "data": {
      "image/png": "[encoded data removed]",
      "text/plain": [
       "<Figure size 864x288 with 1 Axes>"
      ]
     },
     "metadata": {
      "needs_background": "light"
     },
     "output_type": "display_data"
    }
   ],
   "source": [
    "from pandas.plotting import register_matplotlib_converters\n",
    "register_matplotlib_converters()\n",
    "plt.subplots(figsize=(12, 4))\n",
    "plt.title('Кумулятивный график числа посещений MainScreenAppear')\n",
    "plt.ylabel('Число посещений')\n",
    "plt.xlabel('Дата посещения')\n",
    "plt.plot(data_AA_test['date'], data_AA_test['mainCummulativeA'], label='A', linewidth = 5)\n",
    "plt.plot(data_AA_test['date'], data_AA_test['mainCummulativeC'], label='AA', linewidth = 5)\n",
    "plt.grid(color = 'blue', linewidth = 1, linestyle = '--')\n",
    "plt.legend();"
   ]
  },
  {
   "cell_type": "markdown",
   "metadata": {},
   "source": [
    "Кумулятивные значения числа посещений MainScreenAppear практически одинаковы до 5-го дня, дальше идет небольшое превышение контрольной группы А"
   ]
  },
  {
   "cell_type": "code",
   "execution_count": 263,
   "metadata": {},
   "outputs": [
    {
     "data": {
      "image/png": "[encoded data removed]",
      "text/plain": [
       "<Figure size 864x288 with 1 Axes>"
      ]
     },
     "metadata": {
      "needs_background": "light"
     },
     "output_type": "display_data"
    }
   ],
   "source": [
    "plt.subplots(figsize=(12, 4))\n",
    "plt.title('Кумулятивный график числа посещений OffersScreenAppear')\n",
    "plt.ylabel('Число посещений')\n",
    "plt.xlabel('Дата посещения')\n",
    "plt.plot(data_AA_test['date'], data_AA_test['offersCummulativeA'], label='A', linewidth = 5)\n",
    "plt.plot(data_AA_test['date'], data_AA_test['offersCummulativeC'], label='AA', linewidth = 5)\n",
    "plt.grid(color = 'blue', linewidth = 1, linestyle = '--')\n",
    "plt.legend();"
   ]
  },
  {
   "cell_type": "markdown",
   "metadata": {},
   "source": [
    "Кумулятивные значения числа посещений OffersScreenAppear практически одинаковы на всем интервале наблюдений"
   ]
  },
  {
   "cell_type": "code",
   "execution_count": 264,
   "metadata": {},
   "outputs": [
    {
     "data": {
      "image/png": "[encoded data removed]",
      "text/plain": [
       "<Figure size 864x288 with 1 Axes>"
      ]
     },
     "metadata": {
      "needs_background": "light"
     },
     "output_type": "display_data"
    }
   ],
   "source": [
    "plt.subplots(figsize=(12, 4))\n",
    "plt.title('Кумулятивный график числа посещений CartScreenAppear')\n",
    "plt.ylabel('Число посещений')\n",
    "plt.xlabel('Дата посещения')\n",
    "plt.plot(data_AA_test['date'], data_AA_test['cartCummulativeA'], label='A', linewidth = 5)\n",
    "plt.plot(data_AA_test['date'], data_AA_test['cartCummulativeC'], label='AA', linewidth = 5)\n",
    "plt.grid(color = 'blue', linewidth = 1, linestyle = '--')\n",
    "plt.legend();"
   ]
  },
  {
   "cell_type": "markdown",
   "metadata": {},
   "source": [
    "Кумулятивные значения числа посещений CartScreenAppear практически одинаковы до 3-го дня, дальше идет превышение группы А над контрольной группой А"
   ]
  },
  {
   "cell_type": "code",
   "execution_count": 265,
   "metadata": {},
   "outputs": [
    {
     "data": {
      "image/png": "[encoded data removed]",
      "text/plain": [
       "<Figure size 864x288 with 1 Axes>"
      ]
     },
     "metadata": {
      "needs_background": "light"
     },
     "output_type": "display_data"
    }
   ],
   "source": [
    "plt.subplots(figsize=(12, 4))\n",
    "plt.title('Кумулятивный график числа посещений PaymentScreenSuccessful')\n",
    "plt.ylabel('Число посещений')\n",
    "plt.xlabel('Дата посещения')\n",
    "plt.plot(data_AA_test['date'], data_AA_test['paymentCummulativeA'], label='A', linewidth = 5)\n",
    "plt.plot(data_AA_test['date'], data_AA_test['paymentCummulativeC'], label='AA', linewidth = 5)\n",
    "plt.grid(color = 'blue', linewidth = 1, linestyle = '--')\n",
    "plt.legend();"
   ]
  },
  {
   "cell_type": "markdown",
   "metadata": {},
   "source": [
    "Кумулятивные значения числа посещений PaymentScreenSuccessful практически одинаковы до 3-го дня, дальше идет превышение группы А над контрольной группой А"
   ]
  },
  {
   "cell_type": "markdown",
   "metadata": {},
   "source": [
    "### Проверим, имеется ли различия в конверсии групп A и контрольной группы А для OffersScreenAppear"
   ]
  },
  {
   "cell_type": "code",
   "execution_count": 266,
   "metadata": {},
   "outputs": [],
   "source": [
    "offersByUsersA = offers_A['device_id_hash'].value_counts().reset_index()\n",
    "offersByUsersA.columns = ['userId', 'orders']"
   ]
  },
  {
   "cell_type": "code",
   "execution_count": 267,
   "metadata": {},
   "outputs": [],
   "source": [
    "offersByUsersC = offers_C['device_id_hash'].value_counts().reset_index()\n",
    "offersByUsersC.columns = ['userId', 'orders']"
   ]
  },
  {
   "cell_type": "code",
   "execution_count": 268,
   "metadata": {},
   "outputs": [],
   "source": [
    "sampleAmain = pd.concat([offersByUsersA['orders'],pd.Series(\n",
    "    0, index=np.arange(data_AA_test['mainPerDateA'].sum() - len(offersByUsersA['orders'])), name='orders')],axis=0)"
   ]
  },
  {
   "cell_type": "code",
   "execution_count": 269,
   "metadata": {},
   "outputs": [],
   "source": [
    "sampleCmain = pd.concat([offersByUsersC['orders'],pd.Series(\n",
    "    0, index=np.arange(data_AA_test['mainPerDateC'].sum() - len(offersByUsersC['orders'])), name='orders')],axis=0)"
   ]
  },
  {
   "cell_type": "markdown",
   "metadata": {},
   "source": [
    "Применим статистический критерий Манна-Уитни к полученным выборкам:"
   ]
  },
  {
   "cell_type": "markdown",
   "metadata": {},
   "source": [
    "Определим насколько два независимых распределения совпадают."
   ]
  },
  {
   "cell_type": "markdown",
   "metadata": {},
   "source": [
    "<b>Нулевая гипотеза:</b>  Распределение признака в первой выборке группы A соответствует распределению признака во второй выборке контрольной группы А для события OffersScreenAppear.\n",
    "\n",
    "<b>Альтернативная гипотеза:</b>  Распределение признака в первой выборке группы A <b>не</b> соответствует распределению признака во второй выборке контрольной группы А для события OffersScreenAppear."
   ]
  },
  {
   "cell_type": "code",
   "execution_count": 270,
   "metadata": {},
   "outputs": [
    {
     "name": "stdout",
     "output_type": "stream",
     "text": [
      "0.07347\n"
     ]
    }
   ],
   "source": [
    "print(\"{0:.5f}\".format(stats.mannwhitneyu(sampleAmain, sampleCmain)[1]))"
   ]
  },
  {
   "cell_type": "markdown",
   "metadata": {},
   "source": [
    "P-value значительно больше 0.05. Значит, нулевую гипотезу о том, что статистически значимых различий в конверсии между группами нет, не отвергаем. Группы одинаковы, разницы между ними нет, переход на экран предложений идентичен.\n",
    "\n",
    "Вывод: По «сырым» данным различий в конверсии групп A и контрольной группы А нет."
   ]
  },
  {
   "cell_type": "code",
   "execution_count": 271,
   "metadata": {},
   "outputs": [
    {
     "name": "stdout",
     "output_type": "stream",
     "text": [
      "-0.009\n"
     ]
    }
   ],
   "source": [
    "print(\"{0:.3f}\".format(sampleCmain.mean() / sampleAmain.mean() - 1))"
   ]
  },
  {
   "cell_type": "markdown",
   "metadata": {},
   "source": [
    "Среднее значение числа пользователей перешедших на OffersScreenAppear практически идентично."
   ]
  },
  {
   "cell_type": "markdown",
   "metadata": {},
   "source": [
    "### Проверим, имеется ли различия в конверсии групп A и контрольной группы А для CartScreenAppear"
   ]
  },
  {
   "cell_type": "code",
   "execution_count": 272,
   "metadata": {},
   "outputs": [],
   "source": [
    "cartByUsersA = cart_A['device_id_hash'].value_counts().reset_index()\n",
    "cartByUsersA.columns = ['userId', 'orders']"
   ]
  },
  {
   "cell_type": "code",
   "execution_count": 273,
   "metadata": {},
   "outputs": [],
   "source": [
    "cartByUsersC = cart_C['device_id_hash'].value_counts().reset_index()\n",
    "cartByUsersC.columns = ['userId', 'orders']"
   ]
  },
  {
   "cell_type": "code",
   "execution_count": 274,
   "metadata": {},
   "outputs": [],
   "source": [
    "sampleAoffers = pd.concat([cartByUsersA['orders'],pd.Series(\n",
    "    0, index=np.arange(data_AA_test['offersPerDateA'].sum() - len(cartByUsersA['orders'])), name='orders')],axis=0)"
   ]
  },
  {
   "cell_type": "code",
   "execution_count": 275,
   "metadata": {},
   "outputs": [],
   "source": [
    "sampleCoffers = pd.concat([cartByUsersC['orders'],pd.Series(\n",
    "    0, index=np.arange(data_AA_test['offersPerDateC'].sum() - len(cartByUsersC['orders'])), name='orders')],axis=0)"
   ]
  },
  {
   "cell_type": "markdown",
   "metadata": {},
   "source": [
    "Определим насколько два независимых распределения совпадают."
   ]
  },
  {
   "cell_type": "markdown",
   "metadata": {},
   "source": [
    "<b>Нулевая гипотеза:</b>  Распределение признака в первой выборке группы A соответствует распределению признака во второй выборке контрольной группы А для события CartScreenAppear.\n",
    "\n",
    "<b>Альтернативная гипотеза:</b>  Распределение признака в первой выборке группы A <b>не</b> соответствует распределению признака во второй выборке контрольной группы А для события CartScreenAppear."
   ]
  },
  {
   "cell_type": "code",
   "execution_count": 276,
   "metadata": {},
   "outputs": [
    {
     "name": "stdout",
     "output_type": "stream",
     "text": [
      "0.09025\n"
     ]
    }
   ],
   "source": [
    "print(\"{0:.5f}\".format(stats.mannwhitneyu(sampleAoffers, sampleCoffers)[1]))"
   ]
  },
  {
   "cell_type": "markdown",
   "metadata": {},
   "source": [
    "P-value значительно больше 0.05. Значит, нулевую гипотезу о том, что статистически значимых различий в конверсии между группами нет, не отвергаем. Группы одинаковы, разницы между ними нет, заход для CartScreenAppear идентичен.\n",
    "\n",
    "Вывод: По «сырым» данным различий в конверсии групп A и контрольной группы А нет."
   ]
  },
  {
   "cell_type": "code",
   "execution_count": 277,
   "metadata": {},
   "outputs": [
    {
     "name": "stdout",
     "output_type": "stream",
     "text": [
      "-0.154\n"
     ]
    }
   ],
   "source": [
    "print(\"{0:.3f}\".format(sampleCoffers.sum() / sampleAoffers.sum() - 1))"
   ]
  },
  {
   "cell_type": "markdown",
   "metadata": {},
   "source": [
    "Среднее значение числа пользователей перешедших на CartScreenAppear уменьшилось на 15%."
   ]
  },
  {
   "cell_type": "markdown",
   "metadata": {},
   "source": [
    "### Проверим, имеется ли различия в конверсии групп A и контрольной группы А для PaymentScreenSuccessful"
   ]
  },
  {
   "cell_type": "code",
   "execution_count": 278,
   "metadata": {},
   "outputs": [],
   "source": [
    "paymentByUsersA = payment_A['device_id_hash'].value_counts().reset_index()\n",
    "paymentByUsersA.columns = ['userId', 'orders']"
   ]
  },
  {
   "cell_type": "code",
   "execution_count": 279,
   "metadata": {},
   "outputs": [],
   "source": [
    "paymentByUsersC = payment_C['device_id_hash'].value_counts().reset_index()\n",
    "paymentByUsersC.columns = ['userId', 'orders']"
   ]
  },
  {
   "cell_type": "code",
   "execution_count": 280,
   "metadata": {},
   "outputs": [],
   "source": [
    "sampleAcart = pd.concat([paymentByUsersA['orders'],pd.Series(\n",
    "    0, index=np.arange(data_AA_test['cartPerDateC'].sum() - len(paymentByUsersA['orders'])), name='orders')],axis=0)"
   ]
  },
  {
   "cell_type": "code",
   "execution_count": 281,
   "metadata": {},
   "outputs": [],
   "source": [
    "sampleCcart = pd.concat([paymentByUsersC['orders'],pd.Series(0, index=np.arange(\n",
    "    data_AA_test['cartPerDateC'].sum() - len(paymentByUsersC['orders'])), name='orders')],axis=0)"
   ]
  },
  {
   "cell_type": "markdown",
   "metadata": {},
   "source": [
    "Определим насколько два независимых распределения совпадают."
   ]
  },
  {
   "cell_type": "markdown",
   "metadata": {},
   "source": [
    "<b>Нулевая гипотеза:</b>  Распределение признака в первой выборке группы A соответствует распределению признака во второй выборке контрольной группы А для события PaymentScreenSuccessful.\n",
    "\n",
    "<b>Альтернативная гипотеза:</b>  Распределение признака в первой выборке группы A <b>не</b> соответствует распределению признака во второй выборке контрольной группы А для события PaymentScreenSuccessful."
   ]
  },
  {
   "cell_type": "code",
   "execution_count": 282,
   "metadata": {},
   "outputs": [
    {
     "name": "stdout",
     "output_type": "stream",
     "text": [
      "0.16978\n"
     ]
    }
   ],
   "source": [
    "print(\"{0:.5f}\".format(stats.mannwhitneyu(sampleAcart, sampleCcart)[1]))"
   ]
  },
  {
   "cell_type": "markdown",
   "metadata": {},
   "source": [
    "P-value значительно больше 0.05. Значит, нулевую гипотезу о том, что статистически значимых различий в конверсии между группами нет, не отвергаем. Группы одинаковы, разницы между ними нет, заход для PaymentScreenSuccessful идентичен.\n",
    "\n",
    "Вывод: По «сырым» данным различий в конверсии групп A и контрольной группы А нет."
   ]
  },
  {
   "cell_type": "code",
   "execution_count": 283,
   "metadata": {},
   "outputs": [
    {
     "name": "stdout",
     "output_type": "stream",
     "text": [
      "-0.158\n"
     ]
    }
   ],
   "source": [
    "print(\"{0:.3f}\".format(sampleCcart.mean() / sampleAcart.mean() - 1))"
   ]
  },
  {
   "cell_type": "markdown",
   "metadata": {},
   "source": [
    "Среднее значение числа пользователей перешедших на PaymentScreenSuccessful уменьшилось на 15%."
   ]
  },
  {
   "cell_type": "markdown",
   "metadata": {},
   "source": [
    "### Проверим, будет ли отличие между группами статистически достоверным с группой с изменённым шрифтом. Сравним результаты с каждой из контрольных групп в отдельности по каждому событию. Сравним результаты с объединённой контрольной группой."
   ]
  },
  {
   "cell_type": "markdown",
   "metadata": {},
   "source": [
    "Сделаем выборку по группе А (246) и MainScreenAppear, добавим кумулятивные метрики"
   ]
  },
  {
   "cell_type": "code",
   "execution_count": 284,
   "metadata": {},
   "outputs": [],
   "source": [
    "main_B = data_AB.query('exp_id == 248 and event_name == \"MainScreenAppear\"')"
   ]
  },
  {
   "cell_type": "code",
   "execution_count": 285,
   "metadata": {},
   "outputs": [],
   "source": [
    "mainBDaily = main_B.pivot_table(index=\"event_time_day\", values=\"device_id_hash\", aggfunc = 'count').reset_index()\n",
    "mainBDaily.columns = ['date', 'mainPerDateB']"
   ]
  },
  {
   "cell_type": "code",
   "execution_count": 286,
   "metadata": {},
   "outputs": [],
   "source": [
    "mainBCummulative = mainBDaily.apply(\n",
    "    lambda x: mainBDaily[mainBDaily['date'] <= x['date']].agg(\n",
    "        {'date': 'max', 'mainPerDateB': 'sum'}\n",
    "    ),\n",
    "    axis=1,\n",
    ")\n",
    "mainBCummulative.columns = ['date', 'mainCummulativeB']"
   ]
  },
  {
   "cell_type": "markdown",
   "metadata": {},
   "source": [
    "Сделаем выборку по группе B (248) и OffersScreenAppear, добавим кумулятивные метрики"
   ]
  },
  {
   "cell_type": "code",
   "execution_count": 287,
   "metadata": {},
   "outputs": [],
   "source": [
    "offers_B = data_AB.query('exp_id == 248 and event_name == \"OffersScreenAppear\"')"
   ]
  },
  {
   "cell_type": "code",
   "execution_count": 288,
   "metadata": {},
   "outputs": [],
   "source": [
    "offersBDaily = offers_B.pivot_table(index=\"event_time_day\", values=\"device_id_hash\", aggfunc = 'count').reset_index()\n",
    "offersBDaily.columns = ['date', 'offersPerDateB']"
   ]
  },
  {
   "cell_type": "code",
   "execution_count": 289,
   "metadata": {},
   "outputs": [],
   "source": [
    "offersBCummulative = offersBDaily.apply(\n",
    "    lambda x: offersBDaily[offersBDaily['date'] <= x['date']].agg(\n",
    "        {'date': 'max', 'offersPerDateB': 'sum'}\n",
    "    ),\n",
    "    axis=1,\n",
    ")\n",
    "offersBCummulative.columns = ['date', 'offersCummulativeB']"
   ]
  },
  {
   "cell_type": "markdown",
   "metadata": {},
   "source": [
    "Сделаем выборку по группе B (248) и CartScreenAppear, добавим кумулятивные метрики"
   ]
  },
  {
   "cell_type": "code",
   "execution_count": 290,
   "metadata": {},
   "outputs": [],
   "source": [
    "cart_B = data_AB.query('exp_id == 248 and event_name == \"CartScreenAppear\"')"
   ]
  },
  {
   "cell_type": "code",
   "execution_count": 291,
   "metadata": {},
   "outputs": [],
   "source": [
    "cartBDaily = cart_B.pivot_table(index=\"event_time_day\", values=\"device_id_hash\", aggfunc = 'count').reset_index()\n",
    "cartBDaily.columns = ['date', 'cartPerDateB']"
   ]
  },
  {
   "cell_type": "code",
   "execution_count": 292,
   "metadata": {},
   "outputs": [],
   "source": [
    "cartBCummulative = cartBDaily.apply(\n",
    "    lambda x: cartBDaily[cartBDaily['date'] <= x['date']].agg(\n",
    "        {'date': 'max', 'cartPerDateB': 'sum'}\n",
    "    ),\n",
    "    axis=1,\n",
    ")\n",
    "cartBCummulative.columns = ['date', 'cartCummulativeB']"
   ]
  },
  {
   "cell_type": "markdown",
   "metadata": {},
   "source": [
    "Сделаем выборку по группе B (248) и PaymentScreenSuccessful, добавим кумулятивные метрики"
   ]
  },
  {
   "cell_type": "code",
   "execution_count": 293,
   "metadata": {},
   "outputs": [],
   "source": [
    "payment_B = data_AB.query('exp_id == 248 and event_name == \"PaymentScreenSuccessful\"')"
   ]
  },
  {
   "cell_type": "code",
   "execution_count": 294,
   "metadata": {},
   "outputs": [],
   "source": [
    "paymentBDaily = payment_B.pivot_table(index=\"event_time_day\", values=\"device_id_hash\", aggfunc = 'count').reset_index()\n",
    "paymentBDaily.columns = ['date', 'paymentPerDateB']"
   ]
  },
  {
   "cell_type": "code",
   "execution_count": 295,
   "metadata": {},
   "outputs": [],
   "source": [
    "paymentBCummulative = paymentBDaily.apply(\n",
    "    lambda x: paymentBDaily[paymentBDaily['date'] <= x['date']].agg(\n",
    "        {'date': 'max', 'paymentPerDateB': 'sum'}\n",
    "    ),\n",
    "    axis=1,\n",
    ")\n",
    "paymentBCummulative.columns = ['date', 'paymentCummulativeB']"
   ]
  },
  {
   "cell_type": "markdown",
   "metadata": {},
   "source": [
    "Объединим данные в один датасет"
   ]
  },
  {
   "cell_type": "code",
   "execution_count": 296,
   "metadata": {},
   "outputs": [],
   "source": [
    "data_AB_test = (mainADaily\n",
    "    .merge(mainBDaily, left_on='date', right_on='date', how='left')\n",
    "    .merge(mainACummulative, left_on='date', right_on='date', how='left')\n",
    "    .merge(mainBCummulative, left_on='date', right_on='date', how='left')\n",
    "                \n",
    "    .merge(offersADaily, left_on='date', right_on='date', how='left')\n",
    "    .merge(offersBDaily, left_on='date', right_on='date', how='left')\n",
    "    .merge(offersACummulative, left_on='date', right_on='date', how='left')\n",
    "    .merge(offersBCummulative, left_on='date', right_on='date', how='left')                \n",
    "                                       \n",
    "    .merge(cartADaily, left_on='date', right_on='date', how='left')\n",
    "    .merge(cartBDaily, left_on='date', right_on='date', how='left')\n",
    "    .merge(cartACummulative, left_on='date', right_on='date', how='left')\n",
    "    .merge(cartBCummulative, left_on='date', right_on='date', how='left')\n",
    "                \n",
    "    .merge(paymentADaily, left_on='date', right_on='date', how='left')\n",
    "    .merge(paymentBDaily, left_on='date', right_on='date', how='left')\n",
    "    .merge(paymentACummulative, left_on='date', right_on='date', how='left')\n",
    "    .merge(paymentBCummulative, left_on='date', right_on='date', how='left')\n",
    ")"
   ]
  },
  {
   "cell_type": "code",
   "execution_count": 297,
   "metadata": {},
   "outputs": [
    {
     "data": {
      "text/html": [
       "<div>\n",
       "<style scoped>\n",
       "    .dataframe tbody tr th:only-of-type {\n",
       "        vertical-align: middle;\n",
       "    }\n",
       "\n",
       "    .dataframe tbody tr th {\n",
       "        vertical-align: top;\n",
       "    }\n",
       "\n",
       "    .dataframe thead th {\n",
       "        text-align: right;\n",
       "    }\n",
       "</style>\n",
       "<table border=\"1\" class=\"dataframe\">\n",
       "  <thead>\n",
       "    <tr style=\"text-align: right;\">\n",
       "      <th></th>\n",
       "      <th>date</th>\n",
       "      <th>mainPerDateA</th>\n",
       "      <th>mainPerDateB</th>\n",
       "      <th>mainCummulativeA</th>\n",
       "      <th>mainCummulativeB</th>\n",
       "      <th>offersPerDateA</th>\n",
       "      <th>offersPerDateB</th>\n",
       "      <th>offersCummulativeA</th>\n",
       "      <th>offersCummulativeB</th>\n",
       "      <th>cartPerDateA</th>\n",
       "      <th>cartPerDateB</th>\n",
       "      <th>cartCummulativeA</th>\n",
       "      <th>cartCummulativeB</th>\n",
       "      <th>paymentPerDateA</th>\n",
       "      <th>paymentPerDateB</th>\n",
       "      <th>paymentCummulativeA</th>\n",
       "      <th>paymentCummulativeB</th>\n",
       "    </tr>\n",
       "  </thead>\n",
       "  <tbody>\n",
       "    <tr>\n",
       "      <td>0</td>\n",
       "      <td>1</td>\n",
       "      <td>5370</td>\n",
       "      <td>6319</td>\n",
       "      <td>5370</td>\n",
       "      <td>6319</td>\n",
       "      <td>2062</td>\n",
       "      <td>2550</td>\n",
       "      <td>2062</td>\n",
       "      <td>2550</td>\n",
       "      <td>2287</td>\n",
       "      <td>1921</td>\n",
       "      <td>2287</td>\n",
       "      <td>1921</td>\n",
       "      <td>1785</td>\n",
       "      <td>1401</td>\n",
       "      <td>1785</td>\n",
       "      <td>1401</td>\n",
       "    </tr>\n",
       "    <tr>\n",
       "      <td>1</td>\n",
       "      <td>2</td>\n",
       "      <td>5620</td>\n",
       "      <td>5880</td>\n",
       "      <td>10990</td>\n",
       "      <td>12199</td>\n",
       "      <td>2241</td>\n",
       "      <td>2475</td>\n",
       "      <td>4303</td>\n",
       "      <td>5025</td>\n",
       "      <td>1764</td>\n",
       "      <td>2843</td>\n",
       "      <td>4051</td>\n",
       "      <td>4764</td>\n",
       "      <td>1255</td>\n",
       "      <td>2362</td>\n",
       "      <td>3040</td>\n",
       "      <td>3763</td>\n",
       "    </tr>\n",
       "    <tr>\n",
       "      <td>2</td>\n",
       "      <td>3</td>\n",
       "      <td>4671</td>\n",
       "      <td>5219</td>\n",
       "      <td>15661</td>\n",
       "      <td>17418</td>\n",
       "      <td>2088</td>\n",
       "      <td>2513</td>\n",
       "      <td>6391</td>\n",
       "      <td>7538</td>\n",
       "      <td>2082</td>\n",
       "      <td>2185</td>\n",
       "      <td>6133</td>\n",
       "      <td>6949</td>\n",
       "      <td>1685</td>\n",
       "      <td>1709</td>\n",
       "      <td>4725</td>\n",
       "      <td>5472</td>\n",
       "    </tr>\n",
       "    <tr>\n",
       "      <td>3</td>\n",
       "      <td>4</td>\n",
       "      <td>5178</td>\n",
       "      <td>5067</td>\n",
       "      <td>20839</td>\n",
       "      <td>22485</td>\n",
       "      <td>2191</td>\n",
       "      <td>2201</td>\n",
       "      <td>8582</td>\n",
       "      <td>9739</td>\n",
       "      <td>2238</td>\n",
       "      <td>2314</td>\n",
       "      <td>8371</td>\n",
       "      <td>9263</td>\n",
       "      <td>1865</td>\n",
       "      <td>1876</td>\n",
       "      <td>6590</td>\n",
       "      <td>7348</td>\n",
       "    </tr>\n",
       "    <tr>\n",
       "      <td>4</td>\n",
       "      <td>5</td>\n",
       "      <td>6010</td>\n",
       "      <td>5933</td>\n",
       "      <td>26849</td>\n",
       "      <td>28418</td>\n",
       "      <td>2120</td>\n",
       "      <td>2316</td>\n",
       "      <td>10702</td>\n",
       "      <td>12055</td>\n",
       "      <td>2327</td>\n",
       "      <td>2473</td>\n",
       "      <td>10698</td>\n",
       "      <td>11736</td>\n",
       "      <td>1880</td>\n",
       "      <td>1992</td>\n",
       "      <td>8470</td>\n",
       "      <td>9340</td>\n",
       "    </tr>\n",
       "    <tr>\n",
       "      <td>5</td>\n",
       "      <td>6</td>\n",
       "      <td>5795</td>\n",
       "      <td>6577</td>\n",
       "      <td>32644</td>\n",
       "      <td>34995</td>\n",
       "      <td>2090</td>\n",
       "      <td>2340</td>\n",
       "      <td>12792</td>\n",
       "      <td>14395</td>\n",
       "      <td>2068</td>\n",
       "      <td>1897</td>\n",
       "      <td>12766</td>\n",
       "      <td>13633</td>\n",
       "      <td>1727</td>\n",
       "      <td>1482</td>\n",
       "      <td>10197</td>\n",
       "      <td>10822</td>\n",
       "    </tr>\n",
       "    <tr>\n",
       "      <td>6</td>\n",
       "      <td>7</td>\n",
       "      <td>5032</td>\n",
       "      <td>5567</td>\n",
       "      <td>37676</td>\n",
       "      <td>40562</td>\n",
       "      <td>1975</td>\n",
       "      <td>1992</td>\n",
       "      <td>14767</td>\n",
       "      <td>16387</td>\n",
       "      <td>1924</td>\n",
       "      <td>1546</td>\n",
       "      <td>14690</td>\n",
       "      <td>15179</td>\n",
       "      <td>1655</td>\n",
       "      <td>1263</td>\n",
       "      <td>11852</td>\n",
       "      <td>12085</td>\n",
       "    </tr>\n",
       "  </tbody>\n",
       "</table>\n",
       "</div>"
      ],
      "text/plain": [
       "   date  mainPerDateA  mainPerDateB  mainCummulativeA  mainCummulativeB  \\\n",
       "0     1          5370          6319              5370              6319   \n",
       "1     2          5620          5880             10990             12199   \n",
       "2     3          4671          5219             15661             17418   \n",
       "3     4          5178          5067             20839             22485   \n",
       "4     5          6010          5933             26849             28418   \n",
       "5     6          5795          6577             32644             34995   \n",
       "6     7          5032          5567             37676             40562   \n",
       "\n",
       "   offersPerDateA  offersPerDateB  offersCummulativeA  offersCummulativeB  \\\n",
       "0            2062            2550                2062                2550   \n",
       "1            2241            2475                4303                5025   \n",
       "2            2088            2513                6391                7538   \n",
       "3            2191            2201                8582                9739   \n",
       "4            2120            2316               10702               12055   \n",
       "5            2090            2340               12792               14395   \n",
       "6            1975            1992               14767               16387   \n",
       "\n",
       "   cartPerDateA  cartPerDateB  cartCummulativeA  cartCummulativeB  \\\n",
       "0          2287          1921              2287              1921   \n",
       "1          1764          2843              4051              4764   \n",
       "2          2082          2185              6133              6949   \n",
       "3          2238          2314              8371              9263   \n",
       "4          2327          2473             10698             11736   \n",
       "5          2068          1897             12766             13633   \n",
       "6          1924          1546             14690             15179   \n",
       "\n",
       "   paymentPerDateA  paymentPerDateB  paymentCummulativeA  paymentCummulativeB  \n",
       "0             1785             1401                 1785                 1401  \n",
       "1             1255             2362                 3040                 3763  \n",
       "2             1685             1709                 4725                 5472  \n",
       "3             1865             1876                 6590                 7348  \n",
       "4             1880             1992                 8470                 9340  \n",
       "5             1727             1482                10197                10822  \n",
       "6             1655             1263                11852                12085  "
      ]
     },
     "execution_count": 297,
     "metadata": {},
     "output_type": "execute_result"
    }
   ],
   "source": [
    "data_AB_test"
   ]
  },
  {
   "cell_type": "markdown",
   "metadata": {},
   "source": [
    "Построим кумулятивные графики"
   ]
  },
  {
   "cell_type": "code",
   "execution_count": 298,
   "metadata": {},
   "outputs": [
    {
     "data": {
      "image/png": "[encoded data removed]",
      "text/plain": [
       "<Figure size 864x288 with 1 Axes>"
      ]
     },
     "metadata": {
      "needs_background": "light"
     },
     "output_type": "display_data"
    }
   ],
   "source": [
    "from pandas.plotting import register_matplotlib_converters\n",
    "register_matplotlib_converters()\n",
    "plt.subplots(figsize=(12, 4))\n",
    "plt.title('Кумулятивный график числа посещений MainScreenAppear')\n",
    "plt.ylabel('Число посещений')\n",
    "plt.xlabel('Дата посещения')\n",
    "plt.plot(data_AB_test['date'], data_AB_test['mainCummulativeA'], label='A', linewidth = 5)\n",
    "plt.plot(data_AB_test['date'], data_AB_test['mainCummulativeB'], label='B', linewidth = 5)\n",
    "plt.grid(color = 'blue', linewidth = 1, linestyle = '--')\n",
    "plt.legend();"
   ]
  },
  {
   "cell_type": "markdown",
   "metadata": {},
   "source": [
    "Кумулятивные значения числа посещений MainScreenAppear группы В немного превышают на всем исследуемом интервале"
   ]
  },
  {
   "cell_type": "code",
   "execution_count": 299,
   "metadata": {},
   "outputs": [
    {
     "data": {
      "image/png": "[encoded data removed]",
      "text/plain": [
       "<Figure size 864x288 with 1 Axes>"
      ]
     },
     "metadata": {
      "needs_background": "light"
     },
     "output_type": "display_data"
    }
   ],
   "source": [
    "plt.subplots(figsize=(12, 4))\n",
    "plt.title('Кумулятивный график числа посещений OffersScreenAppear')\n",
    "plt.ylabel('Число посещений')\n",
    "plt.xlabel('Дата посещения')\n",
    "plt.plot(data_AB_test['date'], data_AB_test['offersCummulativeA'], label='A', linewidth = 5)\n",
    "plt.plot(data_AB_test['date'], data_AB_test['offersCummulativeB'], label='B', linewidth = 5)\n",
    "plt.grid(color = 'blue', linewidth = 1, linestyle = '--')\n",
    "plt.legend();"
   ]
  },
  {
   "cell_type": "markdown",
   "metadata": {},
   "source": [
    "Кумулятивные значения числа посещений OffersScreenAppear группы В плавно увеличиваются на всем интервале"
   ]
  },
  {
   "cell_type": "code",
   "execution_count": 300,
   "metadata": {},
   "outputs": [
    {
     "data": {
      "image/png": "[encoded data removed]",
      "text/plain": [
       "<Figure size 864x288 with 1 Axes>"
      ]
     },
     "metadata": {
      "needs_background": "light"
     },
     "output_type": "display_data"
    }
   ],
   "source": [
    "plt.subplots(figsize=(12, 4))\n",
    "plt.title('Кумулятивный график числа посещений CartScreenAppear')\n",
    "plt.ylabel('Число посещений')\n",
    "plt.xlabel('Дата посещения')\n",
    "plt.plot(data_AB_test['date'], data_AB_test['cartCummulativeA'], label='A', linewidth = 5)\n",
    "plt.plot(data_AB_test['date'], data_AB_test['cartCummulativeB'], label='B', linewidth = 5)\n",
    "plt.grid(color = 'blue', linewidth = 1, linestyle = '--')\n",
    "plt.legend();"
   ]
  },
  {
   "cell_type": "markdown",
   "metadata": {},
   "source": [
    "Кумулятивные значения числа посещений CartScreenAppear группы В в первый день меньше, затем превышает значения группы А и в последний день значения практически равны"
   ]
  },
  {
   "cell_type": "code",
   "execution_count": 301,
   "metadata": {},
   "outputs": [
    {
     "data": {
      "image/png": "[encoded data removed]",
      "text/plain": [
       "<Figure size 864x288 with 1 Axes>"
      ]
     },
     "metadata": {
      "needs_background": "light"
     },
     "output_type": "display_data"
    }
   ],
   "source": [
    "plt.subplots(figsize=(12, 4))\n",
    "plt.title('Кумулятивный график числа посещений PaymentScreenSuccessful')\n",
    "plt.ylabel('Число посещений')\n",
    "plt.xlabel('Дата посещения')\n",
    "plt.plot(data_AB_test['date'], data_AB_test['paymentCummulativeA'], label='A', linewidth = 5)\n",
    "plt.plot(data_AB_test['date'], data_AB_test['paymentCummulativeB'], label='B', linewidth = 5)\n",
    "plt.grid(color = 'blue', linewidth = 1, linestyle = '--')\n",
    "plt.legend();"
   ]
  },
  {
   "cell_type": "markdown",
   "metadata": {},
   "source": [
    "Кумулятивные значения числа посещений PaymentScreenSuccessful группы В в первый день меньше, затем превышает значения группы А и в последний день значения практически равны"
   ]
  },
  {
   "cell_type": "markdown",
   "metadata": {},
   "source": [
    "### Проверим, имеется ли различия в конверсии групп A и группы B для OffersScreenAppear"
   ]
  },
  {
   "cell_type": "markdown",
   "metadata": {},
   "source": [
    "Поскольку тестов (и гипотез) у нас три, приведем коррекцию уровня значимости"
   ]
  },
  {
   "cell_type": "code",
   "execution_count": 302,
   "metadata": {},
   "outputs": [
    {
     "data": {
      "text/plain": [
       "0.016666666666666666"
      ]
     },
     "execution_count": 302,
     "metadata": {},
     "output_type": "execute_result"
    }
   ],
   "source": [
    "alpha = 0.05\n",
    "alpha = alpha / 3\n",
    "alpha"
   ]
  },
  {
   "cell_type": "code",
   "execution_count": 303,
   "metadata": {},
   "outputs": [],
   "source": [
    "offersByUsersB = offers_B['device_id_hash'].value_counts().reset_index()\n",
    "offersByUsersB.columns = ['userId', 'orders']"
   ]
  },
  {
   "cell_type": "code",
   "execution_count": 304,
   "metadata": {},
   "outputs": [],
   "source": [
    "sampleBmain = pd.concat([offersByUsersB['orders'],pd.Series(0, index=np.arange(\n",
    "    data_AB_test['mainPerDateB'].sum() - len(offersByUsersB['orders'])), name='orders')],axis=0)"
   ]
  },
  {
   "cell_type": "markdown",
   "metadata": {},
   "source": [
    "Определим насколько два независимых распределения совпадают."
   ]
  },
  {
   "cell_type": "markdown",
   "metadata": {},
   "source": [
    "<b>Нулевая гипотеза:</b>  Распределение признака в первой выборке группы A соответствует распределению признака во второй выборке группы В для события OffersScreenAppear.\n",
    "\n",
    "<b>Альтернативная гипотеза:</b>  Распределение признака в первой выборке группы A <b>не</b> соответствует распределению признака во второй выборке контрольной группы А для события OffersScreenAppear."
   ]
  },
  {
   "cell_type": "code",
   "execution_count": 305,
   "metadata": {},
   "outputs": [
    {
     "name": "stdout",
     "output_type": "stream",
     "text": [
      "0.01079\n"
     ]
    }
   ],
   "source": [
    "print(\"{0:.5f}\".format(stats.mannwhitneyu(sampleAmain, sampleBmain)[1]))"
   ]
  },
  {
   "cell_type": "markdown",
   "metadata": {},
   "source": [
    "P-value значительно больше 0.0167. Значит, нулевую гипотезу о том, что статистически значимых различий в конверсии между группами нет, не отвергаем. Группы одинаковы, разницы между ними нет, заход для OffersScreenAppear идентичен.\n",
    "\n",
    "Вывод: По «сырым» данным различий в конверсии групп A и группы В нет."
   ]
  },
  {
   "cell_type": "code",
   "execution_count": 306,
   "metadata": {},
   "outputs": [
    {
     "name": "stdout",
     "output_type": "stream",
     "text": [
      "0.031\n"
     ]
    }
   ],
   "source": [
    "print(\"{0:.3f}\".format(sampleBmain.mean() / sampleAmain.mean() - 1))"
   ]
  },
  {
   "cell_type": "markdown",
   "metadata": {},
   "source": [
    "Среднее значение числа пользователей перешедших на OffersScreenAppear увеличилось на 3%."
   ]
  },
  {
   "cell_type": "markdown",
   "metadata": {},
   "source": [
    "### Проверим, имеется ли различия в конверсии групп A и группы B для CartScreenAppear"
   ]
  },
  {
   "cell_type": "code",
   "execution_count": 307,
   "metadata": {},
   "outputs": [],
   "source": [
    "cartByUsersB = cart_B['device_id_hash'].value_counts().reset_index()\n",
    "cartByUsersB.columns = ['userId', 'orders']"
   ]
  },
  {
   "cell_type": "code",
   "execution_count": 308,
   "metadata": {},
   "outputs": [],
   "source": [
    "sampleBoffers = pd.concat([cartByUsersB['orders'],pd.Series(0, index=np.arange(\n",
    "    data_AB_test['offersPerDateB'].sum() - len(cartByUsersB['orders'])), name='orders')],axis=0)"
   ]
  },
  {
   "cell_type": "markdown",
   "metadata": {},
   "source": [
    "Определим насколько два независимых распределения совпадают."
   ]
  },
  {
   "cell_type": "markdown",
   "metadata": {},
   "source": [
    "<b>Нулевая гипотеза:</b>  Распределение признака в первой выборке группы A соответствует распределению признака во второй выборке группы В для события CartScreenAppear.\n",
    "\n",
    "<b>Альтернативная гипотеза:</b>  Распределение признака в первой выборке группы A <b>не</b> соответствует распределению признака во второй выборке контрольной группы А для события CartScreenAppear."
   ]
  },
  {
   "cell_type": "code",
   "execution_count": 309,
   "metadata": {},
   "outputs": [
    {
     "name": "stdout",
     "output_type": "stream",
     "text": [
      "0.00036\n"
     ]
    }
   ],
   "source": [
    "print(\"{0:.5f}\".format(stats.mannwhitneyu(sampleAoffers, sampleBoffers)[1]))"
   ]
  },
  {
   "cell_type": "markdown",
   "metadata": {},
   "source": [
    "P-value значительно меньше 0.0167. Значит, нулевую гипотезу о том, что статистически значимых различий в конверсии между группами нет, отвергаем. Группы различны, разницы между ними есть, заход на CartScreenAppear не идентичен.\n",
    "\n",
    "Вывод: По «сырым» данным есть различия в конверсии групп A и группы В."
   ]
  },
  {
   "cell_type": "code",
   "execution_count": 310,
   "metadata": {},
   "outputs": [
    {
     "name": "stdout",
     "output_type": "stream",
     "text": [
      "0.033\n"
     ]
    }
   ],
   "source": [
    "print(\"{0:.3f}\".format(sampleBoffers.sum() / sampleAoffers.sum() - 1))"
   ]
  },
  {
   "cell_type": "markdown",
   "metadata": {},
   "source": [
    "Среднее значение числа пользователей перешедших на CartScreenAppear увеличилось на 3%."
   ]
  },
  {
   "cell_type": "markdown",
   "metadata": {},
   "source": [
    "Посмотрим есть ли выбросы в данных и как они влияют на результат"
   ]
  },
  {
   "cell_type": "code",
   "execution_count": 311,
   "metadata": {},
   "outputs": [],
   "source": [
    "data_cart_B_count = cart_B['device_id_hash'].value_counts().reset_index()"
   ]
  },
  {
   "cell_type": "code",
   "execution_count": 312,
   "metadata": {},
   "outputs": [
    {
     "data": {
      "text/html": [
       "<div>\n",
       "<style scoped>\n",
       "    .dataframe tbody tr th:only-of-type {\n",
       "        vertical-align: middle;\n",
       "    }\n",
       "\n",
       "    .dataframe tbody tr th {\n",
       "        vertical-align: top;\n",
       "    }\n",
       "\n",
       "    .dataframe thead th {\n",
       "        text-align: right;\n",
       "    }\n",
       "</style>\n",
       "<table border=\"1\" class=\"dataframe\">\n",
       "  <thead>\n",
       "    <tr style=\"text-align: right;\">\n",
       "      <th></th>\n",
       "      <th>index</th>\n",
       "      <th>device_id_hash</th>\n",
       "    </tr>\n",
       "  </thead>\n",
       "  <tbody>\n",
       "    <tr>\n",
       "      <td>0</td>\n",
       "      <td>6304868067479728361</td>\n",
       "      <td>1100</td>\n",
       "    </tr>\n",
       "    <tr>\n",
       "      <td>1</td>\n",
       "      <td>6932517045703054087</td>\n",
       "      <td>417</td>\n",
       "    </tr>\n",
       "    <tr>\n",
       "      <td>2</td>\n",
       "      <td>4713748699910253089</td>\n",
       "      <td>376</td>\n",
       "    </tr>\n",
       "    <tr>\n",
       "      <td>3</td>\n",
       "      <td>2305766456715991733</td>\n",
       "      <td>319</td>\n",
       "    </tr>\n",
       "    <tr>\n",
       "      <td>4</td>\n",
       "      <td>1100007125648169445</td>\n",
       "      <td>311</td>\n",
       "    </tr>\n",
       "    <tr>\n",
       "      <td>...</td>\n",
       "      <td>...</td>\n",
       "      <td>...</td>\n",
       "    </tr>\n",
       "    <tr>\n",
       "      <td>1225</td>\n",
       "      <td>975074959546731393</td>\n",
       "      <td>1</td>\n",
       "    </tr>\n",
       "    <tr>\n",
       "      <td>1226</td>\n",
       "      <td>4369662623769092250</td>\n",
       "      <td>1</td>\n",
       "    </tr>\n",
       "    <tr>\n",
       "      <td>1227</td>\n",
       "      <td>1534901408177518994</td>\n",
       "      <td>1</td>\n",
       "    </tr>\n",
       "    <tr>\n",
       "      <td>1228</td>\n",
       "      <td>8108627213949746289</td>\n",
       "      <td>1</td>\n",
       "    </tr>\n",
       "    <tr>\n",
       "      <td>1229</td>\n",
       "      <td>8789279460922105131</td>\n",
       "      <td>1</td>\n",
       "    </tr>\n",
       "  </tbody>\n",
       "</table>\n",
       "<p>1230 rows × 2 columns</p>\n",
       "</div>"
      ],
      "text/plain": [
       "                    index  device_id_hash\n",
       "0     6304868067479728361            1100\n",
       "1     6932517045703054087             417\n",
       "2     4713748699910253089             376\n",
       "3     2305766456715991733             319\n",
       "4     1100007125648169445             311\n",
       "...                   ...             ...\n",
       "1225   975074959546731393               1\n",
       "1226  4369662623769092250               1\n",
       "1227  1534901408177518994               1\n",
       "1228  8108627213949746289               1\n",
       "1229  8789279460922105131               1\n",
       "\n",
       "[1230 rows x 2 columns]"
      ]
     },
     "execution_count": 312,
     "metadata": {},
     "output_type": "execute_result"
    }
   ],
   "source": [
    "data_cart_B_count"
   ]
  },
  {
   "cell_type": "code",
   "execution_count": 313,
   "metadata": {},
   "outputs": [
    {
     "data": {
      "image/png": "[encoded data removed]",
      "text/plain": [
       "<Figure size 1080x648 with 1 Axes>"
      ]
     },
     "metadata": {
      "needs_background": "light"
     },
     "output_type": "display_data"
    }
   ],
   "source": [
    "data_cart_B_count.hist('device_id_hash', bins=200, figsize=(15, 9))\n",
    "plt.title('Число посещений CartScreenAppear уникальными пользователями')\n",
    "plt.ylabel('Число посещений')\n",
    "plt.xlabel('Число пользователей');"
   ]
  },
  {
   "cell_type": "markdown",
   "metadata": {},
   "source": [
    "Большие выбросы значений"
   ]
  },
  {
   "cell_type": "code",
   "execution_count": 314,
   "metadata": {},
   "outputs": [],
   "source": [
    "device_id_hash_cart = data_cart_B_count.loc[:, ['device_id_hash']]"
   ]
  },
  {
   "cell_type": "code",
   "execution_count": 315,
   "metadata": {},
   "outputs": [
    {
     "data": {
      "image/png": "[encoded data removed]",
      "text/plain": [
       "<Figure size 432x288 with 1 Axes>"
      ]
     },
     "metadata": {
      "needs_background": "light"
     },
     "output_type": "display_data"
    }
   ],
   "source": [
    "device_id_hash_cart.boxplot();"
   ]
  },
  {
   "cell_type": "code",
   "execution_count": 316,
   "metadata": {},
   "outputs": [
    {
     "data": {
      "text/html": [
       "<div>\n",
       "<style scoped>\n",
       "    .dataframe tbody tr th:only-of-type {\n",
       "        vertical-align: middle;\n",
       "    }\n",
       "\n",
       "    .dataframe tbody tr th {\n",
       "        vertical-align: top;\n",
       "    }\n",
       "\n",
       "    .dataframe thead th {\n",
       "        text-align: right;\n",
       "    }\n",
       "</style>\n",
       "<table border=\"1\" class=\"dataframe\">\n",
       "  <thead>\n",
       "    <tr style=\"text-align: right;\">\n",
       "      <th></th>\n",
       "      <th>device_id_hash</th>\n",
       "    </tr>\n",
       "  </thead>\n",
       "  <tbody>\n",
       "    <tr>\n",
       "      <td>count</td>\n",
       "      <td>1230.000000</td>\n",
       "    </tr>\n",
       "    <tr>\n",
       "      <td>mean</td>\n",
       "      <td>12.340650</td>\n",
       "    </tr>\n",
       "    <tr>\n",
       "      <td>std</td>\n",
       "      <td>42.860459</td>\n",
       "    </tr>\n",
       "    <tr>\n",
       "      <td>min</td>\n",
       "      <td>1.000000</td>\n",
       "    </tr>\n",
       "    <tr>\n",
       "      <td>25%</td>\n",
       "      <td>3.000000</td>\n",
       "    </tr>\n",
       "    <tr>\n",
       "      <td>50%</td>\n",
       "      <td>6.000000</td>\n",
       "    </tr>\n",
       "    <tr>\n",
       "      <td>75%</td>\n",
       "      <td>11.000000</td>\n",
       "    </tr>\n",
       "    <tr>\n",
       "      <td>max</td>\n",
       "      <td>1100.000000</td>\n",
       "    </tr>\n",
       "  </tbody>\n",
       "</table>\n",
       "</div>"
      ],
      "text/plain": [
       "       device_id_hash\n",
       "count     1230.000000\n",
       "mean        12.340650\n",
       "std         42.860459\n",
       "min          1.000000\n",
       "25%          3.000000\n",
       "50%          6.000000\n",
       "75%         11.000000\n",
       "max       1100.000000"
      ]
     },
     "execution_count": 316,
     "metadata": {},
     "output_type": "execute_result"
    }
   ],
   "source": [
    "device_id_hash_cart.describe()"
   ]
  },
  {
   "cell_type": "markdown",
   "metadata": {},
   "source": [
    "Среднее значение числа посещений 12, медианное 6, максимальное 1230"
   ]
  },
  {
   "cell_type": "markdown",
   "metadata": {},
   "source": [
    "Посмотрим на распределение значений 95%"
   ]
  },
  {
   "cell_type": "code",
   "execution_count": 317,
   "metadata": {},
   "outputs": [
    {
     "data": {
      "image/png": "[encoded data removed]",
      "text/plain": [
       "<Figure size 432x288 with 1 Axes>"
      ]
     },
     "metadata": {
      "needs_background": "light"
     },
     "output_type": "display_data"
    },
    {
     "data": {
      "image/png": "[encoded data removed]",
      "text/plain": [
       "<Figure size 432x288 with 1 Axes>"
      ]
     },
     "metadata": {
      "needs_background": "light"
     },
     "output_type": "display_data"
    }
   ],
   "source": [
    "p95 = device_id_hash_cart.describe(percentiles = [0.01, 0.5, 0.95]).T['95%']['device_id_hash']\n",
    "df_new = device_id_hash_cart.query('device_id_hash <= @p95')\n",
    "plt.title('Распределения количества посещений после чистки выбросов')\n",
    "df_new.boxplot()\n",
    "plt.show()\n",
    "df_new['device_id_hash'].hist(bins=50)\n",
    "plt.title('Число посещений CartScreenAppear уникальными пользователями')\n",
    "plt.ylabel('Число посещений')\n",
    "plt.xlabel('Число пользователей');\n",
    "plt.show()"
   ]
  },
  {
   "cell_type": "markdown",
   "metadata": {},
   "source": [
    "Принимаем значение 95% для дальнейшего анализа"
   ]
  },
  {
   "cell_type": "code",
   "execution_count": 318,
   "metadata": {},
   "outputs": [
    {
     "name": "stdout",
     "output_type": "stream",
     "text": [
      "[ 19.    28.   138.75]\n"
     ]
    }
   ],
   "source": [
    "print(np.percentile(data_cart_B_count['device_id_hash'], [90, 95, 99])) "
   ]
  },
  {
   "cell_type": "code",
   "execution_count": 319,
   "metadata": {},
   "outputs": [],
   "source": [
    "usersWithManyOrders_AB = pd.concat(\n",
    "    [\n",
    "        cartByUsersA[cartByUsersA['orders'] > 28]['userId'],\n",
    "        cartByUsersB[cartByUsersB['orders'] > 28]['userId'],\n",
    "    ],\n",
    "    axis=0,\n",
    ")\n",
    "#usersWithManyOrders_AB"
   ]
  },
  {
   "cell_type": "code",
   "execution_count": 320,
   "metadata": {},
   "outputs": [],
   "source": [
    "abnormalUsers_AB = (\n",
    "    pd.concat([usersWithManyOrders_AB], axis=0)\n",
    "    .drop_duplicates()\n",
    "    .sort_values()\n",
    ")"
   ]
  },
  {
   "cell_type": "code",
   "execution_count": 321,
   "metadata": {},
   "outputs": [],
   "source": [
    "sampleAFiltered_cart = pd.concat(\n",
    "    [\n",
    "        cartByUsersA[\n",
    "            np.logical_not(cartByUsersA['userId'].isin(abnormalUsers_AB))\n",
    "        ]['orders'],\n",
    "        pd.Series(\n",
    "            0,\n",
    "            index=np.arange(\n",
    "                data_AB_test['offersPerDateA'].sum() - len(cartByUsersA['orders'])\n",
    "            ),\n",
    "            name='orders',\n",
    "        ),\n",
    "    ],\n",
    "    axis=0,\n",
    ")\n",
    "\n",
    "sampleBFiltered_cart = pd.concat(\n",
    "    [\n",
    "        cartByUsersB[\n",
    "            np.logical_not(cartByUsersB['userId'].isin(abnormalUsers_AB))\n",
    "        ]['orders'],\n",
    "        pd.Series(\n",
    "            0,\n",
    "            index=np.arange(\n",
    "                data_AB_test['offersPerDateB'].sum() - len(cartByUsersB['orders'])\n",
    "            ),\n",
    "            name='orders',\n",
    "        ),\n",
    "    ],\n",
    "    axis=0,\n",
    ")"
   ]
  },
  {
   "cell_type": "code",
   "execution_count": 322,
   "metadata": {},
   "outputs": [
    {
     "name": "stdout",
     "output_type": "stream",
     "text": [
      "0.00244\n"
     ]
    }
   ],
   "source": [
    "print('{0:.5f}'.format(stats.mannwhitneyu(sampleAFiltered_cart, sampleBFiltered_cart)[1]))"
   ]
  },
  {
   "cell_type": "markdown",
   "metadata": {},
   "source": [
    "P-value значительно меньше 0.0167. Значит, нулевую гипотезу о том, что статистически значимых различий в конверсии между группами нет, отвергаем. Группы различны, разницы между ними есть, заход на CartScreenAppear не идентичен.\n",
    "\n",
    "Вывод: По «очищенным» данным есть различия в конверсии групп A и группы В."
   ]
  },
  {
   "cell_type": "markdown",
   "metadata": {},
   "source": [
    "### Проверим, имеется ли различия в конверсии групп A и группы B для PaymentScreenSuccessful"
   ]
  },
  {
   "cell_type": "code",
   "execution_count": 323,
   "metadata": {},
   "outputs": [],
   "source": [
    "paymentByUsersB = payment_B['device_id_hash'].value_counts().reset_index()\n",
    "paymentByUsersB.columns = ['userId', 'orders']"
   ]
  },
  {
   "cell_type": "code",
   "execution_count": 324,
   "metadata": {},
   "outputs": [],
   "source": [
    "sampleBcart = pd.concat([paymentByUsersB['orders'],pd.Series(\n",
    "    0, index=np.arange(data_AB_test['cartPerDateB'].sum() - len(paymentByUsersB['orders'])), name='orders')],axis=0)"
   ]
  },
  {
   "cell_type": "markdown",
   "metadata": {},
   "source": [
    "Определим насколько два независимых распределения совпадают."
   ]
  },
  {
   "cell_type": "markdown",
   "metadata": {},
   "source": [
    "<b>Нулевая гипотеза:</b>  Распределение признака в первой выборке группы A соответствует распределению признака во второй выборке группы В для события PaymentScreenSuccessful.\n",
    "\n",
    "<b>Альтернативная гипотеза:</b>  Распределение признака в первой выборке группы A <b>не</b> соответствует распределению признака во второй выборке контрольной группы А для события PaymentScreenSuccessful."
   ]
  },
  {
   "cell_type": "code",
   "execution_count": 325,
   "metadata": {},
   "outputs": [
    {
     "name": "stdout",
     "output_type": "stream",
     "text": [
      "0.00000\n"
     ]
    }
   ],
   "source": [
    "print(\"{0:.5f}\".format(stats.mannwhitneyu(sampleAcart, sampleBcart)[1]))"
   ]
  },
  {
   "cell_type": "markdown",
   "metadata": {},
   "source": [
    "P-value значительно меньше 0.05. Значит, нулевую гипотезу о том, что статистически значимых различий в конверсии между группами нет, отвергаем. Группы различны, разницы между ними есть, заход на PaymentScreenSuccessful не идентичен.\n",
    "\n",
    "Вывод: По «сырым» данным есть различия в конверсии групп A и группы В."
   ]
  },
  {
   "cell_type": "code",
   "execution_count": 326,
   "metadata": {},
   "outputs": [
    {
     "name": "stdout",
     "output_type": "stream",
     "text": [
      "0.020\n"
     ]
    }
   ],
   "source": [
    "print(\"{0:.3f}\".format(sampleBcart.sum() / sampleAcart.sum() - 1))"
   ]
  },
  {
   "cell_type": "markdown",
   "metadata": {},
   "source": [
    "Среднее значение числа пользователей перешедших на PaymentScreenSuccessful увеличилось на 2%"
   ]
  },
  {
   "cell_type": "markdown",
   "metadata": {},
   "source": [
    "Посмотрим есть ли выбросы в данных и как они влияют на результат"
   ]
  },
  {
   "cell_type": "code",
   "execution_count": 327,
   "metadata": {},
   "outputs": [],
   "source": [
    "data_payment_B_count = payment_B['device_id_hash'].value_counts().reset_index()"
   ]
  },
  {
   "cell_type": "code",
   "execution_count": 328,
   "metadata": {},
   "outputs": [
    {
     "name": "stdout",
     "output_type": "stream",
     "text": [
      "[ 15.   21.  122.6]\n"
     ]
    }
   ],
   "source": [
    "print(np.percentile(data_payment_B_count['device_id_hash'], [90, 95, 99])) "
   ]
  },
  {
   "cell_type": "code",
   "execution_count": 329,
   "metadata": {},
   "outputs": [],
   "source": [
    "usersWithManypayment_AB = pd.concat(\n",
    "    [\n",
    "        cartByUsersA[cartByUsersA['orders'] > 21]['userId'],\n",
    "        cartByUsersB[cartByUsersB['orders'] > 21]['userId'],\n",
    "    ],\n",
    "    axis=0,\n",
    ")\n",
    "#usersWithManypayment_AB"
   ]
  },
  {
   "cell_type": "code",
   "execution_count": 330,
   "metadata": {},
   "outputs": [],
   "source": [
    "abnormalUsers_AB_payment = (\n",
    "    pd.concat([usersWithManypayment_AB], axis=0)\n",
    "    .drop_duplicates()\n",
    "    .sort_values()\n",
    ")"
   ]
  },
  {
   "cell_type": "code",
   "execution_count": 331,
   "metadata": {},
   "outputs": [],
   "source": [
    "sampleAFiltered_payment = pd.concat(\n",
    "    [\n",
    "        paymentByUsersA[\n",
    "            np.logical_not(paymentByUsersA['userId'].isin(abnormalUsers_AB_payment))\n",
    "        ]['orders'],\n",
    "        pd.Series(\n",
    "            0,\n",
    "            index=np.arange(\n",
    "                data_AB_test['cartPerDateA'].sum() - len(paymentByUsersA['orders'])\n",
    "            ),\n",
    "            name='orders',\n",
    "        ),\n",
    "    ],\n",
    "    axis=0,\n",
    ")\n",
    "\n",
    "sampleBFiltered_payment = pd.concat(\n",
    "    [\n",
    "        cartByUsersB[\n",
    "            np.logical_not(cartByUsersB['userId'].isin(abnormalUsers_AB_payment))\n",
    "        ]['orders'],\n",
    "        pd.Series(\n",
    "            0,\n",
    "            index=np.arange(\n",
    "                data_AB_test['cartPerDateB'].sum() - len(cartByUsersB['orders'])\n",
    "            ),\n",
    "            name='orders',\n",
    "        ),\n",
    "    ],\n",
    "    axis=0,\n",
    ")"
   ]
  },
  {
   "cell_type": "code",
   "execution_count": 332,
   "metadata": {},
   "outputs": [
    {
     "name": "stdout",
     "output_type": "stream",
     "text": [
      "0.32074\n"
     ]
    }
   ],
   "source": [
    "print('{0:.5f}'.format(stats.mannwhitneyu(sampleAFiltered_payment, sampleBFiltered_payment)[1]))"
   ]
  },
  {
   "cell_type": "markdown",
   "metadata": {},
   "source": [
    "P-value значительно больше 0.0167. Значит, нулевую гипотезу о том, что статистически значимых различий в конверсии между группами нет, не отвергаем. Группы одинаковы, разницы между ними нет, заход для PaymentScreenSuccessful идентичен.\n",
    "\n",
    "Вывод: По «очищенным» данным различий в конверсии групп A и группы В нет."
   ]
  },
  {
   "cell_type": "markdown",
   "metadata": {},
   "source": [
    "Мы приняли уровень статистической значимости для для нашего теста в 5%.\n",
    "В начале п. 24 мы приняли коррекцию уровня значимости наших гипотез. Поскольку мы применили одновременно 3 теста, то уровень статистической значимости alpha был выбран 0.0167 или 0.05/3."
   ]
  },
  {
   "cell_type": "markdown",
   "metadata": {},
   "source": [
    "# Шаг 6. Сформулируем выводы и рекомендации"
   ]
  },
  {
   "cell_type": "markdown",
   "metadata": {},
   "source": [
    "<div class=\"alert alert-info\" role=\"alert\">\n",
    "\n",
    "Мы разобрались, как ведут себя пользователи мобильного приложения в стартапе, который продаёт продукты питания.\n",
    "Для этого мы изучили воронку продаж и узнали, как пользователи доходят до покупки, сколько пользователей доходят до покупки, а сколько — «застревает» на предыдущих шагах.\n",
    "    \n",
    "<b>Шаг 1.  Открыли файл с данными и изучили общую информацию</b>\n",
    "\n",
    "<b>Шаг 2. Подготовили данные</b>\n",
    "    \n",
    "Заменили названия столбцов;\n",
    "    \n",
    "Проверили пропуски и типы данных;\n",
    "    \n",
    "Добавили столбец даты и времени, а также отдельный столбец дат;    \n",
    "\n",
    "<b>Шаг 3. Изучили и проверили данные</b>    \n",
    "\n",
    "Ответили на следующие вопросы:\n",
    "    \n",
    "Сколько всего событий в логе\n",
    "    \n",
    "Сколько всего пользователей в логе\n",
    "    \n",
    "Сколько в среднем событий приходится на пользователя\n",
    "    \n",
    "Определили за какой период мы располагаем данными. Нашли максимальную и минимальную дату. Построили гистограмму по дате и времени. \n",
    "Определили, с какого момента данные полные и отбросили более старые.\n",
    "    \n",
    "Определили сколько событий и пользователей мы потеряли, отбросив старые данные.\n",
    "Проверили, что у нас есть пользователи из всех трёх экспериментальных групп.    \n",
    "    \n",
    "<b>Шаг 4. Изучили воронку событий</b>    \n",
    "    \n",
    "Посмотрели, какие события есть в логах, как часто они встречаются. Отсортировали события по частоте.\n",
    "    \n",
    "Посчитали, сколько пользователей совершали каждое из этих событий. Отсортировали события по числу пользователей. Посчитали долю пользователей, которые хоть раз совершали событие.\n",
    "    \n",
    "Предположили, в каком порядке происходят события.\n",
    "    \n",
    "По воронке событий посчитали, какая доля пользователей проходит на следующий шаг воронки.\n",
    "    \n",
    "Определили на каком шаге теряется больше всего пользователей.\n",
    "    \n",
    "Определили какая доля пользователей доходит от первого события до оплаты.\n",
    "        \n",
    "<b>Шаг 5. Изучили результаты эксперимента</b>   \n",
    "       \n",
    "Определили сколько пользователей в каждой экспериментальной группе.\n",
    "    \n",
    "Проверили, находят ли статистические критерии разницу между выборками 246 и 247.\n",
    "    \n",
    "Выбрали самое популярное событие. Посчитали число пользователей, совершивших это событие в каждой из контрольных групп. \n",
    "    \n",
    "Посчитали долю пользователей, совершивших это событие. Проверили, будет ли отличие между группами статистически достоверным. \n",
    "    \n",
    "Проверили, будет ли отличие между группами статистически достоверным с группой с изменённым шрифтом.\n",
    "    \n",
    "Сравнили результаты с каждой из контрольных групп в отдельности по каждому событию. Сравнили результаты с объединённой контрольной группой.\n",
    "    \n",
    "Посчитали, сколько проверок статистических гипотез мы сделали.\n",
    "\n",
    "Построили кумулятивные графики числа событий по каждой группе\n",
    "     \n",
    "<b>Шаг 6. Сформулировали общие выводы и рекомендации</b> \n",
    "       \n",
    "Выводы\n",
    "\n",
    "В датасете 413 дубликатов. Удалим их.\n",
    "Таблица заполнена полностью. Все столбцы соответствуют своему типу.\n",
    "Данные представляют собой около 244 тысячи строк.\n",
    "\n",
    "В нашем датасете всего 243713 события. Из них:\n",
    "\n",
    "Переход на экран корзины - 42668 события;\n",
    "\n",
    "Переход на главный экран - 119101 события;\n",
    "\n",
    "Переход на экран предложений - 46808 события;\n",
    "\n",
    "Успешное совершение платежа - 34118 события;\n",
    "\n",
    "Изучение руководства - 1018 событий\n",
    "\n",
    "\n",
    "Разделенные на 3 группы пользователи совершают примерно равное число событий: Группа А - 80181 событий, контрольная группа А - 77950 событий и группа В - 85582 событий.\n",
    "\n",
    "Всего у нас 7551 пользователь с числом событий от 1 до 2307.\n",
    "\n",
    "\n",
    "В среднем на одного пользователя приходится 20 событий, медианное значение составляет 32 события. Скорее всего в данных есть выбросы. Изучим поведения пользователей в дальнейших действиях.\n",
    "\n",
    "Начало данных с 25 июля 2019 года, окончание 07 августа 2019 года, что составляет 2 недели.\n",
    "\n",
    "Данные несут периодический характер, прослеживаются циклическая активность связанная с суточной периодичностью (день/ночь). За последний день данные немного урезаны. Посмотрим на дневном графике распределения событий, на сколько у нас меняются эти данные в сутки\n",
    "\n",
    "У нас представленны данные в основном за 7 дней. За последний день данные немного обрезаны, но это не сильно влияет на суточные показатели активности.\n",
    "\n",
    "В общей сложности мы отбросили около 3-х тысяч событий, который не попали в наш активный исследуемый период, что составляет 1.2%\n",
    "\n",
    "Столбец EventName (название события) включает в себя следующие данные:\n",
    "\n",
    "MainScreenAppear (Переход на главный экран) - 117328 событий;\n",
    "\n",
    "OffersScreenAppear (Переход на экран предложений) - 46333 событий;\n",
    "\n",
    "CartScreenAppear (Переход на экран корзины) - 42303 событий;\n",
    "\n",
    "PaymentScreenSuccessful (Успешное совершение платежа) - 33918 событий;\n",
    "\n",
    "Tutorial (Руководство) - 1005 событий.\n",
    "\n",
    "\n",
    "\n",
    "Столбец device_id_nunique включает в себя следующие данные по числу пользователей, которые совершали каждое из этих событий:\n",
    "\n",
    "MainScreenAppear (Переход на главный экран) - 7419 пользователей;\n",
    "\n",
    "OffersScreenAppear (Переход на экран предложений) - 4593 пользователей;\n",
    "\n",
    "CartScreenAppear (Переход на экран корзины) - 3734 пользователей;\n",
    "\n",
    "PaymentScreenSuccessful (Успешное совершение платежа) - 3539 пользователей;\n",
    "\n",
    "Tutorial (Руководство) - 840 пользователей.\n",
    "\n",
    "Доля пользователей, которая хоть раз совершали событие OffersScreenAppear: 61.9%\n",
    "\n",
    "Доля пользователей, которая хоть раз совершали событие CartScreenAppear: 50.3%\n",
    "\n",
    "Доля пользователей, которая хоть раз совершали событие PaymentScreenSuccessfulr: 47.7%\n",
    "\n",
    "Доля пользователей, которая хоть раз совершали событие Tutorial: 11.3%\n",
    "\n",
    "Последовательность действий для покупки в нашем интернет магазине следующая: Переход на главный экран - Переход на экран предложений - Переход на экран корзины - Успешное совершение платежа.\n",
    "\n",
    "Событие Tutorial (Руководство) является необязательным для совершения покупки, это те пользователи, которые не смогли интуитивно совершить покупку и прибегли к разъяснениям. мы смело можем исключить из анализа воронки событий.\n",
    "\n",
    "По уточненным данным для изучения воронки событий мы имеем: датасет data_AB с числом совершенных событий 239882 и числом исследуемых дней -7.\n",
    "\n",
    "Доля пользователей, которая переходит на OffersScreenApeapr: 61.9%\n",
    "\n",
    "Доля пользователей, которая переходит на CartScreenAppear: 81.3%\n",
    "\n",
    "Доля пользователей, которая переходит на PaymentScreenSuccessfulr: 94.8%\n",
    "\n",
    "Больше всего пользователей теряется на первом шаге, то есть при заходе на главную страницу только 61.9% пользователей переходят к выбору товаров. После выбора товаров 81.3% пользователей переходят в корзину оплаты товаров. И из корзины оплаты товаров 94.8% производят ее оплату.\n",
    "\n",
    "Доля пользователей, которая доходит от первого события до оплаты: 47.7%\n",
    "\n",
    "Данные по группам на первый взгляд сбалансированы: Число пользователей из группы А - 78985 человек; Число пользователей из контрольной группы А - 76684 человек; Число пользователей из группы В - 84213 человек.\n",
    "\n",
    "Проверили распределение по группам \n",
    "Вероятность попасть в группу А составила около 50%. Проверили каждое событие одновыборочным z-тестом:\n",
    "Все нулевые гипотезы не отвергаелись: вероятность попасть в группу А составляет 50%\n",
    "\n",
    "Кумулятивные значения числа посещений MainScreenAppear практически одинаковы до 5-го дня, дальше идет небольшое превышение контрольной группы А\n",
    "\n",
    "Кумулятивные значения числа посещений OffersScreenAppear практически одинаковы на всем интервале наблюдений\n",
    "\n",
    "Кумулятивные значения числа посещений CartScreenAppear практически одинаковы до 3-го дня, дальше идет превышение группы А над контрольной группой А\n",
    "\n",
    "Кумулятивные значения числа посещений PaymentScreenSuccessful практически одинаковы до 3-го дня, дальше идет превышение группы А над контрольной группой А\n",
    "\n",
    "Применим статистический критерий Манна-Уитни к полученным выборкам:\n",
    "\n",
    "АА тест:\n",
    "Для события OffersScreenAppear:\n",
    "P-value значительно больше 0.05. Значит, нулевую гипотезу о том, что статистически значимых различий в конверсии между группами нет, не отвергаем. Группы одинаковы, разницы между ними нет, заход на главную страницу идентичен.\n",
    "Вывод: По «сырым» данным различий в конверсии групп A и контрольной группы А нет.\n",
    "Среднее значение числа пользователей перешедших на OffersScreenAppear практически идентично.\n",
    "\n",
    "Для события CartScreenAppear:\n",
    "P-value значительно больше 0.05. Значит, нулевую гипотезу о том, что статистически значимых различий в конверсии между группами нет, не отвергаем. Группы одинаковы, разницы между ними нет, заход для CartScreenAppear идентичен.\n",
    "Вывод: По «сырым» данным различий в конверсии групп A и контрольной группы А нет.\n",
    "Среднее значение числа пользователей перешедших на CartScreenAppear уменьшилось на 15%.\n",
    "\n",
    "Для события PaymentScreenSuccessful:\n",
    "P-value значительно больше 0.05. Значит, нулевую гипотезу о том, что статистически значимых различий в конверсии между группами нет, не отвергаем. Группы одинаковы, разницы между ними нет, заход для PaymentScreenSuccessful идентичен.\n",
    "Вывод: По «сырым» данным различий в конверсии групп A и контрольной группы А нет.\n",
    "Среднее значение числа пользователей перешедших на PaymentScreenSuccessful уменьшилось на 15%.\n",
    "\n",
    "АВ тест:\n",
    "\n",
    "Кумулятивные значения числа посещений MainScreenAppear группы В немного превышают на всем исследуемом интервале\n",
    "\n",
    "Кумулятивные значения числа посещений OffersScreenAppear группы В плавно увеличиваются на всем интервале\n",
    "\n",
    "Кумулятивные значения числа посещений CartScreenAppear группы В в первый день меньше, затем превышает значения группы А и в последний день значения практически равны\n",
    "\n",
    "Кумулятивные значения числа посещений PaymentScreenSuccessful группы В в первый день меньше, затем превышает значения группы А и в последний день значения практически равны\n",
    "\n",
    "Для события OffersScreenAppear:\n",
    "P-value значительно больше 0.0167. Значит, нулевую гипотезу о том, что статистически значимых различий в конверсии между группами нет, не отвергаем. Группы одинаковы, разницы между ними нет, заход для OffersScreenAppear идентичен.\n",
    "Вывод: По «сырым» данным различий в конверсии групп A и группы В нет.\n",
    "Среднее значение числа пользователей перешедших на OffersScreenAppear увеличилось на 3%.\n",
    "\n",
    "Для события CartScreenAppear:\n",
    "P-value значительно меньше 0.0167. Значит, нулевую гипотезу о том, что статистически значимых различий в конверсии между группами нет, отвергаем. Группы различны, разницы между ними есть, заход на CartScreenAppear не идентичен.\n",
    "Вывод: По «сырым» данным есть различия в конверсии групп A и группы В.\n",
    "Среднее значение числа пользователей перешедших на CartScreenAppear увеличилось на 3%.\n",
    "Вывод: По «очищенным» данным есть различия в конверсии групп A и группы В.\n",
    "\n",
    "Для события PaymentScreenSuccessful:\n",
    "P-value значительно меньше 0.0167. Значит, нулевую гипотезу о том, что статистически значимых различий в конверсии между группами нет, отвергаем. Группы различны, разницы между ними есть, заход на PaymentScreenSuccessful не идентичен.\n",
    "Вывод: По «сырым» данным есть различия в конверсии групп A и группы В.\n",
    "Среднее значение числа пользователей перешедших на PaymentScreenSuccessful увеличилось на 2%\n",
    "Вывод: По «очищенным» данным различий в конверсии групп A и группы В нет. \n",
    "    \n",
    "    \n",
    "<b>Изменение шрифта в мобильном приложении:<b>\n",
    "Изменение шрифта в мобильном приложении влияет на переход пользователей на экран корзины и среднее увеличение числа пользователей составляет около 3%. Поскольку 94.8% пользователей далее совершают покупку, то можно сказать, что изменение шрифта в мобильном приложении увеличивает долю продаж около 3%. Результат теста можно признать успешным и внедрять новые шрифты в мобильном приложении.\n",
    "    \n",
    "</div>        "
   ]
  }
 ],
 "metadata": {
  "ExecuteTimeLog": [
   {
    "duration": 412,
    "start_time": "2021-08-01T16:04:08.064Z"
   }
  ],
  "kernelspec": {
   "display_name": "Python 3",
   "language": "python",
   "name": "python3"
  },
  "language_info": {
   "codemirror_mode": {
    "name": "ipython",
    "version": 3
   },
   "file_extension": ".py",
   "mimetype": "text/x-python",
   "name": "python",
   "nbconvert_exporter": "python",
   "pygments_lexer": "ipython3",
   "version": "3.8.5"
  },
  "toc": {
   "base_numbering": 1,
   "nav_menu": {},
   "number_sections": true,
   "sideBar": true,
   "skip_h1_title": true,
   "title_cell": "Table of Contents",
   "title_sidebar": "Contents",
   "toc_cell": false,
   "toc_position": {},
   "toc_section_display": true,
   "toc_window_display": false
  }
 },
 "nbformat": 4,
 "nbformat_minor": 2
}
