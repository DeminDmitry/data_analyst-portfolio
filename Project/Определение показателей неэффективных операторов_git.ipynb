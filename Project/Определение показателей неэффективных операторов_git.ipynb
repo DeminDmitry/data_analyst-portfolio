{
 "cells": [
  {
   "cell_type": "markdown",
   "metadata": {},
   "source": [
    "# Определение показателей неэффективных операторов"
   ]
  },
  {
   "cell_type": "markdown",
   "metadata": {},
   "source": [
    "**Ссылка на дашборд**"
   ]
  },
  {
   "cell_type": "markdown",
   "metadata": {},
   "source": [
    "https://public.tableau.com/app/profile/dmitry7098/viz/_16274187113510/Dashboard?publish=yes"
   ]
  },
  {
   "cell_type": "markdown",
   "metadata": {},
   "source": [
    "**Ссылка на презентацию**"
   ]
  },
  {
   "cell_type": "markdown",
   "metadata": {},
   "source": [
    "https://yadi.sk/i/T1VxoqOypRMWdA"
   ]
  },
  {
   "cell_type": "markdown",
   "metadata": {},
   "source": [
    "<div class=\"alert alert-block alert-warning\">\n",
    "    \n",
    "<h2> Проведем исследовательский анализ данных</h2>\n",
    "</div>"
   ]
  },
  {
   "cell_type": "markdown",
   "metadata": {},
   "source": [
    "<div style=\"border:solid green 2px; padding: 20px\">\n",
    "\n",
    "**Загрузим данные и изучим общую информацию**\n",
    "- Выгрузим датасет;\n",
    "- Определим дубликаты;\n",
    "- Заполним пропуски;\n",
    "- Исправим типы данных;\n",
    "- Исправим ошибки в данных; \n",
    "- Найдем аномальные значения; \n",
    "- Добавим необходимые столбцы для анализа\n",
    "\n",
    "**Посмотрим на распределение звонков во времени**\n",
    "\n",
    "- Определим интервал времени анализа данных; \n",
    "- Построим графики и сделаем выводы\n",
    "    \n",
    "**Определим, какому количеству клиентов будет интересна наша услуга**\n",
    "\n",
    "**Разделим датасет на 4 таблицы и изучим данные**\n",
    "\n",
    "- Определим колл-центры, которые имеют ежедневную загрузку по звонкам; \n",
    "- Изучим данные для входящих звонков в колл-центр от клиентов и изучим принятые звонки и пропущенные. построим графики, определим доли;\n",
    "- Изучим данные для входящих звонков в колл-центр от клиентов и изучим исходящие звонки и пропущенные. построим графики, определим доли;\n",
    "- Изучим данные для входящих звонков в колл-центр от операторов и изучим принятые звонки и пропущенные. построим графики, определим доли;\n",
    "- Изучим данные для входящих звонков в колл-центр от операторов и изучим исходящие звонки и пропущенные. построим графики, определим доли\n",
    "\n",
    "**Сформулируем общий вывод**\n",
    "    \n",
    "</div>                                                    "
   ]
  },
  {
   "cell_type": "markdown",
   "metadata": {},
   "source": [
    "## Загрузим данные и изучим общую информацию"
   ]
  },
  {
   "cell_type": "code",
   "execution_count": 1,
   "metadata": {},
   "outputs": [
    {
     "name": "stdout",
     "output_type": "stream",
     "text": [
      "Requirement already satisfied: numpy in /opt/conda/lib/python3.9/site-packages (1.21.1)\n",
      "Collecting numpy\n",
      "  Downloading numpy-1.25.1-cp39-cp39-manylinux_2_17_x86_64.manylinux2014_x86_64.whl (17.7 MB)\n",
      "\u001b[K     |████████████████████████████████| 17.7 MB 1.2 MB/s eta 0:00:01\n",
      "\u001b[?25hInstalling collected packages: numpy\n",
      "  Attempting uninstall: numpy\n",
      "    Found existing installation: numpy 1.21.1\n",
      "    Uninstalling numpy-1.21.1:\n",
      "      Successfully uninstalled numpy-1.21.1\n",
      "\u001b[31mERROR: pip's dependency resolver does not currently take into account all the packages that are installed. This behaviour is the source of the following dependency conflicts.\n",
      "scipy 1.9.1 requires numpy<1.25.0,>=1.18.5, but you have numpy 1.25.1 which is incompatible.\n",
      "numba 0.56.0 requires numpy<1.23,>=1.18, but you have numpy 1.25.1 which is incompatible.\u001b[0m\n",
      "Successfully installed numpy-1.25.1\n"
     ]
    }
   ],
   "source": [
    "!pip install --upgrade numpy"
   ]
  },
  {
   "cell_type": "code",
   "execution_count": null,
   "metadata": {},
   "outputs": [
    {
     "name": "stdout",
     "output_type": "stream",
     "text": [
      "Requirement already satisfied: pandas in /opt/conda/lib/python3.9/site-packages (1.2.4)\n",
      "Collecting pandas\n",
      "  Downloading pandas-2.0.3-cp39-cp39-manylinux_2_17_x86_64.manylinux2014_x86_64.whl (12.4 MB)\n",
      "\u001b[K     |████████████████████████████████| 12.4 MB 1.1 MB/s eta 0:00:01\n",
      "\u001b[?25hRequirement already satisfied: numpy>=1.20.3 in /opt/conda/lib/python3.9/site-packages (from pandas) (1.25.1)\n",
      "Requirement already satisfied: pytz>=2020.1 in /opt/conda/lib/python3.9/site-packages (from pandas) (2021.1)\n",
      "Collecting python-dateutil>=2.8.2\n",
      "  Downloading python_dateutil-2.8.2-py2.py3-none-any.whl (247 kB)\n",
      "\u001b[K     |████████████████████████████████| 247 kB 63.5 MB/s eta 0:00:01\n",
      "\u001b[?25hCollecting tzdata>=2022.1\n",
      "  Downloading tzdata-2023.3-py2.py3-none-any.whl (341 kB)\n",
      "\u001b[K     |████████████████████████████████| 341 kB 68.0 MB/s eta 0:00:01\n",
      "\u001b[?25hRequirement already satisfied: six>=1.5 in /opt/conda/lib/python3.9/site-packages (from python-dateutil>=2.8.2->pandas) (1.16.0)\n",
      "Installing collected packages: tzdata, python-dateutil, pandas\n",
      "  Attempting uninstall: python-dateutil\n",
      "    Found existing installation: python-dateutil 2.8.1\n",
      "    Uninstalling python-dateutil-2.8.1:\n",
      "      Successfully uninstalled python-dateutil-2.8.1\n",
      "  Attempting uninstall: pandas\n",
      "    Found existing installation: pandas 1.2.4\n",
      "    Uninstalling pandas-1.2.4:\n"
     ]
    }
   ],
   "source": [
    "!pip install --upgrade pandas"
   ]
  },
  {
   "cell_type": "code",
   "execution_count": null,
   "metadata": {},
   "outputs": [],
   "source": [
    "import pandas as pd\n",
    "\n",
    "import numpy as np\n",
    "from matplotlib import pyplot as plt\n",
    "\n",
    "import math\n",
    "from scipy import stats\n",
    "\n",
    "from datetime import datetime, timedelta\n",
    "\n",
    "import warnings\n",
    "\n",
    "warnings.filterwarnings('ignore')"
   ]
  },
  {
   "cell_type": "code",
   "execution_count": null,
   "metadata": {
    "scrolled": true
   },
   "outputs": [],
   "source": [
    "#data = pd.read_csv(\"E:/YP/VP/ID/telecom/telecom_dataset.csv\")\n",
    "data = pd.read_csv(\"/datasets/telecom_dataset.csv\")\n",
    "data.info()"
   ]
  },
  {
   "cell_type": "code",
   "execution_count": 5,
   "metadata": {},
   "outputs": [
    {
     "data": {
      "text/html": [
       "<div>\n",
       "<style scoped>\n",
       "    .dataframe tbody tr th:only-of-type {\n",
       "        vertical-align: middle;\n",
       "    }\n",
       "\n",
       "    .dataframe tbody tr th {\n",
       "        vertical-align: top;\n",
       "    }\n",
       "\n",
       "    .dataframe thead th {\n",
       "        text-align: right;\n",
       "    }\n",
       "</style>\n",
       "<table border=\"1\" class=\"dataframe\">\n",
       "  <thead>\n",
       "    <tr style=\"text-align: right;\">\n",
       "      <th></th>\n",
       "      <th>user_id</th>\n",
       "      <th>date</th>\n",
       "      <th>direction</th>\n",
       "      <th>internal</th>\n",
       "      <th>operator_id</th>\n",
       "      <th>is_missed_call</th>\n",
       "      <th>calls_count</th>\n",
       "      <th>call_duration</th>\n",
       "      <th>total_call_duration</th>\n",
       "    </tr>\n",
       "  </thead>\n",
       "  <tbody>\n",
       "    <tr>\n",
       "      <th>5933</th>\n",
       "      <td>166536</td>\n",
       "      <td>2019-10-29 00:00:00+03:00</td>\n",
       "      <td>out</td>\n",
       "      <td>False</td>\n",
       "      <td>925826.0</td>\n",
       "      <td>False</td>\n",
       "      <td>8</td>\n",
       "      <td>483</td>\n",
       "      <td>562</td>\n",
       "    </tr>\n",
       "    <tr>\n",
       "      <th>5630</th>\n",
       "      <td>166520</td>\n",
       "      <td>2019-11-27 00:00:00+03:00</td>\n",
       "      <td>out</td>\n",
       "      <td>False</td>\n",
       "      <td>893674.0</td>\n",
       "      <td>False</td>\n",
       "      <td>36</td>\n",
       "      <td>1238</td>\n",
       "      <td>1797</td>\n",
       "    </tr>\n",
       "    <tr>\n",
       "      <th>44221</th>\n",
       "      <td>168025</td>\n",
       "      <td>2019-10-16 00:00:00+03:00</td>\n",
       "      <td>in</td>\n",
       "      <td>False</td>\n",
       "      <td>938022.0</td>\n",
       "      <td>False</td>\n",
       "      <td>4</td>\n",
       "      <td>218</td>\n",
       "      <td>267</td>\n",
       "    </tr>\n",
       "    <tr>\n",
       "      <th>37477</th>\n",
       "      <td>167626</td>\n",
       "      <td>2019-10-14 00:00:00+03:00</td>\n",
       "      <td>out</td>\n",
       "      <td>False</td>\n",
       "      <td>919302.0</td>\n",
       "      <td>True</td>\n",
       "      <td>57</td>\n",
       "      <td>0</td>\n",
       "      <td>2013</td>\n",
       "    </tr>\n",
       "    <tr>\n",
       "      <th>50639</th>\n",
       "      <td>168252</td>\n",
       "      <td>2019-11-19 00:00:00+03:00</td>\n",
       "      <td>out</td>\n",
       "      <td>False</td>\n",
       "      <td>940588.0</td>\n",
       "      <td>True</td>\n",
       "      <td>2</td>\n",
       "      <td>0</td>\n",
       "      <td>70</td>\n",
       "    </tr>\n",
       "  </tbody>\n",
       "</table>\n",
       "</div>"
      ],
      "text/plain": [
       "       user_id                       date direction internal  operator_id  \\\n",
       "5933    166536  2019-10-29 00:00:00+03:00       out    False     925826.0   \n",
       "5630    166520  2019-11-27 00:00:00+03:00       out    False     893674.0   \n",
       "44221   168025  2019-10-16 00:00:00+03:00        in    False     938022.0   \n",
       "37477   167626  2019-10-14 00:00:00+03:00       out    False     919302.0   \n",
       "50639   168252  2019-11-19 00:00:00+03:00       out    False     940588.0   \n",
       "\n",
       "       is_missed_call  calls_count  call_duration  total_call_duration  \n",
       "5933            False            8            483                  562  \n",
       "5630            False           36           1238                 1797  \n",
       "44221           False            4            218                  267  \n",
       "37477            True           57              0                 2013  \n",
       "50639            True            2              0                   70  "
      ]
     },
     "execution_count": 5,
     "metadata": {},
     "output_type": "execute_result"
    }
   ],
   "source": [
    "data.sample(5)"
   ]
  },
  {
   "cell_type": "markdown",
   "metadata": {},
   "source": [
    "В столбце internal есть 117 пропущенных значений, посмотрим на них"
   ]
  },
  {
   "cell_type": "code",
   "execution_count": 6,
   "metadata": {},
   "outputs": [
    {
     "data": {
      "text/html": [
       "<div>\n",
       "<style scoped>\n",
       "    .dataframe tbody tr th:only-of-type {\n",
       "        vertical-align: middle;\n",
       "    }\n",
       "\n",
       "    .dataframe tbody tr th {\n",
       "        vertical-align: top;\n",
       "    }\n",
       "\n",
       "    .dataframe thead th {\n",
       "        text-align: right;\n",
       "    }\n",
       "</style>\n",
       "<table border=\"1\" class=\"dataframe\">\n",
       "  <thead>\n",
       "    <tr style=\"text-align: right;\">\n",
       "      <th></th>\n",
       "      <th>user_id</th>\n",
       "      <th>date</th>\n",
       "      <th>direction</th>\n",
       "      <th>internal</th>\n",
       "      <th>operator_id</th>\n",
       "      <th>is_missed_call</th>\n",
       "      <th>calls_count</th>\n",
       "      <th>call_duration</th>\n",
       "      <th>total_call_duration</th>\n",
       "    </tr>\n",
       "  </thead>\n",
       "  <tbody>\n",
       "    <tr>\n",
       "      <th>29989</th>\n",
       "      <td>167272</td>\n",
       "      <td>2019-10-09 00:00:00+03:00</td>\n",
       "      <td>in</td>\n",
       "      <td>NaN</td>\n",
       "      <td>912684.0</td>\n",
       "      <td>False</td>\n",
       "      <td>1</td>\n",
       "      <td>123</td>\n",
       "      <td>175</td>\n",
       "    </tr>\n",
       "    <tr>\n",
       "      <th>41385</th>\n",
       "      <td>167852</td>\n",
       "      <td>2019-10-25 00:00:00+03:00</td>\n",
       "      <td>in</td>\n",
       "      <td>NaN</td>\n",
       "      <td>932798.0</td>\n",
       "      <td>False</td>\n",
       "      <td>1</td>\n",
       "      <td>28</td>\n",
       "      <td>39</td>\n",
       "    </tr>\n",
       "    <tr>\n",
       "      <th>39518</th>\n",
       "      <td>167747</td>\n",
       "      <td>2019-10-07 00:00:00+03:00</td>\n",
       "      <td>in</td>\n",
       "      <td>NaN</td>\n",
       "      <td>NaN</td>\n",
       "      <td>True</td>\n",
       "      <td>1</td>\n",
       "      <td>0</td>\n",
       "      <td>9</td>\n",
       "    </tr>\n",
       "    <tr>\n",
       "      <th>40602</th>\n",
       "      <td>167827</td>\n",
       "      <td>2019-10-21 00:00:00+03:00</td>\n",
       "      <td>in</td>\n",
       "      <td>NaN</td>\n",
       "      <td>929424.0</td>\n",
       "      <td>False</td>\n",
       "      <td>1</td>\n",
       "      <td>13</td>\n",
       "      <td>14</td>\n",
       "    </tr>\n",
       "    <tr>\n",
       "      <th>15093</th>\n",
       "      <td>166884</td>\n",
       "      <td>2019-09-17 00:00:00+03:00</td>\n",
       "      <td>in</td>\n",
       "      <td>NaN</td>\n",
       "      <td>NaN</td>\n",
       "      <td>True</td>\n",
       "      <td>21</td>\n",
       "      <td>0</td>\n",
       "      <td>9</td>\n",
       "    </tr>\n",
       "    <tr>\n",
       "      <th>43860</th>\n",
       "      <td>168018</td>\n",
       "      <td>2019-11-28 00:00:00+03:00</td>\n",
       "      <td>in</td>\n",
       "      <td>NaN</td>\n",
       "      <td>NaN</td>\n",
       "      <td>True</td>\n",
       "      <td>1</td>\n",
       "      <td>0</td>\n",
       "      <td>2</td>\n",
       "    </tr>\n",
       "    <tr>\n",
       "      <th>29887</th>\n",
       "      <td>167264</td>\n",
       "      <td>2019-11-15 00:00:00+03:00</td>\n",
       "      <td>in</td>\n",
       "      <td>NaN</td>\n",
       "      <td>919552.0</td>\n",
       "      <td>False</td>\n",
       "      <td>1</td>\n",
       "      <td>125</td>\n",
       "      <td>158</td>\n",
       "    </tr>\n",
       "    <tr>\n",
       "      <th>23183</th>\n",
       "      <td>167078</td>\n",
       "      <td>2019-11-13 00:00:00+03:00</td>\n",
       "      <td>in</td>\n",
       "      <td>NaN</td>\n",
       "      <td>935348.0</td>\n",
       "      <td>False</td>\n",
       "      <td>2</td>\n",
       "      <td>73</td>\n",
       "      <td>84</td>\n",
       "    </tr>\n",
       "    <tr>\n",
       "      <th>37964</th>\n",
       "      <td>167650</td>\n",
       "      <td>2019-10-01 00:00:00+03:00</td>\n",
       "      <td>in</td>\n",
       "      <td>NaN</td>\n",
       "      <td>921318.0</td>\n",
       "      <td>False</td>\n",
       "      <td>1</td>\n",
       "      <td>124</td>\n",
       "      <td>131</td>\n",
       "    </tr>\n",
       "    <tr>\n",
       "      <th>29912</th>\n",
       "      <td>167264</td>\n",
       "      <td>2019-11-21 00:00:00+03:00</td>\n",
       "      <td>in</td>\n",
       "      <td>NaN</td>\n",
       "      <td>919552.0</td>\n",
       "      <td>False</td>\n",
       "      <td>1</td>\n",
       "      <td>55</td>\n",
       "      <td>80</td>\n",
       "    </tr>\n",
       "  </tbody>\n",
       "</table>\n",
       "</div>"
      ],
      "text/plain": [
       "       user_id                       date direction internal  operator_id  \\\n",
       "29989   167272  2019-10-09 00:00:00+03:00        in      NaN     912684.0   \n",
       "41385   167852  2019-10-25 00:00:00+03:00        in      NaN     932798.0   \n",
       "39518   167747  2019-10-07 00:00:00+03:00        in      NaN          NaN   \n",
       "40602   167827  2019-10-21 00:00:00+03:00        in      NaN     929424.0   \n",
       "15093   166884  2019-09-17 00:00:00+03:00        in      NaN          NaN   \n",
       "43860   168018  2019-11-28 00:00:00+03:00        in      NaN          NaN   \n",
       "29887   167264  2019-11-15 00:00:00+03:00        in      NaN     919552.0   \n",
       "23183   167078  2019-11-13 00:00:00+03:00        in      NaN     935348.0   \n",
       "37964   167650  2019-10-01 00:00:00+03:00        in      NaN     921318.0   \n",
       "29912   167264  2019-11-21 00:00:00+03:00        in      NaN     919552.0   \n",
       "\n",
       "       is_missed_call  calls_count  call_duration  total_call_duration  \n",
       "29989           False            1            123                  175  \n",
       "41385           False            1             28                   39  \n",
       "39518            True            1              0                    9  \n",
       "40602           False            1             13                   14  \n",
       "15093            True           21              0                    9  \n",
       "43860            True            1              0                    2  \n",
       "29887           False            1            125                  158  \n",
       "23183           False            2             73                   84  \n",
       "37964           False            1            124                  131  \n",
       "29912           False            1             55                   80  "
      ]
     },
     "execution_count": 6,
     "metadata": {},
     "output_type": "execute_result"
    }
   ],
   "source": [
    "internal = data.query('internal != False and internal != True')\n",
    "internal.sample(10)"
   ]
  },
  {
   "cell_type": "markdown",
   "metadata": {},
   "source": [
    "В основном это входящие вызовы. Сгруппируем данные и посмотрим распределение входящих по признаку - вляется ли звонок внутренним звонком между операторами клиента"
   ]
  },
  {
   "cell_type": "code",
   "execution_count": 7,
   "metadata": {},
   "outputs": [
    {
     "data": {
      "text/html": [
       "<div>\n",
       "<style scoped>\n",
       "    .dataframe tbody tr th:only-of-type {\n",
       "        vertical-align: middle;\n",
       "    }\n",
       "\n",
       "    .dataframe tbody tr th {\n",
       "        vertical-align: top;\n",
       "    }\n",
       "\n",
       "    .dataframe thead th {\n",
       "        text-align: right;\n",
       "    }\n",
       "</style>\n",
       "<table border=\"1\" class=\"dataframe\">\n",
       "  <thead>\n",
       "    <tr style=\"text-align: right;\">\n",
       "      <th></th>\n",
       "      <th></th>\n",
       "      <th>calls_count</th>\n",
       "    </tr>\n",
       "    <tr>\n",
       "      <th>direction</th>\n",
       "      <th>internal</th>\n",
       "      <th></th>\n",
       "    </tr>\n",
       "  </thead>\n",
       "  <tbody>\n",
       "    <tr>\n",
       "      <th rowspan=\"2\" valign=\"top\">in</th>\n",
       "      <th>False</th>\n",
       "      <td>214896</td>\n",
       "    </tr>\n",
       "    <tr>\n",
       "      <th>True</th>\n",
       "      <td>1739</td>\n",
       "    </tr>\n",
       "    <tr>\n",
       "      <th rowspan=\"2\" valign=\"top\">out</th>\n",
       "      <th>False</th>\n",
       "      <td>655737</td>\n",
       "    </tr>\n",
       "    <tr>\n",
       "      <th>True</th>\n",
       "      <td>14149</td>\n",
       "    </tr>\n",
       "  </tbody>\n",
       "</table>\n",
       "</div>"
      ],
      "text/plain": [
       "                    calls_count\n",
       "direction internal             \n",
       "in        False          214896\n",
       "          True             1739\n",
       "out       False          655737\n",
       "          True            14149"
      ]
     },
     "execution_count": 7,
     "metadata": {},
     "output_type": "execute_result"
    }
   ],
   "source": [
    "internal_group = data.groupby(['direction', 'internal']).agg({'calls_count': 'sum'})\n",
    "internal_group"
   ]
  },
  {
   "cell_type": "markdown",
   "metadata": {},
   "source": [
    "Скорее всего наши звонки являются входящими вызовами и не является внутренним звонком между операторами клиента. Присвоим пропущенным значениям False\t"
   ]
  },
  {
   "cell_type": "code",
   "execution_count": 8,
   "metadata": {},
   "outputs": [
    {
     "name": "stdout",
     "output_type": "stream",
     "text": [
      "<class 'pandas.core.frame.DataFrame'>\n",
      "RangeIndex: 53902 entries, 0 to 53901\n",
      "Data columns (total 9 columns):\n",
      " #   Column               Non-Null Count  Dtype  \n",
      "---  ------               --------------  -----  \n",
      " 0   user_id              53902 non-null  int64  \n",
      " 1   date                 53902 non-null  object \n",
      " 2   direction            53902 non-null  object \n",
      " 3   internal             53902 non-null  bool   \n",
      " 4   operator_id          45730 non-null  float64\n",
      " 5   is_missed_call       53902 non-null  bool   \n",
      " 6   calls_count          53902 non-null  int64  \n",
      " 7   call_duration        53902 non-null  int64  \n",
      " 8   total_call_duration  53902 non-null  int64  \n",
      "dtypes: bool(2), float64(1), int64(4), object(2)\n",
      "memory usage: 3.0+ MB\n"
     ]
    }
   ],
   "source": [
    "data['internal'] = data['internal'].fillna(False)\n",
    "data.info()"
   ]
  },
  {
   "cell_type": "code",
   "execution_count": null,
   "metadata": {},
   "outputs": [],
   "source": []
  },
  {
   "cell_type": "markdown",
   "metadata": {},
   "source": [
    "Определим дубликаты"
   ]
  },
  {
   "cell_type": "code",
   "execution_count": 9,
   "metadata": {},
   "outputs": [
    {
     "data": {
      "text/plain": [
       "4900"
      ]
     },
     "execution_count": 9,
     "metadata": {},
     "output_type": "execute_result"
    }
   ],
   "source": [
    "data.duplicated().sum()"
   ]
  },
  {
   "cell_type": "markdown",
   "metadata": {},
   "source": [
    "В датасете 4900 дубликатов, что составляет 9% от всех данных. Удалим дубликаты"
   ]
  },
  {
   "cell_type": "code",
   "execution_count": 10,
   "metadata": {},
   "outputs": [],
   "source": [
    "data = data.drop_duplicates().reset_index(drop=True)"
   ]
  },
  {
   "cell_type": "code",
   "execution_count": 11,
   "metadata": {},
   "outputs": [
    {
     "name": "stdout",
     "output_type": "stream",
     "text": [
      "<class 'pandas.core.frame.DataFrame'>\n",
      "RangeIndex: 49002 entries, 0 to 49001\n",
      "Data columns (total 9 columns):\n",
      " #   Column               Non-Null Count  Dtype  \n",
      "---  ------               --------------  -----  \n",
      " 0   user_id              49002 non-null  int64  \n",
      " 1   date                 49002 non-null  object \n",
      " 2   direction            49002 non-null  object \n",
      " 3   internal             49002 non-null  bool   \n",
      " 4   operator_id          41546 non-null  float64\n",
      " 5   is_missed_call       49002 non-null  bool   \n",
      " 6   calls_count          49002 non-null  int64  \n",
      " 7   call_duration        49002 non-null  int64  \n",
      " 8   total_call_duration  49002 non-null  int64  \n",
      "dtypes: bool(2), float64(1), int64(4), object(2)\n",
      "memory usage: 2.7+ MB\n"
     ]
    }
   ],
   "source": [
    "data.info()"
   ]
  },
  {
   "cell_type": "markdown",
   "metadata": {},
   "source": [
    "Присвоим столбцу date тип дата"
   ]
  },
  {
   "cell_type": "code",
   "execution_count": 12,
   "metadata": {},
   "outputs": [],
   "source": [
    "data['date'] = pd.to_datetime(data['date'])"
   ]
  },
  {
   "cell_type": "markdown",
   "metadata": {},
   "source": [
    "Добавим столбцы с днем - day и неделей - week"
   ]
  },
  {
   "cell_type": "code",
   "execution_count": 13,
   "metadata": {},
   "outputs": [
    {
     "data": {
      "text/html": [
       "<div>\n",
       "<style scoped>\n",
       "    .dataframe tbody tr th:only-of-type {\n",
       "        vertical-align: middle;\n",
       "    }\n",
       "\n",
       "    .dataframe tbody tr th {\n",
       "        vertical-align: top;\n",
       "    }\n",
       "\n",
       "    .dataframe thead th {\n",
       "        text-align: right;\n",
       "    }\n",
       "</style>\n",
       "<table border=\"1\" class=\"dataframe\">\n",
       "  <thead>\n",
       "    <tr style=\"text-align: right;\">\n",
       "      <th></th>\n",
       "      <th>user_id</th>\n",
       "      <th>date</th>\n",
       "      <th>direction</th>\n",
       "      <th>internal</th>\n",
       "      <th>operator_id</th>\n",
       "      <th>is_missed_call</th>\n",
       "      <th>calls_count</th>\n",
       "      <th>call_duration</th>\n",
       "      <th>total_call_duration</th>\n",
       "      <th>day</th>\n",
       "      <th>week</th>\n",
       "    </tr>\n",
       "  </thead>\n",
       "  <tbody>\n",
       "    <tr>\n",
       "      <th>0</th>\n",
       "      <td>166377</td>\n",
       "      <td>2019-08-04 00:00:00+03:00</td>\n",
       "      <td>in</td>\n",
       "      <td>False</td>\n",
       "      <td>NaN</td>\n",
       "      <td>True</td>\n",
       "      <td>2</td>\n",
       "      <td>0</td>\n",
       "      <td>4</td>\n",
       "      <td>4</td>\n",
       "      <td>31</td>\n",
       "    </tr>\n",
       "    <tr>\n",
       "      <th>1</th>\n",
       "      <td>166377</td>\n",
       "      <td>2019-08-05 00:00:00+03:00</td>\n",
       "      <td>out</td>\n",
       "      <td>True</td>\n",
       "      <td>880022.0</td>\n",
       "      <td>True</td>\n",
       "      <td>3</td>\n",
       "      <td>0</td>\n",
       "      <td>5</td>\n",
       "      <td>5</td>\n",
       "      <td>32</td>\n",
       "    </tr>\n",
       "    <tr>\n",
       "      <th>2</th>\n",
       "      <td>166377</td>\n",
       "      <td>2019-08-05 00:00:00+03:00</td>\n",
       "      <td>out</td>\n",
       "      <td>True</td>\n",
       "      <td>880020.0</td>\n",
       "      <td>True</td>\n",
       "      <td>1</td>\n",
       "      <td>0</td>\n",
       "      <td>1</td>\n",
       "      <td>5</td>\n",
       "      <td>32</td>\n",
       "    </tr>\n",
       "    <tr>\n",
       "      <th>3</th>\n",
       "      <td>166377</td>\n",
       "      <td>2019-08-05 00:00:00+03:00</td>\n",
       "      <td>out</td>\n",
       "      <td>True</td>\n",
       "      <td>880020.0</td>\n",
       "      <td>False</td>\n",
       "      <td>1</td>\n",
       "      <td>10</td>\n",
       "      <td>18</td>\n",
       "      <td>5</td>\n",
       "      <td>32</td>\n",
       "    </tr>\n",
       "    <tr>\n",
       "      <th>4</th>\n",
       "      <td>166377</td>\n",
       "      <td>2019-08-05 00:00:00+03:00</td>\n",
       "      <td>out</td>\n",
       "      <td>False</td>\n",
       "      <td>880022.0</td>\n",
       "      <td>True</td>\n",
       "      <td>3</td>\n",
       "      <td>0</td>\n",
       "      <td>25</td>\n",
       "      <td>5</td>\n",
       "      <td>32</td>\n",
       "    </tr>\n",
       "  </tbody>\n",
       "</table>\n",
       "</div>"
      ],
      "text/plain": [
       "   user_id                      date direction  internal  operator_id  \\\n",
       "0   166377 2019-08-04 00:00:00+03:00        in     False          NaN   \n",
       "1   166377 2019-08-05 00:00:00+03:00       out      True     880022.0   \n",
       "2   166377 2019-08-05 00:00:00+03:00       out      True     880020.0   \n",
       "3   166377 2019-08-05 00:00:00+03:00       out      True     880020.0   \n",
       "4   166377 2019-08-05 00:00:00+03:00       out     False     880022.0   \n",
       "\n",
       "   is_missed_call  calls_count  call_duration  total_call_duration  day  week  \n",
       "0            True            2              0                    4    4    31  \n",
       "1            True            3              0                    5    5    32  \n",
       "2            True            1              0                    1    5    32  \n",
       "3           False            1             10                   18    5    32  \n",
       "4            True            3              0                   25    5    32  "
      ]
     },
     "execution_count": 13,
     "metadata": {},
     "output_type": "execute_result"
    }
   ],
   "source": [
    "data['day'] = data['date'].dt.day\n",
    "data['week'] = data['date'].dt.week\n",
    "data.head(5)"
   ]
  },
  {
   "cell_type": "markdown",
   "metadata": {},
   "source": [
    "Поскольку данные представлены за один день, отбросим лишнее"
   ]
  },
  {
   "cell_type": "code",
   "execution_count": 14,
   "metadata": {},
   "outputs": [],
   "source": [
    "data['date'] = data['date'].dt.date"
   ]
  },
  {
   "cell_type": "markdown",
   "metadata": {},
   "source": [
    "Определим ошибки в данных"
   ]
  },
  {
   "cell_type": "markdown",
   "metadata": {},
   "source": [
    "Посмотрим на пропущенные звонки. Длительность звонка в столбце call_duration должна равняться 0"
   ]
  },
  {
   "cell_type": "code",
   "execution_count": 15,
   "metadata": {},
   "outputs": [],
   "source": [
    "is_missed_call_true = data.query('is_missed_call != False')"
   ]
  },
  {
   "cell_type": "code",
   "execution_count": 16,
   "metadata": {},
   "outputs": [
    {
     "data": {
      "text/plain": [
       "23761"
      ]
     },
     "execution_count": 16,
     "metadata": {},
     "output_type": "execute_result"
    }
   ],
   "source": [
    "is_missed_call_true['call_duration'].sum()"
   ]
  },
  {
   "cell_type": "markdown",
   "metadata": {},
   "source": [
    "23761 минут разговора оператора попали в пропущенные значения"
   ]
  },
  {
   "cell_type": "code",
   "execution_count": 17,
   "metadata": {},
   "outputs": [
    {
     "data": {
      "text/html": [
       "<div>\n",
       "<style scoped>\n",
       "    .dataframe tbody tr th:only-of-type {\n",
       "        vertical-align: middle;\n",
       "    }\n",
       "\n",
       "    .dataframe tbody tr th {\n",
       "        vertical-align: top;\n",
       "    }\n",
       "\n",
       "    .dataframe thead th {\n",
       "        text-align: right;\n",
       "    }\n",
       "</style>\n",
       "<table border=\"1\" class=\"dataframe\">\n",
       "  <thead>\n",
       "    <tr style=\"text-align: right;\">\n",
       "      <th></th>\n",
       "      <th>user_id</th>\n",
       "      <th>date</th>\n",
       "      <th>direction</th>\n",
       "      <th>internal</th>\n",
       "      <th>operator_id</th>\n",
       "      <th>is_missed_call</th>\n",
       "      <th>calls_count</th>\n",
       "      <th>call_duration</th>\n",
       "      <th>total_call_duration</th>\n",
       "      <th>day</th>\n",
       "      <th>week</th>\n",
       "    </tr>\n",
       "  </thead>\n",
       "  <tbody>\n",
       "    <tr>\n",
       "      <th>1471</th>\n",
       "      <td>166405</td>\n",
       "      <td>2019-11-19</td>\n",
       "      <td>in</td>\n",
       "      <td>False</td>\n",
       "      <td>939478.0</td>\n",
       "      <td>True</td>\n",
       "      <td>1</td>\n",
       "      <td>165</td>\n",
       "      <td>173</td>\n",
       "      <td>19</td>\n",
       "      <td>47</td>\n",
       "    </tr>\n",
       "    <tr>\n",
       "      <th>1498</th>\n",
       "      <td>166405</td>\n",
       "      <td>2019-11-21</td>\n",
       "      <td>in</td>\n",
       "      <td>False</td>\n",
       "      <td>882686.0</td>\n",
       "      <td>True</td>\n",
       "      <td>1</td>\n",
       "      <td>1</td>\n",
       "      <td>5</td>\n",
       "      <td>21</td>\n",
       "      <td>47</td>\n",
       "    </tr>\n",
       "    <tr>\n",
       "      <th>1518</th>\n",
       "      <td>166405</td>\n",
       "      <td>2019-11-22</td>\n",
       "      <td>in</td>\n",
       "      <td>False</td>\n",
       "      <td>882686.0</td>\n",
       "      <td>True</td>\n",
       "      <td>1</td>\n",
       "      <td>1</td>\n",
       "      <td>5</td>\n",
       "      <td>22</td>\n",
       "      <td>47</td>\n",
       "    </tr>\n",
       "    <tr>\n",
       "      <th>2089</th>\n",
       "      <td>166407</td>\n",
       "      <td>2019-09-23</td>\n",
       "      <td>in</td>\n",
       "      <td>False</td>\n",
       "      <td>888534.0</td>\n",
       "      <td>True</td>\n",
       "      <td>1</td>\n",
       "      <td>133</td>\n",
       "      <td>156</td>\n",
       "      <td>23</td>\n",
       "      <td>39</td>\n",
       "    </tr>\n",
       "    <tr>\n",
       "      <th>2625</th>\n",
       "      <td>166482</td>\n",
       "      <td>2019-11-05</td>\n",
       "      <td>in</td>\n",
       "      <td>False</td>\n",
       "      <td>934074.0</td>\n",
       "      <td>True</td>\n",
       "      <td>1</td>\n",
       "      <td>1</td>\n",
       "      <td>15</td>\n",
       "      <td>5</td>\n",
       "      <td>45</td>\n",
       "    </tr>\n",
       "    <tr>\n",
       "      <th>...</th>\n",
       "      <td>...</td>\n",
       "      <td>...</td>\n",
       "      <td>...</td>\n",
       "      <td>...</td>\n",
       "      <td>...</td>\n",
       "      <td>...</td>\n",
       "      <td>...</td>\n",
       "      <td>...</td>\n",
       "      <td>...</td>\n",
       "      <td>...</td>\n",
       "      <td>...</td>\n",
       "    </tr>\n",
       "    <tr>\n",
       "      <th>46924</th>\n",
       "      <td>168336</td>\n",
       "      <td>2019-11-01</td>\n",
       "      <td>in</td>\n",
       "      <td>False</td>\n",
       "      <td>947304.0</td>\n",
       "      <td>True</td>\n",
       "      <td>1</td>\n",
       "      <td>1</td>\n",
       "      <td>20</td>\n",
       "      <td>1</td>\n",
       "      <td>44</td>\n",
       "    </tr>\n",
       "    <tr>\n",
       "      <th>46981</th>\n",
       "      <td>168336</td>\n",
       "      <td>2019-11-12</td>\n",
       "      <td>in</td>\n",
       "      <td>False</td>\n",
       "      <td>947304.0</td>\n",
       "      <td>True</td>\n",
       "      <td>1</td>\n",
       "      <td>69</td>\n",
       "      <td>72</td>\n",
       "      <td>12</td>\n",
       "      <td>46</td>\n",
       "    </tr>\n",
       "    <tr>\n",
       "      <th>47007</th>\n",
       "      <td>168336</td>\n",
       "      <td>2019-11-15</td>\n",
       "      <td>in</td>\n",
       "      <td>False</td>\n",
       "      <td>947304.0</td>\n",
       "      <td>True</td>\n",
       "      <td>1</td>\n",
       "      <td>46</td>\n",
       "      <td>49</td>\n",
       "      <td>15</td>\n",
       "      <td>46</td>\n",
       "    </tr>\n",
       "    <tr>\n",
       "      <th>47149</th>\n",
       "      <td>168336</td>\n",
       "      <td>2019-11-27</td>\n",
       "      <td>in</td>\n",
       "      <td>False</td>\n",
       "      <td>958416.0</td>\n",
       "      <td>True</td>\n",
       "      <td>1</td>\n",
       "      <td>40</td>\n",
       "      <td>65</td>\n",
       "      <td>27</td>\n",
       "      <td>48</td>\n",
       "    </tr>\n",
       "    <tr>\n",
       "      <th>48383</th>\n",
       "      <td>168412</td>\n",
       "      <td>2019-11-05</td>\n",
       "      <td>in</td>\n",
       "      <td>False</td>\n",
       "      <td>953464.0</td>\n",
       "      <td>True</td>\n",
       "      <td>1</td>\n",
       "      <td>1</td>\n",
       "      <td>7</td>\n",
       "      <td>5</td>\n",
       "      <td>45</td>\n",
       "    </tr>\n",
       "  </tbody>\n",
       "</table>\n",
       "<p>296 rows × 11 columns</p>\n",
       "</div>"
      ],
      "text/plain": [
       "       user_id        date direction  internal  operator_id  is_missed_call  \\\n",
       "1471    166405  2019-11-19        in     False     939478.0            True   \n",
       "1498    166405  2019-11-21        in     False     882686.0            True   \n",
       "1518    166405  2019-11-22        in     False     882686.0            True   \n",
       "2089    166407  2019-09-23        in     False     888534.0            True   \n",
       "2625    166482  2019-11-05        in     False     934074.0            True   \n",
       "...        ...         ...       ...       ...          ...             ...   \n",
       "46924   168336  2019-11-01        in     False     947304.0            True   \n",
       "46981   168336  2019-11-12        in     False     947304.0            True   \n",
       "47007   168336  2019-11-15        in     False     947304.0            True   \n",
       "47149   168336  2019-11-27        in     False     958416.0            True   \n",
       "48383   168412  2019-11-05        in     False     953464.0            True   \n",
       "\n",
       "       calls_count  call_duration  total_call_duration  day  week  \n",
       "1471             1            165                  173   19    47  \n",
       "1498             1              1                    5   21    47  \n",
       "1518             1              1                    5   22    47  \n",
       "2089             1            133                  156   23    39  \n",
       "2625             1              1                   15    5    45  \n",
       "...            ...            ...                  ...  ...   ...  \n",
       "46924            1              1                   20    1    44  \n",
       "46981            1             69                   72   12    46  \n",
       "47007            1             46                   49   15    46  \n",
       "47149            1             40                   65   27    48  \n",
       "48383            1              1                    7    5    45  \n",
       "\n",
       "[296 rows x 11 columns]"
      ]
     },
     "execution_count": 17,
     "metadata": {},
     "output_type": "execute_result"
    }
   ],
   "source": [
    "is_missed_call_true_0 = is_missed_call_true.query('is_missed_call == True and call_duration != 0')\n",
    "is_missed_call_true_0"
   ]
  },
  {
   "cell_type": "markdown",
   "metadata": {},
   "source": [
    "296 строк с ошибочными данными, удалим их"
   ]
  },
  {
   "cell_type": "markdown",
   "metadata": {},
   "source": [
    "Присвоим значение 1 ошибочным строкам, чтобы отделить их"
   ]
  },
  {
   "cell_type": "code",
   "execution_count": 18,
   "metadata": {},
   "outputs": [
    {
     "data": {
      "text/html": [
       "<div>\n",
       "<style scoped>\n",
       "    .dataframe tbody tr th:only-of-type {\n",
       "        vertical-align: middle;\n",
       "    }\n",
       "\n",
       "    .dataframe tbody tr th {\n",
       "        vertical-align: top;\n",
       "    }\n",
       "\n",
       "    .dataframe thead th {\n",
       "        text-align: right;\n",
       "    }\n",
       "</style>\n",
       "<table border=\"1\" class=\"dataframe\">\n",
       "  <thead>\n",
       "    <tr style=\"text-align: right;\">\n",
       "      <th></th>\n",
       "      <th>user_id</th>\n",
       "      <th>date</th>\n",
       "      <th>direction</th>\n",
       "      <th>internal</th>\n",
       "      <th>operator_id</th>\n",
       "      <th>is_missed_call</th>\n",
       "      <th>calls_count</th>\n",
       "      <th>call_duration</th>\n",
       "      <th>total_call_duration</th>\n",
       "      <th>day</th>\n",
       "      <th>week</th>\n",
       "      <th>missed_call</th>\n",
       "    </tr>\n",
       "  </thead>\n",
       "  <tbody>\n",
       "    <tr>\n",
       "      <th>0</th>\n",
       "      <td>166377</td>\n",
       "      <td>2019-08-04</td>\n",
       "      <td>in</td>\n",
       "      <td>False</td>\n",
       "      <td>NaN</td>\n",
       "      <td>True</td>\n",
       "      <td>2</td>\n",
       "      <td>0</td>\n",
       "      <td>4</td>\n",
       "      <td>4</td>\n",
       "      <td>31</td>\n",
       "      <td>2</td>\n",
       "    </tr>\n",
       "    <tr>\n",
       "      <th>1</th>\n",
       "      <td>166377</td>\n",
       "      <td>2019-08-05</td>\n",
       "      <td>out</td>\n",
       "      <td>True</td>\n",
       "      <td>880022.0</td>\n",
       "      <td>True</td>\n",
       "      <td>3</td>\n",
       "      <td>0</td>\n",
       "      <td>5</td>\n",
       "      <td>5</td>\n",
       "      <td>32</td>\n",
       "      <td>2</td>\n",
       "    </tr>\n",
       "    <tr>\n",
       "      <th>2</th>\n",
       "      <td>166377</td>\n",
       "      <td>2019-08-05</td>\n",
       "      <td>out</td>\n",
       "      <td>True</td>\n",
       "      <td>880020.0</td>\n",
       "      <td>True</td>\n",
       "      <td>1</td>\n",
       "      <td>0</td>\n",
       "      <td>1</td>\n",
       "      <td>5</td>\n",
       "      <td>32</td>\n",
       "      <td>2</td>\n",
       "    </tr>\n",
       "    <tr>\n",
       "      <th>3</th>\n",
       "      <td>166377</td>\n",
       "      <td>2019-08-05</td>\n",
       "      <td>out</td>\n",
       "      <td>True</td>\n",
       "      <td>880020.0</td>\n",
       "      <td>False</td>\n",
       "      <td>1</td>\n",
       "      <td>10</td>\n",
       "      <td>18</td>\n",
       "      <td>5</td>\n",
       "      <td>32</td>\n",
       "      <td>2</td>\n",
       "    </tr>\n",
       "    <tr>\n",
       "      <th>4</th>\n",
       "      <td>166377</td>\n",
       "      <td>2019-08-05</td>\n",
       "      <td>out</td>\n",
       "      <td>False</td>\n",
       "      <td>880022.0</td>\n",
       "      <td>True</td>\n",
       "      <td>3</td>\n",
       "      <td>0</td>\n",
       "      <td>25</td>\n",
       "      <td>5</td>\n",
       "      <td>32</td>\n",
       "      <td>2</td>\n",
       "    </tr>\n",
       "    <tr>\n",
       "      <th>...</th>\n",
       "      <td>...</td>\n",
       "      <td>...</td>\n",
       "      <td>...</td>\n",
       "      <td>...</td>\n",
       "      <td>...</td>\n",
       "      <td>...</td>\n",
       "      <td>...</td>\n",
       "      <td>...</td>\n",
       "      <td>...</td>\n",
       "      <td>...</td>\n",
       "      <td>...</td>\n",
       "      <td>...</td>\n",
       "    </tr>\n",
       "    <tr>\n",
       "      <th>48997</th>\n",
       "      <td>168606</td>\n",
       "      <td>2019-11-10</td>\n",
       "      <td>out</td>\n",
       "      <td>True</td>\n",
       "      <td>957922.0</td>\n",
       "      <td>False</td>\n",
       "      <td>1</td>\n",
       "      <td>0</td>\n",
       "      <td>25</td>\n",
       "      <td>10</td>\n",
       "      <td>45</td>\n",
       "      <td>2</td>\n",
       "    </tr>\n",
       "    <tr>\n",
       "      <th>48998</th>\n",
       "      <td>168606</td>\n",
       "      <td>2019-11-10</td>\n",
       "      <td>out</td>\n",
       "      <td>True</td>\n",
       "      <td>957922.0</td>\n",
       "      <td>True</td>\n",
       "      <td>1</td>\n",
       "      <td>0</td>\n",
       "      <td>38</td>\n",
       "      <td>10</td>\n",
       "      <td>45</td>\n",
       "      <td>2</td>\n",
       "    </tr>\n",
       "    <tr>\n",
       "      <th>48999</th>\n",
       "      <td>168606</td>\n",
       "      <td>2019-11-11</td>\n",
       "      <td>out</td>\n",
       "      <td>True</td>\n",
       "      <td>957922.0</td>\n",
       "      <td>False</td>\n",
       "      <td>2</td>\n",
       "      <td>479</td>\n",
       "      <td>501</td>\n",
       "      <td>11</td>\n",
       "      <td>46</td>\n",
       "      <td>2</td>\n",
       "    </tr>\n",
       "    <tr>\n",
       "      <th>49000</th>\n",
       "      <td>168606</td>\n",
       "      <td>2019-11-15</td>\n",
       "      <td>out</td>\n",
       "      <td>True</td>\n",
       "      <td>957922.0</td>\n",
       "      <td>False</td>\n",
       "      <td>4</td>\n",
       "      <td>3130</td>\n",
       "      <td>3190</td>\n",
       "      <td>15</td>\n",
       "      <td>46</td>\n",
       "      <td>2</td>\n",
       "    </tr>\n",
       "    <tr>\n",
       "      <th>49001</th>\n",
       "      <td>168606</td>\n",
       "      <td>2019-11-19</td>\n",
       "      <td>in</td>\n",
       "      <td>False</td>\n",
       "      <td>NaN</td>\n",
       "      <td>True</td>\n",
       "      <td>2</td>\n",
       "      <td>0</td>\n",
       "      <td>64</td>\n",
       "      <td>19</td>\n",
       "      <td>47</td>\n",
       "      <td>2</td>\n",
       "    </tr>\n",
       "  </tbody>\n",
       "</table>\n",
       "<p>49002 rows × 12 columns</p>\n",
       "</div>"
      ],
      "text/plain": [
       "       user_id        date direction  internal  operator_id  is_missed_call  \\\n",
       "0       166377  2019-08-04        in     False          NaN            True   \n",
       "1       166377  2019-08-05       out      True     880022.0            True   \n",
       "2       166377  2019-08-05       out      True     880020.0            True   \n",
       "3       166377  2019-08-05       out      True     880020.0           False   \n",
       "4       166377  2019-08-05       out     False     880022.0            True   \n",
       "...        ...         ...       ...       ...          ...             ...   \n",
       "48997   168606  2019-11-10       out      True     957922.0           False   \n",
       "48998   168606  2019-11-10       out      True     957922.0            True   \n",
       "48999   168606  2019-11-11       out      True     957922.0           False   \n",
       "49000   168606  2019-11-15       out      True     957922.0           False   \n",
       "49001   168606  2019-11-19        in     False          NaN            True   \n",
       "\n",
       "       calls_count  call_duration  total_call_duration  day  week  missed_call  \n",
       "0                2              0                    4    4    31            2  \n",
       "1                3              0                    5    5    32            2  \n",
       "2                1              0                    1    5    32            2  \n",
       "3                1             10                   18    5    32            2  \n",
       "4                3              0                   25    5    32            2  \n",
       "...            ...            ...                  ...  ...   ...          ...  \n",
       "48997            1              0                   25   10    45            2  \n",
       "48998            1              0                   38   10    45            2  \n",
       "48999            2            479                  501   11    46            2  \n",
       "49000            4           3130                 3190   15    46            2  \n",
       "49001            2              0                   64   19    47            2  \n",
       "\n",
       "[49002 rows x 12 columns]"
      ]
     },
     "execution_count": 18,
     "metadata": {},
     "output_type": "execute_result"
    }
   ],
   "source": [
    "def m_call(data):\n",
    "    is_missed_call = data['is_missed_call']\n",
    "    call_duration = data['call_duration']\n",
    "    \n",
    "    if is_missed_call == True and call_duration != 0:\n",
    "            return 1\n",
    "             \n",
    "    return 2\n",
    "\n",
    "\n",
    "row_mes = ['is_missed_call', 'call_duration']\n",
    "row = pd.Series(index=row_mes)\n",
    "data['missed_call'] = data.apply(m_call, axis=1)\n",
    "data"
   ]
  },
  {
   "cell_type": "code",
   "execution_count": 19,
   "metadata": {},
   "outputs": [
    {
     "data": {
      "text/html": [
       "<div>\n",
       "<style scoped>\n",
       "    .dataframe tbody tr th:only-of-type {\n",
       "        vertical-align: middle;\n",
       "    }\n",
       "\n",
       "    .dataframe tbody tr th {\n",
       "        vertical-align: top;\n",
       "    }\n",
       "\n",
       "    .dataframe thead th {\n",
       "        text-align: right;\n",
       "    }\n",
       "</style>\n",
       "<table border=\"1\" class=\"dataframe\">\n",
       "  <thead>\n",
       "    <tr style=\"text-align: right;\">\n",
       "      <th></th>\n",
       "      <th>user_id</th>\n",
       "      <th>date</th>\n",
       "      <th>direction</th>\n",
       "      <th>internal</th>\n",
       "      <th>operator_id</th>\n",
       "      <th>is_missed_call</th>\n",
       "      <th>calls_count</th>\n",
       "      <th>call_duration</th>\n",
       "      <th>total_call_duration</th>\n",
       "      <th>day</th>\n",
       "      <th>week</th>\n",
       "      <th>missed_call</th>\n",
       "    </tr>\n",
       "  </thead>\n",
       "  <tbody>\n",
       "    <tr>\n",
       "      <th>0</th>\n",
       "      <td>166377</td>\n",
       "      <td>2019-08-04</td>\n",
       "      <td>in</td>\n",
       "      <td>False</td>\n",
       "      <td>NaN</td>\n",
       "      <td>True</td>\n",
       "      <td>2</td>\n",
       "      <td>0</td>\n",
       "      <td>4</td>\n",
       "      <td>4</td>\n",
       "      <td>31</td>\n",
       "      <td>2</td>\n",
       "    </tr>\n",
       "    <tr>\n",
       "      <th>1</th>\n",
       "      <td>166377</td>\n",
       "      <td>2019-08-05</td>\n",
       "      <td>out</td>\n",
       "      <td>True</td>\n",
       "      <td>880022.0</td>\n",
       "      <td>True</td>\n",
       "      <td>3</td>\n",
       "      <td>0</td>\n",
       "      <td>5</td>\n",
       "      <td>5</td>\n",
       "      <td>32</td>\n",
       "      <td>2</td>\n",
       "    </tr>\n",
       "    <tr>\n",
       "      <th>2</th>\n",
       "      <td>166377</td>\n",
       "      <td>2019-08-05</td>\n",
       "      <td>out</td>\n",
       "      <td>True</td>\n",
       "      <td>880020.0</td>\n",
       "      <td>True</td>\n",
       "      <td>1</td>\n",
       "      <td>0</td>\n",
       "      <td>1</td>\n",
       "      <td>5</td>\n",
       "      <td>32</td>\n",
       "      <td>2</td>\n",
       "    </tr>\n",
       "    <tr>\n",
       "      <th>3</th>\n",
       "      <td>166377</td>\n",
       "      <td>2019-08-05</td>\n",
       "      <td>out</td>\n",
       "      <td>True</td>\n",
       "      <td>880020.0</td>\n",
       "      <td>False</td>\n",
       "      <td>1</td>\n",
       "      <td>10</td>\n",
       "      <td>18</td>\n",
       "      <td>5</td>\n",
       "      <td>32</td>\n",
       "      <td>2</td>\n",
       "    </tr>\n",
       "    <tr>\n",
       "      <th>4</th>\n",
       "      <td>166377</td>\n",
       "      <td>2019-08-05</td>\n",
       "      <td>out</td>\n",
       "      <td>False</td>\n",
       "      <td>880022.0</td>\n",
       "      <td>True</td>\n",
       "      <td>3</td>\n",
       "      <td>0</td>\n",
       "      <td>25</td>\n",
       "      <td>5</td>\n",
       "      <td>32</td>\n",
       "      <td>2</td>\n",
       "    </tr>\n",
       "    <tr>\n",
       "      <th>...</th>\n",
       "      <td>...</td>\n",
       "      <td>...</td>\n",
       "      <td>...</td>\n",
       "      <td>...</td>\n",
       "      <td>...</td>\n",
       "      <td>...</td>\n",
       "      <td>...</td>\n",
       "      <td>...</td>\n",
       "      <td>...</td>\n",
       "      <td>...</td>\n",
       "      <td>...</td>\n",
       "      <td>...</td>\n",
       "    </tr>\n",
       "    <tr>\n",
       "      <th>48997</th>\n",
       "      <td>168606</td>\n",
       "      <td>2019-11-10</td>\n",
       "      <td>out</td>\n",
       "      <td>True</td>\n",
       "      <td>957922.0</td>\n",
       "      <td>False</td>\n",
       "      <td>1</td>\n",
       "      <td>0</td>\n",
       "      <td>25</td>\n",
       "      <td>10</td>\n",
       "      <td>45</td>\n",
       "      <td>2</td>\n",
       "    </tr>\n",
       "    <tr>\n",
       "      <th>48998</th>\n",
       "      <td>168606</td>\n",
       "      <td>2019-11-10</td>\n",
       "      <td>out</td>\n",
       "      <td>True</td>\n",
       "      <td>957922.0</td>\n",
       "      <td>True</td>\n",
       "      <td>1</td>\n",
       "      <td>0</td>\n",
       "      <td>38</td>\n",
       "      <td>10</td>\n",
       "      <td>45</td>\n",
       "      <td>2</td>\n",
       "    </tr>\n",
       "    <tr>\n",
       "      <th>48999</th>\n",
       "      <td>168606</td>\n",
       "      <td>2019-11-11</td>\n",
       "      <td>out</td>\n",
       "      <td>True</td>\n",
       "      <td>957922.0</td>\n",
       "      <td>False</td>\n",
       "      <td>2</td>\n",
       "      <td>479</td>\n",
       "      <td>501</td>\n",
       "      <td>11</td>\n",
       "      <td>46</td>\n",
       "      <td>2</td>\n",
       "    </tr>\n",
       "    <tr>\n",
       "      <th>49000</th>\n",
       "      <td>168606</td>\n",
       "      <td>2019-11-15</td>\n",
       "      <td>out</td>\n",
       "      <td>True</td>\n",
       "      <td>957922.0</td>\n",
       "      <td>False</td>\n",
       "      <td>4</td>\n",
       "      <td>3130</td>\n",
       "      <td>3190</td>\n",
       "      <td>15</td>\n",
       "      <td>46</td>\n",
       "      <td>2</td>\n",
       "    </tr>\n",
       "    <tr>\n",
       "      <th>49001</th>\n",
       "      <td>168606</td>\n",
       "      <td>2019-11-19</td>\n",
       "      <td>in</td>\n",
       "      <td>False</td>\n",
       "      <td>NaN</td>\n",
       "      <td>True</td>\n",
       "      <td>2</td>\n",
       "      <td>0</td>\n",
       "      <td>64</td>\n",
       "      <td>19</td>\n",
       "      <td>47</td>\n",
       "      <td>2</td>\n",
       "    </tr>\n",
       "  </tbody>\n",
       "</table>\n",
       "<p>48706 rows × 12 columns</p>\n",
       "</div>"
      ],
      "text/plain": [
       "       user_id        date direction  internal  operator_id  is_missed_call  \\\n",
       "0       166377  2019-08-04        in     False          NaN            True   \n",
       "1       166377  2019-08-05       out      True     880022.0            True   \n",
       "2       166377  2019-08-05       out      True     880020.0            True   \n",
       "3       166377  2019-08-05       out      True     880020.0           False   \n",
       "4       166377  2019-08-05       out     False     880022.0            True   \n",
       "...        ...         ...       ...       ...          ...             ...   \n",
       "48997   168606  2019-11-10       out      True     957922.0           False   \n",
       "48998   168606  2019-11-10       out      True     957922.0            True   \n",
       "48999   168606  2019-11-11       out      True     957922.0           False   \n",
       "49000   168606  2019-11-15       out      True     957922.0           False   \n",
       "49001   168606  2019-11-19        in     False          NaN            True   \n",
       "\n",
       "       calls_count  call_duration  total_call_duration  day  week  missed_call  \n",
       "0                2              0                    4    4    31            2  \n",
       "1                3              0                    5    5    32            2  \n",
       "2                1              0                    1    5    32            2  \n",
       "3                1             10                   18    5    32            2  \n",
       "4                3              0                   25    5    32            2  \n",
       "...            ...            ...                  ...  ...   ...          ...  \n",
       "48997            1              0                   25   10    45            2  \n",
       "48998            1              0                   38   10    45            2  \n",
       "48999            2            479                  501   11    46            2  \n",
       "49000            4           3130                 3190   15    46            2  \n",
       "49001            2              0                   64   19    47            2  \n",
       "\n",
       "[48706 rows x 12 columns]"
      ]
     },
     "execution_count": 19,
     "metadata": {},
     "output_type": "execute_result"
    }
   ],
   "source": [
    "data = data.query('missed_call != 1')\n",
    "data"
   ]
  },
  {
   "cell_type": "markdown",
   "metadata": {},
   "source": [
    "Посмотрим на принятые звонки. Длительность звонка в столбце call_duration не должна равняться 0"
   ]
  },
  {
   "cell_type": "code",
   "execution_count": 20,
   "metadata": {},
   "outputs": [],
   "source": [
    "is_missed_call_False = data.query('is_missed_call == False')"
   ]
  },
  {
   "cell_type": "code",
   "execution_count": 21,
   "metadata": {},
   "outputs": [
    {
     "data": {
      "text/plain": [
       "0"
      ]
     },
     "execution_count": 21,
     "metadata": {},
     "output_type": "execute_result"
    }
   ],
   "source": [
    "is_missed_call_False['call_duration'].min()"
   ]
  },
  {
   "cell_type": "code",
   "execution_count": 22,
   "metadata": {},
   "outputs": [
    {
     "data": {
      "text/html": [
       "<div>\n",
       "<style scoped>\n",
       "    .dataframe tbody tr th:only-of-type {\n",
       "        vertical-align: middle;\n",
       "    }\n",
       "\n",
       "    .dataframe tbody tr th {\n",
       "        vertical-align: top;\n",
       "    }\n",
       "\n",
       "    .dataframe thead th {\n",
       "        text-align: right;\n",
       "    }\n",
       "</style>\n",
       "<table border=\"1\" class=\"dataframe\">\n",
       "  <thead>\n",
       "    <tr style=\"text-align: right;\">\n",
       "      <th></th>\n",
       "      <th>user_id</th>\n",
       "      <th>date</th>\n",
       "      <th>direction</th>\n",
       "      <th>internal</th>\n",
       "      <th>operator_id</th>\n",
       "      <th>is_missed_call</th>\n",
       "      <th>calls_count</th>\n",
       "      <th>call_duration</th>\n",
       "      <th>total_call_duration</th>\n",
       "      <th>day</th>\n",
       "      <th>week</th>\n",
       "      <th>missed_call</th>\n",
       "    </tr>\n",
       "  </thead>\n",
       "  <tbody>\n",
       "    <tr>\n",
       "      <th>1422</th>\n",
       "      <td>166405</td>\n",
       "      <td>2019-11-16</td>\n",
       "      <td>out</td>\n",
       "      <td>False</td>\n",
       "      <td>902532.0</td>\n",
       "      <td>False</td>\n",
       "      <td>1</td>\n",
       "      <td>0</td>\n",
       "      <td>27</td>\n",
       "      <td>16</td>\n",
       "      <td>46</td>\n",
       "      <td>2</td>\n",
       "    </tr>\n",
       "    <tr>\n",
       "      <th>2684</th>\n",
       "      <td>166485</td>\n",
       "      <td>2019-09-03</td>\n",
       "      <td>out</td>\n",
       "      <td>True</td>\n",
       "      <td>887276.0</td>\n",
       "      <td>False</td>\n",
       "      <td>1</td>\n",
       "      <td>0</td>\n",
       "      <td>4</td>\n",
       "      <td>3</td>\n",
       "      <td>36</td>\n",
       "      <td>2</td>\n",
       "    </tr>\n",
       "    <tr>\n",
       "      <th>8637</th>\n",
       "      <td>166658</td>\n",
       "      <td>2019-11-06</td>\n",
       "      <td>out</td>\n",
       "      <td>True</td>\n",
       "      <td>890410.0</td>\n",
       "      <td>False</td>\n",
       "      <td>1</td>\n",
       "      <td>0</td>\n",
       "      <td>0</td>\n",
       "      <td>6</td>\n",
       "      <td>45</td>\n",
       "      <td>2</td>\n",
       "    </tr>\n",
       "    <tr>\n",
       "      <th>9292</th>\n",
       "      <td>166678</td>\n",
       "      <td>2019-09-04</td>\n",
       "      <td>out</td>\n",
       "      <td>True</td>\n",
       "      <td>888868.0</td>\n",
       "      <td>False</td>\n",
       "      <td>1</td>\n",
       "      <td>0</td>\n",
       "      <td>5</td>\n",
       "      <td>4</td>\n",
       "      <td>36</td>\n",
       "      <td>2</td>\n",
       "    </tr>\n",
       "    <tr>\n",
       "      <th>13497</th>\n",
       "      <td>166874</td>\n",
       "      <td>2019-10-05</td>\n",
       "      <td>out</td>\n",
       "      <td>False</td>\n",
       "      <td>893700.0</td>\n",
       "      <td>False</td>\n",
       "      <td>2</td>\n",
       "      <td>0</td>\n",
       "      <td>83</td>\n",
       "      <td>5</td>\n",
       "      <td>40</td>\n",
       "      <td>2</td>\n",
       "    </tr>\n",
       "    <tr>\n",
       "      <th>19598</th>\n",
       "      <td>167035</td>\n",
       "      <td>2019-10-25</td>\n",
       "      <td>out</td>\n",
       "      <td>False</td>\n",
       "      <td>923528.0</td>\n",
       "      <td>False</td>\n",
       "      <td>1</td>\n",
       "      <td>0</td>\n",
       "      <td>9</td>\n",
       "      <td>25</td>\n",
       "      <td>43</td>\n",
       "      <td>2</td>\n",
       "    </tr>\n",
       "    <tr>\n",
       "      <th>20512</th>\n",
       "      <td>167061</td>\n",
       "      <td>2019-09-01</td>\n",
       "      <td>out</td>\n",
       "      <td>True</td>\n",
       "      <td>901038.0</td>\n",
       "      <td>False</td>\n",
       "      <td>1</td>\n",
       "      <td>0</td>\n",
       "      <td>7</td>\n",
       "      <td>1</td>\n",
       "      <td>35</td>\n",
       "      <td>2</td>\n",
       "    </tr>\n",
       "    <tr>\n",
       "      <th>20596</th>\n",
       "      <td>167071</td>\n",
       "      <td>2019-09-24</td>\n",
       "      <td>out</td>\n",
       "      <td>False</td>\n",
       "      <td>913942.0</td>\n",
       "      <td>False</td>\n",
       "      <td>1</td>\n",
       "      <td>0</td>\n",
       "      <td>23</td>\n",
       "      <td>24</td>\n",
       "      <td>39</td>\n",
       "      <td>2</td>\n",
       "    </tr>\n",
       "    <tr>\n",
       "      <th>21002</th>\n",
       "      <td>167078</td>\n",
       "      <td>2019-10-23</td>\n",
       "      <td>out</td>\n",
       "      <td>True</td>\n",
       "      <td>935348.0</td>\n",
       "      <td>False</td>\n",
       "      <td>1</td>\n",
       "      <td>0</td>\n",
       "      <td>0</td>\n",
       "      <td>23</td>\n",
       "      <td>43</td>\n",
       "      <td>2</td>\n",
       "    </tr>\n",
       "    <tr>\n",
       "      <th>25324</th>\n",
       "      <td>167176</td>\n",
       "      <td>2019-10-18</td>\n",
       "      <td>out</td>\n",
       "      <td>True</td>\n",
       "      <td>907964.0</td>\n",
       "      <td>False</td>\n",
       "      <td>1</td>\n",
       "      <td>0</td>\n",
       "      <td>3</td>\n",
       "      <td>18</td>\n",
       "      <td>42</td>\n",
       "      <td>2</td>\n",
       "    </tr>\n",
       "    <tr>\n",
       "      <th>25426</th>\n",
       "      <td>167176</td>\n",
       "      <td>2019-10-30</td>\n",
       "      <td>out</td>\n",
       "      <td>True</td>\n",
       "      <td>907952.0</td>\n",
       "      <td>False</td>\n",
       "      <td>1</td>\n",
       "      <td>0</td>\n",
       "      <td>2</td>\n",
       "      <td>30</td>\n",
       "      <td>44</td>\n",
       "      <td>2</td>\n",
       "    </tr>\n",
       "    <tr>\n",
       "      <th>26365</th>\n",
       "      <td>167189</td>\n",
       "      <td>2019-10-06</td>\n",
       "      <td>out</td>\n",
       "      <td>False</td>\n",
       "      <td>906070.0</td>\n",
       "      <td>False</td>\n",
       "      <td>1</td>\n",
       "      <td>0</td>\n",
       "      <td>1</td>\n",
       "      <td>6</td>\n",
       "      <td>40</td>\n",
       "      <td>2</td>\n",
       "    </tr>\n",
       "    <tr>\n",
       "      <th>32105</th>\n",
       "      <td>167532</td>\n",
       "      <td>2019-09-24</td>\n",
       "      <td>out</td>\n",
       "      <td>True</td>\n",
       "      <td>917850.0</td>\n",
       "      <td>False</td>\n",
       "      <td>1</td>\n",
       "      <td>0</td>\n",
       "      <td>18</td>\n",
       "      <td>24</td>\n",
       "      <td>39</td>\n",
       "      <td>2</td>\n",
       "    </tr>\n",
       "    <tr>\n",
       "      <th>32798</th>\n",
       "      <td>167580</td>\n",
       "      <td>2019-10-17</td>\n",
       "      <td>out</td>\n",
       "      <td>False</td>\n",
       "      <td>937368.0</td>\n",
       "      <td>False</td>\n",
       "      <td>1</td>\n",
       "      <td>0</td>\n",
       "      <td>12</td>\n",
       "      <td>17</td>\n",
       "      <td>42</td>\n",
       "      <td>2</td>\n",
       "    </tr>\n",
       "    <tr>\n",
       "      <th>37566</th>\n",
       "      <td>167829</td>\n",
       "      <td>2019-11-25</td>\n",
       "      <td>out</td>\n",
       "      <td>True</td>\n",
       "      <td>969272.0</td>\n",
       "      <td>False</td>\n",
       "      <td>1</td>\n",
       "      <td>0</td>\n",
       "      <td>4</td>\n",
       "      <td>25</td>\n",
       "      <td>48</td>\n",
       "      <td>2</td>\n",
       "    </tr>\n",
       "    <tr>\n",
       "      <th>47121</th>\n",
       "      <td>168336</td>\n",
       "      <td>2019-11-26</td>\n",
       "      <td>out</td>\n",
       "      <td>True</td>\n",
       "      <td>948756.0</td>\n",
       "      <td>False</td>\n",
       "      <td>1</td>\n",
       "      <td>0</td>\n",
       "      <td>5</td>\n",
       "      <td>26</td>\n",
       "      <td>48</td>\n",
       "      <td>2</td>\n",
       "    </tr>\n",
       "    <tr>\n",
       "      <th>48997</th>\n",
       "      <td>168606</td>\n",
       "      <td>2019-11-10</td>\n",
       "      <td>out</td>\n",
       "      <td>True</td>\n",
       "      <td>957922.0</td>\n",
       "      <td>False</td>\n",
       "      <td>1</td>\n",
       "      <td>0</td>\n",
       "      <td>25</td>\n",
       "      <td>10</td>\n",
       "      <td>45</td>\n",
       "      <td>2</td>\n",
       "    </tr>\n",
       "  </tbody>\n",
       "</table>\n",
       "</div>"
      ],
      "text/plain": [
       "       user_id        date direction  internal  operator_id  is_missed_call  \\\n",
       "1422    166405  2019-11-16       out     False     902532.0           False   \n",
       "2684    166485  2019-09-03       out      True     887276.0           False   \n",
       "8637    166658  2019-11-06       out      True     890410.0           False   \n",
       "9292    166678  2019-09-04       out      True     888868.0           False   \n",
       "13497   166874  2019-10-05       out     False     893700.0           False   \n",
       "19598   167035  2019-10-25       out     False     923528.0           False   \n",
       "20512   167061  2019-09-01       out      True     901038.0           False   \n",
       "20596   167071  2019-09-24       out     False     913942.0           False   \n",
       "21002   167078  2019-10-23       out      True     935348.0           False   \n",
       "25324   167176  2019-10-18       out      True     907964.0           False   \n",
       "25426   167176  2019-10-30       out      True     907952.0           False   \n",
       "26365   167189  2019-10-06       out     False     906070.0           False   \n",
       "32105   167532  2019-09-24       out      True     917850.0           False   \n",
       "32798   167580  2019-10-17       out     False     937368.0           False   \n",
       "37566   167829  2019-11-25       out      True     969272.0           False   \n",
       "47121   168336  2019-11-26       out      True     948756.0           False   \n",
       "48997   168606  2019-11-10       out      True     957922.0           False   \n",
       "\n",
       "       calls_count  call_duration  total_call_duration  day  week  missed_call  \n",
       "1422             1              0                   27   16    46            2  \n",
       "2684             1              0                    4    3    36            2  \n",
       "8637             1              0                    0    6    45            2  \n",
       "9292             1              0                    5    4    36            2  \n",
       "13497            2              0                   83    5    40            2  \n",
       "19598            1              0                    9   25    43            2  \n",
       "20512            1              0                    7    1    35            2  \n",
       "20596            1              0                   23   24    39            2  \n",
       "21002            1              0                    0   23    43            2  \n",
       "25324            1              0                    3   18    42            2  \n",
       "25426            1              0                    2   30    44            2  \n",
       "26365            1              0                    1    6    40            2  \n",
       "32105            1              0                   18   24    39            2  \n",
       "32798            1              0                   12   17    42            2  \n",
       "37566            1              0                    4   25    48            2  \n",
       "47121            1              0                    5   26    48            2  \n",
       "48997            1              0                   25   10    45            2  "
      ]
     },
     "execution_count": 22,
     "metadata": {},
     "output_type": "execute_result"
    }
   ],
   "source": [
    "is_missed_call_False_0 = is_missed_call_False.query('is_missed_call != True and call_duration == 0')\n",
    "is_missed_call_False_0"
   ]
  },
  {
   "cell_type": "markdown",
   "metadata": {},
   "source": [
    "Удалим 18 ошибочных столбцов"
   ]
  },
  {
   "cell_type": "code",
   "execution_count": 23,
   "metadata": {},
   "outputs": [],
   "source": [
    "def call_true (data):\n",
    "    is_missed_call = data['is_missed_call']\n",
    "    call_duration = data['call_duration']\n",
    "    \n",
    "    if is_missed_call == False and call_duration == 0:\n",
    "            return 1\n",
    "             \n",
    "    return 2\n",
    "\n",
    "\n",
    "row_mes = ['is_missed_call', 'call_duration']\n",
    "row = pd.Series(index=row_mes)\n",
    "data['call_true'] = data.apply(call_true, axis=1)"
   ]
  },
  {
   "cell_type": "code",
   "execution_count": 24,
   "metadata": {},
   "outputs": [
    {
     "data": {
      "text/html": [
       "<div>\n",
       "<style scoped>\n",
       "    .dataframe tbody tr th:only-of-type {\n",
       "        vertical-align: middle;\n",
       "    }\n",
       "\n",
       "    .dataframe tbody tr th {\n",
       "        vertical-align: top;\n",
       "    }\n",
       "\n",
       "    .dataframe thead th {\n",
       "        text-align: right;\n",
       "    }\n",
       "</style>\n",
       "<table border=\"1\" class=\"dataframe\">\n",
       "  <thead>\n",
       "    <tr style=\"text-align: right;\">\n",
       "      <th></th>\n",
       "      <th>user_id</th>\n",
       "      <th>date</th>\n",
       "      <th>direction</th>\n",
       "      <th>internal</th>\n",
       "      <th>operator_id</th>\n",
       "      <th>is_missed_call</th>\n",
       "      <th>calls_count</th>\n",
       "      <th>call_duration</th>\n",
       "      <th>total_call_duration</th>\n",
       "      <th>day</th>\n",
       "      <th>week</th>\n",
       "      <th>missed_call</th>\n",
       "      <th>call_true</th>\n",
       "    </tr>\n",
       "  </thead>\n",
       "  <tbody>\n",
       "    <tr>\n",
       "      <th>0</th>\n",
       "      <td>166377</td>\n",
       "      <td>2019-08-04</td>\n",
       "      <td>in</td>\n",
       "      <td>False</td>\n",
       "      <td>NaN</td>\n",
       "      <td>True</td>\n",
       "      <td>2</td>\n",
       "      <td>0</td>\n",
       "      <td>4</td>\n",
       "      <td>4</td>\n",
       "      <td>31</td>\n",
       "      <td>2</td>\n",
       "      <td>2</td>\n",
       "    </tr>\n",
       "    <tr>\n",
       "      <th>1</th>\n",
       "      <td>166377</td>\n",
       "      <td>2019-08-05</td>\n",
       "      <td>out</td>\n",
       "      <td>True</td>\n",
       "      <td>880022.0</td>\n",
       "      <td>True</td>\n",
       "      <td>3</td>\n",
       "      <td>0</td>\n",
       "      <td>5</td>\n",
       "      <td>5</td>\n",
       "      <td>32</td>\n",
       "      <td>2</td>\n",
       "      <td>2</td>\n",
       "    </tr>\n",
       "    <tr>\n",
       "      <th>2</th>\n",
       "      <td>166377</td>\n",
       "      <td>2019-08-05</td>\n",
       "      <td>out</td>\n",
       "      <td>True</td>\n",
       "      <td>880020.0</td>\n",
       "      <td>True</td>\n",
       "      <td>1</td>\n",
       "      <td>0</td>\n",
       "      <td>1</td>\n",
       "      <td>5</td>\n",
       "      <td>32</td>\n",
       "      <td>2</td>\n",
       "      <td>2</td>\n",
       "    </tr>\n",
       "    <tr>\n",
       "      <th>3</th>\n",
       "      <td>166377</td>\n",
       "      <td>2019-08-05</td>\n",
       "      <td>out</td>\n",
       "      <td>True</td>\n",
       "      <td>880020.0</td>\n",
       "      <td>False</td>\n",
       "      <td>1</td>\n",
       "      <td>10</td>\n",
       "      <td>18</td>\n",
       "      <td>5</td>\n",
       "      <td>32</td>\n",
       "      <td>2</td>\n",
       "      <td>2</td>\n",
       "    </tr>\n",
       "    <tr>\n",
       "      <th>4</th>\n",
       "      <td>166377</td>\n",
       "      <td>2019-08-05</td>\n",
       "      <td>out</td>\n",
       "      <td>False</td>\n",
       "      <td>880022.0</td>\n",
       "      <td>True</td>\n",
       "      <td>3</td>\n",
       "      <td>0</td>\n",
       "      <td>25</td>\n",
       "      <td>5</td>\n",
       "      <td>32</td>\n",
       "      <td>2</td>\n",
       "      <td>2</td>\n",
       "    </tr>\n",
       "    <tr>\n",
       "      <th>...</th>\n",
       "      <td>...</td>\n",
       "      <td>...</td>\n",
       "      <td>...</td>\n",
       "      <td>...</td>\n",
       "      <td>...</td>\n",
       "      <td>...</td>\n",
       "      <td>...</td>\n",
       "      <td>...</td>\n",
       "      <td>...</td>\n",
       "      <td>...</td>\n",
       "      <td>...</td>\n",
       "      <td>...</td>\n",
       "      <td>...</td>\n",
       "    </tr>\n",
       "    <tr>\n",
       "      <th>48996</th>\n",
       "      <td>168606</td>\n",
       "      <td>2019-11-09</td>\n",
       "      <td>out</td>\n",
       "      <td>False</td>\n",
       "      <td>957922.0</td>\n",
       "      <td>False</td>\n",
       "      <td>4</td>\n",
       "      <td>551</td>\n",
       "      <td>593</td>\n",
       "      <td>9</td>\n",
       "      <td>45</td>\n",
       "      <td>2</td>\n",
       "      <td>2</td>\n",
       "    </tr>\n",
       "    <tr>\n",
       "      <th>48998</th>\n",
       "      <td>168606</td>\n",
       "      <td>2019-11-10</td>\n",
       "      <td>out</td>\n",
       "      <td>True</td>\n",
       "      <td>957922.0</td>\n",
       "      <td>True</td>\n",
       "      <td>1</td>\n",
       "      <td>0</td>\n",
       "      <td>38</td>\n",
       "      <td>10</td>\n",
       "      <td>45</td>\n",
       "      <td>2</td>\n",
       "      <td>2</td>\n",
       "    </tr>\n",
       "    <tr>\n",
       "      <th>48999</th>\n",
       "      <td>168606</td>\n",
       "      <td>2019-11-11</td>\n",
       "      <td>out</td>\n",
       "      <td>True</td>\n",
       "      <td>957922.0</td>\n",
       "      <td>False</td>\n",
       "      <td>2</td>\n",
       "      <td>479</td>\n",
       "      <td>501</td>\n",
       "      <td>11</td>\n",
       "      <td>46</td>\n",
       "      <td>2</td>\n",
       "      <td>2</td>\n",
       "    </tr>\n",
       "    <tr>\n",
       "      <th>49000</th>\n",
       "      <td>168606</td>\n",
       "      <td>2019-11-15</td>\n",
       "      <td>out</td>\n",
       "      <td>True</td>\n",
       "      <td>957922.0</td>\n",
       "      <td>False</td>\n",
       "      <td>4</td>\n",
       "      <td>3130</td>\n",
       "      <td>3190</td>\n",
       "      <td>15</td>\n",
       "      <td>46</td>\n",
       "      <td>2</td>\n",
       "      <td>2</td>\n",
       "    </tr>\n",
       "    <tr>\n",
       "      <th>49001</th>\n",
       "      <td>168606</td>\n",
       "      <td>2019-11-19</td>\n",
       "      <td>in</td>\n",
       "      <td>False</td>\n",
       "      <td>NaN</td>\n",
       "      <td>True</td>\n",
       "      <td>2</td>\n",
       "      <td>0</td>\n",
       "      <td>64</td>\n",
       "      <td>19</td>\n",
       "      <td>47</td>\n",
       "      <td>2</td>\n",
       "      <td>2</td>\n",
       "    </tr>\n",
       "  </tbody>\n",
       "</table>\n",
       "<p>48689 rows × 13 columns</p>\n",
       "</div>"
      ],
      "text/plain": [
       "       user_id        date direction  internal  operator_id  is_missed_call  \\\n",
       "0       166377  2019-08-04        in     False          NaN            True   \n",
       "1       166377  2019-08-05       out      True     880022.0            True   \n",
       "2       166377  2019-08-05       out      True     880020.0            True   \n",
       "3       166377  2019-08-05       out      True     880020.0           False   \n",
       "4       166377  2019-08-05       out     False     880022.0            True   \n",
       "...        ...         ...       ...       ...          ...             ...   \n",
       "48996   168606  2019-11-09       out     False     957922.0           False   \n",
       "48998   168606  2019-11-10       out      True     957922.0            True   \n",
       "48999   168606  2019-11-11       out      True     957922.0           False   \n",
       "49000   168606  2019-11-15       out      True     957922.0           False   \n",
       "49001   168606  2019-11-19        in     False          NaN            True   \n",
       "\n",
       "       calls_count  call_duration  total_call_duration  day  week  \\\n",
       "0                2              0                    4    4    31   \n",
       "1                3              0                    5    5    32   \n",
       "2                1              0                    1    5    32   \n",
       "3                1             10                   18    5    32   \n",
       "4                3              0                   25    5    32   \n",
       "...            ...            ...                  ...  ...   ...   \n",
       "48996            4            551                  593    9    45   \n",
       "48998            1              0                   38   10    45   \n",
       "48999            2            479                  501   11    46   \n",
       "49000            4           3130                 3190   15    46   \n",
       "49001            2              0                   64   19    47   \n",
       "\n",
       "       missed_call  call_true  \n",
       "0                2          2  \n",
       "1                2          2  \n",
       "2                2          2  \n",
       "3                2          2  \n",
       "4                2          2  \n",
       "...            ...        ...  \n",
       "48996            2          2  \n",
       "48998            2          2  \n",
       "48999            2          2  \n",
       "49000            2          2  \n",
       "49001            2          2  \n",
       "\n",
       "[48689 rows x 13 columns]"
      ]
     },
     "execution_count": 24,
     "metadata": {},
     "output_type": "execute_result"
    }
   ],
   "source": [
    "data = data.query('call_true != 1')\n",
    "data"
   ]
  },
  {
   "cell_type": "markdown",
   "metadata": {},
   "source": [
    "## Посмотрим на распределение звонков во времени"
   ]
  },
  {
   "cell_type": "markdown",
   "metadata": {},
   "source": [
    "***Определим интервал времени анализа данных***"
   ]
  },
  {
   "cell_type": "markdown",
   "metadata": {},
   "source": [
    "Посмотрим на начало и окончание данных по времени"
   ]
  },
  {
   "cell_type": "code",
   "execution_count": 25,
   "metadata": {},
   "outputs": [
    {
     "data": {
      "text/plain": [
       "datetime.date(2019, 8, 2)"
      ]
     },
     "execution_count": 25,
     "metadata": {},
     "output_type": "execute_result"
    }
   ],
   "source": [
    "data['date'].min()"
   ]
  },
  {
   "cell_type": "code",
   "execution_count": 26,
   "metadata": {},
   "outputs": [
    {
     "data": {
      "text/plain": [
       "datetime.date(2019, 11, 28)"
      ]
     },
     "execution_count": 26,
     "metadata": {},
     "output_type": "execute_result"
    }
   ],
   "source": [
    "data['date'].max()"
   ]
  },
  {
   "cell_type": "code",
   "execution_count": 27,
   "metadata": {},
   "outputs": [
    {
     "data": {
      "text/plain": [
       "count                   48689\n",
       "unique                    119\n",
       "top       2019-11-25 00:00:00\n",
       "freq                     1099\n",
       "first     2019-08-02 00:00:00\n",
       "last      2019-11-28 00:00:00\n",
       "Name: date, dtype: object"
      ]
     },
     "execution_count": 27,
     "metadata": {},
     "output_type": "execute_result"
    }
   ],
   "source": [
    "pd.to_datetime(data['date']).describe()"
   ]
  },
  {
   "cell_type": "markdown",
   "metadata": {},
   "source": [
    "Поскольку обработка звонков в колл-центре является основной функцией, то посмотрим на распределение звонков во времени"
   ]
  },
  {
   "cell_type": "code",
   "execution_count": 28,
   "metadata": {},
   "outputs": [
    {
     "data": {
      "text/html": [
       "<div>\n",
       "<style scoped>\n",
       "    .dataframe tbody tr th:only-of-type {\n",
       "        vertical-align: middle;\n",
       "    }\n",
       "\n",
       "    .dataframe tbody tr th {\n",
       "        vertical-align: top;\n",
       "    }\n",
       "\n",
       "    .dataframe thead th {\n",
       "        text-align: right;\n",
       "    }\n",
       "</style>\n",
       "<table border=\"1\" class=\"dataframe\">\n",
       "  <thead>\n",
       "    <tr style=\"text-align: right;\">\n",
       "      <th></th>\n",
       "      <th>date</th>\n",
       "      <th>direction</th>\n",
       "      <th>calls_count</th>\n",
       "    </tr>\n",
       "  </thead>\n",
       "  <tbody>\n",
       "    <tr>\n",
       "      <th>0</th>\n",
       "      <td>2019-08-02</td>\n",
       "      <td>in</td>\n",
       "      <td>2</td>\n",
       "    </tr>\n",
       "    <tr>\n",
       "      <th>1</th>\n",
       "      <td>2019-08-02</td>\n",
       "      <td>out</td>\n",
       "      <td>19</td>\n",
       "    </tr>\n",
       "    <tr>\n",
       "      <th>2</th>\n",
       "      <td>2019-08-03</td>\n",
       "      <td>in</td>\n",
       "      <td>3</td>\n",
       "    </tr>\n",
       "    <tr>\n",
       "      <th>3</th>\n",
       "      <td>2019-08-03</td>\n",
       "      <td>out</td>\n",
       "      <td>26</td>\n",
       "    </tr>\n",
       "    <tr>\n",
       "      <th>4</th>\n",
       "      <td>2019-08-04</td>\n",
       "      <td>in</td>\n",
       "      <td>2</td>\n",
       "    </tr>\n",
       "    <tr>\n",
       "      <th>...</th>\n",
       "      <td>...</td>\n",
       "      <td>...</td>\n",
       "      <td>...</td>\n",
       "    </tr>\n",
       "    <tr>\n",
       "      <th>232</th>\n",
       "      <td>2019-11-26</td>\n",
       "      <td>out</td>\n",
       "      <td>10529</td>\n",
       "    </tr>\n",
       "    <tr>\n",
       "      <th>233</th>\n",
       "      <td>2019-11-27</td>\n",
       "      <td>in</td>\n",
       "      <td>4368</td>\n",
       "    </tr>\n",
       "    <tr>\n",
       "      <th>234</th>\n",
       "      <td>2019-11-27</td>\n",
       "      <td>out</td>\n",
       "      <td>10403</td>\n",
       "    </tr>\n",
       "    <tr>\n",
       "      <th>235</th>\n",
       "      <td>2019-11-28</td>\n",
       "      <td>in</td>\n",
       "      <td>4469</td>\n",
       "    </tr>\n",
       "    <tr>\n",
       "      <th>236</th>\n",
       "      <td>2019-11-28</td>\n",
       "      <td>out</td>\n",
       "      <td>10055</td>\n",
       "    </tr>\n",
       "  </tbody>\n",
       "</table>\n",
       "<p>237 rows × 3 columns</p>\n",
       "</div>"
      ],
      "text/plain": [
       "           date direction  calls_count\n",
       "0    2019-08-02        in            2\n",
       "1    2019-08-02       out           19\n",
       "2    2019-08-03        in            3\n",
       "3    2019-08-03       out           26\n",
       "4    2019-08-04        in            2\n",
       "..          ...       ...          ...\n",
       "232  2019-11-26       out        10529\n",
       "233  2019-11-27        in         4368\n",
       "234  2019-11-27       out        10403\n",
       "235  2019-11-28        in         4469\n",
       "236  2019-11-28       out        10055\n",
       "\n",
       "[237 rows x 3 columns]"
      ]
     },
     "execution_count": 28,
     "metadata": {},
     "output_type": "execute_result"
    }
   ],
   "source": [
    "uid_call_day = data.groupby(['date', 'direction']).agg({'calls_count': 'sum'}).reset_index() \n",
    "uid_call_day"
   ]
  },
  {
   "cell_type": "code",
   "execution_count": 29,
   "metadata": {},
   "outputs": [],
   "source": [
    "call_in = uid_call_day.query('direction == \"in\"')\n",
    "call_out = uid_call_day.query('direction == \"out\"')"
   ]
  },
  {
   "cell_type": "code",
   "execution_count": 30,
   "metadata": {},
   "outputs": [
    {
     "data": {
      "image/png": "[encoded data removed]",
      "text/plain": [
       "<Figure size 1152x576 with 1 Axes>"
      ]
     },
     "metadata": {
      "needs_background": "light"
     },
     "output_type": "display_data"
    },
    {
     "data": {
      "image/png": "[encoded data removed]",
      "text/plain": [
       "<Figure size 1152x576 with 1 Axes>"
      ]
     },
     "metadata": {
      "needs_background": "light"
     },
     "output_type": "display_data"
    }
   ],
   "source": [
    "call_in.plot(y='calls_count', x='date', grid=True, figsize=(16, 8))\n",
    "call_out.plot(y='calls_count', x='date', grid=True, figsize=(16, 8))\n",
    "plt.title('Число звонков в день')\n",
    "plt.xlabel('Дата звонков')\n",
    "plt.ylabel('Число звонков');"
   ]
  },
  {
   "cell_type": "markdown",
   "metadata": {},
   "source": [
    "Во входящих звонках и в исходящих, количество звонков с нуля от 02.08 до 40-й недели плавно увеличивается, с 40-й недели мы выходи на равномерные показатели. Начнем исследовать данные с 40-й недели "
   ]
  },
  {
   "cell_type": "code",
   "execution_count": 31,
   "metadata": {},
   "outputs": [
    {
     "data": {
      "text/html": [
       "<div>\n",
       "<style scoped>\n",
       "    .dataframe tbody tr th:only-of-type {\n",
       "        vertical-align: middle;\n",
       "    }\n",
       "\n",
       "    .dataframe tbody tr th {\n",
       "        vertical-align: top;\n",
       "    }\n",
       "\n",
       "    .dataframe thead th {\n",
       "        text-align: right;\n",
       "    }\n",
       "</style>\n",
       "<table border=\"1\" class=\"dataframe\">\n",
       "  <thead>\n",
       "    <tr style=\"text-align: right;\">\n",
       "      <th></th>\n",
       "      <th>user_id</th>\n",
       "      <th>date</th>\n",
       "      <th>direction</th>\n",
       "      <th>internal</th>\n",
       "      <th>operator_id</th>\n",
       "      <th>is_missed_call</th>\n",
       "      <th>calls_count</th>\n",
       "      <th>call_duration</th>\n",
       "      <th>total_call_duration</th>\n",
       "      <th>day</th>\n",
       "      <th>week</th>\n",
       "      <th>missed_call</th>\n",
       "      <th>call_true</th>\n",
       "    </tr>\n",
       "  </thead>\n",
       "  <tbody>\n",
       "    <tr>\n",
       "      <th>258</th>\n",
       "      <td>166377</td>\n",
       "      <td>2019-09-30</td>\n",
       "      <td>out</td>\n",
       "      <td>False</td>\n",
       "      <td>880020.0</td>\n",
       "      <td>False</td>\n",
       "      <td>4</td>\n",
       "      <td>724</td>\n",
       "      <td>749</td>\n",
       "      <td>30</td>\n",
       "      <td>40</td>\n",
       "      <td>2</td>\n",
       "      <td>2</td>\n",
       "    </tr>\n",
       "    <tr>\n",
       "      <th>259</th>\n",
       "      <td>166377</td>\n",
       "      <td>2019-09-30</td>\n",
       "      <td>out</td>\n",
       "      <td>False</td>\n",
       "      <td>880022.0</td>\n",
       "      <td>False</td>\n",
       "      <td>1</td>\n",
       "      <td>144</td>\n",
       "      <td>146</td>\n",
       "      <td>30</td>\n",
       "      <td>40</td>\n",
       "      <td>2</td>\n",
       "      <td>2</td>\n",
       "    </tr>\n",
       "    <tr>\n",
       "      <th>260</th>\n",
       "      <td>166377</td>\n",
       "      <td>2019-09-30</td>\n",
       "      <td>out</td>\n",
       "      <td>False</td>\n",
       "      <td>880020.0</td>\n",
       "      <td>True</td>\n",
       "      <td>4</td>\n",
       "      <td>0</td>\n",
       "      <td>12</td>\n",
       "      <td>30</td>\n",
       "      <td>40</td>\n",
       "      <td>2</td>\n",
       "      <td>2</td>\n",
       "    </tr>\n",
       "    <tr>\n",
       "      <th>261</th>\n",
       "      <td>166377</td>\n",
       "      <td>2019-10-01</td>\n",
       "      <td>out</td>\n",
       "      <td>False</td>\n",
       "      <td>880026.0</td>\n",
       "      <td>False</td>\n",
       "      <td>19</td>\n",
       "      <td>2023</td>\n",
       "      <td>2155</td>\n",
       "      <td>1</td>\n",
       "      <td>40</td>\n",
       "      <td>2</td>\n",
       "      <td>2</td>\n",
       "    </tr>\n",
       "    <tr>\n",
       "      <th>262</th>\n",
       "      <td>166377</td>\n",
       "      <td>2019-10-01</td>\n",
       "      <td>out</td>\n",
       "      <td>False</td>\n",
       "      <td>880020.0</td>\n",
       "      <td>False</td>\n",
       "      <td>1</td>\n",
       "      <td>106</td>\n",
       "      <td>108</td>\n",
       "      <td>1</td>\n",
       "      <td>40</td>\n",
       "      <td>2</td>\n",
       "      <td>2</td>\n",
       "    </tr>\n",
       "    <tr>\n",
       "      <th>...</th>\n",
       "      <td>...</td>\n",
       "      <td>...</td>\n",
       "      <td>...</td>\n",
       "      <td>...</td>\n",
       "      <td>...</td>\n",
       "      <td>...</td>\n",
       "      <td>...</td>\n",
       "      <td>...</td>\n",
       "      <td>...</td>\n",
       "      <td>...</td>\n",
       "      <td>...</td>\n",
       "      <td>...</td>\n",
       "      <td>...</td>\n",
       "    </tr>\n",
       "    <tr>\n",
       "      <th>48996</th>\n",
       "      <td>168606</td>\n",
       "      <td>2019-11-09</td>\n",
       "      <td>out</td>\n",
       "      <td>False</td>\n",
       "      <td>957922.0</td>\n",
       "      <td>False</td>\n",
       "      <td>4</td>\n",
       "      <td>551</td>\n",
       "      <td>593</td>\n",
       "      <td>9</td>\n",
       "      <td>45</td>\n",
       "      <td>2</td>\n",
       "      <td>2</td>\n",
       "    </tr>\n",
       "    <tr>\n",
       "      <th>48998</th>\n",
       "      <td>168606</td>\n",
       "      <td>2019-11-10</td>\n",
       "      <td>out</td>\n",
       "      <td>True</td>\n",
       "      <td>957922.0</td>\n",
       "      <td>True</td>\n",
       "      <td>1</td>\n",
       "      <td>0</td>\n",
       "      <td>38</td>\n",
       "      <td>10</td>\n",
       "      <td>45</td>\n",
       "      <td>2</td>\n",
       "      <td>2</td>\n",
       "    </tr>\n",
       "    <tr>\n",
       "      <th>48999</th>\n",
       "      <td>168606</td>\n",
       "      <td>2019-11-11</td>\n",
       "      <td>out</td>\n",
       "      <td>True</td>\n",
       "      <td>957922.0</td>\n",
       "      <td>False</td>\n",
       "      <td>2</td>\n",
       "      <td>479</td>\n",
       "      <td>501</td>\n",
       "      <td>11</td>\n",
       "      <td>46</td>\n",
       "      <td>2</td>\n",
       "      <td>2</td>\n",
       "    </tr>\n",
       "    <tr>\n",
       "      <th>49000</th>\n",
       "      <td>168606</td>\n",
       "      <td>2019-11-15</td>\n",
       "      <td>out</td>\n",
       "      <td>True</td>\n",
       "      <td>957922.0</td>\n",
       "      <td>False</td>\n",
       "      <td>4</td>\n",
       "      <td>3130</td>\n",
       "      <td>3190</td>\n",
       "      <td>15</td>\n",
       "      <td>46</td>\n",
       "      <td>2</td>\n",
       "      <td>2</td>\n",
       "    </tr>\n",
       "    <tr>\n",
       "      <th>49001</th>\n",
       "      <td>168606</td>\n",
       "      <td>2019-11-19</td>\n",
       "      <td>in</td>\n",
       "      <td>False</td>\n",
       "      <td>NaN</td>\n",
       "      <td>True</td>\n",
       "      <td>2</td>\n",
       "      <td>0</td>\n",
       "      <td>64</td>\n",
       "      <td>19</td>\n",
       "      <td>47</td>\n",
       "      <td>2</td>\n",
       "      <td>2</td>\n",
       "    </tr>\n",
       "  </tbody>\n",
       "</table>\n",
       "<p>38990 rows × 13 columns</p>\n",
       "</div>"
      ],
      "text/plain": [
       "       user_id        date direction  internal  operator_id  is_missed_call  \\\n",
       "258     166377  2019-09-30       out     False     880020.0           False   \n",
       "259     166377  2019-09-30       out     False     880022.0           False   \n",
       "260     166377  2019-09-30       out     False     880020.0            True   \n",
       "261     166377  2019-10-01       out     False     880026.0           False   \n",
       "262     166377  2019-10-01       out     False     880020.0           False   \n",
       "...        ...         ...       ...       ...          ...             ...   \n",
       "48996   168606  2019-11-09       out     False     957922.0           False   \n",
       "48998   168606  2019-11-10       out      True     957922.0            True   \n",
       "48999   168606  2019-11-11       out      True     957922.0           False   \n",
       "49000   168606  2019-11-15       out      True     957922.0           False   \n",
       "49001   168606  2019-11-19        in     False          NaN            True   \n",
       "\n",
       "       calls_count  call_duration  total_call_duration  day  week  \\\n",
       "258              4            724                  749   30    40   \n",
       "259              1            144                  146   30    40   \n",
       "260              4              0                   12   30    40   \n",
       "261             19           2023                 2155    1    40   \n",
       "262              1            106                  108    1    40   \n",
       "...            ...            ...                  ...  ...   ...   \n",
       "48996            4            551                  593    9    45   \n",
       "48998            1              0                   38   10    45   \n",
       "48999            2            479                  501   11    46   \n",
       "49000            4           3130                 3190   15    46   \n",
       "49001            2              0                   64   19    47   \n",
       "\n",
       "       missed_call  call_true  \n",
       "258              2          2  \n",
       "259              2          2  \n",
       "260              2          2  \n",
       "261              2          2  \n",
       "262              2          2  \n",
       "...            ...        ...  \n",
       "48996            2          2  \n",
       "48998            2          2  \n",
       "48999            2          2  \n",
       "49000            2          2  \n",
       "49001            2          2  \n",
       "\n",
       "[38990 rows x 13 columns]"
      ]
     },
     "execution_count": 31,
     "metadata": {},
     "output_type": "execute_result"
    }
   ],
   "source": [
    "df = data.query('week >= 40')\n",
    "df"
   ]
  },
  {
   "cell_type": "code",
   "execution_count": 32,
   "metadata": {},
   "outputs": [],
   "source": [
    "group_date = df.groupby('date').agg({'user_id': 'nunique'}).reset_index() "
   ]
  },
  {
   "cell_type": "code",
   "execution_count": 33,
   "metadata": {},
   "outputs": [
    {
     "data": {
      "image/png": "[encoded data removed]",
      "text/plain": [
       "<Figure size 1152x576 with 1 Axes>"
      ]
     },
     "metadata": {
      "needs_background": "light"
     },
     "output_type": "display_data"
    }
   ],
   "source": [
    "group_date.plot(y='user_id', x='date', grid=True, figsize=(16, 8));\n",
    "plt.title('Число звонков в день')\n",
    "plt.xlabel('Дата звонков')\n",
    "plt.ylabel('Число звонков');"
   ]
  },
  {
   "cell_type": "markdown",
   "metadata": {},
   "source": [
    "Данные по звонкам распределены равномерно. Четко выражен недельный цикл с большим числом звонков в будни и их снижении в выходные дни."
   ]
  },
  {
   "cell_type": "code",
   "execution_count": 34,
   "metadata": {},
   "outputs": [
    {
     "data": {
      "text/html": [
       "<div>\n",
       "<style scoped>\n",
       "    .dataframe tbody tr th:only-of-type {\n",
       "        vertical-align: middle;\n",
       "    }\n",
       "\n",
       "    .dataframe tbody tr th {\n",
       "        vertical-align: top;\n",
       "    }\n",
       "\n",
       "    .dataframe thead th {\n",
       "        text-align: right;\n",
       "    }\n",
       "</style>\n",
       "<table border=\"1\" class=\"dataframe\">\n",
       "  <thead>\n",
       "    <tr style=\"text-align: right;\">\n",
       "      <th></th>\n",
       "      <th>user_id</th>\n",
       "      <th>calls_count</th>\n",
       "      <th>operator_id</th>\n",
       "    </tr>\n",
       "  </thead>\n",
       "  <tbody>\n",
       "    <tr>\n",
       "      <th>0</th>\n",
       "      <td>168187</td>\n",
       "      <td>2330</td>\n",
       "      <td>50</td>\n",
       "    </tr>\n",
       "    <tr>\n",
       "      <th>1</th>\n",
       "      <td>167497</td>\n",
       "      <td>1274</td>\n",
       "      <td>30</td>\n",
       "    </tr>\n",
       "    <tr>\n",
       "      <th>2</th>\n",
       "      <td>168361</td>\n",
       "      <td>1149</td>\n",
       "      <td>27</td>\n",
       "    </tr>\n",
       "    <tr>\n",
       "      <th>3</th>\n",
       "      <td>166916</td>\n",
       "      <td>1101</td>\n",
       "      <td>16</td>\n",
       "    </tr>\n",
       "    <tr>\n",
       "      <th>4</th>\n",
       "      <td>166658</td>\n",
       "      <td>1080</td>\n",
       "      <td>17</td>\n",
       "    </tr>\n",
       "    <tr>\n",
       "      <th>5</th>\n",
       "      <td>168062</td>\n",
       "      <td>1071</td>\n",
       "      <td>27</td>\n",
       "    </tr>\n",
       "    <tr>\n",
       "      <th>6</th>\n",
       "      <td>167626</td>\n",
       "      <td>896</td>\n",
       "      <td>48</td>\n",
       "    </tr>\n",
       "    <tr>\n",
       "      <th>7</th>\n",
       "      <td>168252</td>\n",
       "      <td>795</td>\n",
       "      <td>28</td>\n",
       "    </tr>\n",
       "    <tr>\n",
       "      <th>8</th>\n",
       "      <td>167150</td>\n",
       "      <td>782</td>\n",
       "      <td>7</td>\n",
       "    </tr>\n",
       "    <tr>\n",
       "      <th>9</th>\n",
       "      <td>167445</td>\n",
       "      <td>694</td>\n",
       "      <td>11</td>\n",
       "    </tr>\n",
       "    <tr>\n",
       "      <th>10</th>\n",
       "      <td>166983</td>\n",
       "      <td>677</td>\n",
       "      <td>4</td>\n",
       "    </tr>\n",
       "    <tr>\n",
       "      <th>11</th>\n",
       "      <td>166405</td>\n",
       "      <td>630</td>\n",
       "      <td>10</td>\n",
       "    </tr>\n",
       "    <tr>\n",
       "      <th>12</th>\n",
       "      <td>167109</td>\n",
       "      <td>546</td>\n",
       "      <td>7</td>\n",
       "    </tr>\n",
       "    <tr>\n",
       "      <th>13</th>\n",
       "      <td>167650</td>\n",
       "      <td>541</td>\n",
       "      <td>4</td>\n",
       "    </tr>\n",
       "    <tr>\n",
       "      <th>14</th>\n",
       "      <td>166782</td>\n",
       "      <td>540</td>\n",
       "      <td>4</td>\n",
       "    </tr>\n",
       "    <tr>\n",
       "      <th>15</th>\n",
       "      <td>167359</td>\n",
       "      <td>539</td>\n",
       "      <td>8</td>\n",
       "    </tr>\n",
       "    <tr>\n",
       "      <th>16</th>\n",
       "      <td>167977</td>\n",
       "      <td>510</td>\n",
       "      <td>5</td>\n",
       "    </tr>\n",
       "    <tr>\n",
       "      <th>17</th>\n",
       "      <td>166511</td>\n",
       "      <td>507</td>\n",
       "      <td>3</td>\n",
       "    </tr>\n",
       "    <tr>\n",
       "      <th>18</th>\n",
       "      <td>167176</td>\n",
       "      <td>492</td>\n",
       "      <td>8</td>\n",
       "    </tr>\n",
       "    <tr>\n",
       "      <th>19</th>\n",
       "      <td>166485</td>\n",
       "      <td>487</td>\n",
       "      <td>5</td>\n",
       "    </tr>\n",
       "    <tr>\n",
       "      <th>20</th>\n",
       "      <td>168091</td>\n",
       "      <td>477</td>\n",
       "      <td>16</td>\n",
       "    </tr>\n",
       "    <tr>\n",
       "      <th>21</th>\n",
       "      <td>167828</td>\n",
       "      <td>409</td>\n",
       "      <td>9</td>\n",
       "    </tr>\n",
       "    <tr>\n",
       "      <th>22</th>\n",
       "      <td>167521</td>\n",
       "      <td>401</td>\n",
       "      <td>12</td>\n",
       "    </tr>\n",
       "    <tr>\n",
       "      <th>23</th>\n",
       "      <td>167888</td>\n",
       "      <td>363</td>\n",
       "      <td>3</td>\n",
       "    </tr>\n",
       "    <tr>\n",
       "      <th>24</th>\n",
       "      <td>167035</td>\n",
       "      <td>357</td>\n",
       "      <td>2</td>\n",
       "    </tr>\n",
       "    <tr>\n",
       "      <th>25</th>\n",
       "      <td>166582</td>\n",
       "      <td>344</td>\n",
       "      <td>3</td>\n",
       "    </tr>\n",
       "    <tr>\n",
       "      <th>26</th>\n",
       "      <td>166407</td>\n",
       "      <td>340</td>\n",
       "      <td>8</td>\n",
       "    </tr>\n",
       "    <tr>\n",
       "      <th>27</th>\n",
       "      <td>167654</td>\n",
       "      <td>322</td>\n",
       "      <td>3</td>\n",
       "    </tr>\n",
       "    <tr>\n",
       "      <th>28</th>\n",
       "      <td>167532</td>\n",
       "      <td>319</td>\n",
       "      <td>5</td>\n",
       "    </tr>\n",
       "    <tr>\n",
       "      <th>29</th>\n",
       "      <td>166680</td>\n",
       "      <td>316</td>\n",
       "      <td>17</td>\n",
       "    </tr>\n",
       "  </tbody>\n",
       "</table>\n",
       "</div>"
      ],
      "text/plain": [
       "    user_id  calls_count  operator_id\n",
       "0    168187         2330           50\n",
       "1    167497         1274           30\n",
       "2    168361         1149           27\n",
       "3    166916         1101           16\n",
       "4    166658         1080           17\n",
       "5    168062         1071           27\n",
       "6    167626          896           48\n",
       "7    168252          795           28\n",
       "8    167150          782            7\n",
       "9    167445          694           11\n",
       "10   166983          677            4\n",
       "11   166405          630           10\n",
       "12   167109          546            7\n",
       "13   167650          541            4\n",
       "14   166782          540            4\n",
       "15   167359          539            8\n",
       "16   167977          510            5\n",
       "17   166511          507            3\n",
       "18   167176          492            8\n",
       "19   166485          487            5\n",
       "20   168091          477           16\n",
       "21   167828          409            9\n",
       "22   167521          401           12\n",
       "23   167888          363            3\n",
       "24   167035          357            2\n",
       "25   166582          344            3\n",
       "26   166407          340            8\n",
       "27   167654          322            3\n",
       "28   167532          319            5\n",
       "29   166680          316           17"
      ]
     },
     "execution_count": 34,
     "metadata": {},
     "output_type": "execute_result"
    }
   ],
   "source": [
    "acx_df = df.pivot_table(index='user_id', values=['operator_id', 'calls_count'], aggfunc={'operator_id':'nunique', 'calls_count':'count'}).sort_values('calls_count', ascending=False).reset_index()\n",
    "acx_df.head(30)"
   ]
  },
  {
   "cell_type": "markdown",
   "metadata": {},
   "source": [
    "Мы мидим прямую связь числа операторов от колл-центров и количество звонков операторам"
   ]
  },
  {
   "cell_type": "markdown",
   "metadata": {},
   "source": [
    "Посмотрим на распределение числа операторов по колл-центрам"
   ]
  },
  {
   "cell_type": "code",
   "execution_count": 35,
   "metadata": {},
   "outputs": [
    {
     "data": {
      "image/png": "[encoded data removed]",
      "text/plain": [
       "<Figure size 1080x360 with 1 Axes>"
      ]
     },
     "metadata": {
      "needs_background": "light"
     },
     "output_type": "display_data"
    }
   ],
   "source": [
    "acx_df['operator_id'].hist(bins=100, figsize=(15, 5))\n",
    "plt.title('Распределение числа операторов по колл-центрам')\n",
    "plt.xlabel('Число операторов в кол-центре');"
   ]
  },
  {
   "cell_type": "code",
   "execution_count": 36,
   "metadata": {},
   "outputs": [
    {
     "data": {
      "text/html": [
       "<div>\n",
       "<style scoped>\n",
       "    .dataframe tbody tr th:only-of-type {\n",
       "        vertical-align: middle;\n",
       "    }\n",
       "\n",
       "    .dataframe tbody tr th {\n",
       "        vertical-align: top;\n",
       "    }\n",
       "\n",
       "    .dataframe thead th {\n",
       "        text-align: right;\n",
       "    }\n",
       "</style>\n",
       "<table border=\"1\" class=\"dataframe\">\n",
       "  <thead>\n",
       "    <tr style=\"text-align: right;\">\n",
       "      <th></th>\n",
       "      <th>user_id</th>\n",
       "      <th>date</th>\n",
       "      <th>direction</th>\n",
       "      <th>internal</th>\n",
       "      <th>operator_id</th>\n",
       "      <th>is_missed_call</th>\n",
       "      <th>calls_count</th>\n",
       "      <th>call_duration</th>\n",
       "      <th>total_call_duration</th>\n",
       "      <th>day</th>\n",
       "      <th>week</th>\n",
       "      <th>missed_call</th>\n",
       "      <th>call_true</th>\n",
       "    </tr>\n",
       "  </thead>\n",
       "  <tbody>\n",
       "    <tr>\n",
       "      <th>578</th>\n",
       "      <td>166392</td>\n",
       "      <td>2019-10-07</td>\n",
       "      <td>in</td>\n",
       "      <td>True</td>\n",
       "      <td>NaN</td>\n",
       "      <td>True</td>\n",
       "      <td>1</td>\n",
       "      <td>0</td>\n",
       "      <td>26</td>\n",
       "      <td>7</td>\n",
       "      <td>41</td>\n",
       "      <td>2</td>\n",
       "      <td>2</td>\n",
       "    </tr>\n",
       "    <tr>\n",
       "      <th>2141</th>\n",
       "      <td>166407</td>\n",
       "      <td>2019-10-01</td>\n",
       "      <td>in</td>\n",
       "      <td>True</td>\n",
       "      <td>NaN</td>\n",
       "      <td>True</td>\n",
       "      <td>1</td>\n",
       "      <td>0</td>\n",
       "      <td>23</td>\n",
       "      <td>1</td>\n",
       "      <td>40</td>\n",
       "      <td>2</td>\n",
       "      <td>2</td>\n",
       "    </tr>\n",
       "    <tr>\n",
       "      <th>2155</th>\n",
       "      <td>166407</td>\n",
       "      <td>2019-10-03</td>\n",
       "      <td>in</td>\n",
       "      <td>True</td>\n",
       "      <td>888534.0</td>\n",
       "      <td>True</td>\n",
       "      <td>1</td>\n",
       "      <td>0</td>\n",
       "      <td>23</td>\n",
       "      <td>3</td>\n",
       "      <td>40</td>\n",
       "      <td>2</td>\n",
       "      <td>2</td>\n",
       "    </tr>\n",
       "    <tr>\n",
       "      <th>2157</th>\n",
       "      <td>166407</td>\n",
       "      <td>2019-10-03</td>\n",
       "      <td>in</td>\n",
       "      <td>True</td>\n",
       "      <td>NaN</td>\n",
       "      <td>True</td>\n",
       "      <td>2</td>\n",
       "      <td>0</td>\n",
       "      <td>37</td>\n",
       "      <td>3</td>\n",
       "      <td>40</td>\n",
       "      <td>2</td>\n",
       "      <td>2</td>\n",
       "    </tr>\n",
       "    <tr>\n",
       "      <th>2211</th>\n",
       "      <td>166407</td>\n",
       "      <td>2019-10-12</td>\n",
       "      <td>in</td>\n",
       "      <td>True</td>\n",
       "      <td>NaN</td>\n",
       "      <td>True</td>\n",
       "      <td>1</td>\n",
       "      <td>0</td>\n",
       "      <td>22</td>\n",
       "      <td>12</td>\n",
       "      <td>41</td>\n",
       "      <td>2</td>\n",
       "      <td>2</td>\n",
       "    </tr>\n",
       "    <tr>\n",
       "      <th>...</th>\n",
       "      <td>...</td>\n",
       "      <td>...</td>\n",
       "      <td>...</td>\n",
       "      <td>...</td>\n",
       "      <td>...</td>\n",
       "      <td>...</td>\n",
       "      <td>...</td>\n",
       "      <td>...</td>\n",
       "      <td>...</td>\n",
       "      <td>...</td>\n",
       "      <td>...</td>\n",
       "      <td>...</td>\n",
       "      <td>...</td>\n",
       "    </tr>\n",
       "    <tr>\n",
       "      <th>48331</th>\n",
       "      <td>168366</td>\n",
       "      <td>2019-11-01</td>\n",
       "      <td>in</td>\n",
       "      <td>True</td>\n",
       "      <td>952666.0</td>\n",
       "      <td>False</td>\n",
       "      <td>1</td>\n",
       "      <td>56</td>\n",
       "      <td>71</td>\n",
       "      <td>1</td>\n",
       "      <td>44</td>\n",
       "      <td>2</td>\n",
       "      <td>2</td>\n",
       "    </tr>\n",
       "    <tr>\n",
       "      <th>48743</th>\n",
       "      <td>168466</td>\n",
       "      <td>2019-11-14</td>\n",
       "      <td>in</td>\n",
       "      <td>True</td>\n",
       "      <td>NaN</td>\n",
       "      <td>True</td>\n",
       "      <td>1</td>\n",
       "      <td>0</td>\n",
       "      <td>0</td>\n",
       "      <td>14</td>\n",
       "      <td>46</td>\n",
       "      <td>2</td>\n",
       "      <td>2</td>\n",
       "    </tr>\n",
       "    <tr>\n",
       "      <th>48784</th>\n",
       "      <td>168481</td>\n",
       "      <td>2019-11-11</td>\n",
       "      <td>in</td>\n",
       "      <td>True</td>\n",
       "      <td>956276.0</td>\n",
       "      <td>False</td>\n",
       "      <td>1</td>\n",
       "      <td>27</td>\n",
       "      <td>34</td>\n",
       "      <td>11</td>\n",
       "      <td>46</td>\n",
       "      <td>2</td>\n",
       "      <td>2</td>\n",
       "    </tr>\n",
       "    <tr>\n",
       "      <th>48786</th>\n",
       "      <td>168481</td>\n",
       "      <td>2019-11-11</td>\n",
       "      <td>in</td>\n",
       "      <td>True</td>\n",
       "      <td>NaN</td>\n",
       "      <td>True</td>\n",
       "      <td>4</td>\n",
       "      <td>0</td>\n",
       "      <td>25</td>\n",
       "      <td>11</td>\n",
       "      <td>46</td>\n",
       "      <td>2</td>\n",
       "      <td>2</td>\n",
       "    </tr>\n",
       "    <tr>\n",
       "      <th>48788</th>\n",
       "      <td>168481</td>\n",
       "      <td>2019-11-11</td>\n",
       "      <td>in</td>\n",
       "      <td>True</td>\n",
       "      <td>956292.0</td>\n",
       "      <td>False</td>\n",
       "      <td>1</td>\n",
       "      <td>39</td>\n",
       "      <td>48</td>\n",
       "      <td>11</td>\n",
       "      <td>46</td>\n",
       "      <td>2</td>\n",
       "      <td>2</td>\n",
       "    </tr>\n",
       "  </tbody>\n",
       "</table>\n",
       "<p>511 rows × 13 columns</p>\n",
       "</div>"
      ],
      "text/plain": [
       "       user_id        date direction  internal  operator_id  is_missed_call  \\\n",
       "578     166392  2019-10-07        in      True          NaN            True   \n",
       "2141    166407  2019-10-01        in      True          NaN            True   \n",
       "2155    166407  2019-10-03        in      True     888534.0            True   \n",
       "2157    166407  2019-10-03        in      True          NaN            True   \n",
       "2211    166407  2019-10-12        in      True          NaN            True   \n",
       "...        ...         ...       ...       ...          ...             ...   \n",
       "48331   168366  2019-11-01        in      True     952666.0           False   \n",
       "48743   168466  2019-11-14        in      True          NaN            True   \n",
       "48784   168481  2019-11-11        in      True     956276.0           False   \n",
       "48786   168481  2019-11-11        in      True          NaN            True   \n",
       "48788   168481  2019-11-11        in      True     956292.0           False   \n",
       "\n",
       "       calls_count  call_duration  total_call_duration  day  week  \\\n",
       "578              1              0                   26    7    41   \n",
       "2141             1              0                   23    1    40   \n",
       "2155             1              0                   23    3    40   \n",
       "2157             2              0                   37    3    40   \n",
       "2211             1              0                   22   12    41   \n",
       "...            ...            ...                  ...  ...   ...   \n",
       "48331            1             56                   71    1    44   \n",
       "48743            1              0                    0   14    46   \n",
       "48784            1             27                   34   11    46   \n",
       "48786            4              0                   25   11    46   \n",
       "48788            1             39                   48   11    46   \n",
       "\n",
       "       missed_call  call_true  \n",
       "578              2          2  \n",
       "2141             2          2  \n",
       "2155             2          2  \n",
       "2157             2          2  \n",
       "2211             2          2  \n",
       "...            ...        ...  \n",
       "48331            2          2  \n",
       "48743            2          2  \n",
       "48784            2          2  \n",
       "48786            2          2  \n",
       "48788            2          2  \n",
       "\n",
       "[511 rows x 13 columns]"
      ]
     },
     "execution_count": 36,
     "metadata": {},
     "output_type": "execute_result"
    }
   ],
   "source": [
    "in_true = df.query('direction == \"in\" and internal == True')\n",
    "in_true"
   ]
  },
  {
   "cell_type": "code",
   "execution_count": 37,
   "metadata": {},
   "outputs": [
    {
     "data": {
      "image/png": "[encoded data removed]",
      "text/plain": [
       "<Figure size 1080x360 with 1 Axes>"
      ]
     },
     "metadata": {
      "needs_background": "light"
     },
     "output_type": "display_data"
    }
   ],
   "source": [
    "in_true['calls_count'].hist(bins=100, figsize=(15, 5));"
   ]
  },
  {
   "cell_type": "code",
   "execution_count": 38,
   "metadata": {},
   "outputs": [
    {
     "data": {
      "text/html": [
       "<div>\n",
       "<style scoped>\n",
       "    .dataframe tbody tr th:only-of-type {\n",
       "        vertical-align: middle;\n",
       "    }\n",
       "\n",
       "    .dataframe tbody tr th {\n",
       "        vertical-align: top;\n",
       "    }\n",
       "\n",
       "    .dataframe thead th {\n",
       "        text-align: right;\n",
       "    }\n",
       "</style>\n",
       "<table border=\"1\" class=\"dataframe\">\n",
       "  <thead>\n",
       "    <tr style=\"text-align: right;\">\n",
       "      <th></th>\n",
       "      <th>user_id</th>\n",
       "      <th>date</th>\n",
       "      <th>direction</th>\n",
       "      <th>internal</th>\n",
       "      <th>operator_id</th>\n",
       "      <th>is_missed_call</th>\n",
       "      <th>calls_count</th>\n",
       "      <th>call_duration</th>\n",
       "      <th>total_call_duration</th>\n",
       "      <th>day</th>\n",
       "      <th>week</th>\n",
       "      <th>missed_call</th>\n",
       "      <th>call_true</th>\n",
       "    </tr>\n",
       "  </thead>\n",
       "  <tbody>\n",
       "    <tr>\n",
       "      <th>265</th>\n",
       "      <td>166377</td>\n",
       "      <td>2019-10-02</td>\n",
       "      <td>in</td>\n",
       "      <td>False</td>\n",
       "      <td>880026.0</td>\n",
       "      <td>False</td>\n",
       "      <td>3</td>\n",
       "      <td>556</td>\n",
       "      <td>568</td>\n",
       "      <td>2</td>\n",
       "      <td>40</td>\n",
       "      <td>2</td>\n",
       "      <td>2</td>\n",
       "    </tr>\n",
       "    <tr>\n",
       "      <th>266</th>\n",
       "      <td>166377</td>\n",
       "      <td>2019-10-02</td>\n",
       "      <td>in</td>\n",
       "      <td>False</td>\n",
       "      <td>NaN</td>\n",
       "      <td>True</td>\n",
       "      <td>3</td>\n",
       "      <td>0</td>\n",
       "      <td>86</td>\n",
       "      <td>2</td>\n",
       "      <td>40</td>\n",
       "      <td>2</td>\n",
       "      <td>2</td>\n",
       "    </tr>\n",
       "    <tr>\n",
       "      <th>275</th>\n",
       "      <td>166377</td>\n",
       "      <td>2019-10-03</td>\n",
       "      <td>in</td>\n",
       "      <td>False</td>\n",
       "      <td>880028.0</td>\n",
       "      <td>False</td>\n",
       "      <td>2</td>\n",
       "      <td>133</td>\n",
       "      <td>140</td>\n",
       "      <td>3</td>\n",
       "      <td>40</td>\n",
       "      <td>2</td>\n",
       "      <td>2</td>\n",
       "    </tr>\n",
       "    <tr>\n",
       "      <th>277</th>\n",
       "      <td>166377</td>\n",
       "      <td>2019-10-03</td>\n",
       "      <td>in</td>\n",
       "      <td>False</td>\n",
       "      <td>NaN</td>\n",
       "      <td>True</td>\n",
       "      <td>2</td>\n",
       "      <td>0</td>\n",
       "      <td>60</td>\n",
       "      <td>3</td>\n",
       "      <td>40</td>\n",
       "      <td>2</td>\n",
       "      <td>2</td>\n",
       "    </tr>\n",
       "    <tr>\n",
       "      <th>285</th>\n",
       "      <td>166377</td>\n",
       "      <td>2019-10-07</td>\n",
       "      <td>in</td>\n",
       "      <td>False</td>\n",
       "      <td>NaN</td>\n",
       "      <td>True</td>\n",
       "      <td>2</td>\n",
       "      <td>0</td>\n",
       "      <td>71</td>\n",
       "      <td>7</td>\n",
       "      <td>41</td>\n",
       "      <td>2</td>\n",
       "      <td>2</td>\n",
       "    </tr>\n",
       "    <tr>\n",
       "      <th>...</th>\n",
       "      <td>...</td>\n",
       "      <td>...</td>\n",
       "      <td>...</td>\n",
       "      <td>...</td>\n",
       "      <td>...</td>\n",
       "      <td>...</td>\n",
       "      <td>...</td>\n",
       "      <td>...</td>\n",
       "      <td>...</td>\n",
       "      <td>...</td>\n",
       "      <td>...</td>\n",
       "      <td>...</td>\n",
       "      <td>...</td>\n",
       "    </tr>\n",
       "    <tr>\n",
       "      <th>48990</th>\n",
       "      <td>168603</td>\n",
       "      <td>2019-11-28</td>\n",
       "      <td>in</td>\n",
       "      <td>False</td>\n",
       "      <td>NaN</td>\n",
       "      <td>True</td>\n",
       "      <td>1</td>\n",
       "      <td>0</td>\n",
       "      <td>30</td>\n",
       "      <td>28</td>\n",
       "      <td>48</td>\n",
       "      <td>2</td>\n",
       "      <td>2</td>\n",
       "    </tr>\n",
       "    <tr>\n",
       "      <th>48992</th>\n",
       "      <td>168606</td>\n",
       "      <td>2019-11-08</td>\n",
       "      <td>in</td>\n",
       "      <td>False</td>\n",
       "      <td>957922.0</td>\n",
       "      <td>True</td>\n",
       "      <td>1</td>\n",
       "      <td>0</td>\n",
       "      <td>7</td>\n",
       "      <td>8</td>\n",
       "      <td>45</td>\n",
       "      <td>2</td>\n",
       "      <td>2</td>\n",
       "    </tr>\n",
       "    <tr>\n",
       "      <th>48994</th>\n",
       "      <td>168606</td>\n",
       "      <td>2019-11-08</td>\n",
       "      <td>in</td>\n",
       "      <td>False</td>\n",
       "      <td>NaN</td>\n",
       "      <td>True</td>\n",
       "      <td>6</td>\n",
       "      <td>0</td>\n",
       "      <td>121</td>\n",
       "      <td>8</td>\n",
       "      <td>45</td>\n",
       "      <td>2</td>\n",
       "      <td>2</td>\n",
       "    </tr>\n",
       "    <tr>\n",
       "      <th>48995</th>\n",
       "      <td>168606</td>\n",
       "      <td>2019-11-08</td>\n",
       "      <td>in</td>\n",
       "      <td>False</td>\n",
       "      <td>957922.0</td>\n",
       "      <td>False</td>\n",
       "      <td>2</td>\n",
       "      <td>686</td>\n",
       "      <td>705</td>\n",
       "      <td>8</td>\n",
       "      <td>45</td>\n",
       "      <td>2</td>\n",
       "      <td>2</td>\n",
       "    </tr>\n",
       "    <tr>\n",
       "      <th>49001</th>\n",
       "      <td>168606</td>\n",
       "      <td>2019-11-19</td>\n",
       "      <td>in</td>\n",
       "      <td>False</td>\n",
       "      <td>NaN</td>\n",
       "      <td>True</td>\n",
       "      <td>2</td>\n",
       "      <td>0</td>\n",
       "      <td>64</td>\n",
       "      <td>19</td>\n",
       "      <td>47</td>\n",
       "      <td>2</td>\n",
       "      <td>2</td>\n",
       "    </tr>\n",
       "  </tbody>\n",
       "</table>\n",
       "<p>15229 rows × 13 columns</p>\n",
       "</div>"
      ],
      "text/plain": [
       "       user_id        date direction  internal  operator_id  is_missed_call  \\\n",
       "265     166377  2019-10-02        in     False     880026.0           False   \n",
       "266     166377  2019-10-02        in     False          NaN            True   \n",
       "275     166377  2019-10-03        in     False     880028.0           False   \n",
       "277     166377  2019-10-03        in     False          NaN            True   \n",
       "285     166377  2019-10-07        in     False          NaN            True   \n",
       "...        ...         ...       ...       ...          ...             ...   \n",
       "48990   168603  2019-11-28        in     False          NaN            True   \n",
       "48992   168606  2019-11-08        in     False     957922.0            True   \n",
       "48994   168606  2019-11-08        in     False          NaN            True   \n",
       "48995   168606  2019-11-08        in     False     957922.0           False   \n",
       "49001   168606  2019-11-19        in     False          NaN            True   \n",
       "\n",
       "       calls_count  call_duration  total_call_duration  day  week  \\\n",
       "265              3            556                  568    2    40   \n",
       "266              3              0                   86    2    40   \n",
       "275              2            133                  140    3    40   \n",
       "277              2              0                   60    3    40   \n",
       "285              2              0                   71    7    41   \n",
       "...            ...            ...                  ...  ...   ...   \n",
       "48990            1              0                   30   28    48   \n",
       "48992            1              0                    7    8    45   \n",
       "48994            6              0                  121    8    45   \n",
       "48995            2            686                  705    8    45   \n",
       "49001            2              0                   64   19    47   \n",
       "\n",
       "       missed_call  call_true  \n",
       "265              2          2  \n",
       "266              2          2  \n",
       "275              2          2  \n",
       "277              2          2  \n",
       "285              2          2  \n",
       "...            ...        ...  \n",
       "48990            2          2  \n",
       "48992            2          2  \n",
       "48994            2          2  \n",
       "48995            2          2  \n",
       "49001            2          2  \n",
       "\n",
       "[15229 rows x 13 columns]"
      ]
     },
     "execution_count": 38,
     "metadata": {},
     "output_type": "execute_result"
    }
   ],
   "source": [
    "in_false = df.query('direction == \"in\" and internal != True')\n",
    "in_false"
   ]
  },
  {
   "cell_type": "code",
   "execution_count": 39,
   "metadata": {},
   "outputs": [
    {
     "data": {
      "image/png": "[encoded data removed]",
      "text/plain": [
       "<Figure size 1080x360 with 1 Axes>"
      ]
     },
     "metadata": {
      "needs_background": "light"
     },
     "output_type": "display_data"
    }
   ],
   "source": [
    "in_false['calls_count'].hist(bins=100, figsize=(15, 5)); "
   ]
  },
  {
   "cell_type": "markdown",
   "metadata": {},
   "source": [
    "Распределения идентичны, по столбцу internal соотношение False/True как 30/1. Будем рассматривать единые входящие звонки"
   ]
  },
  {
   "cell_type": "code",
   "execution_count": 40,
   "metadata": {},
   "outputs": [
    {
     "data": {
      "text/html": [
       "<div>\n",
       "<style scoped>\n",
       "    .dataframe tbody tr th:only-of-type {\n",
       "        vertical-align: middle;\n",
       "    }\n",
       "\n",
       "    .dataframe tbody tr th {\n",
       "        vertical-align: top;\n",
       "    }\n",
       "\n",
       "    .dataframe thead th {\n",
       "        text-align: right;\n",
       "    }\n",
       "</style>\n",
       "<table border=\"1\" class=\"dataframe\">\n",
       "  <thead>\n",
       "    <tr style=\"text-align: right;\">\n",
       "      <th></th>\n",
       "      <th>user_id</th>\n",
       "      <th>date</th>\n",
       "      <th>direction</th>\n",
       "      <th>internal</th>\n",
       "      <th>operator_id</th>\n",
       "      <th>is_missed_call</th>\n",
       "      <th>calls_count</th>\n",
       "      <th>call_duration</th>\n",
       "      <th>total_call_duration</th>\n",
       "      <th>day</th>\n",
       "      <th>week</th>\n",
       "      <th>missed_call</th>\n",
       "      <th>call_true</th>\n",
       "    </tr>\n",
       "  </thead>\n",
       "  <tbody>\n",
       "    <tr>\n",
       "      <th>265</th>\n",
       "      <td>166377</td>\n",
       "      <td>2019-10-02</td>\n",
       "      <td>in</td>\n",
       "      <td>False</td>\n",
       "      <td>880026.0</td>\n",
       "      <td>False</td>\n",
       "      <td>3</td>\n",
       "      <td>556</td>\n",
       "      <td>568</td>\n",
       "      <td>2</td>\n",
       "      <td>40</td>\n",
       "      <td>2</td>\n",
       "      <td>2</td>\n",
       "    </tr>\n",
       "    <tr>\n",
       "      <th>266</th>\n",
       "      <td>166377</td>\n",
       "      <td>2019-10-02</td>\n",
       "      <td>in</td>\n",
       "      <td>False</td>\n",
       "      <td>NaN</td>\n",
       "      <td>True</td>\n",
       "      <td>3</td>\n",
       "      <td>0</td>\n",
       "      <td>86</td>\n",
       "      <td>2</td>\n",
       "      <td>40</td>\n",
       "      <td>2</td>\n",
       "      <td>2</td>\n",
       "    </tr>\n",
       "    <tr>\n",
       "      <th>275</th>\n",
       "      <td>166377</td>\n",
       "      <td>2019-10-03</td>\n",
       "      <td>in</td>\n",
       "      <td>False</td>\n",
       "      <td>880028.0</td>\n",
       "      <td>False</td>\n",
       "      <td>2</td>\n",
       "      <td>133</td>\n",
       "      <td>140</td>\n",
       "      <td>3</td>\n",
       "      <td>40</td>\n",
       "      <td>2</td>\n",
       "      <td>2</td>\n",
       "    </tr>\n",
       "    <tr>\n",
       "      <th>277</th>\n",
       "      <td>166377</td>\n",
       "      <td>2019-10-03</td>\n",
       "      <td>in</td>\n",
       "      <td>False</td>\n",
       "      <td>NaN</td>\n",
       "      <td>True</td>\n",
       "      <td>2</td>\n",
       "      <td>0</td>\n",
       "      <td>60</td>\n",
       "      <td>3</td>\n",
       "      <td>40</td>\n",
       "      <td>2</td>\n",
       "      <td>2</td>\n",
       "    </tr>\n",
       "    <tr>\n",
       "      <th>285</th>\n",
       "      <td>166377</td>\n",
       "      <td>2019-10-07</td>\n",
       "      <td>in</td>\n",
       "      <td>False</td>\n",
       "      <td>NaN</td>\n",
       "      <td>True</td>\n",
       "      <td>2</td>\n",
       "      <td>0</td>\n",
       "      <td>71</td>\n",
       "      <td>7</td>\n",
       "      <td>41</td>\n",
       "      <td>2</td>\n",
       "      <td>2</td>\n",
       "    </tr>\n",
       "    <tr>\n",
       "      <th>...</th>\n",
       "      <td>...</td>\n",
       "      <td>...</td>\n",
       "      <td>...</td>\n",
       "      <td>...</td>\n",
       "      <td>...</td>\n",
       "      <td>...</td>\n",
       "      <td>...</td>\n",
       "      <td>...</td>\n",
       "      <td>...</td>\n",
       "      <td>...</td>\n",
       "      <td>...</td>\n",
       "      <td>...</td>\n",
       "      <td>...</td>\n",
       "    </tr>\n",
       "    <tr>\n",
       "      <th>48990</th>\n",
       "      <td>168603</td>\n",
       "      <td>2019-11-28</td>\n",
       "      <td>in</td>\n",
       "      <td>False</td>\n",
       "      <td>NaN</td>\n",
       "      <td>True</td>\n",
       "      <td>1</td>\n",
       "      <td>0</td>\n",
       "      <td>30</td>\n",
       "      <td>28</td>\n",
       "      <td>48</td>\n",
       "      <td>2</td>\n",
       "      <td>2</td>\n",
       "    </tr>\n",
       "    <tr>\n",
       "      <th>48992</th>\n",
       "      <td>168606</td>\n",
       "      <td>2019-11-08</td>\n",
       "      <td>in</td>\n",
       "      <td>False</td>\n",
       "      <td>957922.0</td>\n",
       "      <td>True</td>\n",
       "      <td>1</td>\n",
       "      <td>0</td>\n",
       "      <td>7</td>\n",
       "      <td>8</td>\n",
       "      <td>45</td>\n",
       "      <td>2</td>\n",
       "      <td>2</td>\n",
       "    </tr>\n",
       "    <tr>\n",
       "      <th>48994</th>\n",
       "      <td>168606</td>\n",
       "      <td>2019-11-08</td>\n",
       "      <td>in</td>\n",
       "      <td>False</td>\n",
       "      <td>NaN</td>\n",
       "      <td>True</td>\n",
       "      <td>6</td>\n",
       "      <td>0</td>\n",
       "      <td>121</td>\n",
       "      <td>8</td>\n",
       "      <td>45</td>\n",
       "      <td>2</td>\n",
       "      <td>2</td>\n",
       "    </tr>\n",
       "    <tr>\n",
       "      <th>48995</th>\n",
       "      <td>168606</td>\n",
       "      <td>2019-11-08</td>\n",
       "      <td>in</td>\n",
       "      <td>False</td>\n",
       "      <td>957922.0</td>\n",
       "      <td>False</td>\n",
       "      <td>2</td>\n",
       "      <td>686</td>\n",
       "      <td>705</td>\n",
       "      <td>8</td>\n",
       "      <td>45</td>\n",
       "      <td>2</td>\n",
       "      <td>2</td>\n",
       "    </tr>\n",
       "    <tr>\n",
       "      <th>49001</th>\n",
       "      <td>168606</td>\n",
       "      <td>2019-11-19</td>\n",
       "      <td>in</td>\n",
       "      <td>False</td>\n",
       "      <td>NaN</td>\n",
       "      <td>True</td>\n",
       "      <td>2</td>\n",
       "      <td>0</td>\n",
       "      <td>64</td>\n",
       "      <td>19</td>\n",
       "      <td>47</td>\n",
       "      <td>2</td>\n",
       "      <td>2</td>\n",
       "    </tr>\n",
       "  </tbody>\n",
       "</table>\n",
       "<p>15740 rows × 13 columns</p>\n",
       "</div>"
      ],
      "text/plain": [
       "       user_id        date direction  internal  operator_id  is_missed_call  \\\n",
       "265     166377  2019-10-02        in     False     880026.0           False   \n",
       "266     166377  2019-10-02        in     False          NaN            True   \n",
       "275     166377  2019-10-03        in     False     880028.0           False   \n",
       "277     166377  2019-10-03        in     False          NaN            True   \n",
       "285     166377  2019-10-07        in     False          NaN            True   \n",
       "...        ...         ...       ...       ...          ...             ...   \n",
       "48990   168603  2019-11-28        in     False          NaN            True   \n",
       "48992   168606  2019-11-08        in     False     957922.0            True   \n",
       "48994   168606  2019-11-08        in     False          NaN            True   \n",
       "48995   168606  2019-11-08        in     False     957922.0           False   \n",
       "49001   168606  2019-11-19        in     False          NaN            True   \n",
       "\n",
       "       calls_count  call_duration  total_call_duration  day  week  \\\n",
       "265              3            556                  568    2    40   \n",
       "266              3              0                   86    2    40   \n",
       "275              2            133                  140    3    40   \n",
       "277              2              0                   60    3    40   \n",
       "285              2              0                   71    7    41   \n",
       "...            ...            ...                  ...  ...   ...   \n",
       "48990            1              0                   30   28    48   \n",
       "48992            1              0                    7    8    45   \n",
       "48994            6              0                  121    8    45   \n",
       "48995            2            686                  705    8    45   \n",
       "49001            2              0                   64   19    47   \n",
       "\n",
       "       missed_call  call_true  \n",
       "265              2          2  \n",
       "266              2          2  \n",
       "275              2          2  \n",
       "277              2          2  \n",
       "285              2          2  \n",
       "...            ...        ...  \n",
       "48990            2          2  \n",
       "48992            2          2  \n",
       "48994            2          2  \n",
       "48995            2          2  \n",
       "49001            2          2  \n",
       "\n",
       "[15740 rows x 13 columns]"
      ]
     },
     "execution_count": 40,
     "metadata": {},
     "output_type": "execute_result"
    }
   ],
   "source": [
    "direction_in = df.query('direction == \"in\"')\n",
    "direction_in"
   ]
  },
  {
   "cell_type": "code",
   "execution_count": 41,
   "metadata": {},
   "outputs": [
    {
     "data": {
      "text/plain": [
       "datetime.date(2019, 9, 30)"
      ]
     },
     "execution_count": 41,
     "metadata": {},
     "output_type": "execute_result"
    }
   ],
   "source": [
    "direction_in['date'].min()"
   ]
  },
  {
   "cell_type": "code",
   "execution_count": 42,
   "metadata": {},
   "outputs": [
    {
     "data": {
      "text/plain": [
       "datetime.date(2019, 11, 28)"
      ]
     },
     "execution_count": 42,
     "metadata": {},
     "output_type": "execute_result"
    }
   ],
   "source": [
    "direction_in['date'].max()"
   ]
  },
  {
   "cell_type": "code",
   "execution_count": 43,
   "metadata": {},
   "outputs": [
    {
     "data": {
      "text/html": [
       "<div>\n",
       "<style scoped>\n",
       "    .dataframe tbody tr th:only-of-type {\n",
       "        vertical-align: middle;\n",
       "    }\n",
       "\n",
       "    .dataframe tbody tr th {\n",
       "        vertical-align: top;\n",
       "    }\n",
       "\n",
       "    .dataframe thead th {\n",
       "        text-align: right;\n",
       "    }\n",
       "</style>\n",
       "<table border=\"1\" class=\"dataframe\">\n",
       "  <thead>\n",
       "    <tr style=\"text-align: right;\">\n",
       "      <th></th>\n",
       "      <th>user_id</th>\n",
       "      <th>calls_count_sum</th>\n",
       "      <th>operator_id_count</th>\n",
       "    </tr>\n",
       "  </thead>\n",
       "  <tbody>\n",
       "    <tr>\n",
       "      <th>0</th>\n",
       "      <td>167626</td>\n",
       "      <td>24723</td>\n",
       "      <td>5</td>\n",
       "    </tr>\n",
       "    <tr>\n",
       "      <th>1</th>\n",
       "      <td>168361</td>\n",
       "      <td>17981</td>\n",
       "      <td>0</td>\n",
       "    </tr>\n",
       "    <tr>\n",
       "      <th>2</th>\n",
       "      <td>168252</td>\n",
       "      <td>13975</td>\n",
       "      <td>21</td>\n",
       "    </tr>\n",
       "    <tr>\n",
       "      <th>3</th>\n",
       "      <td>167071</td>\n",
       "      <td>8762</td>\n",
       "      <td>2</td>\n",
       "    </tr>\n",
       "    <tr>\n",
       "      <th>4</th>\n",
       "      <td>168187</td>\n",
       "      <td>7935</td>\n",
       "      <td>41</td>\n",
       "    </tr>\n",
       "    <tr>\n",
       "      <th>...</th>\n",
       "      <td>...</td>\n",
       "      <td>...</td>\n",
       "      <td>...</td>\n",
       "    </tr>\n",
       "    <tr>\n",
       "      <th>291</th>\n",
       "      <td>167455</td>\n",
       "      <td>1</td>\n",
       "      <td>0</td>\n",
       "    </tr>\n",
       "    <tr>\n",
       "      <th>292</th>\n",
       "      <td>166671</td>\n",
       "      <td>1</td>\n",
       "      <td>1</td>\n",
       "    </tr>\n",
       "    <tr>\n",
       "      <th>293</th>\n",
       "      <td>166481</td>\n",
       "      <td>1</td>\n",
       "      <td>0</td>\n",
       "    </tr>\n",
       "    <tr>\n",
       "      <th>294</th>\n",
       "      <td>168603</td>\n",
       "      <td>1</td>\n",
       "      <td>0</td>\n",
       "    </tr>\n",
       "    <tr>\n",
       "      <th>295</th>\n",
       "      <td>167981</td>\n",
       "      <td>1</td>\n",
       "      <td>0</td>\n",
       "    </tr>\n",
       "  </tbody>\n",
       "</table>\n",
       "<p>296 rows × 3 columns</p>\n",
       "</div>"
      ],
      "text/plain": [
       "     user_id  calls_count_sum  operator_id_count\n",
       "0     167626            24723                  5\n",
       "1     168361            17981                  0\n",
       "2     168252            13975                 21\n",
       "3     167071             8762                  2\n",
       "4     168187             7935                 41\n",
       "..       ...              ...                ...\n",
       "291   167455                1                  0\n",
       "292   166671                1                  1\n",
       "293   166481                1                  0\n",
       "294   168603                1                  0\n",
       "295   167981                1                  0\n",
       "\n",
       "[296 rows x 3 columns]"
      ]
     },
     "execution_count": 43,
     "metadata": {},
     "output_type": "execute_result"
    }
   ],
   "source": [
    "direction_in_id = direction_in.pivot_table(index='user_id', values=['operator_id', 'calls_count'], aggfunc={'operator_id':'nunique', 'calls_count':'sum'}).sort_values('calls_count', ascending=False).reset_index()\n",
    "direction_in_id.columns = ['user_id', 'calls_count_sum', 'operator_id_count']\n",
    "direction_in_id"
   ]
  },
  {
   "cell_type": "markdown",
   "metadata": {},
   "source": [
    "У нас имеются колл-центры с числом операторов 0. Это скорее всего кол-центры специализирующиеся на обзвонах клиентов и не принимающие звонки, поэтому такой звонок не направляется оператору и id не определяется"
   ]
  },
  {
   "cell_type": "markdown",
   "metadata": {},
   "source": [
    "Определим колл-центры с "
   ]
  },
  {
   "cell_type": "code",
   "execution_count": 44,
   "metadata": {},
   "outputs": [
    {
     "data": {
      "text/html": [
       "<div>\n",
       "<style scoped>\n",
       "    .dataframe tbody tr th:only-of-type {\n",
       "        vertical-align: middle;\n",
       "    }\n",
       "\n",
       "    .dataframe tbody tr th {\n",
       "        vertical-align: top;\n",
       "    }\n",
       "\n",
       "    .dataframe thead th {\n",
       "        text-align: right;\n",
       "    }\n",
       "</style>\n",
       "<table border=\"1\" class=\"dataframe\">\n",
       "  <thead>\n",
       "    <tr style=\"text-align: right;\">\n",
       "      <th></th>\n",
       "      <th>user_id</th>\n",
       "      <th>calls_count_sum</th>\n",
       "      <th>operator_id_count</th>\n",
       "    </tr>\n",
       "  </thead>\n",
       "  <tbody>\n",
       "    <tr>\n",
       "      <th>1</th>\n",
       "      <td>168361</td>\n",
       "      <td>17981</td>\n",
       "      <td>0</td>\n",
       "    </tr>\n",
       "    <tr>\n",
       "      <th>40</th>\n",
       "      <td>168018</td>\n",
       "      <td>684</td>\n",
       "      <td>0</td>\n",
       "    </tr>\n",
       "    <tr>\n",
       "      <th>64</th>\n",
       "      <td>167125</td>\n",
       "      <td>347</td>\n",
       "      <td>0</td>\n",
       "    </tr>\n",
       "    <tr>\n",
       "      <th>128</th>\n",
       "      <td>167285</td>\n",
       "      <td>92</td>\n",
       "      <td>0</td>\n",
       "    </tr>\n",
       "    <tr>\n",
       "      <th>143</th>\n",
       "      <td>168024</td>\n",
       "      <td>68</td>\n",
       "      <td>0</td>\n",
       "    </tr>\n",
       "    <tr>\n",
       "      <th>157</th>\n",
       "      <td>167631</td>\n",
       "      <td>58</td>\n",
       "      <td>0</td>\n",
       "    </tr>\n",
       "    <tr>\n",
       "      <th>184</th>\n",
       "      <td>167716</td>\n",
       "      <td>35</td>\n",
       "      <td>0</td>\n",
       "    </tr>\n",
       "    <tr>\n",
       "      <th>186</th>\n",
       "      <td>168128</td>\n",
       "      <td>34</td>\n",
       "      <td>0</td>\n",
       "    </tr>\n",
       "    <tr>\n",
       "      <th>190</th>\n",
       "      <td>166958</td>\n",
       "      <td>31</td>\n",
       "      <td>0</td>\n",
       "    </tr>\n",
       "    <tr>\n",
       "      <th>203</th>\n",
       "      <td>167077</td>\n",
       "      <td>26</td>\n",
       "      <td>0</td>\n",
       "    </tr>\n",
       "    <tr>\n",
       "      <th>212</th>\n",
       "      <td>166727</td>\n",
       "      <td>22</td>\n",
       "      <td>0</td>\n",
       "    </tr>\n",
       "    <tr>\n",
       "      <th>231</th>\n",
       "      <td>166936</td>\n",
       "      <td>14</td>\n",
       "      <td>0</td>\n",
       "    </tr>\n",
       "    <tr>\n",
       "      <th>234</th>\n",
       "      <td>167645</td>\n",
       "      <td>13</td>\n",
       "      <td>0</td>\n",
       "    </tr>\n",
       "    <tr>\n",
       "      <th>238</th>\n",
       "      <td>167768</td>\n",
       "      <td>11</td>\n",
       "      <td>0</td>\n",
       "    </tr>\n",
       "    <tr>\n",
       "      <th>247</th>\n",
       "      <td>167364</td>\n",
       "      <td>10</td>\n",
       "      <td>0</td>\n",
       "    </tr>\n",
       "    <tr>\n",
       "      <th>248</th>\n",
       "      <td>168329</td>\n",
       "      <td>9</td>\n",
       "      <td>0</td>\n",
       "    </tr>\n",
       "    <tr>\n",
       "      <th>257</th>\n",
       "      <td>166666</td>\n",
       "      <td>8</td>\n",
       "      <td>0</td>\n",
       "    </tr>\n",
       "    <tr>\n",
       "      <th>258</th>\n",
       "      <td>166874</td>\n",
       "      <td>8</td>\n",
       "      <td>0</td>\n",
       "    </tr>\n",
       "    <tr>\n",
       "      <th>261</th>\n",
       "      <td>167721</td>\n",
       "      <td>7</td>\n",
       "      <td>0</td>\n",
       "    </tr>\n",
       "    <tr>\n",
       "      <th>262</th>\n",
       "      <td>167053</td>\n",
       "      <td>7</td>\n",
       "      <td>0</td>\n",
       "    </tr>\n",
       "    <tr>\n",
       "      <th>263</th>\n",
       "      <td>167244</td>\n",
       "      <td>6</td>\n",
       "      <td>0</td>\n",
       "    </tr>\n",
       "    <tr>\n",
       "      <th>265</th>\n",
       "      <td>168291</td>\n",
       "      <td>6</td>\n",
       "      <td>0</td>\n",
       "    </tr>\n",
       "    <tr>\n",
       "      <th>267</th>\n",
       "      <td>167265</td>\n",
       "      <td>6</td>\n",
       "      <td>0</td>\n",
       "    </tr>\n",
       "    <tr>\n",
       "      <th>271</th>\n",
       "      <td>168446</td>\n",
       "      <td>5</td>\n",
       "      <td>0</td>\n",
       "    </tr>\n",
       "    <tr>\n",
       "      <th>272</th>\n",
       "      <td>167114</td>\n",
       "      <td>5</td>\n",
       "      <td>0</td>\n",
       "    </tr>\n",
       "    <tr>\n",
       "      <th>275</th>\n",
       "      <td>167250</td>\n",
       "      <td>5</td>\n",
       "      <td>0</td>\n",
       "    </tr>\n",
       "    <tr>\n",
       "      <th>278</th>\n",
       "      <td>167939</td>\n",
       "      <td>3</td>\n",
       "      <td>0</td>\n",
       "    </tr>\n",
       "    <tr>\n",
       "      <th>279</th>\n",
       "      <td>166533</td>\n",
       "      <td>3</td>\n",
       "      <td>0</td>\n",
       "    </tr>\n",
       "    <tr>\n",
       "      <th>280</th>\n",
       "      <td>167144</td>\n",
       "      <td>3</td>\n",
       "      <td>0</td>\n",
       "    </tr>\n",
       "    <tr>\n",
       "      <th>282</th>\n",
       "      <td>168340</td>\n",
       "      <td>2</td>\n",
       "      <td>0</td>\n",
       "    </tr>\n",
       "    <tr>\n",
       "      <th>283</th>\n",
       "      <td>168013</td>\n",
       "      <td>2</td>\n",
       "      <td>0</td>\n",
       "    </tr>\n",
       "    <tr>\n",
       "      <th>286</th>\n",
       "      <td>168490</td>\n",
       "      <td>2</td>\n",
       "      <td>0</td>\n",
       "    </tr>\n",
       "    <tr>\n",
       "      <th>289</th>\n",
       "      <td>166941</td>\n",
       "      <td>1</td>\n",
       "      <td>0</td>\n",
       "    </tr>\n",
       "    <tr>\n",
       "      <th>290</th>\n",
       "      <td>168578</td>\n",
       "      <td>1</td>\n",
       "      <td>0</td>\n",
       "    </tr>\n",
       "    <tr>\n",
       "      <th>291</th>\n",
       "      <td>167455</td>\n",
       "      <td>1</td>\n",
       "      <td>0</td>\n",
       "    </tr>\n",
       "    <tr>\n",
       "      <th>293</th>\n",
       "      <td>166481</td>\n",
       "      <td>1</td>\n",
       "      <td>0</td>\n",
       "    </tr>\n",
       "    <tr>\n",
       "      <th>294</th>\n",
       "      <td>168603</td>\n",
       "      <td>1</td>\n",
       "      <td>0</td>\n",
       "    </tr>\n",
       "    <tr>\n",
       "      <th>295</th>\n",
       "      <td>167981</td>\n",
       "      <td>1</td>\n",
       "      <td>0</td>\n",
       "    </tr>\n",
       "  </tbody>\n",
       "</table>\n",
       "</div>"
      ],
      "text/plain": [
       "     user_id  calls_count_sum  operator_id_count\n",
       "1     168361            17981                  0\n",
       "40    168018              684                  0\n",
       "64    167125              347                  0\n",
       "128   167285               92                  0\n",
       "143   168024               68                  0\n",
       "157   167631               58                  0\n",
       "184   167716               35                  0\n",
       "186   168128               34                  0\n",
       "190   166958               31                  0\n",
       "203   167077               26                  0\n",
       "212   166727               22                  0\n",
       "231   166936               14                  0\n",
       "234   167645               13                  0\n",
       "238   167768               11                  0\n",
       "247   167364               10                  0\n",
       "248   168329                9                  0\n",
       "257   166666                8                  0\n",
       "258   166874                8                  0\n",
       "261   167721                7                  0\n",
       "262   167053                7                  0\n",
       "263   167244                6                  0\n",
       "265   168291                6                  0\n",
       "267   167265                6                  0\n",
       "271   168446                5                  0\n",
       "272   167114                5                  0\n",
       "275   167250                5                  0\n",
       "278   167939                3                  0\n",
       "279   166533                3                  0\n",
       "280   167144                3                  0\n",
       "282   168340                2                  0\n",
       "283   168013                2                  0\n",
       "286   168490                2                  0\n",
       "289   166941                1                  0\n",
       "290   168578                1                  0\n",
       "291   167455                1                  0\n",
       "293   166481                1                  0\n",
       "294   168603                1                  0\n",
       "295   167981                1                  0"
      ]
     },
     "execution_count": 44,
     "metadata": {},
     "output_type": "execute_result"
    }
   ],
   "source": [
    "id_call_0 = direction_in_id.query('operator_id_count == 0')\n",
    "id_call_0"
   ]
  },
  {
   "cell_type": "code",
   "execution_count": 45,
   "metadata": {},
   "outputs": [
    {
     "data": {
      "text/html": [
       "<div>\n",
       "<style scoped>\n",
       "    .dataframe tbody tr th:only-of-type {\n",
       "        vertical-align: middle;\n",
       "    }\n",
       "\n",
       "    .dataframe tbody tr th {\n",
       "        vertical-align: top;\n",
       "    }\n",
       "\n",
       "    .dataframe thead th {\n",
       "        text-align: right;\n",
       "    }\n",
       "</style>\n",
       "<table border=\"1\" class=\"dataframe\">\n",
       "  <thead>\n",
       "    <tr style=\"text-align: right;\">\n",
       "      <th></th>\n",
       "      <th>user_id</th>\n",
       "      <th>date</th>\n",
       "      <th>direction</th>\n",
       "      <th>internal</th>\n",
       "      <th>operator_id</th>\n",
       "      <th>is_missed_call</th>\n",
       "      <th>calls_count</th>\n",
       "      <th>call_duration</th>\n",
       "      <th>total_call_duration</th>\n",
       "      <th>day</th>\n",
       "      <th>week</th>\n",
       "      <th>missed_call</th>\n",
       "      <th>call_true</th>\n",
       "      <th>calls_count_sum</th>\n",
       "      <th>operator_id_count</th>\n",
       "    </tr>\n",
       "  </thead>\n",
       "  <tbody>\n",
       "    <tr>\n",
       "      <th>0</th>\n",
       "      <td>166377</td>\n",
       "      <td>2019-10-02</td>\n",
       "      <td>in</td>\n",
       "      <td>False</td>\n",
       "      <td>880026.0</td>\n",
       "      <td>False</td>\n",
       "      <td>3</td>\n",
       "      <td>556</td>\n",
       "      <td>568</td>\n",
       "      <td>2</td>\n",
       "      <td>40</td>\n",
       "      <td>2</td>\n",
       "      <td>2</td>\n",
       "      <td>NaN</td>\n",
       "      <td>NaN</td>\n",
       "    </tr>\n",
       "    <tr>\n",
       "      <th>1</th>\n",
       "      <td>166377</td>\n",
       "      <td>2019-10-02</td>\n",
       "      <td>in</td>\n",
       "      <td>False</td>\n",
       "      <td>NaN</td>\n",
       "      <td>True</td>\n",
       "      <td>3</td>\n",
       "      <td>0</td>\n",
       "      <td>86</td>\n",
       "      <td>2</td>\n",
       "      <td>40</td>\n",
       "      <td>2</td>\n",
       "      <td>2</td>\n",
       "      <td>NaN</td>\n",
       "      <td>NaN</td>\n",
       "    </tr>\n",
       "    <tr>\n",
       "      <th>2</th>\n",
       "      <td>166377</td>\n",
       "      <td>2019-10-03</td>\n",
       "      <td>in</td>\n",
       "      <td>False</td>\n",
       "      <td>880028.0</td>\n",
       "      <td>False</td>\n",
       "      <td>2</td>\n",
       "      <td>133</td>\n",
       "      <td>140</td>\n",
       "      <td>3</td>\n",
       "      <td>40</td>\n",
       "      <td>2</td>\n",
       "      <td>2</td>\n",
       "      <td>NaN</td>\n",
       "      <td>NaN</td>\n",
       "    </tr>\n",
       "    <tr>\n",
       "      <th>3</th>\n",
       "      <td>166377</td>\n",
       "      <td>2019-10-03</td>\n",
       "      <td>in</td>\n",
       "      <td>False</td>\n",
       "      <td>NaN</td>\n",
       "      <td>True</td>\n",
       "      <td>2</td>\n",
       "      <td>0</td>\n",
       "      <td>60</td>\n",
       "      <td>3</td>\n",
       "      <td>40</td>\n",
       "      <td>2</td>\n",
       "      <td>2</td>\n",
       "      <td>NaN</td>\n",
       "      <td>NaN</td>\n",
       "    </tr>\n",
       "    <tr>\n",
       "      <th>4</th>\n",
       "      <td>166377</td>\n",
       "      <td>2019-10-07</td>\n",
       "      <td>in</td>\n",
       "      <td>False</td>\n",
       "      <td>NaN</td>\n",
       "      <td>True</td>\n",
       "      <td>2</td>\n",
       "      <td>0</td>\n",
       "      <td>71</td>\n",
       "      <td>7</td>\n",
       "      <td>41</td>\n",
       "      <td>2</td>\n",
       "      <td>2</td>\n",
       "      <td>NaN</td>\n",
       "      <td>NaN</td>\n",
       "    </tr>\n",
       "    <tr>\n",
       "      <th>...</th>\n",
       "      <td>...</td>\n",
       "      <td>...</td>\n",
       "      <td>...</td>\n",
       "      <td>...</td>\n",
       "      <td>...</td>\n",
       "      <td>...</td>\n",
       "      <td>...</td>\n",
       "      <td>...</td>\n",
       "      <td>...</td>\n",
       "      <td>...</td>\n",
       "      <td>...</td>\n",
       "      <td>...</td>\n",
       "      <td>...</td>\n",
       "      <td>...</td>\n",
       "      <td>...</td>\n",
       "    </tr>\n",
       "    <tr>\n",
       "      <th>15735</th>\n",
       "      <td>168603</td>\n",
       "      <td>2019-11-28</td>\n",
       "      <td>in</td>\n",
       "      <td>False</td>\n",
       "      <td>NaN</td>\n",
       "      <td>True</td>\n",
       "      <td>1</td>\n",
       "      <td>0</td>\n",
       "      <td>30</td>\n",
       "      <td>28</td>\n",
       "      <td>48</td>\n",
       "      <td>2</td>\n",
       "      <td>2</td>\n",
       "      <td>1.0</td>\n",
       "      <td>0.0</td>\n",
       "    </tr>\n",
       "    <tr>\n",
       "      <th>15736</th>\n",
       "      <td>168606</td>\n",
       "      <td>2019-11-08</td>\n",
       "      <td>in</td>\n",
       "      <td>False</td>\n",
       "      <td>957922.0</td>\n",
       "      <td>True</td>\n",
       "      <td>1</td>\n",
       "      <td>0</td>\n",
       "      <td>7</td>\n",
       "      <td>8</td>\n",
       "      <td>45</td>\n",
       "      <td>2</td>\n",
       "      <td>2</td>\n",
       "      <td>NaN</td>\n",
       "      <td>NaN</td>\n",
       "    </tr>\n",
       "    <tr>\n",
       "      <th>15737</th>\n",
       "      <td>168606</td>\n",
       "      <td>2019-11-08</td>\n",
       "      <td>in</td>\n",
       "      <td>False</td>\n",
       "      <td>NaN</td>\n",
       "      <td>True</td>\n",
       "      <td>6</td>\n",
       "      <td>0</td>\n",
       "      <td>121</td>\n",
       "      <td>8</td>\n",
       "      <td>45</td>\n",
       "      <td>2</td>\n",
       "      <td>2</td>\n",
       "      <td>NaN</td>\n",
       "      <td>NaN</td>\n",
       "    </tr>\n",
       "    <tr>\n",
       "      <th>15738</th>\n",
       "      <td>168606</td>\n",
       "      <td>2019-11-08</td>\n",
       "      <td>in</td>\n",
       "      <td>False</td>\n",
       "      <td>957922.0</td>\n",
       "      <td>False</td>\n",
       "      <td>2</td>\n",
       "      <td>686</td>\n",
       "      <td>705</td>\n",
       "      <td>8</td>\n",
       "      <td>45</td>\n",
       "      <td>2</td>\n",
       "      <td>2</td>\n",
       "      <td>NaN</td>\n",
       "      <td>NaN</td>\n",
       "    </tr>\n",
       "    <tr>\n",
       "      <th>15739</th>\n",
       "      <td>168606</td>\n",
       "      <td>2019-11-19</td>\n",
       "      <td>in</td>\n",
       "      <td>False</td>\n",
       "      <td>NaN</td>\n",
       "      <td>True</td>\n",
       "      <td>2</td>\n",
       "      <td>0</td>\n",
       "      <td>64</td>\n",
       "      <td>19</td>\n",
       "      <td>47</td>\n",
       "      <td>2</td>\n",
       "      <td>2</td>\n",
       "      <td>NaN</td>\n",
       "      <td>NaN</td>\n",
       "    </tr>\n",
       "  </tbody>\n",
       "</table>\n",
       "<p>15740 rows × 15 columns</p>\n",
       "</div>"
      ],
      "text/plain": [
       "       user_id        date direction  internal  operator_id  is_missed_call  \\\n",
       "0       166377  2019-10-02        in     False     880026.0           False   \n",
       "1       166377  2019-10-02        in     False          NaN            True   \n",
       "2       166377  2019-10-03        in     False     880028.0           False   \n",
       "3       166377  2019-10-03        in     False          NaN            True   \n",
       "4       166377  2019-10-07        in     False          NaN            True   \n",
       "...        ...         ...       ...       ...          ...             ...   \n",
       "15735   168603  2019-11-28        in     False          NaN            True   \n",
       "15736   168606  2019-11-08        in     False     957922.0            True   \n",
       "15737   168606  2019-11-08        in     False          NaN            True   \n",
       "15738   168606  2019-11-08        in     False     957922.0           False   \n",
       "15739   168606  2019-11-19        in     False          NaN            True   \n",
       "\n",
       "       calls_count  call_duration  total_call_duration  day  week  \\\n",
       "0                3            556                  568    2    40   \n",
       "1                3              0                   86    2    40   \n",
       "2                2            133                  140    3    40   \n",
       "3                2              0                   60    3    40   \n",
       "4                2              0                   71    7    41   \n",
       "...            ...            ...                  ...  ...   ...   \n",
       "15735            1              0                   30   28    48   \n",
       "15736            1              0                    7    8    45   \n",
       "15737            6              0                  121    8    45   \n",
       "15738            2            686                  705    8    45   \n",
       "15739            2              0                   64   19    47   \n",
       "\n",
       "       missed_call  call_true  calls_count_sum  operator_id_count  \n",
       "0                2          2              NaN                NaN  \n",
       "1                2          2              NaN                NaN  \n",
       "2                2          2              NaN                NaN  \n",
       "3                2          2              NaN                NaN  \n",
       "4                2          2              NaN                NaN  \n",
       "...            ...        ...              ...                ...  \n",
       "15735            2          2              1.0                0.0  \n",
       "15736            2          2              NaN                NaN  \n",
       "15737            2          2              NaN                NaN  \n",
       "15738            2          2              NaN                NaN  \n",
       "15739            2          2              NaN                NaN  \n",
       "\n",
       "[15740 rows x 15 columns]"
      ]
     },
     "execution_count": 45,
     "metadata": {},
     "output_type": "execute_result"
    }
   ],
   "source": [
    "df_in = direction_in.merge(id_call_0, left_on=['user_id'], right_on=['user_id'], how='left')\n",
    "df_in"
   ]
  },
  {
   "cell_type": "code",
   "execution_count": 46,
   "metadata": {},
   "outputs": [],
   "source": [
    "df_in['operator_id_count'] = df_in['operator_id_count'].fillna(1)"
   ]
  },
  {
   "cell_type": "code",
   "execution_count": 47,
   "metadata": {},
   "outputs": [
    {
     "data": {
      "text/html": [
       "<div>\n",
       "<style scoped>\n",
       "    .dataframe tbody tr th:only-of-type {\n",
       "        vertical-align: middle;\n",
       "    }\n",
       "\n",
       "    .dataframe tbody tr th {\n",
       "        vertical-align: top;\n",
       "    }\n",
       "\n",
       "    .dataframe thead th {\n",
       "        text-align: right;\n",
       "    }\n",
       "</style>\n",
       "<table border=\"1\" class=\"dataframe\">\n",
       "  <thead>\n",
       "    <tr style=\"text-align: right;\">\n",
       "      <th></th>\n",
       "      <th>user_id</th>\n",
       "      <th>date</th>\n",
       "      <th>direction</th>\n",
       "      <th>internal</th>\n",
       "      <th>operator_id</th>\n",
       "      <th>is_missed_call</th>\n",
       "      <th>calls_count</th>\n",
       "      <th>call_duration</th>\n",
       "      <th>total_call_duration</th>\n",
       "      <th>day</th>\n",
       "      <th>week</th>\n",
       "      <th>missed_call</th>\n",
       "      <th>call_true</th>\n",
       "      <th>calls_count_sum</th>\n",
       "      <th>operator_id_count</th>\n",
       "    </tr>\n",
       "  </thead>\n",
       "  <tbody>\n",
       "    <tr>\n",
       "      <th>0</th>\n",
       "      <td>166377</td>\n",
       "      <td>2019-10-02</td>\n",
       "      <td>in</td>\n",
       "      <td>False</td>\n",
       "      <td>880026.0</td>\n",
       "      <td>False</td>\n",
       "      <td>3</td>\n",
       "      <td>556</td>\n",
       "      <td>568</td>\n",
       "      <td>2</td>\n",
       "      <td>40</td>\n",
       "      <td>2</td>\n",
       "      <td>2</td>\n",
       "      <td>NaN</td>\n",
       "      <td>1</td>\n",
       "    </tr>\n",
       "    <tr>\n",
       "      <th>1</th>\n",
       "      <td>166377</td>\n",
       "      <td>2019-10-02</td>\n",
       "      <td>in</td>\n",
       "      <td>False</td>\n",
       "      <td>NaN</td>\n",
       "      <td>True</td>\n",
       "      <td>3</td>\n",
       "      <td>0</td>\n",
       "      <td>86</td>\n",
       "      <td>2</td>\n",
       "      <td>40</td>\n",
       "      <td>2</td>\n",
       "      <td>2</td>\n",
       "      <td>NaN</td>\n",
       "      <td>1</td>\n",
       "    </tr>\n",
       "    <tr>\n",
       "      <th>2</th>\n",
       "      <td>166377</td>\n",
       "      <td>2019-10-03</td>\n",
       "      <td>in</td>\n",
       "      <td>False</td>\n",
       "      <td>880028.0</td>\n",
       "      <td>False</td>\n",
       "      <td>2</td>\n",
       "      <td>133</td>\n",
       "      <td>140</td>\n",
       "      <td>3</td>\n",
       "      <td>40</td>\n",
       "      <td>2</td>\n",
       "      <td>2</td>\n",
       "      <td>NaN</td>\n",
       "      <td>1</td>\n",
       "    </tr>\n",
       "    <tr>\n",
       "      <th>3</th>\n",
       "      <td>166377</td>\n",
       "      <td>2019-10-03</td>\n",
       "      <td>in</td>\n",
       "      <td>False</td>\n",
       "      <td>NaN</td>\n",
       "      <td>True</td>\n",
       "      <td>2</td>\n",
       "      <td>0</td>\n",
       "      <td>60</td>\n",
       "      <td>3</td>\n",
       "      <td>40</td>\n",
       "      <td>2</td>\n",
       "      <td>2</td>\n",
       "      <td>NaN</td>\n",
       "      <td>1</td>\n",
       "    </tr>\n",
       "    <tr>\n",
       "      <th>4</th>\n",
       "      <td>166377</td>\n",
       "      <td>2019-10-07</td>\n",
       "      <td>in</td>\n",
       "      <td>False</td>\n",
       "      <td>NaN</td>\n",
       "      <td>True</td>\n",
       "      <td>2</td>\n",
       "      <td>0</td>\n",
       "      <td>71</td>\n",
       "      <td>7</td>\n",
       "      <td>41</td>\n",
       "      <td>2</td>\n",
       "      <td>2</td>\n",
       "      <td>NaN</td>\n",
       "      <td>1</td>\n",
       "    </tr>\n",
       "    <tr>\n",
       "      <th>...</th>\n",
       "      <td>...</td>\n",
       "      <td>...</td>\n",
       "      <td>...</td>\n",
       "      <td>...</td>\n",
       "      <td>...</td>\n",
       "      <td>...</td>\n",
       "      <td>...</td>\n",
       "      <td>...</td>\n",
       "      <td>...</td>\n",
       "      <td>...</td>\n",
       "      <td>...</td>\n",
       "      <td>...</td>\n",
       "      <td>...</td>\n",
       "      <td>...</td>\n",
       "      <td>...</td>\n",
       "    </tr>\n",
       "    <tr>\n",
       "      <th>15735</th>\n",
       "      <td>168603</td>\n",
       "      <td>2019-11-28</td>\n",
       "      <td>in</td>\n",
       "      <td>False</td>\n",
       "      <td>NaN</td>\n",
       "      <td>True</td>\n",
       "      <td>1</td>\n",
       "      <td>0</td>\n",
       "      <td>30</td>\n",
       "      <td>28</td>\n",
       "      <td>48</td>\n",
       "      <td>2</td>\n",
       "      <td>2</td>\n",
       "      <td>1.0</td>\n",
       "      <td>0</td>\n",
       "    </tr>\n",
       "    <tr>\n",
       "      <th>15736</th>\n",
       "      <td>168606</td>\n",
       "      <td>2019-11-08</td>\n",
       "      <td>in</td>\n",
       "      <td>False</td>\n",
       "      <td>957922.0</td>\n",
       "      <td>True</td>\n",
       "      <td>1</td>\n",
       "      <td>0</td>\n",
       "      <td>7</td>\n",
       "      <td>8</td>\n",
       "      <td>45</td>\n",
       "      <td>2</td>\n",
       "      <td>2</td>\n",
       "      <td>NaN</td>\n",
       "      <td>1</td>\n",
       "    </tr>\n",
       "    <tr>\n",
       "      <th>15737</th>\n",
       "      <td>168606</td>\n",
       "      <td>2019-11-08</td>\n",
       "      <td>in</td>\n",
       "      <td>False</td>\n",
       "      <td>NaN</td>\n",
       "      <td>True</td>\n",
       "      <td>6</td>\n",
       "      <td>0</td>\n",
       "      <td>121</td>\n",
       "      <td>8</td>\n",
       "      <td>45</td>\n",
       "      <td>2</td>\n",
       "      <td>2</td>\n",
       "      <td>NaN</td>\n",
       "      <td>1</td>\n",
       "    </tr>\n",
       "    <tr>\n",
       "      <th>15738</th>\n",
       "      <td>168606</td>\n",
       "      <td>2019-11-08</td>\n",
       "      <td>in</td>\n",
       "      <td>False</td>\n",
       "      <td>957922.0</td>\n",
       "      <td>False</td>\n",
       "      <td>2</td>\n",
       "      <td>686</td>\n",
       "      <td>705</td>\n",
       "      <td>8</td>\n",
       "      <td>45</td>\n",
       "      <td>2</td>\n",
       "      <td>2</td>\n",
       "      <td>NaN</td>\n",
       "      <td>1</td>\n",
       "    </tr>\n",
       "    <tr>\n",
       "      <th>15739</th>\n",
       "      <td>168606</td>\n",
       "      <td>2019-11-19</td>\n",
       "      <td>in</td>\n",
       "      <td>False</td>\n",
       "      <td>NaN</td>\n",
       "      <td>True</td>\n",
       "      <td>2</td>\n",
       "      <td>0</td>\n",
       "      <td>64</td>\n",
       "      <td>19</td>\n",
       "      <td>47</td>\n",
       "      <td>2</td>\n",
       "      <td>2</td>\n",
       "      <td>NaN</td>\n",
       "      <td>1</td>\n",
       "    </tr>\n",
       "  </tbody>\n",
       "</table>\n",
       "<p>15740 rows × 15 columns</p>\n",
       "</div>"
      ],
      "text/plain": [
       "       user_id        date direction  internal  operator_id  is_missed_call  \\\n",
       "0       166377  2019-10-02        in     False     880026.0           False   \n",
       "1       166377  2019-10-02        in     False          NaN            True   \n",
       "2       166377  2019-10-03        in     False     880028.0           False   \n",
       "3       166377  2019-10-03        in     False          NaN            True   \n",
       "4       166377  2019-10-07        in     False          NaN            True   \n",
       "...        ...         ...       ...       ...          ...             ...   \n",
       "15735   168603  2019-11-28        in     False          NaN            True   \n",
       "15736   168606  2019-11-08        in     False     957922.0            True   \n",
       "15737   168606  2019-11-08        in     False          NaN            True   \n",
       "15738   168606  2019-11-08        in     False     957922.0           False   \n",
       "15739   168606  2019-11-19        in     False          NaN            True   \n",
       "\n",
       "       calls_count  call_duration  total_call_duration  day  week  \\\n",
       "0                3            556                  568    2    40   \n",
       "1                3              0                   86    2    40   \n",
       "2                2            133                  140    3    40   \n",
       "3                2              0                   60    3    40   \n",
       "4                2              0                   71    7    41   \n",
       "...            ...            ...                  ...  ...   ...   \n",
       "15735            1              0                   30   28    48   \n",
       "15736            1              0                    7    8    45   \n",
       "15737            6              0                  121    8    45   \n",
       "15738            2            686                  705    8    45   \n",
       "15739            2              0                   64   19    47   \n",
       "\n",
       "       missed_call  call_true  calls_count_sum  operator_id_count  \n",
       "0                2          2              NaN                  1  \n",
       "1                2          2              NaN                  1  \n",
       "2                2          2              NaN                  1  \n",
       "3                2          2              NaN                  1  \n",
       "4                2          2              NaN                  1  \n",
       "...            ...        ...              ...                ...  \n",
       "15735            2          2              1.0                  0  \n",
       "15736            2          2              NaN                  1  \n",
       "15737            2          2              NaN                  1  \n",
       "15738            2          2              NaN                  1  \n",
       "15739            2          2              NaN                  1  \n",
       "\n",
       "[15740 rows x 15 columns]"
      ]
     },
     "execution_count": 47,
     "metadata": {},
     "output_type": "execute_result"
    }
   ],
   "source": [
    "df_in['operator_id_count'] = df_in['operator_id_count'].astype('int')\n",
    "df_in"
   ]
  },
  {
   "cell_type": "code",
   "execution_count": 48,
   "metadata": {},
   "outputs": [
    {
     "data": {
      "text/plain": [
       "0        1\n",
       "1        1\n",
       "2        1\n",
       "3        1\n",
       "4        1\n",
       "        ..\n",
       "15735    0\n",
       "15736    1\n",
       "15737    1\n",
       "15738    1\n",
       "15739    1\n",
       "Name: operator_id_count, Length: 15740, dtype: int32"
      ]
     },
     "execution_count": 48,
     "metadata": {},
     "output_type": "execute_result"
    }
   ],
   "source": [
    "df_in['operator_id_count'].fillna(1).astype('int')"
   ]
  },
  {
   "cell_type": "code",
   "execution_count": 49,
   "metadata": {},
   "outputs": [],
   "source": [
    "data_in_no_0 = df_in.query('operator_id_count == 1')"
   ]
  },
  {
   "cell_type": "code",
   "execution_count": 50,
   "metadata": {},
   "outputs": [],
   "source": [
    "data_in_1 = data_in_no_0.loc[:, ['user_id', 'date', 'operator_id', 'is_missed_call', 'calls_count', 'call_duration', 'total_call_duration']]"
   ]
  },
  {
   "cell_type": "code",
   "execution_count": 51,
   "metadata": {},
   "outputs": [
    {
     "data": {
      "text/html": [
       "<div>\n",
       "<style scoped>\n",
       "    .dataframe tbody tr th:only-of-type {\n",
       "        vertical-align: middle;\n",
       "    }\n",
       "\n",
       "    .dataframe tbody tr th {\n",
       "        vertical-align: top;\n",
       "    }\n",
       "\n",
       "    .dataframe thead th {\n",
       "        text-align: right;\n",
       "    }\n",
       "</style>\n",
       "<table border=\"1\" class=\"dataframe\">\n",
       "  <thead>\n",
       "    <tr style=\"text-align: right;\">\n",
       "      <th></th>\n",
       "      <th>user_id</th>\n",
       "      <th>date</th>\n",
       "      <th>is_missed_call</th>\n",
       "      <th>calls_count_sum</th>\n",
       "      <th>call_duration_sum</th>\n",
       "      <th>total_call_duration_sum</th>\n",
       "      <th>operator_id_count</th>\n",
       "    </tr>\n",
       "  </thead>\n",
       "  <tbody>\n",
       "    <tr>\n",
       "      <th>0</th>\n",
       "      <td>166377</td>\n",
       "      <td>2019-10-02</td>\n",
       "      <td>False</td>\n",
       "      <td>3</td>\n",
       "      <td>556</td>\n",
       "      <td>568</td>\n",
       "      <td>1</td>\n",
       "    </tr>\n",
       "    <tr>\n",
       "      <th>1</th>\n",
       "      <td>166377</td>\n",
       "      <td>2019-10-02</td>\n",
       "      <td>True</td>\n",
       "      <td>3</td>\n",
       "      <td>0</td>\n",
       "      <td>86</td>\n",
       "      <td>0</td>\n",
       "    </tr>\n",
       "    <tr>\n",
       "      <th>2</th>\n",
       "      <td>166377</td>\n",
       "      <td>2019-10-03</td>\n",
       "      <td>False</td>\n",
       "      <td>2</td>\n",
       "      <td>133</td>\n",
       "      <td>140</td>\n",
       "      <td>1</td>\n",
       "    </tr>\n",
       "    <tr>\n",
       "      <th>3</th>\n",
       "      <td>166377</td>\n",
       "      <td>2019-10-03</td>\n",
       "      <td>True</td>\n",
       "      <td>2</td>\n",
       "      <td>0</td>\n",
       "      <td>60</td>\n",
       "      <td>0</td>\n",
       "    </tr>\n",
       "    <tr>\n",
       "      <th>4</th>\n",
       "      <td>166377</td>\n",
       "      <td>2019-10-07</td>\n",
       "      <td>False</td>\n",
       "      <td>1</td>\n",
       "      <td>19</td>\n",
       "      <td>31</td>\n",
       "      <td>1</td>\n",
       "    </tr>\n",
       "    <tr>\n",
       "      <th>...</th>\n",
       "      <td>...</td>\n",
       "      <td>...</td>\n",
       "      <td>...</td>\n",
       "      <td>...</td>\n",
       "      <td>...</td>\n",
       "      <td>...</td>\n",
       "      <td>...</td>\n",
       "    </tr>\n",
       "    <tr>\n",
       "      <th>10270</th>\n",
       "      <td>168601</td>\n",
       "      <td>2019-11-27</td>\n",
       "      <td>True</td>\n",
       "      <td>2</td>\n",
       "      <td>0</td>\n",
       "      <td>39</td>\n",
       "      <td>0</td>\n",
       "    </tr>\n",
       "    <tr>\n",
       "      <th>10271</th>\n",
       "      <td>168601</td>\n",
       "      <td>2019-11-28</td>\n",
       "      <td>True</td>\n",
       "      <td>1</td>\n",
       "      <td>0</td>\n",
       "      <td>19</td>\n",
       "      <td>0</td>\n",
       "    </tr>\n",
       "    <tr>\n",
       "      <th>10272</th>\n",
       "      <td>168606</td>\n",
       "      <td>2019-11-08</td>\n",
       "      <td>False</td>\n",
       "      <td>2</td>\n",
       "      <td>686</td>\n",
       "      <td>705</td>\n",
       "      <td>1</td>\n",
       "    </tr>\n",
       "    <tr>\n",
       "      <th>10273</th>\n",
       "      <td>168606</td>\n",
       "      <td>2019-11-08</td>\n",
       "      <td>True</td>\n",
       "      <td>7</td>\n",
       "      <td>0</td>\n",
       "      <td>128</td>\n",
       "      <td>1</td>\n",
       "    </tr>\n",
       "    <tr>\n",
       "      <th>10274</th>\n",
       "      <td>168606</td>\n",
       "      <td>2019-11-19</td>\n",
       "      <td>True</td>\n",
       "      <td>2</td>\n",
       "      <td>0</td>\n",
       "      <td>64</td>\n",
       "      <td>0</td>\n",
       "    </tr>\n",
       "  </tbody>\n",
       "</table>\n",
       "<p>10275 rows × 7 columns</p>\n",
       "</div>"
      ],
      "text/plain": [
       "       user_id        date  is_missed_call  calls_count_sum  \\\n",
       "0       166377  2019-10-02           False                3   \n",
       "1       166377  2019-10-02            True                3   \n",
       "2       166377  2019-10-03           False                2   \n",
       "3       166377  2019-10-03            True                2   \n",
       "4       166377  2019-10-07           False                1   \n",
       "...        ...         ...             ...              ...   \n",
       "10270   168601  2019-11-27            True                2   \n",
       "10271   168601  2019-11-28            True                1   \n",
       "10272   168606  2019-11-08           False                2   \n",
       "10273   168606  2019-11-08            True                7   \n",
       "10274   168606  2019-11-19            True                2   \n",
       "\n",
       "       call_duration_sum  total_call_duration_sum  operator_id_count  \n",
       "0                    556                      568                  1  \n",
       "1                      0                       86                  0  \n",
       "2                    133                      140                  1  \n",
       "3                      0                       60                  0  \n",
       "4                     19                       31                  1  \n",
       "...                  ...                      ...                ...  \n",
       "10270                  0                       39                  0  \n",
       "10271                  0                       19                  0  \n",
       "10272                686                      705                  1  \n",
       "10273                  0                      128                  1  \n",
       "10274                  0                       64                  0  \n",
       "\n",
       "[10275 rows x 7 columns]"
      ]
     },
     "execution_count": 51,
     "metadata": {},
     "output_type": "execute_result"
    }
   ],
   "source": [
    "#df_vhod_False = data_in_false_1.query('is_missed_call == False')\n",
    "df_in_group = data_in_1.groupby(['user_id', 'date', 'is_missed_call']).agg({'calls_count': ['sum'], 'call_duration': ['sum'], 'total_call_duration': ['sum'], 'operator_id': ['nunique']}).reset_index()\n",
    "df_in_group.columns = ['user_id', 'date', 'is_missed_call', 'calls_count_sum', 'call_duration_sum', 'total_call_duration_sum', 'operator_id_count']\n",
    "df_in_group"
   ]
  },
  {
   "cell_type": "markdown",
   "metadata": {},
   "source": [
    "Отделим пропущенные и принятые звонки"
   ]
  },
  {
   "cell_type": "code",
   "execution_count": 52,
   "metadata": {},
   "outputs": [
    {
     "data": {
      "text/html": [
       "<div>\n",
       "<style scoped>\n",
       "    .dataframe tbody tr th:only-of-type {\n",
       "        vertical-align: middle;\n",
       "    }\n",
       "\n",
       "    .dataframe tbody tr th {\n",
       "        vertical-align: top;\n",
       "    }\n",
       "\n",
       "    .dataframe thead th {\n",
       "        text-align: right;\n",
       "    }\n",
       "</style>\n",
       "<table border=\"1\" class=\"dataframe\">\n",
       "  <thead>\n",
       "    <tr style=\"text-align: right;\">\n",
       "      <th></th>\n",
       "      <th>user_id</th>\n",
       "      <th>date</th>\n",
       "      <th>is_missed_call</th>\n",
       "      <th>calls_count_sum</th>\n",
       "      <th>call_duration_sum</th>\n",
       "      <th>total_call_duration_sum</th>\n",
       "      <th>operator_id_count</th>\n",
       "    </tr>\n",
       "  </thead>\n",
       "  <tbody>\n",
       "    <tr>\n",
       "      <th>0</th>\n",
       "      <td>166377</td>\n",
       "      <td>2019-10-02</td>\n",
       "      <td>False</td>\n",
       "      <td>3</td>\n",
       "      <td>556</td>\n",
       "      <td>568</td>\n",
       "      <td>1</td>\n",
       "    </tr>\n",
       "    <tr>\n",
       "      <th>2</th>\n",
       "      <td>166377</td>\n",
       "      <td>2019-10-03</td>\n",
       "      <td>False</td>\n",
       "      <td>2</td>\n",
       "      <td>133</td>\n",
       "      <td>140</td>\n",
       "      <td>1</td>\n",
       "    </tr>\n",
       "    <tr>\n",
       "      <th>4</th>\n",
       "      <td>166377</td>\n",
       "      <td>2019-10-07</td>\n",
       "      <td>False</td>\n",
       "      <td>1</td>\n",
       "      <td>19</td>\n",
       "      <td>31</td>\n",
       "      <td>1</td>\n",
       "    </tr>\n",
       "    <tr>\n",
       "      <th>6</th>\n",
       "      <td>166377</td>\n",
       "      <td>2019-10-08</td>\n",
       "      <td>False</td>\n",
       "      <td>1</td>\n",
       "      <td>18</td>\n",
       "      <td>25</td>\n",
       "      <td>1</td>\n",
       "    </tr>\n",
       "    <tr>\n",
       "      <th>10</th>\n",
       "      <td>166377</td>\n",
       "      <td>2019-10-11</td>\n",
       "      <td>False</td>\n",
       "      <td>4</td>\n",
       "      <td>320</td>\n",
       "      <td>336</td>\n",
       "      <td>2</td>\n",
       "    </tr>\n",
       "    <tr>\n",
       "      <th>...</th>\n",
       "      <td>...</td>\n",
       "      <td>...</td>\n",
       "      <td>...</td>\n",
       "      <td>...</td>\n",
       "      <td>...</td>\n",
       "      <td>...</td>\n",
       "      <td>...</td>\n",
       "    </tr>\n",
       "    <tr>\n",
       "      <th>10263</th>\n",
       "      <td>168601</td>\n",
       "      <td>2019-11-22</td>\n",
       "      <td>False</td>\n",
       "      <td>2</td>\n",
       "      <td>429</td>\n",
       "      <td>442</td>\n",
       "      <td>1</td>\n",
       "    </tr>\n",
       "    <tr>\n",
       "      <th>10265</th>\n",
       "      <td>168601</td>\n",
       "      <td>2019-11-25</td>\n",
       "      <td>False</td>\n",
       "      <td>7</td>\n",
       "      <td>1229</td>\n",
       "      <td>1282</td>\n",
       "      <td>1</td>\n",
       "    </tr>\n",
       "    <tr>\n",
       "      <th>10267</th>\n",
       "      <td>168601</td>\n",
       "      <td>2019-11-26</td>\n",
       "      <td>False</td>\n",
       "      <td>4</td>\n",
       "      <td>539</td>\n",
       "      <td>562</td>\n",
       "      <td>1</td>\n",
       "    </tr>\n",
       "    <tr>\n",
       "      <th>10269</th>\n",
       "      <td>168601</td>\n",
       "      <td>2019-11-27</td>\n",
       "      <td>False</td>\n",
       "      <td>2</td>\n",
       "      <td>53</td>\n",
       "      <td>77</td>\n",
       "      <td>1</td>\n",
       "    </tr>\n",
       "    <tr>\n",
       "      <th>10272</th>\n",
       "      <td>168606</td>\n",
       "      <td>2019-11-08</td>\n",
       "      <td>False</td>\n",
       "      <td>2</td>\n",
       "      <td>686</td>\n",
       "      <td>705</td>\n",
       "      <td>1</td>\n",
       "    </tr>\n",
       "  </tbody>\n",
       "</table>\n",
       "<p>5246 rows × 7 columns</p>\n",
       "</div>"
      ],
      "text/plain": [
       "       user_id        date  is_missed_call  calls_count_sum  \\\n",
       "0       166377  2019-10-02           False                3   \n",
       "2       166377  2019-10-03           False                2   \n",
       "4       166377  2019-10-07           False                1   \n",
       "6       166377  2019-10-08           False                1   \n",
       "10      166377  2019-10-11           False                4   \n",
       "...        ...         ...             ...              ...   \n",
       "10263   168601  2019-11-22           False                2   \n",
       "10265   168601  2019-11-25           False                7   \n",
       "10267   168601  2019-11-26           False                4   \n",
       "10269   168601  2019-11-27           False                2   \n",
       "10272   168606  2019-11-08           False                2   \n",
       "\n",
       "       call_duration_sum  total_call_duration_sum  operator_id_count  \n",
       "0                    556                      568                  1  \n",
       "2                    133                      140                  1  \n",
       "4                     19                       31                  1  \n",
       "6                     18                       25                  1  \n",
       "10                   320                      336                  2  \n",
       "...                  ...                      ...                ...  \n",
       "10263                429                      442                  1  \n",
       "10265               1229                     1282                  1  \n",
       "10267                539                      562                  1  \n",
       "10269                 53                       77                  1  \n",
       "10272                686                      705                  1  \n",
       "\n",
       "[5246 rows x 7 columns]"
      ]
     },
     "execution_count": 52,
     "metadata": {},
     "output_type": "execute_result"
    }
   ],
   "source": [
    "df_in_group_no_miss = df_in_group.query('is_missed_call == False')\n",
    "df_in_group_no_miss"
   ]
  },
  {
   "cell_type": "markdown",
   "metadata": {},
   "source": [
    "Посчитаем показатели принятых звонков на одного порератора"
   ]
  },
  {
   "cell_type": "code",
   "execution_count": 53,
   "metadata": {},
   "outputs": [
    {
     "data": {
      "image/png": "[encoded data removed]",
      "text/plain": [
       "<Figure size 720x504 with 1 Axes>"
      ]
     },
     "metadata": {
      "needs_background": "light"
     },
     "output_type": "display_data"
    }
   ],
   "source": [
    "df_in_group_no_miss.hist('operator_id_count', bins=100, figsize=(10, 7));"
   ]
  },
  {
   "cell_type": "markdown",
   "metadata": {},
   "source": [
    "Большая часть операторов относится к одному колл-центру, так же модно выделить 2-х и 3-х операторов от одного колл-центра. При большем числе операторов доля колл-центров невелика"
   ]
  },
  {
   "cell_type": "markdown",
   "metadata": {},
   "source": [
    "Не определился один оператор, удалим данную строку"
   ]
  },
  {
   "cell_type": "code",
   "execution_count": 54,
   "metadata": {},
   "outputs": [],
   "source": [
    "in_group_no_miss = df_in_group_no_miss.query('operator_id_count != 0')"
   ]
  },
  {
   "cell_type": "markdown",
   "metadata": {},
   "source": [
    "Определим длительность звонка на одного оператора"
   ]
  },
  {
   "cell_type": "code",
   "execution_count": 55,
   "metadata": {},
   "outputs": [],
   "source": [
    "in_group_no_miss['dlit_zvonka'] =  in_group_no_miss['call_duration_sum'] / (in_group_no_miss['calls_count_sum'] * in_group_no_miss['operator_id_count'])"
   ]
  },
  {
   "cell_type": "markdown",
   "metadata": {},
   "source": [
    "Определим число звонков на одного оператора"
   ]
  },
  {
   "cell_type": "code",
   "execution_count": 56,
   "metadata": {},
   "outputs": [],
   "source": [
    "in_group_no_miss['chislo_zvonkov_oper'] =  in_group_no_miss['calls_count_sum'] / in_group_no_miss['operator_id_count']"
   ]
  },
  {
   "cell_type": "markdown",
   "metadata": {},
   "source": [
    "Посмотрим есть ли выбросы в данных и как они влияют на результат"
   ]
  },
  {
   "cell_type": "code",
   "execution_count": 57,
   "metadata": {},
   "outputs": [
    {
     "data": {
      "text/html": [
       "<div>\n",
       "<style scoped>\n",
       "    .dataframe tbody tr th:only-of-type {\n",
       "        vertical-align: middle;\n",
       "    }\n",
       "\n",
       "    .dataframe tbody tr th {\n",
       "        vertical-align: top;\n",
       "    }\n",
       "\n",
       "    .dataframe thead th {\n",
       "        text-align: right;\n",
       "    }\n",
       "</style>\n",
       "<table border=\"1\" class=\"dataframe\">\n",
       "  <thead>\n",
       "    <tr style=\"text-align: right;\">\n",
       "      <th></th>\n",
       "      <th>user_id</th>\n",
       "      <th>calls_count_sum</th>\n",
       "      <th>call_duration_sum</th>\n",
       "      <th>total_call_duration_sum</th>\n",
       "      <th>operator_id_count</th>\n",
       "      <th>dlit_zvonka</th>\n",
       "      <th>chislo_zvonkov_oper</th>\n",
       "    </tr>\n",
       "  </thead>\n",
       "  <tbody>\n",
       "    <tr>\n",
       "      <th>count</th>\n",
       "      <td>5244.000000</td>\n",
       "      <td>5244.000000</td>\n",
       "      <td>5244.000000</td>\n",
       "      <td>5244.000000</td>\n",
       "      <td>5244.000000</td>\n",
       "      <td>5244.000000</td>\n",
       "      <td>5244.000000</td>\n",
       "    </tr>\n",
       "    <tr>\n",
       "      <th>mean</th>\n",
       "      <td>167313.527269</td>\n",
       "      <td>15.649695</td>\n",
       "      <td>1620.058162</td>\n",
       "      <td>1824.115751</td>\n",
       "      <td>1.833905</td>\n",
       "      <td>81.530232</td>\n",
       "      <td>7.917451</td>\n",
       "    </tr>\n",
       "    <tr>\n",
       "      <th>std</th>\n",
       "      <td>557.317817</td>\n",
       "      <td>35.085801</td>\n",
       "      <td>3744.101965</td>\n",
       "      <td>4015.812299</td>\n",
       "      <td>2.268642</td>\n",
       "      <td>102.295437</td>\n",
       "      <td>16.174955</td>\n",
       "    </tr>\n",
       "    <tr>\n",
       "      <th>min</th>\n",
       "      <td>166377.000000</td>\n",
       "      <td>1.000000</td>\n",
       "      <td>1.000000</td>\n",
       "      <td>3.000000</td>\n",
       "      <td>1.000000</td>\n",
       "      <td>1.000000</td>\n",
       "      <td>1.000000</td>\n",
       "    </tr>\n",
       "    <tr>\n",
       "      <th>25%</th>\n",
       "      <td>166879.000000</td>\n",
       "      <td>2.000000</td>\n",
       "      <td>110.000000</td>\n",
       "      <td>141.000000</td>\n",
       "      <td>1.000000</td>\n",
       "      <td>29.000000</td>\n",
       "      <td>1.000000</td>\n",
       "    </tr>\n",
       "    <tr>\n",
       "      <th>50%</th>\n",
       "      <td>167235.000000</td>\n",
       "      <td>4.000000</td>\n",
       "      <td>437.000000</td>\n",
       "      <td>504.000000</td>\n",
       "      <td>1.000000</td>\n",
       "      <td>54.000000</td>\n",
       "      <td>3.000000</td>\n",
       "    </tr>\n",
       "    <tr>\n",
       "      <th>75%</th>\n",
       "      <td>167781.000000</td>\n",
       "      <td>14.000000</td>\n",
       "      <td>1480.000000</td>\n",
       "      <td>1693.250000</td>\n",
       "      <td>2.000000</td>\n",
       "      <td>97.033333</td>\n",
       "      <td>7.500000</td>\n",
       "    </tr>\n",
       "    <tr>\n",
       "      <th>max</th>\n",
       "      <td>168606.000000</td>\n",
       "      <td>592.000000</td>\n",
       "      <td>57326.000000</td>\n",
       "      <td>59071.000000</td>\n",
       "      <td>30.000000</td>\n",
       "      <td>2325.000000</td>\n",
       "      <td>273.000000</td>\n",
       "    </tr>\n",
       "  </tbody>\n",
       "</table>\n",
       "</div>"
      ],
      "text/plain": [
       "             user_id  calls_count_sum  call_duration_sum  \\\n",
       "count    5244.000000      5244.000000        5244.000000   \n",
       "mean   167313.527269        15.649695        1620.058162   \n",
       "std       557.317817        35.085801        3744.101965   \n",
       "min    166377.000000         1.000000           1.000000   \n",
       "25%    166879.000000         2.000000         110.000000   \n",
       "50%    167235.000000         4.000000         437.000000   \n",
       "75%    167781.000000        14.000000        1480.000000   \n",
       "max    168606.000000       592.000000       57326.000000   \n",
       "\n",
       "       total_call_duration_sum  operator_id_count  dlit_zvonka  \\\n",
       "count              5244.000000        5244.000000  5244.000000   \n",
       "mean               1824.115751           1.833905    81.530232   \n",
       "std                4015.812299           2.268642   102.295437   \n",
       "min                   3.000000           1.000000     1.000000   \n",
       "25%                 141.000000           1.000000    29.000000   \n",
       "50%                 504.000000           1.000000    54.000000   \n",
       "75%                1693.250000           2.000000    97.033333   \n",
       "max               59071.000000          30.000000  2325.000000   \n",
       "\n",
       "       chislo_zvonkov_oper  \n",
       "count          5244.000000  \n",
       "mean              7.917451  \n",
       "std              16.174955  \n",
       "min               1.000000  \n",
       "25%               1.000000  \n",
       "50%               3.000000  \n",
       "75%               7.500000  \n",
       "max             273.000000  "
      ]
     },
     "execution_count": 57,
     "metadata": {},
     "output_type": "execute_result"
    }
   ],
   "source": [
    "in_group_no_miss.describe()"
   ]
  },
  {
   "cell_type": "code",
   "execution_count": 58,
   "metadata": {},
   "outputs": [
    {
     "data": {
      "image/png": "[encoded data removed]",
      "text/plain": [
       "<Figure size 1080x648 with 1 Axes>"
      ]
     },
     "metadata": {
      "needs_background": "light"
     },
     "output_type": "display_data"
    }
   ],
   "source": [
    "in_group_no_miss.boxplot(figsize=(15, 9));"
   ]
  },
  {
   "cell_type": "code",
   "execution_count": 59,
   "metadata": {},
   "outputs": [
    {
     "data": {
      "image/png": "[encoded data removed]",
      "text/plain": [
       "<Figure size 1080x648 with 1 Axes>"
      ]
     },
     "metadata": {
      "needs_background": "light"
     },
     "output_type": "display_data"
    }
   ],
   "source": [
    "in_group_no_miss.hist('calls_count_sum', bins=200, figsize=(15, 9))\n",
    "plt.title('Число посещений CartScreenAppear уникальными пользователями')\n",
    "plt.ylabel('Число посещений')\n",
    "plt.xlabel('Число пользователей');"
   ]
  },
  {
   "cell_type": "code",
   "execution_count": 60,
   "metadata": {
    "scrolled": true
   },
   "outputs": [
    {
     "data": {
      "image/png": "[encoded data removed]",
      "text/plain": [
       "<Figure size 432x288 with 1 Axes>"
      ]
     },
     "metadata": {
      "needs_background": "light"
     },
     "output_type": "display_data"
    },
    {
     "data": {
      "image/png": "[encoded data removed]",
      "text/plain": [
       "<Figure size 432x288 with 1 Axes>"
      ]
     },
     "metadata": {
      "needs_background": "light"
     },
     "output_type": "display_data"
    }
   ],
   "source": [
    "p5 = np.percentile(in_group_no_miss['chislo_zvonkov_oper'], [5])\n",
    "p5\n",
    "p95 = np.percentile(in_group_no_miss['chislo_zvonkov_oper'], [95])\n",
    "p95\n",
    "# in_group_no_miss_new = in_group_no_miss.query('@p5 < chislo_zvonkov_oper <= @p95')\n",
    "\n",
    "in_group_no_miss_new = in_group_no_miss.loc[\n",
    "    (in_group_no_miss[\"chislo_zvonkov_oper\"] > p5[0]) &\n",
    "    (in_group_no_miss[\"chislo_zvonkov_oper\"] <= p95[0])\n",
    "]\n",
    "\n",
    "plt.title('Распределения после чистки выбросов')\n",
    "in_group_no_miss_new.boxplot('chislo_zvonkov_oper')\n",
    "plt.xlabel('Число звонков оператору в день')\n",
    "plt.ylabel('Число звонков');\n",
    "plt.show()\n",
    "in_group_no_miss_new['chislo_zvonkov_oper'].hist(bins=25)\n",
    "plt.title('Распределения количесва звонков оператору в день')\n",
    "plt.xlabel('Число звонков оператору в день')\n",
    "plt.ylabel('Число звонков')\n",
    "plt.show()"
   ]
  },
  {
   "cell_type": "code",
   "execution_count": 61,
   "metadata": {},
   "outputs": [
    {
     "data": {
      "text/html": [
       "<div>\n",
       "<style scoped>\n",
       "    .dataframe tbody tr th:only-of-type {\n",
       "        vertical-align: middle;\n",
       "    }\n",
       "\n",
       "    .dataframe tbody tr th {\n",
       "        vertical-align: top;\n",
       "    }\n",
       "\n",
       "    .dataframe thead th {\n",
       "        text-align: right;\n",
       "    }\n",
       "</style>\n",
       "<table border=\"1\" class=\"dataframe\">\n",
       "  <thead>\n",
       "    <tr style=\"text-align: right;\">\n",
       "      <th></th>\n",
       "      <th>user_id</th>\n",
       "      <th>calls_count_sum</th>\n",
       "      <th>call_duration_sum</th>\n",
       "      <th>total_call_duration_sum</th>\n",
       "      <th>operator_id_count</th>\n",
       "      <th>dlit_zvonka</th>\n",
       "      <th>chislo_zvonkov_oper</th>\n",
       "    </tr>\n",
       "  </thead>\n",
       "  <tbody>\n",
       "    <tr>\n",
       "      <th>count</th>\n",
       "      <td>3610.000000</td>\n",
       "      <td>3610.000000</td>\n",
       "      <td>3610.000000</td>\n",
       "      <td>3610.000000</td>\n",
       "      <td>3610.000000</td>\n",
       "      <td>3610.000000</td>\n",
       "      <td>3610.000000</td>\n",
       "    </tr>\n",
       "    <tr>\n",
       "      <th>mean</th>\n",
       "      <td>167285.500554</td>\n",
       "      <td>14.353740</td>\n",
       "      <td>1567.650416</td>\n",
       "      <td>1788.597507</td>\n",
       "      <td>2.099723</td>\n",
       "      <td>75.851741</td>\n",
       "      <td>6.767043</td>\n",
       "    </tr>\n",
       "    <tr>\n",
       "      <th>std</th>\n",
       "      <td>557.771229</td>\n",
       "      <td>21.526307</td>\n",
       "      <td>2462.613729</td>\n",
       "      <td>2735.948707</td>\n",
       "      <td>2.634790</td>\n",
       "      <td>74.518454</td>\n",
       "      <td>6.126156</td>\n",
       "    </tr>\n",
       "    <tr>\n",
       "      <th>min</th>\n",
       "      <td>166377.000000</td>\n",
       "      <td>2.000000</td>\n",
       "      <td>2.000000</td>\n",
       "      <td>10.000000</td>\n",
       "      <td>1.000000</td>\n",
       "      <td>1.000000</td>\n",
       "      <td>1.166667</td>\n",
       "    </tr>\n",
       "    <tr>\n",
       "      <th>25%</th>\n",
       "      <td>166836.000000</td>\n",
       "      <td>3.000000</td>\n",
       "      <td>269.000000</td>\n",
       "      <td>323.000000</td>\n",
       "      <td>1.000000</td>\n",
       "      <td>31.500000</td>\n",
       "      <td>2.333333</td>\n",
       "    </tr>\n",
       "    <tr>\n",
       "      <th>50%</th>\n",
       "      <td>167185.000000</td>\n",
       "      <td>7.000000</td>\n",
       "      <td>716.000000</td>\n",
       "      <td>814.000000</td>\n",
       "      <td>1.000000</td>\n",
       "      <td>55.500000</td>\n",
       "      <td>4.000000</td>\n",
       "    </tr>\n",
       "    <tr>\n",
       "      <th>75%</th>\n",
       "      <td>167747.000000</td>\n",
       "      <td>17.000000</td>\n",
       "      <td>1821.000000</td>\n",
       "      <td>2050.000000</td>\n",
       "      <td>2.000000</td>\n",
       "      <td>94.187500</td>\n",
       "      <td>8.500000</td>\n",
       "    </tr>\n",
       "    <tr>\n",
       "      <th>max</th>\n",
       "      <td>168606.000000</td>\n",
       "      <td>247.000000</td>\n",
       "      <td>31258.000000</td>\n",
       "      <td>33658.000000</td>\n",
       "      <td>30.000000</td>\n",
       "      <td>1062.000000</td>\n",
       "      <td>29.000000</td>\n",
       "    </tr>\n",
       "  </tbody>\n",
       "</table>\n",
       "</div>"
      ],
      "text/plain": [
       "             user_id  calls_count_sum  call_duration_sum  \\\n",
       "count    3610.000000      3610.000000        3610.000000   \n",
       "mean   167285.500554        14.353740        1567.650416   \n",
       "std       557.771229        21.526307        2462.613729   \n",
       "min    166377.000000         2.000000           2.000000   \n",
       "25%    166836.000000         3.000000         269.000000   \n",
       "50%    167185.000000         7.000000         716.000000   \n",
       "75%    167747.000000        17.000000        1821.000000   \n",
       "max    168606.000000       247.000000       31258.000000   \n",
       "\n",
       "       total_call_duration_sum  operator_id_count  dlit_zvonka  \\\n",
       "count              3610.000000        3610.000000  3610.000000   \n",
       "mean               1788.597507           2.099723    75.851741   \n",
       "std                2735.948707           2.634790    74.518454   \n",
       "min                  10.000000           1.000000     1.000000   \n",
       "25%                 323.000000           1.000000    31.500000   \n",
       "50%                 814.000000           1.000000    55.500000   \n",
       "75%                2050.000000           2.000000    94.187500   \n",
       "max               33658.000000          30.000000  1062.000000   \n",
       "\n",
       "       chislo_zvonkov_oper  \n",
       "count          3610.000000  \n",
       "mean              6.767043  \n",
       "std               6.126156  \n",
       "min               1.166667  \n",
       "25%               2.333333  \n",
       "50%               4.000000  \n",
       "75%               8.500000  \n",
       "max              29.000000  "
      ]
     },
     "execution_count": 61,
     "metadata": {},
     "output_type": "execute_result"
    }
   ],
   "source": [
    "in_group_no_miss_new.describe()"
   ]
  },
  {
   "cell_type": "code",
   "execution_count": 62,
   "metadata": {},
   "outputs": [
    {
     "data": {
      "image/png": "[encoded data removed]",
      "text/plain": [
       "<Figure size 1080x648 with 1 Axes>"
      ]
     },
     "metadata": {
      "needs_background": "light"
     },
     "output_type": "display_data"
    }
   ],
   "source": [
    "in_group_no_miss_new.hist('dlit_zvonka', bins=200, figsize=(15, 9));"
   ]
  },
  {
   "cell_type": "markdown",
   "metadata": {},
   "source": [
    "Убрав выбросы, мы видим, что медианное время звонка, которое тратит оператор на клиента составляет 55 минут. Отличным показателем будет, если оператор тратит около 30 минут и плохим - если на разговор уходит 90 минут. Медианное значение принятых звонков опероторов в день составляет 4. Хорошим показателем будет, если оператор принимает более 8 звонков и плохой показатель если 2 и менее. "
   ]
  },
  {
   "cell_type": "code",
   "execution_count": 63,
   "metadata": {},
   "outputs": [
    {
     "data": {
      "text/html": [
       "<div>\n",
       "<style scoped>\n",
       "    .dataframe tbody tr th:only-of-type {\n",
       "        vertical-align: middle;\n",
       "    }\n",
       "\n",
       "    .dataframe tbody tr th {\n",
       "        vertical-align: top;\n",
       "    }\n",
       "\n",
       "    .dataframe thead th {\n",
       "        text-align: right;\n",
       "    }\n",
       "</style>\n",
       "<table border=\"1\" class=\"dataframe\">\n",
       "  <thead>\n",
       "    <tr style=\"text-align: right;\">\n",
       "      <th></th>\n",
       "      <th>user_id</th>\n",
       "      <th>date</th>\n",
       "      <th>is_missed_call</th>\n",
       "      <th>calls_count_sum</th>\n",
       "      <th>call_duration_sum</th>\n",
       "      <th>total_call_duration_sum</th>\n",
       "      <th>operator_id_count</th>\n",
       "      <th>dlit_zvonka</th>\n",
       "      <th>chislo_zvonkov_oper</th>\n",
       "    </tr>\n",
       "  </thead>\n",
       "  <tbody>\n",
       "    <tr>\n",
       "      <th>0</th>\n",
       "      <td>166377</td>\n",
       "      <td>2019-10-02</td>\n",
       "      <td>False</td>\n",
       "      <td>3</td>\n",
       "      <td>556</td>\n",
       "      <td>568</td>\n",
       "      <td>1</td>\n",
       "      <td>185.333333</td>\n",
       "      <td>3.0</td>\n",
       "    </tr>\n",
       "    <tr>\n",
       "      <th>2</th>\n",
       "      <td>166377</td>\n",
       "      <td>2019-10-03</td>\n",
       "      <td>False</td>\n",
       "      <td>2</td>\n",
       "      <td>133</td>\n",
       "      <td>140</td>\n",
       "      <td>1</td>\n",
       "      <td>66.500000</td>\n",
       "      <td>2.0</td>\n",
       "    </tr>\n",
       "    <tr>\n",
       "      <th>10</th>\n",
       "      <td>166377</td>\n",
       "      <td>2019-10-11</td>\n",
       "      <td>False</td>\n",
       "      <td>4</td>\n",
       "      <td>320</td>\n",
       "      <td>336</td>\n",
       "      <td>2</td>\n",
       "      <td>40.000000</td>\n",
       "      <td>2.0</td>\n",
       "    </tr>\n",
       "    <tr>\n",
       "      <th>18</th>\n",
       "      <td>166377</td>\n",
       "      <td>2019-10-22</td>\n",
       "      <td>False</td>\n",
       "      <td>3</td>\n",
       "      <td>93</td>\n",
       "      <td>101</td>\n",
       "      <td>1</td>\n",
       "      <td>31.000000</td>\n",
       "      <td>3.0</td>\n",
       "    </tr>\n",
       "    <tr>\n",
       "      <th>25</th>\n",
       "      <td>166377</td>\n",
       "      <td>2019-10-30</td>\n",
       "      <td>False</td>\n",
       "      <td>4</td>\n",
       "      <td>166</td>\n",
       "      <td>180</td>\n",
       "      <td>1</td>\n",
       "      <td>41.500000</td>\n",
       "      <td>4.0</td>\n",
       "    </tr>\n",
       "    <tr>\n",
       "      <th>...</th>\n",
       "      <td>...</td>\n",
       "      <td>...</td>\n",
       "      <td>...</td>\n",
       "      <td>...</td>\n",
       "      <td>...</td>\n",
       "      <td>...</td>\n",
       "      <td>...</td>\n",
       "      <td>...</td>\n",
       "      <td>...</td>\n",
       "    </tr>\n",
       "    <tr>\n",
       "      <th>10263</th>\n",
       "      <td>168601</td>\n",
       "      <td>2019-11-22</td>\n",
       "      <td>False</td>\n",
       "      <td>2</td>\n",
       "      <td>429</td>\n",
       "      <td>442</td>\n",
       "      <td>1</td>\n",
       "      <td>214.500000</td>\n",
       "      <td>2.0</td>\n",
       "    </tr>\n",
       "    <tr>\n",
       "      <th>10265</th>\n",
       "      <td>168601</td>\n",
       "      <td>2019-11-25</td>\n",
       "      <td>False</td>\n",
       "      <td>7</td>\n",
       "      <td>1229</td>\n",
       "      <td>1282</td>\n",
       "      <td>1</td>\n",
       "      <td>175.571429</td>\n",
       "      <td>7.0</td>\n",
       "    </tr>\n",
       "    <tr>\n",
       "      <th>10267</th>\n",
       "      <td>168601</td>\n",
       "      <td>2019-11-26</td>\n",
       "      <td>False</td>\n",
       "      <td>4</td>\n",
       "      <td>539</td>\n",
       "      <td>562</td>\n",
       "      <td>1</td>\n",
       "      <td>134.750000</td>\n",
       "      <td>4.0</td>\n",
       "    </tr>\n",
       "    <tr>\n",
       "      <th>10269</th>\n",
       "      <td>168601</td>\n",
       "      <td>2019-11-27</td>\n",
       "      <td>False</td>\n",
       "      <td>2</td>\n",
       "      <td>53</td>\n",
       "      <td>77</td>\n",
       "      <td>1</td>\n",
       "      <td>26.500000</td>\n",
       "      <td>2.0</td>\n",
       "    </tr>\n",
       "    <tr>\n",
       "      <th>10272</th>\n",
       "      <td>168606</td>\n",
       "      <td>2019-11-08</td>\n",
       "      <td>False</td>\n",
       "      <td>2</td>\n",
       "      <td>686</td>\n",
       "      <td>705</td>\n",
       "      <td>1</td>\n",
       "      <td>343.000000</td>\n",
       "      <td>2.0</td>\n",
       "    </tr>\n",
       "  </tbody>\n",
       "</table>\n",
       "<p>3610 rows × 9 columns</p>\n",
       "</div>"
      ],
      "text/plain": [
       "       user_id        date  is_missed_call  calls_count_sum  \\\n",
       "0       166377  2019-10-02           False                3   \n",
       "2       166377  2019-10-03           False                2   \n",
       "10      166377  2019-10-11           False                4   \n",
       "18      166377  2019-10-22           False                3   \n",
       "25      166377  2019-10-30           False                4   \n",
       "...        ...         ...             ...              ...   \n",
       "10263   168601  2019-11-22           False                2   \n",
       "10265   168601  2019-11-25           False                7   \n",
       "10267   168601  2019-11-26           False                4   \n",
       "10269   168601  2019-11-27           False                2   \n",
       "10272   168606  2019-11-08           False                2   \n",
       "\n",
       "       call_duration_sum  total_call_duration_sum  operator_id_count  \\\n",
       "0                    556                      568                  1   \n",
       "2                    133                      140                  1   \n",
       "10                   320                      336                  2   \n",
       "18                    93                      101                  1   \n",
       "25                   166                      180                  1   \n",
       "...                  ...                      ...                ...   \n",
       "10263                429                      442                  1   \n",
       "10265               1229                     1282                  1   \n",
       "10267                539                      562                  1   \n",
       "10269                 53                       77                  1   \n",
       "10272                686                      705                  1   \n",
       "\n",
       "       dlit_zvonka  chislo_zvonkov_oper  \n",
       "0       185.333333                  3.0  \n",
       "2        66.500000                  2.0  \n",
       "10       40.000000                  2.0  \n",
       "18       31.000000                  3.0  \n",
       "25       41.500000                  4.0  \n",
       "...            ...                  ...  \n",
       "10263   214.500000                  2.0  \n",
       "10265   175.571429                  7.0  \n",
       "10267   134.750000                  4.0  \n",
       "10269    26.500000                  2.0  \n",
       "10272   343.000000                  2.0  \n",
       "\n",
       "[3610 rows x 9 columns]"
      ]
     },
     "execution_count": 63,
     "metadata": {},
     "output_type": "execute_result"
    }
   ],
   "source": [
    "in_group_no_miss_new"
   ]
  },
  {
   "cell_type": "markdown",
   "metadata": {},
   "source": [
    "**Рассмотрим входящие пропущенные звонки**"
   ]
  },
  {
   "cell_type": "code",
   "execution_count": 64,
   "metadata": {
    "scrolled": false
   },
   "outputs": [
    {
     "data": {
      "text/html": [
       "<div>\n",
       "<style scoped>\n",
       "    .dataframe tbody tr th:only-of-type {\n",
       "        vertical-align: middle;\n",
       "    }\n",
       "\n",
       "    .dataframe tbody tr th {\n",
       "        vertical-align: top;\n",
       "    }\n",
       "\n",
       "    .dataframe thead th {\n",
       "        text-align: right;\n",
       "    }\n",
       "</style>\n",
       "<table border=\"1\" class=\"dataframe\">\n",
       "  <thead>\n",
       "    <tr style=\"text-align: right;\">\n",
       "      <th></th>\n",
       "      <th>user_id</th>\n",
       "      <th>date</th>\n",
       "      <th>is_missed_call</th>\n",
       "      <th>calls_count_sum</th>\n",
       "      <th>call_duration_sum</th>\n",
       "      <th>total_call_duration_sum</th>\n",
       "      <th>operator_id_count</th>\n",
       "    </tr>\n",
       "  </thead>\n",
       "  <tbody>\n",
       "    <tr>\n",
       "      <th>1</th>\n",
       "      <td>166377</td>\n",
       "      <td>2019-10-02</td>\n",
       "      <td>True</td>\n",
       "      <td>3</td>\n",
       "      <td>0</td>\n",
       "      <td>86</td>\n",
       "      <td>0</td>\n",
       "    </tr>\n",
       "    <tr>\n",
       "      <th>3</th>\n",
       "      <td>166377</td>\n",
       "      <td>2019-10-03</td>\n",
       "      <td>True</td>\n",
       "      <td>2</td>\n",
       "      <td>0</td>\n",
       "      <td>60</td>\n",
       "      <td>0</td>\n",
       "    </tr>\n",
       "    <tr>\n",
       "      <th>5</th>\n",
       "      <td>166377</td>\n",
       "      <td>2019-10-07</td>\n",
       "      <td>True</td>\n",
       "      <td>2</td>\n",
       "      <td>0</td>\n",
       "      <td>71</td>\n",
       "      <td>0</td>\n",
       "    </tr>\n",
       "    <tr>\n",
       "      <th>7</th>\n",
       "      <td>166377</td>\n",
       "      <td>2019-10-08</td>\n",
       "      <td>True</td>\n",
       "      <td>1</td>\n",
       "      <td>0</td>\n",
       "      <td>6</td>\n",
       "      <td>0</td>\n",
       "    </tr>\n",
       "    <tr>\n",
       "      <th>8</th>\n",
       "      <td>166377</td>\n",
       "      <td>2019-10-09</td>\n",
       "      <td>True</td>\n",
       "      <td>4</td>\n",
       "      <td>0</td>\n",
       "      <td>22</td>\n",
       "      <td>0</td>\n",
       "    </tr>\n",
       "    <tr>\n",
       "      <th>...</th>\n",
       "      <td>...</td>\n",
       "      <td>...</td>\n",
       "      <td>...</td>\n",
       "      <td>...</td>\n",
       "      <td>...</td>\n",
       "      <td>...</td>\n",
       "      <td>...</td>\n",
       "    </tr>\n",
       "    <tr>\n",
       "      <th>10268</th>\n",
       "      <td>168601</td>\n",
       "      <td>2019-11-26</td>\n",
       "      <td>True</td>\n",
       "      <td>3</td>\n",
       "      <td>0</td>\n",
       "      <td>35</td>\n",
       "      <td>0</td>\n",
       "    </tr>\n",
       "    <tr>\n",
       "      <th>10270</th>\n",
       "      <td>168601</td>\n",
       "      <td>2019-11-27</td>\n",
       "      <td>True</td>\n",
       "      <td>2</td>\n",
       "      <td>0</td>\n",
       "      <td>39</td>\n",
       "      <td>0</td>\n",
       "    </tr>\n",
       "    <tr>\n",
       "      <th>10271</th>\n",
       "      <td>168601</td>\n",
       "      <td>2019-11-28</td>\n",
       "      <td>True</td>\n",
       "      <td>1</td>\n",
       "      <td>0</td>\n",
       "      <td>19</td>\n",
       "      <td>0</td>\n",
       "    </tr>\n",
       "    <tr>\n",
       "      <th>10273</th>\n",
       "      <td>168606</td>\n",
       "      <td>2019-11-08</td>\n",
       "      <td>True</td>\n",
       "      <td>7</td>\n",
       "      <td>0</td>\n",
       "      <td>128</td>\n",
       "      <td>1</td>\n",
       "    </tr>\n",
       "    <tr>\n",
       "      <th>10274</th>\n",
       "      <td>168606</td>\n",
       "      <td>2019-11-19</td>\n",
       "      <td>True</td>\n",
       "      <td>2</td>\n",
       "      <td>0</td>\n",
       "      <td>64</td>\n",
       "      <td>0</td>\n",
       "    </tr>\n",
       "  </tbody>\n",
       "</table>\n",
       "<p>5029 rows × 7 columns</p>\n",
       "</div>"
      ],
      "text/plain": [
       "       user_id        date  is_missed_call  calls_count_sum  \\\n",
       "1       166377  2019-10-02            True                3   \n",
       "3       166377  2019-10-03            True                2   \n",
       "5       166377  2019-10-07            True                2   \n",
       "7       166377  2019-10-08            True                1   \n",
       "8       166377  2019-10-09            True                4   \n",
       "...        ...         ...             ...              ...   \n",
       "10268   168601  2019-11-26            True                3   \n",
       "10270   168601  2019-11-27            True                2   \n",
       "10271   168601  2019-11-28            True                1   \n",
       "10273   168606  2019-11-08            True                7   \n",
       "10274   168606  2019-11-19            True                2   \n",
       "\n",
       "       call_duration_sum  total_call_duration_sum  operator_id_count  \n",
       "1                      0                       86                  0  \n",
       "3                      0                       60                  0  \n",
       "5                      0                       71                  0  \n",
       "7                      0                        6                  0  \n",
       "8                      0                       22                  0  \n",
       "...                  ...                      ...                ...  \n",
       "10268                  0                       35                  0  \n",
       "10270                  0                       39                  0  \n",
       "10271                  0                       19                  0  \n",
       "10273                  0                      128                  1  \n",
       "10274                  0                       64                  0  \n",
       "\n",
       "[5029 rows x 7 columns]"
      ]
     },
     "execution_count": 64,
     "metadata": {},
     "output_type": "execute_result"
    }
   ],
   "source": [
    "df_in_group_miss = df_in_group.query('is_missed_call != False')\n",
    "df_in_group_miss"
   ]
  },
  {
   "cell_type": "code",
   "execution_count": 65,
   "metadata": {},
   "outputs": [
    {
     "data": {
      "text/html": [
       "<div>\n",
       "<style scoped>\n",
       "    .dataframe tbody tr th:only-of-type {\n",
       "        vertical-align: middle;\n",
       "    }\n",
       "\n",
       "    .dataframe tbody tr th {\n",
       "        vertical-align: top;\n",
       "    }\n",
       "\n",
       "    .dataframe thead th {\n",
       "        text-align: right;\n",
       "    }\n",
       "</style>\n",
       "<table border=\"1\" class=\"dataframe\">\n",
       "  <thead>\n",
       "    <tr style=\"text-align: right;\">\n",
       "      <th></th>\n",
       "      <th>user_id</th>\n",
       "      <th>date</th>\n",
       "      <th>is_missed_call_x</th>\n",
       "      <th>calls_count_sum_x</th>\n",
       "      <th>call_duration_sum_x</th>\n",
       "      <th>total_call_duration_sum_x</th>\n",
       "      <th>operator_id_count_x</th>\n",
       "      <th>is_missed_call_y</th>\n",
       "      <th>calls_count_sum_y</th>\n",
       "      <th>call_duration_sum_y</th>\n",
       "      <th>total_call_duration_sum_y</th>\n",
       "      <th>operator_id_count_y</th>\n",
       "      <th>dlit_zvonka</th>\n",
       "      <th>chislo_zvonkov_oper</th>\n",
       "    </tr>\n",
       "  </thead>\n",
       "  <tbody>\n",
       "    <tr>\n",
       "      <th>0</th>\n",
       "      <td>166377</td>\n",
       "      <td>2019-10-02</td>\n",
       "      <td>True</td>\n",
       "      <td>3</td>\n",
       "      <td>0</td>\n",
       "      <td>86</td>\n",
       "      <td>0</td>\n",
       "      <td>False</td>\n",
       "      <td>3.0</td>\n",
       "      <td>556.0</td>\n",
       "      <td>568.0</td>\n",
       "      <td>1.0</td>\n",
       "      <td>185.333333</td>\n",
       "      <td>3.0</td>\n",
       "    </tr>\n",
       "    <tr>\n",
       "      <th>1</th>\n",
       "      <td>166377</td>\n",
       "      <td>2019-10-03</td>\n",
       "      <td>True</td>\n",
       "      <td>2</td>\n",
       "      <td>0</td>\n",
       "      <td>60</td>\n",
       "      <td>0</td>\n",
       "      <td>False</td>\n",
       "      <td>2.0</td>\n",
       "      <td>133.0</td>\n",
       "      <td>140.0</td>\n",
       "      <td>1.0</td>\n",
       "      <td>66.500000</td>\n",
       "      <td>2.0</td>\n",
       "    </tr>\n",
       "    <tr>\n",
       "      <th>2</th>\n",
       "      <td>166377</td>\n",
       "      <td>2019-10-07</td>\n",
       "      <td>True</td>\n",
       "      <td>2</td>\n",
       "      <td>0</td>\n",
       "      <td>71</td>\n",
       "      <td>0</td>\n",
       "      <td>False</td>\n",
       "      <td>1.0</td>\n",
       "      <td>19.0</td>\n",
       "      <td>31.0</td>\n",
       "      <td>1.0</td>\n",
       "      <td>19.000000</td>\n",
       "      <td>1.0</td>\n",
       "    </tr>\n",
       "    <tr>\n",
       "      <th>3</th>\n",
       "      <td>166377</td>\n",
       "      <td>2019-10-08</td>\n",
       "      <td>True</td>\n",
       "      <td>1</td>\n",
       "      <td>0</td>\n",
       "      <td>6</td>\n",
       "      <td>0</td>\n",
       "      <td>False</td>\n",
       "      <td>1.0</td>\n",
       "      <td>18.0</td>\n",
       "      <td>25.0</td>\n",
       "      <td>1.0</td>\n",
       "      <td>18.000000</td>\n",
       "      <td>1.0</td>\n",
       "    </tr>\n",
       "    <tr>\n",
       "      <th>4</th>\n",
       "      <td>166377</td>\n",
       "      <td>2019-10-09</td>\n",
       "      <td>True</td>\n",
       "      <td>4</td>\n",
       "      <td>0</td>\n",
       "      <td>22</td>\n",
       "      <td>0</td>\n",
       "      <td>NaN</td>\n",
       "      <td>NaN</td>\n",
       "      <td>NaN</td>\n",
       "      <td>NaN</td>\n",
       "      <td>NaN</td>\n",
       "      <td>NaN</td>\n",
       "      <td>NaN</td>\n",
       "    </tr>\n",
       "    <tr>\n",
       "      <th>...</th>\n",
       "      <td>...</td>\n",
       "      <td>...</td>\n",
       "      <td>...</td>\n",
       "      <td>...</td>\n",
       "      <td>...</td>\n",
       "      <td>...</td>\n",
       "      <td>...</td>\n",
       "      <td>...</td>\n",
       "      <td>...</td>\n",
       "      <td>...</td>\n",
       "      <td>...</td>\n",
       "      <td>...</td>\n",
       "      <td>...</td>\n",
       "      <td>...</td>\n",
       "    </tr>\n",
       "    <tr>\n",
       "      <th>5024</th>\n",
       "      <td>168601</td>\n",
       "      <td>2019-11-26</td>\n",
       "      <td>True</td>\n",
       "      <td>3</td>\n",
       "      <td>0</td>\n",
       "      <td>35</td>\n",
       "      <td>0</td>\n",
       "      <td>False</td>\n",
       "      <td>4.0</td>\n",
       "      <td>539.0</td>\n",
       "      <td>562.0</td>\n",
       "      <td>1.0</td>\n",
       "      <td>134.750000</td>\n",
       "      <td>4.0</td>\n",
       "    </tr>\n",
       "    <tr>\n",
       "      <th>5025</th>\n",
       "      <td>168601</td>\n",
       "      <td>2019-11-27</td>\n",
       "      <td>True</td>\n",
       "      <td>2</td>\n",
       "      <td>0</td>\n",
       "      <td>39</td>\n",
       "      <td>0</td>\n",
       "      <td>False</td>\n",
       "      <td>2.0</td>\n",
       "      <td>53.0</td>\n",
       "      <td>77.0</td>\n",
       "      <td>1.0</td>\n",
       "      <td>26.500000</td>\n",
       "      <td>2.0</td>\n",
       "    </tr>\n",
       "    <tr>\n",
       "      <th>5026</th>\n",
       "      <td>168601</td>\n",
       "      <td>2019-11-28</td>\n",
       "      <td>True</td>\n",
       "      <td>1</td>\n",
       "      <td>0</td>\n",
       "      <td>19</td>\n",
       "      <td>0</td>\n",
       "      <td>NaN</td>\n",
       "      <td>NaN</td>\n",
       "      <td>NaN</td>\n",
       "      <td>NaN</td>\n",
       "      <td>NaN</td>\n",
       "      <td>NaN</td>\n",
       "      <td>NaN</td>\n",
       "    </tr>\n",
       "    <tr>\n",
       "      <th>5027</th>\n",
       "      <td>168606</td>\n",
       "      <td>2019-11-08</td>\n",
       "      <td>True</td>\n",
       "      <td>7</td>\n",
       "      <td>0</td>\n",
       "      <td>128</td>\n",
       "      <td>1</td>\n",
       "      <td>False</td>\n",
       "      <td>2.0</td>\n",
       "      <td>686.0</td>\n",
       "      <td>705.0</td>\n",
       "      <td>1.0</td>\n",
       "      <td>343.000000</td>\n",
       "      <td>2.0</td>\n",
       "    </tr>\n",
       "    <tr>\n",
       "      <th>5028</th>\n",
       "      <td>168606</td>\n",
       "      <td>2019-11-19</td>\n",
       "      <td>True</td>\n",
       "      <td>2</td>\n",
       "      <td>0</td>\n",
       "      <td>64</td>\n",
       "      <td>0</td>\n",
       "      <td>NaN</td>\n",
       "      <td>NaN</td>\n",
       "      <td>NaN</td>\n",
       "      <td>NaN</td>\n",
       "      <td>NaN</td>\n",
       "      <td>NaN</td>\n",
       "      <td>NaN</td>\n",
       "    </tr>\n",
       "  </tbody>\n",
       "</table>\n",
       "<p>5029 rows × 14 columns</p>\n",
       "</div>"
      ],
      "text/plain": [
       "      user_id        date  is_missed_call_x  calls_count_sum_x  \\\n",
       "0      166377  2019-10-02              True                  3   \n",
       "1      166377  2019-10-03              True                  2   \n",
       "2      166377  2019-10-07              True                  2   \n",
       "3      166377  2019-10-08              True                  1   \n",
       "4      166377  2019-10-09              True                  4   \n",
       "...       ...         ...               ...                ...   \n",
       "5024   168601  2019-11-26              True                  3   \n",
       "5025   168601  2019-11-27              True                  2   \n",
       "5026   168601  2019-11-28              True                  1   \n",
       "5027   168606  2019-11-08              True                  7   \n",
       "5028   168606  2019-11-19              True                  2   \n",
       "\n",
       "      call_duration_sum_x  total_call_duration_sum_x  operator_id_count_x  \\\n",
       "0                       0                         86                    0   \n",
       "1                       0                         60                    0   \n",
       "2                       0                         71                    0   \n",
       "3                       0                          6                    0   \n",
       "4                       0                         22                    0   \n",
       "...                   ...                        ...                  ...   \n",
       "5024                    0                         35                    0   \n",
       "5025                    0                         39                    0   \n",
       "5026                    0                         19                    0   \n",
       "5027                    0                        128                    1   \n",
       "5028                    0                         64                    0   \n",
       "\n",
       "     is_missed_call_y  calls_count_sum_y  call_duration_sum_y  \\\n",
       "0               False                3.0                556.0   \n",
       "1               False                2.0                133.0   \n",
       "2               False                1.0                 19.0   \n",
       "3               False                1.0                 18.0   \n",
       "4                 NaN                NaN                  NaN   \n",
       "...               ...                ...                  ...   \n",
       "5024            False                4.0                539.0   \n",
       "5025            False                2.0                 53.0   \n",
       "5026              NaN                NaN                  NaN   \n",
       "5027            False                2.0                686.0   \n",
       "5028              NaN                NaN                  NaN   \n",
       "\n",
       "      total_call_duration_sum_y  operator_id_count_y  dlit_zvonka  \\\n",
       "0                         568.0                  1.0   185.333333   \n",
       "1                         140.0                  1.0    66.500000   \n",
       "2                          31.0                  1.0    19.000000   \n",
       "3                          25.0                  1.0    18.000000   \n",
       "4                           NaN                  NaN          NaN   \n",
       "...                         ...                  ...          ...   \n",
       "5024                      562.0                  1.0   134.750000   \n",
       "5025                       77.0                  1.0    26.500000   \n",
       "5026                        NaN                  NaN          NaN   \n",
       "5027                      705.0                  1.0   343.000000   \n",
       "5028                        NaN                  NaN          NaN   \n",
       "\n",
       "      chislo_zvonkov_oper  \n",
       "0                     3.0  \n",
       "1                     2.0  \n",
       "2                     1.0  \n",
       "3                     1.0  \n",
       "4                     NaN  \n",
       "...                   ...  \n",
       "5024                  4.0  \n",
       "5025                  2.0  \n",
       "5026                  NaN  \n",
       "5027                  2.0  \n",
       "5028                  NaN  \n",
       "\n",
       "[5029 rows x 14 columns]"
      ]
     },
     "execution_count": 65,
     "metadata": {},
     "output_type": "execute_result"
    }
   ],
   "source": [
    "in_false_true = df_in_group_miss.merge(in_group_no_miss, left_on=['user_id', 'date'], right_on=['user_id', 'date'], how='left')\n",
    "in_false_true"
   ]
  },
  {
   "cell_type": "markdown",
   "metadata": {},
   "source": [
    "При совмещении 2-х датасетов, мы видим пропуски. Причем есть пропущенные звонки, но в столбце is_missed_call_y значение NaN - операторы не работали в это время, поэтому далим эти значения."
   ]
  },
  {
   "cell_type": "code",
   "execution_count": 66,
   "metadata": {},
   "outputs": [
    {
     "data": {
      "text/html": [
       "<div>\n",
       "<style scoped>\n",
       "    .dataframe tbody tr th:only-of-type {\n",
       "        vertical-align: middle;\n",
       "    }\n",
       "\n",
       "    .dataframe tbody tr th {\n",
       "        vertical-align: top;\n",
       "    }\n",
       "\n",
       "    .dataframe thead th {\n",
       "        text-align: right;\n",
       "    }\n",
       "</style>\n",
       "<table border=\"1\" class=\"dataframe\">\n",
       "  <thead>\n",
       "    <tr style=\"text-align: right;\">\n",
       "      <th></th>\n",
       "      <th>user_id</th>\n",
       "      <th>date</th>\n",
       "      <th>is_missed_call_x</th>\n",
       "      <th>calls_count_sum_x</th>\n",
       "      <th>call_duration_sum_x</th>\n",
       "      <th>total_call_duration_sum_x</th>\n",
       "      <th>operator_id_count_x</th>\n",
       "      <th>is_missed_call_y</th>\n",
       "      <th>calls_count_sum_y</th>\n",
       "      <th>call_duration_sum_y</th>\n",
       "      <th>total_call_duration_sum_y</th>\n",
       "      <th>operator_id_count_y</th>\n",
       "      <th>dlit_zvonka</th>\n",
       "      <th>chislo_zvonkov_oper</th>\n",
       "    </tr>\n",
       "  </thead>\n",
       "  <tbody>\n",
       "    <tr>\n",
       "      <th>0</th>\n",
       "      <td>166377</td>\n",
       "      <td>2019-10-02</td>\n",
       "      <td>True</td>\n",
       "      <td>3</td>\n",
       "      <td>0</td>\n",
       "      <td>86</td>\n",
       "      <td>0</td>\n",
       "      <td>False</td>\n",
       "      <td>3.0</td>\n",
       "      <td>556.0</td>\n",
       "      <td>568.0</td>\n",
       "      <td>1.0</td>\n",
       "      <td>185.333333</td>\n",
       "      <td>3.0</td>\n",
       "    </tr>\n",
       "    <tr>\n",
       "      <th>1</th>\n",
       "      <td>166377</td>\n",
       "      <td>2019-10-03</td>\n",
       "      <td>True</td>\n",
       "      <td>2</td>\n",
       "      <td>0</td>\n",
       "      <td>60</td>\n",
       "      <td>0</td>\n",
       "      <td>False</td>\n",
       "      <td>2.0</td>\n",
       "      <td>133.0</td>\n",
       "      <td>140.0</td>\n",
       "      <td>1.0</td>\n",
       "      <td>66.500000</td>\n",
       "      <td>2.0</td>\n",
       "    </tr>\n",
       "    <tr>\n",
       "      <th>2</th>\n",
       "      <td>166377</td>\n",
       "      <td>2019-10-07</td>\n",
       "      <td>True</td>\n",
       "      <td>2</td>\n",
       "      <td>0</td>\n",
       "      <td>71</td>\n",
       "      <td>0</td>\n",
       "      <td>False</td>\n",
       "      <td>1.0</td>\n",
       "      <td>19.0</td>\n",
       "      <td>31.0</td>\n",
       "      <td>1.0</td>\n",
       "      <td>19.000000</td>\n",
       "      <td>1.0</td>\n",
       "    </tr>\n",
       "    <tr>\n",
       "      <th>3</th>\n",
       "      <td>166377</td>\n",
       "      <td>2019-10-08</td>\n",
       "      <td>True</td>\n",
       "      <td>1</td>\n",
       "      <td>0</td>\n",
       "      <td>6</td>\n",
       "      <td>0</td>\n",
       "      <td>False</td>\n",
       "      <td>1.0</td>\n",
       "      <td>18.0</td>\n",
       "      <td>25.0</td>\n",
       "      <td>1.0</td>\n",
       "      <td>18.000000</td>\n",
       "      <td>1.0</td>\n",
       "    </tr>\n",
       "    <tr>\n",
       "      <th>6</th>\n",
       "      <td>166377</td>\n",
       "      <td>2019-10-15</td>\n",
       "      <td>True</td>\n",
       "      <td>1</td>\n",
       "      <td>0</td>\n",
       "      <td>1</td>\n",
       "      <td>0</td>\n",
       "      <td>False</td>\n",
       "      <td>1.0</td>\n",
       "      <td>13.0</td>\n",
       "      <td>31.0</td>\n",
       "      <td>1.0</td>\n",
       "      <td>13.000000</td>\n",
       "      <td>1.0</td>\n",
       "    </tr>\n",
       "  </tbody>\n",
       "</table>\n",
       "</div>"
      ],
      "text/plain": [
       "   user_id        date  is_missed_call_x  calls_count_sum_x  \\\n",
       "0   166377  2019-10-02              True                  3   \n",
       "1   166377  2019-10-03              True                  2   \n",
       "2   166377  2019-10-07              True                  2   \n",
       "3   166377  2019-10-08              True                  1   \n",
       "6   166377  2019-10-15              True                  1   \n",
       "\n",
       "   call_duration_sum_x  total_call_duration_sum_x  operator_id_count_x  \\\n",
       "0                    0                         86                    0   \n",
       "1                    0                         60                    0   \n",
       "2                    0                         71                    0   \n",
       "3                    0                          6                    0   \n",
       "6                    0                          1                    0   \n",
       "\n",
       "   is_missed_call_y  calls_count_sum_y  call_duration_sum_y  \\\n",
       "0             False                3.0                556.0   \n",
       "1             False                2.0                133.0   \n",
       "2             False                1.0                 19.0   \n",
       "3             False                1.0                 18.0   \n",
       "6             False                1.0                 13.0   \n",
       "\n",
       "   total_call_duration_sum_y  operator_id_count_y  dlit_zvonka  \\\n",
       "0                      568.0                  1.0   185.333333   \n",
       "1                      140.0                  1.0    66.500000   \n",
       "2                       31.0                  1.0    19.000000   \n",
       "3                       25.0                  1.0    18.000000   \n",
       "6                       31.0                  1.0    13.000000   \n",
       "\n",
       "   chislo_zvonkov_oper  \n",
       "0                  3.0  \n",
       "1                  2.0  \n",
       "2                  1.0  \n",
       "3                  1.0  \n",
       "6                  1.0  "
      ]
     },
     "execution_count": 66,
     "metadata": {},
     "output_type": "execute_result"
    }
   ],
   "source": [
    "in_false_true['is_missed_call_y'] = in_false_true['is_missed_call_y'].fillna(True)\n",
    "in_false_true_missed_nan = in_false_true.query('is_missed_call_y != True')\n",
    "in_false_true_missed_nan.head(5)"
   ]
  },
  {
   "cell_type": "code",
   "execution_count": 67,
   "metadata": {},
   "outputs": [],
   "source": [
    "in_missed_nan = in_false_true_missed_nan.loc[:, ['user_id', 'date', 'calls_count_sum_x', 'total_call_duration_sum_x', 'calls_count_sum_y', 'operator_id_count_y', 'dlit_zvonka', 'chislo_zvonkov_oper']]"
   ]
  },
  {
   "cell_type": "markdown",
   "metadata": {},
   "source": [
    "Определим отношение принятых вызовов к пропущенным для одного оператора"
   ]
  },
  {
   "cell_type": "code",
   "execution_count": 68,
   "metadata": {},
   "outputs": [],
   "source": [
    "in_missed_nan['call_miss'] = in_missed_nan['calls_count_sum_y'] / (in_missed_nan['calls_count_sum_x'] * in_missed_nan['operator_id_count_y'])"
   ]
  },
  {
   "cell_type": "code",
   "execution_count": 69,
   "metadata": {},
   "outputs": [
    {
     "data": {
      "text/html": [
       "<div>\n",
       "<style scoped>\n",
       "    .dataframe tbody tr th:only-of-type {\n",
       "        vertical-align: middle;\n",
       "    }\n",
       "\n",
       "    .dataframe tbody tr th {\n",
       "        vertical-align: top;\n",
       "    }\n",
       "\n",
       "    .dataframe thead th {\n",
       "        text-align: right;\n",
       "    }\n",
       "</style>\n",
       "<table border=\"1\" class=\"dataframe\">\n",
       "  <thead>\n",
       "    <tr style=\"text-align: right;\">\n",
       "      <th></th>\n",
       "      <th>user_id</th>\n",
       "      <th>date</th>\n",
       "      <th>calls_count_sum_x</th>\n",
       "      <th>total_call_duration_sum_x</th>\n",
       "      <th>calls_count_sum_y</th>\n",
       "      <th>operator_id_count_y</th>\n",
       "      <th>dlit_zvonka</th>\n",
       "      <th>chislo_zvonkov_oper</th>\n",
       "      <th>call_miss</th>\n",
       "    </tr>\n",
       "  </thead>\n",
       "  <tbody>\n",
       "    <tr>\n",
       "      <th>0</th>\n",
       "      <td>166377</td>\n",
       "      <td>2019-10-02</td>\n",
       "      <td>3</td>\n",
       "      <td>86</td>\n",
       "      <td>3.0</td>\n",
       "      <td>1.0</td>\n",
       "      <td>185.333333</td>\n",
       "      <td>3.0</td>\n",
       "      <td>1.000000</td>\n",
       "    </tr>\n",
       "    <tr>\n",
       "      <th>1</th>\n",
       "      <td>166377</td>\n",
       "      <td>2019-10-03</td>\n",
       "      <td>2</td>\n",
       "      <td>60</td>\n",
       "      <td>2.0</td>\n",
       "      <td>1.0</td>\n",
       "      <td>66.500000</td>\n",
       "      <td>2.0</td>\n",
       "      <td>1.000000</td>\n",
       "    </tr>\n",
       "    <tr>\n",
       "      <th>2</th>\n",
       "      <td>166377</td>\n",
       "      <td>2019-10-07</td>\n",
       "      <td>2</td>\n",
       "      <td>71</td>\n",
       "      <td>1.0</td>\n",
       "      <td>1.0</td>\n",
       "      <td>19.000000</td>\n",
       "      <td>1.0</td>\n",
       "      <td>0.500000</td>\n",
       "    </tr>\n",
       "    <tr>\n",
       "      <th>3</th>\n",
       "      <td>166377</td>\n",
       "      <td>2019-10-08</td>\n",
       "      <td>1</td>\n",
       "      <td>6</td>\n",
       "      <td>1.0</td>\n",
       "      <td>1.0</td>\n",
       "      <td>18.000000</td>\n",
       "      <td>1.0</td>\n",
       "      <td>1.000000</td>\n",
       "    </tr>\n",
       "    <tr>\n",
       "      <th>6</th>\n",
       "      <td>166377</td>\n",
       "      <td>2019-10-15</td>\n",
       "      <td>1</td>\n",
       "      <td>1</td>\n",
       "      <td>1.0</td>\n",
       "      <td>1.0</td>\n",
       "      <td>13.000000</td>\n",
       "      <td>1.0</td>\n",
       "      <td>1.000000</td>\n",
       "    </tr>\n",
       "    <tr>\n",
       "      <th>...</th>\n",
       "      <td>...</td>\n",
       "      <td>...</td>\n",
       "      <td>...</td>\n",
       "      <td>...</td>\n",
       "      <td>...</td>\n",
       "      <td>...</td>\n",
       "      <td>...</td>\n",
       "      <td>...</td>\n",
       "      <td>...</td>\n",
       "    </tr>\n",
       "    <tr>\n",
       "      <th>5019</th>\n",
       "      <td>168601</td>\n",
       "      <td>2019-11-15</td>\n",
       "      <td>2</td>\n",
       "      <td>71</td>\n",
       "      <td>10.0</td>\n",
       "      <td>1.0</td>\n",
       "      <td>95.500000</td>\n",
       "      <td>10.0</td>\n",
       "      <td>5.000000</td>\n",
       "    </tr>\n",
       "    <tr>\n",
       "      <th>5023</th>\n",
       "      <td>168601</td>\n",
       "      <td>2019-11-25</td>\n",
       "      <td>1</td>\n",
       "      <td>28</td>\n",
       "      <td>7.0</td>\n",
       "      <td>1.0</td>\n",
       "      <td>175.571429</td>\n",
       "      <td>7.0</td>\n",
       "      <td>7.000000</td>\n",
       "    </tr>\n",
       "    <tr>\n",
       "      <th>5024</th>\n",
       "      <td>168601</td>\n",
       "      <td>2019-11-26</td>\n",
       "      <td>3</td>\n",
       "      <td>35</td>\n",
       "      <td>4.0</td>\n",
       "      <td>1.0</td>\n",
       "      <td>134.750000</td>\n",
       "      <td>4.0</td>\n",
       "      <td>1.333333</td>\n",
       "    </tr>\n",
       "    <tr>\n",
       "      <th>5025</th>\n",
       "      <td>168601</td>\n",
       "      <td>2019-11-27</td>\n",
       "      <td>2</td>\n",
       "      <td>39</td>\n",
       "      <td>2.0</td>\n",
       "      <td>1.0</td>\n",
       "      <td>26.500000</td>\n",
       "      <td>2.0</td>\n",
       "      <td>1.000000</td>\n",
       "    </tr>\n",
       "    <tr>\n",
       "      <th>5027</th>\n",
       "      <td>168606</td>\n",
       "      <td>2019-11-08</td>\n",
       "      <td>7</td>\n",
       "      <td>128</td>\n",
       "      <td>2.0</td>\n",
       "      <td>1.0</td>\n",
       "      <td>343.000000</td>\n",
       "      <td>2.0</td>\n",
       "      <td>0.285714</td>\n",
       "    </tr>\n",
       "  </tbody>\n",
       "</table>\n",
       "<p>3438 rows × 9 columns</p>\n",
       "</div>"
      ],
      "text/plain": [
       "      user_id        date  calls_count_sum_x  total_call_duration_sum_x  \\\n",
       "0      166377  2019-10-02                  3                         86   \n",
       "1      166377  2019-10-03                  2                         60   \n",
       "2      166377  2019-10-07                  2                         71   \n",
       "3      166377  2019-10-08                  1                          6   \n",
       "6      166377  2019-10-15                  1                          1   \n",
       "...       ...         ...                ...                        ...   \n",
       "5019   168601  2019-11-15                  2                         71   \n",
       "5023   168601  2019-11-25                  1                         28   \n",
       "5024   168601  2019-11-26                  3                         35   \n",
       "5025   168601  2019-11-27                  2                         39   \n",
       "5027   168606  2019-11-08                  7                        128   \n",
       "\n",
       "      calls_count_sum_y  operator_id_count_y  dlit_zvonka  \\\n",
       "0                   3.0                  1.0   185.333333   \n",
       "1                   2.0                  1.0    66.500000   \n",
       "2                   1.0                  1.0    19.000000   \n",
       "3                   1.0                  1.0    18.000000   \n",
       "6                   1.0                  1.0    13.000000   \n",
       "...                 ...                  ...          ...   \n",
       "5019               10.0                  1.0    95.500000   \n",
       "5023                7.0                  1.0   175.571429   \n",
       "5024                4.0                  1.0   134.750000   \n",
       "5025                2.0                  1.0    26.500000   \n",
       "5027                2.0                  1.0   343.000000   \n",
       "\n",
       "      chislo_zvonkov_oper  call_miss  \n",
       "0                     3.0   1.000000  \n",
       "1                     2.0   1.000000  \n",
       "2                     1.0   0.500000  \n",
       "3                     1.0   1.000000  \n",
       "6                     1.0   1.000000  \n",
       "...                   ...        ...  \n",
       "5019                 10.0   5.000000  \n",
       "5023                  7.0   7.000000  \n",
       "5024                  4.0   1.333333  \n",
       "5025                  2.0   1.000000  \n",
       "5027                  2.0   0.285714  \n",
       "\n",
       "[3438 rows x 9 columns]"
      ]
     },
     "execution_count": 69,
     "metadata": {},
     "output_type": "execute_result"
    }
   ],
   "source": [
    "in_missed_nan"
   ]
  },
  {
   "cell_type": "code",
   "execution_count": 70,
   "metadata": {},
   "outputs": [
    {
     "data": {
      "image/png": "[encoded data removed]",
      "text/plain": [
       "<Figure size 1080x648 with 1 Axes>"
      ]
     },
     "metadata": {
      "needs_background": "light"
     },
     "output_type": "display_data"
    }
   ],
   "source": [
    "in_missed_nan.hist('call_miss', bins=200, figsize=(15, 9));"
   ]
  },
  {
   "cell_type": "markdown",
   "metadata": {},
   "source": [
    "Посмотрим на выбросы"
   ]
  },
  {
   "cell_type": "code",
   "execution_count": 71,
   "metadata": {},
   "outputs": [
    {
     "data": {
      "text/plain": [
       "count    3438.000000\n",
       "mean        2.686428\n",
       "std         9.102193\n",
       "min         0.002230\n",
       "25%         0.500000\n",
       "50%         1.077935\n",
       "75%         2.550000\n",
       "max       234.000000\n",
       "Name: call_miss, dtype: float64"
      ]
     },
     "execution_count": 71,
     "metadata": {},
     "output_type": "execute_result"
    }
   ],
   "source": [
    "in_missed_nan['call_miss'].describe()"
   ]
  },
  {
   "cell_type": "code",
   "execution_count": 72,
   "metadata": {},
   "outputs": [
    {
     "data": {
      "text/plain": [
       "0.13590909090909098"
      ]
     },
     "execution_count": 72,
     "metadata": {},
     "output_type": "execute_result"
    }
   ],
   "source": [
    "p5_missed = np.percentile(in_missed_nan['call_miss'], [5])[0]\n",
    "p5_missed"
   ]
  },
  {
   "cell_type": "code",
   "execution_count": 73,
   "metadata": {},
   "outputs": [
    {
     "data": {
      "text/plain": [
       "8.0"
      ]
     },
     "execution_count": 73,
     "metadata": {},
     "output_type": "execute_result"
    }
   ],
   "source": [
    "p95_missed = np.percentile(in_missed_nan['call_miss'], [95])[0]\n",
    "p95_missed"
   ]
  },
  {
   "cell_type": "code",
   "execution_count": 74,
   "metadata": {},
   "outputs": [
    {
     "data": {
      "text/html": [
       "<div>\n",
       "<style scoped>\n",
       "    .dataframe tbody tr th:only-of-type {\n",
       "        vertical-align: middle;\n",
       "    }\n",
       "\n",
       "    .dataframe tbody tr th {\n",
       "        vertical-align: top;\n",
       "    }\n",
       "\n",
       "    .dataframe thead th {\n",
       "        text-align: right;\n",
       "    }\n",
       "</style>\n",
       "<table border=\"1\" class=\"dataframe\">\n",
       "  <thead>\n",
       "    <tr style=\"text-align: right;\">\n",
       "      <th></th>\n",
       "      <th>user_id</th>\n",
       "      <th>date</th>\n",
       "      <th>calls_count_sum_x</th>\n",
       "      <th>total_call_duration_sum_x</th>\n",
       "      <th>calls_count_sum_y</th>\n",
       "      <th>operator_id_count_y</th>\n",
       "      <th>dlit_zvonka</th>\n",
       "      <th>chislo_zvonkov_oper</th>\n",
       "      <th>call_miss</th>\n",
       "    </tr>\n",
       "  </thead>\n",
       "  <tbody>\n",
       "    <tr>\n",
       "      <th>0</th>\n",
       "      <td>166377</td>\n",
       "      <td>2019-10-02</td>\n",
       "      <td>3</td>\n",
       "      <td>86</td>\n",
       "      <td>3.0</td>\n",
       "      <td>1.0</td>\n",
       "      <td>185.333333</td>\n",
       "      <td>3.0</td>\n",
       "      <td>1.000000</td>\n",
       "    </tr>\n",
       "    <tr>\n",
       "      <th>1</th>\n",
       "      <td>166377</td>\n",
       "      <td>2019-10-03</td>\n",
       "      <td>2</td>\n",
       "      <td>60</td>\n",
       "      <td>2.0</td>\n",
       "      <td>1.0</td>\n",
       "      <td>66.500000</td>\n",
       "      <td>2.0</td>\n",
       "      <td>1.000000</td>\n",
       "    </tr>\n",
       "    <tr>\n",
       "      <th>2</th>\n",
       "      <td>166377</td>\n",
       "      <td>2019-10-07</td>\n",
       "      <td>2</td>\n",
       "      <td>71</td>\n",
       "      <td>1.0</td>\n",
       "      <td>1.0</td>\n",
       "      <td>19.000000</td>\n",
       "      <td>1.0</td>\n",
       "      <td>0.500000</td>\n",
       "    </tr>\n",
       "    <tr>\n",
       "      <th>3</th>\n",
       "      <td>166377</td>\n",
       "      <td>2019-10-08</td>\n",
       "      <td>1</td>\n",
       "      <td>6</td>\n",
       "      <td>1.0</td>\n",
       "      <td>1.0</td>\n",
       "      <td>18.000000</td>\n",
       "      <td>1.0</td>\n",
       "      <td>1.000000</td>\n",
       "    </tr>\n",
       "    <tr>\n",
       "      <th>6</th>\n",
       "      <td>166377</td>\n",
       "      <td>2019-10-15</td>\n",
       "      <td>1</td>\n",
       "      <td>1</td>\n",
       "      <td>1.0</td>\n",
       "      <td>1.0</td>\n",
       "      <td>13.000000</td>\n",
       "      <td>1.0</td>\n",
       "      <td>1.000000</td>\n",
       "    </tr>\n",
       "    <tr>\n",
       "      <th>...</th>\n",
       "      <td>...</td>\n",
       "      <td>...</td>\n",
       "      <td>...</td>\n",
       "      <td>...</td>\n",
       "      <td>...</td>\n",
       "      <td>...</td>\n",
       "      <td>...</td>\n",
       "      <td>...</td>\n",
       "      <td>...</td>\n",
       "    </tr>\n",
       "    <tr>\n",
       "      <th>5019</th>\n",
       "      <td>168601</td>\n",
       "      <td>2019-11-15</td>\n",
       "      <td>2</td>\n",
       "      <td>71</td>\n",
       "      <td>10.0</td>\n",
       "      <td>1.0</td>\n",
       "      <td>95.500000</td>\n",
       "      <td>10.0</td>\n",
       "      <td>5.000000</td>\n",
       "    </tr>\n",
       "    <tr>\n",
       "      <th>5023</th>\n",
       "      <td>168601</td>\n",
       "      <td>2019-11-25</td>\n",
       "      <td>1</td>\n",
       "      <td>28</td>\n",
       "      <td>7.0</td>\n",
       "      <td>1.0</td>\n",
       "      <td>175.571429</td>\n",
       "      <td>7.0</td>\n",
       "      <td>7.000000</td>\n",
       "    </tr>\n",
       "    <tr>\n",
       "      <th>5024</th>\n",
       "      <td>168601</td>\n",
       "      <td>2019-11-26</td>\n",
       "      <td>3</td>\n",
       "      <td>35</td>\n",
       "      <td>4.0</td>\n",
       "      <td>1.0</td>\n",
       "      <td>134.750000</td>\n",
       "      <td>4.0</td>\n",
       "      <td>1.333333</td>\n",
       "    </tr>\n",
       "    <tr>\n",
       "      <th>5025</th>\n",
       "      <td>168601</td>\n",
       "      <td>2019-11-27</td>\n",
       "      <td>2</td>\n",
       "      <td>39</td>\n",
       "      <td>2.0</td>\n",
       "      <td>1.0</td>\n",
       "      <td>26.500000</td>\n",
       "      <td>2.0</td>\n",
       "      <td>1.000000</td>\n",
       "    </tr>\n",
       "    <tr>\n",
       "      <th>5027</th>\n",
       "      <td>168606</td>\n",
       "      <td>2019-11-08</td>\n",
       "      <td>7</td>\n",
       "      <td>128</td>\n",
       "      <td>2.0</td>\n",
       "      <td>1.0</td>\n",
       "      <td>343.000000</td>\n",
       "      <td>2.0</td>\n",
       "      <td>0.285714</td>\n",
       "    </tr>\n",
       "  </tbody>\n",
       "</table>\n",
       "<p>3438 rows × 9 columns</p>\n",
       "</div>"
      ],
      "text/plain": [
       "      user_id        date  calls_count_sum_x  total_call_duration_sum_x  \\\n",
       "0      166377  2019-10-02                  3                         86   \n",
       "1      166377  2019-10-03                  2                         60   \n",
       "2      166377  2019-10-07                  2                         71   \n",
       "3      166377  2019-10-08                  1                          6   \n",
       "6      166377  2019-10-15                  1                          1   \n",
       "...       ...         ...                ...                        ...   \n",
       "5019   168601  2019-11-15                  2                         71   \n",
       "5023   168601  2019-11-25                  1                         28   \n",
       "5024   168601  2019-11-26                  3                         35   \n",
       "5025   168601  2019-11-27                  2                         39   \n",
       "5027   168606  2019-11-08                  7                        128   \n",
       "\n",
       "      calls_count_sum_y  operator_id_count_y  dlit_zvonka  \\\n",
       "0                   3.0                  1.0   185.333333   \n",
       "1                   2.0                  1.0    66.500000   \n",
       "2                   1.0                  1.0    19.000000   \n",
       "3                   1.0                  1.0    18.000000   \n",
       "6                   1.0                  1.0    13.000000   \n",
       "...                 ...                  ...          ...   \n",
       "5019               10.0                  1.0    95.500000   \n",
       "5023                7.0                  1.0   175.571429   \n",
       "5024                4.0                  1.0   134.750000   \n",
       "5025                2.0                  1.0    26.500000   \n",
       "5027                2.0                  1.0   343.000000   \n",
       "\n",
       "      chislo_zvonkov_oper  call_miss  \n",
       "0                     3.0   1.000000  \n",
       "1                     2.0   1.000000  \n",
       "2                     1.0   0.500000  \n",
       "3                     1.0   1.000000  \n",
       "6                     1.0   1.000000  \n",
       "...                   ...        ...  \n",
       "5019                 10.0   5.000000  \n",
       "5023                  7.0   7.000000  \n",
       "5024                  4.0   1.333333  \n",
       "5025                  2.0   1.000000  \n",
       "5027                  2.0   0.285714  \n",
       "\n",
       "[3438 rows x 9 columns]"
      ]
     },
     "execution_count": 74,
     "metadata": {},
     "output_type": "execute_result"
    }
   ],
   "source": [
    "in_missed_nan"
   ]
  },
  {
   "cell_type": "code",
   "execution_count": 75,
   "metadata": {},
   "outputs": [
    {
     "data": {
      "image/png": "[encoded data removed]",
      "text/plain": [
       "<Figure size 432x288 with 1 Axes>"
      ]
     },
     "metadata": {
      "needs_background": "light"
     },
     "output_type": "display_data"
    },
    {
     "data": {
      "image/png": "[encoded data removed]",
      "text/plain": [
       "<Figure size 432x288 with 1 Axes>"
      ]
     },
     "metadata": {
      "needs_background": "light"
     },
     "output_type": "display_data"
    }
   ],
   "source": [
    "in_group_no_miss_new = in_missed_nan.query('@p5_missed < call_miss <= @p95_missed')\n",
    "plt.title('Распределения после чистки выбросов')\n",
    "in_group_no_miss_new.boxplot('call_miss')\n",
    "plt.show()\n",
    "in_group_no_miss_new['call_miss'].hist(bins=10)\n",
    "plt.show();"
   ]
  },
  {
   "cell_type": "code",
   "execution_count": 76,
   "metadata": {},
   "outputs": [
    {
     "data": {
      "text/plain": [
       "count    3101.000000\n",
       "mean        1.782497\n",
       "std         1.682882\n",
       "min         0.136364\n",
       "25%         0.545455\n",
       "50%         1.083333\n",
       "75%         2.333333\n",
       "max         8.000000\n",
       "Name: call_miss, dtype: float64"
      ]
     },
     "execution_count": 76,
     "metadata": {},
     "output_type": "execute_result"
    }
   ],
   "source": [
    "in_group_no_miss_new['call_miss'].describe()"
   ]
  },
  {
   "cell_type": "markdown",
   "metadata": {},
   "source": [
    "Медианное значение отношения принятых звонков к пропущенным составляет 1. Хороший показатель если это отношение больше 2-х и плохой показатель, если число пропущенных звонков в 2 раза больше принятых."
   ]
  },
  {
   "cell_type": "markdown",
   "metadata": {},
   "source": [
    "# Исходящие"
   ]
  },
  {
   "cell_type": "code",
   "execution_count": 77,
   "metadata": {},
   "outputs": [
    {
     "data": {
      "text/html": [
       "<div>\n",
       "<style scoped>\n",
       "    .dataframe tbody tr th:only-of-type {\n",
       "        vertical-align: middle;\n",
       "    }\n",
       "\n",
       "    .dataframe tbody tr th {\n",
       "        vertical-align: top;\n",
       "    }\n",
       "\n",
       "    .dataframe thead th {\n",
       "        text-align: right;\n",
       "    }\n",
       "</style>\n",
       "<table border=\"1\" class=\"dataframe\">\n",
       "  <thead>\n",
       "    <tr style=\"text-align: right;\">\n",
       "      <th></th>\n",
       "      <th>user_id</th>\n",
       "      <th>date</th>\n",
       "      <th>direction</th>\n",
       "      <th>internal</th>\n",
       "      <th>operator_id</th>\n",
       "      <th>is_missed_call</th>\n",
       "      <th>calls_count</th>\n",
       "      <th>call_duration</th>\n",
       "      <th>total_call_duration</th>\n",
       "      <th>day</th>\n",
       "      <th>week</th>\n",
       "      <th>missed_call</th>\n",
       "      <th>call_true</th>\n",
       "    </tr>\n",
       "  </thead>\n",
       "  <tbody>\n",
       "    <tr>\n",
       "      <th>258</th>\n",
       "      <td>166377</td>\n",
       "      <td>2019-09-30</td>\n",
       "      <td>out</td>\n",
       "      <td>False</td>\n",
       "      <td>880020.0</td>\n",
       "      <td>False</td>\n",
       "      <td>4</td>\n",
       "      <td>724</td>\n",
       "      <td>749</td>\n",
       "      <td>30</td>\n",
       "      <td>40</td>\n",
       "      <td>2</td>\n",
       "      <td>2</td>\n",
       "    </tr>\n",
       "    <tr>\n",
       "      <th>259</th>\n",
       "      <td>166377</td>\n",
       "      <td>2019-09-30</td>\n",
       "      <td>out</td>\n",
       "      <td>False</td>\n",
       "      <td>880022.0</td>\n",
       "      <td>False</td>\n",
       "      <td>1</td>\n",
       "      <td>144</td>\n",
       "      <td>146</td>\n",
       "      <td>30</td>\n",
       "      <td>40</td>\n",
       "      <td>2</td>\n",
       "      <td>2</td>\n",
       "    </tr>\n",
       "    <tr>\n",
       "      <th>260</th>\n",
       "      <td>166377</td>\n",
       "      <td>2019-09-30</td>\n",
       "      <td>out</td>\n",
       "      <td>False</td>\n",
       "      <td>880020.0</td>\n",
       "      <td>True</td>\n",
       "      <td>4</td>\n",
       "      <td>0</td>\n",
       "      <td>12</td>\n",
       "      <td>30</td>\n",
       "      <td>40</td>\n",
       "      <td>2</td>\n",
       "      <td>2</td>\n",
       "    </tr>\n",
       "    <tr>\n",
       "      <th>261</th>\n",
       "      <td>166377</td>\n",
       "      <td>2019-10-01</td>\n",
       "      <td>out</td>\n",
       "      <td>False</td>\n",
       "      <td>880026.0</td>\n",
       "      <td>False</td>\n",
       "      <td>19</td>\n",
       "      <td>2023</td>\n",
       "      <td>2155</td>\n",
       "      <td>1</td>\n",
       "      <td>40</td>\n",
       "      <td>2</td>\n",
       "      <td>2</td>\n",
       "    </tr>\n",
       "    <tr>\n",
       "      <th>262</th>\n",
       "      <td>166377</td>\n",
       "      <td>2019-10-01</td>\n",
       "      <td>out</td>\n",
       "      <td>False</td>\n",
       "      <td>880020.0</td>\n",
       "      <td>False</td>\n",
       "      <td>1</td>\n",
       "      <td>106</td>\n",
       "      <td>108</td>\n",
       "      <td>1</td>\n",
       "      <td>40</td>\n",
       "      <td>2</td>\n",
       "      <td>2</td>\n",
       "    </tr>\n",
       "    <tr>\n",
       "      <th>...</th>\n",
       "      <td>...</td>\n",
       "      <td>...</td>\n",
       "      <td>...</td>\n",
       "      <td>...</td>\n",
       "      <td>...</td>\n",
       "      <td>...</td>\n",
       "      <td>...</td>\n",
       "      <td>...</td>\n",
       "      <td>...</td>\n",
       "      <td>...</td>\n",
       "      <td>...</td>\n",
       "      <td>...</td>\n",
       "      <td>...</td>\n",
       "    </tr>\n",
       "    <tr>\n",
       "      <th>48993</th>\n",
       "      <td>168606</td>\n",
       "      <td>2019-11-08</td>\n",
       "      <td>out</td>\n",
       "      <td>False</td>\n",
       "      <td>957922.0</td>\n",
       "      <td>False</td>\n",
       "      <td>2</td>\n",
       "      <td>255</td>\n",
       "      <td>328</td>\n",
       "      <td>8</td>\n",
       "      <td>45</td>\n",
       "      <td>2</td>\n",
       "      <td>2</td>\n",
       "    </tr>\n",
       "    <tr>\n",
       "      <th>48996</th>\n",
       "      <td>168606</td>\n",
       "      <td>2019-11-09</td>\n",
       "      <td>out</td>\n",
       "      <td>False</td>\n",
       "      <td>957922.0</td>\n",
       "      <td>False</td>\n",
       "      <td>4</td>\n",
       "      <td>551</td>\n",
       "      <td>593</td>\n",
       "      <td>9</td>\n",
       "      <td>45</td>\n",
       "      <td>2</td>\n",
       "      <td>2</td>\n",
       "    </tr>\n",
       "    <tr>\n",
       "      <th>48998</th>\n",
       "      <td>168606</td>\n",
       "      <td>2019-11-10</td>\n",
       "      <td>out</td>\n",
       "      <td>True</td>\n",
       "      <td>957922.0</td>\n",
       "      <td>True</td>\n",
       "      <td>1</td>\n",
       "      <td>0</td>\n",
       "      <td>38</td>\n",
       "      <td>10</td>\n",
       "      <td>45</td>\n",
       "      <td>2</td>\n",
       "      <td>2</td>\n",
       "    </tr>\n",
       "    <tr>\n",
       "      <th>48999</th>\n",
       "      <td>168606</td>\n",
       "      <td>2019-11-11</td>\n",
       "      <td>out</td>\n",
       "      <td>True</td>\n",
       "      <td>957922.0</td>\n",
       "      <td>False</td>\n",
       "      <td>2</td>\n",
       "      <td>479</td>\n",
       "      <td>501</td>\n",
       "      <td>11</td>\n",
       "      <td>46</td>\n",
       "      <td>2</td>\n",
       "      <td>2</td>\n",
       "    </tr>\n",
       "    <tr>\n",
       "      <th>49000</th>\n",
       "      <td>168606</td>\n",
       "      <td>2019-11-15</td>\n",
       "      <td>out</td>\n",
       "      <td>True</td>\n",
       "      <td>957922.0</td>\n",
       "      <td>False</td>\n",
       "      <td>4</td>\n",
       "      <td>3130</td>\n",
       "      <td>3190</td>\n",
       "      <td>15</td>\n",
       "      <td>46</td>\n",
       "      <td>2</td>\n",
       "      <td>2</td>\n",
       "    </tr>\n",
       "  </tbody>\n",
       "</table>\n",
       "<p>23250 rows × 13 columns</p>\n",
       "</div>"
      ],
      "text/plain": [
       "       user_id        date direction  internal  operator_id  is_missed_call  \\\n",
       "258     166377  2019-09-30       out     False     880020.0           False   \n",
       "259     166377  2019-09-30       out     False     880022.0           False   \n",
       "260     166377  2019-09-30       out     False     880020.0            True   \n",
       "261     166377  2019-10-01       out     False     880026.0           False   \n",
       "262     166377  2019-10-01       out     False     880020.0           False   \n",
       "...        ...         ...       ...       ...          ...             ...   \n",
       "48993   168606  2019-11-08       out     False     957922.0           False   \n",
       "48996   168606  2019-11-09       out     False     957922.0           False   \n",
       "48998   168606  2019-11-10       out      True     957922.0            True   \n",
       "48999   168606  2019-11-11       out      True     957922.0           False   \n",
       "49000   168606  2019-11-15       out      True     957922.0           False   \n",
       "\n",
       "       calls_count  call_duration  total_call_duration  day  week  \\\n",
       "258              4            724                  749   30    40   \n",
       "259              1            144                  146   30    40   \n",
       "260              4              0                   12   30    40   \n",
       "261             19           2023                 2155    1    40   \n",
       "262              1            106                  108    1    40   \n",
       "...            ...            ...                  ...  ...   ...   \n",
       "48993            2            255                  328    8    45   \n",
       "48996            4            551                  593    9    45   \n",
       "48998            1              0                   38   10    45   \n",
       "48999            2            479                  501   11    46   \n",
       "49000            4           3130                 3190   15    46   \n",
       "\n",
       "       missed_call  call_true  \n",
       "258              2          2  \n",
       "259              2          2  \n",
       "260              2          2  \n",
       "261              2          2  \n",
       "262              2          2  \n",
       "...            ...        ...  \n",
       "48993            2          2  \n",
       "48996            2          2  \n",
       "48998            2          2  \n",
       "48999            2          2  \n",
       "49000            2          2  \n",
       "\n",
       "[23250 rows x 13 columns]"
      ]
     },
     "execution_count": 77,
     "metadata": {},
     "output_type": "execute_result"
    }
   ],
   "source": [
    "out = df.query('direction == \"out\"')\n",
    "out"
   ]
  },
  {
   "cell_type": "code",
   "execution_count": 78,
   "metadata": {},
   "outputs": [],
   "source": [
    "out_loc = out.loc[:, ['user_id', 'date', 'is_missed_call', 'operator_id', \n",
    "                      'calls_count', 'call_duration', 'total_call_duration']]"
   ]
  },
  {
   "cell_type": "code",
   "execution_count": 79,
   "metadata": {},
   "outputs": [],
   "source": [
    "#out.loc[:, ['user_id', 'date', 'is_missed_call', 'operator_id', 'calls_count', 'call_duration', 'total_call_duration']]out_loc['calls_count'].hist(bins=100, figsize=(15, 5));"
   ]
  },
  {
   "cell_type": "markdown",
   "metadata": {},
   "source": [
    "У нас достаточно большой разброс по числу звонков.\n",
    "Разобьем на 2 датасета с исходящими и дозвонившимися и исходящими и не дозвонившимися"
   ]
  },
  {
   "cell_type": "markdown",
   "metadata": {},
   "source": [
    "**Исходящие и не дозвонившиеся**"
   ]
  },
  {
   "cell_type": "code",
   "execution_count": 80,
   "metadata": {},
   "outputs": [
    {
     "data": {
      "text/html": [
       "<div>\n",
       "<style scoped>\n",
       "    .dataframe tbody tr th:only-of-type {\n",
       "        vertical-align: middle;\n",
       "    }\n",
       "\n",
       "    .dataframe tbody tr th {\n",
       "        vertical-align: top;\n",
       "    }\n",
       "\n",
       "    .dataframe thead th {\n",
       "        text-align: right;\n",
       "    }\n",
       "</style>\n",
       "<table border=\"1\" class=\"dataframe\">\n",
       "  <thead>\n",
       "    <tr style=\"text-align: right;\">\n",
       "      <th></th>\n",
       "      <th>user_id</th>\n",
       "      <th>date</th>\n",
       "      <th>is_missed_call</th>\n",
       "      <th>operator_id</th>\n",
       "      <th>calls_count</th>\n",
       "      <th>call_duration</th>\n",
       "      <th>total_call_duration</th>\n",
       "    </tr>\n",
       "  </thead>\n",
       "  <tbody>\n",
       "    <tr>\n",
       "      <th>258</th>\n",
       "      <td>166377</td>\n",
       "      <td>2019-09-30</td>\n",
       "      <td>False</td>\n",
       "      <td>880020.0</td>\n",
       "      <td>4</td>\n",
       "      <td>724</td>\n",
       "      <td>749</td>\n",
       "    </tr>\n",
       "    <tr>\n",
       "      <th>259</th>\n",
       "      <td>166377</td>\n",
       "      <td>2019-09-30</td>\n",
       "      <td>False</td>\n",
       "      <td>880022.0</td>\n",
       "      <td>1</td>\n",
       "      <td>144</td>\n",
       "      <td>146</td>\n",
       "    </tr>\n",
       "    <tr>\n",
       "      <th>261</th>\n",
       "      <td>166377</td>\n",
       "      <td>2019-10-01</td>\n",
       "      <td>False</td>\n",
       "      <td>880026.0</td>\n",
       "      <td>19</td>\n",
       "      <td>2023</td>\n",
       "      <td>2155</td>\n",
       "    </tr>\n",
       "    <tr>\n",
       "      <th>262</th>\n",
       "      <td>166377</td>\n",
       "      <td>2019-10-01</td>\n",
       "      <td>False</td>\n",
       "      <td>880020.0</td>\n",
       "      <td>1</td>\n",
       "      <td>106</td>\n",
       "      <td>108</td>\n",
       "    </tr>\n",
       "    <tr>\n",
       "      <th>268</th>\n",
       "      <td>166377</td>\n",
       "      <td>2019-10-02</td>\n",
       "      <td>False</td>\n",
       "      <td>880028.0</td>\n",
       "      <td>19</td>\n",
       "      <td>1768</td>\n",
       "      <td>1957</td>\n",
       "    </tr>\n",
       "    <tr>\n",
       "      <th>...</th>\n",
       "      <td>...</td>\n",
       "      <td>...</td>\n",
       "      <td>...</td>\n",
       "      <td>...</td>\n",
       "      <td>...</td>\n",
       "      <td>...</td>\n",
       "      <td>...</td>\n",
       "    </tr>\n",
       "    <tr>\n",
       "      <th>48989</th>\n",
       "      <td>168603</td>\n",
       "      <td>2019-11-27</td>\n",
       "      <td>False</td>\n",
       "      <td>959118.0</td>\n",
       "      <td>1</td>\n",
       "      <td>76</td>\n",
       "      <td>99</td>\n",
       "    </tr>\n",
       "    <tr>\n",
       "      <th>48993</th>\n",
       "      <td>168606</td>\n",
       "      <td>2019-11-08</td>\n",
       "      <td>False</td>\n",
       "      <td>957922.0</td>\n",
       "      <td>2</td>\n",
       "      <td>255</td>\n",
       "      <td>328</td>\n",
       "    </tr>\n",
       "    <tr>\n",
       "      <th>48996</th>\n",
       "      <td>168606</td>\n",
       "      <td>2019-11-09</td>\n",
       "      <td>False</td>\n",
       "      <td>957922.0</td>\n",
       "      <td>4</td>\n",
       "      <td>551</td>\n",
       "      <td>593</td>\n",
       "    </tr>\n",
       "    <tr>\n",
       "      <th>48999</th>\n",
       "      <td>168606</td>\n",
       "      <td>2019-11-11</td>\n",
       "      <td>False</td>\n",
       "      <td>957922.0</td>\n",
       "      <td>2</td>\n",
       "      <td>479</td>\n",
       "      <td>501</td>\n",
       "    </tr>\n",
       "    <tr>\n",
       "      <th>49000</th>\n",
       "      <td>168606</td>\n",
       "      <td>2019-11-15</td>\n",
       "      <td>False</td>\n",
       "      <td>957922.0</td>\n",
       "      <td>4</td>\n",
       "      <td>3130</td>\n",
       "      <td>3190</td>\n",
       "    </tr>\n",
       "  </tbody>\n",
       "</table>\n",
       "<p>12494 rows × 7 columns</p>\n",
       "</div>"
      ],
      "text/plain": [
       "       user_id        date  is_missed_call  operator_id  calls_count  \\\n",
       "258     166377  2019-09-30           False     880020.0            4   \n",
       "259     166377  2019-09-30           False     880022.0            1   \n",
       "261     166377  2019-10-01           False     880026.0           19   \n",
       "262     166377  2019-10-01           False     880020.0            1   \n",
       "268     166377  2019-10-02           False     880028.0           19   \n",
       "...        ...         ...             ...          ...          ...   \n",
       "48989   168603  2019-11-27           False     959118.0            1   \n",
       "48993   168606  2019-11-08           False     957922.0            2   \n",
       "48996   168606  2019-11-09           False     957922.0            4   \n",
       "48999   168606  2019-11-11           False     957922.0            2   \n",
       "49000   168606  2019-11-15           False     957922.0            4   \n",
       "\n",
       "       call_duration  total_call_duration  \n",
       "258              724                  749  \n",
       "259              144                  146  \n",
       "261             2023                 2155  \n",
       "262              106                  108  \n",
       "268             1768                 1957  \n",
       "...              ...                  ...  \n",
       "48989             76                   99  \n",
       "48993            255                  328  \n",
       "48996            551                  593  \n",
       "48999            479                  501  \n",
       "49000           3130                 3190  \n",
       "\n",
       "[12494 rows x 7 columns]"
      ]
     },
     "execution_count": 80,
     "metadata": {},
     "output_type": "execute_result"
    }
   ],
   "source": [
    "out_false = out_loc.query('is_missed_call == False')\n",
    "out_false"
   ]
  },
  {
   "cell_type": "code",
   "execution_count": 81,
   "metadata": {},
   "outputs": [
    {
     "data": {
      "image/png": "[encoded data removed]",
      "text/plain": [
       "<Figure size 1080x360 with 1 Axes>"
      ]
     },
     "metadata": {
      "needs_background": "light"
     },
     "output_type": "display_data"
    }
   ],
   "source": [
    "out_false['calls_count'].hist(bins=100, figsize=(15, 5));"
   ]
  },
  {
   "cell_type": "code",
   "execution_count": 82,
   "metadata": {},
   "outputs": [
    {
     "data": {
      "text/html": [
       "<div>\n",
       "<style scoped>\n",
       "    .dataframe tbody tr th:only-of-type {\n",
       "        vertical-align: middle;\n",
       "    }\n",
       "\n",
       "    .dataframe tbody tr th {\n",
       "        vertical-align: top;\n",
       "    }\n",
       "\n",
       "    .dataframe thead th {\n",
       "        text-align: right;\n",
       "    }\n",
       "</style>\n",
       "<table border=\"1\" class=\"dataframe\">\n",
       "  <thead>\n",
       "    <tr style=\"text-align: right;\">\n",
       "      <th></th>\n",
       "      <th>user_id</th>\n",
       "      <th>call_duration</th>\n",
       "      <th>total_call_duration</th>\n",
       "    </tr>\n",
       "  </thead>\n",
       "  <tbody>\n",
       "    <tr>\n",
       "      <th>0</th>\n",
       "      <td>168361</td>\n",
       "      <td>4240574</td>\n",
       "      <td>5015165</td>\n",
       "    </tr>\n",
       "    <tr>\n",
       "      <th>1</th>\n",
       "      <td>166582</td>\n",
       "      <td>3498291</td>\n",
       "      <td>4128189</td>\n",
       "    </tr>\n",
       "    <tr>\n",
       "      <th>2</th>\n",
       "      <td>167626</td>\n",
       "      <td>2224409</td>\n",
       "      <td>2691486</td>\n",
       "    </tr>\n",
       "    <tr>\n",
       "      <th>3</th>\n",
       "      <td>166658</td>\n",
       "      <td>1090781</td>\n",
       "      <td>1144842</td>\n",
       "    </tr>\n",
       "    <tr>\n",
       "      <th>4</th>\n",
       "      <td>167827</td>\n",
       "      <td>675078</td>\n",
       "      <td>859165</td>\n",
       "    </tr>\n",
       "    <tr>\n",
       "      <th>...</th>\n",
       "      <td>...</td>\n",
       "      <td>...</td>\n",
       "      <td>...</td>\n",
       "    </tr>\n",
       "    <tr>\n",
       "      <th>187</th>\n",
       "      <td>166874</td>\n",
       "      <td>8</td>\n",
       "      <td>20</td>\n",
       "    </tr>\n",
       "    <tr>\n",
       "      <th>188</th>\n",
       "      <td>167397</td>\n",
       "      <td>7</td>\n",
       "      <td>14</td>\n",
       "    </tr>\n",
       "    <tr>\n",
       "      <th>189</th>\n",
       "      <td>168500</td>\n",
       "      <td>6</td>\n",
       "      <td>30</td>\n",
       "    </tr>\n",
       "    <tr>\n",
       "      <th>190</th>\n",
       "      <td>167840</td>\n",
       "      <td>5</td>\n",
       "      <td>8</td>\n",
       "    </tr>\n",
       "    <tr>\n",
       "      <th>191</th>\n",
       "      <td>167110</td>\n",
       "      <td>2</td>\n",
       "      <td>3</td>\n",
       "    </tr>\n",
       "  </tbody>\n",
       "</table>\n",
       "<p>192 rows × 3 columns</p>\n",
       "</div>"
      ],
      "text/plain": [
       "     user_id  call_duration  total_call_duration\n",
       "0     168361        4240574              5015165\n",
       "1     166582        3498291              4128189\n",
       "2     167626        2224409              2691486\n",
       "3     166658        1090781              1144842\n",
       "4     167827         675078               859165\n",
       "..       ...            ...                  ...\n",
       "187   166874              8                   20\n",
       "188   167397              7                   14\n",
       "189   168500              6                   30\n",
       "190   167840              5                    8\n",
       "191   167110              2                    3\n",
       "\n",
       "[192 rows x 3 columns]"
      ]
     },
     "execution_count": 82,
     "metadata": {},
     "output_type": "execute_result"
    }
   ],
   "source": [
    "out_false_id = out_false.pivot_table(index='user_id', values=['call_duration', 'total_call_duration'], aggfunc={'call_duration':'sum', 'total_call_duration':'sum'}).sort_values('call_duration', ascending=False).reset_index()\n",
    "#direction_in_id.columns = ['user_id', 'calls_count_sum', 'operator_id_count']\n",
    "out_false_id"
   ]
  },
  {
   "cell_type": "markdown",
   "metadata": {},
   "source": [
    "Большая разница в числе исходящих звонков от различных колл-центров"
   ]
  },
  {
   "cell_type": "markdown",
   "metadata": {},
   "source": [
    "Определим число операторов работающих на обзвонах"
   ]
  },
  {
   "cell_type": "code",
   "execution_count": 83,
   "metadata": {},
   "outputs": [
    {
     "data": {
      "text/html": [
       "<div>\n",
       "<style scoped>\n",
       "    .dataframe tbody tr th:only-of-type {\n",
       "        vertical-align: middle;\n",
       "    }\n",
       "\n",
       "    .dataframe tbody tr th {\n",
       "        vertical-align: top;\n",
       "    }\n",
       "\n",
       "    .dataframe thead th {\n",
       "        text-align: right;\n",
       "    }\n",
       "</style>\n",
       "<table border=\"1\" class=\"dataframe\">\n",
       "  <thead>\n",
       "    <tr style=\"text-align: right;\">\n",
       "      <th></th>\n",
       "      <th>user_id</th>\n",
       "      <th>date</th>\n",
       "      <th>calls_count_sum</th>\n",
       "      <th>call_duration_sum</th>\n",
       "      <th>total_call_duration_sum</th>\n",
       "      <th>operator_id_count</th>\n",
       "    </tr>\n",
       "  </thead>\n",
       "  <tbody>\n",
       "    <tr>\n",
       "      <th>0</th>\n",
       "      <td>166377</td>\n",
       "      <td>2019-09-30</td>\n",
       "      <td>5</td>\n",
       "      <td>868</td>\n",
       "      <td>895</td>\n",
       "      <td>2</td>\n",
       "    </tr>\n",
       "    <tr>\n",
       "      <th>1</th>\n",
       "      <td>166377</td>\n",
       "      <td>2019-10-01</td>\n",
       "      <td>20</td>\n",
       "      <td>2129</td>\n",
       "      <td>2263</td>\n",
       "      <td>2</td>\n",
       "    </tr>\n",
       "    <tr>\n",
       "      <th>2</th>\n",
       "      <td>166377</td>\n",
       "      <td>2019-10-02</td>\n",
       "      <td>39</td>\n",
       "      <td>3530</td>\n",
       "      <td>3837</td>\n",
       "      <td>2</td>\n",
       "    </tr>\n",
       "    <tr>\n",
       "      <th>3</th>\n",
       "      <td>166377</td>\n",
       "      <td>2019-10-03</td>\n",
       "      <td>40</td>\n",
       "      <td>2916</td>\n",
       "      <td>3218</td>\n",
       "      <td>4</td>\n",
       "    </tr>\n",
       "    <tr>\n",
       "      <th>4</th>\n",
       "      <td>166377</td>\n",
       "      <td>2019-10-04</td>\n",
       "      <td>44</td>\n",
       "      <td>4992</td>\n",
       "      <td>5434</td>\n",
       "      <td>3</td>\n",
       "    </tr>\n",
       "    <tr>\n",
       "      <th>...</th>\n",
       "      <td>...</td>\n",
       "      <td>...</td>\n",
       "      <td>...</td>\n",
       "      <td>...</td>\n",
       "      <td>...</td>\n",
       "      <td>...</td>\n",
       "    </tr>\n",
       "    <tr>\n",
       "      <th>4546</th>\n",
       "      <td>168603</td>\n",
       "      <td>2019-11-27</td>\n",
       "      <td>1</td>\n",
       "      <td>76</td>\n",
       "      <td>99</td>\n",
       "      <td>1</td>\n",
       "    </tr>\n",
       "    <tr>\n",
       "      <th>4547</th>\n",
       "      <td>168606</td>\n",
       "      <td>2019-11-08</td>\n",
       "      <td>2</td>\n",
       "      <td>255</td>\n",
       "      <td>328</td>\n",
       "      <td>1</td>\n",
       "    </tr>\n",
       "    <tr>\n",
       "      <th>4548</th>\n",
       "      <td>168606</td>\n",
       "      <td>2019-11-09</td>\n",
       "      <td>4</td>\n",
       "      <td>551</td>\n",
       "      <td>593</td>\n",
       "      <td>1</td>\n",
       "    </tr>\n",
       "    <tr>\n",
       "      <th>4549</th>\n",
       "      <td>168606</td>\n",
       "      <td>2019-11-11</td>\n",
       "      <td>2</td>\n",
       "      <td>479</td>\n",
       "      <td>501</td>\n",
       "      <td>1</td>\n",
       "    </tr>\n",
       "    <tr>\n",
       "      <th>4550</th>\n",
       "      <td>168606</td>\n",
       "      <td>2019-11-15</td>\n",
       "      <td>4</td>\n",
       "      <td>3130</td>\n",
       "      <td>3190</td>\n",
       "      <td>1</td>\n",
       "    </tr>\n",
       "  </tbody>\n",
       "</table>\n",
       "<p>4551 rows × 6 columns</p>\n",
       "</div>"
      ],
      "text/plain": [
       "      user_id        date  calls_count_sum  call_duration_sum  \\\n",
       "0      166377  2019-09-30                5                868   \n",
       "1      166377  2019-10-01               20               2129   \n",
       "2      166377  2019-10-02               39               3530   \n",
       "3      166377  2019-10-03               40               2916   \n",
       "4      166377  2019-10-04               44               4992   \n",
       "...       ...         ...              ...                ...   \n",
       "4546   168603  2019-11-27                1                 76   \n",
       "4547   168606  2019-11-08                2                255   \n",
       "4548   168606  2019-11-09                4                551   \n",
       "4549   168606  2019-11-11                2                479   \n",
       "4550   168606  2019-11-15                4               3130   \n",
       "\n",
       "      total_call_duration_sum  operator_id_count  \n",
       "0                         895                  2  \n",
       "1                        2263                  2  \n",
       "2                        3837                  2  \n",
       "3                        3218                  4  \n",
       "4                        5434                  3  \n",
       "...                       ...                ...  \n",
       "4546                       99                  1  \n",
       "4547                      328                  1  \n",
       "4548                      593                  1  \n",
       "4549                      501                  1  \n",
       "4550                     3190                  1  \n",
       "\n",
       "[4551 rows x 6 columns]"
      ]
     },
     "execution_count": 83,
     "metadata": {},
     "output_type": "execute_result"
    }
   ],
   "source": [
    "out_false_id = out_false.groupby(['user_id', 'date']).agg({'calls_count': ['sum'], 'call_duration': ['sum'], 'total_call_duration': ['sum'], 'operator_id': ['nunique']}).reset_index()\n",
    "out_false_id.columns = ['user_id', 'date', 'calls_count_sum', 'call_duration_sum', 'total_call_duration_sum', 'operator_id_count']\n",
    "out_false_id"
   ]
  },
  {
   "cell_type": "code",
   "execution_count": 84,
   "metadata": {},
   "outputs": [
    {
     "data": {
      "image/png": "[encoded data removed]",
      "text/plain": [
       "<Figure size 720x504 with 1 Axes>"
      ]
     },
     "metadata": {
      "needs_background": "light"
     },
     "output_type": "display_data"
    }
   ],
   "source": [
    "out_false_id.hist('operator_id_count', bins=100, figsize=(10, 7));"
   ]
  },
  {
   "cell_type": "markdown",
   "metadata": {},
   "source": [
    "Наибольшее число колл-центров с одним оператором, большую\\долю так же составляют колл-центры с 2 и 3-мя операторами. Доля колл-центров остальных не сучественна."
   ]
  },
  {
   "cell_type": "markdown",
   "metadata": {},
   "source": [
    "Определим длительность звонка на одного оператора"
   ]
  },
  {
   "cell_type": "code",
   "execution_count": 85,
   "metadata": {},
   "outputs": [
    {
     "data": {
      "text/html": [
       "<div>\n",
       "<style scoped>\n",
       "    .dataframe tbody tr th:only-of-type {\n",
       "        vertical-align: middle;\n",
       "    }\n",
       "\n",
       "    .dataframe tbody tr th {\n",
       "        vertical-align: top;\n",
       "    }\n",
       "\n",
       "    .dataframe thead th {\n",
       "        text-align: right;\n",
       "    }\n",
       "</style>\n",
       "<table border=\"1\" class=\"dataframe\">\n",
       "  <thead>\n",
       "    <tr style=\"text-align: right;\">\n",
       "      <th></th>\n",
       "      <th>user_id</th>\n",
       "      <th>date</th>\n",
       "      <th>calls_count_sum</th>\n",
       "      <th>call_duration_sum</th>\n",
       "      <th>total_call_duration_sum</th>\n",
       "      <th>operator_id_count</th>\n",
       "    </tr>\n",
       "  </thead>\n",
       "  <tbody>\n",
       "    <tr>\n",
       "      <th>0</th>\n",
       "      <td>166377</td>\n",
       "      <td>2019-09-30</td>\n",
       "      <td>5</td>\n",
       "      <td>868</td>\n",
       "      <td>895</td>\n",
       "      <td>2</td>\n",
       "    </tr>\n",
       "    <tr>\n",
       "      <th>1</th>\n",
       "      <td>166377</td>\n",
       "      <td>2019-10-01</td>\n",
       "      <td>20</td>\n",
       "      <td>2129</td>\n",
       "      <td>2263</td>\n",
       "      <td>2</td>\n",
       "    </tr>\n",
       "    <tr>\n",
       "      <th>2</th>\n",
       "      <td>166377</td>\n",
       "      <td>2019-10-02</td>\n",
       "      <td>39</td>\n",
       "      <td>3530</td>\n",
       "      <td>3837</td>\n",
       "      <td>2</td>\n",
       "    </tr>\n",
       "    <tr>\n",
       "      <th>3</th>\n",
       "      <td>166377</td>\n",
       "      <td>2019-10-03</td>\n",
       "      <td>40</td>\n",
       "      <td>2916</td>\n",
       "      <td>3218</td>\n",
       "      <td>4</td>\n",
       "    </tr>\n",
       "    <tr>\n",
       "      <th>4</th>\n",
       "      <td>166377</td>\n",
       "      <td>2019-10-04</td>\n",
       "      <td>44</td>\n",
       "      <td>4992</td>\n",
       "      <td>5434</td>\n",
       "      <td>3</td>\n",
       "    </tr>\n",
       "    <tr>\n",
       "      <th>...</th>\n",
       "      <td>...</td>\n",
       "      <td>...</td>\n",
       "      <td>...</td>\n",
       "      <td>...</td>\n",
       "      <td>...</td>\n",
       "      <td>...</td>\n",
       "    </tr>\n",
       "    <tr>\n",
       "      <th>4546</th>\n",
       "      <td>168603</td>\n",
       "      <td>2019-11-27</td>\n",
       "      <td>1</td>\n",
       "      <td>76</td>\n",
       "      <td>99</td>\n",
       "      <td>1</td>\n",
       "    </tr>\n",
       "    <tr>\n",
       "      <th>4547</th>\n",
       "      <td>168606</td>\n",
       "      <td>2019-11-08</td>\n",
       "      <td>2</td>\n",
       "      <td>255</td>\n",
       "      <td>328</td>\n",
       "      <td>1</td>\n",
       "    </tr>\n",
       "    <tr>\n",
       "      <th>4548</th>\n",
       "      <td>168606</td>\n",
       "      <td>2019-11-09</td>\n",
       "      <td>4</td>\n",
       "      <td>551</td>\n",
       "      <td>593</td>\n",
       "      <td>1</td>\n",
       "    </tr>\n",
       "    <tr>\n",
       "      <th>4549</th>\n",
       "      <td>168606</td>\n",
       "      <td>2019-11-11</td>\n",
       "      <td>2</td>\n",
       "      <td>479</td>\n",
       "      <td>501</td>\n",
       "      <td>1</td>\n",
       "    </tr>\n",
       "    <tr>\n",
       "      <th>4550</th>\n",
       "      <td>168606</td>\n",
       "      <td>2019-11-15</td>\n",
       "      <td>4</td>\n",
       "      <td>3130</td>\n",
       "      <td>3190</td>\n",
       "      <td>1</td>\n",
       "    </tr>\n",
       "  </tbody>\n",
       "</table>\n",
       "<p>4549 rows × 6 columns</p>\n",
       "</div>"
      ],
      "text/plain": [
       "      user_id        date  calls_count_sum  call_duration_sum  \\\n",
       "0      166377  2019-09-30                5                868   \n",
       "1      166377  2019-10-01               20               2129   \n",
       "2      166377  2019-10-02               39               3530   \n",
       "3      166377  2019-10-03               40               2916   \n",
       "4      166377  2019-10-04               44               4992   \n",
       "...       ...         ...              ...                ...   \n",
       "4546   168603  2019-11-27                1                 76   \n",
       "4547   168606  2019-11-08                2                255   \n",
       "4548   168606  2019-11-09                4                551   \n",
       "4549   168606  2019-11-11                2                479   \n",
       "4550   168606  2019-11-15                4               3130   \n",
       "\n",
       "      total_call_duration_sum  operator_id_count  \n",
       "0                         895                  2  \n",
       "1                        2263                  2  \n",
       "2                        3837                  2  \n",
       "3                        3218                  4  \n",
       "4                        5434                  3  \n",
       "...                       ...                ...  \n",
       "4546                       99                  1  \n",
       "4547                      328                  1  \n",
       "4548                      593                  1  \n",
       "4549                      501                  1  \n",
       "4550                     3190                  1  \n",
       "\n",
       "[4549 rows x 6 columns]"
      ]
     },
     "execution_count": 85,
     "metadata": {},
     "output_type": "execute_result"
    }
   ],
   "source": [
    "df_out_false = out_false_id.query('operator_id_count != 0')\n",
    "df_out_false"
   ]
  },
  {
   "cell_type": "markdown",
   "metadata": {},
   "source": [
    "Убрали 2 строки с ошибочными данными"
   ]
  },
  {
   "cell_type": "code",
   "execution_count": 86,
   "metadata": {},
   "outputs": [],
   "source": [
    "df_out_false['dlit_zvonka'] = df_out_false['call_duration_sum'] / (df_out_false['calls_count_sum'] * df_out_false['operator_id_count'])"
   ]
  },
  {
   "cell_type": "markdown",
   "metadata": {},
   "source": [
    "Определим число звонков на одного оператора"
   ]
  },
  {
   "cell_type": "code",
   "execution_count": 87,
   "metadata": {},
   "outputs": [],
   "source": [
    "df_out_false['chislo_zvonkov_oper'] =  df_out_false['calls_count_sum'] / df_out_false['operator_id_count']"
   ]
  },
  {
   "cell_type": "markdown",
   "metadata": {},
   "source": [
    "Посмотрим есть ли выбросы в данных и как они влияют на результат"
   ]
  },
  {
   "cell_type": "code",
   "execution_count": 88,
   "metadata": {},
   "outputs": [
    {
     "data": {
      "text/html": [
       "<div>\n",
       "<style scoped>\n",
       "    .dataframe tbody tr th:only-of-type {\n",
       "        vertical-align: middle;\n",
       "    }\n",
       "\n",
       "    .dataframe tbody tr th {\n",
       "        vertical-align: top;\n",
       "    }\n",
       "\n",
       "    .dataframe thead th {\n",
       "        text-align: right;\n",
       "    }\n",
       "</style>\n",
       "<table border=\"1\" class=\"dataframe\">\n",
       "  <thead>\n",
       "    <tr style=\"text-align: right;\">\n",
       "      <th></th>\n",
       "      <th>user_id</th>\n",
       "      <th>calls_count_sum</th>\n",
       "      <th>call_duration_sum</th>\n",
       "      <th>total_call_duration_sum</th>\n",
       "      <th>operator_id_count</th>\n",
       "      <th>dlit_zvonka</th>\n",
       "      <th>chislo_zvonkov_oper</th>\n",
       "    </tr>\n",
       "  </thead>\n",
       "  <tbody>\n",
       "    <tr>\n",
       "      <th>count</th>\n",
       "      <td>4549.000000</td>\n",
       "      <td>4549.000000</td>\n",
       "      <td>4549.000000</td>\n",
       "      <td>4549.000000</td>\n",
       "      <td>4549.000000</td>\n",
       "      <td>4549.000000</td>\n",
       "      <td>4549.000000</td>\n",
       "    </tr>\n",
       "    <tr>\n",
       "      <th>mean</th>\n",
       "      <td>167298.042207</td>\n",
       "      <td>55.076061</td>\n",
       "      <td>5088.971202</td>\n",
       "      <td>5973.198725</td>\n",
       "      <td>2.469774</td>\n",
       "      <td>78.287800</td>\n",
       "      <td>18.143289</td>\n",
       "    </tr>\n",
       "    <tr>\n",
       "      <th>std</th>\n",
       "      <td>553.662230</td>\n",
       "      <td>180.558644</td>\n",
       "      <td>17564.985446</td>\n",
       "      <td>20781.522488</td>\n",
       "      <td>3.266629</td>\n",
       "      <td>119.850487</td>\n",
       "      <td>48.598225</td>\n",
       "    </tr>\n",
       "    <tr>\n",
       "      <th>min</th>\n",
       "      <td>166377.000000</td>\n",
       "      <td>1.000000</td>\n",
       "      <td>1.000000</td>\n",
       "      <td>3.000000</td>\n",
       "      <td>1.000000</td>\n",
       "      <td>1.000000</td>\n",
       "      <td>1.000000</td>\n",
       "    </tr>\n",
       "    <tr>\n",
       "      <th>25%</th>\n",
       "      <td>166839.000000</td>\n",
       "      <td>4.000000</td>\n",
       "      <td>332.000000</td>\n",
       "      <td>411.000000</td>\n",
       "      <td>1.000000</td>\n",
       "      <td>23.301802</td>\n",
       "      <td>3.000000</td>\n",
       "    </tr>\n",
       "    <tr>\n",
       "      <th>50%</th>\n",
       "      <td>167188.000000</td>\n",
       "      <td>13.000000</td>\n",
       "      <td>1089.000000</td>\n",
       "      <td>1295.000000</td>\n",
       "      <td>1.000000</td>\n",
       "      <td>44.523810</td>\n",
       "      <td>8.000000</td>\n",
       "    </tr>\n",
       "    <tr>\n",
       "      <th>75%</th>\n",
       "      <td>167727.000000</td>\n",
       "      <td>36.000000</td>\n",
       "      <td>3156.000000</td>\n",
       "      <td>3671.000000</td>\n",
       "      <td>3.000000</td>\n",
       "      <td>84.884615</td>\n",
       "      <td>19.000000</td>\n",
       "    </tr>\n",
       "    <tr>\n",
       "      <th>max</th>\n",
       "      <td>168606.000000</td>\n",
       "      <td>2275.000000</td>\n",
       "      <td>217013.000000</td>\n",
       "      <td>248524.000000</td>\n",
       "      <td>31.000000</td>\n",
       "      <td>1967.000000</td>\n",
       "      <td>1051.000000</td>\n",
       "    </tr>\n",
       "  </tbody>\n",
       "</table>\n",
       "</div>"
      ],
      "text/plain": [
       "             user_id  calls_count_sum  call_duration_sum  \\\n",
       "count    4549.000000      4549.000000        4549.000000   \n",
       "mean   167298.042207        55.076061        5088.971202   \n",
       "std       553.662230       180.558644       17564.985446   \n",
       "min    166377.000000         1.000000           1.000000   \n",
       "25%    166839.000000         4.000000         332.000000   \n",
       "50%    167188.000000        13.000000        1089.000000   \n",
       "75%    167727.000000        36.000000        3156.000000   \n",
       "max    168606.000000      2275.000000      217013.000000   \n",
       "\n",
       "       total_call_duration_sum  operator_id_count  dlit_zvonka  \\\n",
       "count              4549.000000        4549.000000  4549.000000   \n",
       "mean               5973.198725           2.469774    78.287800   \n",
       "std               20781.522488           3.266629   119.850487   \n",
       "min                   3.000000           1.000000     1.000000   \n",
       "25%                 411.000000           1.000000    23.301802   \n",
       "50%                1295.000000           1.000000    44.523810   \n",
       "75%                3671.000000           3.000000    84.884615   \n",
       "max              248524.000000          31.000000  1967.000000   \n",
       "\n",
       "       chislo_zvonkov_oper  \n",
       "count          4549.000000  \n",
       "mean             18.143289  \n",
       "std              48.598225  \n",
       "min               1.000000  \n",
       "25%               3.000000  \n",
       "50%               8.000000  \n",
       "75%              19.000000  \n",
       "max            1051.000000  "
      ]
     },
     "execution_count": 88,
     "metadata": {},
     "output_type": "execute_result"
    }
   ],
   "source": [
    "df_out_false.describe()"
   ]
  },
  {
   "cell_type": "code",
   "execution_count": 89,
   "metadata": {},
   "outputs": [
    {
     "data": {
      "text/plain": [
       "array([[<AxesSubplot:title={'center':'calls_count_sum'}>]], dtype=object)"
      ]
     },
     "execution_count": 89,
     "metadata": {},
     "output_type": "execute_result"
    },
    {
     "data": {
      "image/png": "[encoded data removed]",
      "text/plain": [
       "<Figure size 1080x648 with 1 Axes>"
      ]
     },
     "metadata": {
      "needs_background": "light"
     },
     "output_type": "display_data"
    }
   ],
   "source": [
    "df_out_false.hist('calls_count_sum', bins=200, figsize=(15, 9))"
   ]
  },
  {
   "cell_type": "code",
   "execution_count": 90,
   "metadata": {},
   "outputs": [
    {
     "data": {
      "image/png": "[encoded data removed]",
      "text/plain": [
       "<Figure size 432x288 with 1 Axes>"
      ]
     },
     "metadata": {
      "needs_background": "light"
     },
     "output_type": "display_data"
    },
    {
     "data": {
      "image/png": "[encoded data removed]",
      "text/plain": [
       "<Figure size 432x288 with 1 Axes>"
      ]
     },
     "metadata": {
      "needs_background": "light"
     },
     "output_type": "display_data"
    }
   ],
   "source": [
    "p95_out_false = np.percentile(df_out_false['chislo_zvonkov_oper'], [95])[0]\n",
    "p95_out_false\n",
    "p5_out_false = np.percentile(df_out_false['chislo_zvonkov_oper'], [5])[0]\n",
    "p5_out_false\n",
    "\n",
    "new_out_false = df_out_false.query('@p5_out_false < chislo_zvonkov_oper <= @p95_out_false')\n",
    "plt.title('Распределения после чистки выбросов')\n",
    "new_out_false.boxplot('chislo_zvonkov_oper')\n",
    "plt.show()\n",
    "new_out_false['chislo_zvonkov_oper'].hist(bins=25)\n",
    "plt.show()"
   ]
  },
  {
   "cell_type": "code",
   "execution_count": 91,
   "metadata": {},
   "outputs": [
    {
     "data": {
      "text/html": [
       "<div>\n",
       "<style scoped>\n",
       "    .dataframe tbody tr th:only-of-type {\n",
       "        vertical-align: middle;\n",
       "    }\n",
       "\n",
       "    .dataframe tbody tr th {\n",
       "        vertical-align: top;\n",
       "    }\n",
       "\n",
       "    .dataframe thead th {\n",
       "        text-align: right;\n",
       "    }\n",
       "</style>\n",
       "<table border=\"1\" class=\"dataframe\">\n",
       "  <thead>\n",
       "    <tr style=\"text-align: right;\">\n",
       "      <th></th>\n",
       "      <th>user_id</th>\n",
       "      <th>calls_count_sum</th>\n",
       "      <th>call_duration_sum</th>\n",
       "      <th>total_call_duration_sum</th>\n",
       "      <th>operator_id_count</th>\n",
       "      <th>dlit_zvonka</th>\n",
       "      <th>chislo_zvonkov_oper</th>\n",
       "    </tr>\n",
       "  </thead>\n",
       "  <tbody>\n",
       "    <tr>\n",
       "      <th>count</th>\n",
       "      <td>3791.000000</td>\n",
       "      <td>3791.000000</td>\n",
       "      <td>3791.000000</td>\n",
       "      <td>3791.000000</td>\n",
       "      <td>3791.000000</td>\n",
       "      <td>3791.000000</td>\n",
       "      <td>3791.000000</td>\n",
       "    </tr>\n",
       "    <tr>\n",
       "      <th>mean</th>\n",
       "      <td>167281.882089</td>\n",
       "      <td>31.891849</td>\n",
       "      <td>3088.816935</td>\n",
       "      <td>3539.363756</td>\n",
       "      <td>2.474809</td>\n",
       "      <td>73.976636</td>\n",
       "      <td>12.580657</td>\n",
       "    </tr>\n",
       "    <tr>\n",
       "      <th>std</th>\n",
       "      <td>544.338167</td>\n",
       "      <td>59.443580</td>\n",
       "      <td>5805.925476</td>\n",
       "      <td>6637.329078</td>\n",
       "      <td>3.006297</td>\n",
       "      <td>98.253309</td>\n",
       "      <td>10.974319</td>\n",
       "    </tr>\n",
       "    <tr>\n",
       "      <th>min</th>\n",
       "      <td>166377.000000</td>\n",
       "      <td>2.000000</td>\n",
       "      <td>6.000000</td>\n",
       "      <td>20.000000</td>\n",
       "      <td>1.000000</td>\n",
       "      <td>2.226320</td>\n",
       "      <td>1.250000</td>\n",
       "    </tr>\n",
       "    <tr>\n",
       "      <th>25%</th>\n",
       "      <td>166833.000000</td>\n",
       "      <td>6.000000</td>\n",
       "      <td>495.000000</td>\n",
       "      <td>593.500000</td>\n",
       "      <td>1.000000</td>\n",
       "      <td>24.116667</td>\n",
       "      <td>4.000000</td>\n",
       "    </tr>\n",
       "    <tr>\n",
       "      <th>50%</th>\n",
       "      <td>167183.000000</td>\n",
       "      <td>15.000000</td>\n",
       "      <td>1231.000000</td>\n",
       "      <td>1463.000000</td>\n",
       "      <td>1.000000</td>\n",
       "      <td>45.263158</td>\n",
       "      <td>9.000000</td>\n",
       "    </tr>\n",
       "    <tr>\n",
       "      <th>75%</th>\n",
       "      <td>167716.000000</td>\n",
       "      <td>35.000000</td>\n",
       "      <td>3125.500000</td>\n",
       "      <td>3591.500000</td>\n",
       "      <td>3.000000</td>\n",
       "      <td>83.650000</td>\n",
       "      <td>18.000000</td>\n",
       "    </tr>\n",
       "    <tr>\n",
       "      <th>max</th>\n",
       "      <td>168606.000000</td>\n",
       "      <td>1338.000000</td>\n",
       "      <td>109213.000000</td>\n",
       "      <td>133228.000000</td>\n",
       "      <td>31.000000</td>\n",
       "      <td>1177.000000</td>\n",
       "      <td>52.000000</td>\n",
       "    </tr>\n",
       "  </tbody>\n",
       "</table>\n",
       "</div>"
      ],
      "text/plain": [
       "             user_id  calls_count_sum  call_duration_sum  \\\n",
       "count    3791.000000      3791.000000        3791.000000   \n",
       "mean   167281.882089        31.891849        3088.816935   \n",
       "std       544.338167        59.443580        5805.925476   \n",
       "min    166377.000000         2.000000           6.000000   \n",
       "25%    166833.000000         6.000000         495.000000   \n",
       "50%    167183.000000        15.000000        1231.000000   \n",
       "75%    167716.000000        35.000000        3125.500000   \n",
       "max    168606.000000      1338.000000      109213.000000   \n",
       "\n",
       "       total_call_duration_sum  operator_id_count  dlit_zvonka  \\\n",
       "count              3791.000000        3791.000000  3791.000000   \n",
       "mean               3539.363756           2.474809    73.976636   \n",
       "std                6637.329078           3.006297    98.253309   \n",
       "min                  20.000000           1.000000     2.226320   \n",
       "25%                 593.500000           1.000000    24.116667   \n",
       "50%                1463.000000           1.000000    45.263158   \n",
       "75%                3591.500000           3.000000    83.650000   \n",
       "max              133228.000000          31.000000  1177.000000   \n",
       "\n",
       "       chislo_zvonkov_oper  \n",
       "count          3791.000000  \n",
       "mean             12.580657  \n",
       "std              10.974319  \n",
       "min               1.250000  \n",
       "25%               4.000000  \n",
       "50%               9.000000  \n",
       "75%              18.000000  \n",
       "max              52.000000  "
      ]
     },
     "execution_count": 91,
     "metadata": {},
     "output_type": "execute_result"
    }
   ],
   "source": [
    "new_out_false.describe()"
   ]
  },
  {
   "cell_type": "code",
   "execution_count": 92,
   "metadata": {},
   "outputs": [
    {
     "data": {
      "image/png": "[encoded data removed]",
      "text/plain": [
       "<Figure size 1080x648 with 1 Axes>"
      ]
     },
     "metadata": {
      "needs_background": "light"
     },
     "output_type": "display_data"
    }
   ],
   "source": [
    "new_out_false.hist('dlit_zvonka', bins=200, figsize=(15, 9));"
   ]
  },
  {
   "cell_type": "markdown",
   "metadata": {},
   "source": [
    "Убрав выбросы, мы видим, что медианное время звонка, которое тратит оператор на клиента составляет 45 минут. Отличным показателем будет, если оператор тратит около 25 минут и плохим - если на разговор уходит 80 минут. Медианное значение исходящих звонков оперотора в день составляет 9. Хорошим показателем будет, если оператор принимает более 18 звонков и плохой показатель если 4 и менее. "
   ]
  },
  {
   "cell_type": "markdown",
   "metadata": {},
   "source": [
    "**Рассмотрим исходящие звонки от оператора, когда оббонент не принял звонок**"
   ]
  },
  {
   "cell_type": "code",
   "execution_count": 93,
   "metadata": {},
   "outputs": [
    {
     "data": {
      "text/html": [
       "<div>\n",
       "<style scoped>\n",
       "    .dataframe tbody tr th:only-of-type {\n",
       "        vertical-align: middle;\n",
       "    }\n",
       "\n",
       "    .dataframe tbody tr th {\n",
       "        vertical-align: top;\n",
       "    }\n",
       "\n",
       "    .dataframe thead th {\n",
       "        text-align: right;\n",
       "    }\n",
       "</style>\n",
       "<table border=\"1\" class=\"dataframe\">\n",
       "  <thead>\n",
       "    <tr style=\"text-align: right;\">\n",
       "      <th></th>\n",
       "      <th>user_id</th>\n",
       "      <th>date</th>\n",
       "      <th>is_missed_call</th>\n",
       "      <th>operator_id</th>\n",
       "      <th>calls_count</th>\n",
       "      <th>call_duration</th>\n",
       "      <th>total_call_duration</th>\n",
       "    </tr>\n",
       "  </thead>\n",
       "  <tbody>\n",
       "    <tr>\n",
       "      <th>260</th>\n",
       "      <td>166377</td>\n",
       "      <td>2019-09-30</td>\n",
       "      <td>True</td>\n",
       "      <td>880020.0</td>\n",
       "      <td>4</td>\n",
       "      <td>0</td>\n",
       "      <td>12</td>\n",
       "    </tr>\n",
       "    <tr>\n",
       "      <th>263</th>\n",
       "      <td>166377</td>\n",
       "      <td>2019-10-01</td>\n",
       "      <td>True</td>\n",
       "      <td>880026.0</td>\n",
       "      <td>3</td>\n",
       "      <td>0</td>\n",
       "      <td>102</td>\n",
       "    </tr>\n",
       "    <tr>\n",
       "      <th>264</th>\n",
       "      <td>166377</td>\n",
       "      <td>2019-10-02</td>\n",
       "      <td>True</td>\n",
       "      <td>880026.0</td>\n",
       "      <td>3</td>\n",
       "      <td>0</td>\n",
       "      <td>69</td>\n",
       "    </tr>\n",
       "    <tr>\n",
       "      <th>267</th>\n",
       "      <td>166377</td>\n",
       "      <td>2019-10-02</td>\n",
       "      <td>True</td>\n",
       "      <td>880028.0</td>\n",
       "      <td>10</td>\n",
       "      <td>0</td>\n",
       "      <td>313</td>\n",
       "    </tr>\n",
       "    <tr>\n",
       "      <th>272</th>\n",
       "      <td>166377</td>\n",
       "      <td>2019-10-03</td>\n",
       "      <td>True</td>\n",
       "      <td>880026.0</td>\n",
       "      <td>2</td>\n",
       "      <td>0</td>\n",
       "      <td>0</td>\n",
       "    </tr>\n",
       "    <tr>\n",
       "      <th>...</th>\n",
       "      <td>...</td>\n",
       "      <td>...</td>\n",
       "      <td>...</td>\n",
       "      <td>...</td>\n",
       "      <td>...</td>\n",
       "      <td>...</td>\n",
       "      <td>...</td>\n",
       "    </tr>\n",
       "    <tr>\n",
       "      <th>48983</th>\n",
       "      <td>168601</td>\n",
       "      <td>2019-11-28</td>\n",
       "      <td>True</td>\n",
       "      <td>952914.0</td>\n",
       "      <td>2</td>\n",
       "      <td>0</td>\n",
       "      <td>67</td>\n",
       "    </tr>\n",
       "    <tr>\n",
       "      <th>48985</th>\n",
       "      <td>168603</td>\n",
       "      <td>2019-11-20</td>\n",
       "      <td>True</td>\n",
       "      <td>959118.0</td>\n",
       "      <td>3</td>\n",
       "      <td>0</td>\n",
       "      <td>89</td>\n",
       "    </tr>\n",
       "    <tr>\n",
       "      <th>48987</th>\n",
       "      <td>168603</td>\n",
       "      <td>2019-11-21</td>\n",
       "      <td>True</td>\n",
       "      <td>959118.0</td>\n",
       "      <td>1</td>\n",
       "      <td>0</td>\n",
       "      <td>10</td>\n",
       "    </tr>\n",
       "    <tr>\n",
       "      <th>48991</th>\n",
       "      <td>168606</td>\n",
       "      <td>2019-11-08</td>\n",
       "      <td>True</td>\n",
       "      <td>957922.0</td>\n",
       "      <td>2</td>\n",
       "      <td>0</td>\n",
       "      <td>40</td>\n",
       "    </tr>\n",
       "    <tr>\n",
       "      <th>48998</th>\n",
       "      <td>168606</td>\n",
       "      <td>2019-11-10</td>\n",
       "      <td>True</td>\n",
       "      <td>957922.0</td>\n",
       "      <td>1</td>\n",
       "      <td>0</td>\n",
       "      <td>38</td>\n",
       "    </tr>\n",
       "  </tbody>\n",
       "</table>\n",
       "<p>10756 rows × 7 columns</p>\n",
       "</div>"
      ],
      "text/plain": [
       "       user_id        date  is_missed_call  operator_id  calls_count  \\\n",
       "260     166377  2019-09-30            True     880020.0            4   \n",
       "263     166377  2019-10-01            True     880026.0            3   \n",
       "264     166377  2019-10-02            True     880026.0            3   \n",
       "267     166377  2019-10-02            True     880028.0           10   \n",
       "272     166377  2019-10-03            True     880026.0            2   \n",
       "...        ...         ...             ...          ...          ...   \n",
       "48983   168601  2019-11-28            True     952914.0            2   \n",
       "48985   168603  2019-11-20            True     959118.0            3   \n",
       "48987   168603  2019-11-21            True     959118.0            1   \n",
       "48991   168606  2019-11-08            True     957922.0            2   \n",
       "48998   168606  2019-11-10            True     957922.0            1   \n",
       "\n",
       "       call_duration  total_call_duration  \n",
       "260                0                   12  \n",
       "263                0                  102  \n",
       "264                0                   69  \n",
       "267                0                  313  \n",
       "272                0                    0  \n",
       "...              ...                  ...  \n",
       "48983              0                   67  \n",
       "48985              0                   89  \n",
       "48987              0                   10  \n",
       "48991              0                   40  \n",
       "48998              0                   38  \n",
       "\n",
       "[10756 rows x 7 columns]"
      ]
     },
     "execution_count": 93,
     "metadata": {},
     "output_type": "execute_result"
    }
   ],
   "source": [
    "out_true = out_loc.query('is_missed_call == True')\n",
    "out_true"
   ]
  },
  {
   "cell_type": "code",
   "execution_count": 94,
   "metadata": {},
   "outputs": [
    {
     "data": {
      "text/html": [
       "<div>\n",
       "<style scoped>\n",
       "    .dataframe tbody tr th:only-of-type {\n",
       "        vertical-align: middle;\n",
       "    }\n",
       "\n",
       "    .dataframe tbody tr th {\n",
       "        vertical-align: top;\n",
       "    }\n",
       "\n",
       "    .dataframe thead th {\n",
       "        text-align: right;\n",
       "    }\n",
       "</style>\n",
       "<table border=\"1\" class=\"dataframe\">\n",
       "  <thead>\n",
       "    <tr style=\"text-align: right;\">\n",
       "      <th></th>\n",
       "      <th>user_id</th>\n",
       "      <th>date</th>\n",
       "      <th>calls_count_sum</th>\n",
       "      <th>call_duration_sum</th>\n",
       "      <th>total_call_duration_sum</th>\n",
       "      <th>operator_id_count</th>\n",
       "    </tr>\n",
       "  </thead>\n",
       "  <tbody>\n",
       "    <tr>\n",
       "      <th>0</th>\n",
       "      <td>166377</td>\n",
       "      <td>2019-09-30</td>\n",
       "      <td>4</td>\n",
       "      <td>0</td>\n",
       "      <td>12</td>\n",
       "      <td>1</td>\n",
       "    </tr>\n",
       "    <tr>\n",
       "      <th>1</th>\n",
       "      <td>166377</td>\n",
       "      <td>2019-10-01</td>\n",
       "      <td>3</td>\n",
       "      <td>0</td>\n",
       "      <td>102</td>\n",
       "      <td>1</td>\n",
       "    </tr>\n",
       "    <tr>\n",
       "      <th>2</th>\n",
       "      <td>166377</td>\n",
       "      <td>2019-10-02</td>\n",
       "      <td>13</td>\n",
       "      <td>0</td>\n",
       "      <td>382</td>\n",
       "      <td>2</td>\n",
       "    </tr>\n",
       "    <tr>\n",
       "      <th>3</th>\n",
       "      <td>166377</td>\n",
       "      <td>2019-10-03</td>\n",
       "      <td>27</td>\n",
       "      <td>0</td>\n",
       "      <td>703</td>\n",
       "      <td>2</td>\n",
       "    </tr>\n",
       "    <tr>\n",
       "      <th>4</th>\n",
       "      <td>166377</td>\n",
       "      <td>2019-10-04</td>\n",
       "      <td>20</td>\n",
       "      <td>0</td>\n",
       "      <td>447</td>\n",
       "      <td>2</td>\n",
       "    </tr>\n",
       "    <tr>\n",
       "      <th>...</th>\n",
       "      <td>...</td>\n",
       "      <td>...</td>\n",
       "      <td>...</td>\n",
       "      <td>...</td>\n",
       "      <td>...</td>\n",
       "      <td>...</td>\n",
       "    </tr>\n",
       "    <tr>\n",
       "      <th>4139</th>\n",
       "      <td>168601</td>\n",
       "      <td>2019-11-28</td>\n",
       "      <td>2</td>\n",
       "      <td>0</td>\n",
       "      <td>67</td>\n",
       "      <td>1</td>\n",
       "    </tr>\n",
       "    <tr>\n",
       "      <th>4140</th>\n",
       "      <td>168603</td>\n",
       "      <td>2019-11-20</td>\n",
       "      <td>3</td>\n",
       "      <td>0</td>\n",
       "      <td>89</td>\n",
       "      <td>1</td>\n",
       "    </tr>\n",
       "    <tr>\n",
       "      <th>4141</th>\n",
       "      <td>168603</td>\n",
       "      <td>2019-11-21</td>\n",
       "      <td>1</td>\n",
       "      <td>0</td>\n",
       "      <td>10</td>\n",
       "      <td>1</td>\n",
       "    </tr>\n",
       "    <tr>\n",
       "      <th>4142</th>\n",
       "      <td>168606</td>\n",
       "      <td>2019-11-08</td>\n",
       "      <td>2</td>\n",
       "      <td>0</td>\n",
       "      <td>40</td>\n",
       "      <td>1</td>\n",
       "    </tr>\n",
       "    <tr>\n",
       "      <th>4143</th>\n",
       "      <td>168606</td>\n",
       "      <td>2019-11-10</td>\n",
       "      <td>1</td>\n",
       "      <td>0</td>\n",
       "      <td>38</td>\n",
       "      <td>1</td>\n",
       "    </tr>\n",
       "  </tbody>\n",
       "</table>\n",
       "<p>4144 rows × 6 columns</p>\n",
       "</div>"
      ],
      "text/plain": [
       "      user_id        date  calls_count_sum  call_duration_sum  \\\n",
       "0      166377  2019-09-30                4                  0   \n",
       "1      166377  2019-10-01                3                  0   \n",
       "2      166377  2019-10-02               13                  0   \n",
       "3      166377  2019-10-03               27                  0   \n",
       "4      166377  2019-10-04               20                  0   \n",
       "...       ...         ...              ...                ...   \n",
       "4139   168601  2019-11-28                2                  0   \n",
       "4140   168603  2019-11-20                3                  0   \n",
       "4141   168603  2019-11-21                1                  0   \n",
       "4142   168606  2019-11-08                2                  0   \n",
       "4143   168606  2019-11-10                1                  0   \n",
       "\n",
       "      total_call_duration_sum  operator_id_count  \n",
       "0                          12                  1  \n",
       "1                         102                  1  \n",
       "2                         382                  2  \n",
       "3                         703                  2  \n",
       "4                         447                  2  \n",
       "...                       ...                ...  \n",
       "4139                       67                  1  \n",
       "4140                       89                  1  \n",
       "4141                       10                  1  \n",
       "4142                       40                  1  \n",
       "4143                       38                  1  \n",
       "\n",
       "[4144 rows x 6 columns]"
      ]
     },
     "execution_count": 94,
     "metadata": {},
     "output_type": "execute_result"
    }
   ],
   "source": [
    "out_true_id = out_true.groupby(['user_id', 'date']).agg({'calls_count': ['sum'], 'call_duration': ['sum'], 'total_call_duration': ['sum'], 'operator_id': ['nunique']}).reset_index()\n",
    "out_true_id.columns = ['user_id', 'date', 'calls_count_sum', 'call_duration_sum', 'total_call_duration_sum', 'operator_id_count']\n",
    "out_true_id"
   ]
  },
  {
   "cell_type": "markdown",
   "metadata": {},
   "source": [
    "Уберем 6 строк с чилом операторов = 0"
   ]
  },
  {
   "cell_type": "code",
   "execution_count": 95,
   "metadata": {},
   "outputs": [],
   "source": [
    "out_true_id_new = out_true_id.query('operator_id_count != 0')"
   ]
  },
  {
   "cell_type": "code",
   "execution_count": 96,
   "metadata": {},
   "outputs": [],
   "source": [
    "out_true_id_new['chislo_zvonkov_oper'] = out_true_id_new['calls_count_sum'] / out_true_id_new['operator_id_count']"
   ]
  },
  {
   "cell_type": "code",
   "execution_count": 97,
   "metadata": {},
   "outputs": [],
   "source": [
    "out_true_id_new['dlit_zvonka'] = out_true_id_new['total_call_duration_sum'] / (out_true_id_new['calls_count_sum'] * out_true_id_new['operator_id_count'])"
   ]
  },
  {
   "cell_type": "code",
   "execution_count": 98,
   "metadata": {},
   "outputs": [
    {
     "data": {
      "text/html": [
       "<div>\n",
       "<style scoped>\n",
       "    .dataframe tbody tr th:only-of-type {\n",
       "        vertical-align: middle;\n",
       "    }\n",
       "\n",
       "    .dataframe tbody tr th {\n",
       "        vertical-align: top;\n",
       "    }\n",
       "\n",
       "    .dataframe thead th {\n",
       "        text-align: right;\n",
       "    }\n",
       "</style>\n",
       "<table border=\"1\" class=\"dataframe\">\n",
       "  <thead>\n",
       "    <tr style=\"text-align: right;\">\n",
       "      <th></th>\n",
       "      <th>user_id</th>\n",
       "      <th>date</th>\n",
       "      <th>calls_count_sum</th>\n",
       "      <th>call_duration_sum</th>\n",
       "      <th>total_call_duration_sum</th>\n",
       "      <th>operator_id_count</th>\n",
       "      <th>chislo_zvonkov_oper</th>\n",
       "      <th>dlit_zvonka</th>\n",
       "    </tr>\n",
       "  </thead>\n",
       "  <tbody>\n",
       "    <tr>\n",
       "      <th>0</th>\n",
       "      <td>166377</td>\n",
       "      <td>2019-09-30</td>\n",
       "      <td>4</td>\n",
       "      <td>0</td>\n",
       "      <td>12</td>\n",
       "      <td>1</td>\n",
       "      <td>4.0</td>\n",
       "      <td>3.000000</td>\n",
       "    </tr>\n",
       "    <tr>\n",
       "      <th>1</th>\n",
       "      <td>166377</td>\n",
       "      <td>2019-10-01</td>\n",
       "      <td>3</td>\n",
       "      <td>0</td>\n",
       "      <td>102</td>\n",
       "      <td>1</td>\n",
       "      <td>3.0</td>\n",
       "      <td>34.000000</td>\n",
       "    </tr>\n",
       "    <tr>\n",
       "      <th>2</th>\n",
       "      <td>166377</td>\n",
       "      <td>2019-10-02</td>\n",
       "      <td>13</td>\n",
       "      <td>0</td>\n",
       "      <td>382</td>\n",
       "      <td>2</td>\n",
       "      <td>6.5</td>\n",
       "      <td>14.692308</td>\n",
       "    </tr>\n",
       "    <tr>\n",
       "      <th>3</th>\n",
       "      <td>166377</td>\n",
       "      <td>2019-10-03</td>\n",
       "      <td>27</td>\n",
       "      <td>0</td>\n",
       "      <td>703</td>\n",
       "      <td>2</td>\n",
       "      <td>13.5</td>\n",
       "      <td>13.018519</td>\n",
       "    </tr>\n",
       "    <tr>\n",
       "      <th>4</th>\n",
       "      <td>166377</td>\n",
       "      <td>2019-10-04</td>\n",
       "      <td>20</td>\n",
       "      <td>0</td>\n",
       "      <td>447</td>\n",
       "      <td>2</td>\n",
       "      <td>10.0</td>\n",
       "      <td>11.175000</td>\n",
       "    </tr>\n",
       "    <tr>\n",
       "      <th>...</th>\n",
       "      <td>...</td>\n",
       "      <td>...</td>\n",
       "      <td>...</td>\n",
       "      <td>...</td>\n",
       "      <td>...</td>\n",
       "      <td>...</td>\n",
       "      <td>...</td>\n",
       "      <td>...</td>\n",
       "    </tr>\n",
       "    <tr>\n",
       "      <th>4139</th>\n",
       "      <td>168601</td>\n",
       "      <td>2019-11-28</td>\n",
       "      <td>2</td>\n",
       "      <td>0</td>\n",
       "      <td>67</td>\n",
       "      <td>1</td>\n",
       "      <td>2.0</td>\n",
       "      <td>33.500000</td>\n",
       "    </tr>\n",
       "    <tr>\n",
       "      <th>4140</th>\n",
       "      <td>168603</td>\n",
       "      <td>2019-11-20</td>\n",
       "      <td>3</td>\n",
       "      <td>0</td>\n",
       "      <td>89</td>\n",
       "      <td>1</td>\n",
       "      <td>3.0</td>\n",
       "      <td>29.666667</td>\n",
       "    </tr>\n",
       "    <tr>\n",
       "      <th>4141</th>\n",
       "      <td>168603</td>\n",
       "      <td>2019-11-21</td>\n",
       "      <td>1</td>\n",
       "      <td>0</td>\n",
       "      <td>10</td>\n",
       "      <td>1</td>\n",
       "      <td>1.0</td>\n",
       "      <td>10.000000</td>\n",
       "    </tr>\n",
       "    <tr>\n",
       "      <th>4142</th>\n",
       "      <td>168606</td>\n",
       "      <td>2019-11-08</td>\n",
       "      <td>2</td>\n",
       "      <td>0</td>\n",
       "      <td>40</td>\n",
       "      <td>1</td>\n",
       "      <td>2.0</td>\n",
       "      <td>20.000000</td>\n",
       "    </tr>\n",
       "    <tr>\n",
       "      <th>4143</th>\n",
       "      <td>168606</td>\n",
       "      <td>2019-11-10</td>\n",
       "      <td>1</td>\n",
       "      <td>0</td>\n",
       "      <td>38</td>\n",
       "      <td>1</td>\n",
       "      <td>1.0</td>\n",
       "      <td>38.000000</td>\n",
       "    </tr>\n",
       "  </tbody>\n",
       "</table>\n",
       "<p>4138 rows × 8 columns</p>\n",
       "</div>"
      ],
      "text/plain": [
       "      user_id        date  calls_count_sum  call_duration_sum  \\\n",
       "0      166377  2019-09-30                4                  0   \n",
       "1      166377  2019-10-01                3                  0   \n",
       "2      166377  2019-10-02               13                  0   \n",
       "3      166377  2019-10-03               27                  0   \n",
       "4      166377  2019-10-04               20                  0   \n",
       "...       ...         ...              ...                ...   \n",
       "4139   168601  2019-11-28                2                  0   \n",
       "4140   168603  2019-11-20                3                  0   \n",
       "4141   168603  2019-11-21                1                  0   \n",
       "4142   168606  2019-11-08                2                  0   \n",
       "4143   168606  2019-11-10                1                  0   \n",
       "\n",
       "      total_call_duration_sum  operator_id_count  chislo_zvonkov_oper  \\\n",
       "0                          12                  1                  4.0   \n",
       "1                         102                  1                  3.0   \n",
       "2                         382                  2                  6.5   \n",
       "3                         703                  2                 13.5   \n",
       "4                         447                  2                 10.0   \n",
       "...                       ...                ...                  ...   \n",
       "4139                       67                  1                  2.0   \n",
       "4140                       89                  1                  3.0   \n",
       "4141                       10                  1                  1.0   \n",
       "4142                       40                  1                  2.0   \n",
       "4143                       38                  1                  1.0   \n",
       "\n",
       "      dlit_zvonka  \n",
       "0        3.000000  \n",
       "1       34.000000  \n",
       "2       14.692308  \n",
       "3       13.018519  \n",
       "4       11.175000  \n",
       "...           ...  \n",
       "4139    33.500000  \n",
       "4140    29.666667  \n",
       "4141    10.000000  \n",
       "4142    20.000000  \n",
       "4143    38.000000  \n",
       "\n",
       "[4138 rows x 8 columns]"
      ]
     },
     "execution_count": 98,
     "metadata": {},
     "output_type": "execute_result"
    }
   ],
   "source": [
    "out_true_id_new"
   ]
  },
  {
   "cell_type": "code",
   "execution_count": 99,
   "metadata": {},
   "outputs": [
    {
     "data": {
      "text/html": [
       "<div>\n",
       "<style scoped>\n",
       "    .dataframe tbody tr th:only-of-type {\n",
       "        vertical-align: middle;\n",
       "    }\n",
       "\n",
       "    .dataframe tbody tr th {\n",
       "        vertical-align: top;\n",
       "    }\n",
       "\n",
       "    .dataframe thead th {\n",
       "        text-align: right;\n",
       "    }\n",
       "</style>\n",
       "<table border=\"1\" class=\"dataframe\">\n",
       "  <thead>\n",
       "    <tr style=\"text-align: right;\">\n",
       "      <th></th>\n",
       "      <th>user_id</th>\n",
       "      <th>calls_count_sum</th>\n",
       "      <th>call_duration_sum</th>\n",
       "      <th>total_call_duration_sum</th>\n",
       "      <th>operator_id_count</th>\n",
       "      <th>chislo_zvonkov_oper</th>\n",
       "      <th>dlit_zvonka</th>\n",
       "    </tr>\n",
       "  </thead>\n",
       "  <tbody>\n",
       "    <tr>\n",
       "      <th>count</th>\n",
       "      <td>4138.000000</td>\n",
       "      <td>4138.000000</td>\n",
       "      <td>4138.0</td>\n",
       "      <td>4138.000000</td>\n",
       "      <td>4138.000000</td>\n",
       "      <td>4138.000000</td>\n",
       "      <td>4138.000000</td>\n",
       "    </tr>\n",
       "    <tr>\n",
       "      <th>mean</th>\n",
       "      <td>167311.826245</td>\n",
       "      <td>50.824553</td>\n",
       "      <td>0.0</td>\n",
       "      <td>1106.953117</td>\n",
       "      <td>2.310778</td>\n",
       "      <td>16.932748</td>\n",
       "      <td>15.894087</td>\n",
       "    </tr>\n",
       "    <tr>\n",
       "      <th>std</th>\n",
       "      <td>565.920954</td>\n",
       "      <td>191.635567</td>\n",
       "      <td>0.0</td>\n",
       "      <td>4124.707485</td>\n",
       "      <td>3.165805</td>\n",
       "      <td>67.361743</td>\n",
       "      <td>12.786420</td>\n",
       "    </tr>\n",
       "    <tr>\n",
       "      <th>min</th>\n",
       "      <td>166377.000000</td>\n",
       "      <td>1.000000</td>\n",
       "      <td>0.0</td>\n",
       "      <td>0.000000</td>\n",
       "      <td>1.000000</td>\n",
       "      <td>1.000000</td>\n",
       "      <td>0.000000</td>\n",
       "    </tr>\n",
       "    <tr>\n",
       "      <th>25%</th>\n",
       "      <td>166839.000000</td>\n",
       "      <td>3.000000</td>\n",
       "      <td>0.0</td>\n",
       "      <td>52.000000</td>\n",
       "      <td>1.000000</td>\n",
       "      <td>2.000000</td>\n",
       "      <td>6.000000</td>\n",
       "    </tr>\n",
       "    <tr>\n",
       "      <th>50%</th>\n",
       "      <td>167188.000000</td>\n",
       "      <td>8.000000</td>\n",
       "      <td>0.0</td>\n",
       "      <td>172.000000</td>\n",
       "      <td>1.000000</td>\n",
       "      <td>5.000000</td>\n",
       "      <td>12.288690</td>\n",
       "    </tr>\n",
       "    <tr>\n",
       "      <th>75%</th>\n",
       "      <td>167756.000000</td>\n",
       "      <td>23.000000</td>\n",
       "      <td>0.0</td>\n",
       "      <td>494.500000</td>\n",
       "      <td>2.000000</td>\n",
       "      <td>12.791667</td>\n",
       "      <td>23.500000</td>\n",
       "    </tr>\n",
       "    <tr>\n",
       "      <th>max</th>\n",
       "      <td>168606.000000</td>\n",
       "      <td>4845.000000</td>\n",
       "      <td>0.0</td>\n",
       "      <td>57387.000000</td>\n",
       "      <td>31.000000</td>\n",
       "      <td>2422.500000</td>\n",
       "      <td>130.500000</td>\n",
       "    </tr>\n",
       "  </tbody>\n",
       "</table>\n",
       "</div>"
      ],
      "text/plain": [
       "             user_id  calls_count_sum  call_duration_sum  \\\n",
       "count    4138.000000      4138.000000             4138.0   \n",
       "mean   167311.826245        50.824553                0.0   \n",
       "std       565.920954       191.635567                0.0   \n",
       "min    166377.000000         1.000000                0.0   \n",
       "25%    166839.000000         3.000000                0.0   \n",
       "50%    167188.000000         8.000000                0.0   \n",
       "75%    167756.000000        23.000000                0.0   \n",
       "max    168606.000000      4845.000000                0.0   \n",
       "\n",
       "       total_call_duration_sum  operator_id_count  chislo_zvonkov_oper  \\\n",
       "count              4138.000000        4138.000000          4138.000000   \n",
       "mean               1106.953117           2.310778            16.932748   \n",
       "std                4124.707485           3.165805            67.361743   \n",
       "min                   0.000000           1.000000             1.000000   \n",
       "25%                  52.000000           1.000000             2.000000   \n",
       "50%                 172.000000           1.000000             5.000000   \n",
       "75%                 494.500000           2.000000            12.791667   \n",
       "max               57387.000000          31.000000          2422.500000   \n",
       "\n",
       "       dlit_zvonka  \n",
       "count  4138.000000  \n",
       "mean     15.894087  \n",
       "std      12.786420  \n",
       "min       0.000000  \n",
       "25%       6.000000  \n",
       "50%      12.288690  \n",
       "75%      23.500000  \n",
       "max     130.500000  "
      ]
     },
     "execution_count": 99,
     "metadata": {},
     "output_type": "execute_result"
    }
   ],
   "source": [
    "out_true_id_new.describe()"
   ]
  },
  {
   "cell_type": "code",
   "execution_count": 100,
   "metadata": {},
   "outputs": [
    {
     "data": {
      "image/png": "[encoded data removed]",
      "text/plain": [
       "<Figure size 1080x648 with 1 Axes>"
      ]
     },
     "metadata": {
      "needs_background": "light"
     },
     "output_type": "display_data"
    }
   ],
   "source": [
    "out_true_id_new.hist('chislo_zvonkov_oper', bins=200, figsize=(15, 9));"
   ]
  },
  {
   "cell_type": "code",
   "execution_count": 101,
   "metadata": {},
   "outputs": [
    {
     "data": {
      "text/plain": [
       "1.0"
      ]
     },
     "execution_count": 101,
     "metadata": {},
     "output_type": "execute_result"
    }
   ],
   "source": [
    "p5_out_true = np.percentile(out_true_id_new['chislo_zvonkov_oper'], [5])[0]\n",
    "p5_out_true"
   ]
  },
  {
   "cell_type": "code",
   "execution_count": 102,
   "metadata": {},
   "outputs": [
    {
     "data": {
      "text/plain": [
       "50.551923076922954"
      ]
     },
     "execution_count": 102,
     "metadata": {},
     "output_type": "execute_result"
    }
   ],
   "source": [
    "p95_out_true = np.percentile(out_true_id_new['chislo_zvonkov_oper'], [95])[0]\n",
    "p95_out_true"
   ]
  },
  {
   "cell_type": "code",
   "execution_count": 103,
   "metadata": {},
   "outputs": [
    {
     "data": {
      "image/png": "[encoded data removed]",
      "text/plain": [
       "<Figure size 432x288 with 1 Axes>"
      ]
     },
     "metadata": {
      "needs_background": "light"
     },
     "output_type": "display_data"
    },
    {
     "data": {
      "image/png": "[encoded data removed]",
      "text/plain": [
       "<Figure size 432x288 with 1 Axes>"
      ]
     },
     "metadata": {
      "needs_background": "light"
     },
     "output_type": "display_data"
    }
   ],
   "source": [
    "out_true_id_new_df = out_true_id_new.query('@p5_out_true < chislo_zvonkov_oper <= @p95_out_true')\n",
    "plt.title('Распределения после чистки выбросов')\n",
    "out_true_id_new_df.boxplot('chislo_zvonkov_oper')\n",
    "\n",
    "plt.xlabel('Число звонков от оператора в день')\n",
    "plt.ylabel('Число звонков')\n",
    "plt.show()\n",
    "out_true_id_new_df['chislo_zvonkov_oper'].hist(bins=10)\n",
    "plt.title('Распределения количесва звонков оператору в день')\n",
    "plt.xlabel('Число звонков оператору в день')\n",
    "plt.ylabel('Число звонков')\n",
    "plt.show()"
   ]
  },
  {
   "cell_type": "code",
   "execution_count": 104,
   "metadata": {},
   "outputs": [],
   "source": [
    "import seaborn as sns\n",
    "from matplotlib import pyplot as plt"
   ]
  },
  {
   "cell_type": "code",
   "execution_count": 105,
   "metadata": {},
   "outputs": [
    {
     "data": {
      "text/html": [
       "<div>\n",
       "<style scoped>\n",
       "    .dataframe tbody tr th:only-of-type {\n",
       "        vertical-align: middle;\n",
       "    }\n",
       "\n",
       "    .dataframe tbody tr th {\n",
       "        vertical-align: top;\n",
       "    }\n",
       "\n",
       "    .dataframe thead th {\n",
       "        text-align: right;\n",
       "    }\n",
       "</style>\n",
       "<table border=\"1\" class=\"dataframe\">\n",
       "  <thead>\n",
       "    <tr style=\"text-align: right;\">\n",
       "      <th></th>\n",
       "      <th>user_id</th>\n",
       "      <th>calls_count_sum</th>\n",
       "      <th>call_duration_sum</th>\n",
       "      <th>total_call_duration_sum</th>\n",
       "      <th>operator_id_count</th>\n",
       "      <th>chislo_zvonkov_oper</th>\n",
       "      <th>dlit_zvonka</th>\n",
       "    </tr>\n",
       "  </thead>\n",
       "  <tbody>\n",
       "    <tr>\n",
       "      <th>count</th>\n",
       "      <td>3283.000000</td>\n",
       "      <td>3283.000000</td>\n",
       "      <td>3283.0</td>\n",
       "      <td>3283.000000</td>\n",
       "      <td>3283.000000</td>\n",
       "      <td>3283.000000</td>\n",
       "      <td>3283.000000</td>\n",
       "    </tr>\n",
       "    <tr>\n",
       "      <th>mean</th>\n",
       "      <td>167307.187938</td>\n",
       "      <td>28.918367</td>\n",
       "      <td>0.0</td>\n",
       "      <td>635.211087</td>\n",
       "      <td>2.369479</td>\n",
       "      <td>9.801608</td>\n",
       "      <td>15.550983</td>\n",
       "    </tr>\n",
       "    <tr>\n",
       "      <th>std</th>\n",
       "      <td>567.656255</td>\n",
       "      <td>85.017789</td>\n",
       "      <td>0.0</td>\n",
       "      <td>1927.923187</td>\n",
       "      <td>3.017258</td>\n",
       "      <td>9.621810</td>\n",
       "      <td>11.629297</td>\n",
       "    </tr>\n",
       "    <tr>\n",
       "      <th>min</th>\n",
       "      <td>166377.000000</td>\n",
       "      <td>2.000000</td>\n",
       "      <td>0.0</td>\n",
       "      <td>0.000000</td>\n",
       "      <td>1.000000</td>\n",
       "      <td>1.200000</td>\n",
       "      <td>0.000000</td>\n",
       "    </tr>\n",
       "    <tr>\n",
       "      <th>25%</th>\n",
       "      <td>166833.000000</td>\n",
       "      <td>5.000000</td>\n",
       "      <td>0.0</td>\n",
       "      <td>90.000000</td>\n",
       "      <td>1.000000</td>\n",
       "      <td>3.000000</td>\n",
       "      <td>6.250000</td>\n",
       "    </tr>\n",
       "    <tr>\n",
       "      <th>50%</th>\n",
       "      <td>167188.000000</td>\n",
       "      <td>10.000000</td>\n",
       "      <td>0.0</td>\n",
       "      <td>216.000000</td>\n",
       "      <td>1.000000</td>\n",
       "      <td>6.000000</td>\n",
       "      <td>12.642857</td>\n",
       "    </tr>\n",
       "    <tr>\n",
       "      <th>75%</th>\n",
       "      <td>167756.000000</td>\n",
       "      <td>23.000000</td>\n",
       "      <td>0.0</td>\n",
       "      <td>501.500000</td>\n",
       "      <td>3.000000</td>\n",
       "      <td>13.000000</td>\n",
       "      <td>23.228758</td>\n",
       "    </tr>\n",
       "    <tr>\n",
       "      <th>max</th>\n",
       "      <td>168606.000000</td>\n",
       "      <td>1260.000000</td>\n",
       "      <td>0.0</td>\n",
       "      <td>31338.000000</td>\n",
       "      <td>30.000000</td>\n",
       "      <td>50.500000</td>\n",
       "      <td>130.500000</td>\n",
       "    </tr>\n",
       "  </tbody>\n",
       "</table>\n",
       "</div>"
      ],
      "text/plain": [
       "             user_id  calls_count_sum  call_duration_sum  \\\n",
       "count    3283.000000      3283.000000             3283.0   \n",
       "mean   167307.187938        28.918367                0.0   \n",
       "std       567.656255        85.017789                0.0   \n",
       "min    166377.000000         2.000000                0.0   \n",
       "25%    166833.000000         5.000000                0.0   \n",
       "50%    167188.000000        10.000000                0.0   \n",
       "75%    167756.000000        23.000000                0.0   \n",
       "max    168606.000000      1260.000000                0.0   \n",
       "\n",
       "       total_call_duration_sum  operator_id_count  chislo_zvonkov_oper  \\\n",
       "count              3283.000000        3283.000000          3283.000000   \n",
       "mean                635.211087           2.369479             9.801608   \n",
       "std                1927.923187           3.017258             9.621810   \n",
       "min                   0.000000           1.000000             1.200000   \n",
       "25%                  90.000000           1.000000             3.000000   \n",
       "50%                 216.000000           1.000000             6.000000   \n",
       "75%                 501.500000           3.000000            13.000000   \n",
       "max               31338.000000          30.000000            50.500000   \n",
       "\n",
       "       dlit_zvonka  \n",
       "count  3283.000000  \n",
       "mean     15.550983  \n",
       "std      11.629297  \n",
       "min       0.000000  \n",
       "25%       6.250000  \n",
       "50%      12.642857  \n",
       "75%      23.228758  \n",
       "max     130.500000  "
      ]
     },
     "execution_count": 105,
     "metadata": {},
     "output_type": "execute_result"
    }
   ],
   "source": [
    "out_true_id_new_df.describe()"
   ]
  },
  {
   "cell_type": "markdown",
   "metadata": {},
   "source": [
    "Медианное значение числа исходящих звонков составляет 6, хороший показатель если оператор совершил не менее 13 неуспешных попыток дозвона и плохой если не более 3-х. Медианное время исходящего звонка звонка составляет 12 минут, хорошый показатель если оператор не стал дозваниваться более 6 минут и плохой показатель, если более 23 минут"
   ]
  },
  {
   "cell_type": "markdown",
   "metadata": {},
   "source": [
    "**Какому числу клиентов эта услуга будет интересна**"
   ]
  },
  {
   "cell_type": "markdown",
   "metadata": {},
   "source": [
    "Данная услуга будет интересна практически всем колл-центрам занимающимися как приемами звонков от клиентав, так и колл-центрам, которые сами обзванивают клиентов. Мы привели в анализе данных показатели по которым мы видим какие операторы являются эффективными, а какие нет. Определим их число"
   ]
  },
  {
   "cell_type": "code",
   "execution_count": 106,
   "metadata": {},
   "outputs": [
    {
     "data": {
      "text/html": [
       "<div>\n",
       "<style scoped>\n",
       "    .dataframe tbody tr th:only-of-type {\n",
       "        vertical-align: middle;\n",
       "    }\n",
       "\n",
       "    .dataframe tbody tr th {\n",
       "        vertical-align: top;\n",
       "    }\n",
       "\n",
       "    .dataframe thead th {\n",
       "        text-align: right;\n",
       "    }\n",
       "</style>\n",
       "<table border=\"1\" class=\"dataframe\">\n",
       "  <thead>\n",
       "    <tr style=\"text-align: right;\">\n",
       "      <th></th>\n",
       "      <th>user_id</th>\n",
       "      <th>date</th>\n",
       "      <th>direction</th>\n",
       "      <th>calls_count</th>\n",
       "    </tr>\n",
       "  </thead>\n",
       "  <tbody>\n",
       "    <tr>\n",
       "      <th>0</th>\n",
       "      <td>166377</td>\n",
       "      <td>2019-08-04</td>\n",
       "      <td>in</td>\n",
       "      <td>2</td>\n",
       "    </tr>\n",
       "    <tr>\n",
       "      <th>1</th>\n",
       "      <td>166377</td>\n",
       "      <td>2019-08-05</td>\n",
       "      <td>in</td>\n",
       "      <td>6</td>\n",
       "    </tr>\n",
       "    <tr>\n",
       "      <th>2</th>\n",
       "      <td>166377</td>\n",
       "      <td>2019-08-05</td>\n",
       "      <td>out</td>\n",
       "      <td>18</td>\n",
       "    </tr>\n",
       "    <tr>\n",
       "      <th>3</th>\n",
       "      <td>166377</td>\n",
       "      <td>2019-08-06</td>\n",
       "      <td>in</td>\n",
       "      <td>4</td>\n",
       "    </tr>\n",
       "    <tr>\n",
       "      <th>4</th>\n",
       "      <td>166377</td>\n",
       "      <td>2019-08-06</td>\n",
       "      <td>out</td>\n",
       "      <td>15</td>\n",
       "    </tr>\n",
       "    <tr>\n",
       "      <th>...</th>\n",
       "      <td>...</td>\n",
       "      <td>...</td>\n",
       "      <td>...</td>\n",
       "      <td>...</td>\n",
       "    </tr>\n",
       "    <tr>\n",
       "      <th>15668</th>\n",
       "      <td>168606</td>\n",
       "      <td>2019-11-09</td>\n",
       "      <td>out</td>\n",
       "      <td>4</td>\n",
       "    </tr>\n",
       "    <tr>\n",
       "      <th>15669</th>\n",
       "      <td>168606</td>\n",
       "      <td>2019-11-10</td>\n",
       "      <td>out</td>\n",
       "      <td>1</td>\n",
       "    </tr>\n",
       "    <tr>\n",
       "      <th>15670</th>\n",
       "      <td>168606</td>\n",
       "      <td>2019-11-11</td>\n",
       "      <td>out</td>\n",
       "      <td>2</td>\n",
       "    </tr>\n",
       "    <tr>\n",
       "      <th>15671</th>\n",
       "      <td>168606</td>\n",
       "      <td>2019-11-15</td>\n",
       "      <td>out</td>\n",
       "      <td>4</td>\n",
       "    </tr>\n",
       "    <tr>\n",
       "      <th>15672</th>\n",
       "      <td>168606</td>\n",
       "      <td>2019-11-19</td>\n",
       "      <td>in</td>\n",
       "      <td>2</td>\n",
       "    </tr>\n",
       "  </tbody>\n",
       "</table>\n",
       "<p>15673 rows × 4 columns</p>\n",
       "</div>"
      ],
      "text/plain": [
       "       user_id        date direction  calls_count\n",
       "0       166377  2019-08-04        in            2\n",
       "1       166377  2019-08-05        in            6\n",
       "2       166377  2019-08-05       out           18\n",
       "3       166377  2019-08-06        in            4\n",
       "4       166377  2019-08-06       out           15\n",
       "...        ...         ...       ...          ...\n",
       "15668   168606  2019-11-09       out            4\n",
       "15669   168606  2019-11-10       out            1\n",
       "15670   168606  2019-11-11       out            2\n",
       "15671   168606  2019-11-15       out            4\n",
       "15672   168606  2019-11-19        in            2\n",
       "\n",
       "[15673 rows x 4 columns]"
      ]
     },
     "execution_count": 106,
     "metadata": {},
     "output_type": "execute_result"
    }
   ],
   "source": [
    "data_group_in_out = data.groupby(['user_id', 'date', 'direction']).agg({'calls_count': 'sum'}).reset_index() \n",
    "data_group_in_out"
   ]
  },
  {
   "cell_type": "code",
   "execution_count": 107,
   "metadata": {},
   "outputs": [
    {
     "data": {
      "text/html": [
       "<div>\n",
       "<style scoped>\n",
       "    .dataframe tbody tr th:only-of-type {\n",
       "        vertical-align: middle;\n",
       "    }\n",
       "\n",
       "    .dataframe tbody tr th {\n",
       "        vertical-align: top;\n",
       "    }\n",
       "\n",
       "    .dataframe thead th {\n",
       "        text-align: right;\n",
       "    }\n",
       "</style>\n",
       "<table border=\"1\" class=\"dataframe\">\n",
       "  <thead>\n",
       "    <tr style=\"text-align: right;\">\n",
       "      <th></th>\n",
       "      <th>user_id</th>\n",
       "      <th>date</th>\n",
       "      <th>direction</th>\n",
       "      <th>calls_count</th>\n",
       "    </tr>\n",
       "  </thead>\n",
       "  <tbody>\n",
       "    <tr>\n",
       "      <th>1</th>\n",
       "      <td>166377</td>\n",
       "      <td>2019-08-05</td>\n",
       "      <td>in</td>\n",
       "      <td>6</td>\n",
       "    </tr>\n",
       "    <tr>\n",
       "      <th>3</th>\n",
       "      <td>166377</td>\n",
       "      <td>2019-08-06</td>\n",
       "      <td>in</td>\n",
       "      <td>4</td>\n",
       "    </tr>\n",
       "    <tr>\n",
       "      <th>11</th>\n",
       "      <td>166377</td>\n",
       "      <td>2019-08-13</td>\n",
       "      <td>in</td>\n",
       "      <td>8</td>\n",
       "    </tr>\n",
       "    <tr>\n",
       "      <th>13</th>\n",
       "      <td>166377</td>\n",
       "      <td>2019-08-14</td>\n",
       "      <td>in</td>\n",
       "      <td>4</td>\n",
       "    </tr>\n",
       "    <tr>\n",
       "      <th>25</th>\n",
       "      <td>166377</td>\n",
       "      <td>2019-08-23</td>\n",
       "      <td>in</td>\n",
       "      <td>4</td>\n",
       "    </tr>\n",
       "    <tr>\n",
       "      <th>...</th>\n",
       "      <td>...</td>\n",
       "      <td>...</td>\n",
       "      <td>...</td>\n",
       "      <td>...</td>\n",
       "    </tr>\n",
       "    <tr>\n",
       "      <th>15643</th>\n",
       "      <td>168601</td>\n",
       "      <td>2019-11-15</td>\n",
       "      <td>in</td>\n",
       "      <td>12</td>\n",
       "    </tr>\n",
       "    <tr>\n",
       "      <th>15653</th>\n",
       "      <td>168601</td>\n",
       "      <td>2019-11-25</td>\n",
       "      <td>in</td>\n",
       "      <td>8</td>\n",
       "    </tr>\n",
       "    <tr>\n",
       "      <th>15655</th>\n",
       "      <td>168601</td>\n",
       "      <td>2019-11-26</td>\n",
       "      <td>in</td>\n",
       "      <td>7</td>\n",
       "    </tr>\n",
       "    <tr>\n",
       "      <th>15657</th>\n",
       "      <td>168601</td>\n",
       "      <td>2019-11-27</td>\n",
       "      <td>in</td>\n",
       "      <td>4</td>\n",
       "    </tr>\n",
       "    <tr>\n",
       "      <th>15666</th>\n",
       "      <td>168606</td>\n",
       "      <td>2019-11-08</td>\n",
       "      <td>in</td>\n",
       "      <td>9</td>\n",
       "    </tr>\n",
       "  </tbody>\n",
       "</table>\n",
       "<p>5141 rows × 4 columns</p>\n",
       "</div>"
      ],
      "text/plain": [
       "       user_id        date direction  calls_count\n",
       "1       166377  2019-08-05        in            6\n",
       "3       166377  2019-08-06        in            4\n",
       "11      166377  2019-08-13        in            8\n",
       "13      166377  2019-08-14        in            4\n",
       "25      166377  2019-08-23        in            4\n",
       "...        ...         ...       ...          ...\n",
       "15643   168601  2019-11-15        in           12\n",
       "15653   168601  2019-11-25        in            8\n",
       "15655   168601  2019-11-26        in            7\n",
       "15657   168601  2019-11-27        in            4\n",
       "15666   168606  2019-11-08        in            9\n",
       "\n",
       "[5141 rows x 4 columns]"
      ]
     },
     "execution_count": 107,
     "metadata": {},
     "output_type": "execute_result"
    }
   ],
   "source": [
    "data_in_c_c = data_group_in_out.query('direction == \"in\" and calls_count >= 4')\n",
    "data_in_c_c"
   ]
  },
  {
   "cell_type": "code",
   "execution_count": 108,
   "metadata": {},
   "outputs": [
    {
     "data": {
      "text/plain": [
       "273"
      ]
     },
     "execution_count": 108,
     "metadata": {},
     "output_type": "execute_result"
    }
   ],
   "source": [
    "data_in_c_c['user_id'].nunique()"
   ]
  },
  {
   "cell_type": "markdown",
   "metadata": {},
   "source": [
    "Наша услуга будет интересна 273 колл-центрам принимающих входящие звонки"
   ]
  },
  {
   "cell_type": "code",
   "execution_count": 109,
   "metadata": {},
   "outputs": [
    {
     "data": {
      "text/html": [
       "<div>\n",
       "<style scoped>\n",
       "    .dataframe tbody tr th:only-of-type {\n",
       "        vertical-align: middle;\n",
       "    }\n",
       "\n",
       "    .dataframe tbody tr th {\n",
       "        vertical-align: top;\n",
       "    }\n",
       "\n",
       "    .dataframe thead th {\n",
       "        text-align: right;\n",
       "    }\n",
       "</style>\n",
       "<table border=\"1\" class=\"dataframe\">\n",
       "  <thead>\n",
       "    <tr style=\"text-align: right;\">\n",
       "      <th></th>\n",
       "      <th>user_id</th>\n",
       "      <th>date</th>\n",
       "      <th>direction</th>\n",
       "      <th>calls_count</th>\n",
       "    </tr>\n",
       "  </thead>\n",
       "  <tbody>\n",
       "    <tr>\n",
       "      <th>2</th>\n",
       "      <td>166377</td>\n",
       "      <td>2019-08-05</td>\n",
       "      <td>out</td>\n",
       "      <td>18</td>\n",
       "    </tr>\n",
       "    <tr>\n",
       "      <th>4</th>\n",
       "      <td>166377</td>\n",
       "      <td>2019-08-06</td>\n",
       "      <td>out</td>\n",
       "      <td>15</td>\n",
       "    </tr>\n",
       "    <tr>\n",
       "      <th>8</th>\n",
       "      <td>166377</td>\n",
       "      <td>2019-08-09</td>\n",
       "      <td>out</td>\n",
       "      <td>21</td>\n",
       "    </tr>\n",
       "    <tr>\n",
       "      <th>10</th>\n",
       "      <td>166377</td>\n",
       "      <td>2019-08-12</td>\n",
       "      <td>out</td>\n",
       "      <td>21</td>\n",
       "    </tr>\n",
       "    <tr>\n",
       "      <th>12</th>\n",
       "      <td>166377</td>\n",
       "      <td>2019-08-13</td>\n",
       "      <td>out</td>\n",
       "      <td>18</td>\n",
       "    </tr>\n",
       "    <tr>\n",
       "      <th>...</th>\n",
       "      <td>...</td>\n",
       "      <td>...</td>\n",
       "      <td>...</td>\n",
       "      <td>...</td>\n",
       "    </tr>\n",
       "    <tr>\n",
       "      <th>15642</th>\n",
       "      <td>168601</td>\n",
       "      <td>2019-11-14</td>\n",
       "      <td>out</td>\n",
       "      <td>80</td>\n",
       "    </tr>\n",
       "    <tr>\n",
       "      <th>15644</th>\n",
       "      <td>168601</td>\n",
       "      <td>2019-11-15</td>\n",
       "      <td>out</td>\n",
       "      <td>35</td>\n",
       "    </tr>\n",
       "    <tr>\n",
       "      <th>15654</th>\n",
       "      <td>168601</td>\n",
       "      <td>2019-11-25</td>\n",
       "      <td>out</td>\n",
       "      <td>48</td>\n",
       "    </tr>\n",
       "    <tr>\n",
       "      <th>15656</th>\n",
       "      <td>168601</td>\n",
       "      <td>2019-11-26</td>\n",
       "      <td>out</td>\n",
       "      <td>18</td>\n",
       "    </tr>\n",
       "    <tr>\n",
       "      <th>15658</th>\n",
       "      <td>168601</td>\n",
       "      <td>2019-11-27</td>\n",
       "      <td>out</td>\n",
       "      <td>28</td>\n",
       "    </tr>\n",
       "  </tbody>\n",
       "</table>\n",
       "<p>4308 rows × 4 columns</p>\n",
       "</div>"
      ],
      "text/plain": [
       "       user_id        date direction  calls_count\n",
       "2       166377  2019-08-05       out           18\n",
       "4       166377  2019-08-06       out           15\n",
       "8       166377  2019-08-09       out           21\n",
       "10      166377  2019-08-12       out           21\n",
       "12      166377  2019-08-13       out           18\n",
       "...        ...         ...       ...          ...\n",
       "15642   168601  2019-11-14       out           80\n",
       "15644   168601  2019-11-15       out           35\n",
       "15654   168601  2019-11-25       out           48\n",
       "15656   168601  2019-11-26       out           18\n",
       "15658   168601  2019-11-27       out           28\n",
       "\n",
       "[4308 rows x 4 columns]"
      ]
     },
     "execution_count": 109,
     "metadata": {},
     "output_type": "execute_result"
    }
   ],
   "source": [
    "data_out_c_c = data_group_in_out.query('direction == \"out\" and calls_count >= 7')\n",
    "data_out_c_c"
   ]
  },
  {
   "cell_type": "code",
   "execution_count": 110,
   "metadata": {},
   "outputs": [
    {
     "data": {
      "text/plain": [
       "180"
      ]
     },
     "execution_count": 110,
     "metadata": {},
     "output_type": "execute_result"
    }
   ],
   "source": [
    "data_out_c_c['user_id'].nunique()"
   ]
  },
  {
   "cell_type": "markdown",
   "metadata": {},
   "source": [
    "Наша услуга будет интересна 180 колл-центрам делающих исходящие звонки"
   ]
  },
  {
   "cell_type": "markdown",
   "metadata": {},
   "source": [
    "#  Определим эффективных и неэффективных операторов"
   ]
  },
  {
   "cell_type": "markdown",
   "metadata": {},
   "source": [
    "Эффективность будем определять по 2-м датасетам, один это те колл центры что принимают звонки, второй, что занимаются обзвоном"
   ]
  },
  {
   "cell_type": "markdown",
   "metadata": {},
   "source": [
    "**Входящие звонки**"
   ]
  },
  {
   "cell_type": "code",
   "execution_count": 111,
   "metadata": {},
   "outputs": [],
   "source": [
    "oper_in = direction_in.loc[:, ['user_id', 'operator_id', 'calls_count', 'call_duration', 'total_call_duration']]\n",
    "#oper_in.head(30)"
   ]
  },
  {
   "cell_type": "code",
   "execution_count": 112,
   "metadata": {},
   "outputs": [],
   "source": [
    "o_i_g = oper_in.groupby(['user_id', 'operator_id']).agg({'calls_count': ['mean'], 'call_duration': ['mean'], 'total_call_duration': ['mean']}).reset_index()\n",
    "o_i_g.columns = ['user_id','operator_id', 'calls_count_mean', 'call_duration_mean', 'total_call_duration_mean']\n",
    "#o_i_g"
   ]
  },
  {
   "cell_type": "code",
   "execution_count": 113,
   "metadata": {},
   "outputs": [],
   "source": [
    "data_in_c_c_group = data_in_c_c.groupby(['user_id']).agg({'user_id': ['count']}).reset_index()\n",
    "data_in_c_c_group.columns = ['user_id','user_id_count']"
   ]
  },
  {
   "cell_type": "markdown",
   "metadata": {},
   "source": [
    "Выделим колл-центры, которым интересна наша услуга"
   ]
  },
  {
   "cell_type": "code",
   "execution_count": 114,
   "metadata": {},
   "outputs": [
    {
     "data": {
      "text/html": [
       "<div>\n",
       "<style scoped>\n",
       "    .dataframe tbody tr th:only-of-type {\n",
       "        vertical-align: middle;\n",
       "    }\n",
       "\n",
       "    .dataframe tbody tr th {\n",
       "        vertical-align: top;\n",
       "    }\n",
       "\n",
       "    .dataframe thead th {\n",
       "        text-align: right;\n",
       "    }\n",
       "</style>\n",
       "<table border=\"1\" class=\"dataframe\">\n",
       "  <thead>\n",
       "    <tr style=\"text-align: right;\">\n",
       "      <th></th>\n",
       "      <th>user_id</th>\n",
       "      <th>in</th>\n",
       "    </tr>\n",
       "  </thead>\n",
       "  <tbody>\n",
       "    <tr>\n",
       "      <th>0</th>\n",
       "      <td>166377</td>\n",
       "      <td>1</td>\n",
       "    </tr>\n",
       "    <tr>\n",
       "      <th>1</th>\n",
       "      <td>166391</td>\n",
       "      <td>1</td>\n",
       "    </tr>\n",
       "    <tr>\n",
       "      <th>2</th>\n",
       "      <td>166392</td>\n",
       "      <td>1</td>\n",
       "    </tr>\n",
       "    <tr>\n",
       "      <th>3</th>\n",
       "      <td>166405</td>\n",
       "      <td>1</td>\n",
       "    </tr>\n",
       "    <tr>\n",
       "      <th>4</th>\n",
       "      <td>166406</td>\n",
       "      <td>1</td>\n",
       "    </tr>\n",
       "    <tr>\n",
       "      <th>...</th>\n",
       "      <td>...</td>\n",
       "      <td>...</td>\n",
       "    </tr>\n",
       "    <tr>\n",
       "      <th>268</th>\n",
       "      <td>168579</td>\n",
       "      <td>1</td>\n",
       "    </tr>\n",
       "    <tr>\n",
       "      <th>269</th>\n",
       "      <td>168583</td>\n",
       "      <td>1</td>\n",
       "    </tr>\n",
       "    <tr>\n",
       "      <th>270</th>\n",
       "      <td>168598</td>\n",
       "      <td>1</td>\n",
       "    </tr>\n",
       "    <tr>\n",
       "      <th>271</th>\n",
       "      <td>168601</td>\n",
       "      <td>1</td>\n",
       "    </tr>\n",
       "    <tr>\n",
       "      <th>272</th>\n",
       "      <td>168606</td>\n",
       "      <td>1</td>\n",
       "    </tr>\n",
       "  </tbody>\n",
       "</table>\n",
       "<p>273 rows × 2 columns</p>\n",
       "</div>"
      ],
      "text/plain": [
       "     user_id  in\n",
       "0     166377   1\n",
       "1     166391   1\n",
       "2     166392   1\n",
       "3     166405   1\n",
       "4     166406   1\n",
       "..       ...  ..\n",
       "268   168579   1\n",
       "269   168583   1\n",
       "270   168598   1\n",
       "271   168601   1\n",
       "272   168606   1\n",
       "\n",
       "[273 rows x 2 columns]"
      ]
     },
     "execution_count": 114,
     "metadata": {},
     "output_type": "execute_result"
    }
   ],
   "source": [
    "data_in_user_1 = data_in_c_c_group.loc[:, ['user_id']]\n",
    "data_in_user_1['in'] = 1\n",
    "data_in_user_1"
   ]
  },
  {
   "cell_type": "code",
   "execution_count": 115,
   "metadata": {},
   "outputs": [
    {
     "data": {
      "text/html": [
       "<div>\n",
       "<style scoped>\n",
       "    .dataframe tbody tr th:only-of-type {\n",
       "        vertical-align: middle;\n",
       "    }\n",
       "\n",
       "    .dataframe tbody tr th {\n",
       "        vertical-align: top;\n",
       "    }\n",
       "\n",
       "    .dataframe thead th {\n",
       "        text-align: right;\n",
       "    }\n",
       "</style>\n",
       "<table border=\"1\" class=\"dataframe\">\n",
       "  <thead>\n",
       "    <tr style=\"text-align: right;\">\n",
       "      <th></th>\n",
       "      <th>user_id</th>\n",
       "      <th>operator_id</th>\n",
       "      <th>calls_count_mean</th>\n",
       "      <th>call_duration_mean</th>\n",
       "      <th>total_call_duration_mean</th>\n",
       "      <th>in</th>\n",
       "    </tr>\n",
       "  </thead>\n",
       "  <tbody>\n",
       "    <tr>\n",
       "      <th>0</th>\n",
       "      <td>166377</td>\n",
       "      <td>880022.0</td>\n",
       "      <td>1.000000</td>\n",
       "      <td>64.000000</td>\n",
       "      <td>78.000000</td>\n",
       "      <td>1.0</td>\n",
       "    </tr>\n",
       "    <tr>\n",
       "      <th>1</th>\n",
       "      <td>166377</td>\n",
       "      <td>880026.0</td>\n",
       "      <td>1.555556</td>\n",
       "      <td>121.555556</td>\n",
       "      <td>130.444444</td>\n",
       "      <td>1.0</td>\n",
       "    </tr>\n",
       "    <tr>\n",
       "      <th>2</th>\n",
       "      <td>166377</td>\n",
       "      <td>880028.0</td>\n",
       "      <td>1.750000</td>\n",
       "      <td>127.875000</td>\n",
       "      <td>135.791667</td>\n",
       "      <td>1.0</td>\n",
       "    </tr>\n",
       "    <tr>\n",
       "      <th>3</th>\n",
       "      <td>166391</td>\n",
       "      <td>882476.0</td>\n",
       "      <td>1.000000</td>\n",
       "      <td>13.000000</td>\n",
       "      <td>77.000000</td>\n",
       "      <td>1.0</td>\n",
       "    </tr>\n",
       "    <tr>\n",
       "      <th>4</th>\n",
       "      <td>166392</td>\n",
       "      <td>891900.0</td>\n",
       "      <td>2.071429</td>\n",
       "      <td>242.071429</td>\n",
       "      <td>318.285714</td>\n",
       "      <td>1.0</td>\n",
       "    </tr>\n",
       "    <tr>\n",
       "      <th>...</th>\n",
       "      <td>...</td>\n",
       "      <td>...</td>\n",
       "      <td>...</td>\n",
       "      <td>...</td>\n",
       "      <td>...</td>\n",
       "      <td>...</td>\n",
       "    </tr>\n",
       "    <tr>\n",
       "      <th>679</th>\n",
       "      <td>168583</td>\n",
       "      <td>962062.0</td>\n",
       "      <td>1.875000</td>\n",
       "      <td>75.250000</td>\n",
       "      <td>100.750000</td>\n",
       "      <td>1.0</td>\n",
       "    </tr>\n",
       "    <tr>\n",
       "      <th>680</th>\n",
       "      <td>168598</td>\n",
       "      <td>958394.0</td>\n",
       "      <td>2.200000</td>\n",
       "      <td>419.700000</td>\n",
       "      <td>435.400000</td>\n",
       "      <td>1.0</td>\n",
       "    </tr>\n",
       "    <tr>\n",
       "      <th>681</th>\n",
       "      <td>168601</td>\n",
       "      <td>952914.0</td>\n",
       "      <td>5.200000</td>\n",
       "      <td>550.066667</td>\n",
       "      <td>588.933333</td>\n",
       "      <td>1.0</td>\n",
       "    </tr>\n",
       "    <tr>\n",
       "      <th>682</th>\n",
       "      <td>168601</td>\n",
       "      <td>952916.0</td>\n",
       "      <td>1.000000</td>\n",
       "      <td>161.000000</td>\n",
       "      <td>186.000000</td>\n",
       "      <td>1.0</td>\n",
       "    </tr>\n",
       "    <tr>\n",
       "      <th>683</th>\n",
       "      <td>168606</td>\n",
       "      <td>957922.0</td>\n",
       "      <td>1.500000</td>\n",
       "      <td>343.000000</td>\n",
       "      <td>356.000000</td>\n",
       "      <td>1.0</td>\n",
       "    </tr>\n",
       "  </tbody>\n",
       "</table>\n",
       "<p>684 rows × 6 columns</p>\n",
       "</div>"
      ],
      "text/plain": [
       "     user_id  operator_id  calls_count_mean  call_duration_mean  \\\n",
       "0     166377     880022.0          1.000000           64.000000   \n",
       "1     166377     880026.0          1.555556          121.555556   \n",
       "2     166377     880028.0          1.750000          127.875000   \n",
       "3     166391     882476.0          1.000000           13.000000   \n",
       "4     166392     891900.0          2.071429          242.071429   \n",
       "..       ...          ...               ...                 ...   \n",
       "679   168583     962062.0          1.875000           75.250000   \n",
       "680   168598     958394.0          2.200000          419.700000   \n",
       "681   168601     952914.0          5.200000          550.066667   \n",
       "682   168601     952916.0          1.000000          161.000000   \n",
       "683   168606     957922.0          1.500000          343.000000   \n",
       "\n",
       "     total_call_duration_mean   in  \n",
       "0                   78.000000  1.0  \n",
       "1                  130.444444  1.0  \n",
       "2                  135.791667  1.0  \n",
       "3                   77.000000  1.0  \n",
       "4                  318.285714  1.0  \n",
       "..                        ...  ...  \n",
       "679                100.750000  1.0  \n",
       "680                435.400000  1.0  \n",
       "681                588.933333  1.0  \n",
       "682                186.000000  1.0  \n",
       "683                356.000000  1.0  \n",
       "\n",
       "[684 rows x 6 columns]"
      ]
     },
     "execution_count": 115,
     "metadata": {},
     "output_type": "execute_result"
    }
   ],
   "source": [
    "o_i_g_merge = o_i_g.merge(data_in_user_1, left_on=['user_id'], right_on=['user_id'], how='left')\n",
    "o_i_g_merge['in'] = o_i_g_merge['in'].fillna(0)\n",
    "o_i_g_merge"
   ]
  },
  {
   "cell_type": "code",
   "execution_count": 116,
   "metadata": {},
   "outputs": [
    {
     "data": {
      "text/html": [
       "<div>\n",
       "<style scoped>\n",
       "    .dataframe tbody tr th:only-of-type {\n",
       "        vertical-align: middle;\n",
       "    }\n",
       "\n",
       "    .dataframe tbody tr th {\n",
       "        vertical-align: top;\n",
       "    }\n",
       "\n",
       "    .dataframe thead th {\n",
       "        text-align: right;\n",
       "    }\n",
       "</style>\n",
       "<table border=\"1\" class=\"dataframe\">\n",
       "  <thead>\n",
       "    <tr style=\"text-align: right;\">\n",
       "      <th></th>\n",
       "      <th>operator_id</th>\n",
       "      <th>calls_count_mean</th>\n",
       "      <th>call_duration_mean</th>\n",
       "      <th>in</th>\n",
       "      <th>call_1_mean</th>\n",
       "    </tr>\n",
       "  </thead>\n",
       "  <tbody>\n",
       "    <tr>\n",
       "      <th>0</th>\n",
       "      <td>880022.0</td>\n",
       "      <td>1.000000</td>\n",
       "      <td>64.000000</td>\n",
       "      <td>1.0</td>\n",
       "      <td>64.000000</td>\n",
       "    </tr>\n",
       "    <tr>\n",
       "      <th>1</th>\n",
       "      <td>880026.0</td>\n",
       "      <td>1.555556</td>\n",
       "      <td>121.555556</td>\n",
       "      <td>1.0</td>\n",
       "      <td>78.142857</td>\n",
       "    </tr>\n",
       "    <tr>\n",
       "      <th>2</th>\n",
       "      <td>880028.0</td>\n",
       "      <td>1.750000</td>\n",
       "      <td>127.875000</td>\n",
       "      <td>1.0</td>\n",
       "      <td>73.071429</td>\n",
       "    </tr>\n",
       "    <tr>\n",
       "      <th>3</th>\n",
       "      <td>882476.0</td>\n",
       "      <td>1.000000</td>\n",
       "      <td>13.000000</td>\n",
       "      <td>1.0</td>\n",
       "      <td>13.000000</td>\n",
       "    </tr>\n",
       "    <tr>\n",
       "      <th>4</th>\n",
       "      <td>891900.0</td>\n",
       "      <td>2.071429</td>\n",
       "      <td>242.071429</td>\n",
       "      <td>1.0</td>\n",
       "      <td>116.862069</td>\n",
       "    </tr>\n",
       "    <tr>\n",
       "      <th>...</th>\n",
       "      <td>...</td>\n",
       "      <td>...</td>\n",
       "      <td>...</td>\n",
       "      <td>...</td>\n",
       "      <td>...</td>\n",
       "    </tr>\n",
       "    <tr>\n",
       "      <th>679</th>\n",
       "      <td>962062.0</td>\n",
       "      <td>1.875000</td>\n",
       "      <td>75.250000</td>\n",
       "      <td>1.0</td>\n",
       "      <td>40.133333</td>\n",
       "    </tr>\n",
       "    <tr>\n",
       "      <th>680</th>\n",
       "      <td>958394.0</td>\n",
       "      <td>2.200000</td>\n",
       "      <td>419.700000</td>\n",
       "      <td>1.0</td>\n",
       "      <td>190.772727</td>\n",
       "    </tr>\n",
       "    <tr>\n",
       "      <th>681</th>\n",
       "      <td>952914.0</td>\n",
       "      <td>5.200000</td>\n",
       "      <td>550.066667</td>\n",
       "      <td>1.0</td>\n",
       "      <td>105.782051</td>\n",
       "    </tr>\n",
       "    <tr>\n",
       "      <th>682</th>\n",
       "      <td>952916.0</td>\n",
       "      <td>1.000000</td>\n",
       "      <td>161.000000</td>\n",
       "      <td>1.0</td>\n",
       "      <td>161.000000</td>\n",
       "    </tr>\n",
       "    <tr>\n",
       "      <th>683</th>\n",
       "      <td>957922.0</td>\n",
       "      <td>1.500000</td>\n",
       "      <td>343.000000</td>\n",
       "      <td>1.0</td>\n",
       "      <td>228.666667</td>\n",
       "    </tr>\n",
       "  </tbody>\n",
       "</table>\n",
       "<p>684 rows × 5 columns</p>\n",
       "</div>"
      ],
      "text/plain": [
       "     operator_id  calls_count_mean  call_duration_mean   in  call_1_mean\n",
       "0       880022.0          1.000000           64.000000  1.0    64.000000\n",
       "1       880026.0          1.555556          121.555556  1.0    78.142857\n",
       "2       880028.0          1.750000          127.875000  1.0    73.071429\n",
       "3       882476.0          1.000000           13.000000  1.0    13.000000\n",
       "4       891900.0          2.071429          242.071429  1.0   116.862069\n",
       "..           ...               ...                 ...  ...          ...\n",
       "679     962062.0          1.875000           75.250000  1.0    40.133333\n",
       "680     958394.0          2.200000          419.700000  1.0   190.772727\n",
       "681     952914.0          5.200000          550.066667  1.0   105.782051\n",
       "682     952916.0          1.000000          161.000000  1.0   161.000000\n",
       "683     957922.0          1.500000          343.000000  1.0   228.666667\n",
       "\n",
       "[684 rows x 5 columns]"
      ]
     },
     "execution_count": 116,
     "metadata": {},
     "output_type": "execute_result"
    }
   ],
   "source": [
    "o_i_g_m_1 = o_i_g_merge.loc[:, ['operator_id', 'calls_count_mean', 'call_duration_mean', 'in']]\n",
    "o_i_g_m_1['call_1_mean'] = o_i_g_m_1['call_duration_mean'] / o_i_g_m_1['calls_count_mean']\n",
    "o_i_g_m_1"
   ]
  },
  {
   "cell_type": "markdown",
   "metadata": {},
   "source": [
    "Создади функцию для определения неэффективных операторов для колл центров занимающихся приемом звонков"
   ]
  },
  {
   "cell_type": "code",
   "execution_count": 117,
   "metadata": {},
   "outputs": [],
   "source": [
    "effectiveness_in = o_i_g_m_1.loc[:, ['calls_count_mean', 'call_1_mean', 'in']]\n",
    "\n",
    "def effect(row):\n",
    "    calls_count_mean = row['calls_count_mean']\n",
    "    call_1_mean_row = row['call_1_mean']\n",
    "    in_row = row['in']\n",
    "\n",
    "    if in_row == 0:\n",
    "            return 'малоактивный колл-центр'\n",
    "        \n",
    "    if calls_count_mean < 4 or call_1_mean_row > 90:\n",
    "            return 'НЕ эффективен'\n",
    "            \n",
    "    return 'эффективен'\n",
    "\n",
    "\n",
    "row_effectiveness_in = ['calls_count_mean', 'call_1_mean', 'in']\n",
    "row = pd.Series(index=row_effectiveness_in)\n",
    "o_i_g_m_1['effectiveness_in'] = effectiveness_in.apply(effect, axis=1)"
   ]
  },
  {
   "cell_type": "code",
   "execution_count": 118,
   "metadata": {},
   "outputs": [
    {
     "data": {
      "text/html": [
       "<div>\n",
       "<style scoped>\n",
       "    .dataframe tbody tr th:only-of-type {\n",
       "        vertical-align: middle;\n",
       "    }\n",
       "\n",
       "    .dataframe tbody tr th {\n",
       "        vertical-align: top;\n",
       "    }\n",
       "\n",
       "    .dataframe thead th {\n",
       "        text-align: right;\n",
       "    }\n",
       "</style>\n",
       "<table border=\"1\" class=\"dataframe\">\n",
       "  <thead>\n",
       "    <tr style=\"text-align: right;\">\n",
       "      <th></th>\n",
       "      <th>operator_id</th>\n",
       "      <th>effectiveness_in</th>\n",
       "    </tr>\n",
       "  </thead>\n",
       "  <tbody>\n",
       "    <tr>\n",
       "      <th>0</th>\n",
       "      <td>880022.0</td>\n",
       "      <td>НЕ эффективен</td>\n",
       "    </tr>\n",
       "    <tr>\n",
       "      <th>1</th>\n",
       "      <td>880026.0</td>\n",
       "      <td>НЕ эффективен</td>\n",
       "    </tr>\n",
       "    <tr>\n",
       "      <th>2</th>\n",
       "      <td>880028.0</td>\n",
       "      <td>НЕ эффективен</td>\n",
       "    </tr>\n",
       "    <tr>\n",
       "      <th>3</th>\n",
       "      <td>882476.0</td>\n",
       "      <td>НЕ эффективен</td>\n",
       "    </tr>\n",
       "    <tr>\n",
       "      <th>4</th>\n",
       "      <td>891900.0</td>\n",
       "      <td>НЕ эффективен</td>\n",
       "    </tr>\n",
       "    <tr>\n",
       "      <th>...</th>\n",
       "      <td>...</td>\n",
       "      <td>...</td>\n",
       "    </tr>\n",
       "    <tr>\n",
       "      <th>679</th>\n",
       "      <td>962062.0</td>\n",
       "      <td>НЕ эффективен</td>\n",
       "    </tr>\n",
       "    <tr>\n",
       "      <th>680</th>\n",
       "      <td>958394.0</td>\n",
       "      <td>НЕ эффективен</td>\n",
       "    </tr>\n",
       "    <tr>\n",
       "      <th>681</th>\n",
       "      <td>952914.0</td>\n",
       "      <td>НЕ эффективен</td>\n",
       "    </tr>\n",
       "    <tr>\n",
       "      <th>682</th>\n",
       "      <td>952916.0</td>\n",
       "      <td>НЕ эффективен</td>\n",
       "    </tr>\n",
       "    <tr>\n",
       "      <th>683</th>\n",
       "      <td>957922.0</td>\n",
       "      <td>НЕ эффективен</td>\n",
       "    </tr>\n",
       "  </tbody>\n",
       "</table>\n",
       "<p>684 rows × 2 columns</p>\n",
       "</div>"
      ],
      "text/plain": [
       "     operator_id effectiveness_in\n",
       "0       880022.0    НЕ эффективен\n",
       "1       880026.0    НЕ эффективен\n",
       "2       880028.0    НЕ эффективен\n",
       "3       882476.0    НЕ эффективен\n",
       "4       891900.0    НЕ эффективен\n",
       "..           ...              ...\n",
       "679     962062.0    НЕ эффективен\n",
       "680     958394.0    НЕ эффективен\n",
       "681     952914.0    НЕ эффективен\n",
       "682     952916.0    НЕ эффективен\n",
       "683     957922.0    НЕ эффективен\n",
       "\n",
       "[684 rows x 2 columns]"
      ]
     },
     "execution_count": 118,
     "metadata": {},
     "output_type": "execute_result"
    }
   ],
   "source": [
    "effectiveness_in = o_i_g_m_1.loc[:, ['operator_id', 'effectiveness_in']]\n",
    "effectiveness_in"
   ]
  },
  {
   "cell_type": "code",
   "execution_count": 119,
   "metadata": {},
   "outputs": [
    {
     "data": {
      "text/html": [
       "<div>\n",
       "<style scoped>\n",
       "    .dataframe tbody tr th:only-of-type {\n",
       "        vertical-align: middle;\n",
       "    }\n",
       "\n",
       "    .dataframe tbody tr th {\n",
       "        vertical-align: top;\n",
       "    }\n",
       "\n",
       "    .dataframe thead th {\n",
       "        text-align: right;\n",
       "    }\n",
       "</style>\n",
       "<table border=\"1\" class=\"dataframe\">\n",
       "  <thead>\n",
       "    <tr style=\"text-align: right;\">\n",
       "      <th></th>\n",
       "      <th>effectiveness_in</th>\n",
       "      <th>operator_id_count</th>\n",
       "    </tr>\n",
       "  </thead>\n",
       "  <tbody>\n",
       "    <tr>\n",
       "      <th>0</th>\n",
       "      <td>НЕ эффективен</td>\n",
       "      <td>603</td>\n",
       "    </tr>\n",
       "    <tr>\n",
       "      <th>1</th>\n",
       "      <td>малоактивный колл-центр</td>\n",
       "      <td>18</td>\n",
       "    </tr>\n",
       "    <tr>\n",
       "      <th>2</th>\n",
       "      <td>эффективен</td>\n",
       "      <td>63</td>\n",
       "    </tr>\n",
       "  </tbody>\n",
       "</table>\n",
       "</div>"
      ],
      "text/plain": [
       "          effectiveness_in  operator_id_count\n",
       "0            НЕ эффективен                603\n",
       "1  малоактивный колл-центр                 18\n",
       "2               эффективен                 63"
      ]
     },
     "execution_count": 119,
     "metadata": {},
     "output_type": "execute_result"
    }
   ],
   "source": [
    "effectiv_in = effectiveness_in.groupby(['effectiveness_in']).agg({'operator_id': ['count']}).reset_index()\n",
    "effectiv_in.columns = ['effectiveness_in','operator_id_count']\n",
    "effectiv_in "
   ]
  },
  {
   "cell_type": "markdown",
   "metadata": {},
   "source": [
    "Число малоактивных колл-центров с операторами составляет 18, эффективеных операторов 63, НЕ эффективеных 603 для операторов принимающих звонки. Наша услуга должна быть востребована \t"
   ]
  },
  {
   "cell_type": "markdown",
   "metadata": {},
   "source": [
    "**Исходящие звонки**"
   ]
  },
  {
   "cell_type": "markdown",
   "metadata": {},
   "source": [
    "Объединим таблицы и приведем столбцы к нашим расчетным показателям для определения эффективных операторов"
   ]
  },
  {
   "cell_type": "code",
   "execution_count": 120,
   "metadata": {},
   "outputs": [],
   "source": [
    "oper_out = out_loc.loc[:, ['user_id', 'operator_id', 'is_missed_call', 'calls_count', 'call_duration', 'total_call_duration']]"
   ]
  },
  {
   "cell_type": "code",
   "execution_count": 121,
   "metadata": {},
   "outputs": [],
   "source": [
    "o_o_g = oper_out.groupby(['user_id', 'operator_id', 'is_missed_call']).agg({'calls_count': ['mean'], 'call_duration': ['mean'], 'total_call_duration': ['mean']}).reset_index()\n",
    "o_o_g.columns = ['user_id','operator_id', 'is_missed_call', 'calls_count_mean', 'call_duration_mean', 'total_call_duration_mean']"
   ]
  },
  {
   "cell_type": "code",
   "execution_count": 122,
   "metadata": {},
   "outputs": [],
   "source": [
    "data_out_c_c_group = data_out_c_c.groupby(['user_id']).agg({'user_id': ['count']}).reset_index()\n",
    "data_out_c_c_group.columns = ['user_id','user_id_count']\n",
    "data_out_user_1 = data_out_c_c_group.loc[:, ['user_id']]\n",
    "data_out_user_1['in'] = 2\n",
    "#data_out_user_1"
   ]
  },
  {
   "cell_type": "code",
   "execution_count": 123,
   "metadata": {},
   "outputs": [
    {
     "data": {
      "text/html": [
       "<div>\n",
       "<style scoped>\n",
       "    .dataframe tbody tr th:only-of-type {\n",
       "        vertical-align: middle;\n",
       "    }\n",
       "\n",
       "    .dataframe tbody tr th {\n",
       "        vertical-align: top;\n",
       "    }\n",
       "\n",
       "    .dataframe thead th {\n",
       "        text-align: right;\n",
       "    }\n",
       "</style>\n",
       "<table border=\"1\" class=\"dataframe\">\n",
       "  <thead>\n",
       "    <tr style=\"text-align: right;\">\n",
       "      <th></th>\n",
       "      <th>user_id</th>\n",
       "      <th>operator_id</th>\n",
       "      <th>is_missed_call</th>\n",
       "      <th>calls_count_mean</th>\n",
       "      <th>call_duration_mean</th>\n",
       "      <th>total_call_duration_mean</th>\n",
       "      <th>in</th>\n",
       "    </tr>\n",
       "  </thead>\n",
       "  <tbody>\n",
       "    <tr>\n",
       "      <th>0</th>\n",
       "      <td>166377</td>\n",
       "      <td>880020.0</td>\n",
       "      <td>False</td>\n",
       "      <td>2.000000</td>\n",
       "      <td>300.333333</td>\n",
       "      <td>310.000000</td>\n",
       "      <td>2.0</td>\n",
       "    </tr>\n",
       "    <tr>\n",
       "      <th>1</th>\n",
       "      <td>166377</td>\n",
       "      <td>880020.0</td>\n",
       "      <td>True</td>\n",
       "      <td>4.000000</td>\n",
       "      <td>0.000000</td>\n",
       "      <td>12.000000</td>\n",
       "      <td>2.0</td>\n",
       "    </tr>\n",
       "    <tr>\n",
       "      <th>2</th>\n",
       "      <td>166377</td>\n",
       "      <td>880022.0</td>\n",
       "      <td>False</td>\n",
       "      <td>2.230769</td>\n",
       "      <td>315.461538</td>\n",
       "      <td>331.461538</td>\n",
       "      <td>2.0</td>\n",
       "    </tr>\n",
       "    <tr>\n",
       "      <th>3</th>\n",
       "      <td>166377</td>\n",
       "      <td>880022.0</td>\n",
       "      <td>True</td>\n",
       "      <td>5.000000</td>\n",
       "      <td>0.000000</td>\n",
       "      <td>148.250000</td>\n",
       "      <td>2.0</td>\n",
       "    </tr>\n",
       "    <tr>\n",
       "      <th>4</th>\n",
       "      <td>166377</td>\n",
       "      <td>880026.0</td>\n",
       "      <td>False</td>\n",
       "      <td>20.928571</td>\n",
       "      <td>1982.738095</td>\n",
       "      <td>2120.166667</td>\n",
       "      <td>2.0</td>\n",
       "    </tr>\n",
       "    <tr>\n",
       "      <th>...</th>\n",
       "      <td>...</td>\n",
       "      <td>...</td>\n",
       "      <td>...</td>\n",
       "      <td>...</td>\n",
       "      <td>...</td>\n",
       "      <td>...</td>\n",
       "      <td>...</td>\n",
       "    </tr>\n",
       "    <tr>\n",
       "      <th>1493</th>\n",
       "      <td>168601</td>\n",
       "      <td>952916.0</td>\n",
       "      <td>True</td>\n",
       "      <td>1.000000</td>\n",
       "      <td>0.000000</td>\n",
       "      <td>44.000000</td>\n",
       "      <td>2.0</td>\n",
       "    </tr>\n",
       "    <tr>\n",
       "      <th>1494</th>\n",
       "      <td>168603</td>\n",
       "      <td>959118.0</td>\n",
       "      <td>False</td>\n",
       "      <td>2.500000</td>\n",
       "      <td>226.250000</td>\n",
       "      <td>272.000000</td>\n",
       "      <td>0.0</td>\n",
       "    </tr>\n",
       "    <tr>\n",
       "      <th>1495</th>\n",
       "      <td>168603</td>\n",
       "      <td>959118.0</td>\n",
       "      <td>True</td>\n",
       "      <td>2.000000</td>\n",
       "      <td>0.000000</td>\n",
       "      <td>49.500000</td>\n",
       "      <td>0.0</td>\n",
       "    </tr>\n",
       "    <tr>\n",
       "      <th>1496</th>\n",
       "      <td>168606</td>\n",
       "      <td>957922.0</td>\n",
       "      <td>False</td>\n",
       "      <td>3.000000</td>\n",
       "      <td>1103.750000</td>\n",
       "      <td>1153.000000</td>\n",
       "      <td>0.0</td>\n",
       "    </tr>\n",
       "    <tr>\n",
       "      <th>1497</th>\n",
       "      <td>168606</td>\n",
       "      <td>957922.0</td>\n",
       "      <td>True</td>\n",
       "      <td>1.500000</td>\n",
       "      <td>0.000000</td>\n",
       "      <td>39.000000</td>\n",
       "      <td>0.0</td>\n",
       "    </tr>\n",
       "  </tbody>\n",
       "</table>\n",
       "<p>1498 rows × 7 columns</p>\n",
       "</div>"
      ],
      "text/plain": [
       "      user_id  operator_id  is_missed_call  calls_count_mean  \\\n",
       "0      166377     880020.0           False          2.000000   \n",
       "1      166377     880020.0            True          4.000000   \n",
       "2      166377     880022.0           False          2.230769   \n",
       "3      166377     880022.0            True          5.000000   \n",
       "4      166377     880026.0           False         20.928571   \n",
       "...       ...          ...             ...               ...   \n",
       "1493   168601     952916.0            True          1.000000   \n",
       "1494   168603     959118.0           False          2.500000   \n",
       "1495   168603     959118.0            True          2.000000   \n",
       "1496   168606     957922.0           False          3.000000   \n",
       "1497   168606     957922.0            True          1.500000   \n",
       "\n",
       "      call_duration_mean  total_call_duration_mean   in  \n",
       "0             300.333333                310.000000  2.0  \n",
       "1               0.000000                 12.000000  2.0  \n",
       "2             315.461538                331.461538  2.0  \n",
       "3               0.000000                148.250000  2.0  \n",
       "4            1982.738095               2120.166667  2.0  \n",
       "...                  ...                       ...  ...  \n",
       "1493            0.000000                 44.000000  2.0  \n",
       "1494          226.250000                272.000000  0.0  \n",
       "1495            0.000000                 49.500000  0.0  \n",
       "1496         1103.750000               1153.000000  0.0  \n",
       "1497            0.000000                 39.000000  0.0  \n",
       "\n",
       "[1498 rows x 7 columns]"
      ]
     },
     "execution_count": 123,
     "metadata": {},
     "output_type": "execute_result"
    }
   ],
   "source": [
    "o_o_g_merge = o_o_g.merge(data_out_user_1, left_on=['user_id'], right_on=['user_id'], how='left')\n",
    "o_o_g_merge['in'] = o_o_g_merge['in'].fillna(0)\n",
    "o_o_g_merge"
   ]
  },
  {
   "cell_type": "code",
   "execution_count": 124,
   "metadata": {},
   "outputs": [
    {
     "data": {
      "text/html": [
       "<div>\n",
       "<style scoped>\n",
       "    .dataframe tbody tr th:only-of-type {\n",
       "        vertical-align: middle;\n",
       "    }\n",
       "\n",
       "    .dataframe tbody tr th {\n",
       "        vertical-align: top;\n",
       "    }\n",
       "\n",
       "    .dataframe thead th {\n",
       "        text-align: right;\n",
       "    }\n",
       "</style>\n",
       "<table border=\"1\" class=\"dataframe\">\n",
       "  <thead>\n",
       "    <tr style=\"text-align: right;\">\n",
       "      <th></th>\n",
       "      <th>user_id</th>\n",
       "      <th>operator_id</th>\n",
       "      <th>is_missed_call</th>\n",
       "      <th>calls_count_mean</th>\n",
       "      <th>call_duration_mean</th>\n",
       "      <th>total_call_duration_mean</th>\n",
       "      <th>in</th>\n",
       "      <th>call_1_mean</th>\n",
       "      <th>wait</th>\n",
       "    </tr>\n",
       "  </thead>\n",
       "  <tbody>\n",
       "    <tr>\n",
       "      <th>0</th>\n",
       "      <td>166377</td>\n",
       "      <td>880020.0</td>\n",
       "      <td>False</td>\n",
       "      <td>2.000000</td>\n",
       "      <td>300.333333</td>\n",
       "      <td>310.000000</td>\n",
       "      <td>2.0</td>\n",
       "      <td>150.166667</td>\n",
       "      <td>4.833333</td>\n",
       "    </tr>\n",
       "    <tr>\n",
       "      <th>1</th>\n",
       "      <td>166377</td>\n",
       "      <td>880020.0</td>\n",
       "      <td>True</td>\n",
       "      <td>4.000000</td>\n",
       "      <td>0.000000</td>\n",
       "      <td>12.000000</td>\n",
       "      <td>2.0</td>\n",
       "      <td>0.000000</td>\n",
       "      <td>3.000000</td>\n",
       "    </tr>\n",
       "    <tr>\n",
       "      <th>2</th>\n",
       "      <td>166377</td>\n",
       "      <td>880022.0</td>\n",
       "      <td>False</td>\n",
       "      <td>2.230769</td>\n",
       "      <td>315.461538</td>\n",
       "      <td>331.461538</td>\n",
       "      <td>2.0</td>\n",
       "      <td>141.413793</td>\n",
       "      <td>7.172414</td>\n",
       "    </tr>\n",
       "    <tr>\n",
       "      <th>3</th>\n",
       "      <td>166377</td>\n",
       "      <td>880022.0</td>\n",
       "      <td>True</td>\n",
       "      <td>5.000000</td>\n",
       "      <td>0.000000</td>\n",
       "      <td>148.250000</td>\n",
       "      <td>2.0</td>\n",
       "      <td>0.000000</td>\n",
       "      <td>29.650000</td>\n",
       "    </tr>\n",
       "    <tr>\n",
       "      <th>4</th>\n",
       "      <td>166377</td>\n",
       "      <td>880026.0</td>\n",
       "      <td>False</td>\n",
       "      <td>20.928571</td>\n",
       "      <td>1982.738095</td>\n",
       "      <td>2120.166667</td>\n",
       "      <td>2.0</td>\n",
       "      <td>94.738339</td>\n",
       "      <td>6.566553</td>\n",
       "    </tr>\n",
       "    <tr>\n",
       "      <th>...</th>\n",
       "      <td>...</td>\n",
       "      <td>...</td>\n",
       "      <td>...</td>\n",
       "      <td>...</td>\n",
       "      <td>...</td>\n",
       "      <td>...</td>\n",
       "      <td>...</td>\n",
       "      <td>...</td>\n",
       "      <td>...</td>\n",
       "    </tr>\n",
       "    <tr>\n",
       "      <th>1493</th>\n",
       "      <td>168601</td>\n",
       "      <td>952916.0</td>\n",
       "      <td>True</td>\n",
       "      <td>1.000000</td>\n",
       "      <td>0.000000</td>\n",
       "      <td>44.000000</td>\n",
       "      <td>2.0</td>\n",
       "      <td>0.000000</td>\n",
       "      <td>44.000000</td>\n",
       "    </tr>\n",
       "    <tr>\n",
       "      <th>1494</th>\n",
       "      <td>168603</td>\n",
       "      <td>959118.0</td>\n",
       "      <td>False</td>\n",
       "      <td>2.500000</td>\n",
       "      <td>226.250000</td>\n",
       "      <td>272.000000</td>\n",
       "      <td>0.0</td>\n",
       "      <td>90.500000</td>\n",
       "      <td>18.300000</td>\n",
       "    </tr>\n",
       "    <tr>\n",
       "      <th>1495</th>\n",
       "      <td>168603</td>\n",
       "      <td>959118.0</td>\n",
       "      <td>True</td>\n",
       "      <td>2.000000</td>\n",
       "      <td>0.000000</td>\n",
       "      <td>49.500000</td>\n",
       "      <td>0.0</td>\n",
       "      <td>0.000000</td>\n",
       "      <td>24.750000</td>\n",
       "    </tr>\n",
       "    <tr>\n",
       "      <th>1496</th>\n",
       "      <td>168606</td>\n",
       "      <td>957922.0</td>\n",
       "      <td>False</td>\n",
       "      <td>3.000000</td>\n",
       "      <td>1103.750000</td>\n",
       "      <td>1153.000000</td>\n",
       "      <td>0.0</td>\n",
       "      <td>367.916667</td>\n",
       "      <td>16.416667</td>\n",
       "    </tr>\n",
       "    <tr>\n",
       "      <th>1497</th>\n",
       "      <td>168606</td>\n",
       "      <td>957922.0</td>\n",
       "      <td>True</td>\n",
       "      <td>1.500000</td>\n",
       "      <td>0.000000</td>\n",
       "      <td>39.000000</td>\n",
       "      <td>0.0</td>\n",
       "      <td>0.000000</td>\n",
       "      <td>26.000000</td>\n",
       "    </tr>\n",
       "  </tbody>\n",
       "</table>\n",
       "<p>1498 rows × 9 columns</p>\n",
       "</div>"
      ],
      "text/plain": [
       "      user_id  operator_id  is_missed_call  calls_count_mean  \\\n",
       "0      166377     880020.0           False          2.000000   \n",
       "1      166377     880020.0            True          4.000000   \n",
       "2      166377     880022.0           False          2.230769   \n",
       "3      166377     880022.0            True          5.000000   \n",
       "4      166377     880026.0           False         20.928571   \n",
       "...       ...          ...             ...               ...   \n",
       "1493   168601     952916.0            True          1.000000   \n",
       "1494   168603     959118.0           False          2.500000   \n",
       "1495   168603     959118.0            True          2.000000   \n",
       "1496   168606     957922.0           False          3.000000   \n",
       "1497   168606     957922.0            True          1.500000   \n",
       "\n",
       "      call_duration_mean  total_call_duration_mean   in  call_1_mean  \\\n",
       "0             300.333333                310.000000  2.0   150.166667   \n",
       "1               0.000000                 12.000000  2.0     0.000000   \n",
       "2             315.461538                331.461538  2.0   141.413793   \n",
       "3               0.000000                148.250000  2.0     0.000000   \n",
       "4            1982.738095               2120.166667  2.0    94.738339   \n",
       "...                  ...                       ...  ...          ...   \n",
       "1493            0.000000                 44.000000  2.0     0.000000   \n",
       "1494          226.250000                272.000000  0.0    90.500000   \n",
       "1495            0.000000                 49.500000  0.0     0.000000   \n",
       "1496         1103.750000               1153.000000  0.0   367.916667   \n",
       "1497            0.000000                 39.000000  0.0     0.000000   \n",
       "\n",
       "           wait  \n",
       "0      4.833333  \n",
       "1      3.000000  \n",
       "2      7.172414  \n",
       "3     29.650000  \n",
       "4      6.566553  \n",
       "...         ...  \n",
       "1493  44.000000  \n",
       "1494  18.300000  \n",
       "1495  24.750000  \n",
       "1496  16.416667  \n",
       "1497  26.000000  \n",
       "\n",
       "[1498 rows x 9 columns]"
      ]
     },
     "execution_count": 124,
     "metadata": {},
     "output_type": "execute_result"
    }
   ],
   "source": [
    "o_o_g_merge['call_1_mean'] = o_o_g_merge['call_duration_mean'] / o_o_g_merge['calls_count_mean']\n",
    "o_o_g_merge['wait'] = (o_o_g_merge['total_call_duration_mean'] - o_o_g_merge['call_duration_mean']) / o_o_g_merge['calls_count_mean']\n",
    "o_o_g_merge"
   ]
  },
  {
   "cell_type": "code",
   "execution_count": 125,
   "metadata": {},
   "outputs": [],
   "source": [
    "o_o_g_merge_1 = o_o_g_merge.query('is_missed_call == False')\n",
    "o_o_g_merge_11 = o_o_g_merge_1.loc[:, ['operator_id', 'calls_count_mean', 'in', 'call_1_mean']]\n",
    "o_o_g_merge_2 = o_o_g_merge.query('is_missed_call == True')\n",
    "o_o_g_merge_22 = o_o_g_merge_2.loc[:, ['operator_id', 'wait']]"
   ]
  },
  {
   "cell_type": "code",
   "execution_count": 126,
   "metadata": {},
   "outputs": [
    {
     "data": {
      "text/html": [
       "<div>\n",
       "<style scoped>\n",
       "    .dataframe tbody tr th:only-of-type {\n",
       "        vertical-align: middle;\n",
       "    }\n",
       "\n",
       "    .dataframe tbody tr th {\n",
       "        vertical-align: top;\n",
       "    }\n",
       "\n",
       "    .dataframe thead th {\n",
       "        text-align: right;\n",
       "    }\n",
       "</style>\n",
       "<table border=\"1\" class=\"dataframe\">\n",
       "  <thead>\n",
       "    <tr style=\"text-align: right;\">\n",
       "      <th></th>\n",
       "      <th>operator_id</th>\n",
       "      <th>calls_count_mean</th>\n",
       "      <th>in</th>\n",
       "      <th>call_1_mean</th>\n",
       "      <th>wait</th>\n",
       "    </tr>\n",
       "  </thead>\n",
       "  <tbody>\n",
       "    <tr>\n",
       "      <th>0</th>\n",
       "      <td>880020.0</td>\n",
       "      <td>2.000000</td>\n",
       "      <td>2.0</td>\n",
       "      <td>150.166667</td>\n",
       "      <td>3.000000</td>\n",
       "    </tr>\n",
       "    <tr>\n",
       "      <th>1</th>\n",
       "      <td>880022.0</td>\n",
       "      <td>2.230769</td>\n",
       "      <td>2.0</td>\n",
       "      <td>141.413793</td>\n",
       "      <td>29.650000</td>\n",
       "    </tr>\n",
       "    <tr>\n",
       "      <th>2</th>\n",
       "      <td>880026.0</td>\n",
       "      <td>20.928571</td>\n",
       "      <td>2.0</td>\n",
       "      <td>94.738339</td>\n",
       "      <td>19.424403</td>\n",
       "    </tr>\n",
       "    <tr>\n",
       "      <th>3</th>\n",
       "      <td>880028.0</td>\n",
       "      <td>18.860465</td>\n",
       "      <td>2.0</td>\n",
       "      <td>88.890259</td>\n",
       "      <td>27.755694</td>\n",
       "    </tr>\n",
       "    <tr>\n",
       "      <th>4</th>\n",
       "      <td>881278.0</td>\n",
       "      <td>3.000000</td>\n",
       "      <td>2.0</td>\n",
       "      <td>155.000000</td>\n",
       "      <td>2.750000</td>\n",
       "    </tr>\n",
       "    <tr>\n",
       "      <th>...</th>\n",
       "      <td>...</td>\n",
       "      <td>...</td>\n",
       "      <td>...</td>\n",
       "      <td>...</td>\n",
       "      <td>...</td>\n",
       "    </tr>\n",
       "    <tr>\n",
       "      <th>734</th>\n",
       "      <td>952196.0</td>\n",
       "      <td>1.000000</td>\n",
       "      <td>0.0</td>\n",
       "      <td>6.000000</td>\n",
       "      <td>12.000000</td>\n",
       "    </tr>\n",
       "    <tr>\n",
       "      <th>735</th>\n",
       "      <td>952914.0</td>\n",
       "      <td>20.875000</td>\n",
       "      <td>2.0</td>\n",
       "      <td>71.610778</td>\n",
       "      <td>17.386179</td>\n",
       "    </tr>\n",
       "    <tr>\n",
       "      <th>736</th>\n",
       "      <td>952916.0</td>\n",
       "      <td>2.000000</td>\n",
       "      <td>2.0</td>\n",
       "      <td>57.666667</td>\n",
       "      <td>44.000000</td>\n",
       "    </tr>\n",
       "    <tr>\n",
       "      <th>737</th>\n",
       "      <td>959118.0</td>\n",
       "      <td>2.500000</td>\n",
       "      <td>0.0</td>\n",
       "      <td>90.500000</td>\n",
       "      <td>24.750000</td>\n",
       "    </tr>\n",
       "    <tr>\n",
       "      <th>738</th>\n",
       "      <td>957922.0</td>\n",
       "      <td>3.000000</td>\n",
       "      <td>0.0</td>\n",
       "      <td>367.916667</td>\n",
       "      <td>26.000000</td>\n",
       "    </tr>\n",
       "  </tbody>\n",
       "</table>\n",
       "<p>739 rows × 5 columns</p>\n",
       "</div>"
      ],
      "text/plain": [
       "     operator_id  calls_count_mean   in  call_1_mean       wait\n",
       "0       880020.0          2.000000  2.0   150.166667   3.000000\n",
       "1       880022.0          2.230769  2.0   141.413793  29.650000\n",
       "2       880026.0         20.928571  2.0    94.738339  19.424403\n",
       "3       880028.0         18.860465  2.0    88.890259  27.755694\n",
       "4       881278.0          3.000000  2.0   155.000000   2.750000\n",
       "..           ...               ...  ...          ...        ...\n",
       "734     952196.0          1.000000  0.0     6.000000  12.000000\n",
       "735     952914.0         20.875000  2.0    71.610778  17.386179\n",
       "736     952916.0          2.000000  2.0    57.666667  44.000000\n",
       "737     959118.0          2.500000  0.0    90.500000  24.750000\n",
       "738     957922.0          3.000000  0.0   367.916667  26.000000\n",
       "\n",
       "[739 rows x 5 columns]"
      ]
     },
     "execution_count": 126,
     "metadata": {},
     "output_type": "execute_result"
    }
   ],
   "source": [
    "o_o_g_m = o_o_g_merge_11.merge(o_o_g_merge_22, left_on=['operator_id'], right_on=['operator_id'], how='left')\n",
    "o_o_g_m"
   ]
  },
  {
   "cell_type": "code",
   "execution_count": 127,
   "metadata": {},
   "outputs": [],
   "source": [
    "effectiveness_out = o_o_g_m.loc[:, ['calls_count_mean', 'in', 'call_1_mean', 'wait']]\n",
    "\n",
    "def effectiv(row):\n",
    "    \n",
    "    calls_count_mean_row = row['calls_count_mean']\n",
    "    in_row = row['in']\n",
    "    call_row = row['call_1_mean']\n",
    "    wait_row = row['wait']\n",
    "        \n",
    "    if in_row == 0:\n",
    "            return 'малоактивный колл-центр'\n",
    "        \n",
    "    if call_row > 90 or calls_count_mean_row < 4 or wait_row > 23:\n",
    "            return 'НЕ эффективен'\n",
    "        \n",
    "    return 'эффективен'\n",
    "\n",
    "\n",
    "row_effectiv = ['calls_count_mean', 'in', 'call_1_mean', 'wait']\n",
    "row = pd.Series(index=row_effectiv)\n",
    "o_o_g_m['effectiveness_out'] = effectiveness_out.apply(effectiv, axis=1)"
   ]
  },
  {
   "cell_type": "code",
   "execution_count": 128,
   "metadata": {},
   "outputs": [
    {
     "data": {
      "text/html": [
       "<div>\n",
       "<style scoped>\n",
       "    .dataframe tbody tr th:only-of-type {\n",
       "        vertical-align: middle;\n",
       "    }\n",
       "\n",
       "    .dataframe tbody tr th {\n",
       "        vertical-align: top;\n",
       "    }\n",
       "\n",
       "    .dataframe thead th {\n",
       "        text-align: right;\n",
       "    }\n",
       "</style>\n",
       "<table border=\"1\" class=\"dataframe\">\n",
       "  <thead>\n",
       "    <tr style=\"text-align: right;\">\n",
       "      <th></th>\n",
       "      <th>operator_id</th>\n",
       "      <th>effectiveness_out</th>\n",
       "    </tr>\n",
       "  </thead>\n",
       "  <tbody>\n",
       "    <tr>\n",
       "      <th>0</th>\n",
       "      <td>880020.0</td>\n",
       "      <td>НЕ эффективен</td>\n",
       "    </tr>\n",
       "    <tr>\n",
       "      <th>1</th>\n",
       "      <td>880022.0</td>\n",
       "      <td>НЕ эффективен</td>\n",
       "    </tr>\n",
       "    <tr>\n",
       "      <th>2</th>\n",
       "      <td>880026.0</td>\n",
       "      <td>НЕ эффективен</td>\n",
       "    </tr>\n",
       "    <tr>\n",
       "      <th>3</th>\n",
       "      <td>880028.0</td>\n",
       "      <td>НЕ эффективен</td>\n",
       "    </tr>\n",
       "    <tr>\n",
       "      <th>4</th>\n",
       "      <td>881278.0</td>\n",
       "      <td>НЕ эффективен</td>\n",
       "    </tr>\n",
       "    <tr>\n",
       "      <th>...</th>\n",
       "      <td>...</td>\n",
       "      <td>...</td>\n",
       "    </tr>\n",
       "    <tr>\n",
       "      <th>734</th>\n",
       "      <td>952196.0</td>\n",
       "      <td>малоактивный колл-центр</td>\n",
       "    </tr>\n",
       "    <tr>\n",
       "      <th>735</th>\n",
       "      <td>952914.0</td>\n",
       "      <td>эффективен</td>\n",
       "    </tr>\n",
       "    <tr>\n",
       "      <th>736</th>\n",
       "      <td>952916.0</td>\n",
       "      <td>НЕ эффективен</td>\n",
       "    </tr>\n",
       "    <tr>\n",
       "      <th>737</th>\n",
       "      <td>959118.0</td>\n",
       "      <td>малоактивный колл-центр</td>\n",
       "    </tr>\n",
       "    <tr>\n",
       "      <th>738</th>\n",
       "      <td>957922.0</td>\n",
       "      <td>малоактивный колл-центр</td>\n",
       "    </tr>\n",
       "  </tbody>\n",
       "</table>\n",
       "<p>739 rows × 2 columns</p>\n",
       "</div>"
      ],
      "text/plain": [
       "     operator_id        effectiveness_out\n",
       "0       880020.0            НЕ эффективен\n",
       "1       880022.0            НЕ эффективен\n",
       "2       880026.0            НЕ эффективен\n",
       "3       880028.0            НЕ эффективен\n",
       "4       881278.0            НЕ эффективен\n",
       "..           ...                      ...\n",
       "734     952196.0  малоактивный колл-центр\n",
       "735     952914.0               эффективен\n",
       "736     952916.0            НЕ эффективен\n",
       "737     959118.0  малоактивный колл-центр\n",
       "738     957922.0  малоактивный колл-центр\n",
       "\n",
       "[739 rows x 2 columns]"
      ]
     },
     "execution_count": 128,
     "metadata": {},
     "output_type": "execute_result"
    }
   ],
   "source": [
    "effectiveness_out = o_o_g_m.loc[:, ['operator_id', 'effectiveness_out']]\n",
    "effectiveness_out"
   ]
  },
  {
   "cell_type": "code",
   "execution_count": 129,
   "metadata": {},
   "outputs": [
    {
     "data": {
      "text/html": [
       "<div>\n",
       "<style scoped>\n",
       "    .dataframe tbody tr th:only-of-type {\n",
       "        vertical-align: middle;\n",
       "    }\n",
       "\n",
       "    .dataframe tbody tr th {\n",
       "        vertical-align: top;\n",
       "    }\n",
       "\n",
       "    .dataframe thead th {\n",
       "        text-align: right;\n",
       "    }\n",
       "</style>\n",
       "<table border=\"1\" class=\"dataframe\">\n",
       "  <thead>\n",
       "    <tr style=\"text-align: right;\">\n",
       "      <th></th>\n",
       "      <th>effectiveness_out</th>\n",
       "      <th>operator_id_count</th>\n",
       "    </tr>\n",
       "  </thead>\n",
       "  <tbody>\n",
       "    <tr>\n",
       "      <th>0</th>\n",
       "      <td>НЕ эффективен</td>\n",
       "      <td>576</td>\n",
       "    </tr>\n",
       "    <tr>\n",
       "      <th>1</th>\n",
       "      <td>малоактивный колл-центр</td>\n",
       "      <td>33</td>\n",
       "    </tr>\n",
       "    <tr>\n",
       "      <th>2</th>\n",
       "      <td>эффективен</td>\n",
       "      <td>130</td>\n",
       "    </tr>\n",
       "  </tbody>\n",
       "</table>\n",
       "</div>"
      ],
      "text/plain": [
       "         effectiveness_out  operator_id_count\n",
       "0            НЕ эффективен                576\n",
       "1  малоактивный колл-центр                 33\n",
       "2               эффективен                130"
      ]
     },
     "execution_count": 129,
     "metadata": {},
     "output_type": "execute_result"
    }
   ],
   "source": [
    "effectiv_out = effectiveness_out.groupby(['effectiveness_out']).agg({'operator_id': ['count']}).reset_index()\n",
    "effectiv_out.columns = ['effectiveness_out','operator_id_count']\n",
    "effectiv_out "
   ]
  },
  {
   "cell_type": "markdown",
   "metadata": {},
   "source": [
    "Число малоактивных колл-центров с операторами составляет 33, эффективных операторов 130, НЕ эффективеных 576 для операторов совершающих обзвону клиетов. Наша услуга должна быть востребована \t"
   ]
  },
  {
   "cell_type": "markdown",
   "metadata": {},
   "source": [
    "# Проверка статистической гипотезы"
   ]
  },
  {
   "cell_type": "markdown",
   "metadata": {},
   "source": [
    "**Гипотеза:** Время ожидания ответа зависит от тарифного плана"
   ]
  },
  {
   "cell_type": "markdown",
   "metadata": {},
   "source": [
    "Загрузим датасет"
   ]
  },
  {
   "cell_type": "code",
   "execution_count": 130,
   "metadata": {},
   "outputs": [
    {
     "name": "stdout",
     "output_type": "stream",
     "text": [
      "<class 'pandas.core.frame.DataFrame'>\n",
      "RangeIndex: 732 entries, 0 to 731\n",
      "Data columns (total 3 columns):\n",
      " #   Column       Non-Null Count  Dtype \n",
      "---  ------       --------------  ----- \n",
      " 0   user_id      732 non-null    int64 \n",
      " 1   tariff_plan  732 non-null    object\n",
      " 2   date_start   732 non-null    object\n",
      "dtypes: int64(1), object(2)\n",
      "memory usage: 17.3+ KB\n"
     ]
    }
   ],
   "source": [
    "#df = pd.read_csv(\"E:/YP/VP/ID/telecom/telecom_clients.csv\")\n",
    "df = pd.read_csv(\"/datasets/telecom_clients.csv\")\n",
    "df.info()"
   ]
  },
  {
   "cell_type": "code",
   "execution_count": 131,
   "metadata": {},
   "outputs": [
    {
     "data": {
      "text/html": [
       "<div>\n",
       "<style scoped>\n",
       "    .dataframe tbody tr th:only-of-type {\n",
       "        vertical-align: middle;\n",
       "    }\n",
       "\n",
       "    .dataframe tbody tr th {\n",
       "        vertical-align: top;\n",
       "    }\n",
       "\n",
       "    .dataframe thead th {\n",
       "        text-align: right;\n",
       "    }\n",
       "</style>\n",
       "<table border=\"1\" class=\"dataframe\">\n",
       "  <thead>\n",
       "    <tr style=\"text-align: right;\">\n",
       "      <th></th>\n",
       "      <th>user_id</th>\n",
       "      <th>tariff_plan</th>\n",
       "      <th>date_start</th>\n",
       "    </tr>\n",
       "  </thead>\n",
       "  <tbody>\n",
       "    <tr>\n",
       "      <th>0</th>\n",
       "      <td>166713</td>\n",
       "      <td>A</td>\n",
       "      <td>2019-08-15</td>\n",
       "    </tr>\n",
       "    <tr>\n",
       "      <th>1</th>\n",
       "      <td>166901</td>\n",
       "      <td>A</td>\n",
       "      <td>2019-08-23</td>\n",
       "    </tr>\n",
       "    <tr>\n",
       "      <th>2</th>\n",
       "      <td>168527</td>\n",
       "      <td>A</td>\n",
       "      <td>2019-10-29</td>\n",
       "    </tr>\n",
       "    <tr>\n",
       "      <th>3</th>\n",
       "      <td>167097</td>\n",
       "      <td>A</td>\n",
       "      <td>2019-09-01</td>\n",
       "    </tr>\n",
       "    <tr>\n",
       "      <th>4</th>\n",
       "      <td>168193</td>\n",
       "      <td>A</td>\n",
       "      <td>2019-10-16</td>\n",
       "    </tr>\n",
       "    <tr>\n",
       "      <th>...</th>\n",
       "      <td>...</td>\n",
       "      <td>...</td>\n",
       "      <td>...</td>\n",
       "    </tr>\n",
       "    <tr>\n",
       "      <th>727</th>\n",
       "      <td>166554</td>\n",
       "      <td>B</td>\n",
       "      <td>2019-08-08</td>\n",
       "    </tr>\n",
       "    <tr>\n",
       "      <th>728</th>\n",
       "      <td>166911</td>\n",
       "      <td>B</td>\n",
       "      <td>2019-08-23</td>\n",
       "    </tr>\n",
       "    <tr>\n",
       "      <th>729</th>\n",
       "      <td>167012</td>\n",
       "      <td>B</td>\n",
       "      <td>2019-08-28</td>\n",
       "    </tr>\n",
       "    <tr>\n",
       "      <th>730</th>\n",
       "      <td>166867</td>\n",
       "      <td>B</td>\n",
       "      <td>2019-08-22</td>\n",
       "    </tr>\n",
       "    <tr>\n",
       "      <th>731</th>\n",
       "      <td>166565</td>\n",
       "      <td>B</td>\n",
       "      <td>2019-08-08</td>\n",
       "    </tr>\n",
       "  </tbody>\n",
       "</table>\n",
       "<p>732 rows × 3 columns</p>\n",
       "</div>"
      ],
      "text/plain": [
       "     user_id tariff_plan  date_start\n",
       "0     166713           A  2019-08-15\n",
       "1     166901           A  2019-08-23\n",
       "2     168527           A  2019-10-29\n",
       "3     167097           A  2019-09-01\n",
       "4     168193           A  2019-10-16\n",
       "..       ...         ...         ...\n",
       "727   166554           B  2019-08-08\n",
       "728   166911           B  2019-08-23\n",
       "729   167012           B  2019-08-28\n",
       "730   166867           B  2019-08-22\n",
       "731   166565           B  2019-08-08\n",
       "\n",
       "[732 rows x 3 columns]"
      ]
     },
     "execution_count": 131,
     "metadata": {},
     "output_type": "execute_result"
    }
   ],
   "source": [
    "df"
   ]
  },
  {
   "cell_type": "markdown",
   "metadata": {},
   "source": [
    "Все данные заполнены"
   ]
  },
  {
   "cell_type": "code",
   "execution_count": 132,
   "metadata": {
    "scrolled": true
   },
   "outputs": [
    {
     "data": {
      "text/plain": [
       "array(['A', 'C', 'B'], dtype=object)"
      ]
     },
     "execution_count": 132,
     "metadata": {},
     "output_type": "execute_result"
    }
   ],
   "source": [
    "df['tariff_plan'].unique()"
   ]
  },
  {
   "cell_type": "markdown",
   "metadata": {},
   "source": [
    "У нас 3 тарифных плана - A, B, C"
   ]
  },
  {
   "cell_type": "markdown",
   "metadata": {},
   "source": [
    "Посчитаем время ответа оператором 1 звонка в день"
   ]
  },
  {
   "cell_type": "code",
   "execution_count": 133,
   "metadata": {},
   "outputs": [],
   "source": [
    "data_plan = data.loc[:, ['user_id', 'date', 'is_missed_call', 'calls_count', 'call_duration', 'total_call_duration']]"
   ]
  },
  {
   "cell_type": "code",
   "execution_count": 134,
   "metadata": {},
   "outputs": [
    {
     "data": {
      "text/html": [
       "<div>\n",
       "<style scoped>\n",
       "    .dataframe tbody tr th:only-of-type {\n",
       "        vertical-align: middle;\n",
       "    }\n",
       "\n",
       "    .dataframe tbody tr th {\n",
       "        vertical-align: top;\n",
       "    }\n",
       "\n",
       "    .dataframe thead th {\n",
       "        text-align: right;\n",
       "    }\n",
       "</style>\n",
       "<table border=\"1\" class=\"dataframe\">\n",
       "  <thead>\n",
       "    <tr style=\"text-align: right;\">\n",
       "      <th></th>\n",
       "      <th>user_id</th>\n",
       "      <th>date</th>\n",
       "      <th>is_missed_call</th>\n",
       "      <th>calls_count</th>\n",
       "      <th>call_duration</th>\n",
       "      <th>total_call_duration</th>\n",
       "    </tr>\n",
       "  </thead>\n",
       "  <tbody>\n",
       "    <tr>\n",
       "      <th>3</th>\n",
       "      <td>166377</td>\n",
       "      <td>2019-08-05</td>\n",
       "      <td>False</td>\n",
       "      <td>1</td>\n",
       "      <td>10</td>\n",
       "      <td>18</td>\n",
       "    </tr>\n",
       "    <tr>\n",
       "      <th>5</th>\n",
       "      <td>166377</td>\n",
       "      <td>2019-08-05</td>\n",
       "      <td>False</td>\n",
       "      <td>2</td>\n",
       "      <td>3</td>\n",
       "      <td>29</td>\n",
       "    </tr>\n",
       "    <tr>\n",
       "      <th>12</th>\n",
       "      <td>166377</td>\n",
       "      <td>2019-08-06</td>\n",
       "      <td>False</td>\n",
       "      <td>5</td>\n",
       "      <td>800</td>\n",
       "      <td>819</td>\n",
       "    </tr>\n",
       "    <tr>\n",
       "      <th>14</th>\n",
       "      <td>166377</td>\n",
       "      <td>2019-08-07</td>\n",
       "      <td>False</td>\n",
       "      <td>1</td>\n",
       "      <td>21</td>\n",
       "      <td>28</td>\n",
       "    </tr>\n",
       "    <tr>\n",
       "      <th>15</th>\n",
       "      <td>166377</td>\n",
       "      <td>2019-08-07</td>\n",
       "      <td>False</td>\n",
       "      <td>2</td>\n",
       "      <td>232</td>\n",
       "      <td>240</td>\n",
       "    </tr>\n",
       "    <tr>\n",
       "      <th>...</th>\n",
       "      <td>...</td>\n",
       "      <td>...</td>\n",
       "      <td>...</td>\n",
       "      <td>...</td>\n",
       "      <td>...</td>\n",
       "      <td>...</td>\n",
       "    </tr>\n",
       "    <tr>\n",
       "      <th>48993</th>\n",
       "      <td>168606</td>\n",
       "      <td>2019-11-08</td>\n",
       "      <td>False</td>\n",
       "      <td>2</td>\n",
       "      <td>255</td>\n",
       "      <td>328</td>\n",
       "    </tr>\n",
       "    <tr>\n",
       "      <th>48995</th>\n",
       "      <td>168606</td>\n",
       "      <td>2019-11-08</td>\n",
       "      <td>False</td>\n",
       "      <td>2</td>\n",
       "      <td>686</td>\n",
       "      <td>705</td>\n",
       "    </tr>\n",
       "    <tr>\n",
       "      <th>48996</th>\n",
       "      <td>168606</td>\n",
       "      <td>2019-11-09</td>\n",
       "      <td>False</td>\n",
       "      <td>4</td>\n",
       "      <td>551</td>\n",
       "      <td>593</td>\n",
       "    </tr>\n",
       "    <tr>\n",
       "      <th>48999</th>\n",
       "      <td>168606</td>\n",
       "      <td>2019-11-11</td>\n",
       "      <td>False</td>\n",
       "      <td>2</td>\n",
       "      <td>479</td>\n",
       "      <td>501</td>\n",
       "    </tr>\n",
       "    <tr>\n",
       "      <th>49000</th>\n",
       "      <td>168606</td>\n",
       "      <td>2019-11-15</td>\n",
       "      <td>False</td>\n",
       "      <td>4</td>\n",
       "      <td>3130</td>\n",
       "      <td>3190</td>\n",
       "    </tr>\n",
       "  </tbody>\n",
       "</table>\n",
       "<p>27532 rows × 6 columns</p>\n",
       "</div>"
      ],
      "text/plain": [
       "       user_id        date  is_missed_call  calls_count  call_duration  \\\n",
       "3       166377  2019-08-05           False            1             10   \n",
       "5       166377  2019-08-05           False            2              3   \n",
       "12      166377  2019-08-06           False            5            800   \n",
       "14      166377  2019-08-07           False            1             21   \n",
       "15      166377  2019-08-07           False            2            232   \n",
       "...        ...         ...             ...          ...            ...   \n",
       "48993   168606  2019-11-08           False            2            255   \n",
       "48995   168606  2019-11-08           False            2            686   \n",
       "48996   168606  2019-11-09           False            4            551   \n",
       "48999   168606  2019-11-11           False            2            479   \n",
       "49000   168606  2019-11-15           False            4           3130   \n",
       "\n",
       "       total_call_duration  \n",
       "3                       18  \n",
       "5                       29  \n",
       "12                     819  \n",
       "14                      28  \n",
       "15                     240  \n",
       "...                    ...  \n",
       "48993                  328  \n",
       "48995                  705  \n",
       "48996                  593  \n",
       "48999                  501  \n",
       "49000                 3190  \n",
       "\n",
       "[27532 rows x 6 columns]"
      ]
     },
     "execution_count": 134,
     "metadata": {},
     "output_type": "execute_result"
    }
   ],
   "source": [
    "data_plan_missed_f = data_plan.query('is_missed_call == False')\n",
    "data_plan_missed_f"
   ]
  },
  {
   "cell_type": "code",
   "execution_count": 135,
   "metadata": {},
   "outputs": [],
   "source": [
    "data_plan_missed_f['v_o'] = (data_plan_missed_f['total_call_duration'] - data_plan_missed_f['call_duration']) / data_plan_missed_f['calls_count']"
   ]
  },
  {
   "cell_type": "markdown",
   "metadata": {},
   "source": [
    "Объединим датасеты с звонками и тарифным планом"
   ]
  },
  {
   "cell_type": "code",
   "execution_count": 136,
   "metadata": {},
   "outputs": [
    {
     "data": {
      "text/html": [
       "<div>\n",
       "<style scoped>\n",
       "    .dataframe tbody tr th:only-of-type {\n",
       "        vertical-align: middle;\n",
       "    }\n",
       "\n",
       "    .dataframe tbody tr th {\n",
       "        vertical-align: top;\n",
       "    }\n",
       "\n",
       "    .dataframe thead th {\n",
       "        text-align: right;\n",
       "    }\n",
       "</style>\n",
       "<table border=\"1\" class=\"dataframe\">\n",
       "  <thead>\n",
       "    <tr style=\"text-align: right;\">\n",
       "      <th></th>\n",
       "      <th>user_id</th>\n",
       "      <th>date</th>\n",
       "      <th>is_missed_call</th>\n",
       "      <th>calls_count</th>\n",
       "      <th>call_duration</th>\n",
       "      <th>total_call_duration</th>\n",
       "      <th>v_o</th>\n",
       "      <th>tariff_plan</th>\n",
       "      <th>date_start</th>\n",
       "    </tr>\n",
       "  </thead>\n",
       "  <tbody>\n",
       "    <tr>\n",
       "      <th>0</th>\n",
       "      <td>166377</td>\n",
       "      <td>2019-08-05</td>\n",
       "      <td>False</td>\n",
       "      <td>1</td>\n",
       "      <td>10</td>\n",
       "      <td>18</td>\n",
       "      <td>8.0</td>\n",
       "      <td>B</td>\n",
       "      <td>2019-08-01</td>\n",
       "    </tr>\n",
       "    <tr>\n",
       "      <th>1</th>\n",
       "      <td>166377</td>\n",
       "      <td>2019-08-05</td>\n",
       "      <td>False</td>\n",
       "      <td>2</td>\n",
       "      <td>3</td>\n",
       "      <td>29</td>\n",
       "      <td>13.0</td>\n",
       "      <td>B</td>\n",
       "      <td>2019-08-01</td>\n",
       "    </tr>\n",
       "    <tr>\n",
       "      <th>2</th>\n",
       "      <td>166377</td>\n",
       "      <td>2019-08-06</td>\n",
       "      <td>False</td>\n",
       "      <td>5</td>\n",
       "      <td>800</td>\n",
       "      <td>819</td>\n",
       "      <td>3.8</td>\n",
       "      <td>B</td>\n",
       "      <td>2019-08-01</td>\n",
       "    </tr>\n",
       "    <tr>\n",
       "      <th>3</th>\n",
       "      <td>166377</td>\n",
       "      <td>2019-08-07</td>\n",
       "      <td>False</td>\n",
       "      <td>1</td>\n",
       "      <td>21</td>\n",
       "      <td>28</td>\n",
       "      <td>7.0</td>\n",
       "      <td>B</td>\n",
       "      <td>2019-08-01</td>\n",
       "    </tr>\n",
       "    <tr>\n",
       "      <th>4</th>\n",
       "      <td>166377</td>\n",
       "      <td>2019-08-07</td>\n",
       "      <td>False</td>\n",
       "      <td>2</td>\n",
       "      <td>232</td>\n",
       "      <td>240</td>\n",
       "      <td>4.0</td>\n",
       "      <td>B</td>\n",
       "      <td>2019-08-01</td>\n",
       "    </tr>\n",
       "    <tr>\n",
       "      <th>...</th>\n",
       "      <td>...</td>\n",
       "      <td>...</td>\n",
       "      <td>...</td>\n",
       "      <td>...</td>\n",
       "      <td>...</td>\n",
       "      <td>...</td>\n",
       "      <td>...</td>\n",
       "      <td>...</td>\n",
       "      <td>...</td>\n",
       "    </tr>\n",
       "    <tr>\n",
       "      <th>27527</th>\n",
       "      <td>168606</td>\n",
       "      <td>2019-11-08</td>\n",
       "      <td>False</td>\n",
       "      <td>2</td>\n",
       "      <td>255</td>\n",
       "      <td>328</td>\n",
       "      <td>36.5</td>\n",
       "      <td>C</td>\n",
       "      <td>2019-10-31</td>\n",
       "    </tr>\n",
       "    <tr>\n",
       "      <th>27528</th>\n",
       "      <td>168606</td>\n",
       "      <td>2019-11-08</td>\n",
       "      <td>False</td>\n",
       "      <td>2</td>\n",
       "      <td>686</td>\n",
       "      <td>705</td>\n",
       "      <td>9.5</td>\n",
       "      <td>C</td>\n",
       "      <td>2019-10-31</td>\n",
       "    </tr>\n",
       "    <tr>\n",
       "      <th>27529</th>\n",
       "      <td>168606</td>\n",
       "      <td>2019-11-09</td>\n",
       "      <td>False</td>\n",
       "      <td>4</td>\n",
       "      <td>551</td>\n",
       "      <td>593</td>\n",
       "      <td>10.5</td>\n",
       "      <td>C</td>\n",
       "      <td>2019-10-31</td>\n",
       "    </tr>\n",
       "    <tr>\n",
       "      <th>27530</th>\n",
       "      <td>168606</td>\n",
       "      <td>2019-11-11</td>\n",
       "      <td>False</td>\n",
       "      <td>2</td>\n",
       "      <td>479</td>\n",
       "      <td>501</td>\n",
       "      <td>11.0</td>\n",
       "      <td>C</td>\n",
       "      <td>2019-10-31</td>\n",
       "    </tr>\n",
       "    <tr>\n",
       "      <th>27531</th>\n",
       "      <td>168606</td>\n",
       "      <td>2019-11-15</td>\n",
       "      <td>False</td>\n",
       "      <td>4</td>\n",
       "      <td>3130</td>\n",
       "      <td>3190</td>\n",
       "      <td>15.0</td>\n",
       "      <td>C</td>\n",
       "      <td>2019-10-31</td>\n",
       "    </tr>\n",
       "  </tbody>\n",
       "</table>\n",
       "<p>27532 rows × 9 columns</p>\n",
       "</div>"
      ],
      "text/plain": [
       "       user_id        date  is_missed_call  calls_count  call_duration  \\\n",
       "0       166377  2019-08-05           False            1             10   \n",
       "1       166377  2019-08-05           False            2              3   \n",
       "2       166377  2019-08-06           False            5            800   \n",
       "3       166377  2019-08-07           False            1             21   \n",
       "4       166377  2019-08-07           False            2            232   \n",
       "...        ...         ...             ...          ...            ...   \n",
       "27527   168606  2019-11-08           False            2            255   \n",
       "27528   168606  2019-11-08           False            2            686   \n",
       "27529   168606  2019-11-09           False            4            551   \n",
       "27530   168606  2019-11-11           False            2            479   \n",
       "27531   168606  2019-11-15           False            4           3130   \n",
       "\n",
       "       total_call_duration   v_o tariff_plan  date_start  \n",
       "0                       18   8.0           B  2019-08-01  \n",
       "1                       29  13.0           B  2019-08-01  \n",
       "2                      819   3.8           B  2019-08-01  \n",
       "3                       28   7.0           B  2019-08-01  \n",
       "4                      240   4.0           B  2019-08-01  \n",
       "...                    ...   ...         ...         ...  \n",
       "27527                  328  36.5           C  2019-10-31  \n",
       "27528                  705   9.5           C  2019-10-31  \n",
       "27529                  593  10.5           C  2019-10-31  \n",
       "27530                  501  11.0           C  2019-10-31  \n",
       "27531                 3190  15.0           C  2019-10-31  \n",
       "\n",
       "[27532 rows x 9 columns]"
      ]
     },
     "execution_count": 136,
     "metadata": {},
     "output_type": "execute_result"
    }
   ],
   "source": [
    "df_tariff_plan = data_plan_missed_f.merge(df, left_on=['user_id'], right_on=['user_id'], how='left')\n",
    "df_tariff_plan"
   ]
  },
  {
   "cell_type": "markdown",
   "metadata": {},
   "source": [
    "Определим данные для тарифа А"
   ]
  },
  {
   "cell_type": "code",
   "execution_count": 137,
   "metadata": {},
   "outputs": [
    {
     "data": {
      "text/html": [
       "<div>\n",
       "<style scoped>\n",
       "    .dataframe tbody tr th:only-of-type {\n",
       "        vertical-align: middle;\n",
       "    }\n",
       "\n",
       "    .dataframe tbody tr th {\n",
       "        vertical-align: top;\n",
       "    }\n",
       "\n",
       "    .dataframe thead th {\n",
       "        text-align: right;\n",
       "    }\n",
       "</style>\n",
       "<table border=\"1\" class=\"dataframe\">\n",
       "  <thead>\n",
       "    <tr style=\"text-align: right;\">\n",
       "      <th></th>\n",
       "      <th>user_id</th>\n",
       "      <th>date</th>\n",
       "      <th>is_missed_call</th>\n",
       "      <th>calls_count</th>\n",
       "      <th>call_duration</th>\n",
       "      <th>total_call_duration</th>\n",
       "      <th>v_o</th>\n",
       "      <th>tariff_plan</th>\n",
       "      <th>date_start</th>\n",
       "    </tr>\n",
       "  </thead>\n",
       "  <tbody>\n",
       "    <tr>\n",
       "      <th>1086</th>\n",
       "      <td>166407</td>\n",
       "      <td>2019-08-14</td>\n",
       "      <td>False</td>\n",
       "      <td>2</td>\n",
       "      <td>20</td>\n",
       "      <td>44</td>\n",
       "      <td>12.000000</td>\n",
       "      <td>A</td>\n",
       "      <td>2019-08-02</td>\n",
       "    </tr>\n",
       "    <tr>\n",
       "      <th>1087</th>\n",
       "      <td>166407</td>\n",
       "      <td>2019-08-26</td>\n",
       "      <td>False</td>\n",
       "      <td>1</td>\n",
       "      <td>3</td>\n",
       "      <td>22</td>\n",
       "      <td>19.000000</td>\n",
       "      <td>A</td>\n",
       "      <td>2019-08-02</td>\n",
       "    </tr>\n",
       "    <tr>\n",
       "      <th>1088</th>\n",
       "      <td>166407</td>\n",
       "      <td>2019-09-10</td>\n",
       "      <td>False</td>\n",
       "      <td>2</td>\n",
       "      <td>223</td>\n",
       "      <td>242</td>\n",
       "      <td>9.500000</td>\n",
       "      <td>A</td>\n",
       "      <td>2019-08-02</td>\n",
       "    </tr>\n",
       "    <tr>\n",
       "      <th>1089</th>\n",
       "      <td>166407</td>\n",
       "      <td>2019-09-10</td>\n",
       "      <td>False</td>\n",
       "      <td>1</td>\n",
       "      <td>8</td>\n",
       "      <td>18</td>\n",
       "      <td>10.000000</td>\n",
       "      <td>A</td>\n",
       "      <td>2019-08-02</td>\n",
       "    </tr>\n",
       "    <tr>\n",
       "      <th>1090</th>\n",
       "      <td>166407</td>\n",
       "      <td>2019-09-11</td>\n",
       "      <td>False</td>\n",
       "      <td>2</td>\n",
       "      <td>16</td>\n",
       "      <td>51</td>\n",
       "      <td>17.500000</td>\n",
       "      <td>A</td>\n",
       "      <td>2019-08-02</td>\n",
       "    </tr>\n",
       "    <tr>\n",
       "      <th>...</th>\n",
       "      <td>...</td>\n",
       "      <td>...</td>\n",
       "      <td>...</td>\n",
       "      <td>...</td>\n",
       "      <td>...</td>\n",
       "      <td>...</td>\n",
       "      <td>...</td>\n",
       "      <td>...</td>\n",
       "      <td>...</td>\n",
       "    </tr>\n",
       "    <tr>\n",
       "      <th>27258</th>\n",
       "      <td>168361</td>\n",
       "      <td>2019-11-28</td>\n",
       "      <td>False</td>\n",
       "      <td>66</td>\n",
       "      <td>7317</td>\n",
       "      <td>8654</td>\n",
       "      <td>20.257576</td>\n",
       "      <td>A</td>\n",
       "      <td>2019-10-23</td>\n",
       "    </tr>\n",
       "    <tr>\n",
       "      <th>27259</th>\n",
       "      <td>168361</td>\n",
       "      <td>2019-11-28</td>\n",
       "      <td>False</td>\n",
       "      <td>68</td>\n",
       "      <td>10976</td>\n",
       "      <td>12301</td>\n",
       "      <td>19.485294</td>\n",
       "      <td>A</td>\n",
       "      <td>2019-10-23</td>\n",
       "    </tr>\n",
       "    <tr>\n",
       "      <th>27260</th>\n",
       "      <td>168361</td>\n",
       "      <td>2019-11-28</td>\n",
       "      <td>False</td>\n",
       "      <td>65</td>\n",
       "      <td>8232</td>\n",
       "      <td>9316</td>\n",
       "      <td>16.676923</td>\n",
       "      <td>A</td>\n",
       "      <td>2019-10-23</td>\n",
       "    </tr>\n",
       "    <tr>\n",
       "      <th>27261</th>\n",
       "      <td>168361</td>\n",
       "      <td>2019-11-28</td>\n",
       "      <td>False</td>\n",
       "      <td>68</td>\n",
       "      <td>8345</td>\n",
       "      <td>9513</td>\n",
       "      <td>17.176471</td>\n",
       "      <td>A</td>\n",
       "      <td>2019-10-23</td>\n",
       "    </tr>\n",
       "    <tr>\n",
       "      <th>27400</th>\n",
       "      <td>168459</td>\n",
       "      <td>2019-11-27</td>\n",
       "      <td>False</td>\n",
       "      <td>5</td>\n",
       "      <td>33</td>\n",
       "      <td>38</td>\n",
       "      <td>1.000000</td>\n",
       "      <td>A</td>\n",
       "      <td>2019-10-26</td>\n",
       "    </tr>\n",
       "  </tbody>\n",
       "</table>\n",
       "<p>7990 rows × 9 columns</p>\n",
       "</div>"
      ],
      "text/plain": [
       "       user_id        date  is_missed_call  calls_count  call_duration  \\\n",
       "1086    166407  2019-08-14           False            2             20   \n",
       "1087    166407  2019-08-26           False            1              3   \n",
       "1088    166407  2019-09-10           False            2            223   \n",
       "1089    166407  2019-09-10           False            1              8   \n",
       "1090    166407  2019-09-11           False            2             16   \n",
       "...        ...         ...             ...          ...            ...   \n",
       "27258   168361  2019-11-28           False           66           7317   \n",
       "27259   168361  2019-11-28           False           68          10976   \n",
       "27260   168361  2019-11-28           False           65           8232   \n",
       "27261   168361  2019-11-28           False           68           8345   \n",
       "27400   168459  2019-11-27           False            5             33   \n",
       "\n",
       "       total_call_duration        v_o tariff_plan  date_start  \n",
       "1086                    44  12.000000           A  2019-08-02  \n",
       "1087                    22  19.000000           A  2019-08-02  \n",
       "1088                   242   9.500000           A  2019-08-02  \n",
       "1089                    18  10.000000           A  2019-08-02  \n",
       "1090                    51  17.500000           A  2019-08-02  \n",
       "...                    ...        ...         ...         ...  \n",
       "27258                 8654  20.257576           A  2019-10-23  \n",
       "27259                12301  19.485294           A  2019-10-23  \n",
       "27260                 9316  16.676923           A  2019-10-23  \n",
       "27261                 9513  17.176471           A  2019-10-23  \n",
       "27400                   38   1.000000           A  2019-10-26  \n",
       "\n",
       "[7990 rows x 9 columns]"
      ]
     },
     "execution_count": 137,
     "metadata": {},
     "output_type": "execute_result"
    }
   ],
   "source": [
    "tariff_A = df_tariff_plan.query('tariff_plan == \"A\"')\n",
    "tariff_A"
   ]
  },
  {
   "cell_type": "markdown",
   "metadata": {},
   "source": [
    "Определим данные для тарифа B"
   ]
  },
  {
   "cell_type": "code",
   "execution_count": 138,
   "metadata": {},
   "outputs": [
    {
     "data": {
      "text/html": [
       "<div>\n",
       "<style scoped>\n",
       "    .dataframe tbody tr th:only-of-type {\n",
       "        vertical-align: middle;\n",
       "    }\n",
       "\n",
       "    .dataframe tbody tr th {\n",
       "        vertical-align: top;\n",
       "    }\n",
       "\n",
       "    .dataframe thead th {\n",
       "        text-align: right;\n",
       "    }\n",
       "</style>\n",
       "<table border=\"1\" class=\"dataframe\">\n",
       "  <thead>\n",
       "    <tr style=\"text-align: right;\">\n",
       "      <th></th>\n",
       "      <th>user_id</th>\n",
       "      <th>date</th>\n",
       "      <th>is_missed_call</th>\n",
       "      <th>calls_count</th>\n",
       "      <th>call_duration</th>\n",
       "      <th>total_call_duration</th>\n",
       "      <th>v_o</th>\n",
       "      <th>tariff_plan</th>\n",
       "      <th>date_start</th>\n",
       "    </tr>\n",
       "  </thead>\n",
       "  <tbody>\n",
       "    <tr>\n",
       "      <th>0</th>\n",
       "      <td>166377</td>\n",
       "      <td>2019-08-05</td>\n",
       "      <td>False</td>\n",
       "      <td>1</td>\n",
       "      <td>10</td>\n",
       "      <td>18</td>\n",
       "      <td>8.000000</td>\n",
       "      <td>B</td>\n",
       "      <td>2019-08-01</td>\n",
       "    </tr>\n",
       "    <tr>\n",
       "      <th>1</th>\n",
       "      <td>166377</td>\n",
       "      <td>2019-08-05</td>\n",
       "      <td>False</td>\n",
       "      <td>2</td>\n",
       "      <td>3</td>\n",
       "      <td>29</td>\n",
       "      <td>13.000000</td>\n",
       "      <td>B</td>\n",
       "      <td>2019-08-01</td>\n",
       "    </tr>\n",
       "    <tr>\n",
       "      <th>2</th>\n",
       "      <td>166377</td>\n",
       "      <td>2019-08-06</td>\n",
       "      <td>False</td>\n",
       "      <td>5</td>\n",
       "      <td>800</td>\n",
       "      <td>819</td>\n",
       "      <td>3.800000</td>\n",
       "      <td>B</td>\n",
       "      <td>2019-08-01</td>\n",
       "    </tr>\n",
       "    <tr>\n",
       "      <th>3</th>\n",
       "      <td>166377</td>\n",
       "      <td>2019-08-07</td>\n",
       "      <td>False</td>\n",
       "      <td>1</td>\n",
       "      <td>21</td>\n",
       "      <td>28</td>\n",
       "      <td>7.000000</td>\n",
       "      <td>B</td>\n",
       "      <td>2019-08-01</td>\n",
       "    </tr>\n",
       "    <tr>\n",
       "      <th>4</th>\n",
       "      <td>166377</td>\n",
       "      <td>2019-08-07</td>\n",
       "      <td>False</td>\n",
       "      <td>2</td>\n",
       "      <td>232</td>\n",
       "      <td>240</td>\n",
       "      <td>4.000000</td>\n",
       "      <td>B</td>\n",
       "      <td>2019-08-01</td>\n",
       "    </tr>\n",
       "    <tr>\n",
       "      <th>...</th>\n",
       "      <td>...</td>\n",
       "      <td>...</td>\n",
       "      <td>...</td>\n",
       "      <td>...</td>\n",
       "      <td>...</td>\n",
       "      <td>...</td>\n",
       "      <td>...</td>\n",
       "      <td>...</td>\n",
       "      <td>...</td>\n",
       "    </tr>\n",
       "    <tr>\n",
       "      <th>27477</th>\n",
       "      <td>168583</td>\n",
       "      <td>2019-11-28</td>\n",
       "      <td>False</td>\n",
       "      <td>2</td>\n",
       "      <td>82</td>\n",
       "      <td>110</td>\n",
       "      <td>14.000000</td>\n",
       "      <td>B</td>\n",
       "      <td>2019-10-31</td>\n",
       "    </tr>\n",
       "    <tr>\n",
       "      <th>27523</th>\n",
       "      <td>168603</td>\n",
       "      <td>2019-11-12</td>\n",
       "      <td>False</td>\n",
       "      <td>1</td>\n",
       "      <td>72</td>\n",
       "      <td>88</td>\n",
       "      <td>16.000000</td>\n",
       "      <td>B</td>\n",
       "      <td>2019-10-31</td>\n",
       "    </tr>\n",
       "    <tr>\n",
       "      <th>27524</th>\n",
       "      <td>168603</td>\n",
       "      <td>2019-11-20</td>\n",
       "      <td>False</td>\n",
       "      <td>3</td>\n",
       "      <td>419</td>\n",
       "      <td>478</td>\n",
       "      <td>19.666667</td>\n",
       "      <td>B</td>\n",
       "      <td>2019-10-31</td>\n",
       "    </tr>\n",
       "    <tr>\n",
       "      <th>27525</th>\n",
       "      <td>168603</td>\n",
       "      <td>2019-11-21</td>\n",
       "      <td>False</td>\n",
       "      <td>5</td>\n",
       "      <td>338</td>\n",
       "      <td>423</td>\n",
       "      <td>17.000000</td>\n",
       "      <td>B</td>\n",
       "      <td>2019-10-31</td>\n",
       "    </tr>\n",
       "    <tr>\n",
       "      <th>27526</th>\n",
       "      <td>168603</td>\n",
       "      <td>2019-11-27</td>\n",
       "      <td>False</td>\n",
       "      <td>1</td>\n",
       "      <td>76</td>\n",
       "      <td>99</td>\n",
       "      <td>23.000000</td>\n",
       "      <td>B</td>\n",
       "      <td>2019-10-31</td>\n",
       "    </tr>\n",
       "  </tbody>\n",
       "</table>\n",
       "<p>9509 rows × 9 columns</p>\n",
       "</div>"
      ],
      "text/plain": [
       "       user_id        date  is_missed_call  calls_count  call_duration  \\\n",
       "0       166377  2019-08-05           False            1             10   \n",
       "1       166377  2019-08-05           False            2              3   \n",
       "2       166377  2019-08-06           False            5            800   \n",
       "3       166377  2019-08-07           False            1             21   \n",
       "4       166377  2019-08-07           False            2            232   \n",
       "...        ...         ...             ...          ...            ...   \n",
       "27477   168583  2019-11-28           False            2             82   \n",
       "27523   168603  2019-11-12           False            1             72   \n",
       "27524   168603  2019-11-20           False            3            419   \n",
       "27525   168603  2019-11-21           False            5            338   \n",
       "27526   168603  2019-11-27           False            1             76   \n",
       "\n",
       "       total_call_duration        v_o tariff_plan  date_start  \n",
       "0                       18   8.000000           B  2019-08-01  \n",
       "1                       29  13.000000           B  2019-08-01  \n",
       "2                      819   3.800000           B  2019-08-01  \n",
       "3                       28   7.000000           B  2019-08-01  \n",
       "4                      240   4.000000           B  2019-08-01  \n",
       "...                    ...        ...         ...         ...  \n",
       "27477                  110  14.000000           B  2019-10-31  \n",
       "27523                   88  16.000000           B  2019-10-31  \n",
       "27524                  478  19.666667           B  2019-10-31  \n",
       "27525                  423  17.000000           B  2019-10-31  \n",
       "27526                   99  23.000000           B  2019-10-31  \n",
       "\n",
       "[9509 rows x 9 columns]"
      ]
     },
     "execution_count": 138,
     "metadata": {},
     "output_type": "execute_result"
    }
   ],
   "source": [
    "tariff_B = df_tariff_plan.query('tariff_plan == \"B\"')\n",
    "tariff_B"
   ]
  },
  {
   "cell_type": "markdown",
   "metadata": {},
   "source": [
    "Определим данные для тарифа C"
   ]
  },
  {
   "cell_type": "code",
   "execution_count": 139,
   "metadata": {},
   "outputs": [
    {
     "data": {
      "text/html": [
       "<div>\n",
       "<style scoped>\n",
       "    .dataframe tbody tr th:only-of-type {\n",
       "        vertical-align: middle;\n",
       "    }\n",
       "\n",
       "    .dataframe tbody tr th {\n",
       "        vertical-align: top;\n",
       "    }\n",
       "\n",
       "    .dataframe thead th {\n",
       "        text-align: right;\n",
       "    }\n",
       "</style>\n",
       "<table border=\"1\" class=\"dataframe\">\n",
       "  <thead>\n",
       "    <tr style=\"text-align: right;\">\n",
       "      <th></th>\n",
       "      <th>user_id</th>\n",
       "      <th>date</th>\n",
       "      <th>is_missed_call</th>\n",
       "      <th>calls_count</th>\n",
       "      <th>call_duration</th>\n",
       "      <th>total_call_duration</th>\n",
       "      <th>v_o</th>\n",
       "      <th>tariff_plan</th>\n",
       "      <th>date_start</th>\n",
       "    </tr>\n",
       "  </thead>\n",
       "  <tbody>\n",
       "    <tr>\n",
       "      <th>271</th>\n",
       "      <td>166391</td>\n",
       "      <td>2019-08-06</td>\n",
       "      <td>False</td>\n",
       "      <td>1</td>\n",
       "      <td>175</td>\n",
       "      <td>186</td>\n",
       "      <td>11.0</td>\n",
       "      <td>C</td>\n",
       "      <td>2019-08-01</td>\n",
       "    </tr>\n",
       "    <tr>\n",
       "      <th>272</th>\n",
       "      <td>166391</td>\n",
       "      <td>2019-08-07</td>\n",
       "      <td>False</td>\n",
       "      <td>2</td>\n",
       "      <td>11</td>\n",
       "      <td>74</td>\n",
       "      <td>31.5</td>\n",
       "      <td>C</td>\n",
       "      <td>2019-08-01</td>\n",
       "    </tr>\n",
       "    <tr>\n",
       "      <th>273</th>\n",
       "      <td>166391</td>\n",
       "      <td>2019-08-07</td>\n",
       "      <td>False</td>\n",
       "      <td>1</td>\n",
       "      <td>57</td>\n",
       "      <td>70</td>\n",
       "      <td>13.0</td>\n",
       "      <td>C</td>\n",
       "      <td>2019-08-01</td>\n",
       "    </tr>\n",
       "    <tr>\n",
       "      <th>274</th>\n",
       "      <td>166391</td>\n",
       "      <td>2019-09-23</td>\n",
       "      <td>False</td>\n",
       "      <td>1</td>\n",
       "      <td>4</td>\n",
       "      <td>24</td>\n",
       "      <td>20.0</td>\n",
       "      <td>C</td>\n",
       "      <td>2019-08-01</td>\n",
       "    </tr>\n",
       "    <tr>\n",
       "      <th>275</th>\n",
       "      <td>166391</td>\n",
       "      <td>2019-11-22</td>\n",
       "      <td>False</td>\n",
       "      <td>1</td>\n",
       "      <td>13</td>\n",
       "      <td>77</td>\n",
       "      <td>64.0</td>\n",
       "      <td>C</td>\n",
       "      <td>2019-08-01</td>\n",
       "    </tr>\n",
       "    <tr>\n",
       "      <th>...</th>\n",
       "      <td>...</td>\n",
       "      <td>...</td>\n",
       "      <td>...</td>\n",
       "      <td>...</td>\n",
       "      <td>...</td>\n",
       "      <td>...</td>\n",
       "      <td>...</td>\n",
       "      <td>...</td>\n",
       "      <td>...</td>\n",
       "    </tr>\n",
       "    <tr>\n",
       "      <th>27527</th>\n",
       "      <td>168606</td>\n",
       "      <td>2019-11-08</td>\n",
       "      <td>False</td>\n",
       "      <td>2</td>\n",
       "      <td>255</td>\n",
       "      <td>328</td>\n",
       "      <td>36.5</td>\n",
       "      <td>C</td>\n",
       "      <td>2019-10-31</td>\n",
       "    </tr>\n",
       "    <tr>\n",
       "      <th>27528</th>\n",
       "      <td>168606</td>\n",
       "      <td>2019-11-08</td>\n",
       "      <td>False</td>\n",
       "      <td>2</td>\n",
       "      <td>686</td>\n",
       "      <td>705</td>\n",
       "      <td>9.5</td>\n",
       "      <td>C</td>\n",
       "      <td>2019-10-31</td>\n",
       "    </tr>\n",
       "    <tr>\n",
       "      <th>27529</th>\n",
       "      <td>168606</td>\n",
       "      <td>2019-11-09</td>\n",
       "      <td>False</td>\n",
       "      <td>4</td>\n",
       "      <td>551</td>\n",
       "      <td>593</td>\n",
       "      <td>10.5</td>\n",
       "      <td>C</td>\n",
       "      <td>2019-10-31</td>\n",
       "    </tr>\n",
       "    <tr>\n",
       "      <th>27530</th>\n",
       "      <td>168606</td>\n",
       "      <td>2019-11-11</td>\n",
       "      <td>False</td>\n",
       "      <td>2</td>\n",
       "      <td>479</td>\n",
       "      <td>501</td>\n",
       "      <td>11.0</td>\n",
       "      <td>C</td>\n",
       "      <td>2019-10-31</td>\n",
       "    </tr>\n",
       "    <tr>\n",
       "      <th>27531</th>\n",
       "      <td>168606</td>\n",
       "      <td>2019-11-15</td>\n",
       "      <td>False</td>\n",
       "      <td>4</td>\n",
       "      <td>3130</td>\n",
       "      <td>3190</td>\n",
       "      <td>15.0</td>\n",
       "      <td>C</td>\n",
       "      <td>2019-10-31</td>\n",
       "    </tr>\n",
       "  </tbody>\n",
       "</table>\n",
       "<p>10033 rows × 9 columns</p>\n",
       "</div>"
      ],
      "text/plain": [
       "       user_id        date  is_missed_call  calls_count  call_duration  \\\n",
       "271     166391  2019-08-06           False            1            175   \n",
       "272     166391  2019-08-07           False            2             11   \n",
       "273     166391  2019-08-07           False            1             57   \n",
       "274     166391  2019-09-23           False            1              4   \n",
       "275     166391  2019-11-22           False            1             13   \n",
       "...        ...         ...             ...          ...            ...   \n",
       "27527   168606  2019-11-08           False            2            255   \n",
       "27528   168606  2019-11-08           False            2            686   \n",
       "27529   168606  2019-11-09           False            4            551   \n",
       "27530   168606  2019-11-11           False            2            479   \n",
       "27531   168606  2019-11-15           False            4           3130   \n",
       "\n",
       "       total_call_duration   v_o tariff_plan  date_start  \n",
       "271                    186  11.0           C  2019-08-01  \n",
       "272                     74  31.5           C  2019-08-01  \n",
       "273                     70  13.0           C  2019-08-01  \n",
       "274                     24  20.0           C  2019-08-01  \n",
       "275                     77  64.0           C  2019-08-01  \n",
       "...                    ...   ...         ...         ...  \n",
       "27527                  328  36.5           C  2019-10-31  \n",
       "27528                  705   9.5           C  2019-10-31  \n",
       "27529                  593  10.5           C  2019-10-31  \n",
       "27530                  501  11.0           C  2019-10-31  \n",
       "27531                 3190  15.0           C  2019-10-31  \n",
       "\n",
       "[10033 rows x 9 columns]"
      ]
     },
     "execution_count": 139,
     "metadata": {},
     "output_type": "execute_result"
    }
   ],
   "source": [
    "tariff_C = df_tariff_plan.query('tariff_plan == \"C\"')\n",
    "tariff_C"
   ]
  },
  {
   "cell_type": "markdown",
   "metadata": {},
   "source": [
    "Нулевая гипотеза: Среднее генеральной совокупности времени ожидания звонков для операторов тарифа А и среднее генеральной совокупности времени ожидания звонков для операторов тарифа B равны между собой."
   ]
  },
  {
   "cell_type": "code",
   "execution_count": 140,
   "metadata": {},
   "outputs": [
    {
     "name": "stdout",
     "output_type": "stream",
     "text": [
      "p-значение: 0.4784630523273624\n",
      "Не получилось отвергнуть нулевую гипотезу\n"
     ]
    }
   ],
   "source": [
    "from scipy import stats as st\n",
    "alpha = .01\n",
    "\n",
    "results = st.ttest_ind(\n",
    "    tariff_A['v_o'], \n",
    "    tariff_B['v_o'])\n",
    "\n",
    "\n",
    "print('p-значение:', results.pvalue)\n",
    "\n",
    "if (results.pvalue < alpha):\n",
    "    print(\"Отвергаем нулевую гипотезу\")\n",
    "else:\n",
    "    print(\"Не получилось отвергнуть нулевую гипотезу\")"
   ]
  },
  {
   "cell_type": "markdown",
   "metadata": {},
   "source": [
    "Средние значения времени ожидания звонков для операторов тарифов А и B координально не различаются. Наша гипотеза не подтверждается."
   ]
  },
  {
   "cell_type": "markdown",
   "metadata": {},
   "source": [
    "Нулевая гипотеза: Среднее генеральной совокупности времени ожидания звонков для операторов тарифа А и среднее генеральной совокупности времени ожидания звонков для операторов тарифа B равны между собой."
   ]
  },
  {
   "cell_type": "code",
   "execution_count": 141,
   "metadata": {},
   "outputs": [
    {
     "name": "stdout",
     "output_type": "stream",
     "text": [
      "p-значение: 2.3162932622446206e-08\n",
      "Отвергаем нулевую гипотезу\n"
     ]
    }
   ],
   "source": [
    "alpha = .01\n",
    "\n",
    "results = st.ttest_ind(\n",
    "    tariff_A['v_o'], \n",
    "    tariff_C['v_o'])\n",
    "\n",
    "\n",
    "print('p-значение:', results.pvalue)\n",
    "\n",
    "if (results.pvalue < alpha):\n",
    "    print(\"Отвергаем нулевую гипотезу\")\n",
    "else:\n",
    "    print(\"Не получилось отвергнуть нулевую гипотезу\")"
   ]
  },
  {
   "cell_type": "markdown",
   "metadata": {},
   "source": [
    "Средние значения времени ожидания звонков для операторов тарифов А и С сильно различаются. Наша гипотеза подтверждается."
   ]
  },
  {
   "cell_type": "markdown",
   "metadata": {},
   "source": [
    "Нулевая гипотеза: Среднее генеральной совокупности времени ожидания звонков для операторов тарифа B и среднее генеральной совокупности времени ожидания звонков для операторов тарифа C равны между собой."
   ]
  },
  {
   "cell_type": "code",
   "execution_count": 142,
   "metadata": {},
   "outputs": [
    {
     "name": "stdout",
     "output_type": "stream",
     "text": [
      "p-значение: 2.1138504695702603e-11\n",
      "Отвергаем нулевую гипотезу\n"
     ]
    }
   ],
   "source": [
    "alpha = .01\n",
    "\n",
    "results = st.ttest_ind(\n",
    "    tariff_B['v_o'], \n",
    "    tariff_C['v_o'])\n",
    "\n",
    "\n",
    "print('p-значение:', results.pvalue)\n",
    "\n",
    "if (results.pvalue < alpha):\n",
    "    print(\"Отвергаем нулевую гипотезу\")\n",
    "else:\n",
    "    print(\"Не получилось отвергнуть нулевую гипотезу\")"
   ]
  },
  {
   "cell_type": "markdown",
   "metadata": {},
   "source": [
    "Средние значения времени ожидания звонков для операторов тарифов B и С сильно различаются. Наша гипотеза подтверждается."
   ]
  },
  {
   "cell_type": "markdown",
   "metadata": {},
   "source": [
    "Вывод: Время ожидания ответа зависит от тарифного плана. Время ожидания ответа для тарифного плана C отличается от тарифных планов A и B"
   ]
  },
  {
   "cell_type": "markdown",
   "metadata": {},
   "source": [
    "# Общий вывод"
   ]
  },
  {
   "cell_type": "markdown",
   "metadata": {},
   "source": [
    "<div class=\"alert alert-info\" role=\"alert\">\n",
    "\n",
    "<b>Наш Заказчик</b> — продуктовый департамент, который на основании исследования планирует принять решение внедрять или не внедрять новый сервис для определения эффективных операторов\n",
    "     \n",
    "<b>Наша задача</b> найти самых неэффективных операторов которые пользуются услугой «Нупозвони» — провайдера виртуальный телефонии.\n",
    "В процессе анализа данных нам необходимо разобраться, как ведут себя операторы телефонии, сколько звонков пропускают от клиентов, как долго клиент ожидает ответа,  и как совершают обзвоны клиентов колл-центры.\n",
    " \n",
    "колл-центры: \n",
    "- распределяют входящие вызовы на операторов,\n",
    "- совершают исходящие вызовы силами операторов.\n",
    "   \n",
    "    \n",
    "<b>Признаки низкой эффективности операторов:</b>\n",
    "- много пропущенных входящих вызовов,\n",
    "- долгое ожидания ответа при входящих внешних вызовах,\n",
    "- мало исходящих вывозов — в случае тех колл-центров, что специализируются на обзвонах, а не обработке входящих звонков.    \n",
    "\n",
    "<b>Описание данных:</b>\n",
    "    \n",
    "Колонки в `telecom_dataset`:\n",
    "\n",
    "- `user_id` — Идентификатор клиентского аккаунта в сервисе\n",
    "- `date` — Дата статистики\n",
    "- `direction` — Направление вызовов (out - исходящий вызов, in — входящий вызов)\n",
    "- `internal` — Является ли звонок внутренним звонком между операторами клиента\n",
    "- `operator_id` — Идентификатор оператора\n",
    "- `is_missed_call` — Является ли звонок пропущенным\n",
    "- `calls_count` — Количество звонков\n",
    "- `call_duration` — Длительность звонка (без учета времени ожидания)\n",
    "- `total_call_duration` — Длительность звонка (с учетом времени ожидания)\n",
    "\n",
    "Колонки в `telecom_clients`:\n",
    "\n",
    "- `user_id` — Идентификатор клиентского аккаунта в сервисе\n",
    "- `tariff_plan` — Текущий тарифный план клиента\n",
    "- `date_start` — Дата регистрации клиентв в сервисе\n",
    "\n",
    "    \n",
    "Мы изучили данные звонков операторов с 02 августа по 28 ноября:\n",
    "    - В датасете 4900 дубликатов, что составляет 9% от всех данных, удалили их;\n",
    "    - Количество звонков с нуля от 02.08 до 40-й недели плавно увеличивается, с 40-й недели мы выходи на равномерные показатели. Исследуемь данные с 40-й недели;\n",
    "    - Основная доля колл-центров состоит из операторов с численностью от 1 до 3-х операторов.\n",
    "    \n",
    "Данные делим на 4 датафрейма:\n",
    "    \n",
    "    Входящие звонки в колл-центры:\n",
    "            - принятые звонки;\n",
    "            - пропущенные звонки;\n",
    "    \n",
    "    Исходящие звонки из колл-центра:\n",
    "            - дозвонившиеся до аббонента;\n",
    "            - не дозвонившиеся до аббонента;\n",
    "\n",
    "**Принятые входящие звонки в колл-центры:**\n",
    "    \n",
    "Основным критерием оценки качества работы операторов для принятых входящих звонков - число отвеченных звонков оператором в день и длительность одного звонка. \n",
    "Убрав выбросы, мы видим, что медианное время звонка, которое тратит оператор на клиента составляет 55 минут. Отличным показателем будет, если оператор тратит около 30 минут и плохим - если на разговор уходит 90 минут. Медианное значение принятых звонков опероторов в день составляет 4. Хорошим показателем будет, если оператор принимает более 8 звонков и плохой показатель если 2 и менее.\n",
    "\n",
    "**Пропущенные входящие звонки в колл-центры:**\n",
    "    \n",
    "Основным критерием оценки качества работы операторов для пропущенных входящих звонков - соотношение числа отвеченных и числа пропущенных звонков. \n",
    "Убрав выбросы, мы определили, что медианное значение отношения принятых звонков к пропущенным составляет 1. Хороший показатель если это отношение больше 2-х и плохой показатель, если число пропущенных звонков в 2 раза больше принятых.\n",
    "    \n",
    "**Исходящие звонки из колл-центра и дозвонившиеся до аббонента:**\n",
    "    \n",
    "Основным критерием оценки качества работы операторов для исходящих звонков из колл-центра и дозвонившихся до аббонента - число обзвонивших аббонентов в день и средняя длительность такого звонка. \n",
    "Убрав выбросы, мы видим, что медианное время звонка, которое тратит оператор на клиента составляет 45 минут. Отличным показателем будет, если оператор тратит около 25 минут и плохим - если на разговор уходит 80 минут. Медианное значение исходящих звонков оперотора в день составляет 9. Хорошим показателем будет, если оператор совершает более 18 звонков и плохой показатель если 4 и менее.\n",
    "    \n",
    "**Исходящие звонки из колл-центра и не дозвонившиеся до аббонента:**\n",
    "    \n",
    "Основным критерием оценки качества работы операторов для исходящих звонков из колл-центра и не дозвонившихся до аббонента - число попыток дозвона и время которое оператор потратил в ожидании ответа аббонента. \n",
    "Медианное значение числа исходящих звонков составляет 6, хороший показатель если оператор совершил не менее 13 неуспешных попыток дозвона и плохой если не более 3-х. Медианное время исходящего звонка звонка составляет 12 минут, хорошый показатель если оператор не стал дозваниваться более 6 минут и плохой показатель, если более 23 минут\n",
    " \n",
    "    \n",
    "**Портрет самых неэффективных операторов:**   \n",
    "    \n",
    "Колл-центр принимающий звонки:\n",
    "Если оператор принимает 4 и менее звонков в день, длительность разговора составляет 90 минут и более, число пропущенных звонков в 2 раза больше принятых.\n",
    "    \n",
    "Колл-центр обзванивающий аббонентов:\n",
    "Если оператор совершает 4 и менее успешных звонков в день, длительность разговора составляет 80 минут и более, число неудачных попыток дозвонасоставляет не более 3-х и если оператор пытался дозвониться более 23 минут.\n",
    "    \n",
    "**Наша услуга будет интересна 273 колл-центрам принимающих входящие звонки и 180 колл-центрам делающим исходящие звонки.**\n",
    "\n",
    "**Определение эффективных и неэффективных операторов:**\n",
    "\n",
    "    Входящие звонки:    \n",
    "    Число малоактивных колл-центров с операторами составляет 18, эффективеных операторов 63, НЕ эффективеных 603 для операторов принимающих звонки.\n",
    "    Исходящие звонки:\n",
    "    Число малоактивных колл-центров с операторами составляет 33, эффективных операторов 130, НЕ эффективеных 576 для операторов совершающих обзвон клиетов.\n",
    "    \n",
    "**Проверка статистической гипотезы** \n",
    "    \n",
    "В наших данных 3 тарифных плана - A, B, C   \n",
    "    \n",
    "**Гипотеза:** Время ожидания ответа зависит от тарифного плана   \n",
    "\n",
    "Мы проверили 3 нулевых гипотезы:\n",
    "    \n",
    "    - Среднее генеральной совокупности времени ожидания звонков для операторов тарифа А и среднее генеральной совокупности времени ожидания звонков для операторов тарифа B равны между собой;  \n",
    "    \n",
    "    - Среднее генеральной совокупности времени ожидания звонков для операторов тарифа А и среднее генеральной совокупности времени ожидания звонков для операторов тарифа B равны между собой;\n",
    "    \n",
    "    -Среднее генеральной совокупности времени ожидания звонков для операторов тарифа B и среднее генеральной совокупности времени ожидания звонков для операторов тарифа C равны между собой.\n",
    "    \n",
    "    \n",
    "Время ожидания ответа зависит от тарифного плана. Время ожидания ответа для тарифного плана C отличается от тарифных планов A и B    \n",
    "    \n",
    "    \n",
    "</div>"
   ]
  }
 ],
 "metadata": {
  "ExecuteTimeLog": [
   {
    "duration": 1338,
    "start_time": "2021-07-24T11:41:30.073Z"
   },
   {
    "duration": 117,
    "start_time": "2021-07-24T11:41:34.654Z"
   },
   {
    "duration": 22,
    "start_time": "2021-07-24T11:41:34.774Z"
   },
   {
    "duration": 77,
    "start_time": "2021-07-24T11:41:34.799Z"
   },
   {
    "duration": 24,
    "start_time": "2021-07-24T11:41:34.880Z"
   },
   {
    "duration": 60,
    "start_time": "2021-07-24T11:41:34.907Z"
   },
   {
    "duration": 23,
    "start_time": "2021-07-24T11:41:34.970Z"
   },
   {
    "duration": 30,
    "start_time": "2021-07-24T11:41:34.995Z"
   },
   {
    "duration": 39,
    "start_time": "2021-07-24T11:41:35.028Z"
   },
   {
    "duration": 18,
    "start_time": "2021-07-24T11:41:35.070Z"
   },
   {
    "duration": 33,
    "start_time": "2021-07-24T11:41:35.090Z"
   },
   {
    "duration": 55,
    "start_time": "2021-07-24T11:41:35.125Z"
   },
   {
    "duration": 13,
    "start_time": "2021-07-24T11:41:35.183Z"
   },
   {
    "duration": 7,
    "start_time": "2021-07-24T11:41:35.198Z"
   },
   {
    "duration": 56,
    "start_time": "2021-07-24T11:41:35.207Z"
   },
   {
    "duration": 1319,
    "start_time": "2021-07-24T11:41:35.266Z"
   },
   {
    "duration": 35,
    "start_time": "2021-07-24T11:41:36.588Z"
   },
   {
    "duration": 30,
    "start_time": "2021-07-24T11:41:36.626Z"
   },
   {
    "duration": 6,
    "start_time": "2021-07-24T11:41:36.658Z"
   },
   {
    "duration": 33,
    "start_time": "2021-07-24T11:41:36.666Z"
   },
   {
    "duration": 1317,
    "start_time": "2021-07-24T11:41:36.701Z"
   },
   {
    "duration": 47,
    "start_time": "2021-07-24T11:41:38.021Z"
   },
   {
    "duration": 9,
    "start_time": "2021-07-24T11:41:38.071Z"
   },
   {
    "duration": 13,
    "start_time": "2021-07-24T11:41:38.088Z"
   },
   {
    "duration": 83,
    "start_time": "2021-07-24T11:41:38.106Z"
   },
   {
    "duration": 13,
    "start_time": "2021-07-24T11:41:38.192Z"
   },
   {
    "duration": 996,
    "start_time": "2021-07-24T11:41:38.208Z"
   },
   {
    "duration": 31,
    "start_time": "2021-07-24T11:41:39.207Z"
   },
   {
    "duration": 13,
    "start_time": "2021-07-24T11:41:39.255Z"
   },
   {
    "duration": 610,
    "start_time": "2021-07-24T11:41:39.270Z"
   },
   {
    "duration": 28,
    "start_time": "2021-07-24T11:41:39.882Z"
   },
   {
    "duration": 624,
    "start_time": "2021-07-24T11:41:39.912Z"
   },
   {
    "duration": 42,
    "start_time": "2021-07-24T11:41:40.539Z"
   },
   {
    "duration": 649,
    "start_time": "2021-07-24T11:41:40.583Z"
   },
   {
    "duration": 45,
    "start_time": "2021-07-24T11:41:41.234Z"
   },
   {
    "duration": 608,
    "start_time": "2021-07-24T11:41:41.282Z"
   },
   {
    "duration": 29,
    "start_time": "2021-07-24T11:41:41.893Z"
   },
   {
    "duration": 30,
    "start_time": "2021-07-24T11:41:41.925Z"
   },
   {
    "duration": 7,
    "start_time": "2021-07-24T11:41:41.958Z"
   },
   {
    "duration": 41,
    "start_time": "2021-07-24T11:41:41.967Z"
   },
   {
    "duration": 14,
    "start_time": "2021-07-24T11:41:42.011Z"
   },
   {
    "duration": 141,
    "start_time": "2021-07-24T11:41:42.027Z"
   },
   {
    "duration": 5,
    "start_time": "2021-07-24T11:41:42.170Z"
   },
   {
    "duration": 49,
    "start_time": "2021-07-24T11:41:42.178Z"
   },
   {
    "duration": 34,
    "start_time": "2021-07-24T11:41:42.230Z"
   },
   {
    "duration": 6,
    "start_time": "2021-07-24T11:41:42.266Z"
   },
   {
    "duration": 50,
    "start_time": "2021-07-24T11:41:42.275Z"
   },
   {
    "duration": 23,
    "start_time": "2021-07-24T11:41:42.355Z"
   },
   {
    "duration": 602,
    "start_time": "2021-07-24T11:41:42.380Z"
   },
   {
    "duration": 8,
    "start_time": "2021-07-24T11:41:42.985Z"
   },
   {
    "duration": 10,
    "start_time": "2021-07-24T11:41:42.995Z"
   },
   {
    "duration": 5,
    "start_time": "2021-07-24T11:41:43.008Z"
   },
   {
    "duration": 76,
    "start_time": "2021-07-24T11:41:43.015Z"
   },
   {
    "duration": 618,
    "start_time": "2021-07-24T11:41:43.093Z"
   },
   {
    "duration": 995,
    "start_time": "2021-07-24T11:41:43.714Z"
   },
   {
    "duration": 398,
    "start_time": "2021-07-24T11:41:44.712Z"
   },
   {
    "duration": 15,
    "start_time": "2021-07-24T11:41:45.100Z"
   },
   {
    "duration": 12,
    "start_time": "2021-07-24T11:41:45.105Z"
   },
   {
    "duration": 10,
    "start_time": "2021-07-24T11:41:45.108Z"
   },
   {
    "duration": 9,
    "start_time": "2021-07-24T11:41:45.111Z"
   },
   {
    "duration": 5,
    "start_time": "2021-07-24T11:41:45.117Z"
   },
   {
    "duration": 1,
    "start_time": "2021-07-24T11:41:45.122Z"
   },
   {
    "duration": -2,
    "start_time": "2021-07-24T11:41:45.127Z"
   },
   {
    "duration": -5,
    "start_time": "2021-07-24T11:41:45.131Z"
   },
   {
    "duration": -8,
    "start_time": "2021-07-24T11:41:45.136Z"
   },
   {
    "duration": -11,
    "start_time": "2021-07-24T11:41:45.140Z"
   },
   {
    "duration": -13,
    "start_time": "2021-07-24T11:41:45.144Z"
   },
   {
    "duration": -15,
    "start_time": "2021-07-24T11:41:45.147Z"
   },
   {
    "duration": -16,
    "start_time": "2021-07-24T11:41:45.150Z"
   },
   {
    "duration": -19,
    "start_time": "2021-07-24T11:41:45.154Z"
   },
   {
    "duration": -20,
    "start_time": "2021-07-24T11:41:45.157Z"
   },
   {
    "duration": -25,
    "start_time": "2021-07-24T11:41:45.163Z"
   },
   {
    "duration": -27,
    "start_time": "2021-07-24T11:41:45.167Z"
   },
   {
    "duration": -28,
    "start_time": "2021-07-24T11:41:45.170Z"
   },
   {
    "duration": -31,
    "start_time": "2021-07-24T11:41:45.174Z"
   },
   {
    "duration": -32,
    "start_time": "2021-07-24T11:41:45.177Z"
   },
   {
    "duration": -33,
    "start_time": "2021-07-24T11:41:45.180Z"
   },
   {
    "duration": -28,
    "start_time": "2021-07-24T11:41:45.183Z"
   },
   {
    "duration": -29,
    "start_time": "2021-07-24T11:41:45.186Z"
   },
   {
    "duration": -30,
    "start_time": "2021-07-24T11:41:45.189Z"
   },
   {
    "duration": -32,
    "start_time": "2021-07-24T11:41:45.192Z"
   },
   {
    "duration": -40,
    "start_time": "2021-07-24T11:41:45.202Z"
   },
   {
    "duration": -43,
    "start_time": "2021-07-24T11:41:45.206Z"
   },
   {
    "duration": -44,
    "start_time": "2021-07-24T11:41:45.209Z"
   },
   {
    "duration": -45,
    "start_time": "2021-07-24T11:41:45.212Z"
   },
   {
    "duration": -47,
    "start_time": "2021-07-24T11:41:45.216Z"
   },
   {
    "duration": -48,
    "start_time": "2021-07-24T11:41:45.219Z"
   },
   {
    "duration": -51,
    "start_time": "2021-07-24T11:41:45.223Z"
   },
   {
    "duration": -56,
    "start_time": "2021-07-24T11:41:45.229Z"
   },
   {
    "duration": -57,
    "start_time": "2021-07-24T11:41:45.232Z"
   },
   {
    "duration": -60,
    "start_time": "2021-07-24T11:41:45.236Z"
   },
   {
    "duration": -62,
    "start_time": "2021-07-24T11:41:45.240Z"
   },
   {
    "duration": -64,
    "start_time": "2021-07-24T11:41:45.243Z"
   },
   {
    "duration": -65,
    "start_time": "2021-07-24T11:41:45.246Z"
   },
   {
    "duration": -68,
    "start_time": "2021-07-24T11:41:45.250Z"
   },
   {
    "duration": -70,
    "start_time": "2021-07-24T11:41:45.253Z"
   },
   {
    "duration": -71,
    "start_time": "2021-07-24T11:41:45.256Z"
   },
   {
    "duration": -73,
    "start_time": "2021-07-24T11:41:45.259Z"
   },
   {
    "duration": -74,
    "start_time": "2021-07-24T11:41:45.262Z"
   },
   {
    "duration": -76,
    "start_time": "2021-07-24T11:41:45.265Z"
   },
   {
    "duration": 23,
    "start_time": "2021-07-24T11:53:10.784Z"
   },
   {
    "duration": 22,
    "start_time": "2021-07-24T11:53:24.837Z"
   },
   {
    "duration": 17,
    "start_time": "2021-07-24T11:53:38.587Z"
   },
   {
    "duration": 8,
    "start_time": "2021-07-24T11:59:37.256Z"
   },
   {
    "duration": 1312,
    "start_time": "2021-07-24T12:10:15.430Z"
   },
   {
    "duration": 88,
    "start_time": "2021-07-24T12:10:16.745Z"
   },
   {
    "duration": 21,
    "start_time": "2021-07-24T12:10:16.836Z"
   },
   {
    "duration": 45,
    "start_time": "2021-07-24T12:10:16.860Z"
   },
   {
    "duration": 24,
    "start_time": "2021-07-24T12:10:16.908Z"
   },
   {
    "duration": 22,
    "start_time": "2021-07-24T12:10:16.935Z"
   },
   {
    "duration": 24,
    "start_time": "2021-07-24T12:10:16.986Z"
   },
   {
    "duration": 28,
    "start_time": "2021-07-24T12:10:17.014Z"
   },
   {
    "duration": 40,
    "start_time": "2021-07-24T12:10:17.045Z"
   },
   {
    "duration": 18,
    "start_time": "2021-07-24T12:10:17.087Z"
   },
   {
    "duration": 35,
    "start_time": "2021-07-24T12:10:17.108Z"
   },
   {
    "duration": 55,
    "start_time": "2021-07-24T12:10:17.145Z"
   },
   {
    "duration": 13,
    "start_time": "2021-07-24T12:10:17.202Z"
   },
   {
    "duration": 6,
    "start_time": "2021-07-24T12:10:17.218Z"
   },
   {
    "duration": 36,
    "start_time": "2021-07-24T12:10:17.226Z"
   },
   {
    "duration": 1326,
    "start_time": "2021-07-24T12:10:17.285Z"
   },
   {
    "duration": 33,
    "start_time": "2021-07-24T12:10:18.614Z"
   },
   {
    "duration": 10,
    "start_time": "2021-07-24T12:10:18.649Z"
   },
   {
    "duration": 27,
    "start_time": "2021-07-24T12:10:18.661Z"
   },
   {
    "duration": 25,
    "start_time": "2021-07-24T12:10:18.691Z"
   },
   {
    "duration": 1307,
    "start_time": "2021-07-24T12:10:18.719Z"
   },
   {
    "duration": 37,
    "start_time": "2021-07-24T12:10:20.029Z"
   },
   {
    "duration": 11,
    "start_time": "2021-07-24T12:10:20.090Z"
   },
   {
    "duration": 22,
    "start_time": "2021-07-24T12:10:20.106Z"
   },
   {
    "duration": 39,
    "start_time": "2021-07-24T12:10:20.131Z"
   },
   {
    "duration": 36,
    "start_time": "2021-07-24T12:10:20.184Z"
   },
   {
    "duration": 21,
    "start_time": "2021-07-24T12:10:20.223Z"
   },
   {
    "duration": 1003,
    "start_time": "2021-07-24T12:10:20.247Z"
   },
   {
    "duration": 49,
    "start_time": "2021-07-24T12:10:21.252Z"
   },
   {
    "duration": 11,
    "start_time": "2021-07-24T12:10:21.304Z"
   },
   {
    "duration": 506,
    "start_time": "2021-07-24T12:10:21.318Z"
   },
   {
    "duration": 29,
    "start_time": "2021-07-24T12:10:21.827Z"
   },
   {
    "duration": 1012,
    "start_time": "2021-07-24T12:10:21.858Z"
   },
   {
    "duration": 59,
    "start_time": "2021-07-24T12:10:22.873Z"
   },
   {
    "duration": 1039,
    "start_time": "2021-07-24T12:10:22.935Z"
   },
   {
    "duration": 42,
    "start_time": "2021-07-24T12:10:23.977Z"
   },
   {
    "duration": 634,
    "start_time": "2021-07-24T12:10:24.022Z"
   },
   {
    "duration": 43,
    "start_time": "2021-07-24T12:10:24.659Z"
   },
   {
    "duration": 7,
    "start_time": "2021-07-24T12:10:24.705Z"
   },
   {
    "duration": 12,
    "start_time": "2021-07-24T12:10:24.715Z"
   },
   {
    "duration": 56,
    "start_time": "2021-07-24T12:10:24.729Z"
   },
   {
    "duration": 16,
    "start_time": "2021-07-24T12:10:24.788Z"
   },
   {
    "duration": 136,
    "start_time": "2021-07-24T12:10:24.806Z"
   },
   {
    "duration": 6,
    "start_time": "2021-07-24T12:10:24.946Z"
   },
   {
    "duration": 67,
    "start_time": "2021-07-24T12:10:24.955Z"
   },
   {
    "duration": 8,
    "start_time": "2021-07-24T12:10:25.025Z"
   },
   {
    "duration": 13,
    "start_time": "2021-07-24T12:10:25.037Z"
   },
   {
    "duration": 34,
    "start_time": "2021-07-24T12:10:25.054Z"
   },
   {
    "duration": 57,
    "start_time": "2021-07-24T12:10:25.092Z"
   },
   {
    "duration": 56,
    "start_time": "2021-07-24T12:10:25.152Z"
   },
   {
    "duration": 666,
    "start_time": "2021-07-24T12:10:25.211Z"
   },
   {
    "duration": 9,
    "start_time": "2021-07-24T12:10:25.885Z"
   },
   {
    "duration": 13,
    "start_time": "2021-07-24T12:10:25.897Z"
   },
   {
    "duration": 6,
    "start_time": "2021-07-24T12:10:25.912Z"
   },
   {
    "duration": 75,
    "start_time": "2021-07-24T12:10:25.921Z"
   },
   {
    "duration": 686,
    "start_time": "2021-07-24T12:10:25.999Z"
   },
   {
    "duration": 1020,
    "start_time": "2021-07-24T12:10:26.688Z"
   },
   {
    "duration": 440,
    "start_time": "2021-07-24T12:10:27.711Z"
   },
   {
    "duration": -646,
    "start_time": "2021-07-24T12:10:28.801Z"
   },
   {
    "duration": -648,
    "start_time": "2021-07-24T12:10:28.805Z"
   },
   {
    "duration": -650,
    "start_time": "2021-07-24T12:10:28.809Z"
   },
   {
    "duration": -652,
    "start_time": "2021-07-24T12:10:28.812Z"
   },
   {
    "duration": -654,
    "start_time": "2021-07-24T12:10:28.816Z"
   },
   {
    "duration": -656,
    "start_time": "2021-07-24T12:10:28.819Z"
   },
   {
    "duration": -666,
    "start_time": "2021-07-24T12:10:28.831Z"
   },
   {
    "duration": -669,
    "start_time": "2021-07-24T12:10:28.836Z"
   },
   {
    "duration": -673,
    "start_time": "2021-07-24T12:10:28.841Z"
   },
   {
    "duration": -674,
    "start_time": "2021-07-24T12:10:28.844Z"
   },
   {
    "duration": -678,
    "start_time": "2021-07-24T12:10:28.849Z"
   },
   {
    "duration": -680,
    "start_time": "2021-07-24T12:10:28.853Z"
   },
   {
    "duration": -690,
    "start_time": "2021-07-24T12:10:28.864Z"
   },
   {
    "duration": -691,
    "start_time": "2021-07-24T12:10:28.867Z"
   },
   {
    "duration": -695,
    "start_time": "2021-07-24T12:10:28.872Z"
   },
   {
    "duration": -697,
    "start_time": "2021-07-24T12:10:28.876Z"
   },
   {
    "duration": -701,
    "start_time": "2021-07-24T12:10:28.881Z"
   },
   {
    "duration": -703,
    "start_time": "2021-07-24T12:10:28.885Z"
   },
   {
    "duration": -707,
    "start_time": "2021-07-24T12:10:28.890Z"
   },
   {
    "duration": -708,
    "start_time": "2021-07-24T12:10:28.893Z"
   },
   {
    "duration": -712,
    "start_time": "2021-07-24T12:10:28.898Z"
   },
   {
    "duration": -713,
    "start_time": "2021-07-24T12:10:28.901Z"
   },
   {
    "duration": -716,
    "start_time": "2021-07-24T12:10:28.906Z"
   },
   {
    "duration": -725,
    "start_time": "2021-07-24T12:10:28.917Z"
   },
   {
    "duration": -728,
    "start_time": "2021-07-24T12:10:28.921Z"
   },
   {
    "duration": -729,
    "start_time": "2021-07-24T12:10:28.924Z"
   },
   {
    "duration": -731,
    "start_time": "2021-07-24T12:10:28.927Z"
   },
   {
    "duration": -731,
    "start_time": "2021-07-24T12:10:28.929Z"
   },
   {
    "duration": -734,
    "start_time": "2021-07-24T12:10:28.933Z"
   },
   {
    "duration": -735,
    "start_time": "2021-07-24T12:10:28.935Z"
   },
   {
    "duration": -738,
    "start_time": "2021-07-24T12:10:28.940Z"
   },
   {
    "duration": -740,
    "start_time": "2021-07-24T12:10:28.943Z"
   },
   {
    "duration": -741,
    "start_time": "2021-07-24T12:10:28.946Z"
   },
   {
    "duration": -742,
    "start_time": "2021-07-24T12:10:28.948Z"
   },
   {
    "duration": -753,
    "start_time": "2021-07-24T12:10:28.960Z"
   },
   {
    "duration": -760,
    "start_time": "2021-07-24T12:10:28.968Z"
   },
   {
    "duration": -765,
    "start_time": "2021-07-24T12:10:28.975Z"
   },
   {
    "duration": -767,
    "start_time": "2021-07-24T12:10:28.978Z"
   },
   {
    "duration": -771,
    "start_time": "2021-07-24T12:10:28.984Z"
   },
   {
    "duration": -773,
    "start_time": "2021-07-24T12:10:28.987Z"
   },
   {
    "duration": -775,
    "start_time": "2021-07-24T12:10:28.990Z"
   },
   {
    "duration": -778,
    "start_time": "2021-07-24T12:10:28.995Z"
   },
   {
    "duration": -780,
    "start_time": "2021-07-24T12:10:28.998Z"
   },
   {
    "duration": -782,
    "start_time": "2021-07-24T12:10:29.001Z"
   },
   {
    "duration": 24,
    "start_time": "2021-07-24T12:11:33.495Z"
   },
   {
    "duration": 10,
    "start_time": "2021-07-24T12:14:14.414Z"
   },
   {
    "duration": 7,
    "start_time": "2021-07-24T12:14:28.598Z"
   },
   {
    "duration": 8,
    "start_time": "2021-07-24T12:14:35.318Z"
   },
   {
    "duration": 420,
    "start_time": "2021-07-24T12:14:47.439Z"
   },
   {
    "duration": 381,
    "start_time": "2021-07-24T12:14:58.119Z"
   },
   {
    "duration": 7956,
    "start_time": "2021-07-26T07:52:21.922Z"
   },
   {
    "duration": 1034,
    "start_time": "2021-07-26T07:52:39.788Z"
   },
   {
    "duration": 328,
    "start_time": "2021-07-26T07:52:40.824Z"
   },
   {
    "duration": -39,
    "start_time": "2021-07-26T07:52:41.195Z"
   },
   {
    "duration": -45,
    "start_time": "2021-07-26T07:52:41.202Z"
   },
   {
    "duration": -49,
    "start_time": "2021-07-26T07:52:41.207Z"
   },
   {
    "duration": -53,
    "start_time": "2021-07-26T07:52:41.212Z"
   },
   {
    "duration": -57,
    "start_time": "2021-07-26T07:52:41.217Z"
   },
   {
    "duration": -59,
    "start_time": "2021-07-26T07:52:41.220Z"
   },
   {
    "duration": -63,
    "start_time": "2021-07-26T07:52:41.224Z"
   },
   {
    "duration": -66,
    "start_time": "2021-07-26T07:52:41.228Z"
   },
   {
    "duration": -69,
    "start_time": "2021-07-26T07:52:41.232Z"
   },
   {
    "duration": -72,
    "start_time": "2021-07-26T07:52:41.236Z"
   },
   {
    "duration": -74,
    "start_time": "2021-07-26T07:52:41.239Z"
   },
   {
    "duration": -77,
    "start_time": "2021-07-26T07:52:41.243Z"
   },
   {
    "duration": -80,
    "start_time": "2021-07-26T07:52:41.247Z"
   },
   {
    "duration": -83,
    "start_time": "2021-07-26T07:52:41.251Z"
   },
   {
    "duration": -87,
    "start_time": "2021-07-26T07:52:41.255Z"
   },
   {
    "duration": -89,
    "start_time": "2021-07-26T07:52:41.258Z"
   },
   {
    "duration": -93,
    "start_time": "2021-07-26T07:52:41.263Z"
   },
   {
    "duration": -97,
    "start_time": "2021-07-26T07:52:41.268Z"
   },
   {
    "duration": -100,
    "start_time": "2021-07-26T07:52:41.272Z"
   },
   {
    "duration": -102,
    "start_time": "2021-07-26T07:52:41.275Z"
   },
   {
    "duration": -106,
    "start_time": "2021-07-26T07:52:41.279Z"
   },
   {
    "duration": -108,
    "start_time": "2021-07-26T07:52:41.282Z"
   },
   {
    "duration": -111,
    "start_time": "2021-07-26T07:52:41.286Z"
   },
   {
    "duration": -121,
    "start_time": "2021-07-26T07:52:41.297Z"
   },
   {
    "duration": -125,
    "start_time": "2021-07-26T07:52:41.302Z"
   },
   {
    "duration": -128,
    "start_time": "2021-07-26T07:52:41.306Z"
   },
   {
    "duration": -131,
    "start_time": "2021-07-26T07:52:41.310Z"
   },
   {
    "duration": -135,
    "start_time": "2021-07-26T07:52:41.314Z"
   },
   {
    "duration": -139,
    "start_time": "2021-07-26T07:52:41.319Z"
   },
   {
    "duration": -141,
    "start_time": "2021-07-26T07:52:41.322Z"
   },
   {
    "duration": -145,
    "start_time": "2021-07-26T07:52:41.327Z"
   },
   {
    "duration": -148,
    "start_time": "2021-07-26T07:52:41.331Z"
   },
   {
    "duration": -151,
    "start_time": "2021-07-26T07:52:41.335Z"
   },
   {
    "duration": -154,
    "start_time": "2021-07-26T07:52:41.339Z"
   },
   {
    "duration": -156,
    "start_time": "2021-07-26T07:52:41.342Z"
   },
   {
    "duration": -158,
    "start_time": "2021-07-26T07:52:41.345Z"
   },
   {
    "duration": -162,
    "start_time": "2021-07-26T07:52:41.349Z"
   },
   {
    "duration": -164,
    "start_time": "2021-07-26T07:52:41.352Z"
   },
   {
    "duration": -167,
    "start_time": "2021-07-26T07:52:41.356Z"
   },
   {
    "duration": -169,
    "start_time": "2021-07-26T07:52:41.359Z"
   },
   {
    "duration": -171,
    "start_time": "2021-07-26T07:52:41.362Z"
   },
   {
    "duration": -173,
    "start_time": "2021-07-26T07:52:41.365Z"
   },
   {
    "duration": -175,
    "start_time": "2021-07-26T07:52:41.368Z"
   },
   {
    "duration": -179,
    "start_time": "2021-07-26T07:52:41.372Z"
   },
   {
    "duration": -181,
    "start_time": "2021-07-26T07:52:41.375Z"
   },
   {
    "duration": -186,
    "start_time": "2021-07-26T07:52:41.381Z"
   },
   {
    "duration": -190,
    "start_time": "2021-07-26T07:52:41.386Z"
   },
   {
    "duration": -192,
    "start_time": "2021-07-26T07:52:41.389Z"
   },
   {
    "duration": -196,
    "start_time": "2021-07-26T07:52:41.394Z"
   },
   {
    "duration": -206,
    "start_time": "2021-07-26T07:52:41.405Z"
   },
   {
    "duration": -211,
    "start_time": "2021-07-26T07:52:41.410Z"
   },
   {
    "duration": -216,
    "start_time": "2021-07-26T07:52:41.416Z"
   },
   {
    "duration": -220,
    "start_time": "2021-07-26T07:52:41.421Z"
   },
   {
    "duration": -223,
    "start_time": "2021-07-26T07:52:41.425Z"
   },
   {
    "duration": -226,
    "start_time": "2021-07-26T07:52:41.429Z"
   },
   {
    "duration": -229,
    "start_time": "2021-07-26T07:52:41.433Z"
   },
   {
    "duration": -234,
    "start_time": "2021-07-26T07:52:41.438Z"
   },
   {
    "duration": -236,
    "start_time": "2021-07-26T07:52:41.441Z"
   },
   {
    "duration": -296,
    "start_time": "2021-07-26T07:52:41.502Z"
   },
   {
    "duration": -304,
    "start_time": "2021-07-26T07:52:41.511Z"
   },
   {
    "duration": -307,
    "start_time": "2021-07-26T07:52:41.515Z"
   },
   {
    "duration": -310,
    "start_time": "2021-07-26T07:52:41.519Z"
   },
   {
    "duration": -313,
    "start_time": "2021-07-26T07:52:41.523Z"
   },
   {
    "duration": -316,
    "start_time": "2021-07-26T07:52:41.526Z"
   },
   {
    "duration": -320,
    "start_time": "2021-07-26T07:52:41.531Z"
   },
   {
    "duration": -322,
    "start_time": "2021-07-26T07:52:41.534Z"
   },
   {
    "duration": -324,
    "start_time": "2021-07-26T07:52:41.537Z"
   },
   {
    "duration": -326,
    "start_time": "2021-07-26T07:52:41.540Z"
   },
   {
    "duration": -329,
    "start_time": "2021-07-26T07:52:41.544Z"
   },
   {
    "duration": -331,
    "start_time": "2021-07-26T07:52:41.547Z"
   },
   {
    "duration": -334,
    "start_time": "2021-07-26T07:52:41.550Z"
   },
   {
    "duration": -353,
    "start_time": "2021-07-26T07:52:41.570Z"
   },
   {
    "duration": -355,
    "start_time": "2021-07-26T07:52:41.573Z"
   },
   {
    "duration": -358,
    "start_time": "2021-07-26T07:52:41.577Z"
   },
   {
    "duration": -360,
    "start_time": "2021-07-26T07:52:41.580Z"
   },
   {
    "duration": -362,
    "start_time": "2021-07-26T07:52:41.583Z"
   },
   {
    "duration": -379,
    "start_time": "2021-07-26T07:52:41.601Z"
   },
   {
    "duration": -381,
    "start_time": "2021-07-26T07:52:41.604Z"
   },
   {
    "duration": -495,
    "start_time": "2021-07-26T07:52:41.718Z"
   },
   {
    "duration": -648,
    "start_time": "2021-07-26T07:52:41.872Z"
   },
   {
    "duration": -592,
    "start_time": "2021-07-26T07:52:41.877Z"
   },
   {
    "duration": -597,
    "start_time": "2021-07-26T07:52:41.882Z"
   },
   {
    "duration": -619,
    "start_time": "2021-07-26T07:52:41.905Z"
   },
   {
    "duration": -622,
    "start_time": "2021-07-26T07:52:41.909Z"
   },
   {
    "duration": -626,
    "start_time": "2021-07-26T07:52:41.914Z"
   },
   {
    "duration": -687,
    "start_time": "2021-07-26T07:52:41.976Z"
   },
   {
    "duration": -691,
    "start_time": "2021-07-26T07:52:41.981Z"
   },
   {
    "duration": -694,
    "start_time": "2021-07-26T07:52:41.985Z"
   },
   {
    "duration": -698,
    "start_time": "2021-07-26T07:52:41.990Z"
   },
   {
    "duration": -702,
    "start_time": "2021-07-26T07:52:41.994Z"
   },
   {
    "duration": -706,
    "start_time": "2021-07-26T07:52:41.999Z"
   },
   {
    "duration": -723,
    "start_time": "2021-07-26T07:52:42.017Z"
   },
   {
    "duration": -727,
    "start_time": "2021-07-26T07:52:42.022Z"
   },
   {
    "duration": -729,
    "start_time": "2021-07-26T07:52:42.025Z"
   },
   {
    "duration": -742,
    "start_time": "2021-07-26T07:52:42.039Z"
   },
   {
    "duration": -744,
    "start_time": "2021-07-26T07:52:42.042Z"
   },
   {
    "duration": -747,
    "start_time": "2021-07-26T07:52:42.045Z"
   },
   {
    "duration": -749,
    "start_time": "2021-07-26T07:52:42.048Z"
   },
   {
    "duration": -752,
    "start_time": "2021-07-26T07:52:42.052Z"
   },
   {
    "duration": -768,
    "start_time": "2021-07-26T07:52:42.069Z"
   },
   {
    "duration": -772,
    "start_time": "2021-07-26T07:52:42.074Z"
   },
   {
    "duration": -793,
    "start_time": "2021-07-26T07:52:42.096Z"
   },
   {
    "duration": -796,
    "start_time": "2021-07-26T07:52:42.099Z"
   },
   {
    "duration": -798,
    "start_time": "2021-07-26T07:52:42.102Z"
   },
   {
    "duration": -800,
    "start_time": "2021-07-26T07:52:42.105Z"
   },
   {
    "duration": -803,
    "start_time": "2021-07-26T07:52:42.109Z"
   },
   {
    "duration": -805,
    "start_time": "2021-07-26T07:52:42.112Z"
   },
   {
    "duration": -807,
    "start_time": "2021-07-26T07:52:42.115Z"
   },
   {
    "duration": -809,
    "start_time": "2021-07-26T07:52:42.118Z"
   },
   {
    "duration": -812,
    "start_time": "2021-07-26T07:52:42.121Z"
   },
   {
    "duration": -814,
    "start_time": "2021-07-26T07:52:42.124Z"
   },
   {
    "duration": -819,
    "start_time": "2021-07-26T07:52:42.130Z"
   },
   {
    "duration": -821,
    "start_time": "2021-07-26T07:52:42.133Z"
   },
   {
    "duration": -823,
    "start_time": "2021-07-26T07:52:42.136Z"
   },
   {
    "duration": -825,
    "start_time": "2021-07-26T07:52:42.139Z"
   },
   {
    "duration": -831,
    "start_time": "2021-07-26T07:52:42.145Z"
   },
   {
    "duration": -833,
    "start_time": "2021-07-26T07:52:42.148Z"
   },
   {
    "duration": -835,
    "start_time": "2021-07-26T07:52:42.151Z"
   },
   {
    "duration": 10717,
    "start_time": "2021-07-26T07:53:25.771Z"
   },
   {
    "duration": 1084,
    "start_time": "2021-07-26T07:53:41.371Z"
   },
   {
    "duration": 73,
    "start_time": "2021-07-26T07:53:43.266Z"
   },
   {
    "duration": 14,
    "start_time": "2021-07-26T07:53:47.500Z"
   },
   {
    "duration": 19,
    "start_time": "2021-07-26T07:53:47.517Z"
   },
   {
    "duration": 16,
    "start_time": "2021-07-26T07:53:47.538Z"
   },
   {
    "duration": 39,
    "start_time": "2021-07-26T07:53:47.556Z"
   },
   {
    "duration": 17,
    "start_time": "2021-07-26T07:53:47.597Z"
   },
   {
    "duration": 21,
    "start_time": "2021-07-26T07:53:47.616Z"
   },
   {
    "duration": 49,
    "start_time": "2021-07-26T07:53:47.639Z"
   },
   {
    "duration": 10,
    "start_time": "2021-07-26T07:53:47.690Z"
   },
   {
    "duration": 27,
    "start_time": "2021-07-26T07:53:47.702Z"
   },
   {
    "duration": 15,
    "start_time": "2021-07-26T07:53:47.730Z"
   },
   {
    "duration": 9,
    "start_time": "2021-07-26T07:53:47.785Z"
   },
   {
    "duration": 3,
    "start_time": "2021-07-26T07:53:47.796Z"
   },
   {
    "duration": 16,
    "start_time": "2021-07-26T07:53:47.801Z"
   },
   {
    "duration": 506,
    "start_time": "2021-07-26T07:53:47.819Z"
   },
   {
    "duration": 21,
    "start_time": "2021-07-26T07:53:48.327Z"
   },
   {
    "duration": 6,
    "start_time": "2021-07-26T07:53:48.350Z"
   },
   {
    "duration": 4,
    "start_time": "2021-07-26T07:53:48.358Z"
   },
   {
    "duration": 14,
    "start_time": "2021-07-26T07:53:48.385Z"
   },
   {
    "duration": 483,
    "start_time": "2021-07-26T07:53:48.401Z"
   },
   {
    "duration": 20,
    "start_time": "2021-07-26T07:53:48.885Z"
   },
   {
    "duration": 6,
    "start_time": "2021-07-26T07:53:48.907Z"
   },
   {
    "duration": 8,
    "start_time": "2021-07-26T07:53:48.914Z"
   },
   {
    "duration": 14,
    "start_time": "2021-07-26T07:53:48.926Z"
   },
   {
    "duration": 48,
    "start_time": "2021-07-26T07:53:48.942Z"
   },
   {
    "duration": 5,
    "start_time": "2021-07-26T07:53:48.991Z"
   },
   {
    "duration": 2159,
    "start_time": "2021-07-26T07:53:48.998Z"
   },
   {
    "duration": 29,
    "start_time": "2021-07-26T07:53:51.158Z"
   },
   {
    "duration": 9,
    "start_time": "2021-07-26T07:53:51.188Z"
   },
   {
    "duration": 299,
    "start_time": "2021-07-26T07:53:51.198Z"
   },
   {
    "duration": 16,
    "start_time": "2021-07-26T07:53:51.499Z"
   },
   {
    "duration": 343,
    "start_time": "2021-07-26T07:53:51.517Z"
   },
   {
    "duration": 22,
    "start_time": "2021-07-26T07:53:51.862Z"
   },
   {
    "duration": 387,
    "start_time": "2021-07-26T07:53:51.886Z"
   },
   {
    "duration": 21,
    "start_time": "2021-07-26T07:53:52.275Z"
   },
   {
    "duration": 333,
    "start_time": "2021-07-26T07:53:52.297Z"
   },
   {
    "duration": 17,
    "start_time": "2021-07-26T07:53:52.632Z"
   },
   {
    "duration": 4,
    "start_time": "2021-07-26T07:53:52.651Z"
   },
   {
    "duration": 10,
    "start_time": "2021-07-26T07:53:52.657Z"
   },
   {
    "duration": 15,
    "start_time": "2021-07-26T07:53:52.684Z"
   },
   {
    "duration": 8,
    "start_time": "2021-07-26T07:53:52.701Z"
   },
   {
    "duration": 19,
    "start_time": "2021-07-26T07:53:52.711Z"
   },
   {
    "duration": 3,
    "start_time": "2021-07-26T07:53:52.732Z"
   },
   {
    "duration": 18,
    "start_time": "2021-07-26T07:53:52.736Z"
   },
   {
    "duration": 34,
    "start_time": "2021-07-26T07:53:52.756Z"
   },
   {
    "duration": 8,
    "start_time": "2021-07-26T07:53:52.792Z"
   },
   {
    "duration": 4,
    "start_time": "2021-07-26T07:53:52.801Z"
   },
   {
    "duration": 32,
    "start_time": "2021-07-26T07:53:52.806Z"
   },
   {
    "duration": 11,
    "start_time": "2021-07-26T07:53:52.840Z"
   },
   {
    "duration": 386,
    "start_time": "2021-07-26T07:53:52.853Z"
   },
   {
    "duration": 5,
    "start_time": "2021-07-26T07:53:53.241Z"
   },
   {
    "duration": 6,
    "start_time": "2021-07-26T07:53:53.248Z"
   },
   {
    "duration": 4,
    "start_time": "2021-07-26T07:53:53.256Z"
   },
   {
    "duration": 45,
    "start_time": "2021-07-26T07:53:53.261Z"
   },
   {
    "duration": 405,
    "start_time": "2021-07-26T07:53:53.307Z"
   },
   {
    "duration": 578,
    "start_time": "2021-07-26T07:53:53.713Z"
   },
   {
    "duration": 821,
    "start_time": "2021-07-26T07:53:54.292Z"
   },
   {
    "duration": -42,
    "start_time": "2021-07-26T07:53:55.158Z"
   },
   {
    "duration": -50,
    "start_time": "2021-07-26T07:53:55.167Z"
   },
   {
    "duration": -56,
    "start_time": "2021-07-26T07:53:55.174Z"
   },
   {
    "duration": -65,
    "start_time": "2021-07-26T07:53:55.184Z"
   },
   {
    "duration": -71,
    "start_time": "2021-07-26T07:53:55.191Z"
   },
   {
    "duration": -80,
    "start_time": "2021-07-26T07:53:55.201Z"
   },
   {
    "duration": -86,
    "start_time": "2021-07-26T07:53:55.208Z"
   },
   {
    "duration": -94,
    "start_time": "2021-07-26T07:53:55.217Z"
   },
   {
    "duration": -99,
    "start_time": "2021-07-26T07:53:55.223Z"
   },
   {
    "duration": -108,
    "start_time": "2021-07-26T07:53:55.233Z"
   },
   {
    "duration": -114,
    "start_time": "2021-07-26T07:53:55.240Z"
   },
   {
    "duration": -122,
    "start_time": "2021-07-26T07:53:55.249Z"
   },
   {
    "duration": -128,
    "start_time": "2021-07-26T07:53:55.256Z"
   },
   {
    "duration": -137,
    "start_time": "2021-07-26T07:53:55.266Z"
   },
   {
    "duration": -143,
    "start_time": "2021-07-26T07:53:55.273Z"
   },
   {
    "duration": -152,
    "start_time": "2021-07-26T07:53:55.283Z"
   },
   {
    "duration": -158,
    "start_time": "2021-07-26T07:53:55.290Z"
   },
   {
    "duration": -167,
    "start_time": "2021-07-26T07:53:55.300Z"
   },
   {
    "duration": -173,
    "start_time": "2021-07-26T07:53:55.307Z"
   },
   {
    "duration": -180,
    "start_time": "2021-07-26T07:53:55.315Z"
   },
   {
    "duration": -185,
    "start_time": "2021-07-26T07:53:55.321Z"
   },
   {
    "duration": -190,
    "start_time": "2021-07-26T07:53:55.327Z"
   },
   {
    "duration": -197,
    "start_time": "2021-07-26T07:53:55.334Z"
   },
   {
    "duration": -203,
    "start_time": "2021-07-26T07:53:55.341Z"
   },
   {
    "duration": -232,
    "start_time": "2021-07-26T07:53:55.371Z"
   },
   {
    "duration": -243,
    "start_time": "2021-07-26T07:53:55.383Z"
   },
   {
    "duration": -248,
    "start_time": "2021-07-26T07:53:55.389Z"
   },
   {
    "duration": -253,
    "start_time": "2021-07-26T07:53:55.395Z"
   },
   {
    "duration": -319,
    "start_time": "2021-07-26T07:53:55.461Z"
   },
   {
    "duration": -328,
    "start_time": "2021-07-26T07:53:55.471Z"
   },
   {
    "duration": -334,
    "start_time": "2021-07-26T07:53:55.477Z"
   },
   {
    "duration": -343,
    "start_time": "2021-07-26T07:53:55.487Z"
   },
   {
    "duration": -308,
    "start_time": "2021-07-26T07:53:55.493Z"
   },
   {
    "duration": -316,
    "start_time": "2021-07-26T07:53:55.502Z"
   },
   {
    "duration": -322,
    "start_time": "2021-07-26T07:53:55.509Z"
   },
   {
    "duration": -328,
    "start_time": "2021-07-26T07:53:55.516Z"
   },
   {
    "duration": -333,
    "start_time": "2021-07-26T07:53:55.523Z"
   },
   {
    "duration": -340,
    "start_time": "2021-07-26T07:53:55.530Z"
   },
   {
    "duration": -345,
    "start_time": "2021-07-26T07:53:55.536Z"
   },
   {
    "duration": -350,
    "start_time": "2021-07-26T07:53:55.542Z"
   },
   {
    "duration": -353,
    "start_time": "2021-07-26T07:53:55.546Z"
   },
   {
    "duration": -360,
    "start_time": "2021-07-26T07:53:55.554Z"
   },
   {
    "duration": -365,
    "start_time": "2021-07-26T07:53:55.560Z"
   },
   {
    "duration": -373,
    "start_time": "2021-07-26T07:53:55.568Z"
   },
   {
    "duration": -377,
    "start_time": "2021-07-26T07:53:55.573Z"
   },
   {
    "duration": -385,
    "start_time": "2021-07-26T07:53:55.582Z"
   },
   {
    "duration": -391,
    "start_time": "2021-07-26T07:53:55.589Z"
   },
   {
    "duration": -397,
    "start_time": "2021-07-26T07:53:55.596Z"
   },
   {
    "duration": -404,
    "start_time": "2021-07-26T07:53:55.604Z"
   },
   {
    "duration": -410,
    "start_time": "2021-07-26T07:53:55.611Z"
   },
   {
    "duration": -415,
    "start_time": "2021-07-26T07:53:55.617Z"
   },
   {
    "duration": -421,
    "start_time": "2021-07-26T07:53:55.624Z"
   },
   {
    "duration": -429,
    "start_time": "2021-07-26T07:53:55.632Z"
   },
   {
    "duration": -435,
    "start_time": "2021-07-26T07:53:55.639Z"
   },
   {
    "duration": -441,
    "start_time": "2021-07-26T07:53:55.646Z"
   },
   {
    "duration": -449,
    "start_time": "2021-07-26T07:53:55.655Z"
   },
   {
    "duration": -455,
    "start_time": "2021-07-26T07:53:55.662Z"
   },
   {
    "duration": -462,
    "start_time": "2021-07-26T07:53:55.670Z"
   },
   {
    "duration": -468,
    "start_time": "2021-07-26T07:53:55.677Z"
   },
   {
    "duration": -474,
    "start_time": "2021-07-26T07:53:55.684Z"
   },
   {
    "duration": -478,
    "start_time": "2021-07-26T07:53:55.689Z"
   },
   {
    "duration": -482,
    "start_time": "2021-07-26T07:53:55.693Z"
   },
   {
    "duration": 5,
    "start_time": "2021-07-26T07:54:31.575Z"
   },
   {
    "duration": 4,
    "start_time": "2021-07-26T07:54:38.554Z"
   },
   {
    "duration": 172,
    "start_time": "2021-07-26T07:55:41.461Z"
   },
   {
    "duration": -8,
    "start_time": "2021-07-26T07:55:41.645Z"
   },
   {
    "duration": -15,
    "start_time": "2021-07-26T07:55:41.653Z"
   },
   {
    "duration": -63,
    "start_time": "2021-07-26T07:55:41.702Z"
   },
   {
    "duration": -71,
    "start_time": "2021-07-26T07:55:41.711Z"
   },
   {
    "duration": -75,
    "start_time": "2021-07-26T07:55:41.716Z"
   },
   {
    "duration": -80,
    "start_time": "2021-07-26T07:55:41.722Z"
   },
   {
    "duration": -83,
    "start_time": "2021-07-26T07:55:41.726Z"
   },
   {
    "duration": -88,
    "start_time": "2021-07-26T07:55:41.732Z"
   },
   {
    "duration": -92,
    "start_time": "2021-07-26T07:55:41.737Z"
   },
   {
    "duration": -96,
    "start_time": "2021-07-26T07:55:41.742Z"
   },
   {
    "duration": -99,
    "start_time": "2021-07-26T07:55:41.746Z"
   },
   {
    "duration": -104,
    "start_time": "2021-07-26T07:55:41.752Z"
   },
   {
    "duration": -107,
    "start_time": "2021-07-26T07:55:41.756Z"
   },
   {
    "duration": -114,
    "start_time": "2021-07-26T07:55:41.764Z"
   },
   {
    "duration": -119,
    "start_time": "2021-07-26T07:55:41.770Z"
   },
   {
    "duration": -123,
    "start_time": "2021-07-26T07:55:41.775Z"
   },
   {
    "duration": -126,
    "start_time": "2021-07-26T07:55:41.779Z"
   },
   {
    "duration": -130,
    "start_time": "2021-07-26T07:55:41.784Z"
   },
   {
    "duration": -133,
    "start_time": "2021-07-26T07:55:41.788Z"
   },
   {
    "duration": -137,
    "start_time": "2021-07-26T07:55:41.793Z"
   },
   {
    "duration": -139,
    "start_time": "2021-07-26T07:55:41.796Z"
   },
   {
    "duration": -157,
    "start_time": "2021-07-26T07:55:41.815Z"
   },
   {
    "duration": -161,
    "start_time": "2021-07-26T07:55:41.820Z"
   },
   {
    "duration": -165,
    "start_time": "2021-07-26T07:55:41.825Z"
   },
   {
    "duration": -168,
    "start_time": "2021-07-26T07:55:41.829Z"
   },
   {
    "duration": -173,
    "start_time": "2021-07-26T07:55:41.835Z"
   },
   {
    "duration": -175,
    "start_time": "2021-07-26T07:55:41.839Z"
   },
   {
    "duration": -179,
    "start_time": "2021-07-26T07:55:41.844Z"
   },
   {
    "duration": -182,
    "start_time": "2021-07-26T07:55:41.848Z"
   },
   {
    "duration": -185,
    "start_time": "2021-07-26T07:55:41.852Z"
   },
   {
    "duration": -188,
    "start_time": "2021-07-26T07:55:41.856Z"
   },
   {
    "duration": -191,
    "start_time": "2021-07-26T07:55:41.860Z"
   },
   {
    "duration": -193,
    "start_time": "2021-07-26T07:55:41.863Z"
   },
   {
    "duration": -196,
    "start_time": "2021-07-26T07:55:41.867Z"
   },
   {
    "duration": -199,
    "start_time": "2021-07-26T07:55:41.871Z"
   },
   {
    "duration": -191,
    "start_time": "2021-07-26T07:55:41.875Z"
   },
   {
    "duration": -193,
    "start_time": "2021-07-26T07:55:41.878Z"
   },
   {
    "duration": -196,
    "start_time": "2021-07-26T07:55:41.882Z"
   },
   {
    "duration": -198,
    "start_time": "2021-07-26T07:55:41.885Z"
   },
   {
    "duration": -201,
    "start_time": "2021-07-26T07:55:41.889Z"
   },
   {
    "duration": -203,
    "start_time": "2021-07-26T07:55:41.892Z"
   },
   {
    "duration": -207,
    "start_time": "2021-07-26T07:55:41.896Z"
   },
   {
    "duration": -209,
    "start_time": "2021-07-26T07:55:41.899Z"
   },
   {
    "duration": -212,
    "start_time": "2021-07-26T07:55:41.903Z"
   },
   {
    "duration": -214,
    "start_time": "2021-07-26T07:55:41.906Z"
   },
   {
    "duration": -218,
    "start_time": "2021-07-26T07:55:41.910Z"
   },
   {
    "duration": -230,
    "start_time": "2021-07-26T07:55:41.923Z"
   },
   {
    "duration": -234,
    "start_time": "2021-07-26T07:55:41.928Z"
   },
   {
    "duration": -237,
    "start_time": "2021-07-26T07:55:41.932Z"
   },
   {
    "duration": -241,
    "start_time": "2021-07-26T07:55:41.937Z"
   },
   {
    "duration": -245,
    "start_time": "2021-07-26T07:55:41.942Z"
   },
   {
    "duration": -251,
    "start_time": "2021-07-26T07:55:41.948Z"
   },
   {
    "duration": -254,
    "start_time": "2021-07-26T07:55:41.952Z"
   },
   {
    "duration": -258,
    "start_time": "2021-07-26T07:55:41.957Z"
   },
   {
    "duration": -261,
    "start_time": "2021-07-26T07:55:41.961Z"
   },
   {
    "duration": -264,
    "start_time": "2021-07-26T07:55:41.966Z"
   },
   {
    "duration": -268,
    "start_time": "2021-07-26T07:55:41.971Z"
   },
   {
    "duration": -272,
    "start_time": "2021-07-26T07:55:41.976Z"
   },
   {
    "duration": -275,
    "start_time": "2021-07-26T07:55:41.980Z"
   },
   {
    "duration": -279,
    "start_time": "2021-07-26T07:55:41.985Z"
   },
   {
    "duration": -283,
    "start_time": "2021-07-26T07:55:41.990Z"
   },
   {
    "duration": 298,
    "start_time": "2021-07-26T07:57:00.083Z"
   },
   {
    "duration": 186,
    "start_time": "2021-07-26T07:57:16.725Z"
   },
   {
    "duration": 14,
    "start_time": "2021-07-26T07:57:22.478Z"
   },
   {
    "duration": 5,
    "start_time": "2021-07-26T07:57:45.400Z"
   },
   {
    "duration": 4,
    "start_time": "2021-07-26T07:57:49.133Z"
   },
   {
    "duration": 171,
    "start_time": "2021-07-26T07:58:16.250Z"
   },
   {
    "duration": 171,
    "start_time": "2021-07-26T07:58:18.796Z"
   },
   {
    "duration": 4,
    "start_time": "2021-07-26T07:58:23.023Z"
   },
   {
    "duration": 299,
    "start_time": "2021-07-26T07:58:52.445Z"
   },
   {
    "duration": 27,
    "start_time": "2021-07-26T07:59:41.680Z"
   },
   {
    "duration": 693,
    "start_time": "2021-07-26T07:59:41.708Z"
   },
   {
    "duration": 13,
    "start_time": "2021-07-26T07:59:42.402Z"
   },
   {
    "duration": 21,
    "start_time": "2021-07-26T07:59:42.417Z"
   },
   {
    "duration": 17,
    "start_time": "2021-07-26T07:59:42.439Z"
   },
   {
    "duration": 28,
    "start_time": "2021-07-26T07:59:42.457Z"
   },
   {
    "duration": 6,
    "start_time": "2021-07-26T07:59:42.487Z"
   },
   {
    "duration": 15,
    "start_time": "2021-07-26T07:59:42.496Z"
   },
   {
    "duration": 550,
    "start_time": "2021-07-26T07:59:42.513Z"
   },
   {
    "duration": 20,
    "start_time": "2021-07-26T07:59:43.065Z"
   },
   {
    "duration": 4,
    "start_time": "2021-07-26T07:59:43.087Z"
   },
   {
    "duration": 5,
    "start_time": "2021-07-26T07:59:43.093Z"
   },
   {
    "duration": 15,
    "start_time": "2021-07-26T07:59:43.099Z"
   },
   {
    "duration": 625,
    "start_time": "2021-07-26T07:59:43.116Z"
   },
   {
    "duration": -95,
    "start_time": "2021-07-26T07:59:43.838Z"
   },
   {
    "duration": -100,
    "start_time": "2021-07-26T07:59:43.844Z"
   },
   {
    "duration": -105,
    "start_time": "2021-07-26T07:59:43.850Z"
   },
   {
    "duration": -111,
    "start_time": "2021-07-26T07:59:43.857Z"
   },
   {
    "duration": -130,
    "start_time": "2021-07-26T07:59:43.877Z"
   },
   {
    "duration": -139,
    "start_time": "2021-07-26T07:59:43.887Z"
   },
   {
    "duration": -146,
    "start_time": "2021-07-26T07:59:43.895Z"
   },
   {
    "duration": -156,
    "start_time": "2021-07-26T07:59:43.906Z"
   },
   {
    "duration": -162,
    "start_time": "2021-07-26T07:59:43.913Z"
   },
   {
    "duration": -169,
    "start_time": "2021-07-26T07:59:43.921Z"
   },
   {
    "duration": -176,
    "start_time": "2021-07-26T07:59:43.929Z"
   },
   {
    "duration": -185,
    "start_time": "2021-07-26T07:59:43.939Z"
   },
   {
    "duration": -191,
    "start_time": "2021-07-26T07:59:43.946Z"
   },
   {
    "duration": -199,
    "start_time": "2021-07-26T07:59:43.955Z"
   },
   {
    "duration": -204,
    "start_time": "2021-07-26T07:59:43.961Z"
   },
   {
    "duration": -211,
    "start_time": "2021-07-26T07:59:43.969Z"
   },
   {
    "duration": -215,
    "start_time": "2021-07-26T07:59:43.974Z"
   },
   {
    "duration": -219,
    "start_time": "2021-07-26T07:59:43.979Z"
   },
   {
    "duration": -223,
    "start_time": "2021-07-26T07:59:43.984Z"
   },
   {
    "duration": -230,
    "start_time": "2021-07-26T07:59:43.992Z"
   },
   {
    "duration": -236,
    "start_time": "2021-07-26T07:59:43.999Z"
   },
   {
    "duration": -244,
    "start_time": "2021-07-26T07:59:44.008Z"
   },
   {
    "duration": -249,
    "start_time": "2021-07-26T07:59:44.014Z"
   },
   {
    "duration": -255,
    "start_time": "2021-07-26T07:59:44.021Z"
   },
   {
    "duration": -261,
    "start_time": "2021-07-26T07:59:44.028Z"
   },
   {
    "duration": -266,
    "start_time": "2021-07-26T07:59:44.034Z"
   },
   {
    "duration": -272,
    "start_time": "2021-07-26T07:59:44.041Z"
   },
   {
    "duration": -279,
    "start_time": "2021-07-26T07:59:44.049Z"
   },
   {
    "duration": -285,
    "start_time": "2021-07-26T07:59:44.056Z"
   },
   {
    "duration": -292,
    "start_time": "2021-07-26T07:59:44.064Z"
   },
   {
    "duration": -300,
    "start_time": "2021-07-26T07:59:44.072Z"
   },
   {
    "duration": -307,
    "start_time": "2021-07-26T07:59:44.080Z"
   },
   {
    "duration": -313,
    "start_time": "2021-07-26T07:59:44.087Z"
   },
   {
    "duration": -319,
    "start_time": "2021-07-26T07:59:44.094Z"
   },
   {
    "duration": -323,
    "start_time": "2021-07-26T07:59:44.099Z"
   },
   {
    "duration": -329,
    "start_time": "2021-07-26T07:59:44.106Z"
   },
   {
    "duration": -335,
    "start_time": "2021-07-26T07:59:44.113Z"
   },
   {
    "duration": -343,
    "start_time": "2021-07-26T07:59:44.122Z"
   },
   {
    "duration": -348,
    "start_time": "2021-07-26T07:59:44.128Z"
   },
   {
    "duration": -351,
    "start_time": "2021-07-26T07:59:44.135Z"
   },
   {
    "duration": -356,
    "start_time": "2021-07-26T07:59:44.141Z"
   },
   {
    "duration": -360,
    "start_time": "2021-07-26T07:59:44.146Z"
   },
   {
    "duration": -365,
    "start_time": "2021-07-26T07:59:44.152Z"
   },
   {
    "duration": -371,
    "start_time": "2021-07-26T07:59:44.159Z"
   },
   {
    "duration": -378,
    "start_time": "2021-07-26T07:59:44.166Z"
   },
   {
    "duration": -455,
    "start_time": "2021-07-26T07:59:44.244Z"
   },
   {
    "duration": -460,
    "start_time": "2021-07-26T07:59:44.250Z"
   },
   {
    "duration": -468,
    "start_time": "2021-07-26T07:59:44.259Z"
   },
   {
    "duration": 5,
    "start_time": "2021-07-26T07:59:56.307Z"
   },
   {
    "duration": 5,
    "start_time": "2021-07-26T07:59:58.962Z"
   },
   {
    "duration": 336,
    "start_time": "2021-07-26T08:00:03.308Z"
   },
   {
    "duration": 8,
    "start_time": "2021-07-26T08:00:03.645Z"
   },
   {
    "duration": 33,
    "start_time": "2021-07-26T08:00:03.655Z"
   },
   {
    "duration": 4,
    "start_time": "2021-07-26T08:00:03.690Z"
   },
   {
    "duration": 361,
    "start_time": "2021-07-26T08:00:03.696Z"
   },
   {
    "duration": 15,
    "start_time": "2021-07-26T08:00:04.058Z"
   },
   {
    "duration": 505,
    "start_time": "2021-07-26T08:00:04.074Z"
   },
   {
    "duration": 15,
    "start_time": "2021-07-26T08:00:04.585Z"
   },
   {
    "duration": 23,
    "start_time": "2021-07-26T08:00:04.602Z"
   },
   {
    "duration": 366,
    "start_time": "2021-07-26T08:00:04.626Z"
   },
   {
    "duration": 13,
    "start_time": "2021-07-26T08:00:04.994Z"
   },
   {
    "duration": 4,
    "start_time": "2021-07-26T08:00:05.008Z"
   },
   {
    "duration": 8,
    "start_time": "2021-07-26T08:00:05.013Z"
   },
   {
    "duration": 26,
    "start_time": "2021-07-26T08:00:05.023Z"
   },
   {
    "duration": 562,
    "start_time": "2021-07-26T08:00:05.051Z"
   },
   {
    "duration": 744,
    "start_time": "2021-07-26T08:00:05.615Z"
   },
   {
    "duration": -79,
    "start_time": "2021-07-26T08:00:06.440Z"
   },
   {
    "duration": -85,
    "start_time": "2021-07-26T08:00:06.447Z"
   },
   {
    "duration": -90,
    "start_time": "2021-07-26T08:00:06.453Z"
   },
   {
    "duration": -96,
    "start_time": "2021-07-26T08:00:06.460Z"
   },
   {
    "duration": -101,
    "start_time": "2021-07-26T08:00:06.466Z"
   },
   {
    "duration": -105,
    "start_time": "2021-07-26T08:00:06.471Z"
   },
   {
    "duration": -108,
    "start_time": "2021-07-26T08:00:06.475Z"
   },
   {
    "duration": -111,
    "start_time": "2021-07-26T08:00:06.479Z"
   },
   {
    "duration": -115,
    "start_time": "2021-07-26T08:00:06.484Z"
   },
   {
    "duration": -119,
    "start_time": "2021-07-26T08:00:06.489Z"
   },
   {
    "duration": -123,
    "start_time": "2021-07-26T08:00:06.494Z"
   },
   {
    "duration": -127,
    "start_time": "2021-07-26T08:00:06.499Z"
   },
   {
    "duration": -130,
    "start_time": "2021-07-26T08:00:06.503Z"
   },
   {
    "duration": -133,
    "start_time": "2021-07-26T08:00:06.507Z"
   },
   {
    "duration": -136,
    "start_time": "2021-07-26T08:00:06.511Z"
   },
   {
    "duration": -140,
    "start_time": "2021-07-26T08:00:06.516Z"
   },
   {
    "duration": -143,
    "start_time": "2021-07-26T08:00:06.520Z"
   },
   {
    "duration": -190,
    "start_time": "2021-07-26T08:00:06.568Z"
   },
   {
    "duration": -199,
    "start_time": "2021-07-26T08:00:06.578Z"
   },
   {
    "duration": -205,
    "start_time": "2021-07-26T08:00:06.584Z"
   },
   {
    "duration": -207,
    "start_time": "2021-07-26T08:00:06.588Z"
   },
   {
    "duration": -212,
    "start_time": "2021-07-26T08:00:06.593Z"
   },
   {
    "duration": -216,
    "start_time": "2021-07-26T08:00:06.598Z"
   },
   {
    "duration": -220,
    "start_time": "2021-07-26T08:00:06.603Z"
   },
   {
    "duration": -225,
    "start_time": "2021-07-26T08:00:06.609Z"
   },
   {
    "duration": -230,
    "start_time": "2021-07-26T08:00:06.615Z"
   },
   {
    "duration": -236,
    "start_time": "2021-07-26T08:00:06.622Z"
   },
   {
    "duration": -240,
    "start_time": "2021-07-26T08:00:06.627Z"
   },
   {
    "duration": -243,
    "start_time": "2021-07-26T08:00:06.631Z"
   },
   {
    "duration": -247,
    "start_time": "2021-07-26T08:00:06.636Z"
   },
   {
    "duration": -250,
    "start_time": "2021-07-26T08:00:06.640Z"
   },
   {
    "duration": -253,
    "start_time": "2021-07-26T08:00:06.644Z"
   },
   {
    "duration": -256,
    "start_time": "2021-07-26T08:00:06.648Z"
   },
   {
    "duration": 318,
    "start_time": "2021-07-26T08:00:18.548Z"
   },
   {
    "duration": 27,
    "start_time": "2021-07-26T08:00:22.204Z"
   },
   {
    "duration": 567,
    "start_time": "2021-07-26T08:00:22.233Z"
   },
   {
    "duration": 16,
    "start_time": "2021-07-26T08:00:22.802Z"
   },
   {
    "duration": 22,
    "start_time": "2021-07-26T08:00:22.820Z"
   },
   {
    "duration": 4,
    "start_time": "2021-07-26T08:00:22.844Z"
   },
   {
    "duration": 5,
    "start_time": "2021-07-26T08:00:22.849Z"
   },
   {
    "duration": 31,
    "start_time": "2021-07-26T08:00:22.856Z"
   },
   {
    "duration": 161,
    "start_time": "2021-07-26T08:00:22.890Z"
   },
   {
    "duration": 38,
    "start_time": "2021-07-26T08:00:23.053Z"
   },
   {
    "duration": 583,
    "start_time": "2021-07-26T08:00:23.093Z"
   },
   {
    "duration": 7,
    "start_time": "2021-07-26T08:00:23.678Z"
   },
   {
    "duration": 4,
    "start_time": "2021-07-26T08:00:23.687Z"
   },
   {
    "duration": 629,
    "start_time": "2021-07-26T08:00:23.693Z"
   },
   {
    "duration": -100,
    "start_time": "2021-07-26T08:00:24.425Z"
   },
   {
    "duration": -106,
    "start_time": "2021-07-26T08:00:24.432Z"
   },
   {
    "duration": -111,
    "start_time": "2021-07-26T08:00:24.438Z"
   },
   {
    "duration": -117,
    "start_time": "2021-07-26T08:00:24.445Z"
   },
   {
    "duration": -125,
    "start_time": "2021-07-26T08:00:24.454Z"
   },
   {
    "duration": -130,
    "start_time": "2021-07-26T08:00:24.460Z"
   },
   {
    "duration": -136,
    "start_time": "2021-07-26T08:00:24.467Z"
   },
   {
    "duration": -141,
    "start_time": "2021-07-26T08:00:24.473Z"
   },
   {
    "duration": -166,
    "start_time": "2021-07-26T08:00:24.498Z"
   },
   {
    "duration": -173,
    "start_time": "2021-07-26T08:00:24.506Z"
   },
   {
    "duration": -178,
    "start_time": "2021-07-26T08:00:24.512Z"
   },
   {
    "duration": -189,
    "start_time": "2021-07-26T08:00:24.525Z"
   },
   {
    "duration": -199,
    "start_time": "2021-07-26T08:00:24.536Z"
   },
   {
    "duration": -203,
    "start_time": "2021-07-26T08:00:24.541Z"
   },
   {
    "duration": -214,
    "start_time": "2021-07-26T08:00:24.553Z"
   },
   {
    "duration": -224,
    "start_time": "2021-07-26T08:00:24.563Z"
   },
   {
    "duration": -229,
    "start_time": "2021-07-26T08:00:24.569Z"
   },
   {
    "duration": -238,
    "start_time": "2021-07-26T08:00:24.579Z"
   },
   {
    "duration": -244,
    "start_time": "2021-07-26T08:00:24.586Z"
   },
   {
    "duration": -248,
    "start_time": "2021-07-26T08:00:24.591Z"
   },
   {
    "duration": 5,
    "start_time": "2021-07-26T08:00:32.830Z"
   },
   {
    "duration": 5,
    "start_time": "2021-07-26T08:00:34.627Z"
   },
   {
    "duration": 296,
    "start_time": "2021-07-26T08:00:37.309Z"
   },
   {
    "duration": 81,
    "start_time": "2021-07-26T08:00:37.607Z"
   },
   {
    "duration": 27,
    "start_time": "2021-07-26T08:00:37.690Z"
   },
   {
    "duration": 24,
    "start_time": "2021-07-26T08:00:37.719Z"
   },
   {
    "duration": 12,
    "start_time": "2021-07-26T08:00:37.745Z"
   },
   {
    "duration": 29,
    "start_time": "2021-07-26T08:00:37.758Z"
   },
   {
    "duration": 14,
    "start_time": "2021-07-26T08:00:37.789Z"
   },
   {
    "duration": 3,
    "start_time": "2021-07-26T08:00:37.806Z"
   },
   {
    "duration": 31,
    "start_time": "2021-07-26T08:00:37.812Z"
   },
   {
    "duration": 9,
    "start_time": "2021-07-26T08:00:37.845Z"
   },
   {
    "duration": 5,
    "start_time": "2021-07-26T08:00:37.856Z"
   },
   {
    "duration": 23,
    "start_time": "2021-07-26T08:00:37.862Z"
   },
   {
    "duration": 13,
    "start_time": "2021-07-26T08:00:37.886Z"
   },
   {
    "duration": 4,
    "start_time": "2021-07-26T08:00:37.900Z"
   },
   {
    "duration": 20,
    "start_time": "2021-07-26T08:00:37.906Z"
   },
   {
    "duration": 18,
    "start_time": "2021-07-26T08:00:37.928Z"
   },
   {
    "duration": 46,
    "start_time": "2021-07-26T08:00:37.948Z"
   },
   {
    "duration": 15,
    "start_time": "2021-07-26T08:00:37.996Z"
   },
   {
    "duration": 5,
    "start_time": "2021-07-26T08:00:38.012Z"
   },
   {
    "duration": 4,
    "start_time": "2021-07-26T08:00:38.019Z"
   },
   {
    "duration": 5,
    "start_time": "2021-07-26T08:00:38.025Z"
   },
   {
    "duration": 17,
    "start_time": "2021-07-26T08:02:21.670Z"
   },
   {
    "duration": 5,
    "start_time": "2021-07-26T08:33:46.915Z"
   },
   {
    "duration": 6,
    "start_time": "2021-07-26T08:38:14.214Z"
   },
   {
    "duration": 8,
    "start_time": "2021-07-26T08:38:23.702Z"
   },
   {
    "duration": 8,
    "start_time": "2021-07-26T08:39:05.333Z"
   },
   {
    "duration": 8,
    "start_time": "2021-07-26T08:39:12.244Z"
   },
   {
    "duration": 5,
    "start_time": "2021-07-26T08:46:41.174Z"
   },
   {
    "duration": 14327,
    "start_time": "2023-07-19T11:27:57.269Z"
   }
  ],
  "kernelspec": {
   "display_name": "Python 3",
   "language": "python",
   "name": "python3"
  },
  "language_info": {
   "codemirror_mode": {
    "name": "ipython",
    "version": 3
   },
   "file_extension": ".py",
   "mimetype": "text/x-python",
   "name": "python",
   "nbconvert_exporter": "python",
   "pygments_lexer": "ipython3",
   "version": "3.8.5"
  },
  "toc": {
   "base_numbering": 1,
   "nav_menu": {},
   "number_sections": true,
   "sideBar": true,
   "skip_h1_title": true,
   "title_cell": "Table of Contents",
   "title_sidebar": "Contents",
   "toc_cell": false,
   "toc_position": {
    "height": "calc(100% - 180px)",
    "left": "10px",
    "top": "150px",
    "width": "335.188px"
   },
   "toc_section_display": true,
   "toc_window_display": true
  }
 },
 "nbformat": 4,
 "nbformat_minor": 4
}
