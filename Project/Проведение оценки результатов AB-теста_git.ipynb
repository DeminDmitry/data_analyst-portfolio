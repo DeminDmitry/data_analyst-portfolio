{
 "cells": [
  {
   "cell_type": "markdown",
   "metadata": {},
   "source": [
    "# Проведение оценки результатов AB-теста"
   ]
  },
  {
   "cell_type": "markdown",
   "metadata": {},
   "source": [
    "<div class=\"alert alert-info\" role=\"alert\">\n",
    "\n",
    "<b>Наша задача:</b>\n",
    "    \n",
    "Провести оценку результатов A/B-теста. \n",
    "    \n",
    "В вашем распоряжении есть датасет с действиями пользователей, техническое задание и несколько вспомогательных датасетов.\n",
    "\n",
    "Необходимо оценить корректность проведения теста\n",
    "    \n",
    "Проанализировать результаты теста\n",
    "    \n",
    "    \n",
    "    Техническое задание\n",
    "    Название теста: recommender_system_test;\n",
    "    Группы: А (контрольная), B (новая платёжная воронка);\n",
    "    Дата запуска: 2020-12-07;\n",
    "    Дата остановки набора новых пользователей: 2020-12-21;\n",
    "    Дата остановки: 2021-01-04;\n",
    "    Аудитория: 15% новых пользователей из региона EU;\n",
    "    Назначение теста: тестирование изменений, связанных с внедрением улучшенной рекомендательной системы;\n",
    "    Ожидаемое количество участников теста: 6000.\n",
    "    Ожидаемый эффект: за 14 дней с момента регистрации в системе пользователи покажут улучшение каждой метрики не менее, чем на 10%:\n",
    "    конверсии в просмотр карточек товаров — событие product_page\n",
    "    просмотры корзины — product_cart\n",
    "    покупки — purchase.\n",
    "\n",
    "<b>Описание данных:</b>\n",
    "    \n",
    " Колонки в `ab_project_marketing_events` - календарь маркетинговых событий на 2020 год:\n",
    "\n",
    "- `name` — название маркетингового события\n",
    "- `regions` — регионы, в которых будет проводиться рекламная кампания\n",
    "- `start_dt` — дата начала кампании\n",
    "- `finish_dt` — дата завершения кампании\n",
    "\n",
    " Колонки в `final_ab_new_users` - все пользователи, зарегистрировавшиеся в интернет-магазине в период с 7 по 21 декабря 2020 года:\n",
    "\n",
    "- `user_id` — идентификатор пользователя\n",
    "- `first_date` — дата регистрации\n",
    "- `region` — регион пользователя\n",
    "- `device` — устройство, с которого происходила регистрация   \n",
    "    \n",
    " Колонки в `final_ab_events` - все события новых пользователей в период с 7 декабря 2020 по 4 января 2021 года:\n",
    "\n",
    "- `user_id` — идентификатор пользователя\n",
    "- `event_dt` — дата и время события\n",
    "- `event_name` — тип события \n",
    "- `details` — дополнительные данные о событии. Например, для покупок, `purchase`, в этом поле хранится стоимость покупки в долларах \n",
    "    \n",
    " Колонки в `final_ab_participants` - таблица участников тестов:\n",
    "\n",
    "- `user_id` — идентификатор пользователя\n",
    "- `ab_test` — название теста\n",
    "- `group` — группа пользователя      \n",
    "    \n",
    "\n",
    "<b>Шаг 1. Загрузим данные, подготовим данные и изучим общую информацию </b>\n",
    "    \n",
    "Заменим названия столбцов;\n",
    "    \n",
    "Проверим пропуски и типы данных;\n",
    "    \n",
    "Добавим столбец даты и времени, а также отдельный столбец дат;   \n",
    "    \n",
    "\n",
    "<b>Шаг 2.  Изучим данные приведем их в соответствие с ТЗ</b>\n",
    "    \n",
    "Приведем данные к единой таблице, уберем значения не соответствующие ТЗ\n",
    "    \n",
    "<b>Шаг 3. Изучим воронку событий</b>  \n",
    "\n",
    "Посмотрим, какие события есть в логах, как часто они встречаются\n",
    "    \n",
    "Посчитаем, сколько пользователей совершали каждое из этих событий\n",
    "    \n",
    "Посчитаем долю пользователей, которые хоть раз совершали событие\n",
    "    \n",
    "По воронке событий посчитаем, какая доля пользователей проходит на следующий шаг воронки\n",
    "    \n",
    "<b>Шаг 4. Проанализируем A/B-тест и построим графики</b>    \n",
    "    \n",
    "ТЕСТ: Проверим, находят ли статистические критерии разницу между выборками A и B\n",
    "    \n",
    "ТЕСТ: Проверим, имеется ли различия в конверсии групп A и группы B для событий: product_page, product_cart и purchase\n",
    "    \n",
    "<b>Шаг 5. Общий вывод</b>   \n",
    "    \n",
    "</div>"
   ]
  },
  {
   "cell_type": "code",
   "execution_count": 1,
   "metadata": {},
   "outputs": [],
   "source": [
    "import pandas as pd\n",
    "import math as mth\n",
    "from scipy import stats as st\n",
    "\n",
    "import numpy as np\n",
    "from matplotlib import pyplot as plt\n",
    "\n",
    "import math\n",
    "from scipy import stats\n",
    "\n",
    "from datetime import datetime, timedelta\n",
    "\n",
    "from statsmodels.stats.proportion import proportions_ztest\n",
    "import warnings\n",
    "\n",
    "warnings.filterwarnings('ignore')\n",
    "\n",
    "from pandas.plotting import register_matplotlib_converters\n",
    "register_matplotlib_converters()"
   ]
  },
  {
   "cell_type": "markdown",
   "metadata": {},
   "source": [
    "# Шаг 1. Загрузим данные, подготовим данные и изучим общую информацию"
   ]
  },
  {
   "cell_type": "markdown",
   "metadata": {},
   "source": [
    "**ab_project_marketing_events**"
   ]
  },
  {
   "cell_type": "code",
   "execution_count": 2,
   "metadata": {},
   "outputs": [
    {
     "name": "stdout",
     "output_type": "stream",
     "text": [
      "<class 'pandas.core.frame.DataFrame'>\n",
      "RangeIndex: 14 entries, 0 to 13\n",
      "Data columns (total 4 columns):\n",
      "name         14 non-null object\n",
      "regions      14 non-null object\n",
      "start_dt     14 non-null object\n",
      "finish_dt    14 non-null object\n",
      "dtypes: object(4)\n",
      "memory usage: 576.0+ bytes\n"
     ]
    }
   ],
   "source": [
    "#marketing_events = pd.read_csv(\"E:/YP/VP/ID/AB/ab_project_marketing_events.csv\")\n",
    "marketing_events = pd.read_csv('/datasets/ab_project_marketing_events.csv') \n",
    "marketing_events.info()"
   ]
  },
  {
   "cell_type": "code",
   "execution_count": 3,
   "metadata": {},
   "outputs": [
    {
     "data": {
      "text/html": [
       "<div>\n",
       "<style scoped>\n",
       "    .dataframe tbody tr th:only-of-type {\n",
       "        vertical-align: middle;\n",
       "    }\n",
       "\n",
       "    .dataframe tbody tr th {\n",
       "        vertical-align: top;\n",
       "    }\n",
       "\n",
       "    .dataframe thead th {\n",
       "        text-align: right;\n",
       "    }\n",
       "</style>\n",
       "<table border=\"1\" class=\"dataframe\">\n",
       "  <thead>\n",
       "    <tr style=\"text-align: right;\">\n",
       "      <th></th>\n",
       "      <th>name</th>\n",
       "      <th>regions</th>\n",
       "      <th>start_dt</th>\n",
       "      <th>finish_dt</th>\n",
       "    </tr>\n",
       "  </thead>\n",
       "  <tbody>\n",
       "    <tr>\n",
       "      <td>0</td>\n",
       "      <td>Christmas&amp;New Year Promo</td>\n",
       "      <td>EU, N.America</td>\n",
       "      <td>2020-12-25</td>\n",
       "      <td>2021-01-03</td>\n",
       "    </tr>\n",
       "    <tr>\n",
       "      <td>1</td>\n",
       "      <td>St. Valentine's Day Giveaway</td>\n",
       "      <td>EU, CIS, APAC, N.America</td>\n",
       "      <td>2020-02-14</td>\n",
       "      <td>2020-02-16</td>\n",
       "    </tr>\n",
       "    <tr>\n",
       "      <td>2</td>\n",
       "      <td>St. Patric's Day Promo</td>\n",
       "      <td>EU, N.America</td>\n",
       "      <td>2020-03-17</td>\n",
       "      <td>2020-03-19</td>\n",
       "    </tr>\n",
       "    <tr>\n",
       "      <td>3</td>\n",
       "      <td>Easter Promo</td>\n",
       "      <td>EU, CIS, APAC, N.America</td>\n",
       "      <td>2020-04-12</td>\n",
       "      <td>2020-04-19</td>\n",
       "    </tr>\n",
       "    <tr>\n",
       "      <td>4</td>\n",
       "      <td>4th of July Promo</td>\n",
       "      <td>N.America</td>\n",
       "      <td>2020-07-04</td>\n",
       "      <td>2020-07-11</td>\n",
       "    </tr>\n",
       "    <tr>\n",
       "      <td>5</td>\n",
       "      <td>Black Friday Ads Campaign</td>\n",
       "      <td>EU, CIS, APAC, N.America</td>\n",
       "      <td>2020-11-26</td>\n",
       "      <td>2020-12-01</td>\n",
       "    </tr>\n",
       "    <tr>\n",
       "      <td>6</td>\n",
       "      <td>Chinese New Year Promo</td>\n",
       "      <td>APAC</td>\n",
       "      <td>2020-01-25</td>\n",
       "      <td>2020-02-07</td>\n",
       "    </tr>\n",
       "    <tr>\n",
       "      <td>7</td>\n",
       "      <td>Labor day (May 1st) Ads Campaign</td>\n",
       "      <td>EU, CIS, APAC</td>\n",
       "      <td>2020-05-01</td>\n",
       "      <td>2020-05-03</td>\n",
       "    </tr>\n",
       "    <tr>\n",
       "      <td>8</td>\n",
       "      <td>International Women's Day Promo</td>\n",
       "      <td>EU, CIS, APAC</td>\n",
       "      <td>2020-03-08</td>\n",
       "      <td>2020-03-10</td>\n",
       "    </tr>\n",
       "    <tr>\n",
       "      <td>9</td>\n",
       "      <td>Victory Day CIS (May 9th) Event</td>\n",
       "      <td>CIS</td>\n",
       "      <td>2020-05-09</td>\n",
       "      <td>2020-05-11</td>\n",
       "    </tr>\n",
       "    <tr>\n",
       "      <td>10</td>\n",
       "      <td>CIS New Year Gift Lottery</td>\n",
       "      <td>CIS</td>\n",
       "      <td>2020-12-30</td>\n",
       "      <td>2021-01-07</td>\n",
       "    </tr>\n",
       "    <tr>\n",
       "      <td>11</td>\n",
       "      <td>Dragon Boat Festival Giveaway</td>\n",
       "      <td>APAC</td>\n",
       "      <td>2020-06-25</td>\n",
       "      <td>2020-07-01</td>\n",
       "    </tr>\n",
       "    <tr>\n",
       "      <td>12</td>\n",
       "      <td>Single's Day Gift Promo</td>\n",
       "      <td>APAC</td>\n",
       "      <td>2020-11-11</td>\n",
       "      <td>2020-11-12</td>\n",
       "    </tr>\n",
       "    <tr>\n",
       "      <td>13</td>\n",
       "      <td>Chinese Moon Festival</td>\n",
       "      <td>APAC</td>\n",
       "      <td>2020-10-01</td>\n",
       "      <td>2020-10-07</td>\n",
       "    </tr>\n",
       "  </tbody>\n",
       "</table>\n",
       "</div>"
      ],
      "text/plain": [
       "                                name                   regions    start_dt  \\\n",
       "0           Christmas&New Year Promo             EU, N.America  2020-12-25   \n",
       "1       St. Valentine's Day Giveaway  EU, CIS, APAC, N.America  2020-02-14   \n",
       "2             St. Patric's Day Promo             EU, N.America  2020-03-17   \n",
       "3                       Easter Promo  EU, CIS, APAC, N.America  2020-04-12   \n",
       "4                  4th of July Promo                 N.America  2020-07-04   \n",
       "5          Black Friday Ads Campaign  EU, CIS, APAC, N.America  2020-11-26   \n",
       "6             Chinese New Year Promo                      APAC  2020-01-25   \n",
       "7   Labor day (May 1st) Ads Campaign             EU, CIS, APAC  2020-05-01   \n",
       "8    International Women's Day Promo             EU, CIS, APAC  2020-03-08   \n",
       "9    Victory Day CIS (May 9th) Event                       CIS  2020-05-09   \n",
       "10         CIS New Year Gift Lottery                       CIS  2020-12-30   \n",
       "11     Dragon Boat Festival Giveaway                      APAC  2020-06-25   \n",
       "12           Single's Day Gift Promo                      APAC  2020-11-11   \n",
       "13             Chinese Moon Festival                      APAC  2020-10-01   \n",
       "\n",
       "     finish_dt  \n",
       "0   2021-01-03  \n",
       "1   2020-02-16  \n",
       "2   2020-03-19  \n",
       "3   2020-04-19  \n",
       "4   2020-07-11  \n",
       "5   2020-12-01  \n",
       "6   2020-02-07  \n",
       "7   2020-05-03  \n",
       "8   2020-03-10  \n",
       "9   2020-05-11  \n",
       "10  2021-01-07  \n",
       "11  2020-07-01  \n",
       "12  2020-11-12  \n",
       "13  2020-10-07  "
      ]
     },
     "execution_count": 3,
     "metadata": {},
     "output_type": "execute_result"
    }
   ],
   "source": [
    "marketing_events"
   ]
  },
  {
   "cell_type": "markdown",
   "metadata": {},
   "source": [
    "Мы обладаем календарем событий в различных регионах за 2020 год. Всего в календаре 14 событий"
   ]
  },
  {
   "cell_type": "code",
   "execution_count": 4,
   "metadata": {},
   "outputs": [
    {
     "data": {
      "text/plain": [
       "0"
      ]
     },
     "execution_count": 4,
     "metadata": {},
     "output_type": "execute_result"
    }
   ],
   "source": [
    "marketing_events.duplicated().sum()"
   ]
  },
  {
   "cell_type": "markdown",
   "metadata": {},
   "source": [
    "**final_ab_events**"
   ]
  },
  {
   "cell_type": "code",
   "execution_count": 5,
   "metadata": {},
   "outputs": [
    {
     "name": "stdout",
     "output_type": "stream",
     "text": [
      "<class 'pandas.core.frame.DataFrame'>\n",
      "RangeIndex: 440317 entries, 0 to 440316\n",
      "Data columns (total 4 columns):\n",
      "user_id       440317 non-null object\n",
      "event_dt      440317 non-null object\n",
      "event_name    440317 non-null object\n",
      "details       62740 non-null float64\n",
      "dtypes: float64(1), object(3)\n",
      "memory usage: 13.4+ MB\n"
     ]
    }
   ],
   "source": [
    "#ab_events = pd.read_csv(\"E:/YP/VP/ID/AB/final_ab_events.csv\")\n",
    "ab_events = pd.read_csv('/datasets/final_ab_events.csv') \n",
    "ab_events.info()"
   ]
  },
  {
   "cell_type": "markdown",
   "metadata": {},
   "source": [
    "ab_events"
   ]
  },
  {
   "cell_type": "code",
   "execution_count": 6,
   "metadata": {},
   "outputs": [
    {
     "data": {
      "text/plain": [
       "array(['purchase', 'product_cart', 'product_page', 'login'], dtype=object)"
      ]
     },
     "execution_count": 6,
     "metadata": {},
     "output_type": "execute_result"
    }
   ],
   "source": [
    "ab_events['event_name'].unique()"
   ]
  },
  {
   "cell_type": "markdown",
   "metadata": {},
   "source": [
    "У нас 4 типа события:\n",
    "- login - посещение страницы регистрации;\n",
    "- product_page - посещение страницы с продуктом;\n",
    "- product_cart - просмотр корзины;\n",
    "- purchase - посещение страницы с оплатой."
   ]
  },
  {
   "cell_type": "markdown",
   "metadata": {},
   "source": [
    "Подработаем тип времени"
   ]
  },
  {
   "cell_type": "code",
   "execution_count": 7,
   "metadata": {},
   "outputs": [],
   "source": [
    "ab_events['event_dt'] = pd.to_datetime(ab_events['event_dt'])"
   ]
  },
  {
   "cell_type": "code",
   "execution_count": 8,
   "metadata": {},
   "outputs": [
    {
     "data": {
      "text/plain": [
       "count                  440317\n",
       "unique                 267268\n",
       "top       2020-12-23 02:37:24\n",
       "freq                       10\n",
       "first     2020-12-07 00:00:33\n",
       "last      2020-12-30 23:36:33\n",
       "Name: event_dt, dtype: object"
      ]
     },
     "execution_count": 8,
     "metadata": {},
     "output_type": "execute_result"
    }
   ],
   "source": [
    "ab_events['event_dt'].describe()"
   ]
  },
  {
   "cell_type": "markdown",
   "metadata": {},
   "source": [
    "Наши данные начинаются с 07 декабря 2020 года и заканчикаются 30 декабрем 2020 года"
   ]
  },
  {
   "cell_type": "code",
   "execution_count": 9,
   "metadata": {},
   "outputs": [
    {
     "data": {
      "text/plain": [
       "58703"
      ]
     },
     "execution_count": 9,
     "metadata": {},
     "output_type": "execute_result"
    }
   ],
   "source": [
    "ab_events['user_id'].nunique()"
   ]
  },
  {
   "cell_type": "markdown",
   "metadata": {},
   "source": [
    "Данные с 58703 уникальными пользователями"
   ]
  },
  {
   "cell_type": "markdown",
   "metadata": {},
   "source": [
    "Добавим день совершения события"
   ]
  },
  {
   "cell_type": "code",
   "execution_count": 10,
   "metadata": {},
   "outputs": [
    {
     "data": {
      "text/html": [
       "<div>\n",
       "<style scoped>\n",
       "    .dataframe tbody tr th:only-of-type {\n",
       "        vertical-align: middle;\n",
       "    }\n",
       "\n",
       "    .dataframe tbody tr th {\n",
       "        vertical-align: top;\n",
       "    }\n",
       "\n",
       "    .dataframe thead th {\n",
       "        text-align: right;\n",
       "    }\n",
       "</style>\n",
       "<table border=\"1\" class=\"dataframe\">\n",
       "  <thead>\n",
       "    <tr style=\"text-align: right;\">\n",
       "      <th></th>\n",
       "      <th>user_id</th>\n",
       "      <th>event_dt</th>\n",
       "      <th>event_name</th>\n",
       "      <th>details</th>\n",
       "      <th>day</th>\n",
       "      <th>date</th>\n",
       "    </tr>\n",
       "  </thead>\n",
       "  <tbody>\n",
       "    <tr>\n",
       "      <td>0</td>\n",
       "      <td>E1BDDCE0DAFA2679</td>\n",
       "      <td>2020-12-07 20:22:03</td>\n",
       "      <td>purchase</td>\n",
       "      <td>99.99</td>\n",
       "      <td>7</td>\n",
       "      <td>2020-12-07</td>\n",
       "    </tr>\n",
       "    <tr>\n",
       "      <td>1</td>\n",
       "      <td>7B6452F081F49504</td>\n",
       "      <td>2020-12-07 09:22:53</td>\n",
       "      <td>purchase</td>\n",
       "      <td>9.99</td>\n",
       "      <td>7</td>\n",
       "      <td>2020-12-07</td>\n",
       "    </tr>\n",
       "    <tr>\n",
       "      <td>2</td>\n",
       "      <td>9CD9F34546DF254C</td>\n",
       "      <td>2020-12-07 12:59:29</td>\n",
       "      <td>purchase</td>\n",
       "      <td>4.99</td>\n",
       "      <td>7</td>\n",
       "      <td>2020-12-07</td>\n",
       "    </tr>\n",
       "    <tr>\n",
       "      <td>3</td>\n",
       "      <td>96F27A054B191457</td>\n",
       "      <td>2020-12-07 04:02:40</td>\n",
       "      <td>purchase</td>\n",
       "      <td>4.99</td>\n",
       "      <td>7</td>\n",
       "      <td>2020-12-07</td>\n",
       "    </tr>\n",
       "    <tr>\n",
       "      <td>4</td>\n",
       "      <td>1FD7660FDF94CA1F</td>\n",
       "      <td>2020-12-07 10:15:09</td>\n",
       "      <td>purchase</td>\n",
       "      <td>4.99</td>\n",
       "      <td>7</td>\n",
       "      <td>2020-12-07</td>\n",
       "    </tr>\n",
       "    <tr>\n",
       "      <td>...</td>\n",
       "      <td>...</td>\n",
       "      <td>...</td>\n",
       "      <td>...</td>\n",
       "      <td>...</td>\n",
       "      <td>...</td>\n",
       "      <td>...</td>\n",
       "    </tr>\n",
       "    <tr>\n",
       "      <td>440312</td>\n",
       "      <td>245E85F65C358E08</td>\n",
       "      <td>2020-12-30 19:35:55</td>\n",
       "      <td>login</td>\n",
       "      <td>NaN</td>\n",
       "      <td>30</td>\n",
       "      <td>2020-12-30</td>\n",
       "    </tr>\n",
       "    <tr>\n",
       "      <td>440313</td>\n",
       "      <td>9385A108F5A0A7A7</td>\n",
       "      <td>2020-12-30 10:54:15</td>\n",
       "      <td>login</td>\n",
       "      <td>NaN</td>\n",
       "      <td>30</td>\n",
       "      <td>2020-12-30</td>\n",
       "    </tr>\n",
       "    <tr>\n",
       "      <td>440314</td>\n",
       "      <td>DB650B7559AC6EAC</td>\n",
       "      <td>2020-12-30 10:59:09</td>\n",
       "      <td>login</td>\n",
       "      <td>NaN</td>\n",
       "      <td>30</td>\n",
       "      <td>2020-12-30</td>\n",
       "    </tr>\n",
       "    <tr>\n",
       "      <td>440315</td>\n",
       "      <td>F80C9BDDEA02E53C</td>\n",
       "      <td>2020-12-30 09:53:39</td>\n",
       "      <td>login</td>\n",
       "      <td>NaN</td>\n",
       "      <td>30</td>\n",
       "      <td>2020-12-30</td>\n",
       "    </tr>\n",
       "    <tr>\n",
       "      <td>440316</td>\n",
       "      <td>7AEC61159B672CC5</td>\n",
       "      <td>2020-12-30 11:36:13</td>\n",
       "      <td>login</td>\n",
       "      <td>NaN</td>\n",
       "      <td>30</td>\n",
       "      <td>2020-12-30</td>\n",
       "    </tr>\n",
       "  </tbody>\n",
       "</table>\n",
       "<p>440317 rows × 6 columns</p>\n",
       "</div>"
      ],
      "text/plain": [
       "                 user_id            event_dt event_name  details  day  \\\n",
       "0       E1BDDCE0DAFA2679 2020-12-07 20:22:03   purchase    99.99    7   \n",
       "1       7B6452F081F49504 2020-12-07 09:22:53   purchase     9.99    7   \n",
       "2       9CD9F34546DF254C 2020-12-07 12:59:29   purchase     4.99    7   \n",
       "3       96F27A054B191457 2020-12-07 04:02:40   purchase     4.99    7   \n",
       "4       1FD7660FDF94CA1F 2020-12-07 10:15:09   purchase     4.99    7   \n",
       "...                  ...                 ...        ...      ...  ...   \n",
       "440312  245E85F65C358E08 2020-12-30 19:35:55      login      NaN   30   \n",
       "440313  9385A108F5A0A7A7 2020-12-30 10:54:15      login      NaN   30   \n",
       "440314  DB650B7559AC6EAC 2020-12-30 10:59:09      login      NaN   30   \n",
       "440315  F80C9BDDEA02E53C 2020-12-30 09:53:39      login      NaN   30   \n",
       "440316  7AEC61159B672CC5 2020-12-30 11:36:13      login      NaN   30   \n",
       "\n",
       "              date  \n",
       "0       2020-12-07  \n",
       "1       2020-12-07  \n",
       "2       2020-12-07  \n",
       "3       2020-12-07  \n",
       "4       2020-12-07  \n",
       "...            ...  \n",
       "440312  2020-12-30  \n",
       "440313  2020-12-30  \n",
       "440314  2020-12-30  \n",
       "440315  2020-12-30  \n",
       "440316  2020-12-30  \n",
       "\n",
       "[440317 rows x 6 columns]"
      ]
     },
     "execution_count": 10,
     "metadata": {},
     "output_type": "execute_result"
    }
   ],
   "source": [
    "ab_events['day'] = ab_events['event_dt'].dt.day\n",
    "ab_events['date'] = ab_events['event_dt'].dt.date\n",
    "ab_events"
   ]
  },
  {
   "cell_type": "code",
   "execution_count": 11,
   "metadata": {},
   "outputs": [
    {
     "data": {
      "text/plain": [
       "0"
      ]
     },
     "execution_count": 11,
     "metadata": {},
     "output_type": "execute_result"
    }
   ],
   "source": [
    "ab_events.duplicated().sum()"
   ]
  },
  {
   "cell_type": "markdown",
   "metadata": {},
   "source": [
    "**final_ab_new_users**"
   ]
  },
  {
   "cell_type": "code",
   "execution_count": 12,
   "metadata": {},
   "outputs": [
    {
     "name": "stdout",
     "output_type": "stream",
     "text": [
      "<class 'pandas.core.frame.DataFrame'>\n",
      "RangeIndex: 61733 entries, 0 to 61732\n",
      "Data columns (total 4 columns):\n",
      "user_id       61733 non-null object\n",
      "first_date    61733 non-null object\n",
      "region        61733 non-null object\n",
      "device        61733 non-null object\n",
      "dtypes: object(4)\n",
      "memory usage: 1.9+ MB\n"
     ]
    }
   ],
   "source": [
    "#new_users = pd.read_csv(\"E:/YP/VP/ID/AB/final_ab_new_users.csv\")\n",
    "new_users = pd.read_csv('/datasets/final_ab_new_users.csv') \n",
    "new_users.info()"
   ]
  },
  {
   "cell_type": "code",
   "execution_count": 13,
   "metadata": {},
   "outputs": [
    {
     "data": {
      "text/html": [
       "<div>\n",
       "<style scoped>\n",
       "    .dataframe tbody tr th:only-of-type {\n",
       "        vertical-align: middle;\n",
       "    }\n",
       "\n",
       "    .dataframe tbody tr th {\n",
       "        vertical-align: top;\n",
       "    }\n",
       "\n",
       "    .dataframe thead th {\n",
       "        text-align: right;\n",
       "    }\n",
       "</style>\n",
       "<table border=\"1\" class=\"dataframe\">\n",
       "  <thead>\n",
       "    <tr style=\"text-align: right;\">\n",
       "      <th></th>\n",
       "      <th>user_id</th>\n",
       "      <th>first_date</th>\n",
       "      <th>region</th>\n",
       "      <th>device</th>\n",
       "    </tr>\n",
       "  </thead>\n",
       "  <tbody>\n",
       "    <tr>\n",
       "      <td>0</td>\n",
       "      <td>D72A72121175D8BE</td>\n",
       "      <td>2020-12-07</td>\n",
       "      <td>EU</td>\n",
       "      <td>PC</td>\n",
       "    </tr>\n",
       "    <tr>\n",
       "      <td>1</td>\n",
       "      <td>F1C668619DFE6E65</td>\n",
       "      <td>2020-12-07</td>\n",
       "      <td>N.America</td>\n",
       "      <td>Android</td>\n",
       "    </tr>\n",
       "    <tr>\n",
       "      <td>2</td>\n",
       "      <td>2E1BF1D4C37EA01F</td>\n",
       "      <td>2020-12-07</td>\n",
       "      <td>EU</td>\n",
       "      <td>PC</td>\n",
       "    </tr>\n",
       "    <tr>\n",
       "      <td>3</td>\n",
       "      <td>50734A22C0C63768</td>\n",
       "      <td>2020-12-07</td>\n",
       "      <td>EU</td>\n",
       "      <td>iPhone</td>\n",
       "    </tr>\n",
       "    <tr>\n",
       "      <td>4</td>\n",
       "      <td>E1BDDCE0DAFA2679</td>\n",
       "      <td>2020-12-07</td>\n",
       "      <td>N.America</td>\n",
       "      <td>iPhone</td>\n",
       "    </tr>\n",
       "    <tr>\n",
       "      <td>...</td>\n",
       "      <td>...</td>\n",
       "      <td>...</td>\n",
       "      <td>...</td>\n",
       "      <td>...</td>\n",
       "    </tr>\n",
       "    <tr>\n",
       "      <td>61728</td>\n",
       "      <td>1DB53B933257165D</td>\n",
       "      <td>2020-12-20</td>\n",
       "      <td>EU</td>\n",
       "      <td>Android</td>\n",
       "    </tr>\n",
       "    <tr>\n",
       "      <td>61729</td>\n",
       "      <td>538643EB4527ED03</td>\n",
       "      <td>2020-12-20</td>\n",
       "      <td>EU</td>\n",
       "      <td>Mac</td>\n",
       "    </tr>\n",
       "    <tr>\n",
       "      <td>61730</td>\n",
       "      <td>7ADEE837D5D8CBBD</td>\n",
       "      <td>2020-12-20</td>\n",
       "      <td>EU</td>\n",
       "      <td>PC</td>\n",
       "    </tr>\n",
       "    <tr>\n",
       "      <td>61731</td>\n",
       "      <td>1C7D23927835213F</td>\n",
       "      <td>2020-12-20</td>\n",
       "      <td>EU</td>\n",
       "      <td>iPhone</td>\n",
       "    </tr>\n",
       "    <tr>\n",
       "      <td>61732</td>\n",
       "      <td>8F04273BB2860229</td>\n",
       "      <td>2020-12-20</td>\n",
       "      <td>EU</td>\n",
       "      <td>Android</td>\n",
       "    </tr>\n",
       "  </tbody>\n",
       "</table>\n",
       "<p>61733 rows × 4 columns</p>\n",
       "</div>"
      ],
      "text/plain": [
       "                user_id  first_date     region   device\n",
       "0      D72A72121175D8BE  2020-12-07         EU       PC\n",
       "1      F1C668619DFE6E65  2020-12-07  N.America  Android\n",
       "2      2E1BF1D4C37EA01F  2020-12-07         EU       PC\n",
       "3      50734A22C0C63768  2020-12-07         EU   iPhone\n",
       "4      E1BDDCE0DAFA2679  2020-12-07  N.America   iPhone\n",
       "...                 ...         ...        ...      ...\n",
       "61728  1DB53B933257165D  2020-12-20         EU  Android\n",
       "61729  538643EB4527ED03  2020-12-20         EU      Mac\n",
       "61730  7ADEE837D5D8CBBD  2020-12-20         EU       PC\n",
       "61731  1C7D23927835213F  2020-12-20         EU   iPhone\n",
       "61732  8F04273BB2860229  2020-12-20         EU  Android\n",
       "\n",
       "[61733 rows x 4 columns]"
      ]
     },
     "execution_count": 13,
     "metadata": {},
     "output_type": "execute_result"
    }
   ],
   "source": [
    "new_users"
   ]
  },
  {
   "cell_type": "code",
   "execution_count": 14,
   "metadata": {},
   "outputs": [
    {
     "data": {
      "text/plain": [
       "61733"
      ]
     },
     "execution_count": 14,
     "metadata": {},
     "output_type": "execute_result"
    }
   ],
   "source": [
    "new_users['user_id'].nunique()"
   ]
  },
  {
   "cell_type": "markdown",
   "metadata": {},
   "source": [
    "В наших данный 61733 новых уникальных пользователя"
   ]
  },
  {
   "cell_type": "code",
   "execution_count": 15,
   "metadata": {},
   "outputs": [
    {
     "data": {
      "text/html": [
       "<div>\n",
       "<style scoped>\n",
       "    .dataframe tbody tr th:only-of-type {\n",
       "        vertical-align: middle;\n",
       "    }\n",
       "\n",
       "    .dataframe tbody tr th {\n",
       "        vertical-align: top;\n",
       "    }\n",
       "\n",
       "    .dataframe thead tr th {\n",
       "        text-align: left;\n",
       "    }\n",
       "</style>\n",
       "<table border=\"1\" class=\"dataframe\">\n",
       "  <thead>\n",
       "    <tr>\n",
       "      <th></th>\n",
       "      <th>region</th>\n",
       "      <th>user_id</th>\n",
       "    </tr>\n",
       "    <tr>\n",
       "      <th></th>\n",
       "      <th></th>\n",
       "      <th>count</th>\n",
       "    </tr>\n",
       "  </thead>\n",
       "  <tbody>\n",
       "    <tr>\n",
       "      <td>0</td>\n",
       "      <td>APAC</td>\n",
       "      <td>3153</td>\n",
       "    </tr>\n",
       "    <tr>\n",
       "      <td>1</td>\n",
       "      <td>CIS</td>\n",
       "      <td>3155</td>\n",
       "    </tr>\n",
       "    <tr>\n",
       "      <td>2</td>\n",
       "      <td>EU</td>\n",
       "      <td>46270</td>\n",
       "    </tr>\n",
       "    <tr>\n",
       "      <td>3</td>\n",
       "      <td>N.America</td>\n",
       "      <td>9155</td>\n",
       "    </tr>\n",
       "  </tbody>\n",
       "</table>\n",
       "</div>"
      ],
      "text/plain": [
       "      region user_id\n",
       "               count\n",
       "0       APAC    3153\n",
       "1        CIS    3155\n",
       "2         EU   46270\n",
       "3  N.America    9155"
      ]
     },
     "execution_count": 15,
     "metadata": {},
     "output_type": "execute_result"
    }
   ],
   "source": [
    "region_group = new_users.groupby(['region']).agg({'user_id': ['count']}).reset_index()\n",
    "region_group"
   ]
  },
  {
   "cell_type": "markdown",
   "metadata": {},
   "source": [
    "Большую часть пользователей составляют из региона EU, далее идут пользователи из N.America и малую долю занимают APAC и CIS"
   ]
  },
  {
   "cell_type": "markdown",
   "metadata": {},
   "source": [
    "Подработаем тип времени"
   ]
  },
  {
   "cell_type": "code",
   "execution_count": 16,
   "metadata": {},
   "outputs": [
    {
     "data": {
      "text/html": [
       "<div>\n",
       "<style scoped>\n",
       "    .dataframe tbody tr th:only-of-type {\n",
       "        vertical-align: middle;\n",
       "    }\n",
       "\n",
       "    .dataframe tbody tr th {\n",
       "        vertical-align: top;\n",
       "    }\n",
       "\n",
       "    .dataframe thead th {\n",
       "        text-align: right;\n",
       "    }\n",
       "</style>\n",
       "<table border=\"1\" class=\"dataframe\">\n",
       "  <thead>\n",
       "    <tr style=\"text-align: right;\">\n",
       "      <th></th>\n",
       "      <th>user_id</th>\n",
       "      <th>first_date</th>\n",
       "      <th>region</th>\n",
       "      <th>device</th>\n",
       "    </tr>\n",
       "  </thead>\n",
       "  <tbody>\n",
       "    <tr>\n",
       "      <td>0</td>\n",
       "      <td>D72A72121175D8BE</td>\n",
       "      <td>2020-12-07</td>\n",
       "      <td>EU</td>\n",
       "      <td>PC</td>\n",
       "    </tr>\n",
       "    <tr>\n",
       "      <td>1</td>\n",
       "      <td>F1C668619DFE6E65</td>\n",
       "      <td>2020-12-07</td>\n",
       "      <td>N.America</td>\n",
       "      <td>Android</td>\n",
       "    </tr>\n",
       "    <tr>\n",
       "      <td>2</td>\n",
       "      <td>2E1BF1D4C37EA01F</td>\n",
       "      <td>2020-12-07</td>\n",
       "      <td>EU</td>\n",
       "      <td>PC</td>\n",
       "    </tr>\n",
       "    <tr>\n",
       "      <td>3</td>\n",
       "      <td>50734A22C0C63768</td>\n",
       "      <td>2020-12-07</td>\n",
       "      <td>EU</td>\n",
       "      <td>iPhone</td>\n",
       "    </tr>\n",
       "    <tr>\n",
       "      <td>4</td>\n",
       "      <td>E1BDDCE0DAFA2679</td>\n",
       "      <td>2020-12-07</td>\n",
       "      <td>N.America</td>\n",
       "      <td>iPhone</td>\n",
       "    </tr>\n",
       "    <tr>\n",
       "      <td>...</td>\n",
       "      <td>...</td>\n",
       "      <td>...</td>\n",
       "      <td>...</td>\n",
       "      <td>...</td>\n",
       "    </tr>\n",
       "    <tr>\n",
       "      <td>61728</td>\n",
       "      <td>1DB53B933257165D</td>\n",
       "      <td>2020-12-20</td>\n",
       "      <td>EU</td>\n",
       "      <td>Android</td>\n",
       "    </tr>\n",
       "    <tr>\n",
       "      <td>61729</td>\n",
       "      <td>538643EB4527ED03</td>\n",
       "      <td>2020-12-20</td>\n",
       "      <td>EU</td>\n",
       "      <td>Mac</td>\n",
       "    </tr>\n",
       "    <tr>\n",
       "      <td>61730</td>\n",
       "      <td>7ADEE837D5D8CBBD</td>\n",
       "      <td>2020-12-20</td>\n",
       "      <td>EU</td>\n",
       "      <td>PC</td>\n",
       "    </tr>\n",
       "    <tr>\n",
       "      <td>61731</td>\n",
       "      <td>1C7D23927835213F</td>\n",
       "      <td>2020-12-20</td>\n",
       "      <td>EU</td>\n",
       "      <td>iPhone</td>\n",
       "    </tr>\n",
       "    <tr>\n",
       "      <td>61732</td>\n",
       "      <td>8F04273BB2860229</td>\n",
       "      <td>2020-12-20</td>\n",
       "      <td>EU</td>\n",
       "      <td>Android</td>\n",
       "    </tr>\n",
       "  </tbody>\n",
       "</table>\n",
       "<p>61733 rows × 4 columns</p>\n",
       "</div>"
      ],
      "text/plain": [
       "                user_id first_date     region   device\n",
       "0      D72A72121175D8BE 2020-12-07         EU       PC\n",
       "1      F1C668619DFE6E65 2020-12-07  N.America  Android\n",
       "2      2E1BF1D4C37EA01F 2020-12-07         EU       PC\n",
       "3      50734A22C0C63768 2020-12-07         EU   iPhone\n",
       "4      E1BDDCE0DAFA2679 2020-12-07  N.America   iPhone\n",
       "...                 ...        ...        ...      ...\n",
       "61728  1DB53B933257165D 2020-12-20         EU  Android\n",
       "61729  538643EB4527ED03 2020-12-20         EU      Mac\n",
       "61730  7ADEE837D5D8CBBD 2020-12-20         EU       PC\n",
       "61731  1C7D23927835213F 2020-12-20         EU   iPhone\n",
       "61732  8F04273BB2860229 2020-12-20         EU  Android\n",
       "\n",
       "[61733 rows x 4 columns]"
      ]
     },
     "execution_count": 16,
     "metadata": {},
     "output_type": "execute_result"
    }
   ],
   "source": [
    "new_users['first_date'] = pd.to_datetime(new_users['first_date'])\n",
    "new_users"
   ]
  },
  {
   "cell_type": "code",
   "execution_count": 17,
   "metadata": {},
   "outputs": [
    {
     "data": {
      "text/plain": [
       "count                   61733\n",
       "unique                     17\n",
       "top       2020-12-21 00:00:00\n",
       "freq                     6290\n",
       "first     2020-12-07 00:00:00\n",
       "last      2020-12-23 00:00:00\n",
       "Name: first_date, dtype: object"
      ]
     },
     "execution_count": 17,
     "metadata": {},
     "output_type": "execute_result"
    }
   ],
   "source": [
    "new_users['first_date'].describe()"
   ]
  },
  {
   "cell_type": "markdown",
   "metadata": {},
   "source": [
    "Наши данные начинаются с 07 декабря 2020 года и заканчикаются 23 декабрем 2020 года"
   ]
  },
  {
   "cell_type": "markdown",
   "metadata": {},
   "source": [
    "Подработаем тип времени"
   ]
  },
  {
   "cell_type": "code",
   "execution_count": 18,
   "metadata": {},
   "outputs": [],
   "source": [
    "new_users['first_date'] = pd.to_datetime(new_users['first_date'])"
   ]
  },
  {
   "cell_type": "markdown",
   "metadata": {},
   "source": [
    "Добавим день совершения события"
   ]
  },
  {
   "cell_type": "code",
   "execution_count": 19,
   "metadata": {},
   "outputs": [],
   "source": [
    "new_users['day'] = new_users['first_date'].dt.day"
   ]
  },
  {
   "cell_type": "code",
   "execution_count": 20,
   "metadata": {},
   "outputs": [
    {
     "data": {
      "text/plain": [
       "0"
      ]
     },
     "execution_count": 20,
     "metadata": {},
     "output_type": "execute_result"
    }
   ],
   "source": [
    "new_users.duplicated().sum()"
   ]
  },
  {
   "cell_type": "markdown",
   "metadata": {},
   "source": [
    "**final_ab_participants**"
   ]
  },
  {
   "cell_type": "code",
   "execution_count": 21,
   "metadata": {},
   "outputs": [
    {
     "name": "stdout",
     "output_type": "stream",
     "text": [
      "<class 'pandas.core.frame.DataFrame'>\n",
      "RangeIndex: 18268 entries, 0 to 18267\n",
      "Data columns (total 3 columns):\n",
      "user_id    18268 non-null object\n",
      "group      18268 non-null object\n",
      "ab_test    18268 non-null object\n",
      "dtypes: object(3)\n",
      "memory usage: 428.3+ KB\n"
     ]
    }
   ],
   "source": [
    "#participants = pd.read_csv(\"E:/YP/VP/ID/AB/final_ab_participants.csv\")\n",
    "participants = pd.read_csv('/datasets/final_ab_participants.csv') \n",
    "participants.info()"
   ]
  },
  {
   "cell_type": "code",
   "execution_count": 22,
   "metadata": {},
   "outputs": [
    {
     "data": {
      "text/html": [
       "<div>\n",
       "<style scoped>\n",
       "    .dataframe tbody tr th:only-of-type {\n",
       "        vertical-align: middle;\n",
       "    }\n",
       "\n",
       "    .dataframe tbody tr th {\n",
       "        vertical-align: top;\n",
       "    }\n",
       "\n",
       "    .dataframe thead th {\n",
       "        text-align: right;\n",
       "    }\n",
       "</style>\n",
       "<table border=\"1\" class=\"dataframe\">\n",
       "  <thead>\n",
       "    <tr style=\"text-align: right;\">\n",
       "      <th></th>\n",
       "      <th>user_id</th>\n",
       "      <th>group</th>\n",
       "      <th>ab_test</th>\n",
       "    </tr>\n",
       "  </thead>\n",
       "  <tbody>\n",
       "    <tr>\n",
       "      <td>0</td>\n",
       "      <td>D1ABA3E2887B6A73</td>\n",
       "      <td>A</td>\n",
       "      <td>recommender_system_test</td>\n",
       "    </tr>\n",
       "    <tr>\n",
       "      <td>1</td>\n",
       "      <td>A7A3664BD6242119</td>\n",
       "      <td>A</td>\n",
       "      <td>recommender_system_test</td>\n",
       "    </tr>\n",
       "    <tr>\n",
       "      <td>2</td>\n",
       "      <td>DABC14FDDFADD29E</td>\n",
       "      <td>A</td>\n",
       "      <td>recommender_system_test</td>\n",
       "    </tr>\n",
       "    <tr>\n",
       "      <td>3</td>\n",
       "      <td>04988C5DF189632E</td>\n",
       "      <td>A</td>\n",
       "      <td>recommender_system_test</td>\n",
       "    </tr>\n",
       "    <tr>\n",
       "      <td>4</td>\n",
       "      <td>482F14783456D21B</td>\n",
       "      <td>B</td>\n",
       "      <td>recommender_system_test</td>\n",
       "    </tr>\n",
       "    <tr>\n",
       "      <td>...</td>\n",
       "      <td>...</td>\n",
       "      <td>...</td>\n",
       "      <td>...</td>\n",
       "    </tr>\n",
       "    <tr>\n",
       "      <td>18263</td>\n",
       "      <td>1D302F8688B91781</td>\n",
       "      <td>B</td>\n",
       "      <td>interface_eu_test</td>\n",
       "    </tr>\n",
       "    <tr>\n",
       "      <td>18264</td>\n",
       "      <td>3DE51B726983B657</td>\n",
       "      <td>A</td>\n",
       "      <td>interface_eu_test</td>\n",
       "    </tr>\n",
       "    <tr>\n",
       "      <td>18265</td>\n",
       "      <td>F501F79D332BE86C</td>\n",
       "      <td>A</td>\n",
       "      <td>interface_eu_test</td>\n",
       "    </tr>\n",
       "    <tr>\n",
       "      <td>18266</td>\n",
       "      <td>63FBE257B05F2245</td>\n",
       "      <td>A</td>\n",
       "      <td>interface_eu_test</td>\n",
       "    </tr>\n",
       "    <tr>\n",
       "      <td>18267</td>\n",
       "      <td>79F9ABFB029CF724</td>\n",
       "      <td>B</td>\n",
       "      <td>interface_eu_test</td>\n",
       "    </tr>\n",
       "  </tbody>\n",
       "</table>\n",
       "<p>18268 rows × 3 columns</p>\n",
       "</div>"
      ],
      "text/plain": [
       "                user_id group                  ab_test\n",
       "0      D1ABA3E2887B6A73     A  recommender_system_test\n",
       "1      A7A3664BD6242119     A  recommender_system_test\n",
       "2      DABC14FDDFADD29E     A  recommender_system_test\n",
       "3      04988C5DF189632E     A  recommender_system_test\n",
       "4      482F14783456D21B     B  recommender_system_test\n",
       "...                 ...   ...                      ...\n",
       "18263  1D302F8688B91781     B        interface_eu_test\n",
       "18264  3DE51B726983B657     A        interface_eu_test\n",
       "18265  F501F79D332BE86C     A        interface_eu_test\n",
       "18266  63FBE257B05F2245     A        interface_eu_test\n",
       "18267  79F9ABFB029CF724     B        interface_eu_test\n",
       "\n",
       "[18268 rows x 3 columns]"
      ]
     },
     "execution_count": 22,
     "metadata": {},
     "output_type": "execute_result"
    }
   ],
   "source": [
    "participants"
   ]
  },
  {
   "cell_type": "code",
   "execution_count": 23,
   "metadata": {},
   "outputs": [
    {
     "data": {
      "text/plain": [
       "array(['recommender_system_test', 'interface_eu_test'], dtype=object)"
      ]
     },
     "execution_count": 23,
     "metadata": {},
     "output_type": "execute_result"
    }
   ],
   "source": [
    "participants['ab_test'].unique()"
   ]
  },
  {
   "cell_type": "markdown",
   "metadata": {},
   "source": [
    "По мимо нашего АВ-теста recommender_system_test параллельно проводится еще один тест interface_eu_test"
   ]
  },
  {
   "cell_type": "code",
   "execution_count": 24,
   "metadata": {},
   "outputs": [],
   "source": [
    "participants_system_test = participants.query('ab_test == \"recommender_system_test\"')"
   ]
  },
  {
   "cell_type": "code",
   "execution_count": 25,
   "metadata": {},
   "outputs": [
    {
     "data": {
      "text/plain": [
       "6701"
      ]
     },
     "execution_count": 25,
     "metadata": {},
     "output_type": "execute_result"
    }
   ],
   "source": [
    "participants_system_test['user_id'].nunique()"
   ]
  },
  {
   "cell_type": "markdown",
   "metadata": {},
   "source": [
    "Число уникальных пользователей АВ-теста recommender_system_test составляет 6701 человек"
   ]
  },
  {
   "cell_type": "code",
   "execution_count": 26,
   "metadata": {},
   "outputs": [
    {
     "data": {
      "text/html": [
       "<div>\n",
       "<style scoped>\n",
       "    .dataframe tbody tr th:only-of-type {\n",
       "        vertical-align: middle;\n",
       "    }\n",
       "\n",
       "    .dataframe tbody tr th {\n",
       "        vertical-align: top;\n",
       "    }\n",
       "\n",
       "    .dataframe thead th {\n",
       "        text-align: right;\n",
       "    }\n",
       "</style>\n",
       "<table border=\"1\" class=\"dataframe\">\n",
       "  <thead>\n",
       "    <tr style=\"text-align: right;\">\n",
       "      <th></th>\n",
       "      <th>user_id</th>\n",
       "    </tr>\n",
       "    <tr>\n",
       "      <th>group</th>\n",
       "      <th></th>\n",
       "    </tr>\n",
       "  </thead>\n",
       "  <tbody>\n",
       "    <tr>\n",
       "      <td>A</td>\n",
       "      <td>3824</td>\n",
       "    </tr>\n",
       "    <tr>\n",
       "      <td>B</td>\n",
       "      <td>2877</td>\n",
       "    </tr>\n",
       "  </tbody>\n",
       "</table>\n",
       "</div>"
      ],
      "text/plain": [
       "       user_id\n",
       "group         \n",
       "A         3824\n",
       "B         2877"
      ]
     },
     "execution_count": 26,
     "metadata": {},
     "output_type": "execute_result"
    }
   ],
   "source": [
    "participants_system_test_group = participants_system_test.pivot_table(index=\"group\", values=\"user_id\", aggfunc = 'count')\n",
    "participants_system_test_group"
   ]
  },
  {
   "cell_type": "markdown",
   "metadata": {},
   "source": [
    "В группе А немного больше пользователей, чем в группе В"
   ]
  },
  {
   "cell_type": "code",
   "execution_count": 27,
   "metadata": {},
   "outputs": [
    {
     "data": {
      "text/plain": [
       "0"
      ]
     },
     "execution_count": 27,
     "metadata": {},
     "output_type": "execute_result"
    }
   ],
   "source": [
    "participants.duplicated().sum()"
   ]
  },
  {
   "cell_type": "markdown",
   "metadata": {},
   "source": [
    "<div class=\"alert alert-success\">\n",
    "<b>Шаг 1. Вывод:</b>\n",
    "\n",
    "Данные представляют 4 датасета:\n",
    "\n",
    "-`ab_project_marketing_events` - календарь маркетинговых событий на 2020 год:\n",
    "\n",
    "    Мы обладаем календарем событий в различных регионах за 2020 год. Всего в календаре 14 событий.\n",
    "    \n",
    "-`final_ab_new_users` - все пользователи, зарегистрировавшиеся в интернет-магазине в период с 7 по 21 декабря 2020 года:\n",
    "\n",
    "    В данных 61733 новых уникальных пользователя, большую часть которых составляют из региона EU, далее идут пользователи из N.America и малую долю занимают APAC и CIS, которые зарегестрировались с 07 декабря 2020 года по 23 декабрем 2020 года    \n",
    "\n",
    "-`final_ab_events` - все события новых пользователей в период с 7 декабря 2020 по 4 января 2021 года:\n",
    "\n",
    "    У нас 4 типа события:\n",
    "        - login - посещение страницы регистрации;\n",
    "        - product_page - посещение страницы с продуктом;\n",
    "        - product_cart - просмотр корзины;\n",
    "        - purchase - посещение страницы с оплатой.\n",
    "    В данных 58703 новых уникальных пользователя, которые совершили события с 07 декабря 2020 года по 30 декабрем 2020 года\n",
    "\n",
    "-`final_ab_participants` - таблица участников тестов:\n",
    "    \n",
    "    По мимо нашего АВ-теста recommender_system_test параллельно проводится еще один тест interface_eu_test. \n",
    "    Число уникальных пользователей АВ-теста recommender_system_test составляет 6701 человек.    \n",
    "    В группе А немного больше пользователей, чем в группе В  \n",
    "    \n",
    "Дубликаты в данных отсутствуют\n",
    "    \n",
    "</div>"
   ]
  },
  {
   "cell_type": "markdown",
   "metadata": {},
   "source": [
    "# Шаг 2.  Изучим данные приведем их в соответствие с ТЗ"
   ]
  },
  {
   "cell_type": "markdown",
   "metadata": {},
   "source": [
    "**Дата запуска: 2020-12-07**\n",
    "\n",
    "**Дата остановки набора новых пользователей: 2020-12-21**\n",
    "\n",
    "**Дата остановки: 2021-01-04**"
   ]
  },
  {
   "cell_type": "markdown",
   "metadata": {},
   "source": [
    "Дата остановки набора новых пользователей составляет 21 декабря 2020 года, наши данные представлены с набором новых пользователей до 23 декабрем 2020 года. Отбросим даты не входящие в ТЗ"
   ]
  },
  {
   "cell_type": "code",
   "execution_count": 28,
   "metadata": {},
   "outputs": [
    {
     "data": {
      "text/html": [
       "<div>\n",
       "<style scoped>\n",
       "    .dataframe tbody tr th:only-of-type {\n",
       "        vertical-align: middle;\n",
       "    }\n",
       "\n",
       "    .dataframe tbody tr th {\n",
       "        vertical-align: top;\n",
       "    }\n",
       "\n",
       "    .dataframe thead th {\n",
       "        text-align: right;\n",
       "    }\n",
       "</style>\n",
       "<table border=\"1\" class=\"dataframe\">\n",
       "  <thead>\n",
       "    <tr style=\"text-align: right;\">\n",
       "      <th></th>\n",
       "      <th>user_id</th>\n",
       "      <th>first_date</th>\n",
       "      <th>region</th>\n",
       "      <th>device</th>\n",
       "      <th>day</th>\n",
       "    </tr>\n",
       "  </thead>\n",
       "  <tbody>\n",
       "    <tr>\n",
       "      <td>0</td>\n",
       "      <td>D72A72121175D8BE</td>\n",
       "      <td>2020-12-07</td>\n",
       "      <td>EU</td>\n",
       "      <td>PC</td>\n",
       "      <td>7</td>\n",
       "    </tr>\n",
       "    <tr>\n",
       "      <td>1</td>\n",
       "      <td>F1C668619DFE6E65</td>\n",
       "      <td>2020-12-07</td>\n",
       "      <td>N.America</td>\n",
       "      <td>Android</td>\n",
       "      <td>7</td>\n",
       "    </tr>\n",
       "    <tr>\n",
       "      <td>2</td>\n",
       "      <td>2E1BF1D4C37EA01F</td>\n",
       "      <td>2020-12-07</td>\n",
       "      <td>EU</td>\n",
       "      <td>PC</td>\n",
       "      <td>7</td>\n",
       "    </tr>\n",
       "    <tr>\n",
       "      <td>3</td>\n",
       "      <td>50734A22C0C63768</td>\n",
       "      <td>2020-12-07</td>\n",
       "      <td>EU</td>\n",
       "      <td>iPhone</td>\n",
       "      <td>7</td>\n",
       "    </tr>\n",
       "    <tr>\n",
       "      <td>4</td>\n",
       "      <td>E1BDDCE0DAFA2679</td>\n",
       "      <td>2020-12-07</td>\n",
       "      <td>N.America</td>\n",
       "      <td>iPhone</td>\n",
       "      <td>7</td>\n",
       "    </tr>\n",
       "    <tr>\n",
       "      <td>...</td>\n",
       "      <td>...</td>\n",
       "      <td>...</td>\n",
       "      <td>...</td>\n",
       "      <td>...</td>\n",
       "      <td>...</td>\n",
       "    </tr>\n",
       "    <tr>\n",
       "      <td>61728</td>\n",
       "      <td>1DB53B933257165D</td>\n",
       "      <td>2020-12-20</td>\n",
       "      <td>EU</td>\n",
       "      <td>Android</td>\n",
       "      <td>20</td>\n",
       "    </tr>\n",
       "    <tr>\n",
       "      <td>61729</td>\n",
       "      <td>538643EB4527ED03</td>\n",
       "      <td>2020-12-20</td>\n",
       "      <td>EU</td>\n",
       "      <td>Mac</td>\n",
       "      <td>20</td>\n",
       "    </tr>\n",
       "    <tr>\n",
       "      <td>61730</td>\n",
       "      <td>7ADEE837D5D8CBBD</td>\n",
       "      <td>2020-12-20</td>\n",
       "      <td>EU</td>\n",
       "      <td>PC</td>\n",
       "      <td>20</td>\n",
       "    </tr>\n",
       "    <tr>\n",
       "      <td>61731</td>\n",
       "      <td>1C7D23927835213F</td>\n",
       "      <td>2020-12-20</td>\n",
       "      <td>EU</td>\n",
       "      <td>iPhone</td>\n",
       "      <td>20</td>\n",
       "    </tr>\n",
       "    <tr>\n",
       "      <td>61732</td>\n",
       "      <td>8F04273BB2860229</td>\n",
       "      <td>2020-12-20</td>\n",
       "      <td>EU</td>\n",
       "      <td>Android</td>\n",
       "      <td>20</td>\n",
       "    </tr>\n",
       "  </tbody>\n",
       "</table>\n",
       "<p>56470 rows × 5 columns</p>\n",
       "</div>"
      ],
      "text/plain": [
       "                user_id first_date     region   device  day\n",
       "0      D72A72121175D8BE 2020-12-07         EU       PC    7\n",
       "1      F1C668619DFE6E65 2020-12-07  N.America  Android    7\n",
       "2      2E1BF1D4C37EA01F 2020-12-07         EU       PC    7\n",
       "3      50734A22C0C63768 2020-12-07         EU   iPhone    7\n",
       "4      E1BDDCE0DAFA2679 2020-12-07  N.America   iPhone    7\n",
       "...                 ...        ...        ...      ...  ...\n",
       "61728  1DB53B933257165D 2020-12-20         EU  Android   20\n",
       "61729  538643EB4527ED03 2020-12-20         EU      Mac   20\n",
       "61730  7ADEE837D5D8CBBD 2020-12-20         EU       PC   20\n",
       "61731  1C7D23927835213F 2020-12-20         EU   iPhone   20\n",
       "61732  8F04273BB2860229 2020-12-20         EU  Android   20\n",
       "\n",
       "[56470 rows x 5 columns]"
      ]
     },
     "execution_count": 28,
     "metadata": {},
     "output_type": "execute_result"
    }
   ],
   "source": [
    "new_users_df = new_users.query('day <= 21')\n",
    "new_users_df"
   ]
  },
  {
   "cell_type": "markdown",
   "metadata": {},
   "source": [
    "Посмотрим на поведенческую активность за наш период"
   ]
  },
  {
   "cell_type": "code",
   "execution_count": 29,
   "metadata": {},
   "outputs": [
    {
     "data": {
      "image/png": "[encoded data removed]",
      "text/plain": [
       "<Figure size 1152x576 with 1 Axes>"
      ]
     },
     "metadata": {
      "needs_background": "light"
     },
     "output_type": "display_data"
    }
   ],
   "source": [
    "ab_events_groupby = ab_events.groupby(['date']).agg({'event_name': 'count'}).reset_index() \n",
    "ab_events_groupby.plot(y='event_name', x='date', grid=True, figsize=(16, 8))\n",
    "plt.title('Число событий в день')\n",
    "plt.xlabel('Дата событий')\n",
    "plt.ylabel('Число событий');"
   ]
  },
  {
   "cell_type": "markdown",
   "metadata": {},
   "source": [
    "Дата остановки теста определена как 04 января, по данным совершения события новых пользователей, последняя дата события составляет 30 декаабря. Это скорее всего связано с тем, что в регионе EU начинаются рождественские каникулы, все магазины закрываются, а покупки совершаются заранее. Так мы видим увеличение числа событий в период с 10 по 20-е декабря и потом с 20-го декабря уменьшение активности до минимальных значений. Данное событие скорее всего сильно окажет влияние на наш тест"
   ]
  },
  {
   "cell_type": "markdown",
   "metadata": {},
   "source": [
    "**Пересечение тестовой аудитории с конкурирующим тестом**"
   ]
  },
  {
   "cell_type": "code",
   "execution_count": 30,
   "metadata": {},
   "outputs": [
    {
     "data": {
      "text/plain": [
       "16666"
      ]
     },
     "execution_count": 30,
     "metadata": {},
     "output_type": "execute_result"
    }
   ],
   "source": [
    "participants['user_id'].nunique()"
   ]
  },
  {
   "cell_type": "markdown",
   "metadata": {},
   "source": [
    "Мы имеем 16666 уникальных пользователя по обоим тестам"
   ]
  },
  {
   "cell_type": "code",
   "execution_count": 31,
   "metadata": {},
   "outputs": [
    {
     "data": {
      "text/plain": [
       "6701"
      ]
     },
     "execution_count": 31,
     "metadata": {},
     "output_type": "execute_result"
    }
   ],
   "source": [
    "participants_system_test['user_id'].nunique()"
   ]
  },
  {
   "cell_type": "code",
   "execution_count": 32,
   "metadata": {},
   "outputs": [
    {
     "data": {
      "text/plain": [
       "11567"
      ]
     },
     "execution_count": 32,
     "metadata": {},
     "output_type": "execute_result"
    }
   ],
   "source": [
    "participants_interface_eu_test = participants.query('ab_test == \"interface_eu_test\"')\n",
    "participants_interface_eu_test['user_id'].nunique()"
   ]
  },
  {
   "cell_type": "markdown",
   "metadata": {},
   "source": [
    "Число уникальных пользователей теста 'interface_eu_test' составляет 11567 человек.\n",
    "\n",
    "Число уникальных пользователей теста 'recommender_system_test' составляет 6701 человек."
   ]
  },
  {
   "cell_type": "code",
   "execution_count": 33,
   "metadata": {},
   "outputs": [
    {
     "data": {
      "text/plain": [
       "1602"
      ]
     },
     "execution_count": 33,
     "metadata": {},
     "output_type": "execute_result"
    }
   ],
   "source": [
    "(participants_interface_eu_test['user_id'].nunique() + participants_system_test['user_id'].nunique()\n",
    " - participants['user_id'].nunique())"
   ]
  },
  {
   "cell_type": "markdown",
   "metadata": {},
   "source": [
    "Пересечение аудитории 2-х тестов составляет 1602 человека. Второй тест более глобальный и может оказывать больше влияние на поведение пользователей. Но мы не можем убрать данных пересекающихся пользователей, поскольку не выполним пунк ТЗ о количестве участников в 6000. Оставляем уникальных пользователей теста 'interface_eu_test' без изменений"
   ]
  },
  {
   "cell_type": "markdown",
   "metadata": {},
   "source": [
    "**Совпадение теста и маркетинговых событий, другие проблемы временных границ теста**"
   ]
  },
  {
   "cell_type": "markdown",
   "metadata": {},
   "source": [
    "Наш тест попадает под событие 'Christmas&New Year Promo' проходящий в EU и N.America с 25 декабря по 03 января, что будет влиять на его результаты.\n",
    "\n",
    "Также наш тест попадает под событие 'CIS New Year Gift Lottery' проходящий в CIS с 30 декабря по 07 января, поскольку данное событие проходит в другом регионе, влиять на результаты оно не сможет."
   ]
  },
  {
   "cell_type": "markdown",
   "metadata": {},
   "source": [
    "**Аудитория: 15% новых пользователей из региона EU**"
   ]
  },
  {
   "cell_type": "markdown",
   "metadata": {},
   "source": [
    "Объединим таблицы с пользователями АВ-теста и пользователями, зарегистрировавшимися в интернет-магазине в период с 7 по 21 декабря 2020 года"
   ]
  },
  {
   "cell_type": "code",
   "execution_count": 34,
   "metadata": {},
   "outputs": [
    {
     "data": {
      "text/html": [
       "<div>\n",
       "<style scoped>\n",
       "    .dataframe tbody tr th:only-of-type {\n",
       "        vertical-align: middle;\n",
       "    }\n",
       "\n",
       "    .dataframe tbody tr th {\n",
       "        vertical-align: top;\n",
       "    }\n",
       "\n",
       "    .dataframe thead th {\n",
       "        text-align: right;\n",
       "    }\n",
       "</style>\n",
       "<table border=\"1\" class=\"dataframe\">\n",
       "  <thead>\n",
       "    <tr style=\"text-align: right;\">\n",
       "      <th></th>\n",
       "      <th>user_id</th>\n",
       "      <th>group</th>\n",
       "      <th>ab_test</th>\n",
       "      <th>first_date</th>\n",
       "      <th>region</th>\n",
       "      <th>device</th>\n",
       "      <th>day</th>\n",
       "    </tr>\n",
       "  </thead>\n",
       "  <tbody>\n",
       "    <tr>\n",
       "      <td>0</td>\n",
       "      <td>D1ABA3E2887B6A73</td>\n",
       "      <td>A</td>\n",
       "      <td>recommender_system_test</td>\n",
       "      <td>2020-12-07</td>\n",
       "      <td>EU</td>\n",
       "      <td>PC</td>\n",
       "      <td>7</td>\n",
       "    </tr>\n",
       "    <tr>\n",
       "      <td>1</td>\n",
       "      <td>A7A3664BD6242119</td>\n",
       "      <td>A</td>\n",
       "      <td>recommender_system_test</td>\n",
       "      <td>2020-12-20</td>\n",
       "      <td>EU</td>\n",
       "      <td>iPhone</td>\n",
       "      <td>20</td>\n",
       "    </tr>\n",
       "    <tr>\n",
       "      <td>2</td>\n",
       "      <td>DABC14FDDFADD29E</td>\n",
       "      <td>A</td>\n",
       "      <td>recommender_system_test</td>\n",
       "      <td>2020-12-08</td>\n",
       "      <td>EU</td>\n",
       "      <td>Mac</td>\n",
       "      <td>8</td>\n",
       "    </tr>\n",
       "    <tr>\n",
       "      <td>3</td>\n",
       "      <td>04988C5DF189632E</td>\n",
       "      <td>A</td>\n",
       "      <td>recommender_system_test</td>\n",
       "      <td>2020-12-14</td>\n",
       "      <td>EU</td>\n",
       "      <td>iPhone</td>\n",
       "      <td>14</td>\n",
       "    </tr>\n",
       "    <tr>\n",
       "      <td>4</td>\n",
       "      <td>482F14783456D21B</td>\n",
       "      <td>B</td>\n",
       "      <td>recommender_system_test</td>\n",
       "      <td>2020-12-14</td>\n",
       "      <td>EU</td>\n",
       "      <td>PC</td>\n",
       "      <td>14</td>\n",
       "    </tr>\n",
       "    <tr>\n",
       "      <td>...</td>\n",
       "      <td>...</td>\n",
       "      <td>...</td>\n",
       "      <td>...</td>\n",
       "      <td>...</td>\n",
       "      <td>...</td>\n",
       "      <td>...</td>\n",
       "      <td>...</td>\n",
       "    </tr>\n",
       "    <tr>\n",
       "      <td>6696</td>\n",
       "      <td>053FB26D6D49EDDC</td>\n",
       "      <td>A</td>\n",
       "      <td>recommender_system_test</td>\n",
       "      <td>2020-12-10</td>\n",
       "      <td>N.America</td>\n",
       "      <td>Android</td>\n",
       "      <td>10</td>\n",
       "    </tr>\n",
       "    <tr>\n",
       "      <td>6697</td>\n",
       "      <td>9D263B8EF15CF188</td>\n",
       "      <td>B</td>\n",
       "      <td>recommender_system_test</td>\n",
       "      <td>2020-12-16</td>\n",
       "      <td>N.America</td>\n",
       "      <td>Mac</td>\n",
       "      <td>16</td>\n",
       "    </tr>\n",
       "    <tr>\n",
       "      <td>6698</td>\n",
       "      <td>F2FBBA33F37DEC46</td>\n",
       "      <td>A</td>\n",
       "      <td>recommender_system_test</td>\n",
       "      <td>2020-12-18</td>\n",
       "      <td>APAC</td>\n",
       "      <td>Mac</td>\n",
       "      <td>18</td>\n",
       "    </tr>\n",
       "    <tr>\n",
       "      <td>6699</td>\n",
       "      <td>29C92313A98B1176</td>\n",
       "      <td>B</td>\n",
       "      <td>recommender_system_test</td>\n",
       "      <td>2020-12-07</td>\n",
       "      <td>APAC</td>\n",
       "      <td>Android</td>\n",
       "      <td>7</td>\n",
       "    </tr>\n",
       "    <tr>\n",
       "      <td>6700</td>\n",
       "      <td>6715343AFBA285AE</td>\n",
       "      <td>B</td>\n",
       "      <td>recommender_system_test</td>\n",
       "      <td>2020-12-07</td>\n",
       "      <td>CIS</td>\n",
       "      <td>Android</td>\n",
       "      <td>7</td>\n",
       "    </tr>\n",
       "  </tbody>\n",
       "</table>\n",
       "<p>6701 rows × 7 columns</p>\n",
       "</div>"
      ],
      "text/plain": [
       "               user_id group                  ab_test first_date     region  \\\n",
       "0     D1ABA3E2887B6A73     A  recommender_system_test 2020-12-07         EU   \n",
       "1     A7A3664BD6242119     A  recommender_system_test 2020-12-20         EU   \n",
       "2     DABC14FDDFADD29E     A  recommender_system_test 2020-12-08         EU   \n",
       "3     04988C5DF189632E     A  recommender_system_test 2020-12-14         EU   \n",
       "4     482F14783456D21B     B  recommender_system_test 2020-12-14         EU   \n",
       "...                ...   ...                      ...        ...        ...   \n",
       "6696  053FB26D6D49EDDC     A  recommender_system_test 2020-12-10  N.America   \n",
       "6697  9D263B8EF15CF188     B  recommender_system_test 2020-12-16  N.America   \n",
       "6698  F2FBBA33F37DEC46     A  recommender_system_test 2020-12-18       APAC   \n",
       "6699  29C92313A98B1176     B  recommender_system_test 2020-12-07       APAC   \n",
       "6700  6715343AFBA285AE     B  recommender_system_test 2020-12-07        CIS   \n",
       "\n",
       "       device  day  \n",
       "0          PC    7  \n",
       "1      iPhone   20  \n",
       "2         Mac    8  \n",
       "3      iPhone   14  \n",
       "4          PC   14  \n",
       "...       ...  ...  \n",
       "6696  Android   10  \n",
       "6697      Mac   16  \n",
       "6698      Mac   18  \n",
       "6699  Android    7  \n",
       "6700  Android    7  \n",
       "\n",
       "[6701 rows x 7 columns]"
      ]
     },
     "execution_count": 34,
     "metadata": {},
     "output_type": "execute_result"
    }
   ],
   "source": [
    "participants_new_users = participants_system_test.merge(new_users, left_on='user_id', right_on='user_id', how='left')\n",
    "participants_new_users"
   ]
  },
  {
   "cell_type": "code",
   "execution_count": 35,
   "metadata": {
    "scrolled": true
   },
   "outputs": [
    {
     "data": {
      "text/html": [
       "<div>\n",
       "<style scoped>\n",
       "    .dataframe tbody tr th:only-of-type {\n",
       "        vertical-align: middle;\n",
       "    }\n",
       "\n",
       "    .dataframe tbody tr th {\n",
       "        vertical-align: top;\n",
       "    }\n",
       "\n",
       "    .dataframe thead th {\n",
       "        text-align: right;\n",
       "    }\n",
       "</style>\n",
       "<table border=\"1\" class=\"dataframe\">\n",
       "  <thead>\n",
       "    <tr style=\"text-align: right;\">\n",
       "      <th></th>\n",
       "      <th>user_id</th>\n",
       "    </tr>\n",
       "    <tr>\n",
       "      <th>region</th>\n",
       "      <th></th>\n",
       "    </tr>\n",
       "  </thead>\n",
       "  <tbody>\n",
       "    <tr>\n",
       "      <td>APAC</td>\n",
       "      <td>72</td>\n",
       "    </tr>\n",
       "    <tr>\n",
       "      <td>CIS</td>\n",
       "      <td>55</td>\n",
       "    </tr>\n",
       "    <tr>\n",
       "      <td>EU</td>\n",
       "      <td>6351</td>\n",
       "    </tr>\n",
       "    <tr>\n",
       "      <td>N.America</td>\n",
       "      <td>223</td>\n",
       "    </tr>\n",
       "  </tbody>\n",
       "</table>\n",
       "</div>"
      ],
      "text/plain": [
       "           user_id\n",
       "region            \n",
       "APAC            72\n",
       "CIS             55\n",
       "EU            6351\n",
       "N.America      223"
      ]
     },
     "execution_count": 35,
     "metadata": {},
     "output_type": "execute_result"
    }
   ],
   "source": [
    "participants_new_users_region = participants_new_users.pivot_table(index=\"region\", values=\"user_id\", aggfunc = 'count')\n",
    "participants_new_users_region"
   ]
  },
  {
   "cell_type": "markdown",
   "metadata": {},
   "source": [
    "Наши пользователи АВ-теста оказались зарегестрированы в основном в регионе EU, но малая их доля находится во всех остальных регионах APAC, CIS и N.America. Это скорее все связано с тем, что пользователь мог совершать в это время поездку в один из регионов. Оставим пользователей АВ-теста без изменений"
   ]
  },
  {
   "cell_type": "code",
   "execution_count": 36,
   "metadata": {},
   "outputs": [],
   "source": [
    "new_users_EU = new_users.query('region == \"EU\"')\n",
    "#new_users_EU"
   ]
  },
  {
   "cell_type": "code",
   "execution_count": 37,
   "metadata": {},
   "outputs": [
    {
     "name": "stdout",
     "output_type": "stream",
     "text": [
      "Процент новых пользователей из региона EU: 14.5%\n"
     ]
    }
   ],
   "source": [
    "new_users_EU_percent = participants_new_users['user_id'].nunique() / new_users_EU['user_id'].nunique()\n",
    "print('Процент новых пользователей из региона EU: {:.1%}'.format(new_users_EU_percent))"
   ]
  },
  {
   "cell_type": "markdown",
   "metadata": {},
   "source": [
    "Процент новых пользователей из региона EU составляет 14.5% и очень близок к ТЗ"
   ]
  },
  {
   "cell_type": "markdown",
   "metadata": {},
   "source": [
    "**Ожидаемое количество участников теста: 6000**"
   ]
  },
  {
   "cell_type": "code",
   "execution_count": 38,
   "metadata": {
    "scrolled": true
   },
   "outputs": [
    {
     "name": "stdout",
     "output_type": "stream",
     "text": [
      "Количество участников теста: 6701\n"
     ]
    }
   ],
   "source": [
    "print('Количество участников теста: {:}'.format(participants_new_users['user_id'].nunique()))"
   ]
  },
  {
   "cell_type": "markdown",
   "metadata": {},
   "source": [
    "Количество участников теста составляет 6701 человек, что соответствует ТЗ"
   ]
  },
  {
   "cell_type": "markdown",
   "metadata": {},
   "source": [
    "**Ожидаемый эффект: за 14 дней с момента регистрации в системе**"
   ]
  },
  {
   "cell_type": "markdown",
   "metadata": {},
   "source": [
    "Объединим таблицы с пользователями АВ-теста и с пользователями совершившим события"
   ]
  },
  {
   "cell_type": "code",
   "execution_count": 39,
   "metadata": {},
   "outputs": [
    {
     "data": {
      "text/html": [
       "<div>\n",
       "<style scoped>\n",
       "    .dataframe tbody tr th:only-of-type {\n",
       "        vertical-align: middle;\n",
       "    }\n",
       "\n",
       "    .dataframe tbody tr th {\n",
       "        vertical-align: top;\n",
       "    }\n",
       "\n",
       "    .dataframe thead th {\n",
       "        text-align: right;\n",
       "    }\n",
       "</style>\n",
       "<table border=\"1\" class=\"dataframe\">\n",
       "  <thead>\n",
       "    <tr style=\"text-align: right;\">\n",
       "      <th></th>\n",
       "      <th>user_id</th>\n",
       "      <th>group</th>\n",
       "      <th>ab_test</th>\n",
       "      <th>first_date</th>\n",
       "      <th>region</th>\n",
       "      <th>device</th>\n",
       "      <th>day_x</th>\n",
       "      <th>event_dt</th>\n",
       "      <th>event_name</th>\n",
       "      <th>details</th>\n",
       "      <th>day_y</th>\n",
       "      <th>date</th>\n",
       "    </tr>\n",
       "  </thead>\n",
       "  <tbody>\n",
       "    <tr>\n",
       "      <td>3941</td>\n",
       "      <td>A0E1AD0FF8953659</td>\n",
       "      <td>A</td>\n",
       "      <td>recommender_system_test</td>\n",
       "      <td>2020-12-11</td>\n",
       "      <td>EU</td>\n",
       "      <td>iPhone</td>\n",
       "      <td>11</td>\n",
       "      <td>2020-12-11 08:54:43</td>\n",
       "      <td>login</td>\n",
       "      <td>NaN</td>\n",
       "      <td>11</td>\n",
       "      <td>2020-12-11</td>\n",
       "    </tr>\n",
       "    <tr>\n",
       "      <td>27191</td>\n",
       "      <td>2A13C7A010142F61</td>\n",
       "      <td>B</td>\n",
       "      <td>recommender_system_test</td>\n",
       "      <td>2020-12-15</td>\n",
       "      <td>N.America</td>\n",
       "      <td>Android</td>\n",
       "      <td>15</td>\n",
       "      <td>2020-12-15 11:39:40</td>\n",
       "      <td>product_page</td>\n",
       "      <td>NaN</td>\n",
       "      <td>15</td>\n",
       "      <td>2020-12-15</td>\n",
       "    </tr>\n",
       "    <tr>\n",
       "      <td>26294</td>\n",
       "      <td>800AF45A68291849</td>\n",
       "      <td>A</td>\n",
       "      <td>recommender_system_test</td>\n",
       "      <td>2020-12-07</td>\n",
       "      <td>N.America</td>\n",
       "      <td>Android</td>\n",
       "      <td>7</td>\n",
       "      <td>2020-12-07 01:48:51</td>\n",
       "      <td>login</td>\n",
       "      <td>NaN</td>\n",
       "      <td>7</td>\n",
       "      <td>2020-12-07</td>\n",
       "    </tr>\n",
       "    <tr>\n",
       "      <td>14935</td>\n",
       "      <td>49EA242586C87836</td>\n",
       "      <td>B</td>\n",
       "      <td>recommender_system_test</td>\n",
       "      <td>2020-12-07</td>\n",
       "      <td>EU</td>\n",
       "      <td>iPhone</td>\n",
       "      <td>7</td>\n",
       "      <td>2020-12-12 04:30:43</td>\n",
       "      <td>product_page</td>\n",
       "      <td>NaN</td>\n",
       "      <td>12</td>\n",
       "      <td>2020-12-12</td>\n",
       "    </tr>\n",
       "    <tr>\n",
       "      <td>14973</td>\n",
       "      <td>7347C03E6A300EFD</td>\n",
       "      <td>A</td>\n",
       "      <td>recommender_system_test</td>\n",
       "      <td>2020-12-18</td>\n",
       "      <td>EU</td>\n",
       "      <td>Android</td>\n",
       "      <td>18</td>\n",
       "      <td>2020-12-24 17:35:22</td>\n",
       "      <td>product_cart</td>\n",
       "      <td>NaN</td>\n",
       "      <td>24</td>\n",
       "      <td>2020-12-24</td>\n",
       "    </tr>\n",
       "  </tbody>\n",
       "</table>\n",
       "</div>"
      ],
      "text/plain": [
       "                user_id group                  ab_test first_date     region  \\\n",
       "3941   A0E1AD0FF8953659     A  recommender_system_test 2020-12-11         EU   \n",
       "27191  2A13C7A010142F61     B  recommender_system_test 2020-12-15  N.America   \n",
       "26294  800AF45A68291849     A  recommender_system_test 2020-12-07  N.America   \n",
       "14935  49EA242586C87836     B  recommender_system_test 2020-12-07         EU   \n",
       "14973  7347C03E6A300EFD     A  recommender_system_test 2020-12-18         EU   \n",
       "\n",
       "        device  day_x            event_dt    event_name  details  day_y  \\\n",
       "3941    iPhone     11 2020-12-11 08:54:43         login      NaN     11   \n",
       "27191  Android     15 2020-12-15 11:39:40  product_page      NaN     15   \n",
       "26294  Android      7 2020-12-07 01:48:51         login      NaN      7   \n",
       "14935   iPhone      7 2020-12-12 04:30:43  product_page      NaN     12   \n",
       "14973  Android     18 2020-12-24 17:35:22  product_cart      NaN     24   \n",
       "\n",
       "             date  \n",
       "3941   2020-12-11  \n",
       "27191  2020-12-15  \n",
       "26294  2020-12-07  \n",
       "14935  2020-12-12  \n",
       "14973  2020-12-24  "
      ]
     },
     "execution_count": 39,
     "metadata": {},
     "output_type": "execute_result"
    }
   ],
   "source": [
    "participants_events_EU = participants_new_users.merge(ab_events, left_on='user_id', right_on='user_id', how='left')\n",
    "participants_events_EU['day_y'] = participants_events_EU['day_y'].fillna(0)\n",
    "participants_events_EU['day_y'] = participants_events_EU['day_y'].astype('int')   \n",
    "participants_events_EU.sample(5)"
   ]
  },
  {
   "cell_type": "markdown",
   "metadata": {},
   "source": [
    "Определим время прошедшее от регестрации"
   ]
  },
  {
   "cell_type": "code",
   "execution_count": 40,
   "metadata": {},
   "outputs": [],
   "source": [
    "participants_events_EU['delta'] = participants_events_EU['day_y'] - participants_events_EU['day_x']\n",
    "#participants_events_EU.sample(10)"
   ]
  },
  {
   "cell_type": "markdown",
   "metadata": {},
   "source": [
    "Уберем события, которые были позже 14 дней с момента регистрации"
   ]
  },
  {
   "cell_type": "code",
   "execution_count": 41,
   "metadata": {},
   "outputs": [],
   "source": [
    "AB_events_EU_delta = participants_events_EU.query('delta < 14')"
   ]
  },
  {
   "cell_type": "code",
   "execution_count": 42,
   "metadata": {},
   "outputs": [
    {
     "data": {
      "text/html": [
       "<div>\n",
       "<style scoped>\n",
       "    .dataframe tbody tr th:only-of-type {\n",
       "        vertical-align: middle;\n",
       "    }\n",
       "\n",
       "    .dataframe tbody tr th {\n",
       "        vertical-align: top;\n",
       "    }\n",
       "\n",
       "    .dataframe thead th {\n",
       "        text-align: right;\n",
       "    }\n",
       "</style>\n",
       "<table border=\"1\" class=\"dataframe\">\n",
       "  <thead>\n",
       "    <tr style=\"text-align: right;\">\n",
       "      <th></th>\n",
       "      <th>user_id</th>\n",
       "      <th>group</th>\n",
       "      <th>event_name</th>\n",
       "      <th>date</th>\n",
       "    </tr>\n",
       "  </thead>\n",
       "  <tbody>\n",
       "    <tr>\n",
       "      <td>0</td>\n",
       "      <td>D1ABA3E2887B6A73</td>\n",
       "      <td>A</td>\n",
       "      <td>purchase</td>\n",
       "      <td>2020-12-07</td>\n",
       "    </tr>\n",
       "    <tr>\n",
       "      <td>2</td>\n",
       "      <td>D1ABA3E2887B6A73</td>\n",
       "      <td>A</td>\n",
       "      <td>product_cart</td>\n",
       "      <td>2020-12-07</td>\n",
       "    </tr>\n",
       "    <tr>\n",
       "      <td>4</td>\n",
       "      <td>D1ABA3E2887B6A73</td>\n",
       "      <td>A</td>\n",
       "      <td>product_page</td>\n",
       "      <td>2020-12-07</td>\n",
       "    </tr>\n",
       "    <tr>\n",
       "      <td>6</td>\n",
       "      <td>D1ABA3E2887B6A73</td>\n",
       "      <td>A</td>\n",
       "      <td>login</td>\n",
       "      <td>2020-12-07</td>\n",
       "    </tr>\n",
       "    <tr>\n",
       "      <td>8</td>\n",
       "      <td>A7A3664BD6242119</td>\n",
       "      <td>A</td>\n",
       "      <td>product_page</td>\n",
       "      <td>2020-12-20</td>\n",
       "    </tr>\n",
       "    <tr>\n",
       "      <td>...</td>\n",
       "      <td>...</td>\n",
       "      <td>...</td>\n",
       "      <td>...</td>\n",
       "      <td>...</td>\n",
       "    </tr>\n",
       "    <tr>\n",
       "      <td>27719</td>\n",
       "      <td>6715343AFBA285AE</td>\n",
       "      <td>B</td>\n",
       "      <td>login</td>\n",
       "      <td>2020-12-07</td>\n",
       "    </tr>\n",
       "    <tr>\n",
       "      <td>27720</td>\n",
       "      <td>6715343AFBA285AE</td>\n",
       "      <td>B</td>\n",
       "      <td>login</td>\n",
       "      <td>2020-12-08</td>\n",
       "    </tr>\n",
       "    <tr>\n",
       "      <td>27721</td>\n",
       "      <td>6715343AFBA285AE</td>\n",
       "      <td>B</td>\n",
       "      <td>login</td>\n",
       "      <td>2020-12-09</td>\n",
       "    </tr>\n",
       "    <tr>\n",
       "      <td>27722</td>\n",
       "      <td>6715343AFBA285AE</td>\n",
       "      <td>B</td>\n",
       "      <td>login</td>\n",
       "      <td>2020-12-10</td>\n",
       "    </tr>\n",
       "    <tr>\n",
       "      <td>27723</td>\n",
       "      <td>6715343AFBA285AE</td>\n",
       "      <td>B</td>\n",
       "      <td>login</td>\n",
       "      <td>2020-12-14</td>\n",
       "    </tr>\n",
       "  </tbody>\n",
       "</table>\n",
       "<p>26882 rows × 4 columns</p>\n",
       "</div>"
      ],
      "text/plain": [
       "                user_id group    event_name        date\n",
       "0      D1ABA3E2887B6A73     A      purchase  2020-12-07\n",
       "2      D1ABA3E2887B6A73     A  product_cart  2020-12-07\n",
       "4      D1ABA3E2887B6A73     A  product_page  2020-12-07\n",
       "6      D1ABA3E2887B6A73     A         login  2020-12-07\n",
       "8      A7A3664BD6242119     A  product_page  2020-12-20\n",
       "...                 ...   ...           ...         ...\n",
       "27719  6715343AFBA285AE     B         login  2020-12-07\n",
       "27720  6715343AFBA285AE     B         login  2020-12-08\n",
       "27721  6715343AFBA285AE     B         login  2020-12-09\n",
       "27722  6715343AFBA285AE     B         login  2020-12-10\n",
       "27723  6715343AFBA285AE     B         login  2020-12-14\n",
       "\n",
       "[26882 rows x 4 columns]"
      ]
     },
     "execution_count": 42,
     "metadata": {},
     "output_type": "execute_result"
    }
   ],
   "source": [
    "AB_events_EU = AB_events_EU_delta.loc[:, ['user_id', 'group', 'event_name', 'date']]\n",
    "AB_events_EU"
   ]
  },
  {
   "cell_type": "markdown",
   "metadata": {},
   "source": [
    "<div class=\"alert alert-success\">\n",
    "<b>Шаг 2. Вывод:</b>\n",
    "\n",
    "Дата остановки набора новых пользователей составляет 21 декабря 2020 года, наши данные представлены с набором новых пользователей до 23 декабрем 2020 года. Отбросим даты не входящие в ТЗ\n",
    "    \n",
    "Дата остановки теста определена как 04 января, по данным совершения события новых пользователей, последняя дата события составляет 30 декаабря. Это скорее всего связано с тем, что в регионе EU начинаются рождественские каникулы, все магазины закрываются, а покупки совершаются заранее. Так мы видим увеличение числа событий в период с 10 по 20-е декабря и потом с 20-го декабря уменьшение активности до минимальных значений. Данное событие скорее всего сильно окажет влияние на наш тест    \n",
    "    \n",
    "Пересечение аудитории 2-х тестов составляет 1602 человека. Второй тест более глобальный и может оказывать больше влияние на поведение пользователей. Но мы не можем убрать данных пересекающихся пользователей, поскольку не выполним пунк ТЗ о количестве участников в 6000. Оставляем уникальных пользователей теста 'interface_eu_test' без изменений    \n",
    "    \n",
    "Наш тест попадает под событие 'Christmas&New Year Promo' проходящий в EU и N.America с 25 декабря по 03 января, что будет влиять на его результаты.\n",
    "\n",
    "Также наш тест попадает под событие 'CIS New Year Gift Lottery' проходящий в CIS с 30 декабря по 07 января, поскольку данное событие проходит в другом регионе, влиять на результаты оно не сможет.\n",
    "    \n",
    "Наши пользователи АВ-теста оказались зарегестрированы в основном в регионе EU, но малая их доля находится во всех остальных регионах APAC, CIS и N.America. Это скорее все связано с тем, что пользователь мог совершать в это время поездку в один из регионов. Оставим пользователей АВ-теста без изменений\n",
    "    \n",
    "Процент новых пользователей из региона EU составляет 14.5% и очень близок к ТЗ    \n",
    "    \n",
    "Количество участников теста составляет 6701 человек, что соответствует ТЗ\n",
    "    \n",
    "Датасет AB_events_EU содержит события, которые были позже 14 дней с момента регистрации согласно ТЗ\n",
    "    \n",
    "Проводить тест в данных условиях некорректно поскольку он попадаетпод рождественские каникулы, которые сильно влияют на покупательскую способность в данном регионе. В последних числах декабря покупательская способность падает до минимальных значений за указанный период, далее она отсутствует, что очень сильно отразится на результатах АВ-теста\n",
    "    \n",
    "</div>"
   ]
  },
  {
   "cell_type": "markdown",
   "metadata": {},
   "source": [
    "# Шаг 3. Изучим воронку событий"
   ]
  },
  {
   "cell_type": "markdown",
   "metadata": {},
   "source": [
    "**Посмотрим, какие события есть в логах, как часто они встречаются**"
   ]
  },
  {
   "cell_type": "code",
   "execution_count": 43,
   "metadata": {},
   "outputs": [],
   "source": [
    "AB_events_EU_pivot = AB_events_EU.pivot_table(index=\"event_name\", values=\"user_id\", aggfunc = 'count').sort_values(\n",
    "    'user_id', ascending=False)"
   ]
  },
  {
   "cell_type": "code",
   "execution_count": 44,
   "metadata": {},
   "outputs": [
    {
     "data": {
      "text/html": [
       "<div>\n",
       "<style scoped>\n",
       "    .dataframe tbody tr th:only-of-type {\n",
       "        vertical-align: middle;\n",
       "    }\n",
       "\n",
       "    .dataframe tbody tr th {\n",
       "        vertical-align: top;\n",
       "    }\n",
       "\n",
       "    .dataframe thead th {\n",
       "        text-align: right;\n",
       "    }\n",
       "</style>\n",
       "<table border=\"1\" class=\"dataframe\">\n",
       "  <thead>\n",
       "    <tr style=\"text-align: right;\">\n",
       "      <th></th>\n",
       "      <th>user_id</th>\n",
       "    </tr>\n",
       "    <tr>\n",
       "      <th>event_name</th>\n",
       "      <th></th>\n",
       "    </tr>\n",
       "  </thead>\n",
       "  <tbody>\n",
       "    <tr>\n",
       "      <td>login</td>\n",
       "      <td>10794</td>\n",
       "    </tr>\n",
       "    <tr>\n",
       "      <td>product_page</td>\n",
       "      <td>6684</td>\n",
       "    </tr>\n",
       "    <tr>\n",
       "      <td>product_cart</td>\n",
       "      <td>3146</td>\n",
       "    </tr>\n",
       "    <tr>\n",
       "      <td>purchase</td>\n",
       "      <td>3232</td>\n",
       "    </tr>\n",
       "  </tbody>\n",
       "</table>\n",
       "</div>"
      ],
      "text/plain": [
       "              user_id\n",
       "event_name           \n",
       "login           10794\n",
       "product_page     6684\n",
       "product_cart     3146\n",
       "purchase         3232"
      ]
     },
     "execution_count": 44,
     "metadata": {},
     "output_type": "execute_result"
    }
   ],
   "source": [
    "AB_events_EU_pivot = AB_events_EU_pivot.reindex(['login','product_page','product_cart','purchase'])\n",
    "AB_events_EU_pivot"
   ]
  },
  {
   "cell_type": "code",
   "execution_count": 45,
   "metadata": {},
   "outputs": [
    {
     "data": {
      "image/png": "[encoded data removed]",
      "text/plain": [
       "<Figure size 864x360 with 1 Axes>"
      ]
     },
     "metadata": {
      "needs_background": "light"
     },
     "output_type": "display_data"
    }
   ],
   "source": [
    "AB_events_EU_pivot.plot(kind='bar', y='user_id', grid=True, figsize=(12, 5))\n",
    "plt.title('Воронка событий')\n",
    "plt.xlabel('Наименование события')\n",
    "plt.ylabel('Число событий');"
   ]
  },
  {
   "cell_type": "markdown",
   "metadata": {},
   "source": [
    "4 события при покупке товара распределены следующим образом:\n",
    "\n",
    "    - посещение страницы регистрации (login) 10 794 события;\n",
    "    - посещение страницы с продуктом (product_page) 6684 события;\n",
    "    - просмотр корзины (product_cart) 3146 события;\n",
    "    - посещение страницы с оплатой (purchase) 3232 события.\n",
    "    \n",
    "Посещение страницы с оплатой немного больше просмотров корзины, это скорее всего зависит от возможности оплаты без перехода в корзину."
   ]
  },
  {
   "cell_type": "markdown",
   "metadata": {},
   "source": [
    "**Посчитаем, сколько пользователей совершали каждое из этих событий**"
   ]
  },
  {
   "cell_type": "code",
   "execution_count": 46,
   "metadata": {},
   "outputs": [],
   "source": [
    "AB_events_EU_pivot_unique = AB_events_EU.pivot_table(index=\"event_name\", values=\"user_id\", aggfunc = 'nunique').sort_values(\n",
    "    'user_id', ascending=False)"
   ]
  },
  {
   "cell_type": "code",
   "execution_count": 47,
   "metadata": {},
   "outputs": [
    {
     "data": {
      "text/html": [
       "<div>\n",
       "<style scoped>\n",
       "    .dataframe tbody tr th:only-of-type {\n",
       "        vertical-align: middle;\n",
       "    }\n",
       "\n",
       "    .dataframe tbody tr th {\n",
       "        vertical-align: top;\n",
       "    }\n",
       "\n",
       "    .dataframe thead th {\n",
       "        text-align: right;\n",
       "    }\n",
       "</style>\n",
       "<table border=\"1\" class=\"dataframe\">\n",
       "  <thead>\n",
       "    <tr style=\"text-align: right;\">\n",
       "      <th></th>\n",
       "      <th>event_name</th>\n",
       "      <th>user_id</th>\n",
       "    </tr>\n",
       "    <tr>\n",
       "      <th>event_name</th>\n",
       "      <th></th>\n",
       "      <th></th>\n",
       "    </tr>\n",
       "  </thead>\n",
       "  <tbody>\n",
       "    <tr>\n",
       "      <td>login</td>\n",
       "      <td>1</td>\n",
       "      <td>3674</td>\n",
       "    </tr>\n",
       "    <tr>\n",
       "      <td>product_page</td>\n",
       "      <td>1</td>\n",
       "      <td>2303</td>\n",
       "    </tr>\n",
       "    <tr>\n",
       "      <td>product_cart</td>\n",
       "      <td>1</td>\n",
       "      <td>1079</td>\n",
       "    </tr>\n",
       "    <tr>\n",
       "      <td>purchase</td>\n",
       "      <td>1</td>\n",
       "      <td>1128</td>\n",
       "    </tr>\n",
       "  </tbody>\n",
       "</table>\n",
       "</div>"
      ],
      "text/plain": [
       "              event_name  user_id\n",
       "event_name                       \n",
       "login                  1     3674\n",
       "product_page           1     2303\n",
       "product_cart           1     1079\n",
       "purchase               1     1128"
      ]
     },
     "execution_count": 47,
     "metadata": {},
     "output_type": "execute_result"
    }
   ],
   "source": [
    "AB_events_EU_pivot_unique = AB_events_EU_pivot_unique.reindex(['login','product_page','product_cart','purchase'])\n",
    "AB_events_EU_pivot_unique"
   ]
  },
  {
   "cell_type": "code",
   "execution_count": 48,
   "metadata": {},
   "outputs": [
    {
     "data": {
      "image/png": "[encoded data removed]",
      "text/plain": [
       "<Figure size 864x360 with 1 Axes>"
      ]
     },
     "metadata": {
      "needs_background": "light"
     },
     "output_type": "display_data"
    }
   ],
   "source": [
    "AB_events_EU_pivot_unique.plot(kind='bar', y='user_id', grid=True, figsize=(12, 5))\n",
    "plt.title('Воронка событий')\n",
    "plt.xlabel('Наименование события')\n",
    "plt.ylabel('Число событий');"
   ]
  },
  {
   "cell_type": "markdown",
   "metadata": {},
   "source": [
    "События совершенные уникальными пользователями при покупке товара распределены следующим образом:\n",
    "\n",
    "    - посещение страницы регистрации (login) 3674 пользователей;\n",
    "    - посещение страницы с продуктом (product_page) 2303 пользователей;\n",
    "    - просмотр корзины (product_cart) 1079 пользователей;\n",
    "    - посещение страницы с оплатой (purchase) 1128 пользователей."
   ]
  },
  {
   "cell_type": "markdown",
   "metadata": {},
   "source": [
    "**Посчитаем долю пользователей, которые хоть раз совершали событие**"
   ]
  },
  {
   "cell_type": "code",
   "execution_count": 49,
   "metadata": {},
   "outputs": [
    {
     "data": {
      "text/html": [
       "<div>\n",
       "<style scoped>\n",
       "    .dataframe tbody tr th:only-of-type {\n",
       "        vertical-align: middle;\n",
       "    }\n",
       "\n",
       "    .dataframe tbody tr th {\n",
       "        vertical-align: top;\n",
       "    }\n",
       "\n",
       "    .dataframe thead th {\n",
       "        text-align: right;\n",
       "    }\n",
       "</style>\n",
       "<table border=\"1\" class=\"dataframe\">\n",
       "  <thead>\n",
       "    <tr style=\"text-align: right;\">\n",
       "      <th></th>\n",
       "      <th>event_name</th>\n",
       "      <th>user_id_nunique</th>\n",
       "      <th>per</th>\n",
       "    </tr>\n",
       "  </thead>\n",
       "  <tbody>\n",
       "    <tr>\n",
       "      <td>0</td>\n",
       "      <td>login</td>\n",
       "      <td>3674</td>\n",
       "      <td>100.0%</td>\n",
       "    </tr>\n",
       "    <tr>\n",
       "      <td>2</td>\n",
       "      <td>product_page</td>\n",
       "      <td>2303</td>\n",
       "      <td>62.7%</td>\n",
       "    </tr>\n",
       "    <tr>\n",
       "      <td>3</td>\n",
       "      <td>purchase</td>\n",
       "      <td>1128</td>\n",
       "      <td>30.7%</td>\n",
       "    </tr>\n",
       "    <tr>\n",
       "      <td>1</td>\n",
       "      <td>product_cart</td>\n",
       "      <td>1079</td>\n",
       "      <td>29.4%</td>\n",
       "    </tr>\n",
       "  </tbody>\n",
       "</table>\n",
       "</div>"
      ],
      "text/plain": [
       "     event_name  user_id_nunique     per\n",
       "0         login             3674  100.0%\n",
       "2  product_page             2303   62.7%\n",
       "3      purchase             1128   30.7%\n",
       "1  product_cart             1079   29.4%"
      ]
     },
     "execution_count": 49,
     "metadata": {},
     "output_type": "execute_result"
    }
   ],
   "source": [
    "AB_events_EU_groupby_unique = AB_events_EU.groupby(['event_name']).agg({'user_id': ['nunique']}).reset_index()\n",
    "AB_events_EU_groupby_unique.columns = ['event_name', 'user_id_nunique']\n",
    "AB_events_EU_groupby_unique = AB_events_EU_groupby_unique.sort_values('user_id_nunique', ascending=False)\n",
    "AB_events_EU_groupby_unique['per'] = (AB_events_EU_groupby_unique['user_id_nunique'] / \n",
    "                        AB_events_EU_groupby_unique['user_id_nunique'].loc[0]).map(lambda x: \"{0:.1%}\".format(x))\n",
    "AB_events_EU_groupby_unique"
   ]
  },
  {
   "cell_type": "markdown",
   "metadata": {},
   "source": [
    "Доля пользователей при покупке товара распределена следующим образом:\n",
    "\n",
    "    - доля посещения страницы с продуктом (product_page) составляет 62.7% от общего числа зарегестрировааных пользователей;\n",
    "    - доля просмотра корзины (product_cart) составляет 29.4% от общего числа зарегестрировааных пользователей;\n",
    "    - доля посещения страницы с оплатой (purchase) составляет 30.7% от общего числа зарегестрировааных пользователей.\n",
    "    \n",
    "Доля пользователей, которая доходит от первого события до оплаты составляет 29.4%"
   ]
  },
  {
   "cell_type": "markdown",
   "metadata": {},
   "source": [
    "**По воронке событий посчитаем, какая доля пользователей проходит на следующий шаг воронки**"
   ]
  },
  {
   "cell_type": "code",
   "execution_count": 50,
   "metadata": {},
   "outputs": [
    {
     "name": "stdout",
     "output_type": "stream",
     "text": [
      "Доля пользователей, которая проходит на следующий шаг воронки \"product_cart\": 46.9%\n"
     ]
    }
   ],
   "source": [
    "print('Доля пользователей, которая проходит на следующий шаг воронки \"product_cart\": {:.1%}'.\n",
    "      format(AB_events_EU_groupby_unique['user_id_nunique'].loc[1] / AB_events_EU_groupby_unique['user_id_nunique'].loc[2]))"
   ]
  },
  {
   "cell_type": "code",
   "execution_count": 51,
   "metadata": {},
   "outputs": [
    {
     "name": "stdout",
     "output_type": "stream",
     "text": [
      "Доля пользователей, которая проходит на следующий шаг воронки \"purchase\": 104.5%\n"
     ]
    }
   ],
   "source": [
    "print('Доля пользователей, которая проходит на следующий шаг воронки \"purchase\": {:.1%}'.\n",
    "      format(AB_events_EU_groupby_unique['user_id_nunique'].loc[3] / AB_events_EU_groupby_unique['user_id_nunique'].loc[1]))"
   ]
  },
  {
   "cell_type": "markdown",
   "metadata": {},
   "source": [
    "Доля пользователей, которая проходит на следующий шаг воронки:\n",
    "\n",
    "    - доля пользователей, которая проходит на страницу с продуктом: 62.7%;\n",
    "    - доля пользователей, которая проходит на просмотр корзины: 46.9%;\n",
    "    - доля пользователей, которая проходит на страницу с оплатой: 104.5%.\n",
    "    \n",
    " Доля тех, кто оплачивает товары без перехода в корзину составляет 4.5%.\n",
    "\n",
    "Больше всего пользователей теряется на втором шаге, то есть при переходе на просмотр корзины -  46.9% пользователей переходят к просмотру корзины."
   ]
  },
  {
   "cell_type": "markdown",
   "metadata": {},
   "source": [
    "<div class=\"alert alert-success\">\n",
    "<b>Шаг 3. Вывод:</b>\n",
    "\n",
    "4 события при покупке товара распределены следующим образом:\n",
    "    \n",
    "    - посещение страницы регистрации (login) 10 794 события;\n",
    "    - посещение страницы с продуктом (product_page) 6684 события;\n",
    "    - просмотр корзины (product_cart) 3146 события;\n",
    "    - посещение страницы с оплатой (purchase) 3232 события.\n",
    "    \n",
    "Посещение страницы с оплатой немного больше просмотров корзины, это скорее всего зависит от возможности оплаты без перехода в корзину.\n",
    "    \n",
    "События совершенные уникальными пользователями при покупке товара распределены следующим образом:\n",
    "\n",
    "    - посещение страницы регистрации (login) 3674 пользователей;\n",
    "    - посещение страницы с продуктом (product_page) 2303 пользователей;\n",
    "    - просмотр корзины (product_cart) 1079 пользователей;\n",
    "    - посещение страницы с оплатой (purchase) 1128 пользователей.\n",
    "    \n",
    "Доля пользователей при покупке товара распределена следующим образом:\n",
    "\n",
    "    - доля посещения страницы с продуктом (product_page) составляет 62.7% от общего числа зарегестрировааных пользователей;\n",
    "    - доля просмотра корзины (product_cart) составляет 29.4% от общего числа зарегестрировааных пользователей;\n",
    "    - доля посещения страницы с оплатой (purchase) составляет 30.7% от общего числа зарегестрировааных пользователей.\n",
    "    \n",
    "Доля пользователей, которая доходит от первого события до оплаты составляет 29.4%\n",
    "    \n",
    "Доля пользователей, которая проходит на следующий шаг воронки:\n",
    "\n",
    "    - доля пользователей, которая проходит на страницу с продуктом: 62.7%;\n",
    "    - доля пользователей, которая проходит на просмотр корзины: 46.9%;\n",
    "    - доля пользователей, которая проходит на страницу с оплатой: 104.5%.\n",
    "    \n",
    "Доля тех, кто оплачивает товары без перехода в корзину составляет 4.5%.\n",
    "\n",
    "Больше всего пользователей теряется на втором шаге, то есть при переходе на просмотр корзины -  46.9% пользователей переходят к просмотру корзины.\n",
    "    \n",
    "Для увеличения конверсии надо будет посмотреть на то, как пользователи ведут себя на сайте: \n",
    "\n",
    "Переход на <b> страницу с продуктом </b> - по каким ссылкам переходят пользователи; на каких продуктах они отваливаются; изучить тепловую карту кликов и сделать выводы какие страницы с продуктами нужно изменить; вывести наиболее интерсное предложение на главную страницу; посмотреть, как влияет дизайт страниц приложения (может отталкивать); Упростить доступ к каталогу или сделать его интуитивно понятным.\n",
    "\n",
    "Переход на <b> просмотр корзины </b> - расположить значок корзины в доступном месте или там где его всегда видно, упростить форму корзины, возможно некоторым пользователям  она не нравится.\n",
    "\n",
    "Посещение <b>страницы с оплатой </b> - при оплате товара расположить значок корзины на видном месте для возможности ее пополнения. \n",
    "       \n",
    "</div>"
   ]
  },
  {
   "cell_type": "markdown",
   "metadata": {},
   "source": [
    "# Шаг 4. Проанализируем A/B-тест и построим графики"
   ]
  },
  {
   "cell_type": "markdown",
   "metadata": {},
   "source": [
    "### ТЕСТ: Проверим, находят ли статистические критерии разницу между выборками A и B"
   ]
  },
  {
   "cell_type": "code",
   "execution_count": 52,
   "metadata": {},
   "outputs": [
    {
     "data": {
      "text/html": [
       "<div>\n",
       "<style scoped>\n",
       "    .dataframe tbody tr th:only-of-type {\n",
       "        vertical-align: middle;\n",
       "    }\n",
       "\n",
       "    .dataframe tbody tr th {\n",
       "        vertical-align: top;\n",
       "    }\n",
       "\n",
       "    .dataframe thead th {\n",
       "        text-align: right;\n",
       "    }\n",
       "</style>\n",
       "<table border=\"1\" class=\"dataframe\">\n",
       "  <thead>\n",
       "    <tr style=\"text-align: right;\">\n",
       "      <th></th>\n",
       "      <th>user_id</th>\n",
       "      <th>group</th>\n",
       "      <th>event_name</th>\n",
       "      <th>date</th>\n",
       "    </tr>\n",
       "  </thead>\n",
       "  <tbody>\n",
       "    <tr>\n",
       "      <td>0</td>\n",
       "      <td>D1ABA3E2887B6A73</td>\n",
       "      <td>A</td>\n",
       "      <td>purchase</td>\n",
       "      <td>2020-12-07</td>\n",
       "    </tr>\n",
       "    <tr>\n",
       "      <td>2</td>\n",
       "      <td>D1ABA3E2887B6A73</td>\n",
       "      <td>A</td>\n",
       "      <td>product_cart</td>\n",
       "      <td>2020-12-07</td>\n",
       "    </tr>\n",
       "    <tr>\n",
       "      <td>4</td>\n",
       "      <td>D1ABA3E2887B6A73</td>\n",
       "      <td>A</td>\n",
       "      <td>product_page</td>\n",
       "      <td>2020-12-07</td>\n",
       "    </tr>\n",
       "    <tr>\n",
       "      <td>6</td>\n",
       "      <td>D1ABA3E2887B6A73</td>\n",
       "      <td>A</td>\n",
       "      <td>login</td>\n",
       "      <td>2020-12-07</td>\n",
       "    </tr>\n",
       "    <tr>\n",
       "      <td>8</td>\n",
       "      <td>A7A3664BD6242119</td>\n",
       "      <td>A</td>\n",
       "      <td>product_page</td>\n",
       "      <td>2020-12-20</td>\n",
       "    </tr>\n",
       "    <tr>\n",
       "      <td>...</td>\n",
       "      <td>...</td>\n",
       "      <td>...</td>\n",
       "      <td>...</td>\n",
       "      <td>...</td>\n",
       "    </tr>\n",
       "    <tr>\n",
       "      <td>27719</td>\n",
       "      <td>6715343AFBA285AE</td>\n",
       "      <td>B</td>\n",
       "      <td>login</td>\n",
       "      <td>2020-12-07</td>\n",
       "    </tr>\n",
       "    <tr>\n",
       "      <td>27720</td>\n",
       "      <td>6715343AFBA285AE</td>\n",
       "      <td>B</td>\n",
       "      <td>login</td>\n",
       "      <td>2020-12-08</td>\n",
       "    </tr>\n",
       "    <tr>\n",
       "      <td>27721</td>\n",
       "      <td>6715343AFBA285AE</td>\n",
       "      <td>B</td>\n",
       "      <td>login</td>\n",
       "      <td>2020-12-09</td>\n",
       "    </tr>\n",
       "    <tr>\n",
       "      <td>27722</td>\n",
       "      <td>6715343AFBA285AE</td>\n",
       "      <td>B</td>\n",
       "      <td>login</td>\n",
       "      <td>2020-12-10</td>\n",
       "    </tr>\n",
       "    <tr>\n",
       "      <td>27723</td>\n",
       "      <td>6715343AFBA285AE</td>\n",
       "      <td>B</td>\n",
       "      <td>login</td>\n",
       "      <td>2020-12-14</td>\n",
       "    </tr>\n",
       "  </tbody>\n",
       "</table>\n",
       "<p>26882 rows × 4 columns</p>\n",
       "</div>"
      ],
      "text/plain": [
       "                user_id group    event_name        date\n",
       "0      D1ABA3E2887B6A73     A      purchase  2020-12-07\n",
       "2      D1ABA3E2887B6A73     A  product_cart  2020-12-07\n",
       "4      D1ABA3E2887B6A73     A  product_page  2020-12-07\n",
       "6      D1ABA3E2887B6A73     A         login  2020-12-07\n",
       "8      A7A3664BD6242119     A  product_page  2020-12-20\n",
       "...                 ...   ...           ...         ...\n",
       "27719  6715343AFBA285AE     B         login  2020-12-07\n",
       "27720  6715343AFBA285AE     B         login  2020-12-08\n",
       "27721  6715343AFBA285AE     B         login  2020-12-09\n",
       "27722  6715343AFBA285AE     B         login  2020-12-10\n",
       "27723  6715343AFBA285AE     B         login  2020-12-14\n",
       "\n",
       "[26882 rows x 4 columns]"
      ]
     },
     "execution_count": 52,
     "metadata": {},
     "output_type": "execute_result"
    }
   ],
   "source": [
    "AB_events_EU"
   ]
  },
  {
   "cell_type": "code",
   "execution_count": 53,
   "metadata": {},
   "outputs": [
    {
     "data": {
      "text/plain": [
       "6701"
      ]
     },
     "execution_count": 53,
     "metadata": {},
     "output_type": "execute_result"
    }
   ],
   "source": [
    "AB_events_EU['user_id'].nunique()"
   ]
  },
  {
   "cell_type": "code",
   "execution_count": 54,
   "metadata": {},
   "outputs": [],
   "source": [
    "group_A = AB_events_EU.query('group == \"A\"')\n",
    "test_A = group_A['user_id'].nunique()"
   ]
  },
  {
   "cell_type": "code",
   "execution_count": 55,
   "metadata": {},
   "outputs": [],
   "source": [
    "group_B = AB_events_EU.query('group == \"B\"')\n",
    "test_B = group_B['user_id'].nunique()"
   ]
  },
  {
   "cell_type": "code",
   "execution_count": 56,
   "metadata": {},
   "outputs": [],
   "source": [
    "all_test_AB = test_A + test_B"
   ]
  },
  {
   "cell_type": "code",
   "execution_count": 57,
   "metadata": {},
   "outputs": [
    {
     "data": {
      "text/plain": [
       "0.5706610953589016"
      ]
     },
     "execution_count": 57,
     "metadata": {},
     "output_type": "execute_result"
    }
   ],
   "source": [
    "test_A / all_test_AB"
   ]
  },
  {
   "cell_type": "markdown",
   "metadata": {},
   "source": [
    "<b>Нулевая гипотеза:</b>  Среднее генеральной совокупности числа пользователей выборки группы А и выборки группы В равны между собой.\n",
    "\n",
    "<b>Альтернативная гипотеза:</b>  Среднее генеральной совокупности числа пользователей выборки группы А и выборки группы В <b>не</b> равны между собой."
   ]
  },
  {
   "cell_type": "markdown",
   "metadata": {},
   "source": [
    "<div class=\"alert alert-success\" style=\"border-radius: 15px; box-shadow: 4px 4px 4px; border: 1px solid \" > <b>Комментарии от ревьюера: </b> \n",
    "\n",
    "Очень хорошо, что ты не забыл про формулировку гипотез. Это важный пункт в подобного рода задачах\n",
    "</div>"
   ]
  },
  {
   "cell_type": "code",
   "execution_count": 58,
   "metadata": {},
   "outputs": [
    {
     "name": "stdout",
     "output_type": "stream",
     "text": [
      "p-value: 1.50536508194716e-31\n",
      "Нулевая гипотеза отвергается: вероятность попасть в группу А отличается от 50%\n"
     ]
    }
   ],
   "source": [
    "alpha = 0.05\n",
    "alpha = alpha / 2\n",
    "pvalue = proportions_ztest(test_A, all_test_AB, value = 0.5)[1]\n",
    "print('p-value: {}'.format(pvalue))\n",
    "if pvalue >= alpha: \n",
    "    print('Нулевая гипотеза не отвергается: вероятность попасть в группу А составляет 50%')\n",
    "else:\n",
    "    print('Нулевая гипотеза отвергается: вероятность попасть в группу А отличается от 50%')"
   ]
  },
  {
   "cell_type": "markdown",
   "metadata": {},
   "source": [
    "### ТЕСТ: Проверим, имеется ли различия в долях переходов групп A и группы B для событий: login, product_page, product_cart и purchase"
   ]
  },
  {
   "cell_type": "markdown",
   "metadata": {},
   "source": [
    "<div class=\"alert alert-info\"> <b>Комментарии студента:</b> \n",
    "\n",
    "Группа А больше группы В, вероятность попасть в группу А отличается от 50%.\n",
    "\n",
    "Мы смотрим на изменение показателей во времени по различным группам.\n",
    "\n",
    "</div>"
   ]
  },
  {
   "cell_type": "markdown",
   "metadata": {},
   "source": [
    "Мы приняли уровень статистической значимости для для нашего теста в 5%. Коррекция уровня значимости наших гипотез принята для одновременного проведения 3-х тестов. Уровень статистической значимости alpha был выбран 0.0167 или 0.05/3."
   ]
  },
  {
   "cell_type": "code",
   "execution_count": 59,
   "metadata": {},
   "outputs": [
    {
     "data": {
      "text/plain": [
       "0.016666666666666666"
      ]
     },
     "execution_count": 59,
     "metadata": {},
     "output_type": "execute_result"
    }
   ],
   "source": [
    "alpha = 0.05\n",
    "alpha = alpha / 3\n",
    "alpha"
   ]
  },
  {
   "cell_type": "markdown",
   "metadata": {},
   "source": [
    "**Определим число уникальных пользователей совершавших события login, product_page, product_cart и purchase**"
   ]
  },
  {
   "cell_type": "code",
   "execution_count": 60,
   "metadata": {},
   "outputs": [],
   "source": [
    "login_A = AB_events_EU.query('group == \"A\" and event_name == \"login\"')\n",
    "login_A_nunique = login_A['user_id'].nunique()\n",
    "login_B = AB_events_EU.query('group == \"B\" and event_name == \"login\"')\n",
    "login_B_nunique = login_B['user_id'].nunique()"
   ]
  },
  {
   "cell_type": "code",
   "execution_count": 61,
   "metadata": {},
   "outputs": [],
   "source": [
    "product_page_A = AB_events_EU.query('group == \"A\" and event_name == \"product_page\"')\n",
    "product_page_A_nunique = product_page_A['user_id'].nunique()\n",
    "product_page_B = AB_events_EU.query('group == \"B\" and event_name == \"product_page\"')\n",
    "product_page_B_nunique = product_page_B['user_id'].nunique()"
   ]
  },
  {
   "cell_type": "code",
   "execution_count": 62,
   "metadata": {},
   "outputs": [],
   "source": [
    "product_cart_A = AB_events_EU.query('group == \"A\" and event_name == \"product_cart\"')\n",
    "product_cart_A_nunique = product_cart_A['user_id'].nunique()\n",
    "product_cart_B = AB_events_EU.query('group == \"B\" and event_name == \"product_cart\"')\n",
    "product_cart_B_nunique = product_cart_B['user_id'].nunique()"
   ]
  },
  {
   "cell_type": "code",
   "execution_count": 63,
   "metadata": {},
   "outputs": [],
   "source": [
    "purchase_A = AB_events_EU.query('group == \"A\" and event_name == \"purchase\"')\n",
    "purchase_A_nunique = purchase_A['user_id'].nunique()\n",
    "purchase_B = AB_events_EU.query('group == \"B\" and event_name == \"purchase\"')\n",
    "purchase_B_nunique = purchase_B['user_id'].nunique()"
   ]
  },
  {
   "cell_type": "markdown",
   "metadata": {},
   "source": [
    "**Проверим, находят гипотезу о равенстве долей между выборками групп A и группы B для перехода с события login на product_page**"
   ]
  },
  {
   "cell_type": "markdown",
   "metadata": {},
   "source": [
    "<b>Нулевая гипотеза:</b>  Пропорций двух генеральных совокупностей выборки группы A и выборки группы В для события product_page равны.\n",
    "\n",
    "<b>Альтернативная гипотеза:</b>  Пропорций двух генеральных совокупностей выборки группы A и выборки группы В для события product_page  <b>не</b> равны."
   ]
  },
  {
   "cell_type": "code",
   "execution_count": 64,
   "metadata": {},
   "outputs": [],
   "source": [
    "successes = np.array([product_page_A_nunique, product_page_B_nunique])\n",
    "trials = np.array([login_A_nunique, login_B_nunique])\n",
    "\n",
    "# пропорция успехов в первой группе:\n",
    "p1 = successes[0]/trials[0]\n",
    "\n",
    "# пропорция успехов во второй группе:\n",
    "p2 = successes[1]/trials[1]\n",
    "\n",
    "# пропорция успехов в комбинированном датасете:\n",
    "p_combined = (successes[0] + successes[1]) / (trials[0] + trials[1])\n",
    "\n",
    "# разница пропорций в датасетах\n",
    "difference = p1 - p2 "
   ]
  },
  {
   "cell_type": "code",
   "execution_count": 65,
   "metadata": {},
   "outputs": [],
   "source": [
    "# считаем статистику в ст.отклонениях стандартного нормального распределения\n",
    "z_value = difference / mth.sqrt(p_combined * (1 - p_combined) * (1/trials[0] + 1/trials[1]))\n",
    "\n",
    "# задаем стандартное нормальное распределение (среднее 0, ст.отклонение 1)\n",
    "distr = st.norm(0, 1)"
   ]
  },
  {
   "cell_type": "code",
   "execution_count": 66,
   "metadata": {},
   "outputs": [
    {
     "name": "stdout",
     "output_type": "stream",
     "text": [
      "p-значение:  5.084368080776613e-06\n",
      "Отвергаем нулевую гипотезу: между долями есть значимая разница\n"
     ]
    }
   ],
   "source": [
    "# считаем статистику в ст.отклонениях стандартного нормального распределения\n",
    "z_value = difference / mth.sqrt(\n",
    "    p_combined * (1 - p_combined) * (1 / trials[0] + 1 / trials[1])\n",
    ")\n",
    "\n",
    "# задаем стандартное нормальное распределение (среднее 0, ст.отклонение 1)\n",
    "distr = st.norm(0, 1)\n",
    "\n",
    "p_value = (1 - distr.cdf(abs(z_value))) * 2\n",
    "\n",
    "print('p-значение: ', p_value)\n",
    "\n",
    "if p_value < alpha:\n",
    "    print('Отвергаем нулевую гипотезу: между долями есть значимая разница')\n",
    "else:\n",
    "    print(\n",
    "        'Не получилось отвергнуть нулевую гипотезу, нет оснований считать доли разными'\n",
    "    ) "
   ]
  },
  {
   "cell_type": "code",
   "execution_count": 67,
   "metadata": {},
   "outputs": [
    {
     "name": "stdout",
     "output_type": "stream",
     "text": [
      "Ожидаемый эффект для события \"product_page\": 71.3%\n"
     ]
    }
   ],
   "source": [
    "print('Ожидаемый эффект для события \"product_page\": {:.1%}'.\n",
    "      format(product_page_A_nunique / login_A_nunique *1.1))"
   ]
  },
  {
   "cell_type": "code",
   "execution_count": 68,
   "metadata": {
    "scrolled": true
   },
   "outputs": [
    {
     "name": "stdout",
     "output_type": "stream",
     "text": [
      "Полученный эффект для события \"product_page\": 56.4%\n"
     ]
    }
   ],
   "source": [
    "print('Полученный эффект для события \"product_page\": {:.1%}'.\n",
    "      format(product_page_B_nunique / login_B_nunique))"
   ]
  },
  {
   "cell_type": "markdown",
   "metadata": {},
   "source": [
    "Для события \"product_page\" произошло значительное уменьшение показателей вместо прогнозируемого увеличения на 10%"
   ]
  },
  {
   "cell_type": "markdown",
   "metadata": {},
   "source": [
    "**Проверим, находят гипотезу о равенстве долей между выборками групп A и группы B для перехода с события product_page на product_cart**"
   ]
  },
  {
   "cell_type": "markdown",
   "metadata": {},
   "source": [
    "<b>Нулевая гипотеза:</b>  Пропорций двух генеральных совокупностей выборки группы A и выборки группы В для события product_cart равны.\n",
    "\n",
    "<b>Альтернативная гипотеза:</b>  Пропорций двух генеральных совокупностей выборки группы A и выборки группы В для события product_cart  <b>не</b> равны."
   ]
  },
  {
   "cell_type": "code",
   "execution_count": 69,
   "metadata": {},
   "outputs": [],
   "source": [
    "successes = np.array([product_cart_A_nunique, product_cart_B_nunique])\n",
    "trials = np.array([product_page_A_nunique, product_page_B_nunique])\n",
    "\n",
    "# пропорция успехов в первой группе:\n",
    "p1 = successes[0]/trials[0]\n",
    "\n",
    "# пропорция успехов во второй группе:\n",
    "p2 = successes[1]/trials[1]\n",
    "\n",
    "# пропорция успехов в комбинированном датасете:\n",
    "p_combined = (successes[0] + successes[1]) / (trials[0] + trials[1])\n",
    "\n",
    "# разница пропорций в датасетах\n",
    "difference = p1 - p2 "
   ]
  },
  {
   "cell_type": "code",
   "execution_count": 70,
   "metadata": {},
   "outputs": [],
   "source": [
    "# считаем статистику в ст.отклонениях стандартного нормального распределения\n",
    "z_value = difference / mth.sqrt(p_combined * (1 - p_combined) * (1/trials[0] + 1/trials[1]))\n",
    "\n",
    "# задаем стандартное нормальное распределение (среднее 0, ст.отклонение 1)\n",
    "distr = st.norm(0, 1)"
   ]
  },
  {
   "cell_type": "code",
   "execution_count": 71,
   "metadata": {},
   "outputs": [
    {
     "name": "stdout",
     "output_type": "stream",
     "text": [
      "p-значение:  0.32062049601759046\n",
      "Не получилось отвергнуть нулевую гипотезу, нет оснований считать доли разными\n"
     ]
    }
   ],
   "source": [
    "# считаем статистику в ст.отклонениях стандартного нормального распределения\n",
    "z_value = difference / mth.sqrt(\n",
    "    p_combined * (1 - p_combined) * (1 / trials[0] + 1 / trials[1])\n",
    ")\n",
    "\n",
    "# задаем стандартное нормальное распределение (среднее 0, ст.отклонение 1)\n",
    "distr = st.norm(0, 1)\n",
    "\n",
    "p_value = (1 - distr.cdf(abs(z_value))) * 2\n",
    "\n",
    "print('p-значение: ', p_value)\n",
    "\n",
    "if p_value < alpha:\n",
    "    print('Отвергаем нулевую гипотезу: между долями есть значимая разница')\n",
    "else:\n",
    "    print(\n",
    "        'Не получилось отвергнуть нулевую гипотезу, нет оснований считать доли разными'\n",
    "    ) "
   ]
  },
  {
   "cell_type": "code",
   "execution_count": 72,
   "metadata": {},
   "outputs": [
    {
     "name": "stdout",
     "output_type": "stream",
     "text": [
      "Ожидаемый эффект для события \"product_page\": 50.9%\n"
     ]
    }
   ],
   "source": [
    "print('Ожидаемый эффект для события \"product_page\": {:.1%}'.\n",
    "      format(product_cart_A_nunique / product_page_A_nunique *1.1))"
   ]
  },
  {
   "cell_type": "code",
   "execution_count": 73,
   "metadata": {},
   "outputs": [
    {
     "name": "stdout",
     "output_type": "stream",
     "text": [
      "Полученный эффект для события \"product_page\": 48.8%\n"
     ]
    }
   ],
   "source": [
    "print('Полученный эффект для события \"product_page\": {:.1%}'.\n",
    "      format(product_cart_B_nunique / product_page_B_nunique))"
   ]
  },
  {
   "cell_type": "markdown",
   "metadata": {},
   "source": [
    "Для события \"product_cart\" произошло незначительное уменьшение показателей вместо прогнозируемого увеличения на 10%"
   ]
  },
  {
   "cell_type": "markdown",
   "metadata": {},
   "source": [
    "**Проверим, находят гипотезу о равенстве долей между выборками групп A и группы B для перехода с события product_cart на purchase**"
   ]
  },
  {
   "cell_type": "markdown",
   "metadata": {},
   "source": [
    "<b>Нулевая гипотеза:</b>  Пропорций двух генеральных совокупностей выборки группы A и выборки группы В для события purchase равны.\n",
    "\n",
    "<b>Альтернативная гипотеза:</b>  Пропорций двух генеральных совокупностей выборки группы A и выборки группы В для события purchase  <b>не</b> равны."
   ]
  },
  {
   "cell_type": "code",
   "execution_count": 74,
   "metadata": {},
   "outputs": [],
   "source": [
    "successes = np.array([product_cart_A_nunique, product_cart_B_nunique]) \n",
    "trials = np.array([purchase_A_nunique, purchase_B_nunique])\n",
    "\n",
    "# пропорция успехов в первой группе:\n",
    "p1 = successes[0]/trials[0]\n",
    "\n",
    "# пропорция успехов во второй группе:\n",
    "p2 = successes[1]/trials[1]\n",
    "\n",
    "# пропорция успехов в комбинированном датасете:\n",
    "p_combined = (successes[0] + successes[1]) / (trials[0] + trials[1])\n",
    "\n",
    "# разница пропорций в датасетах\n",
    "difference = p1 - p2 "
   ]
  },
  {
   "cell_type": "code",
   "execution_count": 75,
   "metadata": {},
   "outputs": [],
   "source": [
    "# считаем статистику в ст.отклонениях стандартного нормального распределения\n",
    "z_value = difference / mth.sqrt(p_combined * (1 - p_combined) * (1/trials[0] + 1/trials[1]))\n",
    "\n",
    "# задаем стандартное нормальное распределение (среднее 0, ст.отклонение 1)\n",
    "distr = st.norm(0, 1)"
   ]
  },
  {
   "cell_type": "code",
   "execution_count": 76,
   "metadata": {},
   "outputs": [
    {
     "name": "stdout",
     "output_type": "stream",
     "text": [
      "p-значение:  0.00041675077401071015\n",
      "Отвергаем нулевую гипотезу: между долями есть значимая разница\n"
     ]
    }
   ],
   "source": [
    "# считаем статистику в ст.отклонениях стандартного нормального распределения\n",
    "z_value = difference / mth.sqrt(\n",
    "    p_combined * (1 - p_combined) * (1 / trials[0] + 1 / trials[1])\n",
    ")\n",
    "\n",
    "# задаем стандартное нормальное распределение (среднее 0, ст.отклонение 1)\n",
    "distr = st.norm(0, 1)\n",
    "\n",
    "p_value = (1 - distr.cdf(abs(z_value))) * 2\n",
    "\n",
    "print('p-значение: ', p_value)\n",
    "\n",
    "if p_value < alpha:\n",
    "    print('Отвергаем нулевую гипотезу: между долями есть значимая разница')\n",
    "else:\n",
    "    print(\n",
    "        'Не получилось отвергнуть нулевую гипотезу, нет оснований считать доли разными'\n",
    "    ) "
   ]
  },
  {
   "cell_type": "code",
   "execution_count": 78,
   "metadata": {},
   "outputs": [
    {
     "name": "stdout",
     "output_type": "stream",
     "text": [
      "Ожидаемый эффект для события \"product_page\": 116.4%\n"
     ]
    }
   ],
   "source": [
    "print('Ожидаемый эффект для события \"product_page\": {:.1%}'.\n",
    "      format(purchase_A_nunique / product_cart_A_nunique *1.1))"
   ]
  },
  {
   "cell_type": "code",
   "execution_count": 79,
   "metadata": {},
   "outputs": [
    {
     "name": "stdout",
     "output_type": "stream",
     "text": [
      "Полученный эффект для события \"product_page\": 100.4%\n"
     ]
    }
   ],
   "source": [
    "print('Полученный эффект для события \"product_page\": {:.1%}'.\n",
    "      format(purchase_B_nunique / product_cart_B_nunique))"
   ]
  },
  {
   "cell_type": "markdown",
   "metadata": {},
   "source": [
    "Для события \"purchase\" произошло значительное уменьшение показателей вместо прогнозируемого увеличения на 10%"
   ]
  },
  {
   "cell_type": "markdown",
   "metadata": {},
   "source": [
    "<div class=\"alert alert-success\">\n",
    "<b>Шаг 4. Вывод:</b>\n",
    "\n",
    "Мы провели два теста и получили следующие результаты:\n",
    "    \n",
    "<b>ТЕСТ_1: Проверим, находят ли статистические критерии разницу между выборками A и B</b>\n",
    "    \n",
    "<b>Нулевая гипотеза:</b>  Среднее генеральной совокупности числа пользователей выборки группы А и выборки группы В равны между собой.\n",
    "\n",
    "<b>Альтернативная гипотеза:</b>  Среднее генеральной совокупности числа пользователей выборки группы А и выборки группы В <b>не</b> равны между собой.\n",
    "    \n",
    "<b>Нулевая гипотеза отвергается: вероятность попасть в группу А отличается от 50%</b>\n",
    "    \n",
    "<b>ТЕСТ: Проверим, имеется ли различия в долях переходов групп A и группы B для событий: login, product_page, product_cart и purchase</b>   \n",
    "\n",
    "<b>Нулевая гипотеза:</b>  Пропорций двух генеральных совокупностей выборки группы A и выборки группы В для события product_page равны.\n",
    "\n",
    "<b>Альтернативная гипотеза:</b>  Пропорций двух генеральных совокупностей выборки группы A и выборки группы В для события product_page  <b>не</b> равны.    \n",
    "    \n",
    "Отвергаем нулевую гипотезу: между долями есть значимая разница    \n",
    "    \n",
    "Для события \"product_page\" произошло значительное уменьшение показателей вместо прогнозируемого увеличения на 10%\n",
    "        \n",
    "<b>Нулевая гипотеза:</b>  Пропорций двух генеральных совокупностей выборки группы A и выборки группы В для события product_cart равны.\n",
    "\n",
    "<b>Альтернативная гипотеза:</b>  Пропорций двух генеральных совокупностей выборки группы A и выборки группы В для события product_cart  <b>не</b> равны.    \n",
    "    \n",
    "Не получилось отвергнуть нулевую гипотезу, нет оснований считать доли разными    \n",
    "    \n",
    "Для события \"product_cart\" произошло незначительное уменьшение показателей вместо прогнозируемого увеличения на 10%\n",
    "    \n",
    "<b>Нулевая гипотеза:</b>  Пропорций двух генеральных совокупностей выборки группы A и выборки группы В для события purchase равны.\n",
    "\n",
    "<b>Альтернативная гипотеза:</b>  Пропорций двух генеральных совокупностей выборки группы A и выборки группы В для события purchase  <b>не</b> равны.    \n",
    "    \n",
    "Отвергаем нулевую гипотезу: между долями есть значимая разница    \n",
    "    \n",
    "Для события \"purchase\" произошло значительное уменьшение показателей вместо прогнозируемого увеличения на 10%    \n",
    "    \n",
    "<b>Вывод:</b>\n",
    "    \n",
    "    Между долями выборки группы A и выборки группы В для события product_pageесть значимая разница, произошло значительное уменьшение показателей;    \n",
    "    Между долями выборки группы A и выборки группы В для события product_cart нет значимой разницы, произошло незначительное уменьшение показателей;\n",
    "    Между долями выборки группы A и выборки группы В для события purchase значимая разница, произошло значительное уменьшение показателей.\n",
    "    \n",
    "</div>"
   ]
  },
  {
   "cell_type": "markdown",
   "metadata": {},
   "source": [
    "# Шаг 5. Общий вывод"
   ]
  },
  {
   "cell_type": "markdown",
   "metadata": {},
   "source": [
    "<div class=\"alert alert-info\" role=\"alert\">\n",
    " \n",
    "Мы провели оценку результатов A/B-теста. \n",
    "    \n",
    "В вашем распоряжении датасет с действиями пользователей, техническое задание и несколько вспомогательных датасетов.\n",
    "\n",
    "Оценили корректность проведения теста\n",
    "    \n",
    "Проанализировали результаты теста\n",
    "    \n",
    "    \n",
    "    Техническое задание\n",
    "    Название теста: recommender_system_test;\n",
    "    Группы: А (контрольная), B (новая платёжная воронка);\n",
    "    Дата запуска: 2020-12-07;\n",
    "    Дата остановки набора новых пользователей: 2020-12-21;\n",
    "    Дата остановки: 2021-01-04;\n",
    "    Аудитория: 15% новых пользователей из региона EU;\n",
    "    Назначение теста: тестирование изменений, связанных с внедрением улучшенной рекомендательной системы;\n",
    "    Ожидаемое количество участников теста: 6000.\n",
    "    Ожидаемый эффект: за 14 дней с момента регистрации в системе пользователи покажут улучшение каждой метрики не менее, чем на 10%:\n",
    "    конверсии в просмотр карточек товаров — событие product_page\n",
    "    просмотры корзины — product_cart\n",
    "    покупки — purchase.\n",
    "\n",
    "<b>Описание данных:</b>\n",
    "    \n",
    " Колонки в `ab_project_marketing_events` - календарь маркетинговых событий на 2020 год:\n",
    "\n",
    "- `name` — название маркетингового события\n",
    "- `regions` — регионы, в которых будет проводиться рекламная кампания\n",
    "- `start_dt` — дата начала кампании\n",
    "- `finish_dt` — дата завершения кампании\n",
    "\n",
    " Колонки в `final_ab_new_users` - все пользователи, зарегистрировавшиеся в интернет-магазине в период с 7 по 21 декабря 2020 года:\n",
    "\n",
    "- `user_id` — идентификатор пользователя\n",
    "- `first_date` — дата регистрации\n",
    "- `region` — регион пользователя\n",
    "- `device` — устройство, с которого происходила регистрация   \n",
    "    \n",
    " Колонки в `final_ab_events` - все события новых пользователей в период с 7 декабря 2020 по 4 января 2021 года:\n",
    "\n",
    "- `user_id` — идентификатор пользователя\n",
    "- `event_dt` — дата и время события\n",
    "- `event_name` — тип события \n",
    "- `details` — дополнительные данные о событии. Например, для покупок, `purchase`, в этом поле хранится стоимость покупки в долларах \n",
    "    \n",
    " Колонки в `final_ab_participants` - таблица участников тестов:\n",
    "\n",
    "- `user_id` — идентификатор пользователя\n",
    "- `ab_test` — название теста\n",
    "- `group` — группа пользователя      \n",
    "    \n",
    "\n",
    "<b>Шаг 1. Загрузим данные, подготовим данные и изучим общую информацию </b>\n",
    "    \n",
    "Данные представляют 4 датасета:\n",
    "\n",
    "-`ab_project_marketing_events` - календарь маркетинговых событий на 2020 год:\n",
    "\n",
    "    Мы обладаем календарем событий в различных регионах за 2020 год. Всего в календаре 14 событий.\n",
    "    \n",
    "-`final_ab_new_users` - все пользователи, зарегистрировавшиеся в интернет-магазине в период с 7 по 21 декабря 2020 года:\n",
    "\n",
    "    В данных 61733 новых уникальных пользователя, большую часть которых составляют из региона EU, далее идут пользователи из N.America и малую долю занимают APAC и CIS, которые зарегестрировались с 07 декабря 2020 года по 23 декабрем 2020 года    \n",
    "\n",
    "-`final_ab_events` - все события новых пользователей в период с 7 декабря 2020 по 4 января 2021 года:\n",
    "\n",
    "    У нас 4 типа события:\n",
    "        - login - посещение страницы регистрации;\n",
    "        - product_page - посещение страницы с продуктом;\n",
    "        - product_cart - просмотр корзины;\n",
    "        - purchase - посещение страницы с оплатой.\n",
    "    В данных 58703 новых уникальных пользователя, которые совершили события с 07 декабря 2020 года по 30 декабрем 2020 года\n",
    "\n",
    "-`final_ab_participants` - таблица участников тестов:\n",
    "    \n",
    "    По мимо нашего АВ-теста recommender_system_test параллельно проводится еще один тест interface_eu_test. \n",
    "    Число уникальных пользователей АВ-теста recommender_system_test составляет 6701 человек.    \n",
    "    В группе А немного больше пользователей, чем в группе В    \n",
    "\n",
    "<b>Шаг 2.  Изучим данные приведем их в соответствие с ТЗ</b>\n",
    "    \n",
    "Дата остановки набора новых пользователей составляет 21 декабря 2020 года, наши данные представлены с набором новых пользователей до 23 декабрем 2020 года. Отбросим даты не входящие в ТЗ\n",
    "    \n",
    "Дата остановки теста определена как 04 января, по данным совершения события новых пользователей, последняя дата события составляет 30 декаабря. Это скорее всего связано с тем, что в регионе EU начинаются рождественские каникулы, все магазины закрываются, а покупки совершаются заранее. Так мы видим увеличение числа событий в период с 10 по 20-е декабря и потом с 20-го декабря уменьшение активности до минимальных значений. Данное событие скорее всего сильно окажет влияние на наш тест    \n",
    "    \n",
    "Пересечение аудитории 2-х тестов составляет 1602 человека. Второй тест более глобальный и может оказывать больше влияние на поведение пользователей. Но мы не можем убрать данных пересекающихся пользователей, поскольку не выполним пунк ТЗ о количестве участников в 6000. Оставляем уникальных пользователей теста 'interface_eu_test' без изменений    \n",
    "    \n",
    "Наш тест попадает под событие 'Christmas&New Year Promo' проходящий в EU и N.America с 25 декабря по 03 января, что будет влиять на его результаты.\n",
    "\n",
    "Также наш тест попадает под событие 'CIS New Year Gift Lottery' проходящий в CIS с 30 декабря по 07 января, поскольку данное событие проходит в другом регионе, влиять на результаты оно не сможет.\n",
    "\n",
    "    \n",
    "Наши пользователи АВ-теста оказались зарегестрированы в основном в регионе EU, но малая их доля находится во всех остальных регионах APAC, CIS и N.America. Это скорее все связано с тем, что пользователь мог совершать в это время поездку в один из регионов. Оставим пользователей АВ-теста без изменений\n",
    "    \n",
    "Процент новых пользователей из региона EU составляет 14.5% и очень близок к ТЗ    \n",
    "    \n",
    "Количество участников теста составляет 6701 человек, что соответствует ТЗ\n",
    "    \n",
    "Датасет AB_events_EU содержит события, которые были позже 14 дней с момента регистрации согласно ТЗ\n",
    "    \n",
    "Проводить тест в данных условиях некорректно поскольку он попадаетпод рождественские каникулы, которые сильно влияют на покупательскую способность в данном регионе. В последних числах декабря покупательская способность падает до минимальных значений за указанный период, далее она отсутствует, что очень сильно отразится на результатах АВ-теста\n",
    "    \n",
    "<b>Шаг 3. Изучим воронку событий</b>  \n",
    "\n",
    "4 события при покупке товара распределены следующим образом:\n",
    "    \n",
    "    - посещение страницы регистрации (login) 10 794 события;\n",
    "    - посещение страницы с продуктом (product_page) 6684 события;\n",
    "    - просмотр корзины (product_cart) 3146 события;\n",
    "    - посещение страницы с оплатой (purchase) 3232 события.\n",
    "    \n",
    "Посещение страницы с оплатой немного больше просмотров корзины, это скорее всего зависит от возможности оплаты без перехода в корзину.\n",
    "    \n",
    "События совершенные уникальными пользователями при покупке товара распределены следующим образом:\n",
    "\n",
    "    - посещение страницы регистрации (login) 3674 пользователей;\n",
    "    - посещение страницы с продуктом (product_page) 2303 пользователей;\n",
    "    - просмотр корзины (product_cart) 1079 пользователей;\n",
    "    - посещение страницы с оплатой (purchase) 1128 пользователей.\n",
    "    \n",
    "Доля пользователей при покупке товара распределена следующим образом:\n",
    "\n",
    "    - доля посещения страницы с продуктом (product_page) составляет 62.7% от общего числа зарегестрировааных пользователей;\n",
    "    - доля просмотра корзины (product_cart) составляет 29.4% от общего числа зарегестрировааных пользователей;\n",
    "    - доля посещения страницы с оплатой (purchase) составляет 30.7% от общего числа зарегестрировааных пользователей.\n",
    "    \n",
    "Доля пользователей, которая доходит от первого события до оплаты составляет 29.4%\n",
    "    \n",
    "Доля пользователей, которая проходит на следующий шаг воронки:\n",
    "\n",
    "    - доля пользователей, которая проходит на страницу с продуктом: 62.7%;\n",
    "    - доля пользователей, которая проходит на просмотр корзины: 46.9%;\n",
    "    - доля пользователей, которая проходит на страницу с оплатой: 104.5%.\n",
    "    \n",
    "Доля тех, кто оплачивает товары без перехода в корзину составляет 4.5%.\n",
    "\n",
    "Больше всего пользователей теряется на втором шаге, то есть при переходе на просмотр корзины -  46.9% пользователей переходят к просмотру корзины.\n",
    "    \n",
    "Для увеличения конверсии надо будет посмотреть на то, как пользователи ведут себя на сайте: \n",
    "\n",
    "Переход на <b> страницу с продуктом </b> - по каким ссылкам переходят пользователи; на каких продуктах они отваливаются; изучить тепловую карту кликов и сделать выводы какие страницы с продуктами нужно изменить; вывести наиболее интерсное предложение на главную страницу; посмотреть, как влияет дизайт страниц приложения (может отталкивать); Упростить доступ к каталогу или сделать его интуитивно понятным.\n",
    "\n",
    "Переход на <b> просмотр корзины </b> - расположить значок корзины в доступном месте или там где его всегда видно, упростить форму корзины, возможно некоторым пользователям  она не нравится.\n",
    "\n",
    "Посещение <b>страницы с оплатой </b> - при оплате товара расположить значок корзины на видном месте для возможности ее пополнения. \n",
    "    \n",
    "<b>Шаг 4. Проанализируем A/B-тест и построим графики</b>    \n",
    "    \n",
    "Мы провели два теста и получили следующие результаты:\n",
    "       \n",
    "<b>ТЕСТ_1: Проверим, находят ли статистические критерии разницу между выборками A и B</b>\n",
    "    \n",
    "<b>Нулевая гипотеза:</b>  Среднее генеральной совокупности числа пользователей выборки группы А и выборки группы В равны между собой.\n",
    "\n",
    "<b>Альтернативная гипотеза:</b>  Среднее генеральной совокупности числа пользователей выборки группы А и выборки группы В <b>не</b> равны между собой.\n",
    "    \n",
    "<b>Нулевая гипотеза отвергается: вероятность попасть в группу А отличается от 50%</b>\n",
    "    \n",
    "<b>ТЕСТ_2: Проверим, имеется ли различия в долях переходов групп A и группы B для событий: login, product_page, product_cart и purchase</b>   \n",
    "\n",
    "<b>Нулевая гипотеза:</b>  Пропорций двух генеральных совокупностей выборки группы A и выборки группы В для события product_page равны.\n",
    "\n",
    "<b>Альтернативная гипотеза:</b>  Пропорций двух генеральных совокупностей выборки группы A и выборки группы В для события product_page  <b>не</b> равны.    \n",
    "    \n",
    "Отвергаем нулевую гипотезу: между долями есть значимая разница    \n",
    "    \n",
    "Для события \"product_page\" произошло значительное уменьшение показателей вместо прогнозируемого увеличения на 10%\n",
    "        \n",
    "<b>Нулевая гипотеза:</b>  Пропорций двух генеральных совокупностей выборки группы A и выборки группы В для события product_cart равны.\n",
    "\n",
    "<b>Альтернативная гипотеза:</b>  Пропорций двух генеральных совокупностей выборки группы A и выборки группы В для события product_cart  <b>не</b> равны.    \n",
    "    \n",
    "Не получилось отвергнуть нулевую гипотезу, нет оснований считать доли разными    \n",
    "    \n",
    "Для события \"product_cart\" произошло незначительное уменьшение показателей вместо прогнозируемого увеличения на 10%\n",
    "    \n",
    "<b>Нулевая гипотеза:</b>  Пропорций двух генеральных совокупностей выборки группы A и выборки группы В для события purchase равны.\n",
    "\n",
    "<b>Альтернативная гипотеза:</b>  Пропорций двух генеральных совокупностей выборки группы A и выборки группы В для события purchase  <b>не</b> равны.    \n",
    "    \n",
    "Отвергаем нулевую гипотезу: между долями есть значимая разница    \n",
    "    \n",
    "Для события \"purchase\" произошло значительное уменьшение показателей вместо прогнозируемого увеличения на 10%    \n",
    "    \n",
    "<b>Вывод:</b>\n",
    "    \n",
    "    Между долями выборки группы A и выборки группы В для события product_pageесть значимая разница, произошло значительное уменьшение показателей;    \n",
    "    Между долями выборки группы A и выборки группы В для события product_cart нет значимой разницы, произошло незначительное уменьшение показателей;\n",
    "    Между долями выборки группы A и выборки группы В для события purchase значимая разница, произошло значительное уменьшение показателей.\n",
    "    \n",
    "<b>Шаг 5. Общий вывод</b> \n",
    "    \n",
    "Результаты тестов получились неоднозначные:\n",
    "    \n",
    "С одной стороны нам удалось получить данные близкие к ТЗ, но с 30 декабря по 04 января магазины были закрыты, покупки не проводились.\n",
    "    \n",
    "С другой стороны сильное влияние на покупательскую способность и поведение играют рожденственские каникулы, вследствие чего у нас огромные изменения по метрикам и не в лучшую сторону. Есть уменьшение числа пользователей по всей воронке событий. В последние дни декабря число клиентов и их покупки начали резко падать, что и отразилось на результатах. \n",
    "    \n",
    "Вывод: \n",
    "\n",
    "Проводить тест в данных условиях некорректно поскольку он попадаетпод рождественские каникулы, которые сильно влияют на покупательскую способность в данном регионе. В последних числах декабря покупательская способность падает до минимальных значений за указанный период, далее она отсутствует, что очень сильно отразится на результатах АВ-теста\n",
    "    \n",
    "Рекомендуем провести АВ-тестирование после завершения рождественских каникул, чтобы исключить их влияние на тест\n",
    "    \n",
    "</div>"
   ]
  }
 ],
 "metadata": {
  "ExecuteTimeLog": [
   {
    "duration": 1433,
    "start_time": "2021-07-31T08:00:23.018Z"
   },
   {
    "duration": 22,
    "start_time": "2021-07-31T08:00:24.454Z"
   },
   {
    "duration": 19,
    "start_time": "2021-07-31T08:00:24.479Z"
   },
   {
    "duration": 730,
    "start_time": "2021-07-31T08:00:24.500Z"
   },
   {
    "duration": 40,
    "start_time": "2021-07-31T08:00:25.232Z"
   },
   {
    "duration": 172,
    "start_time": "2021-07-31T08:00:25.275Z"
   },
   {
    "duration": 78,
    "start_time": "2021-07-31T08:00:25.449Z"
   },
   {
    "duration": 83,
    "start_time": "2021-07-31T08:00:25.531Z"
   },
   {
    "duration": 274,
    "start_time": "2021-07-31T08:00:25.617Z"
   },
   {
    "duration": 106,
    "start_time": "2021-07-31T08:00:25.893Z"
   },
   {
    "duration": 15,
    "start_time": "2021-07-31T08:00:26.001Z"
   },
   {
    "duration": 31,
    "start_time": "2021-07-31T08:00:26.018Z"
   },
   {
    "duration": 26,
    "start_time": "2021-07-31T08:00:26.068Z"
   },
   {
    "duration": 30,
    "start_time": "2021-07-31T08:00:26.096Z"
   },
   {
    "duration": 44,
    "start_time": "2021-07-31T08:00:26.129Z"
   },
   {
    "duration": 6,
    "start_time": "2021-07-31T08:00:26.175Z"
   },
   {
    "duration": 20,
    "start_time": "2021-07-31T08:00:26.183Z"
   },
   {
    "duration": 41,
    "start_time": "2021-07-31T08:00:26.205Z"
   },
   {
    "duration": 21,
    "start_time": "2021-07-31T08:00:26.248Z"
   },
   {
    "duration": 17,
    "start_time": "2021-07-31T08:00:26.271Z"
   },
   {
    "duration": 20,
    "start_time": "2021-07-31T08:00:26.290Z"
   },
   {
    "duration": 12,
    "start_time": "2021-07-31T08:00:26.312Z"
   },
   {
    "duration": 40,
    "start_time": "2021-07-31T08:00:26.331Z"
   },
   {
    "duration": 27,
    "start_time": "2021-07-31T08:00:26.376Z"
   },
   {
    "duration": 623,
    "start_time": "2021-07-31T08:00:26.405Z"
   },
   {
    "duration": 10,
    "start_time": "2021-07-31T08:00:27.031Z"
   },
   {
    "duration": 10,
    "start_time": "2021-07-31T08:00:27.068Z"
   },
   {
    "duration": 15,
    "start_time": "2021-07-31T08:00:27.081Z"
   },
   {
    "duration": 16,
    "start_time": "2021-07-31T08:00:27.099Z"
   },
   {
    "duration": 110,
    "start_time": "2021-07-31T08:00:27.118Z"
   },
   {
    "duration": 40,
    "start_time": "2021-07-31T08:00:27.231Z"
   },
   {
    "duration": 11,
    "start_time": "2021-07-31T08:00:27.274Z"
   },
   {
    "duration": 18,
    "start_time": "2021-07-31T08:00:27.288Z"
   },
   {
    "duration": 6,
    "start_time": "2021-07-31T08:00:27.309Z"
   },
   {
    "duration": 270,
    "start_time": "2021-07-31T08:00:27.317Z"
   },
   {
    "duration": 5,
    "start_time": "2021-07-31T08:00:27.590Z"
   },
   {
    "duration": 18,
    "start_time": "2021-07-31T08:00:27.598Z"
   },
   {
    "duration": 18,
    "start_time": "2021-07-31T08:00:27.618Z"
   },
   {
    "duration": 34,
    "start_time": "2021-07-31T08:00:27.638Z"
   },
   {
    "duration": 26,
    "start_time": "2021-07-31T08:00:27.674Z"
   },
   {
    "duration": 374,
    "start_time": "2021-07-31T08:00:27.702Z"
   },
   {
    "duration": 47,
    "start_time": "2021-07-31T08:00:28.078Z"
   },
   {
    "duration": 383,
    "start_time": "2021-07-31T08:00:28.127Z"
   },
   {
    "duration": 61,
    "start_time": "2021-07-31T08:00:28.513Z"
   },
   {
    "duration": 6,
    "start_time": "2021-07-31T08:00:28.577Z"
   },
   {
    "duration": 8,
    "start_time": "2021-07-31T08:00:28.586Z"
   },
   {
    "duration": 20,
    "start_time": "2021-07-31T08:00:28.596Z"
   },
   {
    "duration": 10,
    "start_time": "2021-07-31T08:00:28.618Z"
   },
   {
    "duration": 40,
    "start_time": "2021-07-31T08:00:28.631Z"
   },
   {
    "duration": 10,
    "start_time": "2021-07-31T08:00:28.673Z"
   },
   {
    "duration": 5,
    "start_time": "2021-07-31T08:00:28.685Z"
   },
   {
    "duration": 8,
    "start_time": "2021-07-31T08:00:28.692Z"
   },
   {
    "duration": 10,
    "start_time": "2021-07-31T08:00:28.703Z"
   },
   {
    "duration": 51,
    "start_time": "2021-07-31T08:00:28.716Z"
   },
   {
    "duration": 16,
    "start_time": "2021-07-31T08:00:28.770Z"
   },
   {
    "duration": 86,
    "start_time": "2021-07-31T08:00:28.788Z"
   },
   {
    "duration": 25,
    "start_time": "2021-07-31T08:00:28.876Z"
   },
   {
    "duration": 15,
    "start_time": "2021-07-31T08:00:28.903Z"
   },
   {
    "duration": 95,
    "start_time": "2021-07-31T08:00:28.920Z"
   },
   {
    "duration": 15,
    "start_time": "2021-07-31T08:00:29.017Z"
   },
   {
    "duration": 14,
    "start_time": "2021-07-31T08:00:29.034Z"
   },
   {
    "duration": 69,
    "start_time": "2021-07-31T08:00:29.068Z"
   },
   {
    "duration": 32,
    "start_time": "2021-07-31T08:00:29.139Z"
   },
   {
    "duration": 14,
    "start_time": "2021-07-31T08:00:29.173Z"
   },
   {
    "duration": 87,
    "start_time": "2021-07-31T08:00:29.189Z"
   },
   {
    "duration": 12,
    "start_time": "2021-07-31T08:00:29.279Z"
   },
   {
    "duration": 14,
    "start_time": "2021-07-31T08:00:29.293Z"
   },
   {
    "duration": 91,
    "start_time": "2021-07-31T08:00:29.316Z"
   },
   {
    "duration": 22,
    "start_time": "2021-07-31T08:00:29.410Z"
   },
   {
    "duration": 35,
    "start_time": "2021-07-31T08:00:29.434Z"
   },
   {
    "duration": 77,
    "start_time": "2021-07-31T08:00:29.471Z"
   },
   {
    "duration": 20,
    "start_time": "2021-07-31T08:00:29.550Z"
   },
   {
    "duration": 14,
    "start_time": "2021-07-31T08:00:29.572Z"
   },
   {
    "duration": 95,
    "start_time": "2021-07-31T08:00:29.589Z"
   },
   {
    "duration": 14,
    "start_time": "2021-07-31T08:00:29.687Z"
   },
   {
    "duration": 15,
    "start_time": "2021-07-31T08:00:29.703Z"
   },
   {
    "duration": 92,
    "start_time": "2021-07-31T08:00:29.720Z"
   },
   {
    "duration": 92,
    "start_time": "2021-07-31T08:00:29.815Z"
   },
   {
    "duration": 21,
    "start_time": "2021-07-31T08:00:29.910Z"
   },
   {
    "duration": 379,
    "start_time": "2021-07-31T08:00:29.933Z"
   },
   {
    "duration": 370,
    "start_time": "2021-07-31T08:00:30.314Z"
   },
   {
    "duration": 474,
    "start_time": "2021-07-31T08:00:30.686Z"
   },
   {
    "duration": 367,
    "start_time": "2021-07-31T08:00:31.162Z"
   },
   {
    "duration": 6,
    "start_time": "2021-07-31T08:00:31.532Z"
   },
   {
    "duration": 35,
    "start_time": "2021-07-31T08:00:31.541Z"
   },
   {
    "duration": 9,
    "start_time": "2021-07-31T08:00:31.579Z"
   },
   {
    "duration": 22,
    "start_time": "2021-07-31T08:00:31.590Z"
   },
   {
    "duration": 20,
    "start_time": "2021-07-31T08:00:31.614Z"
   },
   {
    "duration": 15,
    "start_time": "2021-07-31T08:00:31.636Z"
   },
   {
    "duration": 6,
    "start_time": "2021-07-31T08:00:31.666Z"
   },
   {
    "duration": 17,
    "start_time": "2021-07-31T08:00:31.674Z"
   },
   {
    "duration": 9,
    "start_time": "2021-07-31T08:00:31.693Z"
   },
   {
    "duration": 14,
    "start_time": "2021-07-31T08:00:31.704Z"
   },
   {
    "duration": 24,
    "start_time": "2021-07-31T08:00:31.720Z"
   },
   {
    "duration": 21,
    "start_time": "2021-07-31T08:00:31.746Z"
   },
   {
    "duration": 5,
    "start_time": "2021-07-31T08:00:31.770Z"
   },
   {
    "duration": 27,
    "start_time": "2021-07-31T08:00:31.777Z"
   },
   {
    "duration": 23,
    "start_time": "2021-07-31T08:00:31.806Z"
   },
   {
    "duration": 16,
    "start_time": "2021-07-31T08:00:31.832Z"
   },
   {
    "duration": 24,
    "start_time": "2021-07-31T08:00:31.851Z"
   },
   {
    "duration": 14,
    "start_time": "2021-07-31T08:00:31.878Z"
   },
   {
    "duration": 18,
    "start_time": "2021-07-31T08:00:31.895Z"
   },
   {
    "duration": 487,
    "start_time": "2021-07-31T08:12:50.998Z"
   },
   {
    "duration": 20,
    "start_time": "2021-07-31T08:13:03.680Z"
   },
   {
    "duration": 52,
    "start_time": "2021-07-31T08:13:11.104Z"
   },
   {
    "duration": 7,
    "start_time": "2021-07-31T08:40:05.574Z"
   },
   {
    "duration": 1069,
    "start_time": "2021-07-31T10:29:22.443Z"
   },
   {
    "duration": 20,
    "start_time": "2021-07-31T10:29:23.514Z"
   },
   {
    "duration": 14,
    "start_time": "2021-07-31T10:29:23.536Z"
   },
   {
    "duration": 542,
    "start_time": "2021-07-31T10:29:23.552Z"
   },
   {
    "duration": 17,
    "start_time": "2021-07-31T10:29:24.096Z"
   },
   {
    "duration": 105,
    "start_time": "2021-07-31T10:29:24.115Z"
   },
   {
    "duration": 53,
    "start_time": "2021-07-31T10:29:24.221Z"
   },
   {
    "duration": 47,
    "start_time": "2021-07-31T10:29:24.277Z"
   },
   {
    "duration": 180,
    "start_time": "2021-07-31T10:29:24.327Z"
   },
   {
    "duration": 68,
    "start_time": "2021-07-31T10:29:24.509Z"
   },
   {
    "duration": 9,
    "start_time": "2021-07-31T10:29:24.579Z"
   },
   {
    "duration": 18,
    "start_time": "2021-07-31T10:29:24.590Z"
   },
   {
    "duration": 36,
    "start_time": "2021-07-31T10:29:24.610Z"
   },
   {
    "duration": 18,
    "start_time": "2021-07-31T10:29:24.648Z"
   },
   {
    "duration": 7,
    "start_time": "2021-07-31T10:29:24.667Z"
   },
   {
    "duration": 4,
    "start_time": "2021-07-31T10:29:24.676Z"
   },
   {
    "duration": 9,
    "start_time": "2021-07-31T10:29:24.682Z"
   },
   {
    "duration": 28,
    "start_time": "2021-07-31T10:29:24.692Z"
   },
   {
    "duration": 26,
    "start_time": "2021-07-31T10:29:24.721Z"
   },
   {
    "duration": 7,
    "start_time": "2021-07-31T10:29:24.748Z"
   },
   {
    "duration": 10,
    "start_time": "2021-07-31T10:29:24.756Z"
   },
   {
    "duration": 5,
    "start_time": "2021-07-31T10:29:24.767Z"
   },
   {
    "duration": 10,
    "start_time": "2021-07-31T10:29:24.776Z"
   },
   {
    "duration": 19,
    "start_time": "2021-07-31T10:29:24.789Z"
   },
   {
    "duration": 377,
    "start_time": "2021-07-31T10:29:24.810Z"
   },
   {
    "duration": 7,
    "start_time": "2021-07-31T10:29:25.188Z"
   },
   {
    "duration": 4,
    "start_time": "2021-07-31T10:29:25.197Z"
   },
   {
    "duration": 8,
    "start_time": "2021-07-31T10:29:25.203Z"
   },
   {
    "duration": 29,
    "start_time": "2021-07-31T10:29:25.213Z"
   },
   {
    "duration": 38,
    "start_time": "2021-07-31T10:29:25.244Z"
   },
   {
    "duration": 11,
    "start_time": "2021-07-31T10:29:25.284Z"
   },
   {
    "duration": 8,
    "start_time": "2021-07-31T10:29:25.297Z"
   },
   {
    "duration": 36,
    "start_time": "2021-07-31T10:29:25.306Z"
   },
   {
    "duration": 4,
    "start_time": "2021-07-31T10:29:25.344Z"
   },
   {
    "duration": 162,
    "start_time": "2021-07-31T10:29:25.349Z"
   },
   {
    "duration": 4,
    "start_time": "2021-07-31T10:29:25.513Z"
   },
   {
    "duration": 13,
    "start_time": "2021-07-31T10:29:25.518Z"
   },
   {
    "duration": 13,
    "start_time": "2021-07-31T10:29:25.540Z"
   },
   {
    "duration": 10,
    "start_time": "2021-07-31T10:29:25.554Z"
   },
   {
    "duration": 18,
    "start_time": "2021-07-31T10:29:25.565Z"
   },
   {
    "duration": 202,
    "start_time": "2021-07-31T10:29:25.584Z"
   },
   {
    "duration": 32,
    "start_time": "2021-07-31T10:29:25.787Z"
   },
   {
    "duration": 207,
    "start_time": "2021-07-31T10:29:25.820Z"
   },
   {
    "duration": 37,
    "start_time": "2021-07-31T10:29:26.028Z"
   },
   {
    "duration": 3,
    "start_time": "2021-07-31T10:29:26.067Z"
   },
   {
    "duration": 9,
    "start_time": "2021-07-31T10:29:26.072Z"
   },
   {
    "duration": 15,
    "start_time": "2021-07-31T10:29:26.083Z"
   },
   {
    "duration": 8,
    "start_time": "2021-07-31T10:29:26.100Z"
   },
   {
    "duration": 8,
    "start_time": "2021-07-31T10:29:26.110Z"
   },
   {
    "duration": 25,
    "start_time": "2021-07-31T10:29:26.119Z"
   },
   {
    "duration": 3,
    "start_time": "2021-07-31T10:29:26.145Z"
   },
   {
    "duration": 6,
    "start_time": "2021-07-31T10:29:26.149Z"
   },
   {
    "duration": 7,
    "start_time": "2021-07-31T10:29:26.156Z"
   },
   {
    "duration": 7,
    "start_time": "2021-07-31T10:29:26.165Z"
   },
   {
    "duration": 12,
    "start_time": "2021-07-31T10:29:26.174Z"
   },
   {
    "duration": 69,
    "start_time": "2021-07-31T10:29:26.188Z"
   },
   {
    "duration": 27,
    "start_time": "2021-07-31T10:29:26.259Z"
   },
   {
    "duration": 9,
    "start_time": "2021-07-31T10:29:26.287Z"
   },
   {
    "duration": 39,
    "start_time": "2021-07-31T10:29:26.298Z"
   },
   {
    "duration": 10,
    "start_time": "2021-07-31T10:29:26.341Z"
   },
   {
    "duration": 8,
    "start_time": "2021-07-31T10:29:26.353Z"
   },
   {
    "duration": 41,
    "start_time": "2021-07-31T10:29:26.363Z"
   },
   {
    "duration": 8,
    "start_time": "2021-07-31T10:29:26.406Z"
   },
   {
    "duration": 11,
    "start_time": "2021-07-31T10:29:26.415Z"
   },
   {
    "duration": 50,
    "start_time": "2021-07-31T10:29:26.427Z"
   },
   {
    "duration": 9,
    "start_time": "2021-07-31T10:29:26.479Z"
   },
   {
    "duration": 12,
    "start_time": "2021-07-31T10:29:26.490Z"
   },
   {
    "duration": 51,
    "start_time": "2021-07-31T10:29:26.507Z"
   },
   {
    "duration": 14,
    "start_time": "2021-07-31T10:29:26.560Z"
   },
   {
    "duration": 8,
    "start_time": "2021-07-31T10:29:26.576Z"
   },
   {
    "duration": 55,
    "start_time": "2021-07-31T10:29:26.586Z"
   },
   {
    "duration": 7,
    "start_time": "2021-07-31T10:29:26.642Z"
   },
   {
    "duration": 14,
    "start_time": "2021-07-31T10:29:26.651Z"
   },
   {
    "duration": 43,
    "start_time": "2021-07-31T10:29:26.667Z"
   },
   {
    "duration": 9,
    "start_time": "2021-07-31T10:29:26.712Z"
   },
   {
    "duration": 18,
    "start_time": "2021-07-31T10:29:26.723Z"
   },
   {
    "duration": 46,
    "start_time": "2021-07-31T10:29:26.743Z"
   },
   {
    "duration": 59,
    "start_time": "2021-07-31T10:29:26.791Z"
   },
   {
    "duration": 17,
    "start_time": "2021-07-31T10:29:26.852Z"
   },
   {
    "duration": 206,
    "start_time": "2021-07-31T10:29:26.870Z"
   },
   {
    "duration": 203,
    "start_time": "2021-07-31T10:29:27.078Z"
   },
   {
    "duration": 203,
    "start_time": "2021-07-31T10:29:27.283Z"
   },
   {
    "duration": 195,
    "start_time": "2021-07-31T10:29:27.487Z"
   },
   {
    "duration": 3,
    "start_time": "2021-07-31T10:29:27.684Z"
   },
   {
    "duration": 15,
    "start_time": "2021-07-31T10:29:27.688Z"
   },
   {
    "duration": 10,
    "start_time": "2021-07-31T10:29:27.704Z"
   },
   {
    "duration": 15,
    "start_time": "2021-07-31T10:29:27.715Z"
   },
   {
    "duration": 7,
    "start_time": "2021-07-31T10:29:27.731Z"
   },
   {
    "duration": 24,
    "start_time": "2021-07-31T10:29:27.740Z"
   },
   {
    "duration": 12,
    "start_time": "2021-07-31T10:29:27.765Z"
   },
   {
    "duration": 19,
    "start_time": "2021-07-31T10:29:27.779Z"
   },
   {
    "duration": 10,
    "start_time": "2021-07-31T10:29:27.800Z"
   },
   {
    "duration": 20,
    "start_time": "2021-07-31T10:29:27.812Z"
   },
   {
    "duration": 15,
    "start_time": "2021-07-31T10:29:27.833Z"
   },
   {
    "duration": 13,
    "start_time": "2021-07-31T10:29:27.850Z"
   },
   {
    "duration": 14,
    "start_time": "2021-07-31T10:29:27.865Z"
   },
   {
    "duration": 18,
    "start_time": "2021-07-31T10:29:27.880Z"
   },
   {
    "duration": 9,
    "start_time": "2021-07-31T10:29:27.900Z"
   },
   {
    "duration": 16,
    "start_time": "2021-07-31T10:29:27.910Z"
   },
   {
    "duration": 9,
    "start_time": "2021-07-31T10:29:27.928Z"
   },
   {
    "duration": 18,
    "start_time": "2021-07-31T10:29:27.939Z"
   },
   {
    "duration": 7,
    "start_time": "2021-07-31T10:29:27.959Z"
   },
   {
    "duration": 6,
    "start_time": "2021-07-31T10:30:34.546Z"
   },
   {
    "duration": 5,
    "start_time": "2021-07-31T10:30:53.906Z"
   },
   {
    "duration": 172,
    "start_time": "2021-07-31T10:31:06.364Z"
   },
   {
    "duration": 23,
    "start_time": "2021-07-31T10:31:20.204Z"
   },
   {
    "duration": 9,
    "start_time": "2021-07-31T10:31:37.916Z"
   },
   {
    "duration": 1015,
    "start_time": "2021-07-31T11:02:55.419Z"
   },
   {
    "duration": 1044,
    "start_time": "2021-07-31T11:03:14.790Z"
   },
   {
    "duration": 6,
    "start_time": "2021-07-31T11:03:29.297Z"
   },
   {
    "duration": 6,
    "start_time": "2021-07-31T11:03:51.521Z"
   },
   {
    "duration": 15,
    "start_time": "2021-07-31T11:04:08.591Z"
   },
   {
    "duration": 7,
    "start_time": "2021-07-31T11:04:09.464Z"
   },
   {
    "duration": 273,
    "start_time": "2021-07-31T11:04:15.503Z"
   },
   {
    "duration": 16,
    "start_time": "2021-07-31T11:04:41.760Z"
   },
   {
    "duration": 9,
    "start_time": "2021-07-31T11:04:42.383Z"
   },
   {
    "duration": 244,
    "start_time": "2021-07-31T11:04:43.655Z"
   },
   {
    "duration": 30,
    "start_time": "2021-07-31T11:06:27.923Z"
   },
   {
    "duration": 7,
    "start_time": "2021-07-31T11:07:10.429Z"
   },
   {
    "duration": 190,
    "start_time": "2021-07-31T11:07:13.477Z"
   },
   {
    "duration": 28,
    "start_time": "2021-07-31T11:07:20.029Z"
   },
   {
    "duration": 7,
    "start_time": "2021-07-31T11:07:20.637Z"
   },
   {
    "duration": 1083,
    "start_time": "2021-07-31T11:07:29.012Z"
   },
   {
    "duration": 19,
    "start_time": "2021-07-31T11:07:30.097Z"
   },
   {
    "duration": 16,
    "start_time": "2021-07-31T11:07:30.119Z"
   },
   {
    "duration": 16,
    "start_time": "2021-07-31T11:07:30.137Z"
   },
   {
    "duration": 519,
    "start_time": "2021-07-31T11:07:30.154Z"
   },
   {
    "duration": 19,
    "start_time": "2021-07-31T11:07:30.675Z"
   },
   {
    "duration": 111,
    "start_time": "2021-07-31T11:07:30.695Z"
   },
   {
    "duration": 46,
    "start_time": "2021-07-31T11:07:30.808Z"
   },
   {
    "duration": 60,
    "start_time": "2021-07-31T11:07:30.856Z"
   },
   {
    "duration": 176,
    "start_time": "2021-07-31T11:07:30.917Z"
   },
   {
    "duration": 191,
    "start_time": "2021-07-31T11:07:31.095Z"
   },
   {
    "duration": 78,
    "start_time": "2021-07-31T11:07:31.287Z"
   },
   {
    "duration": 9,
    "start_time": "2021-07-31T11:07:31.366Z"
   },
   {
    "duration": 23,
    "start_time": "2021-07-31T11:07:31.376Z"
   },
   {
    "duration": 15,
    "start_time": "2021-07-31T11:07:31.400Z"
   },
   {
    "duration": 18,
    "start_time": "2021-07-31T11:07:31.417Z"
   },
   {
    "duration": 7,
    "start_time": "2021-07-31T11:07:31.437Z"
   },
   {
    "duration": 5,
    "start_time": "2021-07-31T11:07:31.445Z"
   },
   {
    "duration": 10,
    "start_time": "2021-07-31T11:07:31.452Z"
   },
   {
    "duration": 26,
    "start_time": "2021-07-31T11:07:31.463Z"
   },
   {
    "duration": 67,
    "start_time": "2021-07-31T11:07:31.490Z"
   },
   {
    "duration": 7,
    "start_time": "2021-07-31T11:07:31.559Z"
   },
   {
    "duration": 5,
    "start_time": "2021-07-31T11:07:31.570Z"
   },
   {
    "duration": 9,
    "start_time": "2021-07-31T11:07:31.577Z"
   },
   {
    "duration": 4,
    "start_time": "2021-07-31T11:07:31.587Z"
   },
   {
    "duration": 21,
    "start_time": "2021-07-31T11:07:31.592Z"
   },
   {
    "duration": 7,
    "start_time": "2021-07-31T11:07:31.615Z"
   },
   {
    "duration": 19,
    "start_time": "2021-07-31T11:07:31.624Z"
   },
   {
    "duration": 476,
    "start_time": "2021-07-31T11:07:31.645Z"
   },
   {
    "duration": 6,
    "start_time": "2021-07-31T11:07:32.123Z"
   },
   {
    "duration": 4,
    "start_time": "2021-07-31T11:07:32.141Z"
   },
   {
    "duration": 9,
    "start_time": "2021-07-31T11:07:32.147Z"
   },
   {
    "duration": 9,
    "start_time": "2021-07-31T11:07:32.158Z"
   },
   {
    "duration": 38,
    "start_time": "2021-07-31T11:07:32.169Z"
   },
   {
    "duration": 36,
    "start_time": "2021-07-31T11:07:32.209Z"
   },
   {
    "duration": 7,
    "start_time": "2021-07-31T11:07:32.247Z"
   },
   {
    "duration": 15,
    "start_time": "2021-07-31T11:07:32.256Z"
   },
   {
    "duration": 4,
    "start_time": "2021-07-31T11:07:32.273Z"
   },
   {
    "duration": 163,
    "start_time": "2021-07-31T11:07:32.278Z"
   },
   {
    "duration": 4,
    "start_time": "2021-07-31T11:07:32.443Z"
   },
   {
    "duration": 11,
    "start_time": "2021-07-31T11:07:32.449Z"
   },
   {
    "duration": 13,
    "start_time": "2021-07-31T11:07:32.461Z"
   },
   {
    "duration": 13,
    "start_time": "2021-07-31T11:07:32.475Z"
   },
   {
    "duration": 6,
    "start_time": "2021-07-31T11:07:32.489Z"
   },
   {
    "duration": 213,
    "start_time": "2021-07-31T11:07:32.496Z"
   },
   {
    "duration": 34,
    "start_time": "2021-07-31T11:07:32.711Z"
   },
   {
    "duration": 6,
    "start_time": "2021-07-31T11:07:32.747Z"
   },
   {
    "duration": 197,
    "start_time": "2021-07-31T11:07:32.754Z"
   },
   {
    "duration": 28,
    "start_time": "2021-07-31T11:07:32.953Z"
   },
   {
    "duration": 3,
    "start_time": "2021-07-31T11:07:32.983Z"
   },
   {
    "duration": 16,
    "start_time": "2021-07-31T11:07:32.987Z"
   },
   {
    "duration": 25,
    "start_time": "2021-07-31T11:07:33.005Z"
   },
   {
    "duration": 16,
    "start_time": "2021-07-31T11:07:33.032Z"
   },
   {
    "duration": 7,
    "start_time": "2021-07-31T11:07:33.049Z"
   },
   {
    "duration": 6,
    "start_time": "2021-07-31T11:07:33.058Z"
   },
   {
    "duration": 3,
    "start_time": "2021-07-31T11:07:33.065Z"
   },
   {
    "duration": 6,
    "start_time": "2021-07-31T11:07:33.069Z"
   },
   {
    "duration": 6,
    "start_time": "2021-07-31T11:07:33.076Z"
   },
   {
    "duration": 6,
    "start_time": "2021-07-31T11:07:33.084Z"
   },
   {
    "duration": 11,
    "start_time": "2021-07-31T11:07:33.092Z"
   },
   {
    "duration": 67,
    "start_time": "2021-07-31T11:07:33.105Z"
   },
   {
    "duration": 13,
    "start_time": "2021-07-31T11:07:33.174Z"
   },
   {
    "duration": 10,
    "start_time": "2021-07-31T11:07:33.188Z"
   },
   {
    "duration": 54,
    "start_time": "2021-07-31T11:07:33.199Z"
   },
   {
    "duration": 8,
    "start_time": "2021-07-31T11:07:33.255Z"
   },
   {
    "duration": 9,
    "start_time": "2021-07-31T11:07:33.265Z"
   },
   {
    "duration": 41,
    "start_time": "2021-07-31T11:07:33.276Z"
   },
   {
    "duration": 19,
    "start_time": "2021-07-31T11:07:33.322Z"
   },
   {
    "duration": 17,
    "start_time": "2021-07-31T11:07:33.343Z"
   },
   {
    "duration": 39,
    "start_time": "2021-07-31T11:07:33.362Z"
   },
   {
    "duration": 9,
    "start_time": "2021-07-31T11:07:33.402Z"
   },
   {
    "duration": 8,
    "start_time": "2021-07-31T11:07:33.413Z"
   },
   {
    "duration": 54,
    "start_time": "2021-07-31T11:07:33.423Z"
   },
   {
    "duration": 15,
    "start_time": "2021-07-31T11:07:33.479Z"
   },
   {
    "duration": 8,
    "start_time": "2021-07-31T11:07:33.496Z"
   },
   {
    "duration": 61,
    "start_time": "2021-07-31T11:07:33.506Z"
   },
   {
    "duration": 8,
    "start_time": "2021-07-31T11:07:33.569Z"
   },
   {
    "duration": 8,
    "start_time": "2021-07-31T11:07:33.579Z"
   },
   {
    "duration": 56,
    "start_time": "2021-07-31T11:07:33.589Z"
   },
   {
    "duration": 25,
    "start_time": "2021-07-31T11:07:33.647Z"
   },
   {
    "duration": 11,
    "start_time": "2021-07-31T11:07:33.674Z"
   },
   {
    "duration": 53,
    "start_time": "2021-07-31T11:07:33.686Z"
   },
   {
    "duration": 46,
    "start_time": "2021-07-31T11:07:33.741Z"
   },
   {
    "duration": 13,
    "start_time": "2021-07-31T11:07:33.789Z"
   },
   {
    "duration": 208,
    "start_time": "2021-07-31T11:07:33.803Z"
   },
   {
    "duration": 204,
    "start_time": "2021-07-31T11:07:34.013Z"
   },
   {
    "duration": 216,
    "start_time": "2021-07-31T11:07:34.219Z"
   },
   {
    "duration": 200,
    "start_time": "2021-07-31T11:07:34.440Z"
   },
   {
    "duration": 3,
    "start_time": "2021-07-31T11:07:34.642Z"
   },
   {
    "duration": 9,
    "start_time": "2021-07-31T11:07:34.647Z"
   },
   {
    "duration": 6,
    "start_time": "2021-07-31T11:07:34.657Z"
   },
   {
    "duration": 8,
    "start_time": "2021-07-31T11:07:34.665Z"
   },
   {
    "duration": 6,
    "start_time": "2021-07-31T11:07:34.674Z"
   },
   {
    "duration": 9,
    "start_time": "2021-07-31T11:07:34.681Z"
   },
   {
    "duration": 3,
    "start_time": "2021-07-31T11:07:34.692Z"
   },
   {
    "duration": 7,
    "start_time": "2021-07-31T11:07:34.697Z"
   },
   {
    "duration": 3,
    "start_time": "2021-07-31T11:07:34.706Z"
   },
   {
    "duration": 34,
    "start_time": "2021-07-31T11:07:34.711Z"
   },
   {
    "duration": 7,
    "start_time": "2021-07-31T11:07:34.746Z"
   },
   {
    "duration": 6,
    "start_time": "2021-07-31T11:07:34.755Z"
   },
   {
    "duration": 4,
    "start_time": "2021-07-31T11:07:34.762Z"
   },
   {
    "duration": 8,
    "start_time": "2021-07-31T11:07:34.767Z"
   },
   {
    "duration": 4,
    "start_time": "2021-07-31T11:07:34.776Z"
   },
   {
    "duration": 10,
    "start_time": "2021-07-31T11:07:34.782Z"
   },
   {
    "duration": 7,
    "start_time": "2021-07-31T11:07:34.794Z"
   },
   {
    "duration": 10,
    "start_time": "2021-07-31T11:07:34.803Z"
   },
   {
    "duration": 4,
    "start_time": "2021-07-31T11:07:34.815Z"
   },
   {
    "duration": 9,
    "start_time": "2021-07-31T11:08:06.673Z"
   },
   {
    "duration": 27,
    "start_time": "2021-07-31T11:08:37.536Z"
   },
   {
    "duration": 7,
    "start_time": "2021-07-31T11:08:38.337Z"
   },
   {
    "duration": 1417,
    "start_time": "2021-08-01T13:55:38.247Z"
   },
   {
    "duration": 21,
    "start_time": "2021-08-01T13:55:39.667Z"
   },
   {
    "duration": 16,
    "start_time": "2021-08-01T13:55:39.691Z"
   },
   {
    "duration": 7,
    "start_time": "2021-08-01T13:55:39.710Z"
   },
   {
    "duration": 660,
    "start_time": "2021-08-01T13:55:39.719Z"
   },
   {
    "duration": 27,
    "start_time": "2021-08-01T13:55:40.383Z"
   },
   {
    "duration": 184,
    "start_time": "2021-08-01T13:55:40.412Z"
   },
   {
    "duration": 64,
    "start_time": "2021-08-01T13:55:40.600Z"
   },
   {
    "duration": 72,
    "start_time": "2021-08-01T13:55:40.667Z"
   },
   {
    "duration": 269,
    "start_time": "2021-08-01T13:55:40.742Z"
   },
   {
    "duration": 283,
    "start_time": "2021-08-01T13:55:41.014Z"
   },
   {
    "duration": 99,
    "start_time": "2021-08-01T13:55:41.300Z"
   },
   {
    "duration": 15,
    "start_time": "2021-08-01T13:55:41.402Z"
   },
   {
    "duration": 25,
    "start_time": "2021-08-01T13:55:41.419Z"
   },
   {
    "duration": 52,
    "start_time": "2021-08-01T13:55:41.447Z"
   },
   {
    "duration": 30,
    "start_time": "2021-08-01T13:55:41.502Z"
   },
   {
    "duration": 12,
    "start_time": "2021-08-01T13:55:41.534Z"
   },
   {
    "duration": 39,
    "start_time": "2021-08-01T13:55:41.548Z"
   },
   {
    "duration": 17,
    "start_time": "2021-08-01T13:55:41.590Z"
   },
   {
    "duration": 36,
    "start_time": "2021-08-01T13:55:41.610Z"
   },
   {
    "duration": 51,
    "start_time": "2021-08-01T13:55:41.648Z"
   },
   {
    "duration": 13,
    "start_time": "2021-08-01T13:55:41.702Z"
   },
   {
    "duration": 6,
    "start_time": "2021-08-01T13:55:41.722Z"
   },
   {
    "duration": 12,
    "start_time": "2021-08-01T13:55:41.732Z"
   },
   {
    "duration": 42,
    "start_time": "2021-08-01T13:55:41.746Z"
   },
   {
    "duration": 17,
    "start_time": "2021-08-01T13:55:41.791Z"
   },
   {
    "duration": 13,
    "start_time": "2021-08-01T13:55:41.811Z"
   },
   {
    "duration": 60,
    "start_time": "2021-08-01T13:55:41.827Z"
   },
   {
    "duration": 580,
    "start_time": "2021-08-01T13:55:41.889Z"
   },
   {
    "duration": 21,
    "start_time": "2021-08-01T13:55:42.472Z"
   },
   {
    "duration": 9,
    "start_time": "2021-08-01T13:55:42.496Z"
   },
   {
    "duration": 14,
    "start_time": "2021-08-01T13:55:42.508Z"
   },
   {
    "duration": 14,
    "start_time": "2021-08-01T13:55:42.525Z"
   },
   {
    "duration": 57,
    "start_time": "2021-08-01T13:55:42.582Z"
   },
   {
    "duration": 18,
    "start_time": "2021-08-01T13:55:42.641Z"
   },
   {
    "duration": 14,
    "start_time": "2021-08-01T13:55:42.681Z"
   },
   {
    "duration": 27,
    "start_time": "2021-08-01T13:55:42.697Z"
   },
   {
    "duration": 8,
    "start_time": "2021-08-01T13:55:42.727Z"
   },
   {
    "duration": 324,
    "start_time": "2021-08-01T13:55:42.738Z"
   },
   {
    "duration": 7,
    "start_time": "2021-08-01T13:55:43.064Z"
   },
   {
    "duration": 15,
    "start_time": "2021-08-01T13:55:43.083Z"
   },
   {
    "duration": 22,
    "start_time": "2021-08-01T13:55:43.101Z"
   },
   {
    "duration": 24,
    "start_time": "2021-08-01T13:55:43.126Z"
   },
   {
    "duration": 40,
    "start_time": "2021-08-01T13:55:43.152Z"
   },
   {
    "duration": 326,
    "start_time": "2021-08-01T13:55:43.194Z"
   },
   {
    "duration": 41,
    "start_time": "2021-08-01T13:55:43.523Z"
   },
   {
    "duration": 23,
    "start_time": "2021-08-01T13:55:43.566Z"
   },
   {
    "duration": 331,
    "start_time": "2021-08-01T13:55:43.591Z"
   },
   {
    "duration": 43,
    "start_time": "2021-08-01T13:55:43.925Z"
   },
   {
    "duration": 5,
    "start_time": "2021-08-01T13:55:43.983Z"
   },
   {
    "duration": 13,
    "start_time": "2021-08-01T13:55:43.991Z"
   },
   {
    "duration": 17,
    "start_time": "2021-08-01T13:55:44.007Z"
   },
   {
    "duration": 12,
    "start_time": "2021-08-01T13:55:44.026Z"
   },
   {
    "duration": 43,
    "start_time": "2021-08-01T13:55:44.041Z"
   },
   {
    "duration": 9,
    "start_time": "2021-08-01T13:55:44.086Z"
   },
   {
    "duration": 3,
    "start_time": "2021-08-01T13:55:44.098Z"
   },
   {
    "duration": 8,
    "start_time": "2021-08-01T13:55:44.104Z"
   },
   {
    "duration": 8,
    "start_time": "2021-08-01T13:55:44.114Z"
   },
   {
    "duration": 14,
    "start_time": "2021-08-01T13:55:44.124Z"
   },
   {
    "duration": 53,
    "start_time": "2021-08-01T13:55:44.141Z"
   },
   {
    "duration": 72,
    "start_time": "2021-08-01T13:55:44.196Z"
   },
   {
    "duration": 22,
    "start_time": "2021-08-01T13:55:44.283Z"
   },
   {
    "duration": 15,
    "start_time": "2021-08-01T13:55:44.307Z"
   },
   {
    "duration": 98,
    "start_time": "2021-08-01T13:55:44.324Z"
   },
   {
    "duration": 12,
    "start_time": "2021-08-01T13:55:44.424Z"
   },
   {
    "duration": 16,
    "start_time": "2021-08-01T13:55:44.439Z"
   },
   {
    "duration": 99,
    "start_time": "2021-08-01T13:55:44.458Z"
   },
   {
    "duration": 11,
    "start_time": "2021-08-01T13:55:44.581Z"
   },
   {
    "duration": 16,
    "start_time": "2021-08-01T13:55:44.595Z"
   },
   {
    "duration": 90,
    "start_time": "2021-08-01T13:55:44.613Z"
   },
   {
    "duration": 13,
    "start_time": "2021-08-01T13:55:44.705Z"
   },
   {
    "duration": 15,
    "start_time": "2021-08-01T13:55:44.720Z"
   },
   {
    "duration": 90,
    "start_time": "2021-08-01T13:55:44.738Z"
   },
   {
    "duration": 26,
    "start_time": "2021-08-01T13:55:44.831Z"
   },
   {
    "duration": 30,
    "start_time": "2021-08-01T13:55:44.860Z"
   },
   {
    "duration": 67,
    "start_time": "2021-08-01T13:55:44.892Z"
   },
   {
    "duration": 27,
    "start_time": "2021-08-01T13:55:44.962Z"
   },
   {
    "duration": 13,
    "start_time": "2021-08-01T13:55:44.992Z"
   },
   {
    "duration": 96,
    "start_time": "2021-08-01T13:55:45.008Z"
   },
   {
    "duration": 12,
    "start_time": "2021-08-01T13:55:45.106Z"
   },
   {
    "duration": 20,
    "start_time": "2021-08-01T13:55:45.120Z"
   },
   {
    "duration": 82,
    "start_time": "2021-08-01T13:55:45.143Z"
   },
   {
    "duration": 90,
    "start_time": "2021-08-01T13:55:45.227Z"
   },
   {
    "duration": 19,
    "start_time": "2021-08-01T13:55:45.320Z"
   },
   {
    "duration": 348,
    "start_time": "2021-08-01T13:55:45.341Z"
   },
   {
    "duration": 348,
    "start_time": "2021-08-01T13:55:45.691Z"
   },
   {
    "duration": 343,
    "start_time": "2021-08-01T13:55:46.042Z"
   },
   {
    "duration": 359,
    "start_time": "2021-08-01T13:55:46.387Z"
   },
   {
    "duration": 5,
    "start_time": "2021-08-01T13:55:46.749Z"
   },
   {
    "duration": 26,
    "start_time": "2021-08-01T13:55:46.756Z"
   },
   {
    "duration": 5,
    "start_time": "2021-08-01T13:55:46.785Z"
   },
   {
    "duration": 13,
    "start_time": "2021-08-01T13:55:46.792Z"
   },
   {
    "duration": 14,
    "start_time": "2021-08-01T13:55:46.808Z"
   },
   {
    "duration": 10,
    "start_time": "2021-08-01T13:55:46.824Z"
   },
   {
    "duration": 9,
    "start_time": "2021-08-01T13:55:46.836Z"
   },
   {
    "duration": 8,
    "start_time": "2021-08-01T13:55:46.883Z"
   },
   {
    "duration": 10,
    "start_time": "2021-08-01T13:55:46.893Z"
   },
   {
    "duration": 10,
    "start_time": "2021-08-01T13:55:46.906Z"
   },
   {
    "duration": 11,
    "start_time": "2021-08-01T13:55:46.918Z"
   },
   {
    "duration": 12,
    "start_time": "2021-08-01T13:55:46.931Z"
   },
   {
    "duration": 10,
    "start_time": "2021-08-01T13:55:46.945Z"
   },
   {
    "duration": 28,
    "start_time": "2021-08-01T13:55:46.957Z"
   },
   {
    "duration": 6,
    "start_time": "2021-08-01T13:55:46.987Z"
   },
   {
    "duration": 11,
    "start_time": "2021-08-01T13:55:46.995Z"
   },
   {
    "duration": 12,
    "start_time": "2021-08-01T13:55:47.009Z"
   },
   {
    "duration": 13,
    "start_time": "2021-08-01T13:55:47.023Z"
   },
   {
    "duration": 5,
    "start_time": "2021-08-01T13:55:47.039Z"
   },
   {
    "duration": 19,
    "start_time": "2021-08-01T14:08:12.670Z"
   },
   {
    "duration": 10,
    "start_time": "2021-08-01T14:08:13.582Z"
   },
   {
    "duration": 340,
    "start_time": "2021-08-01T14:08:21.274Z"
   },
   {
    "duration": 40,
    "start_time": "2021-08-01T14:08:35.358Z"
   },
   {
    "duration": 10,
    "start_time": "2021-08-01T14:08:35.660Z"
   },
   {
    "duration": 394,
    "start_time": "2021-08-01T14:08:36.431Z"
   },
   {
    "duration": 41,
    "start_time": "2021-08-01T14:08:45.218Z"
   },
   {
    "duration": 5,
    "start_time": "2021-08-01T14:08:45.411Z"
   },
   {
    "duration": 12,
    "start_time": "2021-08-01T14:09:01.730Z"
   },
   {
    "duration": 66,
    "start_time": "2021-08-01T14:09:04.270Z"
   },
   {
    "duration": 13,
    "start_time": "2021-08-01T14:09:04.437Z"
   },
   {
    "duration": 348,
    "start_time": "2021-08-01T14:09:04.782Z"
   },
   {
    "duration": 44,
    "start_time": "2021-08-01T14:09:06.270Z"
   },
   {
    "duration": 4,
    "start_time": "2021-08-01T14:09:07.910Z"
   },
   {
    "duration": 6,
    "start_time": "2021-08-01T14:09:08.419Z"
   },
   {
    "duration": 11,
    "start_time": "2021-08-01T14:11:56.408Z"
   },
   {
    "duration": 15,
    "start_time": "2021-08-01T14:12:06.189Z"
   },
   {
    "duration": 14,
    "start_time": "2021-08-01T14:12:17.391Z"
   },
   {
    "duration": 13,
    "start_time": "2021-08-01T14:12:30.123Z"
   },
   {
    "duration": 16,
    "start_time": "2021-08-01T14:13:35.344Z"
   },
   {
    "duration": 18,
    "start_time": "2021-08-01T14:13:41.227Z"
   },
   {
    "duration": 29,
    "start_time": "2021-08-01T14:13:44.788Z"
   },
   {
    "duration": 10,
    "start_time": "2021-08-01T14:15:33.290Z"
   },
   {
    "duration": 9,
    "start_time": "2021-08-01T14:24:38.429Z"
   },
   {
    "duration": 12,
    "start_time": "2021-08-01T14:24:48.120Z"
   },
   {
    "duration": 1362,
    "start_time": "2021-08-01T15:23:34.463Z"
   },
   {
    "duration": 21,
    "start_time": "2021-08-01T15:23:35.827Z"
   },
   {
    "duration": 19,
    "start_time": "2021-08-01T15:23:35.852Z"
   },
   {
    "duration": 13,
    "start_time": "2021-08-01T15:23:35.874Z"
   },
   {
    "duration": 629,
    "start_time": "2021-08-01T15:23:35.890Z"
   },
   {
    "duration": 29,
    "start_time": "2021-08-01T15:23:36.521Z"
   },
   {
    "duration": 166,
    "start_time": "2021-08-01T15:23:36.552Z"
   },
   {
    "duration": 65,
    "start_time": "2021-08-01T15:23:36.723Z"
   },
   {
    "duration": 57,
    "start_time": "2021-08-01T15:23:36.791Z"
   },
   {
    "duration": 263,
    "start_time": "2021-08-01T15:23:36.850Z"
   },
   {
    "duration": 250,
    "start_time": "2021-08-01T15:23:37.116Z"
   },
   {
    "duration": 92,
    "start_time": "2021-08-01T15:23:37.368Z"
   },
   {
    "duration": 23,
    "start_time": "2021-08-01T15:23:37.462Z"
   },
   {
    "duration": 23,
    "start_time": "2021-08-01T15:23:37.487Z"
   },
   {
    "duration": 22,
    "start_time": "2021-08-01T15:23:37.512Z"
   },
   {
    "duration": 61,
    "start_time": "2021-08-01T15:23:37.536Z"
   },
   {
    "duration": 11,
    "start_time": "2021-08-01T15:23:37.599Z"
   },
   {
    "duration": 6,
    "start_time": "2021-08-01T15:23:37.612Z"
   },
   {
    "duration": 11,
    "start_time": "2021-08-01T15:23:37.621Z"
   },
   {
    "duration": 82,
    "start_time": "2021-08-01T15:23:37.634Z"
   },
   {
    "duration": 43,
    "start_time": "2021-08-01T15:23:37.719Z"
   },
   {
    "duration": 26,
    "start_time": "2021-08-01T15:23:37.765Z"
   },
   {
    "duration": 9,
    "start_time": "2021-08-01T15:23:37.800Z"
   },
   {
    "duration": 15,
    "start_time": "2021-08-01T15:23:37.813Z"
   },
   {
    "duration": 7,
    "start_time": "2021-08-01T15:23:37.830Z"
   },
   {
    "duration": 55,
    "start_time": "2021-08-01T15:23:37.840Z"
   },
   {
    "duration": 12,
    "start_time": "2021-08-01T15:23:37.898Z"
   },
   {
    "duration": 24,
    "start_time": "2021-08-01T15:23:37.912Z"
   },
   {
    "duration": 571,
    "start_time": "2021-08-01T15:23:37.938Z"
   },
   {
    "duration": 9,
    "start_time": "2021-08-01T15:23:38.511Z"
   },
   {
    "duration": 7,
    "start_time": "2021-08-01T15:23:38.522Z"
   },
   {
    "duration": 11,
    "start_time": "2021-08-01T15:23:38.531Z"
   },
   {
    "duration": 46,
    "start_time": "2021-08-01T15:23:38.544Z"
   },
   {
    "duration": 56,
    "start_time": "2021-08-01T15:23:38.592Z"
   },
   {
    "duration": 44,
    "start_time": "2021-08-01T15:23:38.650Z"
   },
   {
    "duration": 13,
    "start_time": "2021-08-01T15:23:38.697Z"
   },
   {
    "duration": 18,
    "start_time": "2021-08-01T15:23:38.713Z"
   },
   {
    "duration": 8,
    "start_time": "2021-08-01T15:23:38.734Z"
   },
   {
    "duration": 221,
    "start_time": "2021-08-01T15:23:38.783Z"
   },
   {
    "duration": 5,
    "start_time": "2021-08-01T15:23:39.006Z"
   },
   {
    "duration": 17,
    "start_time": "2021-08-01T15:23:39.013Z"
   },
   {
    "duration": 17,
    "start_time": "2021-08-01T15:23:39.032Z"
   },
   {
    "duration": 43,
    "start_time": "2021-08-01T15:23:39.051Z"
   },
   {
    "duration": 8,
    "start_time": "2021-08-01T15:23:39.097Z"
   },
   {
    "duration": 314,
    "start_time": "2021-08-01T15:23:39.107Z"
   },
   {
    "duration": 39,
    "start_time": "2021-08-01T15:23:39.424Z"
   },
   {
    "duration": 24,
    "start_time": "2021-08-01T15:23:39.465Z"
   },
   {
    "duration": 321,
    "start_time": "2021-08-01T15:23:39.492Z"
   },
   {
    "duration": 43,
    "start_time": "2021-08-01T15:23:39.816Z"
   },
   {
    "duration": 20,
    "start_time": "2021-08-01T15:23:39.862Z"
   },
   {
    "duration": 12,
    "start_time": "2021-08-01T15:23:39.885Z"
   },
   {
    "duration": 17,
    "start_time": "2021-08-01T15:23:39.900Z"
   },
   {
    "duration": 9,
    "start_time": "2021-08-01T15:23:39.920Z"
   },
   {
    "duration": 52,
    "start_time": "2021-08-01T15:23:39.932Z"
   },
   {
    "duration": 11,
    "start_time": "2021-08-01T15:23:39.987Z"
   },
   {
    "duration": 5,
    "start_time": "2021-08-01T15:23:40.000Z"
   },
   {
    "duration": 9,
    "start_time": "2021-08-01T15:23:40.007Z"
   },
   {
    "duration": 13,
    "start_time": "2021-08-01T15:23:40.019Z"
   },
   {
    "duration": 52,
    "start_time": "2021-08-01T15:23:40.035Z"
   },
   {
    "duration": 13,
    "start_time": "2021-08-01T15:23:40.090Z"
   },
   {
    "duration": 5,
    "start_time": "2021-08-01T15:23:40.106Z"
   },
   {
    "duration": 6,
    "start_time": "2021-08-01T15:29:11.640Z"
   },
   {
    "duration": 12,
    "start_time": "2021-08-01T15:33:36.170Z"
   },
   {
    "duration": 9,
    "start_time": "2021-08-01T15:33:36.367Z"
   },
   {
    "duration": 6,
    "start_time": "2021-08-01T15:33:36.552Z"
   },
   {
    "duration": 12,
    "start_time": "2021-08-01T15:34:51.867Z"
   },
   {
    "duration": 12,
    "start_time": "2021-08-01T15:35:13.581Z"
   },
   {
    "duration": 9,
    "start_time": "2021-08-01T15:35:13.790Z"
   },
   {
    "duration": 476,
    "start_time": "2021-08-01T15:35:23.446Z"
   },
   {
    "duration": 5,
    "start_time": "2021-08-01T15:35:47.053Z"
   },
   {
    "duration": 5,
    "start_time": "2021-08-01T15:35:52.373Z"
   },
   {
    "duration": 6,
    "start_time": "2021-08-01T15:36:08.829Z"
   },
   {
    "duration": 12,
    "start_time": "2021-08-01T15:36:17.380Z"
   },
   {
    "duration": 10,
    "start_time": "2021-08-01T15:36:17.597Z"
   },
   {
    "duration": 6,
    "start_time": "2021-08-01T15:36:17.805Z"
   },
   {
    "duration": 10,
    "start_time": "2021-08-01T15:37:04.194Z"
   },
   {
    "duration": 9,
    "start_time": "2021-08-01T15:37:22.564Z"
   },
   {
    "duration": 6,
    "start_time": "2021-08-01T15:37:30.020Z"
   },
   {
    "duration": 12,
    "start_time": "2021-08-01T15:43:03.026Z"
   },
   {
    "duration": 9,
    "start_time": "2021-08-01T15:43:21.263Z"
   },
   {
    "duration": 7,
    "start_time": "2021-08-01T15:43:36.719Z"
   },
   {
    "duration": 6,
    "start_time": "2021-08-01T15:53:23.871Z"
   },
   {
    "duration": 381,
    "start_time": "2021-08-01T15:57:39.480Z"
   },
   {
    "duration": 6,
    "start_time": "2021-08-01T16:23:22.183Z"
   },
   {
    "duration": 370,
    "start_time": "2021-08-01T16:23:53.266Z"
   },
   {
    "duration": 4,
    "start_time": "2021-08-01T16:24:12.393Z"
   },
   {
    "duration": 353,
    "start_time": "2021-08-01T16:24:15.903Z"
   },
   {
    "duration": 4,
    "start_time": "2021-08-01T16:24:27.378Z"
   },
   {
    "duration": 5,
    "start_time": "2021-08-01T16:24:27.953Z"
   },
   {
    "duration": 5,
    "start_time": "2021-08-01T16:24:28.426Z"
   },
   {
    "duration": 9,
    "start_time": "2021-08-01T16:24:49.297Z"
   },
   {
    "duration": 14,
    "start_time": "2021-08-01T16:31:00.898Z"
   },
   {
    "duration": 15,
    "start_time": "2021-08-01T16:31:01.315Z"
   },
   {
    "duration": 16,
    "start_time": "2021-08-01T16:31:01.747Z"
   },
   {
    "duration": 14,
    "start_time": "2021-08-01T16:31:02.075Z"
   },
   {
    "duration": 17,
    "start_time": "2021-08-01T18:58:24.774Z"
   },
   {
    "duration": 19,
    "start_time": "2021-08-01T18:58:36.655Z"
   },
   {
    "duration": 18,
    "start_time": "2021-08-01T18:59:01.015Z"
   },
   {
    "duration": 17,
    "start_time": "2021-08-01T18:59:34.607Z"
   },
   {
    "duration": 16,
    "start_time": "2021-08-01T18:59:35.062Z"
   },
   {
    "duration": 17,
    "start_time": "2021-08-01T18:59:35.327Z"
   },
   {
    "duration": 17,
    "start_time": "2021-08-01T19:01:03.168Z"
   },
   {
    "duration": 19,
    "start_time": "2021-08-01T19:01:03.373Z"
   },
   {
    "duration": 16,
    "start_time": "2021-08-01T19:01:03.549Z"
   },
   {
    "duration": 17,
    "start_time": "2021-08-01T19:01:03.741Z"
   },
   {
    "duration": 5,
    "start_time": "2021-08-01T19:05:24.466Z"
   },
   {
    "duration": 339,
    "start_time": "2021-08-01T19:05:25.217Z"
   },
   {
    "duration": 378,
    "start_time": "2021-08-01T19:05:28.330Z"
   },
   {
    "duration": 352,
    "start_time": "2021-08-01T19:05:47.464Z"
   },
   {
    "duration": 317,
    "start_time": "2021-08-01T19:05:48.665Z"
   },
   {
    "duration": 5,
    "start_time": "2021-08-01T19:05:56.136Z"
   },
   {
    "duration": 5,
    "start_time": "2021-08-01T19:05:56.976Z"
   },
   {
    "duration": 18,
    "start_time": "2021-08-01T19:06:12.344Z"
   },
   {
    "duration": 5,
    "start_time": "2021-08-01T19:06:22.648Z"
   },
   {
    "duration": 5,
    "start_time": "2021-08-01T19:06:47.360Z"
   },
   {
    "duration": 5,
    "start_time": "2021-08-01T19:06:55.799Z"
   },
   {
    "duration": 16,
    "start_time": "2021-08-01T19:07:50.650Z"
   },
   {
    "duration": 24,
    "start_time": "2021-08-01T19:07:52.678Z"
   },
   {
    "duration": 16,
    "start_time": "2021-08-01T19:07:52.862Z"
   },
   {
    "duration": 17,
    "start_time": "2021-08-01T19:07:53.214Z"
   },
   {
    "duration": 15,
    "start_time": "2021-08-01T19:07:53.423Z"
   },
   {
    "duration": 5,
    "start_time": "2021-08-01T19:08:02.430Z"
   },
   {
    "duration": 5,
    "start_time": "2021-08-01T19:08:02.990Z"
   },
   {
    "duration": 5,
    "start_time": "2021-08-01T19:08:03.470Z"
   },
   {
    "duration": 5,
    "start_time": "2021-08-01T19:08:03.990Z"
   },
   {
    "duration": 17,
    "start_time": "2021-08-01T19:08:27.173Z"
   },
   {
    "duration": 5,
    "start_time": "2021-08-01T19:08:27.639Z"
   },
   {
    "duration": 5,
    "start_time": "2021-08-01T19:08:28.390Z"
   },
   {
    "duration": 4,
    "start_time": "2021-08-01T19:08:28.798Z"
   },
   {
    "duration": 5,
    "start_time": "2021-08-01T19:08:29.013Z"
   },
   {
    "duration": 5,
    "start_time": "2021-08-01T19:08:29.789Z"
   },
   {
    "duration": 5,
    "start_time": "2021-08-01T19:08:55.125Z"
   },
   {
    "duration": 5,
    "start_time": "2021-08-01T19:09:00.550Z"
   },
   {
    "duration": 5,
    "start_time": "2021-08-01T19:09:10.709Z"
   },
   {
    "duration": 5,
    "start_time": "2021-08-01T19:09:25.581Z"
   },
   {
    "duration": 9,
    "start_time": "2021-08-01T19:09:51.789Z"
   },
   {
    "duration": 9,
    "start_time": "2021-08-01T19:09:55.268Z"
   },
   {
    "duration": 5,
    "start_time": "2021-08-01T19:19:22.482Z"
   },
   {
    "duration": 5,
    "start_time": "2021-08-01T19:19:23.572Z"
   },
   {
    "duration": 9,
    "start_time": "2021-08-01T19:19:25.084Z"
   },
   {
    "duration": 5,
    "start_time": "2021-08-01T19:20:16.379Z"
   },
   {
    "duration": 5,
    "start_time": "2021-08-01T19:20:21.931Z"
   },
   {
    "duration": 4,
    "start_time": "2021-08-01T19:20:28.652Z"
   },
   {
    "duration": 5,
    "start_time": "2021-08-01T19:20:34.187Z"
   },
   {
    "duration": 5,
    "start_time": "2021-08-01T19:21:23.218Z"
   },
   {
    "duration": 5,
    "start_time": "2021-08-01T19:21:36.890Z"
   },
   {
    "duration": 5,
    "start_time": "2021-08-01T19:24:35.387Z"
   },
   {
    "duration": 5,
    "start_time": "2021-08-01T19:24:41.519Z"
   },
   {
    "duration": 7,
    "start_time": "2021-08-01T19:24:47.015Z"
   },
   {
    "duration": 5,
    "start_time": "2021-08-01T19:25:45.809Z"
   },
   {
    "duration": 5,
    "start_time": "2021-08-01T19:25:46.454Z"
   },
   {
    "duration": 5,
    "start_time": "2021-08-01T19:26:50.940Z"
   },
   {
    "duration": 296,
    "start_time": "2021-08-01T19:26:51.382Z"
   },
   {
    "duration": 350,
    "start_time": "2021-08-01T19:26:51.846Z"
   },
   {
    "duration": 6,
    "start_time": "2021-08-01T19:27:06.178Z"
   },
   {
    "duration": 345,
    "start_time": "2021-08-01T19:27:08.551Z"
   },
   {
    "duration": 6,
    "start_time": "2021-08-01T19:27:35.357Z"
   },
   {
    "duration": 6,
    "start_time": "2021-08-01T19:27:35.836Z"
   },
   {
    "duration": 6,
    "start_time": "2021-08-01T19:27:36.558Z"
   },
   {
    "duration": 5,
    "start_time": "2021-08-01T19:27:37.287Z"
   },
   {
    "duration": 4,
    "start_time": "2021-08-01T19:27:37.981Z"
   },
   {
    "duration": 5,
    "start_time": "2021-08-01T19:27:39.196Z"
   },
   {
    "duration": 5,
    "start_time": "2021-08-01T19:27:39.845Z"
   },
   {
    "duration": 9,
    "start_time": "2021-08-01T19:27:40.437Z"
   },
   {
    "duration": 5,
    "start_time": "2021-08-01T19:27:40.964Z"
   },
   {
    "duration": 5,
    "start_time": "2021-08-01T19:27:41.564Z"
   },
   {
    "duration": 5,
    "start_time": "2021-08-01T19:27:43.053Z"
   },
   {
    "duration": 320,
    "start_time": "2021-08-01T19:27:51.620Z"
   },
   {
    "duration": 1337,
    "start_time": "2021-08-01T19:28:10.807Z"
   },
   {
    "duration": 21,
    "start_time": "2021-08-01T19:28:12.147Z"
   },
   {
    "duration": 22,
    "start_time": "2021-08-01T19:28:12.171Z"
   },
   {
    "duration": 7,
    "start_time": "2021-08-01T19:28:12.195Z"
   },
   {
    "duration": 711,
    "start_time": "2021-08-01T19:28:12.204Z"
   },
   {
    "duration": 28,
    "start_time": "2021-08-01T19:28:12.917Z"
   },
   {
    "duration": 161,
    "start_time": "2021-08-01T19:28:12.947Z"
   },
   {
    "duration": 58,
    "start_time": "2021-08-01T19:28:13.112Z"
   },
   {
    "duration": 63,
    "start_time": "2021-08-01T19:28:13.183Z"
   },
   {
    "duration": 264,
    "start_time": "2021-08-01T19:28:13.248Z"
   },
   {
    "duration": 269,
    "start_time": "2021-08-01T19:28:13.514Z"
   },
   {
    "duration": 96,
    "start_time": "2021-08-01T19:28:13.786Z"
   },
   {
    "duration": 14,
    "start_time": "2021-08-01T19:28:13.885Z"
   },
   {
    "duration": 27,
    "start_time": "2021-08-01T19:28:13.902Z"
   },
   {
    "duration": 51,
    "start_time": "2021-08-01T19:28:13.931Z"
   },
   {
    "duration": 28,
    "start_time": "2021-08-01T19:28:13.984Z"
   },
   {
    "duration": 10,
    "start_time": "2021-08-01T19:28:14.015Z"
   },
   {
    "duration": 6,
    "start_time": "2021-08-01T19:28:14.028Z"
   },
   {
    "duration": 46,
    "start_time": "2021-08-01T19:28:14.036Z"
   },
   {
    "duration": 38,
    "start_time": "2021-08-01T19:28:14.085Z"
   },
   {
    "duration": 35,
    "start_time": "2021-08-01T19:28:14.125Z"
   },
   {
    "duration": 29,
    "start_time": "2021-08-01T19:28:14.162Z"
   },
   {
    "duration": 5,
    "start_time": "2021-08-01T19:28:14.198Z"
   },
   {
    "duration": 12,
    "start_time": "2021-08-01T19:28:14.208Z"
   },
   {
    "duration": 8,
    "start_time": "2021-08-01T19:28:14.223Z"
   },
   {
    "duration": 50,
    "start_time": "2021-08-01T19:28:14.234Z"
   },
   {
    "duration": 15,
    "start_time": "2021-08-01T19:28:14.287Z"
   },
   {
    "duration": 26,
    "start_time": "2021-08-01T19:28:14.304Z"
   },
   {
    "duration": 586,
    "start_time": "2021-08-01T19:28:14.333Z"
   },
   {
    "duration": 12,
    "start_time": "2021-08-01T19:28:14.922Z"
   },
   {
    "duration": 9,
    "start_time": "2021-08-01T19:28:14.937Z"
   },
   {
    "duration": 46,
    "start_time": "2021-08-01T19:28:14.949Z"
   },
   {
    "duration": 19,
    "start_time": "2021-08-01T19:28:14.998Z"
   },
   {
    "duration": 92,
    "start_time": "2021-08-01T19:28:15.020Z"
   },
   {
    "duration": 18,
    "start_time": "2021-08-01T19:28:15.114Z"
   },
   {
    "duration": 15,
    "start_time": "2021-08-01T19:28:15.135Z"
   },
   {
    "duration": 38,
    "start_time": "2021-08-01T19:28:15.153Z"
   },
   {
    "duration": 6,
    "start_time": "2021-08-01T19:28:15.194Z"
   },
   {
    "duration": 236,
    "start_time": "2021-08-01T19:28:15.203Z"
   },
   {
    "duration": 5,
    "start_time": "2021-08-01T19:28:15.442Z"
   },
   {
    "duration": 12,
    "start_time": "2021-08-01T19:28:15.449Z"
   },
   {
    "duration": 18,
    "start_time": "2021-08-01T19:28:15.483Z"
   },
   {
    "duration": 16,
    "start_time": "2021-08-01T19:28:15.504Z"
   },
   {
    "duration": 8,
    "start_time": "2021-08-01T19:28:15.523Z"
   },
   {
    "duration": 358,
    "start_time": "2021-08-01T19:28:15.534Z"
   },
   {
    "duration": 39,
    "start_time": "2021-08-01T19:28:15.894Z"
   },
   {
    "duration": 10,
    "start_time": "2021-08-01T19:28:15.935Z"
   },
   {
    "duration": 338,
    "start_time": "2021-08-01T19:28:15.947Z"
   },
   {
    "duration": 47,
    "start_time": "2021-08-01T19:28:16.287Z"
   },
   {
    "duration": 6,
    "start_time": "2021-08-01T19:28:16.337Z"
   },
   {
    "duration": 38,
    "start_time": "2021-08-01T19:28:16.346Z"
   },
   {
    "duration": 14,
    "start_time": "2021-08-01T19:28:16.387Z"
   },
   {
    "duration": 7,
    "start_time": "2021-08-01T19:28:16.404Z"
   },
   {
    "duration": 12,
    "start_time": "2021-08-01T19:28:16.413Z"
   },
   {
    "duration": 8,
    "start_time": "2021-08-01T19:28:16.428Z"
   },
   {
    "duration": 3,
    "start_time": "2021-08-01T19:28:16.438Z"
   },
   {
    "duration": 5,
    "start_time": "2021-08-01T19:28:16.483Z"
   },
   {
    "duration": 9,
    "start_time": "2021-08-01T19:28:16.490Z"
   },
   {
    "duration": 7,
    "start_time": "2021-08-01T19:28:16.501Z"
   },
   {
    "duration": 19,
    "start_time": "2021-08-01T19:28:16.510Z"
   },
   {
    "duration": 59,
    "start_time": "2021-08-01T19:28:16.531Z"
   },
   {
    "duration": 17,
    "start_time": "2021-08-01T19:28:16.592Z"
   },
   {
    "duration": 24,
    "start_time": "2021-08-01T19:28:16.612Z"
   },
   {
    "duration": 5,
    "start_time": "2021-08-01T19:28:16.639Z"
   },
   {
    "duration": 36,
    "start_time": "2021-08-01T19:28:16.647Z"
   },
   {
    "duration": 8,
    "start_time": "2021-08-01T19:28:16.686Z"
   },
   {
    "duration": 6,
    "start_time": "2021-08-01T19:28:16.696Z"
   },
   {
    "duration": 4,
    "start_time": "2021-08-01T19:28:16.711Z"
   },
   {
    "duration": 6,
    "start_time": "2021-08-01T19:28:16.718Z"
   },
   {
    "duration": 57,
    "start_time": "2021-08-01T19:28:16.726Z"
   },
   {
    "duration": 8,
    "start_time": "2021-08-01T19:28:16.785Z"
   },
   {
    "duration": 7,
    "start_time": "2021-08-01T19:28:16.795Z"
   },
   {
    "duration": 5,
    "start_time": "2021-08-01T19:28:16.804Z"
   },
   {
    "duration": 6,
    "start_time": "2021-08-01T19:28:16.812Z"
   },
   {
    "duration": 434,
    "start_time": "2021-08-01T19:28:16.820Z"
   },
   {
    "duration": -892,
    "start_time": "2021-08-01T19:28:18.149Z"
   },
   {
    "duration": -896,
    "start_time": "2021-08-01T19:28:18.154Z"
   },
   {
    "duration": -897,
    "start_time": "2021-08-01T19:28:18.157Z"
   },
   {
    "duration": -900,
    "start_time": "2021-08-01T19:28:18.161Z"
   },
   {
    "duration": -908,
    "start_time": "2021-08-01T19:28:18.171Z"
   },
   {
    "duration": -911,
    "start_time": "2021-08-01T19:28:18.176Z"
   },
   {
    "duration": -913,
    "start_time": "2021-08-01T19:28:18.179Z"
   },
   {
    "duration": -915,
    "start_time": "2021-08-01T19:28:18.183Z"
   },
   {
    "duration": -917,
    "start_time": "2021-08-01T19:28:18.186Z"
   },
   {
    "duration": -918,
    "start_time": "2021-08-01T19:28:18.189Z"
   },
   {
    "duration": -920,
    "start_time": "2021-08-01T19:28:18.192Z"
   },
   {
    "duration": -922,
    "start_time": "2021-08-01T19:28:18.196Z"
   },
   {
    "duration": -924,
    "start_time": "2021-08-01T19:28:18.199Z"
   },
   {
    "duration": -926,
    "start_time": "2021-08-01T19:28:18.202Z"
   },
   {
    "duration": -934,
    "start_time": "2021-08-01T19:28:18.211Z"
   },
   {
    "duration": 5,
    "start_time": "2021-08-01T19:29:30.054Z"
   },
   {
    "duration": 5,
    "start_time": "2021-08-01T19:30:37.125Z"
   },
   {
    "duration": 6,
    "start_time": "2021-08-01T19:30:37.557Z"
   },
   {
    "duration": 9,
    "start_time": "2021-08-01T19:30:38.710Z"
   },
   {
    "duration": 5,
    "start_time": "2021-08-01T19:31:33.219Z"
   },
   {
    "duration": 5,
    "start_time": "2021-08-01T19:31:51.276Z"
   },
   {
    "duration": 5,
    "start_time": "2021-08-01T19:45:52.970Z"
   },
   {
    "duration": 121,
    "start_time": "2021-08-01T19:48:39.431Z"
   },
   {
    "duration": 113,
    "start_time": "2021-08-01T19:48:52.674Z"
   },
   {
    "duration": 5,
    "start_time": "2021-08-01T19:49:09.068Z"
   },
   {
    "duration": 121,
    "start_time": "2021-08-01T19:49:19.100Z"
   },
   {
    "duration": 115,
    "start_time": "2021-08-01T19:49:33.972Z"
   },
   {
    "duration": 4,
    "start_time": "2021-08-01T19:49:49.348Z"
   },
   {
    "duration": 4,
    "start_time": "2021-08-01T19:49:59.404Z"
   },
   {
    "duration": 4,
    "start_time": "2021-08-01T19:50:35.259Z"
   },
   {
    "duration": 6,
    "start_time": "2021-08-01T19:52:52.070Z"
   },
   {
    "duration": 5,
    "start_time": "2021-08-01T19:52:52.729Z"
   },
   {
    "duration": 7,
    "start_time": "2021-08-01T19:52:53.465Z"
   },
   {
    "duration": 5,
    "start_time": "2021-08-01T19:53:19.990Z"
   },
   {
    "duration": 6,
    "start_time": "2021-08-01T19:53:20.416Z"
   },
   {
    "duration": 8,
    "start_time": "2021-08-01T19:53:20.664Z"
   },
   {
    "duration": 4,
    "start_time": "2021-08-01T19:54:25.459Z"
   },
   {
    "duration": 5,
    "start_time": "2021-08-01T19:54:57.247Z"
   },
   {
    "duration": 7,
    "start_time": "2021-08-01T19:54:59.607Z"
   },
   {
    "duration": 4,
    "start_time": "2021-08-01T19:56:24.391Z"
   },
   {
    "duration": 4,
    "start_time": "2021-08-01T19:58:32.597Z"
   },
   {
    "duration": 4,
    "start_time": "2021-08-01T20:00:14.544Z"
   },
   {
    "duration": 5,
    "start_time": "2021-08-01T20:00:15.322Z"
   },
   {
    "duration": 5,
    "start_time": "2021-08-01T20:00:41.946Z"
   },
   {
    "duration": 4,
    "start_time": "2021-08-01T20:00:48.906Z"
   },
   {
    "duration": 5,
    "start_time": "2021-08-01T20:02:57.068Z"
   },
   {
    "duration": 5,
    "start_time": "2021-08-01T20:02:57.448Z"
   },
   {
    "duration": 7,
    "start_time": "2021-08-01T20:02:59.536Z"
   },
   {
    "duration": 5,
    "start_time": "2021-08-01T20:03:01.296Z"
   },
   {
    "duration": 5,
    "start_time": "2021-08-01T20:03:02.728Z"
   },
   {
    "duration": 6,
    "start_time": "2021-08-01T20:03:52.015Z"
   },
   {
    "duration": 5,
    "start_time": "2021-08-01T20:05:17.635Z"
   },
   {
    "duration": 9,
    "start_time": "2021-08-01T20:05:40.558Z"
   },
   {
    "duration": 4,
    "start_time": "2021-08-01T20:05:56.078Z"
   },
   {
    "duration": 1373,
    "start_time": "2021-08-01T20:06:43.763Z"
   },
   {
    "duration": 21,
    "start_time": "2021-08-01T20:06:45.138Z"
   },
   {
    "duration": 24,
    "start_time": "2021-08-01T20:06:45.162Z"
   },
   {
    "duration": 7,
    "start_time": "2021-08-01T20:06:45.189Z"
   },
   {
    "duration": 659,
    "start_time": "2021-08-01T20:06:45.199Z"
   },
   {
    "duration": 35,
    "start_time": "2021-08-01T20:06:45.860Z"
   },
   {
    "duration": 152,
    "start_time": "2021-08-01T20:06:45.897Z"
   },
   {
    "duration": 67,
    "start_time": "2021-08-01T20:06:46.052Z"
   },
   {
    "duration": 68,
    "start_time": "2021-08-01T20:06:46.123Z"
   },
   {
    "duration": 254,
    "start_time": "2021-08-01T20:06:46.193Z"
   },
   {
    "duration": 282,
    "start_time": "2021-08-01T20:06:46.449Z"
   },
   {
    "duration": 98,
    "start_time": "2021-08-01T20:06:46.733Z"
   },
   {
    "duration": 14,
    "start_time": "2021-08-01T20:06:46.833Z"
   },
   {
    "duration": 43,
    "start_time": "2021-08-01T20:06:46.849Z"
   },
   {
    "duration": 22,
    "start_time": "2021-08-01T20:06:46.894Z"
   },
   {
    "duration": 25,
    "start_time": "2021-08-01T20:06:46.918Z"
   },
   {
    "duration": 39,
    "start_time": "2021-08-01T20:06:46.945Z"
   },
   {
    "duration": 6,
    "start_time": "2021-08-01T20:06:46.986Z"
   },
   {
    "duration": 15,
    "start_time": "2021-08-01T20:06:46.995Z"
   },
   {
    "duration": 37,
    "start_time": "2021-08-01T20:06:47.012Z"
   },
   {
    "duration": 36,
    "start_time": "2021-08-01T20:06:47.084Z"
   },
   {
    "duration": 14,
    "start_time": "2021-08-01T20:06:47.123Z"
   },
   {
    "duration": 7,
    "start_time": "2021-08-01T20:06:47.145Z"
   },
   {
    "duration": 12,
    "start_time": "2021-08-01T20:06:47.184Z"
   },
   {
    "duration": 6,
    "start_time": "2021-08-01T20:06:47.199Z"
   },
   {
    "duration": 17,
    "start_time": "2021-08-01T20:06:47.207Z"
   },
   {
    "duration": 12,
    "start_time": "2021-08-01T20:06:47.227Z"
   },
   {
    "duration": 56,
    "start_time": "2021-08-01T20:06:47.241Z"
   },
   {
    "duration": 574,
    "start_time": "2021-08-01T20:06:47.300Z"
   },
   {
    "duration": 9,
    "start_time": "2021-08-01T20:06:47.877Z"
   },
   {
    "duration": 7,
    "start_time": "2021-08-01T20:06:47.889Z"
   },
   {
    "duration": 13,
    "start_time": "2021-08-01T20:06:47.898Z"
   },
   {
    "duration": 14,
    "start_time": "2021-08-01T20:06:47.913Z"
   },
   {
    "duration": 104,
    "start_time": "2021-08-01T20:06:47.930Z"
   },
   {
    "duration": 18,
    "start_time": "2021-08-01T20:06:48.037Z"
   },
   {
    "duration": 33,
    "start_time": "2021-08-01T20:06:48.057Z"
   },
   {
    "duration": 17,
    "start_time": "2021-08-01T20:06:48.093Z"
   },
   {
    "duration": 7,
    "start_time": "2021-08-01T20:06:48.112Z"
   },
   {
    "duration": 251,
    "start_time": "2021-08-01T20:06:48.121Z"
   },
   {
    "duration": 9,
    "start_time": "2021-08-01T20:06:48.374Z"
   },
   {
    "duration": 14,
    "start_time": "2021-08-01T20:06:48.385Z"
   },
   {
    "duration": 16,
    "start_time": "2021-08-01T20:06:48.401Z"
   },
   {
    "duration": 16,
    "start_time": "2021-08-01T20:06:48.419Z"
   },
   {
    "duration": 8,
    "start_time": "2021-08-01T20:06:48.437Z"
   },
   {
    "duration": 315,
    "start_time": "2021-08-01T20:06:48.483Z"
   },
   {
    "duration": 40,
    "start_time": "2021-08-01T20:06:48.801Z"
   },
   {
    "duration": 9,
    "start_time": "2021-08-01T20:06:48.843Z"
   },
   {
    "duration": 332,
    "start_time": "2021-08-01T20:06:48.882Z"
   },
   {
    "duration": 43,
    "start_time": "2021-08-01T20:06:49.217Z"
   },
   {
    "duration": 22,
    "start_time": "2021-08-01T20:06:49.262Z"
   },
   {
    "duration": 11,
    "start_time": "2021-08-01T20:06:49.286Z"
   },
   {
    "duration": 18,
    "start_time": "2021-08-01T20:06:49.299Z"
   },
   {
    "duration": 11,
    "start_time": "2021-08-01T20:06:49.319Z"
   },
   {
    "duration": 11,
    "start_time": "2021-08-01T20:06:49.333Z"
   },
   {
    "duration": 42,
    "start_time": "2021-08-01T20:06:49.346Z"
   },
   {
    "duration": 3,
    "start_time": "2021-08-01T20:06:49.390Z"
   },
   {
    "duration": 12,
    "start_time": "2021-08-01T20:06:49.396Z"
   },
   {
    "duration": 8,
    "start_time": "2021-08-01T20:06:49.410Z"
   },
   {
    "duration": 8,
    "start_time": "2021-08-01T20:06:49.420Z"
   },
   {
    "duration": 22,
    "start_time": "2021-08-01T20:06:49.430Z"
   },
   {
    "duration": 42,
    "start_time": "2021-08-01T20:06:49.454Z"
   },
   {
    "duration": 15,
    "start_time": "2021-08-01T20:06:49.498Z"
   },
   {
    "duration": 17,
    "start_time": "2021-08-01T20:06:49.515Z"
   },
   {
    "duration": 5,
    "start_time": "2021-08-01T20:06:49.534Z"
   },
   {
    "duration": 42,
    "start_time": "2021-08-01T20:06:49.541Z"
   },
   {
    "duration": 17,
    "start_time": "2021-08-01T20:06:49.585Z"
   },
   {
    "duration": 5,
    "start_time": "2021-08-01T20:06:49.605Z"
   },
   {
    "duration": 4,
    "start_time": "2021-08-01T20:06:49.617Z"
   },
   {
    "duration": 7,
    "start_time": "2021-08-01T20:06:49.623Z"
   },
   {
    "duration": 10,
    "start_time": "2021-08-01T20:06:49.632Z"
   },
   {
    "duration": 39,
    "start_time": "2021-08-01T20:06:49.645Z"
   },
   {
    "duration": 6,
    "start_time": "2021-08-01T20:06:49.687Z"
   },
   {
    "duration": 14,
    "start_time": "2021-08-01T20:06:49.695Z"
   },
   {
    "duration": 10,
    "start_time": "2021-08-01T20:06:49.711Z"
   },
   {
    "duration": 7,
    "start_time": "2021-08-01T20:06:49.724Z"
   },
   {
    "duration": 9,
    "start_time": "2021-08-01T20:06:49.733Z"
   },
   {
    "duration": 10,
    "start_time": "2021-08-01T20:06:49.744Z"
   },
   {
    "duration": 5,
    "start_time": "2021-08-01T20:06:49.782Z"
   },
   {
    "duration": 9,
    "start_time": "2021-08-01T20:06:49.789Z"
   },
   {
    "duration": 18,
    "start_time": "2021-08-01T20:17:58.821Z"
   },
   {
    "duration": 18,
    "start_time": "2021-08-01T20:17:59.071Z"
   },
   {
    "duration": 17,
    "start_time": "2021-08-01T20:17:59.287Z"
   },
   {
    "duration": 17,
    "start_time": "2021-08-01T20:17:59.487Z"
   },
   {
    "duration": 1590,
    "start_time": "2021-08-01T20:27:44.460Z"
   },
   {
    "duration": 29,
    "start_time": "2021-08-01T20:27:46.054Z"
   },
   {
    "duration": 20,
    "start_time": "2021-08-01T20:27:46.086Z"
   },
   {
    "duration": 9,
    "start_time": "2021-08-01T20:27:46.109Z"
   },
   {
    "duration": 691,
    "start_time": "2021-08-01T20:27:46.121Z"
   },
   {
    "duration": 26,
    "start_time": "2021-08-01T20:27:46.814Z"
   },
   {
    "duration": 158,
    "start_time": "2021-08-01T20:27:46.842Z"
   },
   {
    "duration": 59,
    "start_time": "2021-08-01T20:27:47.004Z"
   },
   {
    "duration": 69,
    "start_time": "2021-08-01T20:27:47.066Z"
   },
   {
    "duration": 259,
    "start_time": "2021-08-01T20:27:47.137Z"
   },
   {
    "duration": 264,
    "start_time": "2021-08-01T20:27:47.398Z"
   },
   {
    "duration": 95,
    "start_time": "2021-08-01T20:27:47.665Z"
   },
   {
    "duration": 26,
    "start_time": "2021-08-01T20:27:47.763Z"
   },
   {
    "duration": 26,
    "start_time": "2021-08-01T20:27:47.792Z"
   },
   {
    "duration": 22,
    "start_time": "2021-08-01T20:27:47.820Z"
   },
   {
    "duration": 59,
    "start_time": "2021-08-01T20:27:47.844Z"
   },
   {
    "duration": 10,
    "start_time": "2021-08-01T20:27:47.906Z"
   },
   {
    "duration": 8,
    "start_time": "2021-08-01T20:27:47.918Z"
   },
   {
    "duration": 18,
    "start_time": "2021-08-01T20:27:47.928Z"
   },
   {
    "duration": 58,
    "start_time": "2021-08-01T20:27:47.949Z"
   },
   {
    "duration": 34,
    "start_time": "2021-08-01T20:27:48.010Z"
   },
   {
    "duration": 13,
    "start_time": "2021-08-01T20:27:48.047Z"
   },
   {
    "duration": 6,
    "start_time": "2021-08-01T20:27:48.085Z"
   },
   {
    "duration": 16,
    "start_time": "2021-08-01T20:27:48.096Z"
   },
   {
    "duration": 7,
    "start_time": "2021-08-01T20:27:48.114Z"
   },
   {
    "duration": 19,
    "start_time": "2021-08-01T20:27:48.123Z"
   },
   {
    "duration": 49,
    "start_time": "2021-08-01T20:27:48.144Z"
   },
   {
    "duration": 25,
    "start_time": "2021-08-01T20:27:48.195Z"
   },
   {
    "duration": 568,
    "start_time": "2021-08-01T20:27:48.222Z"
   },
   {
    "duration": 10,
    "start_time": "2021-08-01T20:27:48.793Z"
   },
   {
    "duration": 6,
    "start_time": "2021-08-01T20:27:48.806Z"
   },
   {
    "duration": 12,
    "start_time": "2021-08-01T20:27:48.814Z"
   },
   {
    "duration": 56,
    "start_time": "2021-08-01T20:27:48.828Z"
   },
   {
    "duration": 61,
    "start_time": "2021-08-01T20:27:48.886Z"
   },
   {
    "duration": 38,
    "start_time": "2021-08-01T20:27:48.949Z"
   },
   {
    "duration": 11,
    "start_time": "2021-08-01T20:27:48.990Z"
   },
   {
    "duration": 18,
    "start_time": "2021-08-01T20:27:49.003Z"
   },
   {
    "duration": 6,
    "start_time": "2021-08-01T20:27:49.023Z"
   },
   {
    "duration": 263,
    "start_time": "2021-08-01T20:27:49.031Z"
   },
   {
    "duration": 6,
    "start_time": "2021-08-01T20:27:49.296Z"
   },
   {
    "duration": 13,
    "start_time": "2021-08-01T20:27:49.304Z"
   },
   {
    "duration": 17,
    "start_time": "2021-08-01T20:27:49.319Z"
   },
   {
    "duration": 50,
    "start_time": "2021-08-01T20:27:49.338Z"
   },
   {
    "duration": 9,
    "start_time": "2021-08-01T20:27:49.390Z"
   },
   {
    "duration": 318,
    "start_time": "2021-08-01T20:27:49.402Z"
   },
   {
    "duration": 38,
    "start_time": "2021-08-01T20:27:49.723Z"
   },
   {
    "duration": 26,
    "start_time": "2021-08-01T20:27:49.763Z"
   },
   {
    "duration": 334,
    "start_time": "2021-08-01T20:27:49.792Z"
   },
   {
    "duration": 57,
    "start_time": "2021-08-01T20:27:50.129Z"
   },
   {
    "duration": 5,
    "start_time": "2021-08-01T20:27:50.188Z"
   },
   {
    "duration": 8,
    "start_time": "2021-08-01T20:27:50.195Z"
   },
   {
    "duration": 17,
    "start_time": "2021-08-01T20:27:50.205Z"
   },
   {
    "duration": 10,
    "start_time": "2021-08-01T20:27:50.224Z"
   },
   {
    "duration": 48,
    "start_time": "2021-08-01T20:27:50.236Z"
   },
   {
    "duration": 9,
    "start_time": "2021-08-01T20:27:50.286Z"
   },
   {
    "duration": 5,
    "start_time": "2021-08-01T20:27:50.297Z"
   },
   {
    "duration": 7,
    "start_time": "2021-08-01T20:27:50.304Z"
   },
   {
    "duration": 7,
    "start_time": "2021-08-01T20:27:50.313Z"
   },
   {
    "duration": 7,
    "start_time": "2021-08-01T20:27:50.322Z"
   },
   {
    "duration": 63,
    "start_time": "2021-08-01T20:27:50.331Z"
   },
   {
    "duration": 16,
    "start_time": "2021-08-01T20:27:50.396Z"
   },
   {
    "duration": 14,
    "start_time": "2021-08-01T20:27:50.414Z"
   },
   {
    "duration": 15,
    "start_time": "2021-08-01T20:27:50.430Z"
   },
   {
    "duration": 35,
    "start_time": "2021-08-01T20:27:50.447Z"
   },
   {
    "duration": 10,
    "start_time": "2021-08-01T20:27:50.484Z"
   },
   {
    "duration": 12,
    "start_time": "2021-08-01T20:27:50.496Z"
   },
   {
    "duration": 6,
    "start_time": "2021-08-01T20:27:50.510Z"
   },
   {
    "duration": 5,
    "start_time": "2021-08-01T20:27:50.523Z"
   },
   {
    "duration": 9,
    "start_time": "2021-08-01T20:27:50.530Z"
   },
   {
    "duration": 6,
    "start_time": "2021-08-01T20:27:50.541Z"
   },
   {
    "duration": 8,
    "start_time": "2021-08-01T20:27:50.581Z"
   },
   {
    "duration": 8,
    "start_time": "2021-08-01T20:27:50.591Z"
   },
   {
    "duration": 10,
    "start_time": "2021-08-01T20:27:50.601Z"
   },
   {
    "duration": 5,
    "start_time": "2021-08-01T20:27:50.614Z"
   },
   {
    "duration": 7,
    "start_time": "2021-08-01T20:27:50.621Z"
   },
   {
    "duration": 9,
    "start_time": "2021-08-01T20:27:50.630Z"
   },
   {
    "duration": 7,
    "start_time": "2021-08-01T20:27:50.681Z"
   },
   {
    "duration": 6,
    "start_time": "2021-08-01T20:27:50.690Z"
   },
   {
    "duration": 10,
    "start_time": "2021-08-01T20:27:50.698Z"
   }
  ],
  "kernelspec": {
   "display_name": "Python 3",
   "language": "python",
   "name": "python3"
  },
  "language_info": {
   "codemirror_mode": {
    "name": "ipython",
    "version": 3
   },
   "file_extension": ".py",
   "mimetype": "text/x-python",
   "name": "python",
   "nbconvert_exporter": "python",
   "pygments_lexer": "ipython3",
   "version": "3.8.5"
  },
  "toc": {
   "base_numbering": 1,
   "nav_menu": {},
   "number_sections": true,
   "sideBar": true,
   "skip_h1_title": true,
   "title_cell": "Table of Contents",
   "title_sidebar": "Contents",
   "toc_cell": false,
   "toc_position": {},
   "toc_section_display": true,
   "toc_window_display": false
  }
 },
 "nbformat": 4,
 "nbformat_minor": 4
}
