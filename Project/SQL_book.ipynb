{
 "cells": [
  {
   "cell_type": "markdown",
   "metadata": {},
   "source": [
    "<div class=\"alert alert-info\" role=\"alert\">\n",
    "   \n",
    "В нашем распоряжении информация о книгах, издательствах, авторах, а также пользовательские обзоры книг.\n",
    "    \n",
    "<b>Наша задача — проанализировать базу данных</b>    \n",
    "    \n",
    "<b>Описание данных:</b>\n",
    "    \n",
    "**Таблица `books`**\n",
    "\n",
    "Содержит данные о книгах:\n",
    "\n",
    "- `book_id` — идентификатор книги;\n",
    "- `author_id` — идентификатор автора;\n",
    "- `title` — название книги;\n",
    "- `num_pages` — количество страниц;\n",
    "- `publication_date` — дата публикации книги;\n",
    "- `publisher_id` — идентификатор издателя.\n",
    "\n",
    "**Таблица `authors`**\n",
    "\n",
    "Содержит данные об авторах:\n",
    "\n",
    "- `author_id` — идентификатор автора;\n",
    "- `author` — имя автора.\n",
    "\n",
    "**Таблица `publishers`**\n",
    "\n",
    "Содержит данные об издательствах:\n",
    "\n",
    "- `publisher_id` — идентификатор издательства;\n",
    "- `publisher` — название издательства;\n",
    "\n",
    "**Таблица `ratings`**\n",
    "\n",
    "Содержит данные о пользовательских оценках книг:\n",
    "\n",
    "- `rating_id` — идентификатор оценки;\n",
    "- `book_id` — идентификатор книги;\n",
    "- `username` — имя пользователя, оставившего оценку;\n",
    "- `rating` — оценка книги.\n",
    "\n",
    "**Таблица `reviews`**\n",
    "\n",
    "Содержит данные о пользовательских обзорах на книги:\n",
    "\n",
    "- `review_id` — идентификатор обзора;\n",
    "- `book_id` — идентификатор книги;\n",
    "- `username` — имя пользователя, написавшего обзор;\n",
    "- `text` — текст обзора.\n",
    "\n",
    "<b>Шаг 1. Загрузим данные и изучим общую информацию </b>\n",
    "\n",
    "<b>Шаг 2. Посчитаем, сколько книг вышло после 1 января 2000 года</b>\n",
    "        \n",
    "<b>Шаг 3. Для каждой книги посчитаем количество обзоров и среднюю оценку</b>    \n",
    "   \n",
    "<b>Шаг 4. Определим издательство, которое выпустило наибольшее число книг толще 50 страниц</b>    \n",
    "        \n",
    "<b>Шаг 5. Определим автора с самой высокой средней оценкой книг</b>   \n",
    "       \n",
    "<b>Шаг 6. Посчитаем среднее количество обзоров от пользователей, которые поставили больше 50 оценок</b>       \n",
    "    \n",
    "<b>Шаг 7. Сформулируем выводы</b>      \n",
    "\n",
    "    \n",
    "</div>"
   ]
  },
  {
   "cell_type": "markdown",
   "metadata": {},
   "source": [
    "# Шаг 1. Загрузим данные и изучим общую информацию"
   ]
  },
  {
   "cell_type": "markdown",
   "metadata": {},
   "source": [
    "**Подключимся к базе данных**"
   ]
  },
  {
   "cell_type": "code",
   "execution_count": 1,
   "metadata": {},
   "outputs": [],
   "source": [
    "# импортируем библиотеки\n",
    "import pandas as pd\n",
    "from sqlalchemy import create_engine\n",
    "# устанавливаем параметры\n",
    "db_config = {'user': 'praktikum_student', # имя пользователя\n",
    " 'pwd': 'Sdf4$2;d-d30pp', # пароль\n",
    " 'host': 'rc1b-wcoijxj3yxfsf3fs.mdb.yandexcloud.net',\n",
    " 'port': 6432, # порт подключения\n",
    " 'db': 'data-analyst-final-project-db'} # название базы данных\n",
    "connection_string = 'postgresql://{}:{}@{}:{}/{}'.format(db_config['user'],\n",
    " db_config['pwd'],\n",
    " db_config['host'],\n",
    " db_config['port'],\n",
    " db_config['db'])\n",
    "# сохраняем коннектор\n",
    "engine = create_engine(connection_string, connect_args={'sslmode':'require'}) "
   ]
  },
  {
   "cell_type": "markdown",
   "metadata": {},
   "source": [
    "**Посмотрим на данные**"
   ]
  },
  {
   "cell_type": "code",
   "execution_count": 2,
   "metadata": {},
   "outputs": [
    {
     "data": {
      "text/html": [
       "<div>\n",
       "<style scoped>\n",
       "    .dataframe tbody tr th:only-of-type {\n",
       "        vertical-align: middle;\n",
       "    }\n",
       "\n",
       "    .dataframe tbody tr th {\n",
       "        vertical-align: top;\n",
       "    }\n",
       "\n",
       "    .dataframe thead th {\n",
       "        text-align: right;\n",
       "    }\n",
       "</style>\n",
       "<table border=\"1\" class=\"dataframe\">\n",
       "  <thead>\n",
       "    <tr style=\"text-align: right;\">\n",
       "      <th></th>\n",
       "      <th>book_id</th>\n",
       "      <th>author_id</th>\n",
       "      <th>title</th>\n",
       "      <th>num_pages</th>\n",
       "      <th>publication_date</th>\n",
       "      <th>publisher_id</th>\n",
       "    </tr>\n",
       "  </thead>\n",
       "  <tbody>\n",
       "    <tr>\n",
       "      <td>0</td>\n",
       "      <td>1</td>\n",
       "      <td>546</td>\n",
       "      <td>'Salem's Lot</td>\n",
       "      <td>594</td>\n",
       "      <td>2005-11-01</td>\n",
       "      <td>93</td>\n",
       "    </tr>\n",
       "    <tr>\n",
       "      <td>1</td>\n",
       "      <td>2</td>\n",
       "      <td>465</td>\n",
       "      <td>1 000 Places to See Before You Die</td>\n",
       "      <td>992</td>\n",
       "      <td>2003-05-22</td>\n",
       "      <td>336</td>\n",
       "    </tr>\n",
       "    <tr>\n",
       "      <td>2</td>\n",
       "      <td>3</td>\n",
       "      <td>407</td>\n",
       "      <td>13 Little Blue Envelopes (Little Blue Envelope...</td>\n",
       "      <td>322</td>\n",
       "      <td>2010-12-21</td>\n",
       "      <td>135</td>\n",
       "    </tr>\n",
       "    <tr>\n",
       "      <td>3</td>\n",
       "      <td>4</td>\n",
       "      <td>82</td>\n",
       "      <td>1491: New Revelations of the Americas Before C...</td>\n",
       "      <td>541</td>\n",
       "      <td>2006-10-10</td>\n",
       "      <td>309</td>\n",
       "    </tr>\n",
       "    <tr>\n",
       "      <td>4</td>\n",
       "      <td>5</td>\n",
       "      <td>125</td>\n",
       "      <td>1776</td>\n",
       "      <td>386</td>\n",
       "      <td>2006-07-04</td>\n",
       "      <td>268</td>\n",
       "    </tr>\n",
       "    <tr>\n",
       "      <td>...</td>\n",
       "      <td>...</td>\n",
       "      <td>...</td>\n",
       "      <td>...</td>\n",
       "      <td>...</td>\n",
       "      <td>...</td>\n",
       "      <td>...</td>\n",
       "    </tr>\n",
       "    <tr>\n",
       "      <td>995</td>\n",
       "      <td>996</td>\n",
       "      <td>571</td>\n",
       "      <td>Wyrd Sisters (Discworld  #6; Witches #2)</td>\n",
       "      <td>265</td>\n",
       "      <td>2001-02-06</td>\n",
       "      <td>147</td>\n",
       "    </tr>\n",
       "    <tr>\n",
       "      <td>996</td>\n",
       "      <td>997</td>\n",
       "      <td>454</td>\n",
       "      <td>Xenocide (Ender's Saga  #3)</td>\n",
       "      <td>592</td>\n",
       "      <td>1996-07-15</td>\n",
       "      <td>297</td>\n",
       "    </tr>\n",
       "    <tr>\n",
       "      <td>997</td>\n",
       "      <td>998</td>\n",
       "      <td>201</td>\n",
       "      <td>Year of Wonders</td>\n",
       "      <td>358</td>\n",
       "      <td>2002-04-30</td>\n",
       "      <td>212</td>\n",
       "    </tr>\n",
       "    <tr>\n",
       "      <td>998</td>\n",
       "      <td>999</td>\n",
       "      <td>94</td>\n",
       "      <td>You Suck (A Love Story  #2)</td>\n",
       "      <td>328</td>\n",
       "      <td>2007-01-16</td>\n",
       "      <td>331</td>\n",
       "    </tr>\n",
       "    <tr>\n",
       "      <td>999</td>\n",
       "      <td>1000</td>\n",
       "      <td>509</td>\n",
       "      <td>Zen and the Art of Motorcycle Maintenance: An ...</td>\n",
       "      <td>540</td>\n",
       "      <td>2006-04-25</td>\n",
       "      <td>143</td>\n",
       "    </tr>\n",
       "  </tbody>\n",
       "</table>\n",
       "<p>1000 rows × 6 columns</p>\n",
       "</div>"
      ],
      "text/plain": [
       "     book_id  author_id                                              title  \\\n",
       "0          1        546                                       'Salem's Lot   \n",
       "1          2        465                 1 000 Places to See Before You Die   \n",
       "2          3        407  13 Little Blue Envelopes (Little Blue Envelope...   \n",
       "3          4         82  1491: New Revelations of the Americas Before C...   \n",
       "4          5        125                                               1776   \n",
       "..       ...        ...                                                ...   \n",
       "995      996        571           Wyrd Sisters (Discworld  #6; Witches #2)   \n",
       "996      997        454                        Xenocide (Ender's Saga  #3)   \n",
       "997      998        201                                    Year of Wonders   \n",
       "998      999         94                        You Suck (A Love Story  #2)   \n",
       "999     1000        509  Zen and the Art of Motorcycle Maintenance: An ...   \n",
       "\n",
       "     num_pages publication_date  publisher_id  \n",
       "0          594       2005-11-01            93  \n",
       "1          992       2003-05-22           336  \n",
       "2          322       2010-12-21           135  \n",
       "3          541       2006-10-10           309  \n",
       "4          386       2006-07-04           268  \n",
       "..         ...              ...           ...  \n",
       "995        265       2001-02-06           147  \n",
       "996        592       1996-07-15           297  \n",
       "997        358       2002-04-30           212  \n",
       "998        328       2007-01-16           331  \n",
       "999        540       2006-04-25           143  \n",
       "\n",
       "[1000 rows x 6 columns]"
      ]
     },
     "execution_count": 2,
     "metadata": {},
     "output_type": "execute_result"
    }
   ],
   "source": [
    "BOOK = ''' \n",
    "SELECT  \n",
    "    *\n",
    "FROM books\n",
    "    \n",
    "        '''\n",
    "pd.io.sql.read_sql(BOOK, con = engine)"
   ]
  },
  {
   "cell_type": "markdown",
   "metadata": {},
   "source": [
    "В данных 'books' у нас информация о 1000 книг"
   ]
  },
  {
   "cell_type": "code",
   "execution_count": 3,
   "metadata": {},
   "outputs": [
    {
     "data": {
      "text/html": [
       "<div>\n",
       "<style scoped>\n",
       "    .dataframe tbody tr th:only-of-type {\n",
       "        vertical-align: middle;\n",
       "    }\n",
       "\n",
       "    .dataframe tbody tr th {\n",
       "        vertical-align: top;\n",
       "    }\n",
       "\n",
       "    .dataframe thead th {\n",
       "        text-align: right;\n",
       "    }\n",
       "</style>\n",
       "<table border=\"1\" class=\"dataframe\">\n",
       "  <thead>\n",
       "    <tr style=\"text-align: right;\">\n",
       "      <th></th>\n",
       "      <th>author_id</th>\n",
       "      <th>author</th>\n",
       "    </tr>\n",
       "  </thead>\n",
       "  <tbody>\n",
       "    <tr>\n",
       "      <td>0</td>\n",
       "      <td>1</td>\n",
       "      <td>A.S. Byatt</td>\n",
       "    </tr>\n",
       "    <tr>\n",
       "      <td>1</td>\n",
       "      <td>2</td>\n",
       "      <td>Aesop/Laura Harris/Laura Gibbs</td>\n",
       "    </tr>\n",
       "    <tr>\n",
       "      <td>2</td>\n",
       "      <td>3</td>\n",
       "      <td>Agatha Christie</td>\n",
       "    </tr>\n",
       "    <tr>\n",
       "      <td>3</td>\n",
       "      <td>4</td>\n",
       "      <td>Alan Brennert</td>\n",
       "    </tr>\n",
       "    <tr>\n",
       "      <td>4</td>\n",
       "      <td>5</td>\n",
       "      <td>Alan Moore/David   Lloyd</td>\n",
       "    </tr>\n",
       "    <tr>\n",
       "      <td>...</td>\n",
       "      <td>...</td>\n",
       "      <td>...</td>\n",
       "    </tr>\n",
       "    <tr>\n",
       "      <td>631</td>\n",
       "      <td>632</td>\n",
       "      <td>William Strunk Jr./E.B. White</td>\n",
       "    </tr>\n",
       "    <tr>\n",
       "      <td>632</td>\n",
       "      <td>633</td>\n",
       "      <td>Zadie Smith</td>\n",
       "    </tr>\n",
       "    <tr>\n",
       "      <td>633</td>\n",
       "      <td>634</td>\n",
       "      <td>Zilpha Keatley Snyder</td>\n",
       "    </tr>\n",
       "    <tr>\n",
       "      <td>634</td>\n",
       "      <td>635</td>\n",
       "      <td>Zora Neale Hurston</td>\n",
       "    </tr>\n",
       "    <tr>\n",
       "      <td>635</td>\n",
       "      <td>636</td>\n",
       "      <td>Åsne Seierstad/Ingrid Christopherson</td>\n",
       "    </tr>\n",
       "  </tbody>\n",
       "</table>\n",
       "<p>636 rows × 2 columns</p>\n",
       "</div>"
      ],
      "text/plain": [
       "     author_id                                author\n",
       "0            1                            A.S. Byatt\n",
       "1            2        Aesop/Laura Harris/Laura Gibbs\n",
       "2            3                       Agatha Christie\n",
       "3            4                         Alan Brennert\n",
       "4            5              Alan Moore/David   Lloyd\n",
       "..         ...                                   ...\n",
       "631        632         William Strunk Jr./E.B. White\n",
       "632        633                           Zadie Smith\n",
       "633        634                 Zilpha Keatley Snyder\n",
       "634        635                    Zora Neale Hurston\n",
       "635        636  Åsne Seierstad/Ingrid Christopherson\n",
       "\n",
       "[636 rows x 2 columns]"
      ]
     },
     "execution_count": 3,
     "metadata": {},
     "output_type": "execute_result"
    }
   ],
   "source": [
    "AUTOR = ''' \n",
    "SELECT *\n",
    "FROM authors\n",
    "        '''\n",
    "pd.io.sql.read_sql(AUTOR, con = engine)"
   ]
  },
  {
   "cell_type": "markdown",
   "metadata": {},
   "source": [
    "В данных 'authors' у нас информация о 636 авторе"
   ]
  },
  {
   "cell_type": "code",
   "execution_count": 4,
   "metadata": {},
   "outputs": [
    {
     "data": {
      "text/html": [
       "<div>\n",
       "<style scoped>\n",
       "    .dataframe tbody tr th:only-of-type {\n",
       "        vertical-align: middle;\n",
       "    }\n",
       "\n",
       "    .dataframe tbody tr th {\n",
       "        vertical-align: top;\n",
       "    }\n",
       "\n",
       "    .dataframe thead th {\n",
       "        text-align: right;\n",
       "    }\n",
       "</style>\n",
       "<table border=\"1\" class=\"dataframe\">\n",
       "  <thead>\n",
       "    <tr style=\"text-align: right;\">\n",
       "      <th></th>\n",
       "      <th>publisher_id</th>\n",
       "      <th>publisher</th>\n",
       "    </tr>\n",
       "  </thead>\n",
       "  <tbody>\n",
       "    <tr>\n",
       "      <td>0</td>\n",
       "      <td>1</td>\n",
       "      <td>Ace</td>\n",
       "    </tr>\n",
       "    <tr>\n",
       "      <td>1</td>\n",
       "      <td>2</td>\n",
       "      <td>Ace Book</td>\n",
       "    </tr>\n",
       "    <tr>\n",
       "      <td>2</td>\n",
       "      <td>3</td>\n",
       "      <td>Ace Books</td>\n",
       "    </tr>\n",
       "    <tr>\n",
       "      <td>3</td>\n",
       "      <td>4</td>\n",
       "      <td>Ace Hardcover</td>\n",
       "    </tr>\n",
       "    <tr>\n",
       "      <td>4</td>\n",
       "      <td>5</td>\n",
       "      <td>Addison Wesley Publishing Company</td>\n",
       "    </tr>\n",
       "    <tr>\n",
       "      <td>...</td>\n",
       "      <td>...</td>\n",
       "      <td>...</td>\n",
       "    </tr>\n",
       "    <tr>\n",
       "      <td>335</td>\n",
       "      <td>336</td>\n",
       "      <td>Workman Publishing Company</td>\n",
       "    </tr>\n",
       "    <tr>\n",
       "      <td>336</td>\n",
       "      <td>337</td>\n",
       "      <td>Wyatt Book</td>\n",
       "    </tr>\n",
       "    <tr>\n",
       "      <td>337</td>\n",
       "      <td>338</td>\n",
       "      <td>Yale University Press</td>\n",
       "    </tr>\n",
       "    <tr>\n",
       "      <td>338</td>\n",
       "      <td>339</td>\n",
       "      <td>Yearling</td>\n",
       "    </tr>\n",
       "    <tr>\n",
       "      <td>339</td>\n",
       "      <td>340</td>\n",
       "      <td>Yearling Books</td>\n",
       "    </tr>\n",
       "  </tbody>\n",
       "</table>\n",
       "<p>340 rows × 2 columns</p>\n",
       "</div>"
      ],
      "text/plain": [
       "     publisher_id                          publisher\n",
       "0               1                                Ace\n",
       "1               2                           Ace Book\n",
       "2               3                          Ace Books\n",
       "3               4                      Ace Hardcover\n",
       "4               5  Addison Wesley Publishing Company\n",
       "..            ...                                ...\n",
       "335           336         Workman Publishing Company\n",
       "336           337                         Wyatt Book\n",
       "337           338              Yale University Press\n",
       "338           339                           Yearling\n",
       "339           340                     Yearling Books\n",
       "\n",
       "[340 rows x 2 columns]"
      ]
     },
     "execution_count": 4,
     "metadata": {},
     "output_type": "execute_result"
    }
   ],
   "source": [
    "PUBLISH = ''' \n",
    "SELECT  \n",
    "    *\n",
    "FROM publishers\n",
    "    \n",
    "        '''\n",
    "pd.io.sql.read_sql(PUBLISH, con = engine)"
   ]
  },
  {
   "cell_type": "markdown",
   "metadata": {},
   "source": [
    "В данных 'publishers' у нас информация о 340 издательствах"
   ]
  },
  {
   "cell_type": "code",
   "execution_count": 5,
   "metadata": {},
   "outputs": [
    {
     "data": {
      "text/html": [
       "<div>\n",
       "<style scoped>\n",
       "    .dataframe tbody tr th:only-of-type {\n",
       "        vertical-align: middle;\n",
       "    }\n",
       "\n",
       "    .dataframe tbody tr th {\n",
       "        vertical-align: top;\n",
       "    }\n",
       "\n",
       "    .dataframe thead th {\n",
       "        text-align: right;\n",
       "    }\n",
       "</style>\n",
       "<table border=\"1\" class=\"dataframe\">\n",
       "  <thead>\n",
       "    <tr style=\"text-align: right;\">\n",
       "      <th></th>\n",
       "      <th>rating_id</th>\n",
       "      <th>book_id</th>\n",
       "      <th>username</th>\n",
       "      <th>rating</th>\n",
       "    </tr>\n",
       "  </thead>\n",
       "  <tbody>\n",
       "    <tr>\n",
       "      <td>0</td>\n",
       "      <td>1</td>\n",
       "      <td>1</td>\n",
       "      <td>ryanfranco</td>\n",
       "      <td>4</td>\n",
       "    </tr>\n",
       "    <tr>\n",
       "      <td>1</td>\n",
       "      <td>2</td>\n",
       "      <td>1</td>\n",
       "      <td>grantpatricia</td>\n",
       "      <td>2</td>\n",
       "    </tr>\n",
       "    <tr>\n",
       "      <td>2</td>\n",
       "      <td>3</td>\n",
       "      <td>1</td>\n",
       "      <td>brandtandrea</td>\n",
       "      <td>5</td>\n",
       "    </tr>\n",
       "    <tr>\n",
       "      <td>3</td>\n",
       "      <td>4</td>\n",
       "      <td>2</td>\n",
       "      <td>lorichen</td>\n",
       "      <td>3</td>\n",
       "    </tr>\n",
       "    <tr>\n",
       "      <td>4</td>\n",
       "      <td>5</td>\n",
       "      <td>2</td>\n",
       "      <td>mariokeller</td>\n",
       "      <td>2</td>\n",
       "    </tr>\n",
       "    <tr>\n",
       "      <td>...</td>\n",
       "      <td>...</td>\n",
       "      <td>...</td>\n",
       "      <td>...</td>\n",
       "      <td>...</td>\n",
       "    </tr>\n",
       "    <tr>\n",
       "      <td>6451</td>\n",
       "      <td>6452</td>\n",
       "      <td>1000</td>\n",
       "      <td>carolrodriguez</td>\n",
       "      <td>4</td>\n",
       "    </tr>\n",
       "    <tr>\n",
       "      <td>6452</td>\n",
       "      <td>6453</td>\n",
       "      <td>1000</td>\n",
       "      <td>wendy18</td>\n",
       "      <td>4</td>\n",
       "    </tr>\n",
       "    <tr>\n",
       "      <td>6453</td>\n",
       "      <td>6454</td>\n",
       "      <td>1000</td>\n",
       "      <td>jarvispaul</td>\n",
       "      <td>5</td>\n",
       "    </tr>\n",
       "    <tr>\n",
       "      <td>6454</td>\n",
       "      <td>6455</td>\n",
       "      <td>1000</td>\n",
       "      <td>zross</td>\n",
       "      <td>2</td>\n",
       "    </tr>\n",
       "    <tr>\n",
       "      <td>6455</td>\n",
       "      <td>6456</td>\n",
       "      <td>1000</td>\n",
       "      <td>fharris</td>\n",
       "      <td>5</td>\n",
       "    </tr>\n",
       "  </tbody>\n",
       "</table>\n",
       "<p>6456 rows × 4 columns</p>\n",
       "</div>"
      ],
      "text/plain": [
       "      rating_id  book_id        username  rating\n",
       "0             1        1      ryanfranco       4\n",
       "1             2        1   grantpatricia       2\n",
       "2             3        1    brandtandrea       5\n",
       "3             4        2        lorichen       3\n",
       "4             5        2     mariokeller       2\n",
       "...         ...      ...             ...     ...\n",
       "6451       6452     1000  carolrodriguez       4\n",
       "6452       6453     1000         wendy18       4\n",
       "6453       6454     1000      jarvispaul       5\n",
       "6454       6455     1000           zross       2\n",
       "6455       6456     1000         fharris       5\n",
       "\n",
       "[6456 rows x 4 columns]"
      ]
     },
     "execution_count": 5,
     "metadata": {},
     "output_type": "execute_result"
    }
   ],
   "source": [
    "RATING = ''' \n",
    "SELECT  \n",
    "    *\n",
    "FROM ratings\n",
    "    \n",
    "        '''\n",
    "pd.io.sql.read_sql(RATING, con = engine)"
   ]
  },
  {
   "cell_type": "markdown",
   "metadata": {},
   "source": [
    "В данных 'ratings' у нас информация о пользователях оставивших 6456 оценок о книгах"
   ]
  },
  {
   "cell_type": "code",
   "execution_count": 6,
   "metadata": {},
   "outputs": [
    {
     "data": {
      "text/html": [
       "<div>\n",
       "<style scoped>\n",
       "    .dataframe tbody tr th:only-of-type {\n",
       "        vertical-align: middle;\n",
       "    }\n",
       "\n",
       "    .dataframe tbody tr th {\n",
       "        vertical-align: top;\n",
       "    }\n",
       "\n",
       "    .dataframe thead th {\n",
       "        text-align: right;\n",
       "    }\n",
       "</style>\n",
       "<table border=\"1\" class=\"dataframe\">\n",
       "  <thead>\n",
       "    <tr style=\"text-align: right;\">\n",
       "      <th></th>\n",
       "      <th>review_id</th>\n",
       "      <th>book_id</th>\n",
       "      <th>username</th>\n",
       "      <th>text</th>\n",
       "    </tr>\n",
       "  </thead>\n",
       "  <tbody>\n",
       "    <tr>\n",
       "      <td>0</td>\n",
       "      <td>1</td>\n",
       "      <td>1</td>\n",
       "      <td>brandtandrea</td>\n",
       "      <td>Mention society tell send professor analysis. ...</td>\n",
       "    </tr>\n",
       "    <tr>\n",
       "      <td>1</td>\n",
       "      <td>2</td>\n",
       "      <td>1</td>\n",
       "      <td>ryanfranco</td>\n",
       "      <td>Foot glass pretty audience hit themselves. Amo...</td>\n",
       "    </tr>\n",
       "    <tr>\n",
       "      <td>2</td>\n",
       "      <td>3</td>\n",
       "      <td>2</td>\n",
       "      <td>lorichen</td>\n",
       "      <td>Listen treat keep worry. Miss husband tax but ...</td>\n",
       "    </tr>\n",
       "    <tr>\n",
       "      <td>3</td>\n",
       "      <td>4</td>\n",
       "      <td>3</td>\n",
       "      <td>johnsonamanda</td>\n",
       "      <td>Finally month interesting blue could nature cu...</td>\n",
       "    </tr>\n",
       "    <tr>\n",
       "      <td>4</td>\n",
       "      <td>5</td>\n",
       "      <td>3</td>\n",
       "      <td>scotttamara</td>\n",
       "      <td>Nation purpose heavy give wait song will. List...</td>\n",
       "    </tr>\n",
       "    <tr>\n",
       "      <td>...</td>\n",
       "      <td>...</td>\n",
       "      <td>...</td>\n",
       "      <td>...</td>\n",
       "      <td>...</td>\n",
       "    </tr>\n",
       "    <tr>\n",
       "      <td>2788</td>\n",
       "      <td>2789</td>\n",
       "      <td>999</td>\n",
       "      <td>martinadam</td>\n",
       "      <td>Later hospital turn easy community. Fact same ...</td>\n",
       "    </tr>\n",
       "    <tr>\n",
       "      <td>2789</td>\n",
       "      <td>2790</td>\n",
       "      <td>1000</td>\n",
       "      <td>wknight</td>\n",
       "      <td>Change lose answer close pressure. Spend so now.</td>\n",
       "    </tr>\n",
       "    <tr>\n",
       "      <td>2790</td>\n",
       "      <td>2791</td>\n",
       "      <td>1000</td>\n",
       "      <td>carolrodriguez</td>\n",
       "      <td>Authority go who television entire hair guy po...</td>\n",
       "    </tr>\n",
       "    <tr>\n",
       "      <td>2791</td>\n",
       "      <td>2792</td>\n",
       "      <td>1000</td>\n",
       "      <td>wendy18</td>\n",
       "      <td>Or western offer wonder ask. More hear phone f...</td>\n",
       "    </tr>\n",
       "    <tr>\n",
       "      <td>2792</td>\n",
       "      <td>2793</td>\n",
       "      <td>1000</td>\n",
       "      <td>jarvispaul</td>\n",
       "      <td>Republican staff bit eat material measure plan...</td>\n",
       "    </tr>\n",
       "  </tbody>\n",
       "</table>\n",
       "<p>2793 rows × 4 columns</p>\n",
       "</div>"
      ],
      "text/plain": [
       "      review_id  book_id        username  \\\n",
       "0             1        1    brandtandrea   \n",
       "1             2        1      ryanfranco   \n",
       "2             3        2        lorichen   \n",
       "3             4        3   johnsonamanda   \n",
       "4             5        3     scotttamara   \n",
       "...         ...      ...             ...   \n",
       "2788       2789      999      martinadam   \n",
       "2789       2790     1000         wknight   \n",
       "2790       2791     1000  carolrodriguez   \n",
       "2791       2792     1000         wendy18   \n",
       "2792       2793     1000      jarvispaul   \n",
       "\n",
       "                                                   text  \n",
       "0     Mention society tell send professor analysis. ...  \n",
       "1     Foot glass pretty audience hit themselves. Amo...  \n",
       "2     Listen treat keep worry. Miss husband tax but ...  \n",
       "3     Finally month interesting blue could nature cu...  \n",
       "4     Nation purpose heavy give wait song will. List...  \n",
       "...                                                 ...  \n",
       "2788  Later hospital turn easy community. Fact same ...  \n",
       "2789   Change lose answer close pressure. Spend so now.  \n",
       "2790  Authority go who television entire hair guy po...  \n",
       "2791  Or western offer wonder ask. More hear phone f...  \n",
       "2792  Republican staff bit eat material measure plan...  \n",
       "\n",
       "[2793 rows x 4 columns]"
      ]
     },
     "execution_count": 6,
     "metadata": {},
     "output_type": "execute_result"
    }
   ],
   "source": [
    "REVIEW = ''' \n",
    "SELECT  \n",
    "    *\n",
    "FROM reviews\n",
    "    \n",
    "        '''\n",
    "pd.io.sql.read_sql(REVIEW, con = engine)"
   ]
  },
  {
   "cell_type": "markdown",
   "metadata": {},
   "source": [
    "В данных 'reviews' о 2793 обзоров на книги от пользователей"
   ]
  },
  {
   "cell_type": "markdown",
   "metadata": {},
   "source": [
    "**Вывод по Шагу 1**\n",
    "\n",
    "Изучив данные из 5 датасетов, мы располагаем следующей информацией:\n",
    "1000 книг бала написана 636 авторами, которые печатались в 340 издательствах. Данным книгам были оставлены 6456 отзыва и написаны 2793 обзора."
   ]
  },
  {
   "cell_type": "markdown",
   "metadata": {},
   "source": [
    "# Шаг 2. Посчитаем, сколько книг вышло после 1 января 2000 года"
   ]
  },
  {
   "cell_type": "code",
   "execution_count": 7,
   "metadata": {},
   "outputs": [
    {
     "data": {
      "text/html": [
       "<div>\n",
       "<style scoped>\n",
       "    .dataframe tbody tr th:only-of-type {\n",
       "        vertical-align: middle;\n",
       "    }\n",
       "\n",
       "    .dataframe tbody tr th {\n",
       "        vertical-align: top;\n",
       "    }\n",
       "\n",
       "    .dataframe thead th {\n",
       "        text-align: right;\n",
       "    }\n",
       "</style>\n",
       "<table border=\"1\" class=\"dataframe\">\n",
       "  <thead>\n",
       "    <tr style=\"text-align: right;\">\n",
       "      <th></th>\n",
       "      <th>title_count</th>\n",
       "    </tr>\n",
       "  </thead>\n",
       "  <tbody>\n",
       "    <tr>\n",
       "      <td>0</td>\n",
       "      <td>821</td>\n",
       "    </tr>\n",
       "  </tbody>\n",
       "</table>\n",
       "</div>"
      ],
      "text/plain": [
       "   title_count\n",
       "0          821"
      ]
     },
     "execution_count": 7,
     "metadata": {},
     "output_type": "execute_result"
    }
   ],
   "source": [
    "data = ''' \n",
    "SELECT \n",
    "    COUNT(title) AS title_count\n",
    "FROM books\n",
    "WHERE\n",
    "    publication_date::date >= '2000-01-01'\n",
    "        '''\n",
    "pd.io.sql.read_sql(data, con = engine)"
   ]
  },
  {
   "cell_type": "markdown",
   "metadata": {},
   "source": [
    "**С января 2000 года было выпущено 821 книга**"
   ]
  },
  {
   "cell_type": "markdown",
   "metadata": {},
   "source": [
    "# Шаг 3. Для каждой книги посчитаем количество обзоров и среднюю оценку"
   ]
  },
  {
   "cell_type": "code",
   "execution_count": 8,
   "metadata": {},
   "outputs": [
    {
     "data": {
      "text/html": [
       "<div>\n",
       "<style scoped>\n",
       "    .dataframe tbody tr th:only-of-type {\n",
       "        vertical-align: middle;\n",
       "    }\n",
       "\n",
       "    .dataframe tbody tr th {\n",
       "        vertical-align: top;\n",
       "    }\n",
       "\n",
       "    .dataframe thead th {\n",
       "        text-align: right;\n",
       "    }\n",
       "</style>\n",
       "<table border=\"1\" class=\"dataframe\">\n",
       "  <thead>\n",
       "    <tr style=\"text-align: right;\">\n",
       "      <th></th>\n",
       "      <th>book_id</th>\n",
       "      <th>review_count</th>\n",
       "      <th>mean_rating</th>\n",
       "    </tr>\n",
       "  </thead>\n",
       "  <tbody>\n",
       "    <tr>\n",
       "      <td>0</td>\n",
       "      <td>1</td>\n",
       "      <td>2.0</td>\n",
       "      <td>3.666667</td>\n",
       "    </tr>\n",
       "    <tr>\n",
       "      <td>1</td>\n",
       "      <td>2</td>\n",
       "      <td>1.0</td>\n",
       "      <td>2.500000</td>\n",
       "    </tr>\n",
       "    <tr>\n",
       "      <td>2</td>\n",
       "      <td>3</td>\n",
       "      <td>3.0</td>\n",
       "      <td>4.666667</td>\n",
       "    </tr>\n",
       "    <tr>\n",
       "      <td>3</td>\n",
       "      <td>4</td>\n",
       "      <td>2.0</td>\n",
       "      <td>4.500000</td>\n",
       "    </tr>\n",
       "    <tr>\n",
       "      <td>4</td>\n",
       "      <td>5</td>\n",
       "      <td>4.0</td>\n",
       "      <td>4.000000</td>\n",
       "    </tr>\n",
       "    <tr>\n",
       "      <td>...</td>\n",
       "      <td>...</td>\n",
       "      <td>...</td>\n",
       "      <td>...</td>\n",
       "    </tr>\n",
       "    <tr>\n",
       "      <td>995</td>\n",
       "      <td>996</td>\n",
       "      <td>3.0</td>\n",
       "      <td>3.666667</td>\n",
       "    </tr>\n",
       "    <tr>\n",
       "      <td>996</td>\n",
       "      <td>997</td>\n",
       "      <td>3.0</td>\n",
       "      <td>3.400000</td>\n",
       "    </tr>\n",
       "    <tr>\n",
       "      <td>997</td>\n",
       "      <td>998</td>\n",
       "      <td>4.0</td>\n",
       "      <td>3.200000</td>\n",
       "    </tr>\n",
       "    <tr>\n",
       "      <td>998</td>\n",
       "      <td>999</td>\n",
       "      <td>2.0</td>\n",
       "      <td>4.500000</td>\n",
       "    </tr>\n",
       "    <tr>\n",
       "      <td>999</td>\n",
       "      <td>1000</td>\n",
       "      <td>4.0</td>\n",
       "      <td>3.833333</td>\n",
       "    </tr>\n",
       "  </tbody>\n",
       "</table>\n",
       "<p>1000 rows × 3 columns</p>\n",
       "</div>"
      ],
      "text/plain": [
       "     book_id  review_count  mean_rating\n",
       "0          1           2.0     3.666667\n",
       "1          2           1.0     2.500000\n",
       "2          3           3.0     4.666667\n",
       "3          4           2.0     4.500000\n",
       "4          5           4.0     4.000000\n",
       "..       ...           ...          ...\n",
       "995      996           3.0     3.666667\n",
       "996      997           3.0     3.400000\n",
       "997      998           4.0     3.200000\n",
       "998      999           2.0     4.500000\n",
       "999     1000           4.0     3.833333\n",
       "\n",
       "[1000 rows x 3 columns]"
      ]
     },
     "execution_count": 8,
     "metadata": {},
     "output_type": "execute_result"
    }
   ],
   "source": [
    "RRA = ''' \n",
    "SELECT\n",
    "    books.book_id,\n",
    "    subq.review_count,\n",
    "    subw.mean_rating\n",
    "FROM\n",
    "    books\n",
    "    LEFT JOIN (\n",
    "        SELECT  \n",
    "            reviews.book_id,\n",
    "            COUNT(reviews.review_id) AS review_count\n",
    "        FROM reviews\n",
    "        GROUP BY\n",
    "            reviews.book_id\n",
    ") AS subq ON subq.book_id = books.book_id \n",
    "    LEFT JOIN (\n",
    "        SELECT  \n",
    "            ratings.book_id,\n",
    "            AVG(ratings.rating) AS mean_rating\n",
    "        FROM ratings\n",
    "        GROUP BY\n",
    "            ratings.book_id\n",
    ") AS subw ON subw.book_id = books.book_id \n",
    "ORDER BY\n",
    "    books.book_id\n",
    "        '''\n",
    "pd.io.sql.read_sql(RRA, con = engine)"
   ]
  },
  {
   "cell_type": "markdown",
   "metadata": {},
   "source": [
    "**Мы получили таблицу с книгами, количеством обзоров на них и средней оченкой**"
   ]
  },
  {
   "cell_type": "markdown",
   "metadata": {},
   "source": [
    "# Шаг 4. Определим издательство, которое выпустило наибольшее число книг толще 50 страниц"
   ]
  },
  {
   "cell_type": "code",
   "execution_count": 9,
   "metadata": {},
   "outputs": [
    {
     "data": {
      "text/html": [
       "<div>\n",
       "<style scoped>\n",
       "    .dataframe tbody tr th:only-of-type {\n",
       "        vertical-align: middle;\n",
       "    }\n",
       "\n",
       "    .dataframe tbody tr th {\n",
       "        vertical-align: top;\n",
       "    }\n",
       "\n",
       "    .dataframe thead th {\n",
       "        text-align: right;\n",
       "    }\n",
       "</style>\n",
       "<table border=\"1\" class=\"dataframe\">\n",
       "  <thead>\n",
       "    <tr style=\"text-align: right;\">\n",
       "      <th></th>\n",
       "      <th>publisher</th>\n",
       "      <th>book_count</th>\n",
       "    </tr>\n",
       "  </thead>\n",
       "  <tbody>\n",
       "    <tr>\n",
       "      <td>0</td>\n",
       "      <td>Penguin Books</td>\n",
       "      <td>42</td>\n",
       "    </tr>\n",
       "    <tr>\n",
       "      <td>1</td>\n",
       "      <td>Vintage</td>\n",
       "      <td>31</td>\n",
       "    </tr>\n",
       "    <tr>\n",
       "      <td>2</td>\n",
       "      <td>Grand Central Publishing</td>\n",
       "      <td>25</td>\n",
       "    </tr>\n",
       "    <tr>\n",
       "      <td>3</td>\n",
       "      <td>Penguin Classics</td>\n",
       "      <td>24</td>\n",
       "    </tr>\n",
       "    <tr>\n",
       "      <td>4</td>\n",
       "      <td>Ballantine Books</td>\n",
       "      <td>19</td>\n",
       "    </tr>\n",
       "    <tr>\n",
       "      <td>...</td>\n",
       "      <td>...</td>\n",
       "      <td>...</td>\n",
       "    </tr>\n",
       "    <tr>\n",
       "      <td>329</td>\n",
       "      <td>Turtleback</td>\n",
       "      <td>1</td>\n",
       "    </tr>\n",
       "    <tr>\n",
       "      <td>330</td>\n",
       "      <td>Atheneum Books for Young Readers: Richard Jack...</td>\n",
       "      <td>1</td>\n",
       "    </tr>\n",
       "    <tr>\n",
       "      <td>331</td>\n",
       "      <td>Penguin Signet</td>\n",
       "      <td>1</td>\n",
       "    </tr>\n",
       "    <tr>\n",
       "      <td>332</td>\n",
       "      <td>Victor Gollancz</td>\n",
       "      <td>1</td>\n",
       "    </tr>\n",
       "    <tr>\n",
       "      <td>333</td>\n",
       "      <td>Harvard Business Review Press</td>\n",
       "      <td>1</td>\n",
       "    </tr>\n",
       "  </tbody>\n",
       "</table>\n",
       "<p>334 rows × 2 columns</p>\n",
       "</div>"
      ],
      "text/plain": [
       "                                             publisher  book_count\n",
       "0                                        Penguin Books          42\n",
       "1                                              Vintage          31\n",
       "2                             Grand Central Publishing          25\n",
       "3                                     Penguin Classics          24\n",
       "4                                     Ballantine Books          19\n",
       "..                                                 ...         ...\n",
       "329                                         Turtleback           1\n",
       "330  Atheneum Books for Young Readers: Richard Jack...           1\n",
       "331                                     Penguin Signet           1\n",
       "332                                    Victor Gollancz           1\n",
       "333                      Harvard Business Review Press           1\n",
       "\n",
       "[334 rows x 2 columns]"
      ]
     },
     "execution_count": 9,
     "metadata": {},
     "output_type": "execute_result"
    }
   ],
   "source": [
    "BP = ''' \n",
    "SELECT  \n",
    "    publisher,\n",
    "    COUNT(book_id) AS book_count\n",
    "FROM books\n",
    "    LEFT JOIN publishers ON publishers.publisher_id = books.publisher_id \n",
    "WHERE \n",
    "    num_pages > 50\n",
    "GROUP BY\n",
    "    publisher\n",
    "ORDER BY\n",
    "    book_count DESC\n",
    "        '''\n",
    "pd.io.sql.read_sql(BP, con = engine)"
   ]
  },
  {
   "cell_type": "markdown",
   "metadata": {},
   "source": [
    "**Мы отбросили книги, число страниц которых составляет 50 и менее, тем самым мы исключили из анализа брошюры. Издательство Penguin Books выпустило наибольшее число книг - 42**\t"
   ]
  },
  {
   "cell_type": "markdown",
   "metadata": {},
   "source": [
    "# Шаг 5. Определим автора с самой высокой средней оценкой книг"
   ]
  },
  {
   "cell_type": "code",
   "execution_count": 10,
   "metadata": {
    "scrolled": true
   },
   "outputs": [
    {
     "data": {
      "text/html": [
       "<div>\n",
       "<style scoped>\n",
       "    .dataframe tbody tr th:only-of-type {\n",
       "        vertical-align: middle;\n",
       "    }\n",
       "\n",
       "    .dataframe tbody tr th {\n",
       "        vertical-align: top;\n",
       "    }\n",
       "\n",
       "    .dataframe thead th {\n",
       "        text-align: right;\n",
       "    }\n",
       "</style>\n",
       "<table border=\"1\" class=\"dataframe\">\n",
       "  <thead>\n",
       "    <tr style=\"text-align: right;\">\n",
       "      <th></th>\n",
       "      <th>author</th>\n",
       "      <th>rating_count</th>\n",
       "      <th>mean_rating</th>\n",
       "    </tr>\n",
       "  </thead>\n",
       "  <tbody>\n",
       "    <tr>\n",
       "      <td>0</td>\n",
       "      <td>Diana Gabaldon</td>\n",
       "      <td>50</td>\n",
       "      <td>4.300000</td>\n",
       "    </tr>\n",
       "    <tr>\n",
       "      <td>1</td>\n",
       "      <td>J.K. Rowling/Mary GrandPré</td>\n",
       "      <td>312</td>\n",
       "      <td>4.288462</td>\n",
       "    </tr>\n",
       "    <tr>\n",
       "      <td>2</td>\n",
       "      <td>Agatha Christie</td>\n",
       "      <td>53</td>\n",
       "      <td>4.283019</td>\n",
       "    </tr>\n",
       "    <tr>\n",
       "      <td>3</td>\n",
       "      <td>Markus Zusak/Cao Xuân Việt Khương</td>\n",
       "      <td>53</td>\n",
       "      <td>4.264151</td>\n",
       "    </tr>\n",
       "    <tr>\n",
       "      <td>4</td>\n",
       "      <td>J.R.R. Tolkien</td>\n",
       "      <td>166</td>\n",
       "      <td>4.240964</td>\n",
       "    </tr>\n",
       "    <tr>\n",
       "      <td>5</td>\n",
       "      <td>Roald Dahl/Quentin Blake</td>\n",
       "      <td>62</td>\n",
       "      <td>4.209677</td>\n",
       "    </tr>\n",
       "    <tr>\n",
       "      <td>6</td>\n",
       "      <td>Louisa May Alcott</td>\n",
       "      <td>54</td>\n",
       "      <td>4.203704</td>\n",
       "    </tr>\n",
       "    <tr>\n",
       "      <td>7</td>\n",
       "      <td>Rick Riordan</td>\n",
       "      <td>84</td>\n",
       "      <td>4.130952</td>\n",
       "    </tr>\n",
       "    <tr>\n",
       "      <td>8</td>\n",
       "      <td>Arthur Golden</td>\n",
       "      <td>56</td>\n",
       "      <td>4.107143</td>\n",
       "    </tr>\n",
       "    <tr>\n",
       "      <td>9</td>\n",
       "      <td>Stephen King</td>\n",
       "      <td>106</td>\n",
       "      <td>4.009434</td>\n",
       "    </tr>\n",
       "    <tr>\n",
       "      <td>10</td>\n",
       "      <td>John Grisham</td>\n",
       "      <td>70</td>\n",
       "      <td>3.971429</td>\n",
       "    </tr>\n",
       "    <tr>\n",
       "      <td>11</td>\n",
       "      <td>William Golding</td>\n",
       "      <td>71</td>\n",
       "      <td>3.901408</td>\n",
       "    </tr>\n",
       "    <tr>\n",
       "      <td>12</td>\n",
       "      <td>Nicholas Sparks</td>\n",
       "      <td>111</td>\n",
       "      <td>3.882883</td>\n",
       "    </tr>\n",
       "    <tr>\n",
       "      <td>13</td>\n",
       "      <td>Jodi Picoult</td>\n",
       "      <td>76</td>\n",
       "      <td>3.881579</td>\n",
       "    </tr>\n",
       "    <tr>\n",
       "      <td>14</td>\n",
       "      <td>Sophie Kinsella</td>\n",
       "      <td>57</td>\n",
       "      <td>3.877193</td>\n",
       "    </tr>\n",
       "    <tr>\n",
       "      <td>15</td>\n",
       "      <td>James Patterson</td>\n",
       "      <td>64</td>\n",
       "      <td>3.859375</td>\n",
       "    </tr>\n",
       "    <tr>\n",
       "      <td>16</td>\n",
       "      <td>J.D. Salinger</td>\n",
       "      <td>98</td>\n",
       "      <td>3.846939</td>\n",
       "    </tr>\n",
       "    <tr>\n",
       "      <td>17</td>\n",
       "      <td>Paulo Coelho/Alan R. Clarke/Özdemir İnce</td>\n",
       "      <td>57</td>\n",
       "      <td>3.789474</td>\n",
       "    </tr>\n",
       "    <tr>\n",
       "      <td>18</td>\n",
       "      <td>William Shakespeare/Paul Werstine/Barbara A. M...</td>\n",
       "      <td>66</td>\n",
       "      <td>3.787879</td>\n",
       "    </tr>\n",
       "    <tr>\n",
       "      <td>19</td>\n",
       "      <td>Dan Brown</td>\n",
       "      <td>143</td>\n",
       "      <td>3.741259</td>\n",
       "    </tr>\n",
       "    <tr>\n",
       "      <td>20</td>\n",
       "      <td>Lois Lowry</td>\n",
       "      <td>65</td>\n",
       "      <td>3.738462</td>\n",
       "    </tr>\n",
       "    <tr>\n",
       "      <td>21</td>\n",
       "      <td>George Orwell/Boris Grabnar/Peter Škerl</td>\n",
       "      <td>74</td>\n",
       "      <td>3.729730</td>\n",
       "    </tr>\n",
       "    <tr>\n",
       "      <td>22</td>\n",
       "      <td>Stephenie Meyer</td>\n",
       "      <td>160</td>\n",
       "      <td>3.662500</td>\n",
       "    </tr>\n",
       "    <tr>\n",
       "      <td>23</td>\n",
       "      <td>John Steinbeck</td>\n",
       "      <td>73</td>\n",
       "      <td>3.643836</td>\n",
       "    </tr>\n",
       "  </tbody>\n",
       "</table>\n",
       "</div>"
      ],
      "text/plain": [
       "                                               author  rating_count  \\\n",
       "0                                      Diana Gabaldon            50   \n",
       "1                          J.K. Rowling/Mary GrandPré           312   \n",
       "2                                     Agatha Christie            53   \n",
       "3                   Markus Zusak/Cao Xuân Việt Khương            53   \n",
       "4                                      J.R.R. Tolkien           166   \n",
       "5                            Roald Dahl/Quentin Blake            62   \n",
       "6                                   Louisa May Alcott            54   \n",
       "7                                        Rick Riordan            84   \n",
       "8                                       Arthur Golden            56   \n",
       "9                                        Stephen King           106   \n",
       "10                                       John Grisham            70   \n",
       "11                                    William Golding            71   \n",
       "12                                    Nicholas Sparks           111   \n",
       "13                                       Jodi Picoult            76   \n",
       "14                                    Sophie Kinsella            57   \n",
       "15                                    James Patterson            64   \n",
       "16                                      J.D. Salinger            98   \n",
       "17           Paulo Coelho/Alan R. Clarke/Özdemir İnce            57   \n",
       "18  William Shakespeare/Paul Werstine/Barbara A. M...            66   \n",
       "19                                          Dan Brown           143   \n",
       "20                                         Lois Lowry            65   \n",
       "21            George Orwell/Boris Grabnar/Peter Škerl            74   \n",
       "22                                    Stephenie Meyer           160   \n",
       "23                                     John Steinbeck            73   \n",
       "\n",
       "    mean_rating  \n",
       "0      4.300000  \n",
       "1      4.288462  \n",
       "2      4.283019  \n",
       "3      4.264151  \n",
       "4      4.240964  \n",
       "5      4.209677  \n",
       "6      4.203704  \n",
       "7      4.130952  \n",
       "8      4.107143  \n",
       "9      4.009434  \n",
       "10     3.971429  \n",
       "11     3.901408  \n",
       "12     3.882883  \n",
       "13     3.881579  \n",
       "14     3.877193  \n",
       "15     3.859375  \n",
       "16     3.846939  \n",
       "17     3.789474  \n",
       "18     3.787879  \n",
       "19     3.741259  \n",
       "20     3.738462  \n",
       "21     3.729730  \n",
       "22     3.662500  \n",
       "23     3.643836  "
      ]
     },
     "execution_count": 10,
     "metadata": {},
     "output_type": "execute_result"
    }
   ],
   "source": [
    "BAR = ''' \n",
    "SELECT  \n",
    "     authors.author,\n",
    "     COUNT(ratings.rating_id) AS rating_count,\n",
    "     AVG(ratings.rating) AS mean_rating\n",
    "FROM books\n",
    "    LEFT JOIN ratings ON ratings.book_id = books.book_id\n",
    "    JOIN authors ON authors.author_id = books.author_id\n",
    "GROUP BY\n",
    "    authors.author\n",
    "HAVING\n",
    "    COUNT(ratings.rating_id) >= 50       \n",
    "ORDER BY\n",
    "    mean_rating DESC\n",
    "        '''\n",
    "pd.io.sql.read_sql(BAR, con = engine)"
   ]
  },
  {
   "cell_type": "markdown",
   "metadata": {},
   "source": [
    "**Мы отбросили книги, число оценок которых составляет 50 и более. Автор с самой высокой средней оценкой книг является Diana Gabaldon, на ее книги получено 50 оценок и средний рейтинг их составляет 4.3**"
   ]
  },
  {
   "cell_type": "markdown",
   "metadata": {},
   "source": [
    "# Шаг 6. Посчитаем среднее количество обзоров от пользователей, которые поставили больше 50 оценок"
   ]
  },
  {
   "cell_type": "code",
   "execution_count": 11,
   "metadata": {},
   "outputs": [
    {
     "data": {
      "text/html": [
       "<div>\n",
       "<style scoped>\n",
       "    .dataframe tbody tr th:only-of-type {\n",
       "        vertical-align: middle;\n",
       "    }\n",
       "\n",
       "    .dataframe tbody tr th {\n",
       "        vertical-align: top;\n",
       "    }\n",
       "\n",
       "    .dataframe thead th {\n",
       "        text-align: right;\n",
       "    }\n",
       "</style>\n",
       "<table border=\"1\" class=\"dataframe\">\n",
       "  <thead>\n",
       "    <tr style=\"text-align: right;\">\n",
       "      <th></th>\n",
       "      <th>avg_week_transaction</th>\n",
       "    </tr>\n",
       "  </thead>\n",
       "  <tbody>\n",
       "    <tr>\n",
       "      <td>0</td>\n",
       "      <td>24.333333</td>\n",
       "    </tr>\n",
       "  </tbody>\n",
       "</table>\n",
       "</div>"
      ],
      "text/plain": [
       "   avg_week_transaction\n",
       "0             24.333333"
      ]
     },
     "execution_count": 11,
     "metadata": {},
     "output_type": "execute_result"
    }
   ],
   "source": [
    "RR = ''' \n",
    "SELECT\n",
    "    AVG(SUBQ.text) AS avg_week_transaction\n",
    "FROM    (\n",
    "        SELECT  \n",
    "            ratings.username, \n",
    "            COUNT(ratings.book_id) AS book_id,\n",
    "            COUNT(reviews.text) AS text\n",
    "        FROM ratings\n",
    "            LEFT JOIN reviews ON reviews.username = ratings.username AND reviews.book_id = ratings.book_id\n",
    "        GROUP BY\n",
    "            ratings.username\n",
    "        HAVING\n",
    "            COUNT(ratings.book_id) > 50      \n",
    "        ORDER BY\n",
    "            book_id DESC\n",
    "    ) AS SUBQ\n",
    "        '''\n",
    "pd.io.sql.read_sql(RR, con = engine)"
   ]
  },
  {
   "cell_type": "code",
   "execution_count": 12,
   "metadata": {},
   "outputs": [
    {
     "data": {
      "text/html": [
       "<div>\n",
       "<style scoped>\n",
       "    .dataframe tbody tr th:only-of-type {\n",
       "        vertical-align: middle;\n",
       "    }\n",
       "\n",
       "    .dataframe tbody tr th {\n",
       "        vertical-align: top;\n",
       "    }\n",
       "\n",
       "    .dataframe thead th {\n",
       "        text-align: right;\n",
       "    }\n",
       "</style>\n",
       "<table border=\"1\" class=\"dataframe\">\n",
       "  <thead>\n",
       "    <tr style=\"text-align: right;\">\n",
       "      <th></th>\n",
       "      <th>avg</th>\n",
       "    </tr>\n",
       "  </thead>\n",
       "  <tbody>\n",
       "    <tr>\n",
       "      <td>0</td>\n",
       "      <td>24.333333</td>\n",
       "    </tr>\n",
       "  </tbody>\n",
       "</table>\n",
       "</div>"
      ],
      "text/plain": [
       "         avg\n",
       "0  24.333333"
      ]
     },
     "execution_count": 12,
     "metadata": {},
     "output_type": "execute_result"
    }
   ],
   "source": [
    "pd.read_sql(\"\"\"\n",
    "SELECT avg(count) \n",
    "FROM (SELECT username, count(text) \n",
    "        FROM reviews re WHERE re.username in (\n",
    "                    SELECT r.username FROM ratings r \n",
    "                    GROUP BY r.username\n",
    "                    HAVING count(r.rating) > 50)\n",
    "GROUP BY username) as counts\n",
    "\"\"\", con = engine)"
   ]
  },
  {
   "cell_type": "markdown",
   "metadata": {},
   "source": [
    "**Среднее количество обзоров от пользователей, которые поставили больше 50 оценок, составляет 24.3**"
   ]
  },
  {
   "cell_type": "markdown",
   "metadata": {},
   "source": [
    "# Шаг 7. Сформулируем выводы"
   ]
  },
  {
   "cell_type": "markdown",
   "metadata": {},
   "source": [
    "<div class=\"alert alert-info\" role=\"alert\">\n",
    "   \n",
    "В нашем распоряжении информация о книгах, издательствах, авторах, а также пользовательские обзоры книг.\n",
    "    \n",
    "<b>Наша задача — проанализировать базу данных</b>    \n",
    "    \n",
    "<b>Описание данных:</b>\n",
    "    \n",
    "**Таблица `books`**\n",
    "\n",
    "Содержит данные о книгах:\n",
    "\n",
    "- `book_id` — идентификатор книги;\n",
    "- `author_id` — идентификатор автора;\n",
    "- `title` — название книги;\n",
    "- `num_pages` — количество страниц;\n",
    "- `publication_date` — дата публикации книги;\n",
    "- `publisher_id` — идентификатор издателя.\n",
    "\n",
    "**Таблица `authors`**\n",
    "\n",
    "Содержит данные об авторах:\n",
    "\n",
    "- `author_id` — идентификатор автора;\n",
    "- `author` — имя автора.\n",
    "\n",
    "**Таблица `publishers`**\n",
    "\n",
    "Содержит данные об издательствах:\n",
    "\n",
    "- `publisher_id` — идентификатор издательства;\n",
    "- `publisher` — название издательства;\n",
    "\n",
    "**Таблица `ratings`**\n",
    "\n",
    "Содержит данные о пользовательских оценках книг:\n",
    "\n",
    "- `rating_id` — идентификатор оценки;\n",
    "- `book_id` — идентификатор книги;\n",
    "- `username` — имя пользователя, оставившего оценку;\n",
    "- `rating` — оценка книги.\n",
    "\n",
    "**Таблица `reviews`**\n",
    "\n",
    "Содержит данные о пользовательских обзорах на книги:\n",
    "\n",
    "- `review_id` — идентификатор обзора;\n",
    "- `book_id` — идентификатор книги;\n",
    "- `username` — имя пользователя, написавшего обзор;\n",
    "- `text` — текст обзора.\n",
    "\n",
    "<b>Шаг 1. Загрузим данные и изучим общую информацию </b>\n",
    "    \n",
    "Изучив данные из 5 датасетов, мы располагаем следующей информацией: 1000 книг бала написана 636 авторами, которые печатались в 340 издательствах. Данным книгам были оставлены 6456 отзыва и написаны 2793 обзора   \n",
    "    \n",
    "<b>Шаг 2. Посчитаем, сколько книг вышло после 1 января 2000 года</b>\n",
    "    \n",
    "С января 2000 года было выпущено 821 книга  \n",
    "        \n",
    "<b>Шаг 3. Для каждой книги посчитаем количество обзоров и среднюю оценку</b>    \n",
    "    \n",
    "Мы получили таблицу с книгами, количеством обзоров на них и средней оченкой\n",
    "   \n",
    "<b>Шаг 4. Определим издательство, которое выпустило наибольшее число книг толще 50 страниц</b>    \n",
    "    \n",
    "Мы отбросили книги, число страниц которых составляет 50 и менее, тем самым мы исключили из анализа брошюры. Издательство Penguin Books выпустило наибольшее число книг - 42    \n",
    "        \n",
    "<b>Шаг 5. Определим автора с самой высокой средней оценкой книг</b>   \n",
    "    \n",
    "Мы отбросили книги, число оценок которых составляет 50 и более. Автор с самой высокой средней оценкой книг является Diana Gabaldon, на ее книги получено 50 оценок и средний рейтинг их составляет 4.3    \n",
    "       \n",
    "<b>Шаг 6. Посчитаем среднее количество обзоров от пользователей, которые поставили больше 50 оценок</b>    \n",
    "    \n",
    "Среднее количество обзоров от пользователей, которые поставили больше 50 оценок, составляет 24.3    \n",
    "    \n",
    "<b>Шаг 7. Сформулируем выводы</b>      \n",
    "\n",
    "    \n",
    "</div>"
   ]
  },
  {
   "cell_type": "code",
   "execution_count": null,
   "metadata": {},
   "outputs": [],
   "source": []
  }
 ],
 "metadata": {
  "ExecuteTimeLog": [
   {
    "duration": 113,
    "start_time": "2021-07-24T14:54:48.717Z"
   },
   {
    "duration": 109,
    "start_time": "2021-07-24T14:59:09.457Z"
   },
   {
    "duration": 887,
    "start_time": "2021-07-24T15:00:55.474Z"
   },
   {
    "duration": 6,
    "start_time": "2021-07-24T15:04:18.010Z"
   },
   {
    "duration": 101,
    "start_time": "2021-07-24T15:04:43.201Z"
   },
   {
    "duration": 6,
    "start_time": "2021-07-24T15:32:07.801Z"
   },
   {
    "duration": 3,
    "start_time": "2021-07-24T15:34:50.007Z"
   },
   {
    "duration": 1238,
    "start_time": "2021-07-24T15:35:04.254Z"
   },
   {
    "duration": 383,
    "start_time": "2021-07-24T15:35:41.703Z"
   },
   {
    "duration": 3,
    "start_time": "2021-07-24T15:35:54.670Z"
   },
   {
    "duration": 358,
    "start_time": "2021-07-24T15:35:55.239Z"
   },
   {
    "duration": 610,
    "start_time": "2021-07-24T15:36:09.319Z"
   },
   {
    "duration": 332,
    "start_time": "2021-07-24T15:37:01.118Z"
   },
   {
    "duration": 4,
    "start_time": "2021-07-24T15:37:19.172Z"
   },
   {
    "duration": 317,
    "start_time": "2021-07-24T15:37:26.981Z"
   },
   {
    "duration": 3,
    "start_time": "2021-07-24T15:39:08.444Z"
   },
   {
    "duration": 4,
    "start_time": "2021-07-24T15:40:00.626Z"
   },
   {
    "duration": 41,
    "start_time": "2021-07-24T15:40:01.131Z"
   },
   {
    "duration": 323,
    "start_time": "2021-07-24T16:02:23.781Z"
   },
   {
    "duration": 31,
    "start_time": "2021-07-24T16:02:44.726Z"
   },
   {
    "duration": 4,
    "start_time": "2021-07-24T16:03:01.486Z"
   },
   {
    "duration": 31,
    "start_time": "2021-07-24T16:03:02.814Z"
   },
   {
    "duration": 3,
    "start_time": "2021-07-24T16:03:34.950Z"
   },
   {
    "duration": 20,
    "start_time": "2021-07-24T16:03:45.030Z"
   },
   {
    "duration": 305,
    "start_time": "2021-07-24T16:03:54.582Z"
   },
   {
    "duration": 345,
    "start_time": "2021-07-24T16:04:03.566Z"
   },
   {
    "duration": 4,
    "start_time": "2021-07-24T16:04:16.403Z"
   },
   {
    "duration": 417,
    "start_time": "2021-07-24T16:04:16.410Z"
   },
   {
    "duration": 20,
    "start_time": "2021-07-24T16:04:23.389Z"
   },
   {
    "duration": 19,
    "start_time": "2021-07-24T16:05:04.029Z"
   },
   {
    "duration": 40,
    "start_time": "2021-07-24T16:06:03.092Z"
   },
   {
    "duration": 29,
    "start_time": "2021-07-24T16:06:35.979Z"
   },
   {
    "duration": 872,
    "start_time": "2021-07-24T16:08:02.487Z"
   },
   {
    "duration": 3,
    "start_time": "2021-07-24T16:08:03.362Z"
   },
   {
    "duration": 63,
    "start_time": "2021-07-24T16:08:03.385Z"
   },
   {
    "duration": 4,
    "start_time": "2021-07-24T16:08:03.452Z"
   },
   {
    "duration": 33,
    "start_time": "2021-07-24T16:08:03.460Z"
   },
   {
    "duration": 18,
    "start_time": "2021-07-24T16:08:03.495Z"
   },
   {
    "duration": 56,
    "start_time": "2021-07-24T16:08:03.516Z"
   },
   {
    "duration": 31,
    "start_time": "2021-07-24T16:08:03.576Z"
   },
   {
    "duration": 3,
    "start_time": "2021-07-24T16:08:25.239Z"
   },
   {
    "duration": 30,
    "start_time": "2021-07-24T16:08:26.366Z"
   },
   {
    "duration": 33,
    "start_time": "2021-07-24T17:08:09.299Z"
   },
   {
    "duration": 20,
    "start_time": "2021-07-24T17:08:25.489Z"
   },
   {
    "duration": 5,
    "start_time": "2021-07-24T17:10:25.434Z"
   },
   {
    "duration": 15,
    "start_time": "2021-07-24T17:11:48.212Z"
   },
   {
    "duration": 31,
    "start_time": "2021-07-24T17:12:27.254Z"
   },
   {
    "duration": 16,
    "start_time": "2021-07-24T17:12:37.518Z"
   },
   {
    "duration": 20,
    "start_time": "2021-07-24T17:12:44.581Z"
   },
   {
    "duration": 435,
    "start_time": "2021-07-24T17:16:29.814Z"
   },
   {
    "duration": 9,
    "start_time": "2021-07-24T17:16:53.402Z"
   },
   {
    "duration": 6,
    "start_time": "2021-07-24T17:17:43.721Z"
   },
   {
    "duration": 5,
    "start_time": "2021-07-24T17:17:44.887Z"
   },
   {
    "duration": 329,
    "start_time": "2021-07-24T17:19:31.576Z"
   },
   {
    "duration": 32,
    "start_time": "2021-07-24T17:19:42.648Z"
   },
   {
    "duration": 9,
    "start_time": "2021-07-24T17:20:40.957Z"
   },
   {
    "duration": 11,
    "start_time": "2021-07-24T17:23:59.399Z"
   },
   {
    "duration": 73,
    "start_time": "2021-07-24T17:24:06.844Z"
   },
   {
    "duration": 11,
    "start_time": "2021-07-24T17:24:17.589Z"
   },
   {
    "duration": 21,
    "start_time": "2021-07-24T17:24:26.020Z"
   },
   {
    "duration": 12,
    "start_time": "2021-07-24T17:24:53.051Z"
   },
   {
    "duration": 11,
    "start_time": "2021-07-24T17:25:15.747Z"
   },
   {
    "duration": 13,
    "start_time": "2021-07-24T17:25:57.659Z"
   },
   {
    "duration": 9,
    "start_time": "2021-07-24T17:27:16.193Z"
   },
   {
    "duration": 9,
    "start_time": "2021-07-24T17:27:34.458Z"
   },
   {
    "duration": 9,
    "start_time": "2021-07-24T17:27:42.440Z"
   },
   {
    "duration": 33,
    "start_time": "2021-07-24T17:32:32.216Z"
   },
   {
    "duration": 25,
    "start_time": "2021-07-24T17:33:38.388Z"
   },
   {
    "duration": 37,
    "start_time": "2021-07-24T17:33:42.787Z"
   },
   {
    "duration": 24,
    "start_time": "2021-07-24T17:35:01.231Z"
   },
   {
    "duration": 34,
    "start_time": "2021-07-24T17:35:06.792Z"
   },
   {
    "duration": 37,
    "start_time": "2021-07-24T17:37:58.564Z"
   },
   {
    "duration": 31,
    "start_time": "2021-07-24T17:38:30.854Z"
   },
   {
    "duration": 26,
    "start_time": "2021-07-24T17:38:48.848Z"
   },
   {
    "duration": 33,
    "start_time": "2021-07-24T17:39:58.487Z"
   },
   {
    "duration": 25,
    "start_time": "2021-07-24T17:40:39.991Z"
   },
   {
    "duration": 10,
    "start_time": "2021-07-24T17:47:32.982Z"
   },
   {
    "duration": 9,
    "start_time": "2021-07-24T17:47:33.735Z"
   },
   {
    "duration": 21,
    "start_time": "2021-07-24T17:48:20.214Z"
   },
   {
    "duration": 11,
    "start_time": "2021-07-24T17:50:02.822Z"
   },
   {
    "duration": 27,
    "start_time": "2021-07-24T17:50:09.709Z"
   },
   {
    "duration": 9,
    "start_time": "2021-07-24T17:51:36.572Z"
   },
   {
    "duration": 24,
    "start_time": "2021-07-24T17:59:23.256Z"
   },
   {
    "duration": 31,
    "start_time": "2021-07-24T17:59:40.005Z"
   },
   {
    "duration": 30,
    "start_time": "2021-07-24T17:59:57.277Z"
   },
   {
    "duration": 23,
    "start_time": "2021-07-24T18:00:28.565Z"
   },
   {
    "duration": 10,
    "start_time": "2021-07-24T18:02:04.712Z"
   },
   {
    "duration": 9,
    "start_time": "2021-07-24T18:02:04.907Z"
   },
   {
    "duration": 13,
    "start_time": "2021-07-24T18:02:18.594Z"
   },
   {
    "duration": 10,
    "start_time": "2021-07-24T18:03:07.026Z"
   },
   {
    "duration": 303,
    "start_time": "2021-07-24T18:09:19.311Z"
   },
   {
    "duration": 18,
    "start_time": "2021-07-24T18:09:24.564Z"
   },
   {
    "duration": 37,
    "start_time": "2021-07-24T18:09:25.036Z"
   },
   {
    "duration": 26,
    "start_time": "2021-07-24T18:11:58.798Z"
   },
   {
    "duration": 24,
    "start_time": "2021-07-24T18:12:18.914Z"
   },
   {
    "duration": 38,
    "start_time": "2021-07-24T18:12:49.689Z"
   },
   {
    "duration": 37,
    "start_time": "2021-07-24T18:13:19.169Z"
   },
   {
    "duration": 33,
    "start_time": "2021-07-24T18:13:26.875Z"
   },
   {
    "duration": 8,
    "start_time": "2021-07-24T18:14:58.047Z"
   },
   {
    "duration": 15,
    "start_time": "2021-07-24T18:15:02.519Z"
   },
   {
    "duration": 30,
    "start_time": "2021-07-24T18:15:15.639Z"
   },
   {
    "duration": 20,
    "start_time": "2021-07-24T18:15:16.287Z"
   },
   {
    "duration": 32,
    "start_time": "2021-07-24T18:15:39.486Z"
   },
   {
    "duration": 19,
    "start_time": "2021-07-24T18:15:40.031Z"
   },
   {
    "duration": 38,
    "start_time": "2021-07-24T18:21:53.958Z"
   },
   {
    "duration": 17,
    "start_time": "2021-07-24T18:24:03.862Z"
   },
   {
    "duration": 313,
    "start_time": "2021-07-24T18:26:46.628Z"
   },
   {
    "duration": 30,
    "start_time": "2021-07-24T18:26:51.245Z"
   },
   {
    "duration": 25,
    "start_time": "2021-07-24T18:26:51.628Z"
   },
   {
    "duration": 57,
    "start_time": "2021-07-24T18:28:14.507Z"
   },
   {
    "duration": 368,
    "start_time": "2021-07-24T18:30:08.049Z"
   },
   {
    "duration": 28,
    "start_time": "2021-07-24T18:30:10.577Z"
   },
   {
    "duration": 22,
    "start_time": "2021-07-24T18:30:11.217Z"
   },
   {
    "duration": 52,
    "start_time": "2021-07-24T18:30:12.496Z"
   },
   {
    "duration": 48,
    "start_time": "2021-07-24T18:30:26.752Z"
   },
   {
    "duration": 44,
    "start_time": "2021-07-24T18:30:55.192Z"
   },
   {
    "duration": 40,
    "start_time": "2021-07-24T18:31:29.231Z"
   },
   {
    "duration": 39,
    "start_time": "2021-07-24T18:31:44.391Z"
   },
   {
    "duration": 17,
    "start_time": "2021-07-24T18:32:35.303Z"
   },
   {
    "duration": 10,
    "start_time": "2021-07-24T18:33:08.088Z"
   },
   {
    "duration": 18,
    "start_time": "2021-07-24T18:35:51.797Z"
   },
   {
    "duration": 33,
    "start_time": "2021-07-24T18:37:28.291Z"
   },
   {
    "duration": 21,
    "start_time": "2021-07-24T18:37:49.338Z"
   },
   {
    "duration": 311,
    "start_time": "2021-07-24T18:38:06.233Z"
   },
   {
    "duration": 31,
    "start_time": "2021-07-24T18:40:09.591Z"
   },
   {
    "duration": 23,
    "start_time": "2021-07-24T18:40:11.064Z"
   },
   {
    "duration": 318,
    "start_time": "2021-07-24T18:40:30.655Z"
   },
   {
    "duration": 31,
    "start_time": "2021-07-24T18:40:41.096Z"
   },
   {
    "duration": 21,
    "start_time": "2021-07-24T18:40:42.126Z"
   },
   {
    "duration": 26,
    "start_time": "2021-07-24T18:41:03.759Z"
   },
   {
    "duration": 23,
    "start_time": "2021-07-24T18:41:05.095Z"
   },
   {
    "duration": 48,
    "start_time": "2021-07-24T18:41:13.958Z"
   },
   {
    "duration": 22,
    "start_time": "2021-07-24T18:43:55.287Z"
   },
   {
    "duration": 24,
    "start_time": "2021-07-24T18:43:55.859Z"
   },
   {
    "duration": 14,
    "start_time": "2021-07-24T18:45:07.731Z"
   },
   {
    "duration": 28,
    "start_time": "2021-07-24T18:45:09.082Z"
   },
   {
    "duration": 12,
    "start_time": "2021-07-24T18:45:20.538Z"
   },
   {
    "duration": 13,
    "start_time": "2021-07-24T18:45:46.001Z"
   },
   {
    "duration": 23,
    "start_time": "2021-07-24T18:45:47.298Z"
   },
   {
    "duration": 14,
    "start_time": "2021-07-24T18:46:04.001Z"
   },
   {
    "duration": 25,
    "start_time": "2021-07-24T18:46:04.818Z"
   },
   {
    "duration": 23,
    "start_time": "2021-07-24T18:49:49.912Z"
   },
   {
    "duration": 30,
    "start_time": "2021-07-24T18:50:00.212Z"
   },
   {
    "duration": 41,
    "start_time": "2021-07-24T18:50:02.983Z"
   },
   {
    "duration": 30,
    "start_time": "2021-07-24T18:50:16.798Z"
   },
   {
    "duration": 7,
    "start_time": "2021-07-24T18:51:44.741Z"
   },
   {
    "duration": 21,
    "start_time": "2021-07-24T18:51:50.500Z"
   },
   {
    "duration": 21,
    "start_time": "2021-07-24T18:52:01.036Z"
   },
   {
    "duration": 15,
    "start_time": "2021-07-24T18:53:04.131Z"
   },
   {
    "duration": 12,
    "start_time": "2021-07-24T18:53:26.050Z"
   },
   {
    "duration": 15,
    "start_time": "2021-07-24T18:55:48.257Z"
   },
   {
    "duration": 22,
    "start_time": "2021-07-24T18:56:25.352Z"
   },
   {
    "duration": 29,
    "start_time": "2021-07-24T18:56:26.040Z"
   },
   {
    "duration": 11,
    "start_time": "2021-07-24T18:56:35.199Z"
   },
   {
    "duration": 17,
    "start_time": "2021-07-24T18:57:36.654Z"
   },
   {
    "duration": 23,
    "start_time": "2021-07-24T18:58:45.950Z"
   },
   {
    "duration": 516,
    "start_time": "2021-07-24T18:59:09.083Z"
   },
   {
    "duration": 25,
    "start_time": "2021-07-24T18:59:13.694Z"
   },
   {
    "duration": 29,
    "start_time": "2021-07-24T18:59:29.573Z"
   },
   {
    "duration": 27,
    "start_time": "2021-07-24T19:00:37.069Z"
   },
   {
    "duration": 32,
    "start_time": "2021-07-24T19:01:24.420Z"
   },
   {
    "duration": 26,
    "start_time": "2021-07-24T19:01:34.939Z"
   },
   {
    "duration": 8,
    "start_time": "2021-07-24T19:01:53.555Z"
   },
   {
    "duration": 30,
    "start_time": "2021-07-24T20:10:58.504Z"
   },
   {
    "duration": 137,
    "start_time": "2021-07-24T20:12:05.106Z"
   },
   {
    "duration": 112,
    "start_time": "2021-07-24T20:17:30.679Z"
   },
   {
    "duration": 96,
    "start_time": "2021-07-24T20:18:57.747Z"
   },
   {
    "duration": 113,
    "start_time": "2021-07-24T20:19:57.882Z"
   },
   {
    "duration": 193,
    "start_time": "2021-07-24T20:20:08.194Z"
   },
   {
    "duration": 131,
    "start_time": "2021-07-24T20:20:38.009Z"
   },
   {
    "duration": 100,
    "start_time": "2021-07-24T20:22:26.527Z"
   },
   {
    "duration": 6,
    "start_time": "2021-07-24T20:23:21.892Z"
   },
   {
    "duration": 48,
    "start_time": "2021-07-24T20:23:22.646Z"
   },
   {
    "duration": 5,
    "start_time": "2021-07-24T20:53:45.226Z"
   },
   {
    "duration": 5,
    "start_time": "2021-07-24T20:53:54.066Z"
   },
   {
    "duration": 5,
    "start_time": "2021-07-24T20:53:59.786Z"
   },
   {
    "duration": 101,
    "start_time": "2021-07-24T20:54:09.305Z"
   },
   {
    "duration": 153,
    "start_time": "2021-07-24T20:54:37.073Z"
   },
   {
    "duration": 91,
    "start_time": "2021-07-24T20:54:49.521Z"
   },
   {
    "duration": 31,
    "start_time": "2021-07-24T20:55:51.384Z"
   },
   {
    "duration": 307,
    "start_time": "2021-07-24T20:56:20.528Z"
   },
   {
    "duration": 19,
    "start_time": "2021-07-24T20:56:31.032Z"
   },
   {
    "duration": 19,
    "start_time": "2021-07-24T20:56:51.543Z"
   },
   {
    "duration": 411,
    "start_time": "2021-07-24T20:57:22.015Z"
   },
   {
    "duration": 15,
    "start_time": "2021-07-24T20:57:44.278Z"
   },
   {
    "duration": 16,
    "start_time": "2021-07-24T20:58:04.782Z"
   },
   {
    "duration": 333,
    "start_time": "2021-07-24T20:59:26.405Z"
   },
   {
    "duration": 13,
    "start_time": "2021-07-24T20:59:31.213Z"
   },
   {
    "duration": 14,
    "start_time": "2021-07-24T21:01:17.451Z"
   },
   {
    "duration": 437,
    "start_time": "2021-07-24T21:11:42.068Z"
   },
   {
    "duration": 324,
    "start_time": "2021-07-24T21:11:49.935Z"
   },
   {
    "duration": 312,
    "start_time": "2021-07-24T21:11:58.401Z"
   },
   {
    "duration": 321,
    "start_time": "2021-07-24T21:12:08.025Z"
   },
   {
    "duration": 326,
    "start_time": "2021-07-24T21:12:24.009Z"
   },
   {
    "duration": 325,
    "start_time": "2021-07-24T21:13:24.608Z"
   },
   {
    "duration": 335,
    "start_time": "2021-07-24T21:13:40.319Z"
   },
   {
    "duration": 314,
    "start_time": "2021-07-24T21:13:51.560Z"
   },
   {
    "duration": 315,
    "start_time": "2021-07-24T21:14:24.000Z"
   },
   {
    "duration": 23,
    "start_time": "2021-07-24T21:16:33.525Z"
   },
   {
    "duration": 332,
    "start_time": "2021-07-24T21:16:55.369Z"
   },
   {
    "duration": 23,
    "start_time": "2021-07-24T21:20:02.194Z"
   },
   {
    "duration": 25,
    "start_time": "2021-07-24T21:20:09.601Z"
   },
   {
    "duration": 347,
    "start_time": "2021-07-24T21:20:56.769Z"
   },
   {
    "duration": 72,
    "start_time": "2021-07-24T21:21:36.488Z"
   },
   {
    "duration": 33,
    "start_time": "2021-07-24T21:21:51.497Z"
   },
   {
    "duration": 22,
    "start_time": "2021-07-24T21:23:45.134Z"
   },
   {
    "duration": 323,
    "start_time": "2021-07-24T21:24:28.613Z"
   },
   {
    "duration": 320,
    "start_time": "2021-07-24T21:25:09.541Z"
   },
   {
    "duration": 313,
    "start_time": "2021-07-24T21:25:21.997Z"
   },
   {
    "duration": 329,
    "start_time": "2021-07-24T21:26:01.188Z"
   },
   {
    "duration": 23,
    "start_time": "2021-07-24T21:26:09.860Z"
   },
   {
    "duration": 315,
    "start_time": "2021-07-24T21:27:10.704Z"
   },
   {
    "duration": 49,
    "start_time": "2021-07-24T21:27:43.794Z"
   },
   {
    "duration": 455,
    "start_time": "2021-07-24T21:28:49.743Z"
   },
   {
    "duration": 347,
    "start_time": "2021-07-24T21:30:30.529Z"
   },
   {
    "duration": 260,
    "start_time": "2021-07-24T21:30:52.160Z"
   },
   {
    "duration": 273,
    "start_time": "2021-07-24T21:31:07.799Z"
   },
   {
    "duration": 259,
    "start_time": "2021-07-24T21:32:05.327Z"
   },
   {
    "duration": 52,
    "start_time": "2021-07-24T21:36:12.043Z"
   },
   {
    "duration": 24,
    "start_time": "2021-07-24T21:38:28.921Z"
   },
   {
    "duration": 18,
    "start_time": "2021-07-24T21:40:08.487Z"
   },
   {
    "duration": 282,
    "start_time": "2021-07-24T21:42:20.517Z"
   },
   {
    "duration": 294,
    "start_time": "2021-07-24T21:42:30.962Z"
   },
   {
    "duration": 334,
    "start_time": "2021-07-24T21:44:51.347Z"
   },
   {
    "duration": 166,
    "start_time": "2021-07-24T21:45:11.603Z"
   },
   {
    "duration": 114,
    "start_time": "2021-07-24T21:46:48.824Z"
   },
   {
    "duration": 288,
    "start_time": "2021-07-24T21:48:19.840Z"
   },
   {
    "duration": 346,
    "start_time": "2021-07-24T21:50:04.534Z"
   },
   {
    "duration": 22,
    "start_time": "2021-07-24T21:50:16.725Z"
   },
   {
    "duration": 73,
    "start_time": "2021-07-24T21:50:30.237Z"
   },
   {
    "duration": 331,
    "start_time": "2021-07-24T21:51:49.860Z"
   },
   {
    "duration": 354,
    "start_time": "2021-07-24T21:51:59.812Z"
   },
   {
    "duration": 24,
    "start_time": "2021-07-24T21:52:06.012Z"
   },
   {
    "duration": 85,
    "start_time": "2021-07-24T21:52:39.451Z"
   },
   {
    "duration": 88,
    "start_time": "2021-07-24T21:52:50.971Z"
   },
   {
    "duration": 81,
    "start_time": "2021-07-24T21:53:19.667Z"
   },
   {
    "duration": 87,
    "start_time": "2021-07-24T21:53:24.890Z"
   },
   {
    "duration": 376,
    "start_time": "2021-07-24T21:54:16.634Z"
   },
   {
    "duration": 84,
    "start_time": "2021-07-24T21:54:28.298Z"
   },
   {
    "duration": 81,
    "start_time": "2021-07-24T21:54:35.105Z"
   },
   {
    "duration": 85,
    "start_time": "2021-07-24T21:55:49.561Z"
   },
   {
    "duration": 84,
    "start_time": "2021-07-24T21:56:10.681Z"
   },
   {
    "duration": 339,
    "start_time": "2021-07-24T21:56:23.112Z"
   },
   {
    "duration": 79,
    "start_time": "2021-07-24T21:56:27.896Z"
   },
   {
    "duration": 83,
    "start_time": "2021-07-24T21:56:47.359Z"
   },
   {
    "duration": 84,
    "start_time": "2021-07-24T21:56:52.303Z"
   },
   {
    "duration": 88,
    "start_time": "2021-07-24T21:57:20.031Z"
   },
   {
    "duration": 75,
    "start_time": "2021-07-24T21:57:24.719Z"
   },
   {
    "duration": 80,
    "start_time": "2021-07-24T21:57:34.215Z"
   },
   {
    "duration": 83,
    "start_time": "2021-07-24T22:02:03.346Z"
   },
   {
    "duration": 874,
    "start_time": "2021-07-25T08:57:19.867Z"
   },
   {
    "duration": 66,
    "start_time": "2021-07-25T08:57:20.744Z"
   },
   {
    "duration": 19,
    "start_time": "2021-07-25T08:57:20.815Z"
   },
   {
    "duration": 9,
    "start_time": "2021-07-25T08:57:20.836Z"
   },
   {
    "duration": 52,
    "start_time": "2021-07-25T08:57:20.848Z"
   },
   {
    "duration": 18,
    "start_time": "2021-07-25T08:57:20.903Z"
   },
   {
    "duration": 391,
    "start_time": "2021-07-25T08:57:20.925Z"
   },
   {
    "duration": -407,
    "start_time": "2021-07-25T08:57:21.727Z"
   },
   {
    "duration": -408,
    "start_time": "2021-07-25T08:57:21.730Z"
   },
   {
    "duration": -414,
    "start_time": "2021-07-25T08:57:21.737Z"
   },
   {
    "duration": -413,
    "start_time": "2021-07-25T08:57:21.738Z"
   },
   {
    "duration": -414,
    "start_time": "2021-07-25T08:57:21.740Z"
   },
   {
    "duration": -414,
    "start_time": "2021-07-25T08:57:21.741Z"
   },
   {
    "duration": -419,
    "start_time": "2021-07-25T08:57:21.747Z"
   },
   {
    "duration": -418,
    "start_time": "2021-07-25T08:57:21.748Z"
   },
   {
    "duration": -418,
    "start_time": "2021-07-25T08:57:21.749Z"
   },
   {
    "duration": -418,
    "start_time": "2021-07-25T08:57:21.751Z"
   },
   {
    "duration": -418,
    "start_time": "2021-07-25T08:57:21.752Z"
   },
   {
    "duration": -421,
    "start_time": "2021-07-25T08:57:21.756Z"
   },
   {
    "duration": -422,
    "start_time": "2021-07-25T08:57:21.758Z"
   },
   {
    "duration": -422,
    "start_time": "2021-07-25T08:57:21.759Z"
   },
   {
    "duration": -448,
    "start_time": "2021-07-25T08:57:21.787Z"
   },
   {
    "duration": -448,
    "start_time": "2021-07-25T08:57:21.788Z"
   },
   {
    "duration": -448,
    "start_time": "2021-07-25T08:57:21.790Z"
   },
   {
    "duration": -448,
    "start_time": "2021-07-25T08:57:21.791Z"
   },
   {
    "duration": -451,
    "start_time": "2021-07-25T08:57:21.795Z"
   },
   {
    "duration": -451,
    "start_time": "2021-07-25T08:57:21.797Z"
   },
   {
    "duration": -451,
    "start_time": "2021-07-25T08:57:21.798Z"
   },
   {
    "duration": -453,
    "start_time": "2021-07-25T08:57:21.802Z"
   },
   {
    "duration": -453,
    "start_time": "2021-07-25T08:57:21.804Z"
   },
   {
    "duration": -453,
    "start_time": "2021-07-25T08:57:21.805Z"
   },
   {
    "duration": -456,
    "start_time": "2021-07-25T08:57:21.810Z"
   },
   {
    "duration": -457,
    "start_time": "2021-07-25T08:57:21.812Z"
   },
   {
    "duration": -457,
    "start_time": "2021-07-25T08:57:21.813Z"
   },
   {
    "duration": -461,
    "start_time": "2021-07-25T08:57:21.818Z"
   },
   {
    "duration": -464,
    "start_time": "2021-07-25T08:57:21.822Z"
   },
   {
    "duration": -465,
    "start_time": "2021-07-25T08:57:21.824Z"
   },
   {
    "duration": -440,
    "start_time": "2021-07-25T08:57:21.825Z"
   },
   {
    "duration": -442,
    "start_time": "2021-07-25T08:57:21.828Z"
   },
   {
    "duration": -442,
    "start_time": "2021-07-25T08:57:21.830Z"
   },
   {
    "duration": -442,
    "start_time": "2021-07-25T08:57:21.831Z"
   },
   {
    "duration": -447,
    "start_time": "2021-07-25T08:57:21.838Z"
   },
   {
    "duration": -451,
    "start_time": "2021-07-25T08:57:21.843Z"
   },
   {
    "duration": -451,
    "start_time": "2021-07-25T08:57:21.844Z"
   },
   {
    "duration": -450,
    "start_time": "2021-07-25T08:57:21.845Z"
   },
   {
    "duration": -451,
    "start_time": "2021-07-25T08:57:21.847Z"
   },
   {
    "duration": -451,
    "start_time": "2021-07-25T08:57:21.848Z"
   },
   {
    "duration": -455,
    "start_time": "2021-07-25T08:57:21.854Z"
   },
   {
    "duration": -481,
    "start_time": "2021-07-25T08:57:21.881Z"
   },
   {
    "duration": 5,
    "start_time": "2021-07-25T08:58:18.782Z"
   },
   {
    "duration": 299,
    "start_time": "2021-07-25T08:58:33.045Z"
   },
   {
    "duration": 872,
    "start_time": "2021-07-25T08:59:11.499Z"
   },
   {
    "duration": 36,
    "start_time": "2021-07-25T08:59:12.373Z"
   },
   {
    "duration": 10,
    "start_time": "2021-07-25T08:59:12.412Z"
   },
   {
    "duration": 13,
    "start_time": "2021-07-25T08:59:12.424Z"
   },
   {
    "duration": 29,
    "start_time": "2021-07-25T08:59:12.439Z"
   },
   {
    "duration": 21,
    "start_time": "2021-07-25T08:59:12.470Z"
   },
   {
    "duration": 29,
    "start_time": "2021-07-25T08:59:12.493Z"
   },
   {
    "duration": 15,
    "start_time": "2021-07-25T08:59:12.526Z"
   },
   {
    "duration": 13,
    "start_time": "2021-07-25T08:59:12.544Z"
   },
   {
    "duration": 29,
    "start_time": "2021-07-25T08:59:12.559Z"
   },
   {
    "duration": 22,
    "start_time": "2021-07-25T08:59:12.591Z"
   },
   {
    "duration": 14,
    "start_time": "2021-07-25T08:59:12.616Z"
   },
   {
    "duration": 16,
    "start_time": "2021-07-25T08:59:12.632Z"
   },
   {
    "duration": 45,
    "start_time": "2021-07-25T08:59:12.650Z"
   },
   {
    "duration": 11,
    "start_time": "2021-07-25T08:59:12.698Z"
   },
   {
    "duration": 26,
    "start_time": "2021-07-25T08:59:12.712Z"
   },
   {
    "duration": 21,
    "start_time": "2021-07-25T08:59:12.740Z"
   },
   {
    "duration": 26,
    "start_time": "2021-07-25T08:59:12.763Z"
   },
   {
    "duration": 12,
    "start_time": "2021-07-25T08:59:12.791Z"
   },
   {
    "duration": 22,
    "start_time": "2021-07-25T08:59:12.805Z"
   },
   {
    "duration": 24,
    "start_time": "2021-07-25T08:59:12.829Z"
   },
   {
    "duration": 50,
    "start_time": "2021-07-25T08:59:12.856Z"
   },
   {
    "duration": 32,
    "start_time": "2021-07-25T08:59:12.911Z"
   },
   {
    "duration": 62,
    "start_time": "2021-07-25T08:59:12.946Z"
   },
   {
    "duration": 98,
    "start_time": "2021-07-25T08:59:13.010Z"
   },
   {
    "duration": -404,
    "start_time": "2021-07-25T08:59:13.514Z"
   },
   {
    "duration": -415,
    "start_time": "2021-07-25T08:59:13.527Z"
   },
   {
    "duration": -417,
    "start_time": "2021-07-25T08:59:13.530Z"
   },
   {
    "duration": -422,
    "start_time": "2021-07-25T08:59:13.536Z"
   },
   {
    "duration": -428,
    "start_time": "2021-07-25T08:59:13.544Z"
   },
   {
    "duration": -438,
    "start_time": "2021-07-25T08:59:13.555Z"
   },
   {
    "duration": -438,
    "start_time": "2021-07-25T08:59:13.557Z"
   },
   {
    "duration": -442,
    "start_time": "2021-07-25T08:59:13.562Z"
   },
   {
    "duration": -444,
    "start_time": "2021-07-25T08:59:13.565Z"
   },
   {
    "duration": -455,
    "start_time": "2021-07-25T08:59:13.578Z"
   },
   {
    "duration": -459,
    "start_time": "2021-07-25T08:59:13.583Z"
   },
   {
    "duration": -460,
    "start_time": "2021-07-25T08:59:13.586Z"
   },
   {
    "duration": -465,
    "start_time": "2021-07-25T08:59:13.592Z"
   },
   {
    "duration": -472,
    "start_time": "2021-07-25T08:59:13.600Z"
   },
   {
    "duration": -477,
    "start_time": "2021-07-25T08:59:13.607Z"
   },
   {
    "duration": -483,
    "start_time": "2021-07-25T08:59:13.614Z"
   },
   {
    "duration": -489,
    "start_time": "2021-07-25T08:59:13.621Z"
   },
   {
    "duration": -488,
    "start_time": "2021-07-25T08:59:13.622Z"
   },
   {
    "duration": -488,
    "start_time": "2021-07-25T08:59:13.623Z"
   },
   {
    "duration": -487,
    "start_time": "2021-07-25T08:59:13.624Z"
   },
   {
    "duration": -488,
    "start_time": "2021-07-25T08:59:13.626Z"
   },
   {
    "duration": -494,
    "start_time": "2021-07-25T08:59:13.634Z"
   },
   {
    "duration": -500,
    "start_time": "2021-07-25T08:59:13.641Z"
   },
   {
    "duration": -501,
    "start_time": "2021-07-25T08:59:13.643Z"
   },
   {
    "duration": 143,
    "start_time": "2021-07-25T09:00:06.127Z"
   },
   {
    "duration": 23,
    "start_time": "2021-07-25T09:00:25.327Z"
   },
   {
    "duration": 22,
    "start_time": "2021-07-25T09:01:12.558Z"
   },
   {
    "duration": 25,
    "start_time": "2021-07-25T09:01:25.821Z"
   },
   {
    "duration": 22,
    "start_time": "2021-07-25T09:01:37.605Z"
   },
   {
    "duration": 31,
    "start_time": "2021-07-25T09:02:42.420Z"
   },
   {
    "duration": 31,
    "start_time": "2021-07-25T09:02:53.260Z"
   },
   {
    "duration": 30,
    "start_time": "2021-07-25T09:03:20.740Z"
   },
   {
    "duration": 31,
    "start_time": "2021-07-25T09:03:31.836Z"
   },
   {
    "duration": 31,
    "start_time": "2021-07-25T09:04:02.595Z"
   },
   {
    "duration": 31,
    "start_time": "2021-07-25T09:04:09.395Z"
   },
   {
    "duration": 38,
    "start_time": "2021-07-25T09:05:08.778Z"
   },
   {
    "duration": 25,
    "start_time": "2021-07-25T09:06:16.778Z"
   },
   {
    "duration": 484,
    "start_time": "2021-07-25T09:07:34.006Z"
   },
   {
    "duration": 325,
    "start_time": "2021-07-25T09:07:48.544Z"
   },
   {
    "duration": 326,
    "start_time": "2021-07-25T09:08:14.904Z"
   },
   {
    "duration": 314,
    "start_time": "2021-07-25T09:08:48.052Z"
   },
   {
    "duration": 823,
    "start_time": "2021-07-25T09:09:10.153Z"
   },
   {
    "duration": 256,
    "start_time": "2021-07-25T09:09:23.854Z"
   },
   {
    "duration": 49,
    "start_time": "2021-07-25T09:09:36.945Z"
   },
   {
    "duration": 243,
    "start_time": "2021-07-25T09:09:59.783Z"
   },
   {
    "duration": 79,
    "start_time": "2021-07-25T09:12:49.608Z"
   },
   {
    "duration": 78,
    "start_time": "2021-07-25T09:13:03.244Z"
   },
   {
    "duration": 76,
    "start_time": "2021-07-25T09:13:07.948Z"
   },
   {
    "duration": 29,
    "start_time": "2021-07-25T09:15:26.034Z"
   },
   {
    "duration": 221,
    "start_time": "2021-07-25T09:23:25.017Z"
   },
   {
    "duration": 159,
    "start_time": "2021-07-25T09:24:14.751Z"
   },
   {
    "duration": 25,
    "start_time": "2021-07-25T09:27:44.352Z"
   },
   {
    "duration": 23,
    "start_time": "2021-07-25T09:27:50.111Z"
   },
   {
    "duration": 25,
    "start_time": "2021-07-25T09:28:59.894Z"
   },
   {
    "duration": 675,
    "start_time": "2021-07-25T09:29:31.870Z"
   },
   {
    "duration": 42,
    "start_time": "2021-07-25T09:38:02.413Z"
   },
   {
    "duration": 77,
    "start_time": "2021-07-25T09:38:36.630Z"
   },
   {
    "duration": 85,
    "start_time": "2021-07-25T09:38:36.894Z"
   },
   {
    "duration": 344,
    "start_time": "2021-07-25T09:39:09.902Z"
   },
   {
    "duration": 60,
    "start_time": "2021-07-25T09:40:12.725Z"
   },
   {
    "duration": 63,
    "start_time": "2021-07-25T09:40:20.533Z"
   },
   {
    "duration": 67,
    "start_time": "2021-07-25T09:40:34.108Z"
   },
   {
    "duration": 96,
    "start_time": "2021-07-25T09:41:57.939Z"
   },
   {
    "duration": 82,
    "start_time": "2021-07-25T09:41:58.138Z"
   },
   {
    "duration": 83,
    "start_time": "2021-07-25T09:42:14.362Z"
   },
   {
    "duration": 92,
    "start_time": "2021-07-25T09:42:37.078Z"
   },
   {
    "duration": 311,
    "start_time": "2021-07-25T09:51:26.422Z"
   },
   {
    "duration": 311,
    "start_time": "2021-07-25T09:53:29.093Z"
   },
   {
    "duration": 325,
    "start_time": "2021-07-25T09:54:22.953Z"
   },
   {
    "duration": 330,
    "start_time": "2021-07-25T09:55:40.312Z"
   },
   {
    "duration": 348,
    "start_time": "2021-07-25T09:56:01.080Z"
   },
   {
    "duration": 317,
    "start_time": "2021-07-25T09:57:12.430Z"
   },
   {
    "duration": 342,
    "start_time": "2021-07-25T09:59:27.388Z"
   },
   {
    "duration": 405,
    "start_time": "2021-07-25T09:59:51.079Z"
   },
   {
    "duration": 331,
    "start_time": "2021-07-25T10:00:43.907Z"
   },
   {
    "duration": 328,
    "start_time": "2021-07-25T10:01:26.243Z"
   },
   {
    "duration": 343,
    "start_time": "2021-07-25T10:02:06.673Z"
   },
   {
    "duration": 346,
    "start_time": "2021-07-25T10:02:18.898Z"
   },
   {
    "duration": 366,
    "start_time": "2021-07-25T10:02:51.650Z"
   },
   {
    "duration": 324,
    "start_time": "2021-07-25T10:02:58.449Z"
   },
   {
    "duration": 439,
    "start_time": "2021-07-25T10:05:43.840Z"
   },
   {
    "duration": 417,
    "start_time": "2021-07-25T10:06:22.556Z"
   },
   {
    "duration": 37,
    "start_time": "2021-07-25T10:06:55.392Z"
   },
   {
    "duration": 470,
    "start_time": "2021-07-25T10:08:17.725Z"
   },
   {
    "duration": 312,
    "start_time": "2021-07-25T10:13:05.737Z"
   },
   {
    "duration": 27,
    "start_time": "2021-07-25T10:13:16.080Z"
   },
   {
    "duration": 329,
    "start_time": "2021-07-25T10:13:35.333Z"
   },
   {
    "duration": 25,
    "start_time": "2021-07-25T10:16:49.131Z"
   },
   {
    "duration": 25,
    "start_time": "2021-07-25T10:17:40.835Z"
   },
   {
    "duration": 24,
    "start_time": "2021-07-25T10:18:28.235Z"
   },
   {
    "duration": 23,
    "start_time": "2021-07-25T10:19:11.075Z"
   },
   {
    "duration": 24,
    "start_time": "2021-07-25T10:19:23.322Z"
   },
   {
    "duration": 28,
    "start_time": "2021-07-25T10:21:20.681Z"
   },
   {
    "duration": 28,
    "start_time": "2021-07-25T10:21:48.489Z"
   },
   {
    "duration": 10,
    "start_time": "2021-07-25T10:22:33.879Z"
   },
   {
    "duration": 9,
    "start_time": "2021-07-25T10:22:34.303Z"
   },
   {
    "duration": 20,
    "start_time": "2021-07-25T10:22:34.703Z"
   },
   {
    "duration": 11,
    "start_time": "2021-07-25T10:22:34.886Z"
   },
   {
    "duration": 25,
    "start_time": "2021-07-25T10:22:35.415Z"
   },
   {
    "duration": 8,
    "start_time": "2021-07-25T10:22:35.839Z"
   },
   {
    "duration": 25,
    "start_time": "2021-07-25T10:22:36.567Z"
   },
   {
    "duration": 31,
    "start_time": "2021-07-25T10:24:05.716Z"
   },
   {
    "duration": 21,
    "start_time": "2021-07-25T10:24:49.870Z"
   },
   {
    "duration": 35,
    "start_time": "2021-07-25T10:26:19.992Z"
   },
   {
    "duration": 19,
    "start_time": "2021-07-25T10:28:20.609Z"
   },
   {
    "duration": 35,
    "start_time": "2021-07-25T10:29:14.386Z"
   },
   {
    "duration": 28,
    "start_time": "2021-07-25T10:29:25.505Z"
   },
   {
    "duration": 316,
    "start_time": "2021-07-25T10:31:34.307Z"
   },
   {
    "duration": 349,
    "start_time": "2021-07-25T10:31:48.936Z"
   },
   {
    "duration": 324,
    "start_time": "2021-07-25T10:32:26.727Z"
   },
   {
    "duration": 345,
    "start_time": "2021-07-25T10:33:01.367Z"
   },
   {
    "duration": 324,
    "start_time": "2021-07-25T10:33:31.222Z"
   },
   {
    "duration": 328,
    "start_time": "2021-07-25T10:33:59.390Z"
   },
   {
    "duration": 334,
    "start_time": "2021-07-25T10:34:22.287Z"
   },
   {
    "duration": 353,
    "start_time": "2021-07-25T10:34:40.381Z"
   },
   {
    "duration": 19,
    "start_time": "2021-07-25T10:34:52.669Z"
   },
   {
    "duration": 20,
    "start_time": "2021-07-25T10:35:19.362Z"
   },
   {
    "duration": 20,
    "start_time": "2021-07-25T10:36:03.076Z"
   },
   {
    "duration": 21,
    "start_time": "2021-07-25T10:36:59.171Z"
   },
   {
    "duration": 24,
    "start_time": "2021-07-25T10:39:39.120Z"
   },
   {
    "duration": 10,
    "start_time": "2021-07-25T13:09:54.842Z"
   },
   {
    "duration": 11,
    "start_time": "2021-07-25T13:09:55.035Z"
   },
   {
    "duration": 13,
    "start_time": "2021-07-25T13:09:55.234Z"
   },
   {
    "duration": 11,
    "start_time": "2021-07-25T13:09:57.794Z"
   },
   {
    "duration": 17,
    "start_time": "2021-07-25T13:09:57.988Z"
   },
   {
    "duration": 31,
    "start_time": "2021-07-25T13:09:58.354Z"
   },
   {
    "duration": 30,
    "start_time": "2021-07-25T13:09:58.610Z"
   },
   {
    "duration": 16,
    "start_time": "2021-07-25T13:10:18.690Z"
   },
   {
    "duration": 32,
    "start_time": "2021-07-25T13:18:18.244Z"
   },
   {
    "duration": 40,
    "start_time": "2021-07-25T13:18:52.483Z"
   },
   {
    "duration": 15,
    "start_time": "2021-07-25T13:19:49.547Z"
   },
   {
    "duration": 20,
    "start_time": "2021-07-25T13:20:17.103Z"
   },
   {
    "duration": 83,
    "start_time": "2021-07-25T13:26:43.704Z"
   },
   {
    "duration": 346,
    "start_time": "2021-07-25T13:35:58.624Z"
   },
   {
    "duration": 325,
    "start_time": "2021-07-25T13:36:19.829Z"
   },
   {
    "duration": 83,
    "start_time": "2021-07-25T13:36:34.061Z"
   },
   {
    "duration": 28,
    "start_time": "2021-07-25T13:36:42.349Z"
   },
   {
    "duration": 28,
    "start_time": "2021-07-25T13:36:48.068Z"
   },
   {
    "duration": 33,
    "start_time": "2021-07-25T13:36:54.924Z"
   },
   {
    "duration": 35,
    "start_time": "2021-07-25T13:37:12.052Z"
   },
   {
    "duration": 329,
    "start_time": "2021-07-25T13:37:57.268Z"
   },
   {
    "duration": 36,
    "start_time": "2021-07-25T13:38:39.235Z"
   },
   {
    "duration": 311,
    "start_time": "2021-07-25T13:40:04.968Z"
   },
   {
    "duration": 36,
    "start_time": "2021-07-25T13:40:28.818Z"
   },
   {
    "duration": 329,
    "start_time": "2021-07-25T13:40:47.694Z"
   },
   {
    "duration": 32,
    "start_time": "2021-07-25T13:41:14.417Z"
   },
   {
    "duration": 33,
    "start_time": "2021-07-25T13:41:43.984Z"
   },
   {
    "duration": 29,
    "start_time": "2021-07-25T13:43:49.607Z"
   },
   {
    "duration": 328,
    "start_time": "2021-07-25T13:45:11.457Z"
   },
   {
    "duration": 28,
    "start_time": "2021-07-25T13:45:22.776Z"
   },
   {
    "duration": 29,
    "start_time": "2021-07-25T13:46:22.236Z"
   },
   {
    "duration": 326,
    "start_time": "2021-07-25T13:46:40.668Z"
   },
   {
    "duration": 37,
    "start_time": "2021-07-25T13:47:00.197Z"
   },
   {
    "duration": 26,
    "start_time": "2021-07-25T13:49:43.913Z"
   },
   {
    "duration": 324,
    "start_time": "2021-07-25T13:49:56.314Z"
   },
   {
    "duration": 21,
    "start_time": "2021-07-25T13:50:08.170Z"
   },
   {
    "duration": 343,
    "start_time": "2021-07-25T13:50:52.065Z"
   },
   {
    "duration": 24,
    "start_time": "2021-07-25T13:51:06.321Z"
   },
   {
    "duration": 24,
    "start_time": "2021-07-25T13:51:12.880Z"
   },
   {
    "duration": 13,
    "start_time": "2021-07-25T13:52:39.313Z"
   },
   {
    "duration": 24,
    "start_time": "2021-07-25T13:52:39.502Z"
   },
   {
    "duration": 29,
    "start_time": "2021-07-25T13:52:39.911Z"
   },
   {
    "duration": 10,
    "start_time": "2021-07-25T13:52:40.470Z"
   },
   {
    "duration": 40,
    "start_time": "2021-07-25T13:53:09.191Z"
   },
   {
    "duration": 65,
    "start_time": "2021-07-25T13:53:41.543Z"
   },
   {
    "duration": 29,
    "start_time": "2021-07-25T13:53:53.494Z"
   },
   {
    "duration": 23,
    "start_time": "2021-07-25T13:55:21.773Z"
   },
   {
    "duration": 20,
    "start_time": "2021-07-25T13:55:47.602Z"
   },
   {
    "duration": 56,
    "start_time": "2021-07-25T13:55:54.852Z"
   },
   {
    "duration": 329,
    "start_time": "2021-07-25T13:57:12.051Z"
   },
   {
    "duration": 38,
    "start_time": "2021-07-25T13:57:48.228Z"
   },
   {
    "duration": 309,
    "start_time": "2021-07-25T13:59:41.164Z"
   },
   {
    "duration": 350,
    "start_time": "2021-07-25T14:00:18.881Z"
   },
   {
    "duration": 29,
    "start_time": "2021-07-25T14:00:45.593Z"
   },
   {
    "duration": 321,
    "start_time": "2021-07-25T14:01:35.341Z"
   },
   {
    "duration": 24,
    "start_time": "2021-07-25T14:02:06.319Z"
   },
   {
    "duration": 323,
    "start_time": "2021-07-25T14:02:22.735Z"
   },
   {
    "duration": 24,
    "start_time": "2021-07-25T14:02:52.574Z"
   },
   {
    "duration": 22,
    "start_time": "2021-07-25T14:03:15.671Z"
   },
   {
    "duration": 25,
    "start_time": "2021-07-25T14:03:39.694Z"
   },
   {
    "duration": 23,
    "start_time": "2021-07-25T14:03:55.301Z"
   },
   {
    "duration": 24,
    "start_time": "2021-07-25T14:04:25.685Z"
   },
   {
    "duration": 27,
    "start_time": "2021-07-25T14:05:47.112Z"
   },
   {
    "duration": 116,
    "start_time": "2021-07-25T14:06:21.387Z"
   },
   {
    "duration": 26,
    "start_time": "2021-07-25T14:07:16.999Z"
   },
   {
    "duration": 20,
    "start_time": "2021-07-25T14:08:57.441Z"
   },
   {
    "duration": 11,
    "start_time": "2021-07-25T14:09:14.730Z"
   },
   {
    "duration": 325,
    "start_time": "2021-07-25T14:17:39.532Z"
   },
   {
    "duration": 19,
    "start_time": "2021-07-25T14:18:02.007Z"
   },
   {
    "duration": 985,
    "start_time": "2021-07-25T14:20:09.862Z"
   },
   {
    "duration": 40,
    "start_time": "2021-07-25T14:20:14.381Z"
   },
   {
    "duration": 11,
    "start_time": "2021-07-25T14:20:14.789Z"
   },
   {
    "duration": 13,
    "start_time": "2021-07-25T14:20:14.973Z"
   },
   {
    "duration": 28,
    "start_time": "2021-07-25T14:20:15.135Z"
   },
   {
    "duration": 18,
    "start_time": "2021-07-25T14:20:15.317Z"
   },
   {
    "duration": 31,
    "start_time": "2021-07-25T14:20:15.893Z"
   },
   {
    "duration": 10,
    "start_time": "2021-07-25T14:20:16.085Z"
   },
   {
    "duration": 6,
    "start_time": "2021-07-25T14:20:16.253Z"
   },
   {
    "duration": 6,
    "start_time": "2021-07-25T14:20:16.421Z"
   },
   {
    "duration": 17,
    "start_time": "2021-07-25T14:20:16.926Z"
   },
   {
    "duration": 14,
    "start_time": "2021-07-25T14:20:17.973Z"
   },
   {
    "duration": 17,
    "start_time": "2021-07-25T14:20:18.780Z"
   },
   {
    "duration": 8,
    "start_time": "2021-07-25T14:20:18.965Z"
   },
   {
    "duration": 11,
    "start_time": "2021-07-25T14:20:19.141Z"
   },
   {
    "duration": 14,
    "start_time": "2021-07-25T14:20:19.342Z"
   },
   {
    "duration": 8,
    "start_time": "2021-07-25T14:20:19.525Z"
   },
   {
    "duration": 12,
    "start_time": "2021-07-25T14:20:19.709Z"
   },
   {
    "duration": 9,
    "start_time": "2021-07-25T14:20:19.869Z"
   },
   {
    "duration": 23,
    "start_time": "2021-07-25T14:20:20.037Z"
   },
   {
    "duration": 25,
    "start_time": "2021-07-25T14:20:20.213Z"
   },
   {
    "duration": 22,
    "start_time": "2021-07-25T14:20:20.389Z"
   },
   {
    "duration": 31,
    "start_time": "2021-07-25T14:20:20.574Z"
   },
   {
    "duration": 29,
    "start_time": "2021-07-25T14:20:20.773Z"
   },
   {
    "duration": 29,
    "start_time": "2021-07-25T14:20:21.349Z"
   },
   {
    "duration": 30,
    "start_time": "2021-07-25T14:20:21.573Z"
   },
   {
    "duration": 78,
    "start_time": "2021-07-25T14:20:21.757Z"
   },
   {
    "duration": 28,
    "start_time": "2021-07-25T14:20:21.973Z"
   },
   {
    "duration": 9,
    "start_time": "2021-07-25T14:20:22.940Z"
   },
   {
    "duration": 7,
    "start_time": "2021-07-25T14:20:23.109Z"
   },
   {
    "duration": 21,
    "start_time": "2021-07-25T14:20:23.293Z"
   },
   {
    "duration": 9,
    "start_time": "2021-07-25T14:20:23.445Z"
   },
   {
    "duration": 26,
    "start_time": "2021-07-25T14:20:23.645Z"
   },
   {
    "duration": 27,
    "start_time": "2021-07-25T14:20:23.845Z"
   },
   {
    "duration": 26,
    "start_time": "2021-07-25T14:20:24.029Z"
   },
   {
    "duration": 33,
    "start_time": "2021-07-25T14:20:24.373Z"
   },
   {
    "duration": 18,
    "start_time": "2021-07-25T14:20:24.557Z"
   },
   {
    "duration": 33,
    "start_time": "2021-07-25T14:20:24.725Z"
   },
   {
    "duration": 20,
    "start_time": "2021-07-25T14:20:24.909Z"
   },
   {
    "duration": 132,
    "start_time": "2021-07-25T14:20:25.094Z"
   },
   {
    "duration": 9,
    "start_time": "2021-07-25T14:20:29.645Z"
   },
   {
    "duration": 8,
    "start_time": "2021-07-25T14:20:29.813Z"
   },
   {
    "duration": 13,
    "start_time": "2021-07-25T14:20:29.989Z"
   },
   {
    "duration": 10,
    "start_time": "2021-07-25T14:20:30.158Z"
   },
   {
    "duration": 16,
    "start_time": "2021-07-25T14:20:30.333Z"
   },
   {
    "duration": 30,
    "start_time": "2021-07-25T14:20:30.493Z"
   },
   {
    "duration": 30,
    "start_time": "2021-07-25T14:20:30.661Z"
   },
   {
    "duration": 17,
    "start_time": "2021-07-25T14:20:30.837Z"
   },
   {
    "duration": 34,
    "start_time": "2021-07-25T14:20:31.173Z"
   },
   {
    "duration": 39,
    "start_time": "2021-07-25T14:20:31.333Z"
   },
   {
    "duration": 19,
    "start_time": "2021-07-25T14:20:31.485Z"
   },
   {
    "duration": 23,
    "start_time": "2021-07-25T14:20:31.669Z"
   },
   {
    "duration": 12,
    "start_time": "2021-07-25T14:20:32.204Z"
   },
   {
    "duration": 23,
    "start_time": "2021-07-25T14:20:32.373Z"
   },
   {
    "duration": 27,
    "start_time": "2021-07-25T14:20:32.549Z"
   },
   {
    "duration": 9,
    "start_time": "2021-07-25T14:20:32.733Z"
   },
   {
    "duration": 39,
    "start_time": "2021-07-25T14:20:33.092Z"
   },
   {
    "duration": 29,
    "start_time": "2021-07-25T14:20:33.277Z"
   },
   {
    "duration": 56,
    "start_time": "2021-07-25T14:20:33.470Z"
   },
   {
    "duration": 19,
    "start_time": "2021-07-25T14:20:33.670Z"
   },
   {
    "duration": 18,
    "start_time": "2021-07-25T14:20:34.117Z"
   },
   {
    "duration": 115,
    "start_time": "2021-07-25T14:20:34.869Z"
   },
   {
    "duration": 20,
    "start_time": "2021-07-25T14:22:03.417Z"
   },
   {
    "duration": 30,
    "start_time": "2021-07-25T14:49:40.656Z"
   },
   {
    "duration": 19,
    "start_time": "2021-07-25T14:50:44.797Z"
   },
   {
    "duration": 21,
    "start_time": "2021-07-25T14:50:45.169Z"
   },
   {
    "duration": 37,
    "start_time": "2021-07-25T14:50:45.497Z"
   },
   {
    "duration": 27,
    "start_time": "2021-07-25T14:50:45.945Z"
   },
   {
    "duration": 15,
    "start_time": "2021-07-25T15:02:26.864Z"
   },
   {
    "duration": 28,
    "start_time": "2021-07-25T15:04:01.780Z"
   },
   {
    "duration": 21,
    "start_time": "2021-07-25T15:06:23.722Z"
   },
   {
    "duration": 24,
    "start_time": "2021-07-25T15:09:21.196Z"
   },
   {
    "duration": 860,
    "start_time": "2021-07-25T15:18:45.321Z"
   },
   {
    "duration": 63,
    "start_time": "2021-07-25T15:18:46.183Z"
   },
   {
    "duration": 21,
    "start_time": "2021-07-25T15:18:46.250Z"
   },
   {
    "duration": 20,
    "start_time": "2021-07-25T15:18:46.274Z"
   },
   {
    "duration": 40,
    "start_time": "2021-07-25T15:18:46.296Z"
   },
   {
    "duration": 50,
    "start_time": "2021-07-25T15:18:46.339Z"
   },
   {
    "duration": 15,
    "start_time": "2021-07-25T15:18:46.391Z"
   },
   {
    "duration": 26,
    "start_time": "2021-07-25T15:18:46.410Z"
   },
   {
    "duration": 21,
    "start_time": "2021-07-25T15:18:46.439Z"
   },
   {
    "duration": 44,
    "start_time": "2021-07-25T15:18:46.463Z"
   },
   {
    "duration": 24,
    "start_time": "2021-07-25T15:18:46.509Z"
   },
   {
    "duration": 880,
    "start_time": "2021-08-03T20:14:02.667Z"
   },
   {
    "duration": 266,
    "start_time": "2021-08-03T20:14:03.550Z"
   },
   {
    "duration": 69,
    "start_time": "2021-08-03T20:14:03.819Z"
   },
   {
    "duration": 68,
    "start_time": "2021-08-03T20:14:03.891Z"
   },
   {
    "duration": 97,
    "start_time": "2021-08-03T20:14:03.962Z"
   },
   {
    "duration": 86,
    "start_time": "2021-08-03T20:14:04.063Z"
   },
   {
    "duration": 64,
    "start_time": "2021-08-03T20:14:04.152Z"
   },
   {
    "duration": 78,
    "start_time": "2021-08-03T20:14:04.219Z"
   },
   {
    "duration": 70,
    "start_time": "2021-08-03T20:14:04.300Z"
   },
   {
    "duration": 73,
    "start_time": "2021-08-03T20:14:04.373Z"
   },
   {
    "duration": 69,
    "start_time": "2021-08-03T20:14:04.448Z"
   },
   {
    "duration": 75,
    "start_time": "2021-08-03T20:17:42.892Z"
   },
   {
    "duration": 66,
    "start_time": "2021-08-03T20:19:22.185Z"
   },
   {
    "duration": 295,
    "start_time": "2021-08-04T10:40:09.131Z"
   },
   {
    "duration": 627,
    "start_time": "2021-08-04T11:31:32.058Z"
   },
   {
    "duration": 292,
    "start_time": "2021-08-04T11:31:32.687Z"
   },
   {
    "duration": 76,
    "start_time": "2021-08-04T11:31:32.981Z"
   },
   {
    "duration": 74,
    "start_time": "2021-08-04T11:31:33.059Z"
   },
   {
    "duration": 106,
    "start_time": "2021-08-04T11:31:33.134Z"
   },
   {
    "duration": 91,
    "start_time": "2021-08-04T11:31:33.242Z"
   },
   {
    "duration": 72,
    "start_time": "2021-08-04T11:31:33.335Z"
   },
   {
    "duration": 83,
    "start_time": "2021-08-04T11:31:33.409Z"
   },
   {
    "duration": 80,
    "start_time": "2021-08-04T11:31:33.494Z"
   },
   {
    "duration": 74,
    "start_time": "2021-08-04T11:31:33.575Z"
   },
   {
    "duration": 79,
    "start_time": "2021-08-04T11:31:33.651Z"
   },
   {
    "duration": 77,
    "start_time": "2021-08-04T11:31:33.731Z"
   },
   {
    "duration": 74,
    "start_time": "2021-08-04T11:31:33.810Z"
   },
   {
    "duration": 102,
    "start_time": "2021-08-04T11:32:17.272Z"
   },
   {
    "duration": 609,
    "start_time": "2021-08-04T11:41:15.373Z"
   },
   {
    "duration": 301,
    "start_time": "2021-08-04T11:41:15.984Z"
   },
   {
    "duration": 75,
    "start_time": "2021-08-04T11:41:16.287Z"
   },
   {
    "duration": 77,
    "start_time": "2021-08-04T11:41:16.364Z"
   },
   {
    "duration": 97,
    "start_time": "2021-08-04T11:41:16.443Z"
   },
   {
    "duration": 92,
    "start_time": "2021-08-04T11:41:16.542Z"
   },
   {
    "duration": 72,
    "start_time": "2021-08-04T11:41:16.636Z"
   },
   {
    "duration": 84,
    "start_time": "2021-08-04T11:41:16.710Z"
   },
   {
    "duration": 76,
    "start_time": "2021-08-04T11:41:16.796Z"
   },
   {
    "duration": 79,
    "start_time": "2021-08-04T11:41:16.874Z"
   },
   {
    "duration": 81,
    "start_time": "2021-08-04T11:41:16.955Z"
   },
   {
    "duration": 77,
    "start_time": "2021-08-04T11:41:17.038Z"
   }
  ],
  "kernelspec": {
   "display_name": "Python 3",
   "language": "python",
   "name": "python3"
  },
  "language_info": {
   "codemirror_mode": {
    "name": "ipython",
    "version": 3
   },
   "file_extension": ".py",
   "mimetype": "text/x-python",
   "name": "python",
   "nbconvert_exporter": "python",
   "pygments_lexer": "ipython3",
   "version": "3.8.5"
  },
  "toc": {
   "base_numbering": 1,
   "nav_menu": {},
   "number_sections": true,
   "sideBar": true,
   "skip_h1_title": true,
   "title_cell": "Table of Contents",
   "title_sidebar": "Contents",
   "toc_cell": false,
   "toc_position": {},
   "toc_section_display": true,
   "toc_window_display": false
  }
 },
 "nbformat": 4,
 "nbformat_minor": 2
}
